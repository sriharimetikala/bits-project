{
  "nbformat": 4,
  "nbformat_minor": 0,
  "metadata": {
    "accelerator": "TPU",
    "colab": {
      "name": "Multiclass_BERT.ipynb",
      "provenance": [],
      "collapsed_sections": []
    },
    "kernelspec": {
      "display_name": "Python 3",
      "name": "python3"
    }
  },
  "cells": [
    {
      "cell_type": "markdown",
      "metadata": {
        "id": "view-in-github"
      },
      "source": [
        "<a href=\"https://colab.research.google.com/github/jiya07/Multiclass-Sentiment-Classification-Using-BERT/blob/main/Multiclass_BERT.ipynb\" target=\"_parent\"><img src=\"https://colab.research.google.com/assets/colab-badge.svg\" alt=\"Open In Colab\"/></a>"
      ]
    },
    {
      "cell_type": "markdown",
      "metadata": {
        "id": "6qLOehlFlElk"
      },
      "source": [
        "The multiclass sentiment analysis of consumer reviews from mouthshut.com is done using Bidirectional Encoder Representations from Transformers or **BERT** which is a very popular approach in todays world. "
      ]
    },
    {
      "cell_type": "code",
      "metadata": {
        "colab": {
          "base_uri": "https://localhost:8080/"
        },
        "id": "80bvuwoz-Dno",
        "outputId": "437d171c-7b18-4cfd-d843-95f248465605"
      },
      "source": [
        "%tensorflow_version 1.x"
      ],
      "execution_count": null,
      "outputs": [
        {
          "output_type": "stream",
          "text": [
            "TensorFlow 1.x selected.\n"
          ],
          "name": "stdout"
        }
      ]
    },
    {
      "cell_type": "code",
      "metadata": {
        "colab": {
          "base_uri": "https://localhost:8080/"
        },
        "id": "csN0V7dGsSHs",
        "outputId": "9ff20851-8c1a-457b-d228-b6bf73d5ecd4"
      },
      "source": [
        "import tensorflow as tf\n",
        "import tensorflow_hub as hub\n",
        "from datetime import datetime\n",
        "from sklearn.model_selection import train_test_split\n",
        "import os\n",
        "\n",
        "print(\"tensorflow version : \", tf.__version__)\n",
        "print(\"tensorflow_hub version : \", hub.__version__)"
      ],
      "execution_count": null,
      "outputs": [
        {
          "output_type": "stream",
          "text": [
            "tensorflow version :  1.15.2\n",
            "tensorflow_hub version :  0.12.0\n"
          ],
          "name": "stdout"
        }
      ]
    },
    {
      "cell_type": "code",
      "metadata": {
        "colab": {
          "base_uri": "https://localhost:8080/"
        },
        "id": "d6urCcGyw1b0",
        "outputId": "97c8bfd4-1ad0-423a-84f8-ff2ee9139bc3"
      },
      "source": [
        "!pip install bert-tensorflow==1.0.1\n",
        "#!pip install bert-tensorflow"
      ],
      "execution_count": null,
      "outputs": [
        {
          "output_type": "stream",
          "text": [
            "Collecting bert-tensorflow==1.0.1\n",
            "  Downloading bert_tensorflow-1.0.1-py2.py3-none-any.whl (67 kB)\n",
            "\u001b[?25l\r\u001b[K     |████▉                           | 10 kB 23.0 MB/s eta 0:00:01\r\u001b[K     |█████████▊                      | 20 kB 27.0 MB/s eta 0:00:01\r\u001b[K     |██████████████▋                 | 30 kB 13.4 MB/s eta 0:00:01\r\u001b[K     |███████████████████▍            | 40 kB 9.8 MB/s eta 0:00:01\r\u001b[K     |████████████████████████▎       | 51 kB 5.5 MB/s eta 0:00:01\r\u001b[K     |█████████████████████████████▏  | 61 kB 6.0 MB/s eta 0:00:01\r\u001b[K     |████████████████████████████████| 67 kB 2.9 MB/s \n",
            "\u001b[?25hRequirement already satisfied: six in /usr/local/lib/python3.7/dist-packages (from bert-tensorflow==1.0.1) (1.15.0)\n",
            "Installing collected packages: bert-tensorflow\n",
            "Successfully installed bert-tensorflow-1.0.1\n"
          ],
          "name": "stdout"
        }
      ]
    },
    {
      "cell_type": "code",
      "metadata": {
        "colab": {
          "base_uri": "https://localhost:8080/"
        },
        "id": "1jf_74PdshRV",
        "outputId": "b9ca01fe-86d0-404d-e305-6290e4f21d75"
      },
      "source": [
        "import bert\n",
        "from bert import run_classifier\n",
        "from bert import optimization\n",
        "from bert import tokenization"
      ],
      "execution_count": null,
      "outputs": [
        {
          "output_type": "stream",
          "text": [
            "WARNING:tensorflow:From /usr/local/lib/python3.7/dist-packages/bert/optimization.py:87: The name tf.train.Optimizer is deprecated. Please use tf.compat.v1.train.Optimizer instead.\n",
            "\n"
          ],
          "name": "stdout"
        }
      ]
    },
    {
      "cell_type": "code",
      "metadata": {
        "id": "vYiTif8_JgGf"
      },
      "source": [
        "import numpy as np\n",
        "import pandas as pd\n",
        "from sklearn.preprocessing import LabelEncoder\n",
        "from sklearn.model_selection import train_test_split"
      ],
      "execution_count": null,
      "outputs": []
    },
    {
      "cell_type": "code",
      "metadata": {
        "colab": {
          "base_uri": "https://localhost:8080/"
        },
        "id": "YqrSS8GqOiD4",
        "outputId": "54f14580-169d-40d1-ea7f-8a90b97c2082"
      },
      "source": [
        "#!pip install -U -q PyDrive\n",
        "#from pydrive.auth import GoogleAuth\n",
        "#from pydrive.drive import GoogleDrive\n",
        "#from google.colab import auth\n",
        "#from google.colab import files\n",
        "#from oauth2client.client import GoogleCredentials\n",
        "#from google.colab import files\n",
        "#\n",
        "#auth.authenticate_user()\n",
        "#gauth = GoogleAuth()\n",
        "#gauth.credentials = GoogleCredentials.get_application_default()\n",
        "#drive = GoogleDrive(gauth)\n",
        "#fileDownloaded = drive.CreateFile({'id':'19RhXfgmmMKruWpPEgAImsXb-efImC1C9'})\n",
        "#fileDownloaded.GetContentFile('df_reviews.csv')\n",
        "#fileDownloaded1 = drive.CreateFile({'id':'1kF8T2g8rHvPrDUZK53pK2u8U4tPVCK_u'})\n",
        "#fileDownloaded1.GetContentFile('df_site_reviews.csv')\n",
        "\n",
        "!wget -O df_reviews.csv 'https://github.com/sriharimetikala/bits-project/blob/main/df_reviews.csv'\n",
        "!wget -O df_site_reviews.csv 'https://github.com/sriharimetikala/bits-project/blob/main/df_site_reviews.csv'"
      ],
      "execution_count": null,
      "outputs": [
        {
          "output_type": "stream",
          "text": [
            "WARNING:tensorflow:\n",
            "The TensorFlow contrib module will not be included in TensorFlow 2.0.\n",
            "For more information, please see:\n",
            "  * https://github.com/tensorflow/community/blob/master/rfcs/20180907-contrib-sunset.md\n",
            "  * https://github.com/tensorflow/addons\n",
            "  * https://github.com/tensorflow/io (for I/O related ops)\n",
            "If you depend on functionality not listed there, please file an issue.\n",
            "\n"
          ],
          "name": "stdout"
        }
      ]
    },
    {
      "cell_type": "code",
      "metadata": {
        "colab": {
          "base_uri": "https://localhost:8080/",
          "height": 206
        },
        "id": "YlCPRuWnj8S0",
        "outputId": "56ee24b7-b054-4e29-911b-20880cd0791e"
      },
      "source": [
        "df_reviews = pd.read_csv('df_reviews.csv', encoding = \"ISO-8859-1\")\n",
        "df_site_reviews = pd.read_csv('df_site_reviews.csv', encoding = \"ISO-8859-1\")\n",
        "df_reviews=df_reviews.rename(columns={\"reviewId\": \"ReviewId\",\"review_text\":\"Review\",\"rating\":\"Rating\"})\n",
        "df_site_reviews.drop(['Rating'], axis = 1, inplace = True)\n",
        "\n",
        "df = pd.merge(df_site_reviews,df_reviews, on=['ReviewId', 'ReviewId'], how='inner')\n",
        "df.drop(['Recommends','Reviews','title_url','date','views'], axis = 1, inplace = True)\n",
        "df.head()"
      ],
      "execution_count": null,
      "outputs": [
        {
          "output_type": "execute_result",
          "data": {
            "text/html": [
              "<div>\n",
              "<style scoped>\n",
              "    .dataframe tbody tr th:only-of-type {\n",
              "        vertical-align: middle;\n",
              "    }\n",
              "\n",
              "    .dataframe tbody tr th {\n",
              "        vertical-align: top;\n",
              "    }\n",
              "\n",
              "    .dataframe thead th {\n",
              "        text-align: right;\n",
              "    }\n",
              "</style>\n",
              "<table border=\"1\" class=\"dataframe\">\n",
              "  <thead>\n",
              "    <tr style=\"text-align: right;\">\n",
              "      <th></th>\n",
              "      <th>EcommerceSite</th>\n",
              "      <th>ReviewId</th>\n",
              "      <th>title_text</th>\n",
              "      <th>Rating</th>\n",
              "      <th>Review</th>\n",
              "    </tr>\n",
              "  </thead>\n",
              "  <tbody>\n",
              "    <tr>\n",
              "      <th>0</th>\n",
              "      <td>Flipkart.com</td>\n",
              "      <td>925076148</td>\n",
              "      <td>Flipkart not provide service</td>\n",
              "      <td>3</td>\n",
              "      <td>Flipkart not delivered thinks in even smoll to...</td>\n",
              "    </tr>\n",
              "    <tr>\n",
              "      <th>1</th>\n",
              "      <td>Flipkart.com</td>\n",
              "      <td>925076148</td>\n",
              "      <td>Account has not working</td>\n",
              "      <td>3</td>\n",
              "      <td>Dear sirMy account not working please re-activ...</td>\n",
              "    </tr>\n",
              "    <tr>\n",
              "      <th>2</th>\n",
              "      <td>Flipkart.com</td>\n",
              "      <td>925076148</td>\n",
              "      <td>Painted black rice</td>\n",
              "      <td>1</td>\n",
              "      <td>POISON! When I opened the packet there was a s...</td>\n",
              "    </tr>\n",
              "    <tr>\n",
              "      <th>3</th>\n",
              "      <td>Flipkart.com</td>\n",
              "      <td>925076148</td>\n",
              "      <td>Its a Flopkart</td>\n",
              "      <td>1</td>\n",
              "      <td>Mostly you are on luck when you order from Fli...</td>\n",
              "    </tr>\n",
              "    <tr>\n",
              "      <th>4</th>\n",
              "      <td>Flipkart.com</td>\n",
              "      <td>925076148</td>\n",
              "      <td>Flipkart failed to deliver my order</td>\n",
              "      <td>1</td>\n",
              "      <td>Flipkart failed to deliver my order twice and ...</td>\n",
              "    </tr>\n",
              "  </tbody>\n",
              "</table>\n",
              "</div>"
            ],
            "text/plain": [
              "  EcommerceSite  ...                                             Review\n",
              "0  Flipkart.com  ...  Flipkart not delivered thinks in even smoll to...\n",
              "1  Flipkart.com  ...  Dear sirMy account not working please re-activ...\n",
              "2  Flipkart.com  ...  POISON! When I opened the packet there was a s...\n",
              "3  Flipkart.com  ...  Mostly you are on luck when you order from Fli...\n",
              "4  Flipkart.com  ...  Flipkart failed to deliver my order twice and ...\n",
              "\n",
              "[5 rows x 5 columns]"
            ]
          },
          "metadata": {
            "tags": []
          },
          "execution_count": 7
        }
      ]
    },
    {
      "cell_type": "code",
      "metadata": {
        "id": "qHpb3sHNKKUJ"
      },
      "source": [
        "df.dropna(inplace = True)"
      ],
      "execution_count": null,
      "outputs": []
    },
    {
      "cell_type": "code",
      "metadata": {
        "id": "ZHy3T01p0PWS"
      },
      "source": [
        "#Label as 0-Negative, 1-Neutral, 2-Positive\n",
        "df['Label'] = df[\"Rating\"].apply(lambda x: 2 if x>3 else 1 if x==3 else 0)"
      ],
      "execution_count": null,
      "outputs": []
    },
    {
      "cell_type": "code",
      "metadata": {
        "id": "5js_U_L0444y"
      },
      "source": [
        "df.drop('Rating', axis = 1, inplace = True)"
      ],
      "execution_count": null,
      "outputs": []
    },
    {
      "cell_type": "code",
      "metadata": {
        "colab": {
          "base_uri": "https://localhost:8080/",
          "height": 423
        },
        "id": "CbQLoqeTG91o",
        "outputId": "0a6bf8a6-fca7-4095-9062-e8d627c7c968"
      },
      "source": [
        "df"
      ],
      "execution_count": null,
      "outputs": [
        {
          "output_type": "execute_result",
          "data": {
            "text/html": [
              "<div>\n",
              "<style scoped>\n",
              "    .dataframe tbody tr th:only-of-type {\n",
              "        vertical-align: middle;\n",
              "    }\n",
              "\n",
              "    .dataframe tbody tr th {\n",
              "        vertical-align: top;\n",
              "    }\n",
              "\n",
              "    .dataframe thead th {\n",
              "        text-align: right;\n",
              "    }\n",
              "</style>\n",
              "<table border=\"1\" class=\"dataframe\">\n",
              "  <thead>\n",
              "    <tr style=\"text-align: right;\">\n",
              "      <th></th>\n",
              "      <th>EcommerceSite</th>\n",
              "      <th>ReviewId</th>\n",
              "      <th>title_text</th>\n",
              "      <th>Review</th>\n",
              "      <th>Label</th>\n",
              "    </tr>\n",
              "  </thead>\n",
              "  <tbody>\n",
              "    <tr>\n",
              "      <th>0</th>\n",
              "      <td>Flipkart.com</td>\n",
              "      <td>925076148</td>\n",
              "      <td>Flipkart not provide service</td>\n",
              "      <td>Flipkart not delivered thinks in even smoll to...</td>\n",
              "      <td>1</td>\n",
              "    </tr>\n",
              "    <tr>\n",
              "      <th>1</th>\n",
              "      <td>Flipkart.com</td>\n",
              "      <td>925076148</td>\n",
              "      <td>Account has not working</td>\n",
              "      <td>Dear sirMy account not working please re-activ...</td>\n",
              "      <td>1</td>\n",
              "    </tr>\n",
              "    <tr>\n",
              "      <th>2</th>\n",
              "      <td>Flipkart.com</td>\n",
              "      <td>925076148</td>\n",
              "      <td>Painted black rice</td>\n",
              "      <td>POISON! When I opened the packet there was a s...</td>\n",
              "      <td>0</td>\n",
              "    </tr>\n",
              "    <tr>\n",
              "      <th>3</th>\n",
              "      <td>Flipkart.com</td>\n",
              "      <td>925076148</td>\n",
              "      <td>Its a Flopkart</td>\n",
              "      <td>Mostly you are on luck when you order from Fli...</td>\n",
              "      <td>0</td>\n",
              "    </tr>\n",
              "    <tr>\n",
              "      <th>4</th>\n",
              "      <td>Flipkart.com</td>\n",
              "      <td>925076148</td>\n",
              "      <td>Flipkart failed to deliver my order</td>\n",
              "      <td>Flipkart failed to deliver my order twice and ...</td>\n",
              "      <td>0</td>\n",
              "    </tr>\n",
              "    <tr>\n",
              "      <th>...</th>\n",
              "      <td>...</td>\n",
              "      <td>...</td>\n",
              "      <td>...</td>\n",
              "      <td>...</td>\n",
              "      <td>...</td>\n",
              "    </tr>\n",
              "    <tr>\n",
              "      <th>1595</th>\n",
              "      <td>Flipkart.com</td>\n",
              "      <td>925076148</td>\n",
              "      <td>Most Distrustful !</td>\n",
              "      <td>I ordered a Spring mattress from Flipkart and ...</td>\n",
              "      <td>0</td>\n",
              "    </tr>\n",
              "    <tr>\n",
              "      <th>1596</th>\n",
              "      <td>Flipkart.com</td>\n",
              "      <td>925076148</td>\n",
              "      <td>Flipkart one of the great online shopping market</td>\n",
              "      <td>Flipkart very common and useful shopping marke...</td>\n",
              "      <td>1</td>\n",
              "    </tr>\n",
              "    <tr>\n",
              "      <th>1597</th>\n",
              "      <td>Flipkart.com</td>\n",
              "      <td>925076148</td>\n",
              "      <td>Wah Re Flipkart</td>\n",
              "      <td>New Sale-New Attraction-New Marketing-Surprisi...</td>\n",
              "      <td>0</td>\n",
              "    </tr>\n",
              "    <tr>\n",
              "      <th>1598</th>\n",
              "      <td>Flipkart.com</td>\n",
              "      <td>925076148</td>\n",
              "      <td>About flipkart</td>\n",
              "      <td>Flipkart is good shopping app now a days.peopl...</td>\n",
              "      <td>1</td>\n",
              "    </tr>\n",
              "    <tr>\n",
              "      <th>1599</th>\n",
              "      <td>Flipkart.com</td>\n",
              "      <td>925076148</td>\n",
              "      <td>Fraud</td>\n",
              "      <td>I have bought shoe rack from flipkart. Price v...</td>\n",
              "      <td>0</td>\n",
              "    </tr>\n",
              "  </tbody>\n",
              "</table>\n",
              "<p>1600 rows × 5 columns</p>\n",
              "</div>"
            ],
            "text/plain": [
              "     EcommerceSite  ...  Label\n",
              "0     Flipkart.com  ...      1\n",
              "1     Flipkart.com  ...      1\n",
              "2     Flipkart.com  ...      0\n",
              "3     Flipkart.com  ...      0\n",
              "4     Flipkart.com  ...      0\n",
              "...            ...  ...    ...\n",
              "1595  Flipkart.com  ...      0\n",
              "1596  Flipkart.com  ...      1\n",
              "1597  Flipkart.com  ...      0\n",
              "1598  Flipkart.com  ...      1\n",
              "1599  Flipkart.com  ...      0\n",
              "\n",
              "[1600 rows x 5 columns]"
            ]
          },
          "metadata": {
            "tags": []
          },
          "execution_count": 11
        }
      ]
    },
    {
      "cell_type": "code",
      "metadata": {
        "id": "hFNS0gCR9w6z"
      },
      "source": [
        "df_train = df[:19000]\n",
        "df_test = df[19000:]"
      ],
      "execution_count": null,
      "outputs": []
    },
    {
      "cell_type": "code",
      "metadata": {
        "id": "RVhw-SixskxN"
      },
      "source": [
        "DATA_COLUMN = 'Review'\n",
        "LABEL_COLUMN = 'Label'\n",
        "\n",
        "label_list = [0, 1, 2]"
      ],
      "execution_count": null,
      "outputs": []
    },
    {
      "cell_type": "code",
      "metadata": {
        "id": "KAQ1tz_csy2f"
      },
      "source": [
        "train_InputExamples = df_train.apply(lambda x: bert.run_classifier.InputExample(guid=None,\n",
        "                                                                   text_a = x[DATA_COLUMN], \n",
        "                                                                   text_b = None, \n",
        "                                                                   label = x[LABEL_COLUMN]), axis = 1)\n",
        "\n",
        "val_InputExamples = df_train.apply(lambda x: bert.run_classifier.InputExample(guid=None, \n",
        "                                                                   text_a = x[DATA_COLUMN], \n",
        "                                                                   text_b = None, \n",
        "                                                                   label = x[LABEL_COLUMN]), axis = 1)\n"
      ],
      "execution_count": null,
      "outputs": []
    },
    {
      "cell_type": "code",
      "metadata": {
        "colab": {
          "base_uri": "https://localhost:8080/"
        },
        "id": "P6_S01CntD7q",
        "outputId": "e7a13351-eb45-4e5e-ce7f-b6d739665e1a"
      },
      "source": [
        "train_InputExamples"
      ],
      "execution_count": null,
      "outputs": [
        {
          "output_type": "execute_result",
          "data": {
            "text/plain": [
              "0       <bert.run_classifier.InputExample object at 0x...\n",
              "1       <bert.run_classifier.InputExample object at 0x...\n",
              "2       <bert.run_classifier.InputExample object at 0x...\n",
              "3       <bert.run_classifier.InputExample object at 0x...\n",
              "4       <bert.run_classifier.InputExample object at 0x...\n",
              "                              ...                        \n",
              "1595    <bert.run_classifier.InputExample object at 0x...\n",
              "1596    <bert.run_classifier.InputExample object at 0x...\n",
              "1597    <bert.run_classifier.InputExample object at 0x...\n",
              "1598    <bert.run_classifier.InputExample object at 0x...\n",
              "1599    <bert.run_classifier.InputExample object at 0x...\n",
              "Length: 1600, dtype: object"
            ]
          },
          "metadata": {
            "tags": []
          },
          "execution_count": 15
        }
      ]
    },
    {
      "cell_type": "code",
      "metadata": {
        "colab": {
          "base_uri": "https://localhost:8080/"
        },
        "id": "av4tsNvdtJm6",
        "outputId": "9c614b28-3929-40e1-8366-b43b17190d11"
      },
      "source": [
        "#This is a path to an uncased (all lowercase) version of BERT\n",
        "BERT_MODEL_HUB = \"https://tfhub.dev/google/bert_uncased_L-12_H-768_A-12/1\"\n",
        "\n",
        "def create_tokenizer_from_hub_module():\n",
        "  \"\"\"Get the vocab file and casing info from the Hub module.\"\"\"\n",
        "  with tf.Graph().as_default():\n",
        "    bert_module = hub.Module(BERT_MODEL_HUB)\n",
        "    tokenization_info = bert_module(signature=\"tokenization_info\", as_dict=True)\n",
        "    with tf.Session() as sess:\n",
        "      vocab_file, do_lower_case = sess.run([tokenization_info[\"vocab_file\"],\n",
        "                                            tokenization_info[\"do_lower_case\"]])\n",
        "      \n",
        "  return tokenization.FullTokenizer(\n",
        "      vocab_file=vocab_file, \n",
        "      do_lower_case=do_lower_case)\n",
        "\n",
        "tokenizer = create_tokenizer_from_hub_module()"
      ],
      "execution_count": null,
      "outputs": [
        {
          "output_type": "stream",
          "text": [
            "INFO:tensorflow:Saver not created because there are no variables in the graph to restore\n"
          ],
          "name": "stdout"
        },
        {
          "output_type": "stream",
          "text": [
            "INFO:tensorflow:Saver not created because there are no variables in the graph to restore\n"
          ],
          "name": "stderr"
        },
        {
          "output_type": "stream",
          "text": [
            "WARNING:tensorflow:From /usr/local/lib/python3.7/dist-packages/bert/tokenization.py:125: The name tf.gfile.GFile is deprecated. Please use tf.io.gfile.GFile instead.\n",
            "\n"
          ],
          "name": "stdout"
        },
        {
          "output_type": "stream",
          "text": [
            "WARNING:tensorflow:From /usr/local/lib/python3.7/dist-packages/bert/tokenization.py:125: The name tf.gfile.GFile is deprecated. Please use tf.io.gfile.GFile instead.\n",
            "\n"
          ],
          "name": "stderr"
        }
      ]
    },
    {
      "cell_type": "code",
      "metadata": {
        "colab": {
          "base_uri": "https://localhost:8080/"
        },
        "id": "zUe-Zh4vtPhP",
        "outputId": "445cbf71-d71c-4009-dbae-f8e9c0252f5c"
      },
      "source": [
        "print(tokenizer.tokenize(train_InputExamples.iloc[0].text_a))"
      ],
      "execution_count": null,
      "outputs": [
        {
          "output_type": "stream",
          "text": [
            "['flip', '##kar', '##t', 'not', 'delivered', 'thinks', 'in', 'even', 'sm', '##oll', 'town', 'i', 'orders', 'thinks', 'but', 'they', 'not', 'takes', 'my', 'order', '.', 'but', 'flip', '##kar', '##t', 'provided', 'good', 'service', 'in', 'city', \"'\", 's', 'they', 'gives', 'good', 'offers', 'on', 'it', '##ea', '##m', 'compare', 'other', 'online', 'website', '.', 'my', 'suggestion', 'if', 'u', 'live', 'city', \"'\", 's', 'best', 'buy', 'electronic', 'thinks', 'in', 'flip', '##kar', '##t', '.', 'they', 'will', 'gave', 'service', 'in', 'village', 'that', '##s', 'helps', 'to', 'poor', 'people', 'also', '##fl', '##ag', 'this', 'review', '##ir', '##rel', '##eva', '##nt', '##fa', '##ke', '##jun', '##k', 'thank', 'you', '!', 'we', 'appreciate', 'your', 'effort', '.']\n"
          ],
          "name": "stdout"
        }
      ]
    },
    {
      "cell_type": "code",
      "metadata": {
        "colab": {
          "base_uri": "https://localhost:8080/"
        },
        "id": "Wj19HpALyMmM",
        "outputId": "147159f6-5cc1-4240-90b6-8377cbd2abd4"
      },
      "source": [
        "#We'll set sequences to be at most 200 tokens long.\n",
        "MAX_SEQ_LENGTH = 200\n",
        "\n",
        "#Convert our train and validation features to InputFeatures that BERT can understand\n",
        "train_features = bert.run_classifier.convert_examples_to_features(train_InputExamples, label_list, MAX_SEQ_LENGTH, tokenizer)\n",
        "\n",
        "val_features = bert.run_classifier.convert_examples_to_features(val_InputExamples, label_list, MAX_SEQ_LENGTH, tokenizer)"
      ],
      "execution_count": null,
      "outputs": [
        {
          "output_type": "stream",
          "text": [
            "WARNING:tensorflow:From /usr/local/lib/python3.7/dist-packages/bert/run_classifier.py:774: The name tf.logging.info is deprecated. Please use tf.compat.v1.logging.info instead.\n",
            "\n"
          ],
          "name": "stdout"
        },
        {
          "output_type": "stream",
          "text": [
            "WARNING:tensorflow:From /usr/local/lib/python3.7/dist-packages/bert/run_classifier.py:774: The name tf.logging.info is deprecated. Please use tf.compat.v1.logging.info instead.\n",
            "\n"
          ],
          "name": "stderr"
        },
        {
          "output_type": "stream",
          "text": [
            "INFO:tensorflow:Writing example 0 of 1600\n"
          ],
          "name": "stdout"
        },
        {
          "output_type": "stream",
          "text": [
            "INFO:tensorflow:Writing example 0 of 1600\n"
          ],
          "name": "stderr"
        },
        {
          "output_type": "stream",
          "text": [
            "INFO:tensorflow:*** Example ***\n"
          ],
          "name": "stdout"
        },
        {
          "output_type": "stream",
          "text": [
            "INFO:tensorflow:*** Example ***\n"
          ],
          "name": "stderr"
        },
        {
          "output_type": "stream",
          "text": [
            "INFO:tensorflow:guid: None\n"
          ],
          "name": "stdout"
        },
        {
          "output_type": "stream",
          "text": [
            "INFO:tensorflow:guid: None\n"
          ],
          "name": "stderr"
        },
        {
          "output_type": "stream",
          "text": [
            "INFO:tensorflow:tokens: [CLS] flip ##kar ##t not delivered thinks in even sm ##oll town i orders thinks but they not takes my order . but flip ##kar ##t provided good service in city ' s they gives good offers on it ##ea ##m compare other online website . my suggestion if u live city ' s best buy electronic thinks in flip ##kar ##t . they will gave service in village that ##s helps to poor people also ##fl ##ag this review ##ir ##rel ##eva ##nt ##fa ##ke ##jun ##k thank you ! we appreciate your effort . [SEP]\n"
          ],
          "name": "stdout"
        },
        {
          "output_type": "stream",
          "text": [
            "INFO:tensorflow:tokens: [CLS] flip ##kar ##t not delivered thinks in even sm ##oll town i orders thinks but they not takes my order . but flip ##kar ##t provided good service in city ' s they gives good offers on it ##ea ##m compare other online website . my suggestion if u live city ' s best buy electronic thinks in flip ##kar ##t . they will gave service in village that ##s helps to poor people also ##fl ##ag this review ##ir ##rel ##eva ##nt ##fa ##ke ##jun ##k thank you ! we appreciate your effort . [SEP]\n"
          ],
          "name": "stderr"
        },
        {
          "output_type": "stream",
          "text": [
            "INFO:tensorflow:input_ids: 101 11238 6673 2102 2025 5359 6732 1999 2130 15488 14511 2237 1045 4449 6732 2021 2027 2025 3138 2026 2344 1012 2021 11238 6673 2102 3024 2204 2326 1999 2103 1005 1055 2027 3957 2204 4107 2006 2009 5243 2213 12826 2060 3784 4037 1012 2026 10293 2065 1057 2444 2103 1005 1055 2190 4965 4816 6732 1999 11238 6673 2102 1012 2027 2097 2435 2326 1999 2352 2008 2015 7126 2000 3532 2111 2036 10258 8490 2023 3319 4313 16570 13331 3372 7011 3489 19792 2243 4067 2017 999 2057 9120 2115 3947 1012 102 0 0 0 0 0 0 0 0 0 0 0 0 0 0 0 0 0 0 0 0 0 0 0 0 0 0 0 0 0 0 0 0 0 0 0 0 0 0 0 0 0 0 0 0 0 0 0 0 0 0 0 0 0 0 0 0 0 0 0 0 0 0 0 0 0 0 0 0 0 0 0 0 0 0 0 0 0 0 0 0 0 0 0 0 0 0 0 0 0 0 0 0 0 0 0 0 0 0 0 0 0 0 0\n"
          ],
          "name": "stdout"
        },
        {
          "output_type": "stream",
          "text": [
            "INFO:tensorflow:input_ids: 101 11238 6673 2102 2025 5359 6732 1999 2130 15488 14511 2237 1045 4449 6732 2021 2027 2025 3138 2026 2344 1012 2021 11238 6673 2102 3024 2204 2326 1999 2103 1005 1055 2027 3957 2204 4107 2006 2009 5243 2213 12826 2060 3784 4037 1012 2026 10293 2065 1057 2444 2103 1005 1055 2190 4965 4816 6732 1999 11238 6673 2102 1012 2027 2097 2435 2326 1999 2352 2008 2015 7126 2000 3532 2111 2036 10258 8490 2023 3319 4313 16570 13331 3372 7011 3489 19792 2243 4067 2017 999 2057 9120 2115 3947 1012 102 0 0 0 0 0 0 0 0 0 0 0 0 0 0 0 0 0 0 0 0 0 0 0 0 0 0 0 0 0 0 0 0 0 0 0 0 0 0 0 0 0 0 0 0 0 0 0 0 0 0 0 0 0 0 0 0 0 0 0 0 0 0 0 0 0 0 0 0 0 0 0 0 0 0 0 0 0 0 0 0 0 0 0 0 0 0 0 0 0 0 0 0 0 0 0 0 0 0 0 0 0 0 0\n"
          ],
          "name": "stderr"
        },
        {
          "output_type": "stream",
          "text": [
            "INFO:tensorflow:input_mask: 1 1 1 1 1 1 1 1 1 1 1 1 1 1 1 1 1 1 1 1 1 1 1 1 1 1 1 1 1 1 1 1 1 1 1 1 1 1 1 1 1 1 1 1 1 1 1 1 1 1 1 1 1 1 1 1 1 1 1 1 1 1 1 1 1 1 1 1 1 1 1 1 1 1 1 1 1 1 1 1 1 1 1 1 1 1 1 1 1 1 1 1 1 1 1 1 1 0 0 0 0 0 0 0 0 0 0 0 0 0 0 0 0 0 0 0 0 0 0 0 0 0 0 0 0 0 0 0 0 0 0 0 0 0 0 0 0 0 0 0 0 0 0 0 0 0 0 0 0 0 0 0 0 0 0 0 0 0 0 0 0 0 0 0 0 0 0 0 0 0 0 0 0 0 0 0 0 0 0 0 0 0 0 0 0 0 0 0 0 0 0 0 0 0 0 0 0 0 0 0\n"
          ],
          "name": "stdout"
        },
        {
          "output_type": "stream",
          "text": [
            "INFO:tensorflow:input_mask: 1 1 1 1 1 1 1 1 1 1 1 1 1 1 1 1 1 1 1 1 1 1 1 1 1 1 1 1 1 1 1 1 1 1 1 1 1 1 1 1 1 1 1 1 1 1 1 1 1 1 1 1 1 1 1 1 1 1 1 1 1 1 1 1 1 1 1 1 1 1 1 1 1 1 1 1 1 1 1 1 1 1 1 1 1 1 1 1 1 1 1 1 1 1 1 1 1 0 0 0 0 0 0 0 0 0 0 0 0 0 0 0 0 0 0 0 0 0 0 0 0 0 0 0 0 0 0 0 0 0 0 0 0 0 0 0 0 0 0 0 0 0 0 0 0 0 0 0 0 0 0 0 0 0 0 0 0 0 0 0 0 0 0 0 0 0 0 0 0 0 0 0 0 0 0 0 0 0 0 0 0 0 0 0 0 0 0 0 0 0 0 0 0 0 0 0 0 0 0 0\n"
          ],
          "name": "stderr"
        },
        {
          "output_type": "stream",
          "text": [
            "INFO:tensorflow:segment_ids: 0 0 0 0 0 0 0 0 0 0 0 0 0 0 0 0 0 0 0 0 0 0 0 0 0 0 0 0 0 0 0 0 0 0 0 0 0 0 0 0 0 0 0 0 0 0 0 0 0 0 0 0 0 0 0 0 0 0 0 0 0 0 0 0 0 0 0 0 0 0 0 0 0 0 0 0 0 0 0 0 0 0 0 0 0 0 0 0 0 0 0 0 0 0 0 0 0 0 0 0 0 0 0 0 0 0 0 0 0 0 0 0 0 0 0 0 0 0 0 0 0 0 0 0 0 0 0 0 0 0 0 0 0 0 0 0 0 0 0 0 0 0 0 0 0 0 0 0 0 0 0 0 0 0 0 0 0 0 0 0 0 0 0 0 0 0 0 0 0 0 0 0 0 0 0 0 0 0 0 0 0 0 0 0 0 0 0 0 0 0 0 0 0 0 0 0 0 0 0 0\n"
          ],
          "name": "stdout"
        },
        {
          "output_type": "stream",
          "text": [
            "INFO:tensorflow:segment_ids: 0 0 0 0 0 0 0 0 0 0 0 0 0 0 0 0 0 0 0 0 0 0 0 0 0 0 0 0 0 0 0 0 0 0 0 0 0 0 0 0 0 0 0 0 0 0 0 0 0 0 0 0 0 0 0 0 0 0 0 0 0 0 0 0 0 0 0 0 0 0 0 0 0 0 0 0 0 0 0 0 0 0 0 0 0 0 0 0 0 0 0 0 0 0 0 0 0 0 0 0 0 0 0 0 0 0 0 0 0 0 0 0 0 0 0 0 0 0 0 0 0 0 0 0 0 0 0 0 0 0 0 0 0 0 0 0 0 0 0 0 0 0 0 0 0 0 0 0 0 0 0 0 0 0 0 0 0 0 0 0 0 0 0 0 0 0 0 0 0 0 0 0 0 0 0 0 0 0 0 0 0 0 0 0 0 0 0 0 0 0 0 0 0 0 0 0 0 0 0 0\n"
          ],
          "name": "stderr"
        },
        {
          "output_type": "stream",
          "text": [
            "INFO:tensorflow:label: 1 (id = 1)\n"
          ],
          "name": "stdout"
        },
        {
          "output_type": "stream",
          "text": [
            "INFO:tensorflow:label: 1 (id = 1)\n"
          ],
          "name": "stderr"
        },
        {
          "output_type": "stream",
          "text": [
            "INFO:tensorflow:*** Example ***\n"
          ],
          "name": "stdout"
        },
        {
          "output_type": "stream",
          "text": [
            "INFO:tensorflow:*** Example ***\n"
          ],
          "name": "stderr"
        },
        {
          "output_type": "stream",
          "text": [
            "INFO:tensorflow:guid: None\n"
          ],
          "name": "stdout"
        },
        {
          "output_type": "stream",
          "text": [
            "INFO:tensorflow:guid: None\n"
          ],
          "name": "stderr"
        },
        {
          "output_type": "stream",
          "text": [
            "INFO:tensorflow:tokens: [CLS] dear sir ##my account not working please re - active my account bearing mobile no 98 ##56 ##40 ##6 ##25 ##8 . thank ##you ##fl ##ag this review ##ir ##rel ##eva ##nt ##fa ##ke ##jun ##k thank you ! we appreciate your effort . [SEP]\n"
          ],
          "name": "stdout"
        },
        {
          "output_type": "stream",
          "text": [
            "INFO:tensorflow:tokens: [CLS] dear sir ##my account not working please re - active my account bearing mobile no 98 ##56 ##40 ##6 ##25 ##8 . thank ##you ##fl ##ag this review ##ir ##rel ##eva ##nt ##fa ##ke ##jun ##k thank you ! we appreciate your effort . [SEP]\n"
          ],
          "name": "stderr"
        },
        {
          "output_type": "stream",
          "text": [
            "INFO:tensorflow:input_ids: 101 6203 2909 8029 4070 2025 2551 3531 2128 1011 3161 2026 4070 7682 4684 2053 5818 26976 12740 2575 17788 2620 1012 4067 29337 10258 8490 2023 3319 4313 16570 13331 3372 7011 3489 19792 2243 4067 2017 999 2057 9120 2115 3947 1012 102 0 0 0 0 0 0 0 0 0 0 0 0 0 0 0 0 0 0 0 0 0 0 0 0 0 0 0 0 0 0 0 0 0 0 0 0 0 0 0 0 0 0 0 0 0 0 0 0 0 0 0 0 0 0 0 0 0 0 0 0 0 0 0 0 0 0 0 0 0 0 0 0 0 0 0 0 0 0 0 0 0 0 0 0 0 0 0 0 0 0 0 0 0 0 0 0 0 0 0 0 0 0 0 0 0 0 0 0 0 0 0 0 0 0 0 0 0 0 0 0 0 0 0 0 0 0 0 0 0 0 0 0 0 0 0 0 0 0 0 0 0 0 0 0 0 0 0 0 0 0 0 0 0 0\n"
          ],
          "name": "stdout"
        },
        {
          "output_type": "stream",
          "text": [
            "INFO:tensorflow:input_ids: 101 6203 2909 8029 4070 2025 2551 3531 2128 1011 3161 2026 4070 7682 4684 2053 5818 26976 12740 2575 17788 2620 1012 4067 29337 10258 8490 2023 3319 4313 16570 13331 3372 7011 3489 19792 2243 4067 2017 999 2057 9120 2115 3947 1012 102 0 0 0 0 0 0 0 0 0 0 0 0 0 0 0 0 0 0 0 0 0 0 0 0 0 0 0 0 0 0 0 0 0 0 0 0 0 0 0 0 0 0 0 0 0 0 0 0 0 0 0 0 0 0 0 0 0 0 0 0 0 0 0 0 0 0 0 0 0 0 0 0 0 0 0 0 0 0 0 0 0 0 0 0 0 0 0 0 0 0 0 0 0 0 0 0 0 0 0 0 0 0 0 0 0 0 0 0 0 0 0 0 0 0 0 0 0 0 0 0 0 0 0 0 0 0 0 0 0 0 0 0 0 0 0 0 0 0 0 0 0 0 0 0 0 0 0 0 0 0 0 0 0 0\n"
          ],
          "name": "stderr"
        },
        {
          "output_type": "stream",
          "text": [
            "INFO:tensorflow:input_mask: 1 1 1 1 1 1 1 1 1 1 1 1 1 1 1 1 1 1 1 1 1 1 1 1 1 1 1 1 1 1 1 1 1 1 1 1 1 1 1 1 1 1 1 1 1 1 0 0 0 0 0 0 0 0 0 0 0 0 0 0 0 0 0 0 0 0 0 0 0 0 0 0 0 0 0 0 0 0 0 0 0 0 0 0 0 0 0 0 0 0 0 0 0 0 0 0 0 0 0 0 0 0 0 0 0 0 0 0 0 0 0 0 0 0 0 0 0 0 0 0 0 0 0 0 0 0 0 0 0 0 0 0 0 0 0 0 0 0 0 0 0 0 0 0 0 0 0 0 0 0 0 0 0 0 0 0 0 0 0 0 0 0 0 0 0 0 0 0 0 0 0 0 0 0 0 0 0 0 0 0 0 0 0 0 0 0 0 0 0 0 0 0 0 0 0 0 0 0 0 0\n"
          ],
          "name": "stdout"
        },
        {
          "output_type": "stream",
          "text": [
            "INFO:tensorflow:input_mask: 1 1 1 1 1 1 1 1 1 1 1 1 1 1 1 1 1 1 1 1 1 1 1 1 1 1 1 1 1 1 1 1 1 1 1 1 1 1 1 1 1 1 1 1 1 1 0 0 0 0 0 0 0 0 0 0 0 0 0 0 0 0 0 0 0 0 0 0 0 0 0 0 0 0 0 0 0 0 0 0 0 0 0 0 0 0 0 0 0 0 0 0 0 0 0 0 0 0 0 0 0 0 0 0 0 0 0 0 0 0 0 0 0 0 0 0 0 0 0 0 0 0 0 0 0 0 0 0 0 0 0 0 0 0 0 0 0 0 0 0 0 0 0 0 0 0 0 0 0 0 0 0 0 0 0 0 0 0 0 0 0 0 0 0 0 0 0 0 0 0 0 0 0 0 0 0 0 0 0 0 0 0 0 0 0 0 0 0 0 0 0 0 0 0 0 0 0 0 0 0\n"
          ],
          "name": "stderr"
        },
        {
          "output_type": "stream",
          "text": [
            "INFO:tensorflow:segment_ids: 0 0 0 0 0 0 0 0 0 0 0 0 0 0 0 0 0 0 0 0 0 0 0 0 0 0 0 0 0 0 0 0 0 0 0 0 0 0 0 0 0 0 0 0 0 0 0 0 0 0 0 0 0 0 0 0 0 0 0 0 0 0 0 0 0 0 0 0 0 0 0 0 0 0 0 0 0 0 0 0 0 0 0 0 0 0 0 0 0 0 0 0 0 0 0 0 0 0 0 0 0 0 0 0 0 0 0 0 0 0 0 0 0 0 0 0 0 0 0 0 0 0 0 0 0 0 0 0 0 0 0 0 0 0 0 0 0 0 0 0 0 0 0 0 0 0 0 0 0 0 0 0 0 0 0 0 0 0 0 0 0 0 0 0 0 0 0 0 0 0 0 0 0 0 0 0 0 0 0 0 0 0 0 0 0 0 0 0 0 0 0 0 0 0 0 0 0 0 0 0\n"
          ],
          "name": "stdout"
        },
        {
          "output_type": "stream",
          "text": [
            "INFO:tensorflow:segment_ids: 0 0 0 0 0 0 0 0 0 0 0 0 0 0 0 0 0 0 0 0 0 0 0 0 0 0 0 0 0 0 0 0 0 0 0 0 0 0 0 0 0 0 0 0 0 0 0 0 0 0 0 0 0 0 0 0 0 0 0 0 0 0 0 0 0 0 0 0 0 0 0 0 0 0 0 0 0 0 0 0 0 0 0 0 0 0 0 0 0 0 0 0 0 0 0 0 0 0 0 0 0 0 0 0 0 0 0 0 0 0 0 0 0 0 0 0 0 0 0 0 0 0 0 0 0 0 0 0 0 0 0 0 0 0 0 0 0 0 0 0 0 0 0 0 0 0 0 0 0 0 0 0 0 0 0 0 0 0 0 0 0 0 0 0 0 0 0 0 0 0 0 0 0 0 0 0 0 0 0 0 0 0 0 0 0 0 0 0 0 0 0 0 0 0 0 0 0 0 0 0\n"
          ],
          "name": "stderr"
        },
        {
          "output_type": "stream",
          "text": [
            "INFO:tensorflow:label: 1 (id = 1)\n"
          ],
          "name": "stdout"
        },
        {
          "output_type": "stream",
          "text": [
            "INFO:tensorflow:label: 1 (id = 1)\n"
          ],
          "name": "stderr"
        },
        {
          "output_type": "stream",
          "text": [
            "INFO:tensorflow:*** Example ***\n"
          ],
          "name": "stdout"
        },
        {
          "output_type": "stream",
          "text": [
            "INFO:tensorflow:*** Example ***\n"
          ],
          "name": "stderr"
        },
        {
          "output_type": "stream",
          "text": [
            "INFO:tensorflow:guid: None\n"
          ],
          "name": "stdout"
        },
        {
          "output_type": "stream",
          "text": [
            "INFO:tensorflow:guid: None\n"
          ],
          "name": "stderr"
        },
        {
          "output_type": "stream",
          "text": [
            "INFO:tensorflow:tokens: [CLS] poison ! when i opened the packet there was a strong paint smell . when i scratched the rice scales of black paint came from the rice . shocking . please don ##t buy from this brand i brought more than 8 kg ##s from this brand . i am very much dissatisfied with flip ##kar ##t on having such brands . when you deliver food product you should check the quality . giving people poison in the name of food is an im ##moral and ir ##res ##pon ##sible act . as you can see in the pictures the paint layer comes off the rice surface when you scratch it . i have purchased many organic products from different sites and different brands and this is the first time i am encounter ##ing a fraud company . flag this review ##ir ##rel ##eva ##nt ##fa ##ke ##jun ##k thank you ! we appreciate your effort . [SEP]\n"
          ],
          "name": "stdout"
        },
        {
          "output_type": "stream",
          "text": [
            "INFO:tensorflow:tokens: [CLS] poison ! when i opened the packet there was a strong paint smell . when i scratched the rice scales of black paint came from the rice . shocking . please don ##t buy from this brand i brought more than 8 kg ##s from this brand . i am very much dissatisfied with flip ##kar ##t on having such brands . when you deliver food product you should check the quality . giving people poison in the name of food is an im ##moral and ir ##res ##pon ##sible act . as you can see in the pictures the paint layer comes off the rice surface when you scratch it . i have purchased many organic products from different sites and different brands and this is the first time i am encounter ##ing a fraud company . flag this review ##ir ##rel ##eva ##nt ##fa ##ke ##jun ##k thank you ! we appreciate your effort . [SEP]\n"
          ],
          "name": "stderr"
        },
        {
          "output_type": "stream",
          "text": [
            "INFO:tensorflow:input_ids: 101 9947 999 2043 1045 2441 1996 14771 2045 2001 1037 2844 6773 5437 1012 2043 1045 15047 1996 5785 9539 1997 2304 6773 2234 2013 1996 5785 1012 16880 1012 3531 2123 2102 4965 2013 2023 4435 1045 2716 2062 2084 1022 4705 2015 2013 2023 4435 1012 1045 2572 2200 2172 25956 2007 11238 6673 2102 2006 2383 2107 9639 1012 2043 2017 8116 2833 4031 2017 2323 4638 1996 3737 1012 3228 2111 9947 1999 1996 2171 1997 2833 2003 2019 10047 22049 1998 20868 6072 26029 19307 2552 1012 2004 2017 2064 2156 1999 1996 4620 1996 6773 6741 3310 2125 1996 5785 3302 2043 2017 11969 2009 1012 1045 2031 4156 2116 7554 3688 2013 2367 4573 1998 2367 9639 1998 2023 2003 1996 2034 2051 1045 2572 8087 2075 1037 9861 2194 1012 5210 2023 3319 4313 16570 13331 3372 7011 3489 19792 2243 4067 2017 999 2057 9120 2115 3947 1012 102 0 0 0 0 0 0 0 0 0 0 0 0 0 0 0 0 0 0 0 0 0 0 0 0 0 0 0 0 0 0 0 0 0 0 0 0 0 0 0 0 0\n"
          ],
          "name": "stdout"
        },
        {
          "output_type": "stream",
          "text": [
            "INFO:tensorflow:input_ids: 101 9947 999 2043 1045 2441 1996 14771 2045 2001 1037 2844 6773 5437 1012 2043 1045 15047 1996 5785 9539 1997 2304 6773 2234 2013 1996 5785 1012 16880 1012 3531 2123 2102 4965 2013 2023 4435 1045 2716 2062 2084 1022 4705 2015 2013 2023 4435 1012 1045 2572 2200 2172 25956 2007 11238 6673 2102 2006 2383 2107 9639 1012 2043 2017 8116 2833 4031 2017 2323 4638 1996 3737 1012 3228 2111 9947 1999 1996 2171 1997 2833 2003 2019 10047 22049 1998 20868 6072 26029 19307 2552 1012 2004 2017 2064 2156 1999 1996 4620 1996 6773 6741 3310 2125 1996 5785 3302 2043 2017 11969 2009 1012 1045 2031 4156 2116 7554 3688 2013 2367 4573 1998 2367 9639 1998 2023 2003 1996 2034 2051 1045 2572 8087 2075 1037 9861 2194 1012 5210 2023 3319 4313 16570 13331 3372 7011 3489 19792 2243 4067 2017 999 2057 9120 2115 3947 1012 102 0 0 0 0 0 0 0 0 0 0 0 0 0 0 0 0 0 0 0 0 0 0 0 0 0 0 0 0 0 0 0 0 0 0 0 0 0 0 0 0 0\n"
          ],
          "name": "stderr"
        },
        {
          "output_type": "stream",
          "text": [
            "INFO:tensorflow:input_mask: 1 1 1 1 1 1 1 1 1 1 1 1 1 1 1 1 1 1 1 1 1 1 1 1 1 1 1 1 1 1 1 1 1 1 1 1 1 1 1 1 1 1 1 1 1 1 1 1 1 1 1 1 1 1 1 1 1 1 1 1 1 1 1 1 1 1 1 1 1 1 1 1 1 1 1 1 1 1 1 1 1 1 1 1 1 1 1 1 1 1 1 1 1 1 1 1 1 1 1 1 1 1 1 1 1 1 1 1 1 1 1 1 1 1 1 1 1 1 1 1 1 1 1 1 1 1 1 1 1 1 1 1 1 1 1 1 1 1 1 1 1 1 1 1 1 1 1 1 1 1 1 1 1 1 1 1 1 1 1 0 0 0 0 0 0 0 0 0 0 0 0 0 0 0 0 0 0 0 0 0 0 0 0 0 0 0 0 0 0 0 0 0 0 0 0 0 0 0 0 0\n"
          ],
          "name": "stdout"
        },
        {
          "output_type": "stream",
          "text": [
            "INFO:tensorflow:input_mask: 1 1 1 1 1 1 1 1 1 1 1 1 1 1 1 1 1 1 1 1 1 1 1 1 1 1 1 1 1 1 1 1 1 1 1 1 1 1 1 1 1 1 1 1 1 1 1 1 1 1 1 1 1 1 1 1 1 1 1 1 1 1 1 1 1 1 1 1 1 1 1 1 1 1 1 1 1 1 1 1 1 1 1 1 1 1 1 1 1 1 1 1 1 1 1 1 1 1 1 1 1 1 1 1 1 1 1 1 1 1 1 1 1 1 1 1 1 1 1 1 1 1 1 1 1 1 1 1 1 1 1 1 1 1 1 1 1 1 1 1 1 1 1 1 1 1 1 1 1 1 1 1 1 1 1 1 1 1 1 0 0 0 0 0 0 0 0 0 0 0 0 0 0 0 0 0 0 0 0 0 0 0 0 0 0 0 0 0 0 0 0 0 0 0 0 0 0 0 0 0\n"
          ],
          "name": "stderr"
        },
        {
          "output_type": "stream",
          "text": [
            "INFO:tensorflow:segment_ids: 0 0 0 0 0 0 0 0 0 0 0 0 0 0 0 0 0 0 0 0 0 0 0 0 0 0 0 0 0 0 0 0 0 0 0 0 0 0 0 0 0 0 0 0 0 0 0 0 0 0 0 0 0 0 0 0 0 0 0 0 0 0 0 0 0 0 0 0 0 0 0 0 0 0 0 0 0 0 0 0 0 0 0 0 0 0 0 0 0 0 0 0 0 0 0 0 0 0 0 0 0 0 0 0 0 0 0 0 0 0 0 0 0 0 0 0 0 0 0 0 0 0 0 0 0 0 0 0 0 0 0 0 0 0 0 0 0 0 0 0 0 0 0 0 0 0 0 0 0 0 0 0 0 0 0 0 0 0 0 0 0 0 0 0 0 0 0 0 0 0 0 0 0 0 0 0 0 0 0 0 0 0 0 0 0 0 0 0 0 0 0 0 0 0 0 0 0 0 0 0\n"
          ],
          "name": "stdout"
        },
        {
          "output_type": "stream",
          "text": [
            "INFO:tensorflow:segment_ids: 0 0 0 0 0 0 0 0 0 0 0 0 0 0 0 0 0 0 0 0 0 0 0 0 0 0 0 0 0 0 0 0 0 0 0 0 0 0 0 0 0 0 0 0 0 0 0 0 0 0 0 0 0 0 0 0 0 0 0 0 0 0 0 0 0 0 0 0 0 0 0 0 0 0 0 0 0 0 0 0 0 0 0 0 0 0 0 0 0 0 0 0 0 0 0 0 0 0 0 0 0 0 0 0 0 0 0 0 0 0 0 0 0 0 0 0 0 0 0 0 0 0 0 0 0 0 0 0 0 0 0 0 0 0 0 0 0 0 0 0 0 0 0 0 0 0 0 0 0 0 0 0 0 0 0 0 0 0 0 0 0 0 0 0 0 0 0 0 0 0 0 0 0 0 0 0 0 0 0 0 0 0 0 0 0 0 0 0 0 0 0 0 0 0 0 0 0 0 0 0\n"
          ],
          "name": "stderr"
        },
        {
          "output_type": "stream",
          "text": [
            "INFO:tensorflow:label: 0 (id = 0)\n"
          ],
          "name": "stdout"
        },
        {
          "output_type": "stream",
          "text": [
            "INFO:tensorflow:label: 0 (id = 0)\n"
          ],
          "name": "stderr"
        },
        {
          "output_type": "stream",
          "text": [
            "INFO:tensorflow:*** Example ***\n"
          ],
          "name": "stdout"
        },
        {
          "output_type": "stream",
          "text": [
            "INFO:tensorflow:*** Example ***\n"
          ],
          "name": "stderr"
        },
        {
          "output_type": "stream",
          "text": [
            "INFO:tensorflow:guid: None\n"
          ],
          "name": "stdout"
        },
        {
          "output_type": "stream",
          "text": [
            "INFO:tensorflow:guid: None\n"
          ],
          "name": "stderr"
        },
        {
          "output_type": "stream",
          "text": [
            "INFO:tensorflow:tokens: [CLS] mostly you are on luck when you order from flip ##kar ##t . if you are ordering small product like pen ##drive , you may get support if you have received defective product but if it is an app ##lian ##ce washing machine or ac . your money is gone , the process is super complicated and you will quit half way that ' s what flip ##kar ##t wants . order - o ##d ##12 ##24 ##0 ##70 ##90 ##86 ##8 ##42 ##90 ##00 ##als ##o their support team disco ##nne ##cts the call or leave the chat half way if they know its a big app ##lian ##ce . always go for amazon or any other website , flip ##kar ##t is not trust ##worthy when you need support . flag this review ##ir ##rel ##eva ##nt ##fa ##ke ##jun ##k thank you ! we appreciate your effort . [SEP]\n"
          ],
          "name": "stdout"
        },
        {
          "output_type": "stream",
          "text": [
            "INFO:tensorflow:tokens: [CLS] mostly you are on luck when you order from flip ##kar ##t . if you are ordering small product like pen ##drive , you may get support if you have received defective product but if it is an app ##lian ##ce washing machine or ac . your money is gone , the process is super complicated and you will quit half way that ' s what flip ##kar ##t wants . order - o ##d ##12 ##24 ##0 ##70 ##90 ##86 ##8 ##42 ##90 ##00 ##als ##o their support team disco ##nne ##cts the call or leave the chat half way if they know its a big app ##lian ##ce . always go for amazon or any other website , flip ##kar ##t is not trust ##worthy when you need support . flag this review ##ir ##rel ##eva ##nt ##fa ##ke ##jun ##k thank you ! we appreciate your effort . [SEP]\n"
          ],
          "name": "stderr"
        },
        {
          "output_type": "stream",
          "text": [
            "INFO:tensorflow:input_ids: 101 3262 2017 2024 2006 6735 2043 2017 2344 2013 11238 6673 2102 1012 2065 2017 2024 13063 2235 4031 2066 7279 23663 1010 2017 2089 2131 2490 2065 2017 2031 2363 28829 4031 2021 2065 2009 2003 2019 10439 15204 3401 12699 3698 2030 9353 1012 2115 2769 2003 2908 1010 1996 2832 2003 3565 8552 1998 2017 2097 8046 2431 2126 2008 1005 1055 2054 11238 6673 2102 4122 1012 2344 1011 1051 2094 12521 18827 2692 19841 21057 20842 2620 20958 21057 8889 9777 2080 2037 2490 2136 12532 10087 16649 1996 2655 2030 2681 1996 11834 2431 2126 2065 2027 2113 2049 1037 2502 10439 15204 3401 1012 2467 2175 2005 9733 2030 2151 2060 4037 1010 11238 6673 2102 2003 2025 3404 13966 2043 2017 2342 2490 1012 5210 2023 3319 4313 16570 13331 3372 7011 3489 19792 2243 4067 2017 999 2057 9120 2115 3947 1012 102 0 0 0 0 0 0 0 0 0 0 0 0 0 0 0 0 0 0 0 0 0 0 0 0 0 0 0 0 0 0 0 0 0 0 0 0 0 0 0 0 0 0 0 0 0 0 0\n"
          ],
          "name": "stdout"
        },
        {
          "output_type": "stream",
          "text": [
            "INFO:tensorflow:input_ids: 101 3262 2017 2024 2006 6735 2043 2017 2344 2013 11238 6673 2102 1012 2065 2017 2024 13063 2235 4031 2066 7279 23663 1010 2017 2089 2131 2490 2065 2017 2031 2363 28829 4031 2021 2065 2009 2003 2019 10439 15204 3401 12699 3698 2030 9353 1012 2115 2769 2003 2908 1010 1996 2832 2003 3565 8552 1998 2017 2097 8046 2431 2126 2008 1005 1055 2054 11238 6673 2102 4122 1012 2344 1011 1051 2094 12521 18827 2692 19841 21057 20842 2620 20958 21057 8889 9777 2080 2037 2490 2136 12532 10087 16649 1996 2655 2030 2681 1996 11834 2431 2126 2065 2027 2113 2049 1037 2502 10439 15204 3401 1012 2467 2175 2005 9733 2030 2151 2060 4037 1010 11238 6673 2102 2003 2025 3404 13966 2043 2017 2342 2490 1012 5210 2023 3319 4313 16570 13331 3372 7011 3489 19792 2243 4067 2017 999 2057 9120 2115 3947 1012 102 0 0 0 0 0 0 0 0 0 0 0 0 0 0 0 0 0 0 0 0 0 0 0 0 0 0 0 0 0 0 0 0 0 0 0 0 0 0 0 0 0 0 0 0 0 0 0\n"
          ],
          "name": "stderr"
        },
        {
          "output_type": "stream",
          "text": [
            "INFO:tensorflow:input_mask: 1 1 1 1 1 1 1 1 1 1 1 1 1 1 1 1 1 1 1 1 1 1 1 1 1 1 1 1 1 1 1 1 1 1 1 1 1 1 1 1 1 1 1 1 1 1 1 1 1 1 1 1 1 1 1 1 1 1 1 1 1 1 1 1 1 1 1 1 1 1 1 1 1 1 1 1 1 1 1 1 1 1 1 1 1 1 1 1 1 1 1 1 1 1 1 1 1 1 1 1 1 1 1 1 1 1 1 1 1 1 1 1 1 1 1 1 1 1 1 1 1 1 1 1 1 1 1 1 1 1 1 1 1 1 1 1 1 1 1 1 1 1 1 1 1 1 1 1 1 1 1 1 1 0 0 0 0 0 0 0 0 0 0 0 0 0 0 0 0 0 0 0 0 0 0 0 0 0 0 0 0 0 0 0 0 0 0 0 0 0 0 0 0 0 0 0 0 0 0 0\n"
          ],
          "name": "stdout"
        },
        {
          "output_type": "stream",
          "text": [
            "INFO:tensorflow:input_mask: 1 1 1 1 1 1 1 1 1 1 1 1 1 1 1 1 1 1 1 1 1 1 1 1 1 1 1 1 1 1 1 1 1 1 1 1 1 1 1 1 1 1 1 1 1 1 1 1 1 1 1 1 1 1 1 1 1 1 1 1 1 1 1 1 1 1 1 1 1 1 1 1 1 1 1 1 1 1 1 1 1 1 1 1 1 1 1 1 1 1 1 1 1 1 1 1 1 1 1 1 1 1 1 1 1 1 1 1 1 1 1 1 1 1 1 1 1 1 1 1 1 1 1 1 1 1 1 1 1 1 1 1 1 1 1 1 1 1 1 1 1 1 1 1 1 1 1 1 1 1 1 1 1 0 0 0 0 0 0 0 0 0 0 0 0 0 0 0 0 0 0 0 0 0 0 0 0 0 0 0 0 0 0 0 0 0 0 0 0 0 0 0 0 0 0 0 0 0 0 0\n"
          ],
          "name": "stderr"
        },
        {
          "output_type": "stream",
          "text": [
            "INFO:tensorflow:segment_ids: 0 0 0 0 0 0 0 0 0 0 0 0 0 0 0 0 0 0 0 0 0 0 0 0 0 0 0 0 0 0 0 0 0 0 0 0 0 0 0 0 0 0 0 0 0 0 0 0 0 0 0 0 0 0 0 0 0 0 0 0 0 0 0 0 0 0 0 0 0 0 0 0 0 0 0 0 0 0 0 0 0 0 0 0 0 0 0 0 0 0 0 0 0 0 0 0 0 0 0 0 0 0 0 0 0 0 0 0 0 0 0 0 0 0 0 0 0 0 0 0 0 0 0 0 0 0 0 0 0 0 0 0 0 0 0 0 0 0 0 0 0 0 0 0 0 0 0 0 0 0 0 0 0 0 0 0 0 0 0 0 0 0 0 0 0 0 0 0 0 0 0 0 0 0 0 0 0 0 0 0 0 0 0 0 0 0 0 0 0 0 0 0 0 0 0 0 0 0 0 0\n"
          ],
          "name": "stdout"
        },
        {
          "output_type": "stream",
          "text": [
            "INFO:tensorflow:segment_ids: 0 0 0 0 0 0 0 0 0 0 0 0 0 0 0 0 0 0 0 0 0 0 0 0 0 0 0 0 0 0 0 0 0 0 0 0 0 0 0 0 0 0 0 0 0 0 0 0 0 0 0 0 0 0 0 0 0 0 0 0 0 0 0 0 0 0 0 0 0 0 0 0 0 0 0 0 0 0 0 0 0 0 0 0 0 0 0 0 0 0 0 0 0 0 0 0 0 0 0 0 0 0 0 0 0 0 0 0 0 0 0 0 0 0 0 0 0 0 0 0 0 0 0 0 0 0 0 0 0 0 0 0 0 0 0 0 0 0 0 0 0 0 0 0 0 0 0 0 0 0 0 0 0 0 0 0 0 0 0 0 0 0 0 0 0 0 0 0 0 0 0 0 0 0 0 0 0 0 0 0 0 0 0 0 0 0 0 0 0 0 0 0 0 0 0 0 0 0 0 0\n"
          ],
          "name": "stderr"
        },
        {
          "output_type": "stream",
          "text": [
            "INFO:tensorflow:label: 0 (id = 0)\n"
          ],
          "name": "stdout"
        },
        {
          "output_type": "stream",
          "text": [
            "INFO:tensorflow:label: 0 (id = 0)\n"
          ],
          "name": "stderr"
        },
        {
          "output_type": "stream",
          "text": [
            "INFO:tensorflow:*** Example ***\n"
          ],
          "name": "stdout"
        },
        {
          "output_type": "stream",
          "text": [
            "INFO:tensorflow:*** Example ***\n"
          ],
          "name": "stderr"
        },
        {
          "output_type": "stream",
          "text": [
            "INFO:tensorflow:guid: None\n"
          ],
          "name": "stdout"
        },
        {
          "output_type": "stream",
          "text": [
            "INFO:tensorflow:guid: None\n"
          ],
          "name": "stderr"
        },
        {
          "output_type": "stream",
          "text": [
            "INFO:tensorflow:tokens: [CLS] flip ##kar ##t failed to deliver my order twice and they cancelled it on their side with an email saying that the courier service was unable to reach me on my phone or address . that is an absolute lie . they never contacted me regarding this order . why do you wanna hide your failure by sending such emails to customer ? don ' t you even have the courtesy to reach out to the customer and let them know in case the order could not be delivered and don ' t you even try investigating with your partners and vendors . this is shame ! order id : o ##d ##12 ##24 ##0 ##8 ##35 ##7 ##66 ##32 ##27 ##00 ##0 ##in ##cide ##nt : in ##21 ##0 ##7 ##31 ##15 ##47 ##35 ##52 ##7 ##80 ##36 ##9 ##fl ##ag this review ##ir ##rel ##eva ##nt ##fa ##ke ##jun ##k thank you ! we appreciate your effort . [SEP]\n"
          ],
          "name": "stdout"
        },
        {
          "output_type": "stream",
          "text": [
            "INFO:tensorflow:tokens: [CLS] flip ##kar ##t failed to deliver my order twice and they cancelled it on their side with an email saying that the courier service was unable to reach me on my phone or address . that is an absolute lie . they never contacted me regarding this order . why do you wanna hide your failure by sending such emails to customer ? don ' t you even have the courtesy to reach out to the customer and let them know in case the order could not be delivered and don ' t you even try investigating with your partners and vendors . this is shame ! order id : o ##d ##12 ##24 ##0 ##8 ##35 ##7 ##66 ##32 ##27 ##00 ##0 ##in ##cide ##nt : in ##21 ##0 ##7 ##31 ##15 ##47 ##35 ##52 ##7 ##80 ##36 ##9 ##fl ##ag this review ##ir ##rel ##eva ##nt ##fa ##ke ##jun ##k thank you ! we appreciate your effort . [SEP]\n"
          ],
          "name": "stderr"
        },
        {
          "output_type": "stream",
          "text": [
            "INFO:tensorflow:input_ids: 101 11238 6673 2102 3478 2000 8116 2026 2344 3807 1998 2027 8014 2009 2006 2037 2217 2007 2019 10373 3038 2008 1996 18092 2326 2001 4039 2000 3362 2033 2006 2026 3042 2030 4769 1012 2008 2003 2019 7619 4682 1012 2027 2196 11925 2033 4953 2023 2344 1012 2339 2079 2017 10587 5342 2115 4945 2011 6016 2107 22028 2000 8013 1029 2123 1005 1056 2017 2130 2031 1996 14571 2000 3362 2041 2000 1996 8013 1998 2292 2068 2113 1999 2553 1996 2344 2071 2025 2022 5359 1998 2123 1005 1056 2017 2130 3046 11538 2007 2115 5826 1998 17088 1012 2023 2003 9467 999 2344 8909 1024 1051 2094 12521 18827 2692 2620 19481 2581 28756 16703 22907 8889 2692 2378 27082 3372 1024 1999 17465 2692 2581 21486 16068 22610 19481 25746 2581 17914 21619 2683 10258 8490 2023 3319 4313 16570 13331 3372 7011 3489 19792 2243 4067 2017 999 2057 9120 2115 3947 1012 102 0 0 0 0 0 0 0 0 0 0 0 0 0 0 0 0 0 0 0 0 0 0 0 0 0 0 0 0 0 0 0 0 0 0 0 0 0 0\n"
          ],
          "name": "stdout"
        },
        {
          "output_type": "stream",
          "text": [
            "INFO:tensorflow:input_ids: 101 11238 6673 2102 3478 2000 8116 2026 2344 3807 1998 2027 8014 2009 2006 2037 2217 2007 2019 10373 3038 2008 1996 18092 2326 2001 4039 2000 3362 2033 2006 2026 3042 2030 4769 1012 2008 2003 2019 7619 4682 1012 2027 2196 11925 2033 4953 2023 2344 1012 2339 2079 2017 10587 5342 2115 4945 2011 6016 2107 22028 2000 8013 1029 2123 1005 1056 2017 2130 2031 1996 14571 2000 3362 2041 2000 1996 8013 1998 2292 2068 2113 1999 2553 1996 2344 2071 2025 2022 5359 1998 2123 1005 1056 2017 2130 3046 11538 2007 2115 5826 1998 17088 1012 2023 2003 9467 999 2344 8909 1024 1051 2094 12521 18827 2692 2620 19481 2581 28756 16703 22907 8889 2692 2378 27082 3372 1024 1999 17465 2692 2581 21486 16068 22610 19481 25746 2581 17914 21619 2683 10258 8490 2023 3319 4313 16570 13331 3372 7011 3489 19792 2243 4067 2017 999 2057 9120 2115 3947 1012 102 0 0 0 0 0 0 0 0 0 0 0 0 0 0 0 0 0 0 0 0 0 0 0 0 0 0 0 0 0 0 0 0 0 0 0 0 0 0\n"
          ],
          "name": "stderr"
        },
        {
          "output_type": "stream",
          "text": [
            "INFO:tensorflow:input_mask: 1 1 1 1 1 1 1 1 1 1 1 1 1 1 1 1 1 1 1 1 1 1 1 1 1 1 1 1 1 1 1 1 1 1 1 1 1 1 1 1 1 1 1 1 1 1 1 1 1 1 1 1 1 1 1 1 1 1 1 1 1 1 1 1 1 1 1 1 1 1 1 1 1 1 1 1 1 1 1 1 1 1 1 1 1 1 1 1 1 1 1 1 1 1 1 1 1 1 1 1 1 1 1 1 1 1 1 1 1 1 1 1 1 1 1 1 1 1 1 1 1 1 1 1 1 1 1 1 1 1 1 1 1 1 1 1 1 1 1 1 1 1 1 1 1 1 1 1 1 1 1 1 1 1 1 1 1 1 1 1 1 1 0 0 0 0 0 0 0 0 0 0 0 0 0 0 0 0 0 0 0 0 0 0 0 0 0 0 0 0 0 0 0 0 0 0 0 0 0 0\n"
          ],
          "name": "stdout"
        },
        {
          "output_type": "stream",
          "text": [
            "INFO:tensorflow:input_mask: 1 1 1 1 1 1 1 1 1 1 1 1 1 1 1 1 1 1 1 1 1 1 1 1 1 1 1 1 1 1 1 1 1 1 1 1 1 1 1 1 1 1 1 1 1 1 1 1 1 1 1 1 1 1 1 1 1 1 1 1 1 1 1 1 1 1 1 1 1 1 1 1 1 1 1 1 1 1 1 1 1 1 1 1 1 1 1 1 1 1 1 1 1 1 1 1 1 1 1 1 1 1 1 1 1 1 1 1 1 1 1 1 1 1 1 1 1 1 1 1 1 1 1 1 1 1 1 1 1 1 1 1 1 1 1 1 1 1 1 1 1 1 1 1 1 1 1 1 1 1 1 1 1 1 1 1 1 1 1 1 1 1 0 0 0 0 0 0 0 0 0 0 0 0 0 0 0 0 0 0 0 0 0 0 0 0 0 0 0 0 0 0 0 0 0 0 0 0 0 0\n"
          ],
          "name": "stderr"
        },
        {
          "output_type": "stream",
          "text": [
            "INFO:tensorflow:segment_ids: 0 0 0 0 0 0 0 0 0 0 0 0 0 0 0 0 0 0 0 0 0 0 0 0 0 0 0 0 0 0 0 0 0 0 0 0 0 0 0 0 0 0 0 0 0 0 0 0 0 0 0 0 0 0 0 0 0 0 0 0 0 0 0 0 0 0 0 0 0 0 0 0 0 0 0 0 0 0 0 0 0 0 0 0 0 0 0 0 0 0 0 0 0 0 0 0 0 0 0 0 0 0 0 0 0 0 0 0 0 0 0 0 0 0 0 0 0 0 0 0 0 0 0 0 0 0 0 0 0 0 0 0 0 0 0 0 0 0 0 0 0 0 0 0 0 0 0 0 0 0 0 0 0 0 0 0 0 0 0 0 0 0 0 0 0 0 0 0 0 0 0 0 0 0 0 0 0 0 0 0 0 0 0 0 0 0 0 0 0 0 0 0 0 0 0 0 0 0 0 0\n"
          ],
          "name": "stdout"
        },
        {
          "output_type": "stream",
          "text": [
            "INFO:tensorflow:segment_ids: 0 0 0 0 0 0 0 0 0 0 0 0 0 0 0 0 0 0 0 0 0 0 0 0 0 0 0 0 0 0 0 0 0 0 0 0 0 0 0 0 0 0 0 0 0 0 0 0 0 0 0 0 0 0 0 0 0 0 0 0 0 0 0 0 0 0 0 0 0 0 0 0 0 0 0 0 0 0 0 0 0 0 0 0 0 0 0 0 0 0 0 0 0 0 0 0 0 0 0 0 0 0 0 0 0 0 0 0 0 0 0 0 0 0 0 0 0 0 0 0 0 0 0 0 0 0 0 0 0 0 0 0 0 0 0 0 0 0 0 0 0 0 0 0 0 0 0 0 0 0 0 0 0 0 0 0 0 0 0 0 0 0 0 0 0 0 0 0 0 0 0 0 0 0 0 0 0 0 0 0 0 0 0 0 0 0 0 0 0 0 0 0 0 0 0 0 0 0 0 0\n"
          ],
          "name": "stderr"
        },
        {
          "output_type": "stream",
          "text": [
            "INFO:tensorflow:label: 0 (id = 0)\n"
          ],
          "name": "stdout"
        },
        {
          "output_type": "stream",
          "text": [
            "INFO:tensorflow:label: 0 (id = 0)\n"
          ],
          "name": "stderr"
        },
        {
          "output_type": "stream",
          "text": [
            "INFO:tensorflow:Writing example 0 of 1600\n"
          ],
          "name": "stdout"
        },
        {
          "output_type": "stream",
          "text": [
            "INFO:tensorflow:Writing example 0 of 1600\n"
          ],
          "name": "stderr"
        },
        {
          "output_type": "stream",
          "text": [
            "INFO:tensorflow:*** Example ***\n"
          ],
          "name": "stdout"
        },
        {
          "output_type": "stream",
          "text": [
            "INFO:tensorflow:*** Example ***\n"
          ],
          "name": "stderr"
        },
        {
          "output_type": "stream",
          "text": [
            "INFO:tensorflow:guid: None\n"
          ],
          "name": "stdout"
        },
        {
          "output_type": "stream",
          "text": [
            "INFO:tensorflow:guid: None\n"
          ],
          "name": "stderr"
        },
        {
          "output_type": "stream",
          "text": [
            "INFO:tensorflow:tokens: [CLS] flip ##kar ##t not delivered thinks in even sm ##oll town i orders thinks but they not takes my order . but flip ##kar ##t provided good service in city ' s they gives good offers on it ##ea ##m compare other online website . my suggestion if u live city ' s best buy electronic thinks in flip ##kar ##t . they will gave service in village that ##s helps to poor people also ##fl ##ag this review ##ir ##rel ##eva ##nt ##fa ##ke ##jun ##k thank you ! we appreciate your effort . [SEP]\n"
          ],
          "name": "stdout"
        },
        {
          "output_type": "stream",
          "text": [
            "INFO:tensorflow:tokens: [CLS] flip ##kar ##t not delivered thinks in even sm ##oll town i orders thinks but they not takes my order . but flip ##kar ##t provided good service in city ' s they gives good offers on it ##ea ##m compare other online website . my suggestion if u live city ' s best buy electronic thinks in flip ##kar ##t . they will gave service in village that ##s helps to poor people also ##fl ##ag this review ##ir ##rel ##eva ##nt ##fa ##ke ##jun ##k thank you ! we appreciate your effort . [SEP]\n"
          ],
          "name": "stderr"
        },
        {
          "output_type": "stream",
          "text": [
            "INFO:tensorflow:input_ids: 101 11238 6673 2102 2025 5359 6732 1999 2130 15488 14511 2237 1045 4449 6732 2021 2027 2025 3138 2026 2344 1012 2021 11238 6673 2102 3024 2204 2326 1999 2103 1005 1055 2027 3957 2204 4107 2006 2009 5243 2213 12826 2060 3784 4037 1012 2026 10293 2065 1057 2444 2103 1005 1055 2190 4965 4816 6732 1999 11238 6673 2102 1012 2027 2097 2435 2326 1999 2352 2008 2015 7126 2000 3532 2111 2036 10258 8490 2023 3319 4313 16570 13331 3372 7011 3489 19792 2243 4067 2017 999 2057 9120 2115 3947 1012 102 0 0 0 0 0 0 0 0 0 0 0 0 0 0 0 0 0 0 0 0 0 0 0 0 0 0 0 0 0 0 0 0 0 0 0 0 0 0 0 0 0 0 0 0 0 0 0 0 0 0 0 0 0 0 0 0 0 0 0 0 0 0 0 0 0 0 0 0 0 0 0 0 0 0 0 0 0 0 0 0 0 0 0 0 0 0 0 0 0 0 0 0 0 0 0 0 0 0 0 0 0 0 0\n"
          ],
          "name": "stdout"
        },
        {
          "output_type": "stream",
          "text": [
            "INFO:tensorflow:input_ids: 101 11238 6673 2102 2025 5359 6732 1999 2130 15488 14511 2237 1045 4449 6732 2021 2027 2025 3138 2026 2344 1012 2021 11238 6673 2102 3024 2204 2326 1999 2103 1005 1055 2027 3957 2204 4107 2006 2009 5243 2213 12826 2060 3784 4037 1012 2026 10293 2065 1057 2444 2103 1005 1055 2190 4965 4816 6732 1999 11238 6673 2102 1012 2027 2097 2435 2326 1999 2352 2008 2015 7126 2000 3532 2111 2036 10258 8490 2023 3319 4313 16570 13331 3372 7011 3489 19792 2243 4067 2017 999 2057 9120 2115 3947 1012 102 0 0 0 0 0 0 0 0 0 0 0 0 0 0 0 0 0 0 0 0 0 0 0 0 0 0 0 0 0 0 0 0 0 0 0 0 0 0 0 0 0 0 0 0 0 0 0 0 0 0 0 0 0 0 0 0 0 0 0 0 0 0 0 0 0 0 0 0 0 0 0 0 0 0 0 0 0 0 0 0 0 0 0 0 0 0 0 0 0 0 0 0 0 0 0 0 0 0 0 0 0 0 0\n"
          ],
          "name": "stderr"
        },
        {
          "output_type": "stream",
          "text": [
            "INFO:tensorflow:input_mask: 1 1 1 1 1 1 1 1 1 1 1 1 1 1 1 1 1 1 1 1 1 1 1 1 1 1 1 1 1 1 1 1 1 1 1 1 1 1 1 1 1 1 1 1 1 1 1 1 1 1 1 1 1 1 1 1 1 1 1 1 1 1 1 1 1 1 1 1 1 1 1 1 1 1 1 1 1 1 1 1 1 1 1 1 1 1 1 1 1 1 1 1 1 1 1 1 1 0 0 0 0 0 0 0 0 0 0 0 0 0 0 0 0 0 0 0 0 0 0 0 0 0 0 0 0 0 0 0 0 0 0 0 0 0 0 0 0 0 0 0 0 0 0 0 0 0 0 0 0 0 0 0 0 0 0 0 0 0 0 0 0 0 0 0 0 0 0 0 0 0 0 0 0 0 0 0 0 0 0 0 0 0 0 0 0 0 0 0 0 0 0 0 0 0 0 0 0 0 0 0\n"
          ],
          "name": "stdout"
        },
        {
          "output_type": "stream",
          "text": [
            "INFO:tensorflow:input_mask: 1 1 1 1 1 1 1 1 1 1 1 1 1 1 1 1 1 1 1 1 1 1 1 1 1 1 1 1 1 1 1 1 1 1 1 1 1 1 1 1 1 1 1 1 1 1 1 1 1 1 1 1 1 1 1 1 1 1 1 1 1 1 1 1 1 1 1 1 1 1 1 1 1 1 1 1 1 1 1 1 1 1 1 1 1 1 1 1 1 1 1 1 1 1 1 1 1 0 0 0 0 0 0 0 0 0 0 0 0 0 0 0 0 0 0 0 0 0 0 0 0 0 0 0 0 0 0 0 0 0 0 0 0 0 0 0 0 0 0 0 0 0 0 0 0 0 0 0 0 0 0 0 0 0 0 0 0 0 0 0 0 0 0 0 0 0 0 0 0 0 0 0 0 0 0 0 0 0 0 0 0 0 0 0 0 0 0 0 0 0 0 0 0 0 0 0 0 0 0 0\n"
          ],
          "name": "stderr"
        },
        {
          "output_type": "stream",
          "text": [
            "INFO:tensorflow:segment_ids: 0 0 0 0 0 0 0 0 0 0 0 0 0 0 0 0 0 0 0 0 0 0 0 0 0 0 0 0 0 0 0 0 0 0 0 0 0 0 0 0 0 0 0 0 0 0 0 0 0 0 0 0 0 0 0 0 0 0 0 0 0 0 0 0 0 0 0 0 0 0 0 0 0 0 0 0 0 0 0 0 0 0 0 0 0 0 0 0 0 0 0 0 0 0 0 0 0 0 0 0 0 0 0 0 0 0 0 0 0 0 0 0 0 0 0 0 0 0 0 0 0 0 0 0 0 0 0 0 0 0 0 0 0 0 0 0 0 0 0 0 0 0 0 0 0 0 0 0 0 0 0 0 0 0 0 0 0 0 0 0 0 0 0 0 0 0 0 0 0 0 0 0 0 0 0 0 0 0 0 0 0 0 0 0 0 0 0 0 0 0 0 0 0 0 0 0 0 0 0 0\n"
          ],
          "name": "stdout"
        },
        {
          "output_type": "stream",
          "text": [
            "INFO:tensorflow:segment_ids: 0 0 0 0 0 0 0 0 0 0 0 0 0 0 0 0 0 0 0 0 0 0 0 0 0 0 0 0 0 0 0 0 0 0 0 0 0 0 0 0 0 0 0 0 0 0 0 0 0 0 0 0 0 0 0 0 0 0 0 0 0 0 0 0 0 0 0 0 0 0 0 0 0 0 0 0 0 0 0 0 0 0 0 0 0 0 0 0 0 0 0 0 0 0 0 0 0 0 0 0 0 0 0 0 0 0 0 0 0 0 0 0 0 0 0 0 0 0 0 0 0 0 0 0 0 0 0 0 0 0 0 0 0 0 0 0 0 0 0 0 0 0 0 0 0 0 0 0 0 0 0 0 0 0 0 0 0 0 0 0 0 0 0 0 0 0 0 0 0 0 0 0 0 0 0 0 0 0 0 0 0 0 0 0 0 0 0 0 0 0 0 0 0 0 0 0 0 0 0 0\n"
          ],
          "name": "stderr"
        },
        {
          "output_type": "stream",
          "text": [
            "INFO:tensorflow:label: 1 (id = 1)\n"
          ],
          "name": "stdout"
        },
        {
          "output_type": "stream",
          "text": [
            "INFO:tensorflow:label: 1 (id = 1)\n"
          ],
          "name": "stderr"
        },
        {
          "output_type": "stream",
          "text": [
            "INFO:tensorflow:*** Example ***\n"
          ],
          "name": "stdout"
        },
        {
          "output_type": "stream",
          "text": [
            "INFO:tensorflow:*** Example ***\n"
          ],
          "name": "stderr"
        },
        {
          "output_type": "stream",
          "text": [
            "INFO:tensorflow:guid: None\n"
          ],
          "name": "stdout"
        },
        {
          "output_type": "stream",
          "text": [
            "INFO:tensorflow:guid: None\n"
          ],
          "name": "stderr"
        },
        {
          "output_type": "stream",
          "text": [
            "INFO:tensorflow:tokens: [CLS] dear sir ##my account not working please re - active my account bearing mobile no 98 ##56 ##40 ##6 ##25 ##8 . thank ##you ##fl ##ag this review ##ir ##rel ##eva ##nt ##fa ##ke ##jun ##k thank you ! we appreciate your effort . [SEP]\n"
          ],
          "name": "stdout"
        },
        {
          "output_type": "stream",
          "text": [
            "INFO:tensorflow:tokens: [CLS] dear sir ##my account not working please re - active my account bearing mobile no 98 ##56 ##40 ##6 ##25 ##8 . thank ##you ##fl ##ag this review ##ir ##rel ##eva ##nt ##fa ##ke ##jun ##k thank you ! we appreciate your effort . [SEP]\n"
          ],
          "name": "stderr"
        },
        {
          "output_type": "stream",
          "text": [
            "INFO:tensorflow:input_ids: 101 6203 2909 8029 4070 2025 2551 3531 2128 1011 3161 2026 4070 7682 4684 2053 5818 26976 12740 2575 17788 2620 1012 4067 29337 10258 8490 2023 3319 4313 16570 13331 3372 7011 3489 19792 2243 4067 2017 999 2057 9120 2115 3947 1012 102 0 0 0 0 0 0 0 0 0 0 0 0 0 0 0 0 0 0 0 0 0 0 0 0 0 0 0 0 0 0 0 0 0 0 0 0 0 0 0 0 0 0 0 0 0 0 0 0 0 0 0 0 0 0 0 0 0 0 0 0 0 0 0 0 0 0 0 0 0 0 0 0 0 0 0 0 0 0 0 0 0 0 0 0 0 0 0 0 0 0 0 0 0 0 0 0 0 0 0 0 0 0 0 0 0 0 0 0 0 0 0 0 0 0 0 0 0 0 0 0 0 0 0 0 0 0 0 0 0 0 0 0 0 0 0 0 0 0 0 0 0 0 0 0 0 0 0 0 0 0 0 0 0 0\n"
          ],
          "name": "stdout"
        },
        {
          "output_type": "stream",
          "text": [
            "INFO:tensorflow:input_ids: 101 6203 2909 8029 4070 2025 2551 3531 2128 1011 3161 2026 4070 7682 4684 2053 5818 26976 12740 2575 17788 2620 1012 4067 29337 10258 8490 2023 3319 4313 16570 13331 3372 7011 3489 19792 2243 4067 2017 999 2057 9120 2115 3947 1012 102 0 0 0 0 0 0 0 0 0 0 0 0 0 0 0 0 0 0 0 0 0 0 0 0 0 0 0 0 0 0 0 0 0 0 0 0 0 0 0 0 0 0 0 0 0 0 0 0 0 0 0 0 0 0 0 0 0 0 0 0 0 0 0 0 0 0 0 0 0 0 0 0 0 0 0 0 0 0 0 0 0 0 0 0 0 0 0 0 0 0 0 0 0 0 0 0 0 0 0 0 0 0 0 0 0 0 0 0 0 0 0 0 0 0 0 0 0 0 0 0 0 0 0 0 0 0 0 0 0 0 0 0 0 0 0 0 0 0 0 0 0 0 0 0 0 0 0 0 0 0 0 0 0 0\n"
          ],
          "name": "stderr"
        },
        {
          "output_type": "stream",
          "text": [
            "INFO:tensorflow:input_mask: 1 1 1 1 1 1 1 1 1 1 1 1 1 1 1 1 1 1 1 1 1 1 1 1 1 1 1 1 1 1 1 1 1 1 1 1 1 1 1 1 1 1 1 1 1 1 0 0 0 0 0 0 0 0 0 0 0 0 0 0 0 0 0 0 0 0 0 0 0 0 0 0 0 0 0 0 0 0 0 0 0 0 0 0 0 0 0 0 0 0 0 0 0 0 0 0 0 0 0 0 0 0 0 0 0 0 0 0 0 0 0 0 0 0 0 0 0 0 0 0 0 0 0 0 0 0 0 0 0 0 0 0 0 0 0 0 0 0 0 0 0 0 0 0 0 0 0 0 0 0 0 0 0 0 0 0 0 0 0 0 0 0 0 0 0 0 0 0 0 0 0 0 0 0 0 0 0 0 0 0 0 0 0 0 0 0 0 0 0 0 0 0 0 0 0 0 0 0 0 0\n"
          ],
          "name": "stdout"
        },
        {
          "output_type": "stream",
          "text": [
            "INFO:tensorflow:input_mask: 1 1 1 1 1 1 1 1 1 1 1 1 1 1 1 1 1 1 1 1 1 1 1 1 1 1 1 1 1 1 1 1 1 1 1 1 1 1 1 1 1 1 1 1 1 1 0 0 0 0 0 0 0 0 0 0 0 0 0 0 0 0 0 0 0 0 0 0 0 0 0 0 0 0 0 0 0 0 0 0 0 0 0 0 0 0 0 0 0 0 0 0 0 0 0 0 0 0 0 0 0 0 0 0 0 0 0 0 0 0 0 0 0 0 0 0 0 0 0 0 0 0 0 0 0 0 0 0 0 0 0 0 0 0 0 0 0 0 0 0 0 0 0 0 0 0 0 0 0 0 0 0 0 0 0 0 0 0 0 0 0 0 0 0 0 0 0 0 0 0 0 0 0 0 0 0 0 0 0 0 0 0 0 0 0 0 0 0 0 0 0 0 0 0 0 0 0 0 0 0\n"
          ],
          "name": "stderr"
        },
        {
          "output_type": "stream",
          "text": [
            "INFO:tensorflow:segment_ids: 0 0 0 0 0 0 0 0 0 0 0 0 0 0 0 0 0 0 0 0 0 0 0 0 0 0 0 0 0 0 0 0 0 0 0 0 0 0 0 0 0 0 0 0 0 0 0 0 0 0 0 0 0 0 0 0 0 0 0 0 0 0 0 0 0 0 0 0 0 0 0 0 0 0 0 0 0 0 0 0 0 0 0 0 0 0 0 0 0 0 0 0 0 0 0 0 0 0 0 0 0 0 0 0 0 0 0 0 0 0 0 0 0 0 0 0 0 0 0 0 0 0 0 0 0 0 0 0 0 0 0 0 0 0 0 0 0 0 0 0 0 0 0 0 0 0 0 0 0 0 0 0 0 0 0 0 0 0 0 0 0 0 0 0 0 0 0 0 0 0 0 0 0 0 0 0 0 0 0 0 0 0 0 0 0 0 0 0 0 0 0 0 0 0 0 0 0 0 0 0\n"
          ],
          "name": "stdout"
        },
        {
          "output_type": "stream",
          "text": [
            "INFO:tensorflow:segment_ids: 0 0 0 0 0 0 0 0 0 0 0 0 0 0 0 0 0 0 0 0 0 0 0 0 0 0 0 0 0 0 0 0 0 0 0 0 0 0 0 0 0 0 0 0 0 0 0 0 0 0 0 0 0 0 0 0 0 0 0 0 0 0 0 0 0 0 0 0 0 0 0 0 0 0 0 0 0 0 0 0 0 0 0 0 0 0 0 0 0 0 0 0 0 0 0 0 0 0 0 0 0 0 0 0 0 0 0 0 0 0 0 0 0 0 0 0 0 0 0 0 0 0 0 0 0 0 0 0 0 0 0 0 0 0 0 0 0 0 0 0 0 0 0 0 0 0 0 0 0 0 0 0 0 0 0 0 0 0 0 0 0 0 0 0 0 0 0 0 0 0 0 0 0 0 0 0 0 0 0 0 0 0 0 0 0 0 0 0 0 0 0 0 0 0 0 0 0 0 0 0\n"
          ],
          "name": "stderr"
        },
        {
          "output_type": "stream",
          "text": [
            "INFO:tensorflow:label: 1 (id = 1)\n"
          ],
          "name": "stdout"
        },
        {
          "output_type": "stream",
          "text": [
            "INFO:tensorflow:label: 1 (id = 1)\n"
          ],
          "name": "stderr"
        },
        {
          "output_type": "stream",
          "text": [
            "INFO:tensorflow:*** Example ***\n"
          ],
          "name": "stdout"
        },
        {
          "output_type": "stream",
          "text": [
            "INFO:tensorflow:*** Example ***\n"
          ],
          "name": "stderr"
        },
        {
          "output_type": "stream",
          "text": [
            "INFO:tensorflow:guid: None\n"
          ],
          "name": "stdout"
        },
        {
          "output_type": "stream",
          "text": [
            "INFO:tensorflow:guid: None\n"
          ],
          "name": "stderr"
        },
        {
          "output_type": "stream",
          "text": [
            "INFO:tensorflow:tokens: [CLS] poison ! when i opened the packet there was a strong paint smell . when i scratched the rice scales of black paint came from the rice . shocking . please don ##t buy from this brand i brought more than 8 kg ##s from this brand . i am very much dissatisfied with flip ##kar ##t on having such brands . when you deliver food product you should check the quality . giving people poison in the name of food is an im ##moral and ir ##res ##pon ##sible act . as you can see in the pictures the paint layer comes off the rice surface when you scratch it . i have purchased many organic products from different sites and different brands and this is the first time i am encounter ##ing a fraud company . flag this review ##ir ##rel ##eva ##nt ##fa ##ke ##jun ##k thank you ! we appreciate your effort . [SEP]\n"
          ],
          "name": "stdout"
        },
        {
          "output_type": "stream",
          "text": [
            "INFO:tensorflow:tokens: [CLS] poison ! when i opened the packet there was a strong paint smell . when i scratched the rice scales of black paint came from the rice . shocking . please don ##t buy from this brand i brought more than 8 kg ##s from this brand . i am very much dissatisfied with flip ##kar ##t on having such brands . when you deliver food product you should check the quality . giving people poison in the name of food is an im ##moral and ir ##res ##pon ##sible act . as you can see in the pictures the paint layer comes off the rice surface when you scratch it . i have purchased many organic products from different sites and different brands and this is the first time i am encounter ##ing a fraud company . flag this review ##ir ##rel ##eva ##nt ##fa ##ke ##jun ##k thank you ! we appreciate your effort . [SEP]\n"
          ],
          "name": "stderr"
        },
        {
          "output_type": "stream",
          "text": [
            "INFO:tensorflow:input_ids: 101 9947 999 2043 1045 2441 1996 14771 2045 2001 1037 2844 6773 5437 1012 2043 1045 15047 1996 5785 9539 1997 2304 6773 2234 2013 1996 5785 1012 16880 1012 3531 2123 2102 4965 2013 2023 4435 1045 2716 2062 2084 1022 4705 2015 2013 2023 4435 1012 1045 2572 2200 2172 25956 2007 11238 6673 2102 2006 2383 2107 9639 1012 2043 2017 8116 2833 4031 2017 2323 4638 1996 3737 1012 3228 2111 9947 1999 1996 2171 1997 2833 2003 2019 10047 22049 1998 20868 6072 26029 19307 2552 1012 2004 2017 2064 2156 1999 1996 4620 1996 6773 6741 3310 2125 1996 5785 3302 2043 2017 11969 2009 1012 1045 2031 4156 2116 7554 3688 2013 2367 4573 1998 2367 9639 1998 2023 2003 1996 2034 2051 1045 2572 8087 2075 1037 9861 2194 1012 5210 2023 3319 4313 16570 13331 3372 7011 3489 19792 2243 4067 2017 999 2057 9120 2115 3947 1012 102 0 0 0 0 0 0 0 0 0 0 0 0 0 0 0 0 0 0 0 0 0 0 0 0 0 0 0 0 0 0 0 0 0 0 0 0 0 0 0 0 0\n"
          ],
          "name": "stdout"
        },
        {
          "output_type": "stream",
          "text": [
            "INFO:tensorflow:input_ids: 101 9947 999 2043 1045 2441 1996 14771 2045 2001 1037 2844 6773 5437 1012 2043 1045 15047 1996 5785 9539 1997 2304 6773 2234 2013 1996 5785 1012 16880 1012 3531 2123 2102 4965 2013 2023 4435 1045 2716 2062 2084 1022 4705 2015 2013 2023 4435 1012 1045 2572 2200 2172 25956 2007 11238 6673 2102 2006 2383 2107 9639 1012 2043 2017 8116 2833 4031 2017 2323 4638 1996 3737 1012 3228 2111 9947 1999 1996 2171 1997 2833 2003 2019 10047 22049 1998 20868 6072 26029 19307 2552 1012 2004 2017 2064 2156 1999 1996 4620 1996 6773 6741 3310 2125 1996 5785 3302 2043 2017 11969 2009 1012 1045 2031 4156 2116 7554 3688 2013 2367 4573 1998 2367 9639 1998 2023 2003 1996 2034 2051 1045 2572 8087 2075 1037 9861 2194 1012 5210 2023 3319 4313 16570 13331 3372 7011 3489 19792 2243 4067 2017 999 2057 9120 2115 3947 1012 102 0 0 0 0 0 0 0 0 0 0 0 0 0 0 0 0 0 0 0 0 0 0 0 0 0 0 0 0 0 0 0 0 0 0 0 0 0 0 0 0 0\n"
          ],
          "name": "stderr"
        },
        {
          "output_type": "stream",
          "text": [
            "INFO:tensorflow:input_mask: 1 1 1 1 1 1 1 1 1 1 1 1 1 1 1 1 1 1 1 1 1 1 1 1 1 1 1 1 1 1 1 1 1 1 1 1 1 1 1 1 1 1 1 1 1 1 1 1 1 1 1 1 1 1 1 1 1 1 1 1 1 1 1 1 1 1 1 1 1 1 1 1 1 1 1 1 1 1 1 1 1 1 1 1 1 1 1 1 1 1 1 1 1 1 1 1 1 1 1 1 1 1 1 1 1 1 1 1 1 1 1 1 1 1 1 1 1 1 1 1 1 1 1 1 1 1 1 1 1 1 1 1 1 1 1 1 1 1 1 1 1 1 1 1 1 1 1 1 1 1 1 1 1 1 1 1 1 1 1 0 0 0 0 0 0 0 0 0 0 0 0 0 0 0 0 0 0 0 0 0 0 0 0 0 0 0 0 0 0 0 0 0 0 0 0 0 0 0 0 0\n"
          ],
          "name": "stdout"
        },
        {
          "output_type": "stream",
          "text": [
            "INFO:tensorflow:input_mask: 1 1 1 1 1 1 1 1 1 1 1 1 1 1 1 1 1 1 1 1 1 1 1 1 1 1 1 1 1 1 1 1 1 1 1 1 1 1 1 1 1 1 1 1 1 1 1 1 1 1 1 1 1 1 1 1 1 1 1 1 1 1 1 1 1 1 1 1 1 1 1 1 1 1 1 1 1 1 1 1 1 1 1 1 1 1 1 1 1 1 1 1 1 1 1 1 1 1 1 1 1 1 1 1 1 1 1 1 1 1 1 1 1 1 1 1 1 1 1 1 1 1 1 1 1 1 1 1 1 1 1 1 1 1 1 1 1 1 1 1 1 1 1 1 1 1 1 1 1 1 1 1 1 1 1 1 1 1 1 0 0 0 0 0 0 0 0 0 0 0 0 0 0 0 0 0 0 0 0 0 0 0 0 0 0 0 0 0 0 0 0 0 0 0 0 0 0 0 0 0\n"
          ],
          "name": "stderr"
        },
        {
          "output_type": "stream",
          "text": [
            "INFO:tensorflow:segment_ids: 0 0 0 0 0 0 0 0 0 0 0 0 0 0 0 0 0 0 0 0 0 0 0 0 0 0 0 0 0 0 0 0 0 0 0 0 0 0 0 0 0 0 0 0 0 0 0 0 0 0 0 0 0 0 0 0 0 0 0 0 0 0 0 0 0 0 0 0 0 0 0 0 0 0 0 0 0 0 0 0 0 0 0 0 0 0 0 0 0 0 0 0 0 0 0 0 0 0 0 0 0 0 0 0 0 0 0 0 0 0 0 0 0 0 0 0 0 0 0 0 0 0 0 0 0 0 0 0 0 0 0 0 0 0 0 0 0 0 0 0 0 0 0 0 0 0 0 0 0 0 0 0 0 0 0 0 0 0 0 0 0 0 0 0 0 0 0 0 0 0 0 0 0 0 0 0 0 0 0 0 0 0 0 0 0 0 0 0 0 0 0 0 0 0 0 0 0 0 0 0\n"
          ],
          "name": "stdout"
        },
        {
          "output_type": "stream",
          "text": [
            "INFO:tensorflow:segment_ids: 0 0 0 0 0 0 0 0 0 0 0 0 0 0 0 0 0 0 0 0 0 0 0 0 0 0 0 0 0 0 0 0 0 0 0 0 0 0 0 0 0 0 0 0 0 0 0 0 0 0 0 0 0 0 0 0 0 0 0 0 0 0 0 0 0 0 0 0 0 0 0 0 0 0 0 0 0 0 0 0 0 0 0 0 0 0 0 0 0 0 0 0 0 0 0 0 0 0 0 0 0 0 0 0 0 0 0 0 0 0 0 0 0 0 0 0 0 0 0 0 0 0 0 0 0 0 0 0 0 0 0 0 0 0 0 0 0 0 0 0 0 0 0 0 0 0 0 0 0 0 0 0 0 0 0 0 0 0 0 0 0 0 0 0 0 0 0 0 0 0 0 0 0 0 0 0 0 0 0 0 0 0 0 0 0 0 0 0 0 0 0 0 0 0 0 0 0 0 0 0\n"
          ],
          "name": "stderr"
        },
        {
          "output_type": "stream",
          "text": [
            "INFO:tensorflow:label: 0 (id = 0)\n"
          ],
          "name": "stdout"
        },
        {
          "output_type": "stream",
          "text": [
            "INFO:tensorflow:label: 0 (id = 0)\n"
          ],
          "name": "stderr"
        },
        {
          "output_type": "stream",
          "text": [
            "INFO:tensorflow:*** Example ***\n"
          ],
          "name": "stdout"
        },
        {
          "output_type": "stream",
          "text": [
            "INFO:tensorflow:*** Example ***\n"
          ],
          "name": "stderr"
        },
        {
          "output_type": "stream",
          "text": [
            "INFO:tensorflow:guid: None\n"
          ],
          "name": "stdout"
        },
        {
          "output_type": "stream",
          "text": [
            "INFO:tensorflow:guid: None\n"
          ],
          "name": "stderr"
        },
        {
          "output_type": "stream",
          "text": [
            "INFO:tensorflow:tokens: [CLS] mostly you are on luck when you order from flip ##kar ##t . if you are ordering small product like pen ##drive , you may get support if you have received defective product but if it is an app ##lian ##ce washing machine or ac . your money is gone , the process is super complicated and you will quit half way that ' s what flip ##kar ##t wants . order - o ##d ##12 ##24 ##0 ##70 ##90 ##86 ##8 ##42 ##90 ##00 ##als ##o their support team disco ##nne ##cts the call or leave the chat half way if they know its a big app ##lian ##ce . always go for amazon or any other website , flip ##kar ##t is not trust ##worthy when you need support . flag this review ##ir ##rel ##eva ##nt ##fa ##ke ##jun ##k thank you ! we appreciate your effort . [SEP]\n"
          ],
          "name": "stdout"
        },
        {
          "output_type": "stream",
          "text": [
            "INFO:tensorflow:tokens: [CLS] mostly you are on luck when you order from flip ##kar ##t . if you are ordering small product like pen ##drive , you may get support if you have received defective product but if it is an app ##lian ##ce washing machine or ac . your money is gone , the process is super complicated and you will quit half way that ' s what flip ##kar ##t wants . order - o ##d ##12 ##24 ##0 ##70 ##90 ##86 ##8 ##42 ##90 ##00 ##als ##o their support team disco ##nne ##cts the call or leave the chat half way if they know its a big app ##lian ##ce . always go for amazon or any other website , flip ##kar ##t is not trust ##worthy when you need support . flag this review ##ir ##rel ##eva ##nt ##fa ##ke ##jun ##k thank you ! we appreciate your effort . [SEP]\n"
          ],
          "name": "stderr"
        },
        {
          "output_type": "stream",
          "text": [
            "INFO:tensorflow:input_ids: 101 3262 2017 2024 2006 6735 2043 2017 2344 2013 11238 6673 2102 1012 2065 2017 2024 13063 2235 4031 2066 7279 23663 1010 2017 2089 2131 2490 2065 2017 2031 2363 28829 4031 2021 2065 2009 2003 2019 10439 15204 3401 12699 3698 2030 9353 1012 2115 2769 2003 2908 1010 1996 2832 2003 3565 8552 1998 2017 2097 8046 2431 2126 2008 1005 1055 2054 11238 6673 2102 4122 1012 2344 1011 1051 2094 12521 18827 2692 19841 21057 20842 2620 20958 21057 8889 9777 2080 2037 2490 2136 12532 10087 16649 1996 2655 2030 2681 1996 11834 2431 2126 2065 2027 2113 2049 1037 2502 10439 15204 3401 1012 2467 2175 2005 9733 2030 2151 2060 4037 1010 11238 6673 2102 2003 2025 3404 13966 2043 2017 2342 2490 1012 5210 2023 3319 4313 16570 13331 3372 7011 3489 19792 2243 4067 2017 999 2057 9120 2115 3947 1012 102 0 0 0 0 0 0 0 0 0 0 0 0 0 0 0 0 0 0 0 0 0 0 0 0 0 0 0 0 0 0 0 0 0 0 0 0 0 0 0 0 0 0 0 0 0 0 0\n"
          ],
          "name": "stdout"
        },
        {
          "output_type": "stream",
          "text": [
            "INFO:tensorflow:input_ids: 101 3262 2017 2024 2006 6735 2043 2017 2344 2013 11238 6673 2102 1012 2065 2017 2024 13063 2235 4031 2066 7279 23663 1010 2017 2089 2131 2490 2065 2017 2031 2363 28829 4031 2021 2065 2009 2003 2019 10439 15204 3401 12699 3698 2030 9353 1012 2115 2769 2003 2908 1010 1996 2832 2003 3565 8552 1998 2017 2097 8046 2431 2126 2008 1005 1055 2054 11238 6673 2102 4122 1012 2344 1011 1051 2094 12521 18827 2692 19841 21057 20842 2620 20958 21057 8889 9777 2080 2037 2490 2136 12532 10087 16649 1996 2655 2030 2681 1996 11834 2431 2126 2065 2027 2113 2049 1037 2502 10439 15204 3401 1012 2467 2175 2005 9733 2030 2151 2060 4037 1010 11238 6673 2102 2003 2025 3404 13966 2043 2017 2342 2490 1012 5210 2023 3319 4313 16570 13331 3372 7011 3489 19792 2243 4067 2017 999 2057 9120 2115 3947 1012 102 0 0 0 0 0 0 0 0 0 0 0 0 0 0 0 0 0 0 0 0 0 0 0 0 0 0 0 0 0 0 0 0 0 0 0 0 0 0 0 0 0 0 0 0 0 0 0\n"
          ],
          "name": "stderr"
        },
        {
          "output_type": "stream",
          "text": [
            "INFO:tensorflow:input_mask: 1 1 1 1 1 1 1 1 1 1 1 1 1 1 1 1 1 1 1 1 1 1 1 1 1 1 1 1 1 1 1 1 1 1 1 1 1 1 1 1 1 1 1 1 1 1 1 1 1 1 1 1 1 1 1 1 1 1 1 1 1 1 1 1 1 1 1 1 1 1 1 1 1 1 1 1 1 1 1 1 1 1 1 1 1 1 1 1 1 1 1 1 1 1 1 1 1 1 1 1 1 1 1 1 1 1 1 1 1 1 1 1 1 1 1 1 1 1 1 1 1 1 1 1 1 1 1 1 1 1 1 1 1 1 1 1 1 1 1 1 1 1 1 1 1 1 1 1 1 1 1 1 1 0 0 0 0 0 0 0 0 0 0 0 0 0 0 0 0 0 0 0 0 0 0 0 0 0 0 0 0 0 0 0 0 0 0 0 0 0 0 0 0 0 0 0 0 0 0 0\n"
          ],
          "name": "stdout"
        },
        {
          "output_type": "stream",
          "text": [
            "INFO:tensorflow:input_mask: 1 1 1 1 1 1 1 1 1 1 1 1 1 1 1 1 1 1 1 1 1 1 1 1 1 1 1 1 1 1 1 1 1 1 1 1 1 1 1 1 1 1 1 1 1 1 1 1 1 1 1 1 1 1 1 1 1 1 1 1 1 1 1 1 1 1 1 1 1 1 1 1 1 1 1 1 1 1 1 1 1 1 1 1 1 1 1 1 1 1 1 1 1 1 1 1 1 1 1 1 1 1 1 1 1 1 1 1 1 1 1 1 1 1 1 1 1 1 1 1 1 1 1 1 1 1 1 1 1 1 1 1 1 1 1 1 1 1 1 1 1 1 1 1 1 1 1 1 1 1 1 1 1 0 0 0 0 0 0 0 0 0 0 0 0 0 0 0 0 0 0 0 0 0 0 0 0 0 0 0 0 0 0 0 0 0 0 0 0 0 0 0 0 0 0 0 0 0 0 0\n"
          ],
          "name": "stderr"
        },
        {
          "output_type": "stream",
          "text": [
            "INFO:tensorflow:segment_ids: 0 0 0 0 0 0 0 0 0 0 0 0 0 0 0 0 0 0 0 0 0 0 0 0 0 0 0 0 0 0 0 0 0 0 0 0 0 0 0 0 0 0 0 0 0 0 0 0 0 0 0 0 0 0 0 0 0 0 0 0 0 0 0 0 0 0 0 0 0 0 0 0 0 0 0 0 0 0 0 0 0 0 0 0 0 0 0 0 0 0 0 0 0 0 0 0 0 0 0 0 0 0 0 0 0 0 0 0 0 0 0 0 0 0 0 0 0 0 0 0 0 0 0 0 0 0 0 0 0 0 0 0 0 0 0 0 0 0 0 0 0 0 0 0 0 0 0 0 0 0 0 0 0 0 0 0 0 0 0 0 0 0 0 0 0 0 0 0 0 0 0 0 0 0 0 0 0 0 0 0 0 0 0 0 0 0 0 0 0 0 0 0 0 0 0 0 0 0 0 0\n"
          ],
          "name": "stdout"
        },
        {
          "output_type": "stream",
          "text": [
            "INFO:tensorflow:segment_ids: 0 0 0 0 0 0 0 0 0 0 0 0 0 0 0 0 0 0 0 0 0 0 0 0 0 0 0 0 0 0 0 0 0 0 0 0 0 0 0 0 0 0 0 0 0 0 0 0 0 0 0 0 0 0 0 0 0 0 0 0 0 0 0 0 0 0 0 0 0 0 0 0 0 0 0 0 0 0 0 0 0 0 0 0 0 0 0 0 0 0 0 0 0 0 0 0 0 0 0 0 0 0 0 0 0 0 0 0 0 0 0 0 0 0 0 0 0 0 0 0 0 0 0 0 0 0 0 0 0 0 0 0 0 0 0 0 0 0 0 0 0 0 0 0 0 0 0 0 0 0 0 0 0 0 0 0 0 0 0 0 0 0 0 0 0 0 0 0 0 0 0 0 0 0 0 0 0 0 0 0 0 0 0 0 0 0 0 0 0 0 0 0 0 0 0 0 0 0 0 0\n"
          ],
          "name": "stderr"
        },
        {
          "output_type": "stream",
          "text": [
            "INFO:tensorflow:label: 0 (id = 0)\n"
          ],
          "name": "stdout"
        },
        {
          "output_type": "stream",
          "text": [
            "INFO:tensorflow:label: 0 (id = 0)\n"
          ],
          "name": "stderr"
        },
        {
          "output_type": "stream",
          "text": [
            "INFO:tensorflow:*** Example ***\n"
          ],
          "name": "stdout"
        },
        {
          "output_type": "stream",
          "text": [
            "INFO:tensorflow:*** Example ***\n"
          ],
          "name": "stderr"
        },
        {
          "output_type": "stream",
          "text": [
            "INFO:tensorflow:guid: None\n"
          ],
          "name": "stdout"
        },
        {
          "output_type": "stream",
          "text": [
            "INFO:tensorflow:guid: None\n"
          ],
          "name": "stderr"
        },
        {
          "output_type": "stream",
          "text": [
            "INFO:tensorflow:tokens: [CLS] flip ##kar ##t failed to deliver my order twice and they cancelled it on their side with an email saying that the courier service was unable to reach me on my phone or address . that is an absolute lie . they never contacted me regarding this order . why do you wanna hide your failure by sending such emails to customer ? don ' t you even have the courtesy to reach out to the customer and let them know in case the order could not be delivered and don ' t you even try investigating with your partners and vendors . this is shame ! order id : o ##d ##12 ##24 ##0 ##8 ##35 ##7 ##66 ##32 ##27 ##00 ##0 ##in ##cide ##nt : in ##21 ##0 ##7 ##31 ##15 ##47 ##35 ##52 ##7 ##80 ##36 ##9 ##fl ##ag this review ##ir ##rel ##eva ##nt ##fa ##ke ##jun ##k thank you ! we appreciate your effort . [SEP]\n"
          ],
          "name": "stdout"
        },
        {
          "output_type": "stream",
          "text": [
            "INFO:tensorflow:tokens: [CLS] flip ##kar ##t failed to deliver my order twice and they cancelled it on their side with an email saying that the courier service was unable to reach me on my phone or address . that is an absolute lie . they never contacted me regarding this order . why do you wanna hide your failure by sending such emails to customer ? don ' t you even have the courtesy to reach out to the customer and let them know in case the order could not be delivered and don ' t you even try investigating with your partners and vendors . this is shame ! order id : o ##d ##12 ##24 ##0 ##8 ##35 ##7 ##66 ##32 ##27 ##00 ##0 ##in ##cide ##nt : in ##21 ##0 ##7 ##31 ##15 ##47 ##35 ##52 ##7 ##80 ##36 ##9 ##fl ##ag this review ##ir ##rel ##eva ##nt ##fa ##ke ##jun ##k thank you ! we appreciate your effort . [SEP]\n"
          ],
          "name": "stderr"
        },
        {
          "output_type": "stream",
          "text": [
            "INFO:tensorflow:input_ids: 101 11238 6673 2102 3478 2000 8116 2026 2344 3807 1998 2027 8014 2009 2006 2037 2217 2007 2019 10373 3038 2008 1996 18092 2326 2001 4039 2000 3362 2033 2006 2026 3042 2030 4769 1012 2008 2003 2019 7619 4682 1012 2027 2196 11925 2033 4953 2023 2344 1012 2339 2079 2017 10587 5342 2115 4945 2011 6016 2107 22028 2000 8013 1029 2123 1005 1056 2017 2130 2031 1996 14571 2000 3362 2041 2000 1996 8013 1998 2292 2068 2113 1999 2553 1996 2344 2071 2025 2022 5359 1998 2123 1005 1056 2017 2130 3046 11538 2007 2115 5826 1998 17088 1012 2023 2003 9467 999 2344 8909 1024 1051 2094 12521 18827 2692 2620 19481 2581 28756 16703 22907 8889 2692 2378 27082 3372 1024 1999 17465 2692 2581 21486 16068 22610 19481 25746 2581 17914 21619 2683 10258 8490 2023 3319 4313 16570 13331 3372 7011 3489 19792 2243 4067 2017 999 2057 9120 2115 3947 1012 102 0 0 0 0 0 0 0 0 0 0 0 0 0 0 0 0 0 0 0 0 0 0 0 0 0 0 0 0 0 0 0 0 0 0 0 0 0 0\n"
          ],
          "name": "stdout"
        },
        {
          "output_type": "stream",
          "text": [
            "INFO:tensorflow:input_ids: 101 11238 6673 2102 3478 2000 8116 2026 2344 3807 1998 2027 8014 2009 2006 2037 2217 2007 2019 10373 3038 2008 1996 18092 2326 2001 4039 2000 3362 2033 2006 2026 3042 2030 4769 1012 2008 2003 2019 7619 4682 1012 2027 2196 11925 2033 4953 2023 2344 1012 2339 2079 2017 10587 5342 2115 4945 2011 6016 2107 22028 2000 8013 1029 2123 1005 1056 2017 2130 2031 1996 14571 2000 3362 2041 2000 1996 8013 1998 2292 2068 2113 1999 2553 1996 2344 2071 2025 2022 5359 1998 2123 1005 1056 2017 2130 3046 11538 2007 2115 5826 1998 17088 1012 2023 2003 9467 999 2344 8909 1024 1051 2094 12521 18827 2692 2620 19481 2581 28756 16703 22907 8889 2692 2378 27082 3372 1024 1999 17465 2692 2581 21486 16068 22610 19481 25746 2581 17914 21619 2683 10258 8490 2023 3319 4313 16570 13331 3372 7011 3489 19792 2243 4067 2017 999 2057 9120 2115 3947 1012 102 0 0 0 0 0 0 0 0 0 0 0 0 0 0 0 0 0 0 0 0 0 0 0 0 0 0 0 0 0 0 0 0 0 0 0 0 0 0\n"
          ],
          "name": "stderr"
        },
        {
          "output_type": "stream",
          "text": [
            "INFO:tensorflow:input_mask: 1 1 1 1 1 1 1 1 1 1 1 1 1 1 1 1 1 1 1 1 1 1 1 1 1 1 1 1 1 1 1 1 1 1 1 1 1 1 1 1 1 1 1 1 1 1 1 1 1 1 1 1 1 1 1 1 1 1 1 1 1 1 1 1 1 1 1 1 1 1 1 1 1 1 1 1 1 1 1 1 1 1 1 1 1 1 1 1 1 1 1 1 1 1 1 1 1 1 1 1 1 1 1 1 1 1 1 1 1 1 1 1 1 1 1 1 1 1 1 1 1 1 1 1 1 1 1 1 1 1 1 1 1 1 1 1 1 1 1 1 1 1 1 1 1 1 1 1 1 1 1 1 1 1 1 1 1 1 1 1 1 1 0 0 0 0 0 0 0 0 0 0 0 0 0 0 0 0 0 0 0 0 0 0 0 0 0 0 0 0 0 0 0 0 0 0 0 0 0 0\n"
          ],
          "name": "stdout"
        },
        {
          "output_type": "stream",
          "text": [
            "INFO:tensorflow:input_mask: 1 1 1 1 1 1 1 1 1 1 1 1 1 1 1 1 1 1 1 1 1 1 1 1 1 1 1 1 1 1 1 1 1 1 1 1 1 1 1 1 1 1 1 1 1 1 1 1 1 1 1 1 1 1 1 1 1 1 1 1 1 1 1 1 1 1 1 1 1 1 1 1 1 1 1 1 1 1 1 1 1 1 1 1 1 1 1 1 1 1 1 1 1 1 1 1 1 1 1 1 1 1 1 1 1 1 1 1 1 1 1 1 1 1 1 1 1 1 1 1 1 1 1 1 1 1 1 1 1 1 1 1 1 1 1 1 1 1 1 1 1 1 1 1 1 1 1 1 1 1 1 1 1 1 1 1 1 1 1 1 1 1 0 0 0 0 0 0 0 0 0 0 0 0 0 0 0 0 0 0 0 0 0 0 0 0 0 0 0 0 0 0 0 0 0 0 0 0 0 0\n"
          ],
          "name": "stderr"
        },
        {
          "output_type": "stream",
          "text": [
            "INFO:tensorflow:segment_ids: 0 0 0 0 0 0 0 0 0 0 0 0 0 0 0 0 0 0 0 0 0 0 0 0 0 0 0 0 0 0 0 0 0 0 0 0 0 0 0 0 0 0 0 0 0 0 0 0 0 0 0 0 0 0 0 0 0 0 0 0 0 0 0 0 0 0 0 0 0 0 0 0 0 0 0 0 0 0 0 0 0 0 0 0 0 0 0 0 0 0 0 0 0 0 0 0 0 0 0 0 0 0 0 0 0 0 0 0 0 0 0 0 0 0 0 0 0 0 0 0 0 0 0 0 0 0 0 0 0 0 0 0 0 0 0 0 0 0 0 0 0 0 0 0 0 0 0 0 0 0 0 0 0 0 0 0 0 0 0 0 0 0 0 0 0 0 0 0 0 0 0 0 0 0 0 0 0 0 0 0 0 0 0 0 0 0 0 0 0 0 0 0 0 0 0 0 0 0 0 0\n"
          ],
          "name": "stdout"
        },
        {
          "output_type": "stream",
          "text": [
            "INFO:tensorflow:segment_ids: 0 0 0 0 0 0 0 0 0 0 0 0 0 0 0 0 0 0 0 0 0 0 0 0 0 0 0 0 0 0 0 0 0 0 0 0 0 0 0 0 0 0 0 0 0 0 0 0 0 0 0 0 0 0 0 0 0 0 0 0 0 0 0 0 0 0 0 0 0 0 0 0 0 0 0 0 0 0 0 0 0 0 0 0 0 0 0 0 0 0 0 0 0 0 0 0 0 0 0 0 0 0 0 0 0 0 0 0 0 0 0 0 0 0 0 0 0 0 0 0 0 0 0 0 0 0 0 0 0 0 0 0 0 0 0 0 0 0 0 0 0 0 0 0 0 0 0 0 0 0 0 0 0 0 0 0 0 0 0 0 0 0 0 0 0 0 0 0 0 0 0 0 0 0 0 0 0 0 0 0 0 0 0 0 0 0 0 0 0 0 0 0 0 0 0 0 0 0 0 0\n"
          ],
          "name": "stderr"
        },
        {
          "output_type": "stream",
          "text": [
            "INFO:tensorflow:label: 0 (id = 0)\n"
          ],
          "name": "stdout"
        },
        {
          "output_type": "stream",
          "text": [
            "INFO:tensorflow:label: 0 (id = 0)\n"
          ],
          "name": "stderr"
        }
      ]
    },
    {
      "cell_type": "code",
      "metadata": {
        "colab": {
          "base_uri": "https://localhost:8080/"
        },
        "id": "brbpWaMtz7kT",
        "outputId": "f2f1afc9-54dc-496c-9da6-e0e5834ad86c"
      },
      "source": [
        "#Example on first observation in the training set\n",
        "print(\"Sentence : \", train_InputExamples.iloc[0].text_a)\n",
        "print(\"-\"*30)\n",
        "print(\"Tokens : \", tokenizer.tokenize(train_InputExamples.iloc[0].text_a))\n",
        "print(\"-\"*30)\n",
        "print(\"Input IDs : \", train_features[0].input_ids)\n",
        "print(\"-\"*30)\n",
        "print(\"Input Masks : \", train_features[0].input_mask)\n",
        "print(\"-\"*30)\n",
        "print(\"Segment IDs : \", train_features[0].segment_ids)"
      ],
      "execution_count": null,
      "outputs": [
        {
          "output_type": "stream",
          "text": [
            "Sentence :  Flipkart not delivered thinks in even smoll town I orders thinks but they not takes my order. But flipkart provided good service in city's they gives good offers on iteam compare other online website. my suggestion if u live city's best buy electronic thinks in flipkart. they will gave service in village thats helps to poor people alsoFlag This ReviewIrrelevantFakeJunk   Thank You! We appreciate your effort.\n",
            "------------------------------\n",
            "Tokens :  ['flip', '##kar', '##t', 'not', 'delivered', 'thinks', 'in', 'even', 'sm', '##oll', 'town', 'i', 'orders', 'thinks', 'but', 'they', 'not', 'takes', 'my', 'order', '.', 'but', 'flip', '##kar', '##t', 'provided', 'good', 'service', 'in', 'city', \"'\", 's', 'they', 'gives', 'good', 'offers', 'on', 'it', '##ea', '##m', 'compare', 'other', 'online', 'website', '.', 'my', 'suggestion', 'if', 'u', 'live', 'city', \"'\", 's', 'best', 'buy', 'electronic', 'thinks', 'in', 'flip', '##kar', '##t', '.', 'they', 'will', 'gave', 'service', 'in', 'village', 'that', '##s', 'helps', 'to', 'poor', 'people', 'also', '##fl', '##ag', 'this', 'review', '##ir', '##rel', '##eva', '##nt', '##fa', '##ke', '##jun', '##k', 'thank', 'you', '!', 'we', 'appreciate', 'your', 'effort', '.']\n",
            "------------------------------\n",
            "Input IDs :  [101, 11238, 6673, 2102, 2025, 5359, 6732, 1999, 2130, 15488, 14511, 2237, 1045, 4449, 6732, 2021, 2027, 2025, 3138, 2026, 2344, 1012, 2021, 11238, 6673, 2102, 3024, 2204, 2326, 1999, 2103, 1005, 1055, 2027, 3957, 2204, 4107, 2006, 2009, 5243, 2213, 12826, 2060, 3784, 4037, 1012, 2026, 10293, 2065, 1057, 2444, 2103, 1005, 1055, 2190, 4965, 4816, 6732, 1999, 11238, 6673, 2102, 1012, 2027, 2097, 2435, 2326, 1999, 2352, 2008, 2015, 7126, 2000, 3532, 2111, 2036, 10258, 8490, 2023, 3319, 4313, 16570, 13331, 3372, 7011, 3489, 19792, 2243, 4067, 2017, 999, 2057, 9120, 2115, 3947, 1012, 102, 0, 0, 0, 0, 0, 0, 0, 0, 0, 0, 0, 0, 0, 0, 0, 0, 0, 0, 0, 0, 0, 0, 0, 0, 0, 0, 0, 0, 0, 0, 0, 0, 0, 0, 0, 0, 0, 0, 0, 0, 0, 0, 0, 0, 0, 0, 0, 0, 0, 0, 0, 0, 0, 0, 0, 0, 0, 0, 0, 0, 0, 0, 0, 0, 0, 0, 0, 0, 0, 0, 0, 0, 0, 0, 0, 0, 0, 0, 0, 0, 0, 0, 0, 0, 0, 0, 0, 0, 0, 0, 0, 0, 0, 0, 0, 0, 0, 0, 0, 0, 0, 0, 0]\n",
            "------------------------------\n",
            "Input Masks :  [1, 1, 1, 1, 1, 1, 1, 1, 1, 1, 1, 1, 1, 1, 1, 1, 1, 1, 1, 1, 1, 1, 1, 1, 1, 1, 1, 1, 1, 1, 1, 1, 1, 1, 1, 1, 1, 1, 1, 1, 1, 1, 1, 1, 1, 1, 1, 1, 1, 1, 1, 1, 1, 1, 1, 1, 1, 1, 1, 1, 1, 1, 1, 1, 1, 1, 1, 1, 1, 1, 1, 1, 1, 1, 1, 1, 1, 1, 1, 1, 1, 1, 1, 1, 1, 1, 1, 1, 1, 1, 1, 1, 1, 1, 1, 1, 1, 0, 0, 0, 0, 0, 0, 0, 0, 0, 0, 0, 0, 0, 0, 0, 0, 0, 0, 0, 0, 0, 0, 0, 0, 0, 0, 0, 0, 0, 0, 0, 0, 0, 0, 0, 0, 0, 0, 0, 0, 0, 0, 0, 0, 0, 0, 0, 0, 0, 0, 0, 0, 0, 0, 0, 0, 0, 0, 0, 0, 0, 0, 0, 0, 0, 0, 0, 0, 0, 0, 0, 0, 0, 0, 0, 0, 0, 0, 0, 0, 0, 0, 0, 0, 0, 0, 0, 0, 0, 0, 0, 0, 0, 0, 0, 0, 0, 0, 0, 0, 0, 0, 0]\n",
            "------------------------------\n",
            "Segment IDs :  [0, 0, 0, 0, 0, 0, 0, 0, 0, 0, 0, 0, 0, 0, 0, 0, 0, 0, 0, 0, 0, 0, 0, 0, 0, 0, 0, 0, 0, 0, 0, 0, 0, 0, 0, 0, 0, 0, 0, 0, 0, 0, 0, 0, 0, 0, 0, 0, 0, 0, 0, 0, 0, 0, 0, 0, 0, 0, 0, 0, 0, 0, 0, 0, 0, 0, 0, 0, 0, 0, 0, 0, 0, 0, 0, 0, 0, 0, 0, 0, 0, 0, 0, 0, 0, 0, 0, 0, 0, 0, 0, 0, 0, 0, 0, 0, 0, 0, 0, 0, 0, 0, 0, 0, 0, 0, 0, 0, 0, 0, 0, 0, 0, 0, 0, 0, 0, 0, 0, 0, 0, 0, 0, 0, 0, 0, 0, 0, 0, 0, 0, 0, 0, 0, 0, 0, 0, 0, 0, 0, 0, 0, 0, 0, 0, 0, 0, 0, 0, 0, 0, 0, 0, 0, 0, 0, 0, 0, 0, 0, 0, 0, 0, 0, 0, 0, 0, 0, 0, 0, 0, 0, 0, 0, 0, 0, 0, 0, 0, 0, 0, 0, 0, 0, 0, 0, 0, 0, 0, 0, 0, 0, 0, 0, 0, 0, 0, 0, 0, 0]\n"
          ],
          "name": "stdout"
        }
      ]
    },
    {
      "cell_type": "code",
      "metadata": {
        "id": "RgSQSMUO1WX3"
      },
      "source": [
        "def create_model(is_predicting, input_ids, input_mask, segment_ids, labels,\n",
        "                 num_labels):\n",
        "  \n",
        "  bert_module = hub.Module(\n",
        "      BERT_MODEL_HUB,\n",
        "      trainable=True)\n",
        "  bert_inputs = dict(\n",
        "      input_ids=input_ids,\n",
        "      input_mask=input_mask,\n",
        "      segment_ids=segment_ids)\n",
        "  bert_outputs = bert_module(\n",
        "      inputs=bert_inputs,\n",
        "      signature=\"tokens\",\n",
        "      as_dict=True)\n",
        "\n",
        "  # Use \"pooled_output\" for classification tasks on an entire sentence.\n",
        "  # Use \"sequence_outputs\" for token-level output.\n",
        "  output_layer = bert_outputs[\"pooled_output\"]\n",
        "\n",
        "  hidden_size = output_layer.shape[-1].value\n",
        "\n",
        "  # Create our own layer to tune for politeness data.\n",
        "  output_weights = tf.get_variable(\n",
        "      \"output_weights\", [num_labels, hidden_size],\n",
        "      initializer=tf.truncated_normal_initializer(stddev=0.02))\n",
        "\n",
        "  output_bias = tf.get_variable(\n",
        "      \"output_bias\", [num_labels], initializer=tf.zeros_initializer())\n",
        "\n",
        "  with tf.variable_scope(\"loss\"):\n",
        "\n",
        "    # Dropout helps prevent overfitting\n",
        "    output_layer = tf.nn.dropout(output_layer, keep_prob=0.9)\n",
        "\n",
        "    logits = tf.matmul(output_layer, output_weights, transpose_b=True)\n",
        "    logits = tf.nn.bias_add(logits, output_bias)\n",
        "    log_probs = tf.nn.log_softmax(logits, axis=-1)\n",
        "\n",
        "    # Convert labels into one-hot encoding\n",
        "    one_hot_labels = tf.one_hot(labels, depth=num_labels, dtype=tf.float32)\n",
        "\n",
        "    predicted_labels = tf.squeeze(tf.argmax(log_probs, axis=-1, output_type=tf.int32))\n",
        "    # If we're predicting, we want predicted labels and the probabiltiies.\n",
        "    if is_predicting:\n",
        "      return (predicted_labels, log_probs)\n",
        "\n",
        "    # If we're train/eval, compute loss between predicted and actual label\n",
        "    per_example_loss = -tf.reduce_sum(one_hot_labels * log_probs, axis=-1)\n",
        "    loss = tf.reduce_mean(per_example_loss)\n",
        "    return (loss, predicted_labels, log_probs)"
      ],
      "execution_count": null,
      "outputs": []
    },
    {
      "cell_type": "code",
      "metadata": {
        "id": "V_RTI0MR1kp1"
      },
      "source": [
        "#A function that adapts our model to work for training, evaluation, and prediction.\n",
        "\n",
        "# model_fn_builder actually creates our model function\n",
        "# using the passed parameters for num_labels, learning_rate, etc.\n",
        "def model_fn_builder(num_labels, learning_rate, num_train_steps,\n",
        "                     num_warmup_steps):\n",
        "  \"\"\"Returns `model_fn` closure for TPUEstimator.\"\"\"\n",
        "  def model_fn(features, labels, mode, params):  # pylint: disable=unused-argument\n",
        "    \"\"\"The `model_fn` for TPUEstimator.\"\"\"\n",
        "\n",
        "    input_ids = features[\"input_ids\"]\n",
        "    input_mask = features[\"input_mask\"]\n",
        "    segment_ids = features[\"segment_ids\"]\n",
        "    label_ids = features[\"label_ids\"]\n",
        "\n",
        "    is_predicting = (mode == tf.estimator.ModeKeys.PREDICT)\n",
        "    \n",
        "    # TRAIN and EVAL\n",
        "    if not is_predicting:\n",
        "\n",
        "      (loss, predicted_labels, log_probs) = create_model(\n",
        "        is_predicting, input_ids, input_mask, segment_ids, label_ids, num_labels)\n",
        "\n",
        "      train_op = bert.optimization.create_optimizer(\n",
        "          loss, learning_rate, num_train_steps, num_warmup_steps, use_tpu=False)\n",
        "\n",
        "      # Calculate evaluation metrics. \n",
        "      def metric_fn(label_ids, predicted_labels):\n",
        "        accuracy = tf.metrics.accuracy(label_ids, predicted_labels)\n",
        "        true_pos = tf.metrics.true_positives(\n",
        "            label_ids,\n",
        "            predicted_labels)\n",
        "        true_neg = tf.metrics.true_negatives(\n",
        "            label_ids,\n",
        "            predicted_labels)   \n",
        "        false_pos = tf.metrics.false_positives(\n",
        "            label_ids,\n",
        "            predicted_labels)  \n",
        "        false_neg = tf.metrics.false_negatives(\n",
        "            label_ids,\n",
        "            predicted_labels)\n",
        "        \n",
        "        return {\n",
        "            \"eval_accuracy\": accuracy,\n",
        "            \"true_positives\": true_pos,\n",
        "            \"true_negatives\": true_neg,\n",
        "            \"false_positives\": false_pos,\n",
        "            \"false_negatives\": false_neg\n",
        "            }\n",
        "\n",
        "      eval_metrics = metric_fn(label_ids, predicted_labels)\n",
        "\n",
        "      if mode == tf.estimator.ModeKeys.TRAIN:\n",
        "        return tf.estimator.EstimatorSpec(mode=mode,\n",
        "          loss=loss,\n",
        "          train_op=train_op)\n",
        "      else:\n",
        "          return tf.estimator.EstimatorSpec(mode=mode,\n",
        "            loss=loss,\n",
        "            eval_metric_ops=eval_metrics)\n",
        "    else:\n",
        "      (predicted_labels, log_probs) = create_model(\n",
        "        is_predicting, input_ids, input_mask, segment_ids, label_ids, num_labels)\n",
        "\n",
        "      predictions = {\n",
        "          'probabilities': log_probs,\n",
        "          'labels': predicted_labels\n",
        "      }\n",
        "      return tf.estimator.EstimatorSpec(mode, predictions=predictions)\n",
        "\n",
        "  # Return the actual model function in the closure\n",
        "  return model_fn"
      ],
      "execution_count": null,
      "outputs": []
    },
    {
      "cell_type": "code",
      "metadata": {
        "id": "Mf14DYPM1pAO"
      },
      "source": [
        "# Compute train and warmup steps from batch size\n",
        "# These hyperparameters are copied from this colab notebook (https://colab.sandbox.google.com/github/tensorflow/tpu/blob/master/tools/colab/bert_finetuning_with_cloud_tpus.ipynb)\n",
        "BATCH_SIZE = 32\n",
        "LEARNING_RATE = 2e-5\n",
        "NUM_TRAIN_EPOCHS = 3.0\n",
        "\n",
        "# Warmup is a period of time where the learning rate is small and gradually increases--usually helps training.\n",
        "WARMUP_PROPORTION = 0.1\n",
        "\n",
        "# Model configs\n",
        "SAVE_CHECKPOINTS_STEPS = 300\n",
        "SAVE_SUMMARY_STEPS = 100\n",
        "\n",
        "# Compute train and warmup steps from batch size\n",
        "num_train_steps = int(len(train_features) / BATCH_SIZE * NUM_TRAIN_EPOCHS)\n",
        "num_warmup_steps = int(num_train_steps * WARMUP_PROPORTION)\n",
        "\n",
        "# Specify output directory and number of checkpoint steps to save\n",
        "run_config = tf.estimator.RunConfig(\n",
        "    model_dir='/content/bert-multiclass-sentiment',\n",
        "    save_summary_steps=SAVE_SUMMARY_STEPS,\n",
        "    save_checkpoints_steps=SAVE_CHECKPOINTS_STEPS)\n"
      ],
      "execution_count": null,
      "outputs": []
    },
    {
      "cell_type": "code",
      "metadata": {
        "colab": {
          "base_uri": "https://localhost:8080/"
        },
        "id": "LWiKX8Dq1v6L",
        "outputId": "85e2c15c-13dc-4774-a72f-3a0bc983d7f5"
      },
      "source": [
        "#Initializing the model and the estimator\n",
        "model_fn = model_fn_builder(\n",
        "  num_labels=len(label_list),\n",
        "  learning_rate=LEARNING_RATE,\n",
        "  num_train_steps=num_train_steps,\n",
        "  num_warmup_steps=num_warmup_steps)\n",
        "\n",
        "estimator = tf.estimator.Estimator(\n",
        "  model_fn=model_fn,\n",
        "  config=run_config,\n",
        "  params={\"batch_size\": BATCH_SIZE})\n"
      ],
      "execution_count": null,
      "outputs": [
        {
          "output_type": "stream",
          "text": [
            "INFO:tensorflow:Using config: {'_model_dir': '/content/bert-multiclass-sentiment', '_tf_random_seed': None, '_save_summary_steps': 100, '_save_checkpoints_steps': 300, '_save_checkpoints_secs': None, '_session_config': allow_soft_placement: true\n",
            "graph_options {\n",
            "  rewrite_options {\n",
            "    meta_optimizer_iterations: ONE\n",
            "  }\n",
            "}\n",
            ", '_keep_checkpoint_max': 5, '_keep_checkpoint_every_n_hours': 10000, '_log_step_count_steps': 100, '_train_distribute': None, '_device_fn': None, '_protocol': None, '_eval_distribute': None, '_experimental_distribute': None, '_experimental_max_worker_delay_secs': None, '_session_creation_timeout_secs': 7200, '_service': None, '_cluster_spec': <tensorflow.python.training.server_lib.ClusterSpec object at 0x7f1bc6600150>, '_task_type': 'worker', '_task_id': 0, '_global_id_in_cluster': 0, '_master': '', '_evaluation_master': '', '_is_chief': True, '_num_ps_replicas': 0, '_num_worker_replicas': 1}\n"
          ],
          "name": "stdout"
        },
        {
          "output_type": "stream",
          "text": [
            "INFO:tensorflow:Using config: {'_model_dir': '/content/bert-multiclass-sentiment', '_tf_random_seed': None, '_save_summary_steps': 100, '_save_checkpoints_steps': 300, '_save_checkpoints_secs': None, '_session_config': allow_soft_placement: true\n",
            "graph_options {\n",
            "  rewrite_options {\n",
            "    meta_optimizer_iterations: ONE\n",
            "  }\n",
            "}\n",
            ", '_keep_checkpoint_max': 5, '_keep_checkpoint_every_n_hours': 10000, '_log_step_count_steps': 100, '_train_distribute': None, '_device_fn': None, '_protocol': None, '_eval_distribute': None, '_experimental_distribute': None, '_experimental_max_worker_delay_secs': None, '_session_creation_timeout_secs': 7200, '_service': None, '_cluster_spec': <tensorflow.python.training.server_lib.ClusterSpec object at 0x7f1bc6600150>, '_task_type': 'worker', '_task_id': 0, '_global_id_in_cluster': 0, '_master': '', '_evaluation_master': '', '_is_chief': True, '_num_ps_replicas': 0, '_num_worker_replicas': 1}\n"
          ],
          "name": "stderr"
        }
      ]
    },
    {
      "cell_type": "code",
      "metadata": {
        "id": "aO3gC1gr2aMH"
      },
      "source": [
        "#Create an input function for training. drop_remainder = True for using TPUs.\n",
        "train_input_fn = bert.run_classifier.input_fn_builder(\n",
        "    features=train_features,\n",
        "    seq_length=MAX_SEQ_LENGTH,\n",
        "    is_training=True,\n",
        "    drop_remainder=False)\n",
        "\n",
        "#Create an input function for validating. drop_remainder = True for using TPUs.\n",
        "val_input_fn = run_classifier.input_fn_builder(\n",
        "    features=val_features,\n",
        "    seq_length=MAX_SEQ_LENGTH,\n",
        "    is_training=False,\n",
        "    drop_remainder=False)"
      ],
      "execution_count": null,
      "outputs": []
    },
    {
      "cell_type": "code",
      "metadata": {
        "colab": {
          "base_uri": "https://localhost:8080/"
        },
        "id": "8SaI8O8e2g3D",
        "outputId": "9c8c1340-3009-4fa7-9578-c22a9a71a6cf"
      },
      "source": [
        "#Training the model\n",
        "print('Beginning Training!')\n",
        "current_time = datetime.now()\n",
        "estimator.train(input_fn=train_input_fn, max_steps=num_train_steps)\n",
        "print(\"Training took time \", datetime.now() - current_time)"
      ],
      "execution_count": null,
      "outputs": [
        {
          "output_type": "stream",
          "text": [
            "Beginning Training!\n",
            "WARNING:tensorflow:From /tensorflow-1.15.2/python3.7/tensorflow_core/python/training/training_util.py:236: Variable.initialized_value (from tensorflow.python.ops.variables) is deprecated and will be removed in a future version.\n",
            "Instructions for updating:\n",
            "Use Variable.read_value. Variables in 2.X are initialized automatically both in eager and graph (inside tf.defun) contexts.\n"
          ],
          "name": "stdout"
        },
        {
          "output_type": "stream",
          "text": [
            "WARNING:tensorflow:From /tensorflow-1.15.2/python3.7/tensorflow_core/python/training/training_util.py:236: Variable.initialized_value (from tensorflow.python.ops.variables) is deprecated and will be removed in a future version.\n",
            "Instructions for updating:\n",
            "Use Variable.read_value. Variables in 2.X are initialized automatically both in eager and graph (inside tf.defun) contexts.\n"
          ],
          "name": "stderr"
        },
        {
          "output_type": "stream",
          "text": [
            "INFO:tensorflow:Calling model_fn.\n"
          ],
          "name": "stdout"
        },
        {
          "output_type": "stream",
          "text": [
            "INFO:tensorflow:Calling model_fn.\n"
          ],
          "name": "stderr"
        },
        {
          "output_type": "stream",
          "text": [
            "INFO:tensorflow:Saver not created because there are no variables in the graph to restore\n"
          ],
          "name": "stdout"
        },
        {
          "output_type": "stream",
          "text": [
            "INFO:tensorflow:Saver not created because there are no variables in the graph to restore\n"
          ],
          "name": "stderr"
        },
        {
          "output_type": "stream",
          "text": [
            "WARNING:tensorflow:From <ipython-input-20-bdfb628bf45b>:33: calling dropout (from tensorflow.python.ops.nn_ops) with keep_prob is deprecated and will be removed in a future version.\n",
            "Instructions for updating:\n",
            "Please use `rate` instead of `keep_prob`. Rate should be set to `rate = 1 - keep_prob`.\n"
          ],
          "name": "stdout"
        },
        {
          "output_type": "stream",
          "text": [
            "WARNING:tensorflow:From <ipython-input-20-bdfb628bf45b>:33: calling dropout (from tensorflow.python.ops.nn_ops) with keep_prob is deprecated and will be removed in a future version.\n",
            "Instructions for updating:\n",
            "Please use `rate` instead of `keep_prob`. Rate should be set to `rate = 1 - keep_prob`.\n"
          ],
          "name": "stderr"
        },
        {
          "output_type": "stream",
          "text": [
            "WARNING:tensorflow:From /usr/local/lib/python3.7/dist-packages/bert/optimization.py:27: The name tf.train.get_or_create_global_step is deprecated. Please use tf.compat.v1.train.get_or_create_global_step instead.\n",
            "\n"
          ],
          "name": "stdout"
        },
        {
          "output_type": "stream",
          "text": [
            "WARNING:tensorflow:From /usr/local/lib/python3.7/dist-packages/bert/optimization.py:27: The name tf.train.get_or_create_global_step is deprecated. Please use tf.compat.v1.train.get_or_create_global_step instead.\n",
            "\n"
          ],
          "name": "stderr"
        },
        {
          "output_type": "stream",
          "text": [
            "WARNING:tensorflow:From /usr/local/lib/python3.7/dist-packages/bert/optimization.py:32: The name tf.train.polynomial_decay is deprecated. Please use tf.compat.v1.train.polynomial_decay instead.\n",
            "\n"
          ],
          "name": "stdout"
        },
        {
          "output_type": "stream",
          "text": [
            "WARNING:tensorflow:From /usr/local/lib/python3.7/dist-packages/bert/optimization.py:32: The name tf.train.polynomial_decay is deprecated. Please use tf.compat.v1.train.polynomial_decay instead.\n",
            "\n"
          ],
          "name": "stderr"
        },
        {
          "output_type": "stream",
          "text": [
            "WARNING:tensorflow:From /usr/local/lib/python3.7/dist-packages/bert/optimization.py:70: The name tf.trainable_variables is deprecated. Please use tf.compat.v1.trainable_variables instead.\n",
            "\n"
          ],
          "name": "stdout"
        },
        {
          "output_type": "stream",
          "text": [
            "WARNING:tensorflow:From /usr/local/lib/python3.7/dist-packages/bert/optimization.py:70: The name tf.trainable_variables is deprecated. Please use tf.compat.v1.trainable_variables instead.\n",
            "\n"
          ],
          "name": "stderr"
        },
        {
          "output_type": "stream",
          "text": [
            "WARNING:tensorflow:From /tensorflow-1.15.2/python3.7/tensorflow_core/python/ops/math_grad.py:1375: where (from tensorflow.python.ops.array_ops) is deprecated and will be removed in a future version.\n",
            "Instructions for updating:\n",
            "Use tf.where in 2.0, which has the same broadcast rule as np.where\n"
          ],
          "name": "stdout"
        },
        {
          "output_type": "stream",
          "text": [
            "WARNING:tensorflow:From /tensorflow-1.15.2/python3.7/tensorflow_core/python/ops/math_grad.py:1375: where (from tensorflow.python.ops.array_ops) is deprecated and will be removed in a future version.\n",
            "Instructions for updating:\n",
            "Use tf.where in 2.0, which has the same broadcast rule as np.where\n",
            "/tensorflow-1.15.2/python3.7/tensorflow_core/python/framework/indexed_slices.py:424: UserWarning: Converting sparse IndexedSlices to a dense Tensor of unknown shape. This may consume a large amount of memory.\n",
            "  \"Converting sparse IndexedSlices to a dense Tensor of unknown shape. \"\n"
          ],
          "name": "stderr"
        },
        {
          "output_type": "stream",
          "text": [
            "INFO:tensorflow:Done calling model_fn.\n"
          ],
          "name": "stdout"
        },
        {
          "output_type": "stream",
          "text": [
            "INFO:tensorflow:Done calling model_fn.\n"
          ],
          "name": "stderr"
        },
        {
          "output_type": "stream",
          "text": [
            "INFO:tensorflow:Create CheckpointSaverHook.\n"
          ],
          "name": "stdout"
        },
        {
          "output_type": "stream",
          "text": [
            "INFO:tensorflow:Create CheckpointSaverHook.\n"
          ],
          "name": "stderr"
        },
        {
          "output_type": "stream",
          "text": [
            "INFO:tensorflow:Graph was finalized.\n"
          ],
          "name": "stdout"
        },
        {
          "output_type": "stream",
          "text": [
            "INFO:tensorflow:Graph was finalized.\n"
          ],
          "name": "stderr"
        },
        {
          "output_type": "stream",
          "text": [
            "INFO:tensorflow:Running local_init_op.\n"
          ],
          "name": "stdout"
        },
        {
          "output_type": "stream",
          "text": [
            "INFO:tensorflow:Running local_init_op.\n"
          ],
          "name": "stderr"
        },
        {
          "output_type": "stream",
          "text": [
            "INFO:tensorflow:Done running local_init_op.\n"
          ],
          "name": "stdout"
        },
        {
          "output_type": "stream",
          "text": [
            "INFO:tensorflow:Done running local_init_op.\n"
          ],
          "name": "stderr"
        },
        {
          "output_type": "stream",
          "text": [
            "INFO:tensorflow:Saving checkpoints for 0 into /content/bert-multiclass-sentiment/model.ckpt.\n"
          ],
          "name": "stdout"
        },
        {
          "output_type": "stream",
          "text": [
            "INFO:tensorflow:Saving checkpoints for 0 into /content/bert-multiclass-sentiment/model.ckpt.\n"
          ],
          "name": "stderr"
        },
        {
          "output_type": "stream",
          "text": [
            "INFO:tensorflow:loss = 1.2218566, step = 1\n"
          ],
          "name": "stdout"
        },
        {
          "output_type": "stream",
          "text": [
            "INFO:tensorflow:loss = 1.2218566, step = 1\n"
          ],
          "name": "stderr"
        },
        {
          "output_type": "stream",
          "text": [
            "INFO:tensorflow:global_step/sec: 0.0144096\n"
          ],
          "name": "stdout"
        },
        {
          "output_type": "stream",
          "text": [
            "INFO:tensorflow:global_step/sec: 0.0144096\n"
          ],
          "name": "stderr"
        },
        {
          "output_type": "stream",
          "text": [
            "INFO:tensorflow:loss = 0.48824656, step = 101 (6939.859 sec)\n"
          ],
          "name": "stdout"
        },
        {
          "output_type": "stream",
          "text": [
            "INFO:tensorflow:loss = 0.48824656, step = 101 (6939.859 sec)\n"
          ],
          "name": "stderr"
        },
        {
          "output_type": "stream",
          "text": [
            "WARNING:tensorflow:It seems that global step (tf.train.get_global_step) has not been increased. Current value (could be stable): 120 vs previous value: 120. You could increase the global step by passing tf.train.get_global_step() to Optimizer.apply_gradients or Optimizer.minimize.\n"
          ],
          "name": "stdout"
        },
        {
          "output_type": "stream",
          "text": [
            "WARNING:tensorflow:It seems that global step (tf.train.get_global_step) has not been increased. Current value (could be stable): 120 vs previous value: 120. You could increase the global step by passing tf.train.get_global_step() to Optimizer.apply_gradients or Optimizer.minimize.\n"
          ],
          "name": "stderr"
        },
        {
          "output_type": "stream",
          "text": [
            "WARNING:tensorflow:It seems that global step (tf.train.get_global_step) has not been increased. Current value (could be stable): 134 vs previous value: 134. You could increase the global step by passing tf.train.get_global_step() to Optimizer.apply_gradients or Optimizer.minimize.\n"
          ],
          "name": "stdout"
        },
        {
          "output_type": "stream",
          "text": [
            "WARNING:tensorflow:It seems that global step (tf.train.get_global_step) has not been increased. Current value (could be stable): 134 vs previous value: 134. You could increase the global step by passing tf.train.get_global_step() to Optimizer.apply_gradients or Optimizer.minimize.\n"
          ],
          "name": "stderr"
        },
        {
          "output_type": "stream",
          "text": [
            "WARNING:tensorflow:It seems that global step (tf.train.get_global_step) has not been increased. Current value (could be stable): 139 vs previous value: 139. You could increase the global step by passing tf.train.get_global_step() to Optimizer.apply_gradients or Optimizer.minimize.\n"
          ],
          "name": "stdout"
        },
        {
          "output_type": "stream",
          "text": [
            "WARNING:tensorflow:It seems that global step (tf.train.get_global_step) has not been increased. Current value (could be stable): 139 vs previous value: 139. You could increase the global step by passing tf.train.get_global_step() to Optimizer.apply_gradients or Optimizer.minimize.\n"
          ],
          "name": "stderr"
        },
        {
          "output_type": "stream",
          "text": [
            "WARNING:tensorflow:It seems that global step (tf.train.get_global_step) has not been increased. Current value (could be stable): 143 vs previous value: 143. You could increase the global step by passing tf.train.get_global_step() to Optimizer.apply_gradients or Optimizer.minimize.\n"
          ],
          "name": "stdout"
        },
        {
          "output_type": "stream",
          "text": [
            "WARNING:tensorflow:It seems that global step (tf.train.get_global_step) has not been increased. Current value (could be stable): 143 vs previous value: 143. You could increase the global step by passing tf.train.get_global_step() to Optimizer.apply_gradients or Optimizer.minimize.\n"
          ],
          "name": "stderr"
        },
        {
          "output_type": "stream",
          "text": [
            "WARNING:tensorflow:It seems that global step (tf.train.get_global_step) has not been increased. Current value (could be stable): 145 vs previous value: 145. You could increase the global step by passing tf.train.get_global_step() to Optimizer.apply_gradients or Optimizer.minimize.\n"
          ],
          "name": "stdout"
        },
        {
          "output_type": "stream",
          "text": [
            "WARNING:tensorflow:It seems that global step (tf.train.get_global_step) has not been increased. Current value (could be stable): 145 vs previous value: 145. You could increase the global step by passing tf.train.get_global_step() to Optimizer.apply_gradients or Optimizer.minimize.\n"
          ],
          "name": "stderr"
        },
        {
          "output_type": "stream",
          "text": [
            "INFO:tensorflow:Saving checkpoints for 150 into /content/bert-multiclass-sentiment/model.ckpt.\n"
          ],
          "name": "stdout"
        },
        {
          "output_type": "stream",
          "text": [
            "INFO:tensorflow:Saving checkpoints for 150 into /content/bert-multiclass-sentiment/model.ckpt.\n"
          ],
          "name": "stderr"
        },
        {
          "output_type": "stream",
          "text": [
            "INFO:tensorflow:Loss for final step: 0.4960823.\n"
          ],
          "name": "stdout"
        },
        {
          "output_type": "stream",
          "text": [
            "INFO:tensorflow:Loss for final step: 0.4960823.\n"
          ],
          "name": "stderr"
        },
        {
          "output_type": "stream",
          "text": [
            "Training took time  2:55:17.255454\n"
          ],
          "name": "stdout"
        }
      ]
    },
    {
      "cell_type": "code",
      "metadata": {
        "id": "Z36EaTmW2j5v",
        "colab": {
          "base_uri": "https://localhost:8080/"
        },
        "outputId": "e4024376-cf8c-45f5-9e42-bf9094aeb45e"
      },
      "source": [
        "#Evaluating the model with Validation set\n",
        "estimator.evaluate(input_fn=val_input_fn, steps=None)"
      ],
      "execution_count": null,
      "outputs": [
        {
          "output_type": "stream",
          "text": [
            "INFO:tensorflow:Calling model_fn.\n"
          ],
          "name": "stdout"
        },
        {
          "output_type": "stream",
          "text": [
            "INFO:tensorflow:Calling model_fn.\n"
          ],
          "name": "stderr"
        },
        {
          "output_type": "stream",
          "text": [
            "INFO:tensorflow:Saver not created because there are no variables in the graph to restore\n"
          ],
          "name": "stdout"
        },
        {
          "output_type": "stream",
          "text": [
            "INFO:tensorflow:Saver not created because there are no variables in the graph to restore\n",
            "/tensorflow-1.15.2/python3.7/tensorflow_core/python/framework/indexed_slices.py:424: UserWarning: Converting sparse IndexedSlices to a dense Tensor of unknown shape. This may consume a large amount of memory.\n",
            "  \"Converting sparse IndexedSlices to a dense Tensor of unknown shape. \"\n"
          ],
          "name": "stderr"
        },
        {
          "output_type": "stream",
          "text": [
            "INFO:tensorflow:Done calling model_fn.\n"
          ],
          "name": "stdout"
        },
        {
          "output_type": "stream",
          "text": [
            "INFO:tensorflow:Done calling model_fn.\n"
          ],
          "name": "stderr"
        },
        {
          "output_type": "stream",
          "text": [
            "INFO:tensorflow:Starting evaluation at 2021-08-13T10:36:33Z\n"
          ],
          "name": "stdout"
        },
        {
          "output_type": "stream",
          "text": [
            "INFO:tensorflow:Starting evaluation at 2021-08-13T10:36:33Z\n"
          ],
          "name": "stderr"
        },
        {
          "output_type": "stream",
          "text": [
            "INFO:tensorflow:Graph was finalized.\n"
          ],
          "name": "stdout"
        },
        {
          "output_type": "stream",
          "text": [
            "INFO:tensorflow:Graph was finalized.\n"
          ],
          "name": "stderr"
        },
        {
          "output_type": "stream",
          "text": [
            "INFO:tensorflow:Restoring parameters from /content/bert-multiclass-sentiment/model.ckpt-150\n"
          ],
          "name": "stdout"
        },
        {
          "output_type": "stream",
          "text": [
            "INFO:tensorflow:Restoring parameters from /content/bert-multiclass-sentiment/model.ckpt-150\n"
          ],
          "name": "stderr"
        },
        {
          "output_type": "stream",
          "text": [
            "INFO:tensorflow:Running local_init_op.\n"
          ],
          "name": "stdout"
        },
        {
          "output_type": "stream",
          "text": [
            "INFO:tensorflow:Running local_init_op.\n"
          ],
          "name": "stderr"
        },
        {
          "output_type": "stream",
          "text": [
            "INFO:tensorflow:Done running local_init_op.\n"
          ],
          "name": "stdout"
        },
        {
          "output_type": "stream",
          "text": [
            "INFO:tensorflow:Done running local_init_op.\n"
          ],
          "name": "stderr"
        },
        {
          "output_type": "stream",
          "text": [
            "INFO:tensorflow:Finished evaluation at 2021-08-13-10:54:49\n"
          ],
          "name": "stdout"
        },
        {
          "output_type": "stream",
          "text": [
            "INFO:tensorflow:Finished evaluation at 2021-08-13-10:54:49\n"
          ],
          "name": "stderr"
        },
        {
          "output_type": "stream",
          "text": [
            "INFO:tensorflow:Saving dict for global step 150: eval_accuracy = 0.8675, false_negatives = 70.0, false_positives = 7.0, global_step = 150, loss = 0.33553424, true_negatives = 1138.0, true_positives = 385.0\n"
          ],
          "name": "stdout"
        },
        {
          "output_type": "stream",
          "text": [
            "INFO:tensorflow:Saving dict for global step 150: eval_accuracy = 0.8675, false_negatives = 70.0, false_positives = 7.0, global_step = 150, loss = 0.33553424, true_negatives = 1138.0, true_positives = 385.0\n"
          ],
          "name": "stderr"
        },
        {
          "output_type": "stream",
          "text": [
            "INFO:tensorflow:Saving 'checkpoint_path' summary for global step 150: /content/bert-multiclass-sentiment/model.ckpt-150\n"
          ],
          "name": "stdout"
        },
        {
          "output_type": "stream",
          "text": [
            "INFO:tensorflow:Saving 'checkpoint_path' summary for global step 150: /content/bert-multiclass-sentiment/model.ckpt-150\n"
          ],
          "name": "stderr"
        },
        {
          "output_type": "execute_result",
          "data": {
            "text/plain": [
              "{'eval_accuracy': 0.8675,\n",
              " 'false_negatives': 70.0,\n",
              " 'false_positives': 7.0,\n",
              " 'global_step': 150,\n",
              " 'loss': 0.33553424,\n",
              " 'true_negatives': 1138.0,\n",
              " 'true_positives': 385.0}"
            ]
          },
          "metadata": {
            "tags": []
          },
          "execution_count": 26
        }
      ]
    },
    {
      "cell_type": "code",
      "metadata": {
        "id": "xxEQKp4Z4vsc"
      },
      "source": [
        "#To make predictions\n",
        "def getPrediction(in_sentences):\n",
        "  #A list to map the actual labels to the predictions\n",
        "  labels = [\"Negative\", \"Neutral\",\"Positive\"]\n",
        "\n",
        "  #Transforming the test data into BERT accepted form\n",
        "  input_examples = [run_classifier.InputExample(guid=\"\", text_a = x, text_b = None, label = 0) for x in in_sentences] \n",
        "  \n",
        "  #Creating input features for Test data\n",
        "  input_features = run_classifier.convert_examples_to_features(input_examples, label_list, MAX_SEQ_LENGTH, tokenizer)\n",
        "\n",
        "  #Predicting the classes \n",
        "  predict_input_fn = run_classifier.input_fn_builder(features=input_features, seq_length=MAX_SEQ_LENGTH, is_training=False, drop_remainder=False)\n",
        "  predictions = estimator.predict(predict_input_fn)\n",
        "  return [(sentence, prediction['probabilities'],prediction['labels'], labels[prediction['labels']]) for sentence, prediction in zip(in_sentences, predictions)]\n",
        "  #return [prediction['labels'] for prediction in zip(in_sentences, predictions)]"
      ],
      "execution_count": null,
      "outputs": []
    },
    {
      "cell_type": "code",
      "metadata": {
        "id": "0r7CiHlB6QsJ"
      },
      "source": [
        "pred_sentences = list(df_test['Review'])"
      ],
      "execution_count": null,
      "outputs": []
    },
    {
      "cell_type": "code",
      "metadata": {
        "id": "mhNfVqGl6a_w"
      },
      "source": [
        "predictions = getPrediction(pred_sentences)"
      ],
      "execution_count": null,
      "outputs": []
    },
    {
      "cell_type": "code",
      "metadata": {
        "id": "Q49KSbxI6b6X",
        "colab": {
          "base_uri": "https://localhost:8080/"
        },
        "outputId": "a001ec2a-02cc-4aa3-90de-5859b03f7b91"
      },
      "source": [
        "predictions"
      ],
      "execution_count": null,
      "outputs": [
        {
          "output_type": "execute_result",
          "data": {
            "text/plain": [
              "[]"
            ]
          },
          "metadata": {
            "tags": []
          },
          "execution_count": 30
        }
      ]
    },
    {
      "cell_type": "code",
      "metadata": {
        "id": "4QOUH9Jm6r8Q"
      },
      "source": [
        "enc_labels = []\n",
        "act_labels = []\n",
        "for i in range(len(predictions)):\n",
        "  enc_labels.append(predictions[i][2])\n",
        "  act_labels.append(predictions[i][3])"
      ],
      "execution_count": null,
      "outputs": []
    },
    {
      "cell_type": "code",
      "metadata": {
        "id": "7_mFWnaJkQ2P",
        "colab": {
          "base_uri": "https://localhost:8080/"
        },
        "outputId": "9080458a-c476-4a9d-feac-e04da7cfdeb7"
      },
      "source": [
        "enc_labels[:5]"
      ],
      "execution_count": null,
      "outputs": [
        {
          "output_type": "execute_result",
          "data": {
            "text/plain": [
              "[]"
            ]
          },
          "metadata": {
            "tags": []
          },
          "execution_count": 32
        }
      ]
    },
    {
      "cell_type": "code",
      "metadata": {
        "id": "qB5eL12qh1Wc",
        "colab": {
          "base_uri": "https://localhost:8080/"
        },
        "outputId": "c6d6b8f2-a74c-46f1-cb73-7ca17edb0bb7"
      },
      "source": [
        "df_test.Label[:5]"
      ],
      "execution_count": null,
      "outputs": [
        {
          "output_type": "execute_result",
          "data": {
            "text/plain": [
              "Series([], Name: Label, dtype: int64)"
            ]
          },
          "metadata": {
            "tags": []
          },
          "execution_count": 33
        }
      ]
    },
    {
      "cell_type": "code",
      "metadata": {
        "id": "dGlBckhs6vWR"
      },
      "source": [
        "pd.DataFrame(enc_labels, columns = ['Label']).to_excel('bert-test-result.xlsx', index = False)"
      ],
      "execution_count": null,
      "outputs": []
    },
    {
      "cell_type": "code",
      "metadata": {
        "id": "547YIixi65jT",
        "colab": {
          "base_uri": "https://localhost:8080/"
        },
        "outputId": "09273e23-a0a5-4a17-ebc5-8327562a11a0"
      },
      "source": [
        "#Classifying random sentences\n",
        "predictions=getPrediction(df['Review'])"
      ],
      "execution_count": null,
      "outputs": [
        {
          "output_type": "stream",
          "text": [
            "INFO:tensorflow:Writing example 0 of 1600\n"
          ],
          "name": "stdout"
        },
        {
          "output_type": "stream",
          "text": [
            "INFO:tensorflow:Writing example 0 of 1600\n"
          ],
          "name": "stderr"
        },
        {
          "output_type": "stream",
          "text": [
            "INFO:tensorflow:*** Example ***\n"
          ],
          "name": "stdout"
        },
        {
          "output_type": "stream",
          "text": [
            "INFO:tensorflow:*** Example ***\n"
          ],
          "name": "stderr"
        },
        {
          "output_type": "stream",
          "text": [
            "INFO:tensorflow:guid: \n"
          ],
          "name": "stdout"
        },
        {
          "output_type": "stream",
          "text": [
            "INFO:tensorflow:guid: \n"
          ],
          "name": "stderr"
        },
        {
          "output_type": "stream",
          "text": [
            "INFO:tensorflow:tokens: [CLS] flip ##kar ##t not delivered thinks in even sm ##oll town i orders thinks but they not takes my order . but flip ##kar ##t provided good service in city ' s they gives good offers on it ##ea ##m compare other online website . my suggestion if u live city ' s best buy electronic thinks in flip ##kar ##t . they will gave service in village that ##s helps to poor people also ##fl ##ag this review ##ir ##rel ##eva ##nt ##fa ##ke ##jun ##k thank you ! we appreciate your effort . [SEP]\n"
          ],
          "name": "stdout"
        },
        {
          "output_type": "stream",
          "text": [
            "INFO:tensorflow:tokens: [CLS] flip ##kar ##t not delivered thinks in even sm ##oll town i orders thinks but they not takes my order . but flip ##kar ##t provided good service in city ' s they gives good offers on it ##ea ##m compare other online website . my suggestion if u live city ' s best buy electronic thinks in flip ##kar ##t . they will gave service in village that ##s helps to poor people also ##fl ##ag this review ##ir ##rel ##eva ##nt ##fa ##ke ##jun ##k thank you ! we appreciate your effort . [SEP]\n"
          ],
          "name": "stderr"
        },
        {
          "output_type": "stream",
          "text": [
            "INFO:tensorflow:input_ids: 101 11238 6673 2102 2025 5359 6732 1999 2130 15488 14511 2237 1045 4449 6732 2021 2027 2025 3138 2026 2344 1012 2021 11238 6673 2102 3024 2204 2326 1999 2103 1005 1055 2027 3957 2204 4107 2006 2009 5243 2213 12826 2060 3784 4037 1012 2026 10293 2065 1057 2444 2103 1005 1055 2190 4965 4816 6732 1999 11238 6673 2102 1012 2027 2097 2435 2326 1999 2352 2008 2015 7126 2000 3532 2111 2036 10258 8490 2023 3319 4313 16570 13331 3372 7011 3489 19792 2243 4067 2017 999 2057 9120 2115 3947 1012 102 0 0 0 0 0 0 0 0 0 0 0 0 0 0 0 0 0 0 0 0 0 0 0 0 0 0 0 0 0 0 0 0 0 0 0 0 0 0 0 0 0 0 0 0 0 0 0 0 0 0 0 0 0 0 0 0 0 0 0 0 0 0 0 0 0 0 0 0 0 0 0 0 0 0 0 0 0 0 0 0 0 0 0 0 0 0 0 0 0 0 0 0 0 0 0 0 0 0 0 0 0 0 0\n"
          ],
          "name": "stdout"
        },
        {
          "output_type": "stream",
          "text": [
            "INFO:tensorflow:input_ids: 101 11238 6673 2102 2025 5359 6732 1999 2130 15488 14511 2237 1045 4449 6732 2021 2027 2025 3138 2026 2344 1012 2021 11238 6673 2102 3024 2204 2326 1999 2103 1005 1055 2027 3957 2204 4107 2006 2009 5243 2213 12826 2060 3784 4037 1012 2026 10293 2065 1057 2444 2103 1005 1055 2190 4965 4816 6732 1999 11238 6673 2102 1012 2027 2097 2435 2326 1999 2352 2008 2015 7126 2000 3532 2111 2036 10258 8490 2023 3319 4313 16570 13331 3372 7011 3489 19792 2243 4067 2017 999 2057 9120 2115 3947 1012 102 0 0 0 0 0 0 0 0 0 0 0 0 0 0 0 0 0 0 0 0 0 0 0 0 0 0 0 0 0 0 0 0 0 0 0 0 0 0 0 0 0 0 0 0 0 0 0 0 0 0 0 0 0 0 0 0 0 0 0 0 0 0 0 0 0 0 0 0 0 0 0 0 0 0 0 0 0 0 0 0 0 0 0 0 0 0 0 0 0 0 0 0 0 0 0 0 0 0 0 0 0 0 0\n"
          ],
          "name": "stderr"
        },
        {
          "output_type": "stream",
          "text": [
            "INFO:tensorflow:input_mask: 1 1 1 1 1 1 1 1 1 1 1 1 1 1 1 1 1 1 1 1 1 1 1 1 1 1 1 1 1 1 1 1 1 1 1 1 1 1 1 1 1 1 1 1 1 1 1 1 1 1 1 1 1 1 1 1 1 1 1 1 1 1 1 1 1 1 1 1 1 1 1 1 1 1 1 1 1 1 1 1 1 1 1 1 1 1 1 1 1 1 1 1 1 1 1 1 1 0 0 0 0 0 0 0 0 0 0 0 0 0 0 0 0 0 0 0 0 0 0 0 0 0 0 0 0 0 0 0 0 0 0 0 0 0 0 0 0 0 0 0 0 0 0 0 0 0 0 0 0 0 0 0 0 0 0 0 0 0 0 0 0 0 0 0 0 0 0 0 0 0 0 0 0 0 0 0 0 0 0 0 0 0 0 0 0 0 0 0 0 0 0 0 0 0 0 0 0 0 0 0\n"
          ],
          "name": "stdout"
        },
        {
          "output_type": "stream",
          "text": [
            "INFO:tensorflow:input_mask: 1 1 1 1 1 1 1 1 1 1 1 1 1 1 1 1 1 1 1 1 1 1 1 1 1 1 1 1 1 1 1 1 1 1 1 1 1 1 1 1 1 1 1 1 1 1 1 1 1 1 1 1 1 1 1 1 1 1 1 1 1 1 1 1 1 1 1 1 1 1 1 1 1 1 1 1 1 1 1 1 1 1 1 1 1 1 1 1 1 1 1 1 1 1 1 1 1 0 0 0 0 0 0 0 0 0 0 0 0 0 0 0 0 0 0 0 0 0 0 0 0 0 0 0 0 0 0 0 0 0 0 0 0 0 0 0 0 0 0 0 0 0 0 0 0 0 0 0 0 0 0 0 0 0 0 0 0 0 0 0 0 0 0 0 0 0 0 0 0 0 0 0 0 0 0 0 0 0 0 0 0 0 0 0 0 0 0 0 0 0 0 0 0 0 0 0 0 0 0 0\n"
          ],
          "name": "stderr"
        },
        {
          "output_type": "stream",
          "text": [
            "INFO:tensorflow:segment_ids: 0 0 0 0 0 0 0 0 0 0 0 0 0 0 0 0 0 0 0 0 0 0 0 0 0 0 0 0 0 0 0 0 0 0 0 0 0 0 0 0 0 0 0 0 0 0 0 0 0 0 0 0 0 0 0 0 0 0 0 0 0 0 0 0 0 0 0 0 0 0 0 0 0 0 0 0 0 0 0 0 0 0 0 0 0 0 0 0 0 0 0 0 0 0 0 0 0 0 0 0 0 0 0 0 0 0 0 0 0 0 0 0 0 0 0 0 0 0 0 0 0 0 0 0 0 0 0 0 0 0 0 0 0 0 0 0 0 0 0 0 0 0 0 0 0 0 0 0 0 0 0 0 0 0 0 0 0 0 0 0 0 0 0 0 0 0 0 0 0 0 0 0 0 0 0 0 0 0 0 0 0 0 0 0 0 0 0 0 0 0 0 0 0 0 0 0 0 0 0 0\n"
          ],
          "name": "stdout"
        },
        {
          "output_type": "stream",
          "text": [
            "INFO:tensorflow:segment_ids: 0 0 0 0 0 0 0 0 0 0 0 0 0 0 0 0 0 0 0 0 0 0 0 0 0 0 0 0 0 0 0 0 0 0 0 0 0 0 0 0 0 0 0 0 0 0 0 0 0 0 0 0 0 0 0 0 0 0 0 0 0 0 0 0 0 0 0 0 0 0 0 0 0 0 0 0 0 0 0 0 0 0 0 0 0 0 0 0 0 0 0 0 0 0 0 0 0 0 0 0 0 0 0 0 0 0 0 0 0 0 0 0 0 0 0 0 0 0 0 0 0 0 0 0 0 0 0 0 0 0 0 0 0 0 0 0 0 0 0 0 0 0 0 0 0 0 0 0 0 0 0 0 0 0 0 0 0 0 0 0 0 0 0 0 0 0 0 0 0 0 0 0 0 0 0 0 0 0 0 0 0 0 0 0 0 0 0 0 0 0 0 0 0 0 0 0 0 0 0 0\n"
          ],
          "name": "stderr"
        },
        {
          "output_type": "stream",
          "text": [
            "INFO:tensorflow:label: 0 (id = 0)\n"
          ],
          "name": "stdout"
        },
        {
          "output_type": "stream",
          "text": [
            "INFO:tensorflow:label: 0 (id = 0)\n"
          ],
          "name": "stderr"
        },
        {
          "output_type": "stream",
          "text": [
            "INFO:tensorflow:*** Example ***\n"
          ],
          "name": "stdout"
        },
        {
          "output_type": "stream",
          "text": [
            "INFO:tensorflow:*** Example ***\n"
          ],
          "name": "stderr"
        },
        {
          "output_type": "stream",
          "text": [
            "INFO:tensorflow:guid: \n"
          ],
          "name": "stdout"
        },
        {
          "output_type": "stream",
          "text": [
            "INFO:tensorflow:guid: \n"
          ],
          "name": "stderr"
        },
        {
          "output_type": "stream",
          "text": [
            "INFO:tensorflow:tokens: [CLS] dear sir ##my account not working please re - active my account bearing mobile no 98 ##56 ##40 ##6 ##25 ##8 . thank ##you ##fl ##ag this review ##ir ##rel ##eva ##nt ##fa ##ke ##jun ##k thank you ! we appreciate your effort . [SEP]\n"
          ],
          "name": "stdout"
        },
        {
          "output_type": "stream",
          "text": [
            "INFO:tensorflow:tokens: [CLS] dear sir ##my account not working please re - active my account bearing mobile no 98 ##56 ##40 ##6 ##25 ##8 . thank ##you ##fl ##ag this review ##ir ##rel ##eva ##nt ##fa ##ke ##jun ##k thank you ! we appreciate your effort . [SEP]\n"
          ],
          "name": "stderr"
        },
        {
          "output_type": "stream",
          "text": [
            "INFO:tensorflow:input_ids: 101 6203 2909 8029 4070 2025 2551 3531 2128 1011 3161 2026 4070 7682 4684 2053 5818 26976 12740 2575 17788 2620 1012 4067 29337 10258 8490 2023 3319 4313 16570 13331 3372 7011 3489 19792 2243 4067 2017 999 2057 9120 2115 3947 1012 102 0 0 0 0 0 0 0 0 0 0 0 0 0 0 0 0 0 0 0 0 0 0 0 0 0 0 0 0 0 0 0 0 0 0 0 0 0 0 0 0 0 0 0 0 0 0 0 0 0 0 0 0 0 0 0 0 0 0 0 0 0 0 0 0 0 0 0 0 0 0 0 0 0 0 0 0 0 0 0 0 0 0 0 0 0 0 0 0 0 0 0 0 0 0 0 0 0 0 0 0 0 0 0 0 0 0 0 0 0 0 0 0 0 0 0 0 0 0 0 0 0 0 0 0 0 0 0 0 0 0 0 0 0 0 0 0 0 0 0 0 0 0 0 0 0 0 0 0 0 0 0 0 0 0\n"
          ],
          "name": "stdout"
        },
        {
          "output_type": "stream",
          "text": [
            "INFO:tensorflow:input_ids: 101 6203 2909 8029 4070 2025 2551 3531 2128 1011 3161 2026 4070 7682 4684 2053 5818 26976 12740 2575 17788 2620 1012 4067 29337 10258 8490 2023 3319 4313 16570 13331 3372 7011 3489 19792 2243 4067 2017 999 2057 9120 2115 3947 1012 102 0 0 0 0 0 0 0 0 0 0 0 0 0 0 0 0 0 0 0 0 0 0 0 0 0 0 0 0 0 0 0 0 0 0 0 0 0 0 0 0 0 0 0 0 0 0 0 0 0 0 0 0 0 0 0 0 0 0 0 0 0 0 0 0 0 0 0 0 0 0 0 0 0 0 0 0 0 0 0 0 0 0 0 0 0 0 0 0 0 0 0 0 0 0 0 0 0 0 0 0 0 0 0 0 0 0 0 0 0 0 0 0 0 0 0 0 0 0 0 0 0 0 0 0 0 0 0 0 0 0 0 0 0 0 0 0 0 0 0 0 0 0 0 0 0 0 0 0 0 0 0 0 0 0\n"
          ],
          "name": "stderr"
        },
        {
          "output_type": "stream",
          "text": [
            "INFO:tensorflow:input_mask: 1 1 1 1 1 1 1 1 1 1 1 1 1 1 1 1 1 1 1 1 1 1 1 1 1 1 1 1 1 1 1 1 1 1 1 1 1 1 1 1 1 1 1 1 1 1 0 0 0 0 0 0 0 0 0 0 0 0 0 0 0 0 0 0 0 0 0 0 0 0 0 0 0 0 0 0 0 0 0 0 0 0 0 0 0 0 0 0 0 0 0 0 0 0 0 0 0 0 0 0 0 0 0 0 0 0 0 0 0 0 0 0 0 0 0 0 0 0 0 0 0 0 0 0 0 0 0 0 0 0 0 0 0 0 0 0 0 0 0 0 0 0 0 0 0 0 0 0 0 0 0 0 0 0 0 0 0 0 0 0 0 0 0 0 0 0 0 0 0 0 0 0 0 0 0 0 0 0 0 0 0 0 0 0 0 0 0 0 0 0 0 0 0 0 0 0 0 0 0 0\n"
          ],
          "name": "stdout"
        },
        {
          "output_type": "stream",
          "text": [
            "INFO:tensorflow:input_mask: 1 1 1 1 1 1 1 1 1 1 1 1 1 1 1 1 1 1 1 1 1 1 1 1 1 1 1 1 1 1 1 1 1 1 1 1 1 1 1 1 1 1 1 1 1 1 0 0 0 0 0 0 0 0 0 0 0 0 0 0 0 0 0 0 0 0 0 0 0 0 0 0 0 0 0 0 0 0 0 0 0 0 0 0 0 0 0 0 0 0 0 0 0 0 0 0 0 0 0 0 0 0 0 0 0 0 0 0 0 0 0 0 0 0 0 0 0 0 0 0 0 0 0 0 0 0 0 0 0 0 0 0 0 0 0 0 0 0 0 0 0 0 0 0 0 0 0 0 0 0 0 0 0 0 0 0 0 0 0 0 0 0 0 0 0 0 0 0 0 0 0 0 0 0 0 0 0 0 0 0 0 0 0 0 0 0 0 0 0 0 0 0 0 0 0 0 0 0 0 0\n"
          ],
          "name": "stderr"
        },
        {
          "output_type": "stream",
          "text": [
            "INFO:tensorflow:segment_ids: 0 0 0 0 0 0 0 0 0 0 0 0 0 0 0 0 0 0 0 0 0 0 0 0 0 0 0 0 0 0 0 0 0 0 0 0 0 0 0 0 0 0 0 0 0 0 0 0 0 0 0 0 0 0 0 0 0 0 0 0 0 0 0 0 0 0 0 0 0 0 0 0 0 0 0 0 0 0 0 0 0 0 0 0 0 0 0 0 0 0 0 0 0 0 0 0 0 0 0 0 0 0 0 0 0 0 0 0 0 0 0 0 0 0 0 0 0 0 0 0 0 0 0 0 0 0 0 0 0 0 0 0 0 0 0 0 0 0 0 0 0 0 0 0 0 0 0 0 0 0 0 0 0 0 0 0 0 0 0 0 0 0 0 0 0 0 0 0 0 0 0 0 0 0 0 0 0 0 0 0 0 0 0 0 0 0 0 0 0 0 0 0 0 0 0 0 0 0 0 0\n"
          ],
          "name": "stdout"
        },
        {
          "output_type": "stream",
          "text": [
            "INFO:tensorflow:segment_ids: 0 0 0 0 0 0 0 0 0 0 0 0 0 0 0 0 0 0 0 0 0 0 0 0 0 0 0 0 0 0 0 0 0 0 0 0 0 0 0 0 0 0 0 0 0 0 0 0 0 0 0 0 0 0 0 0 0 0 0 0 0 0 0 0 0 0 0 0 0 0 0 0 0 0 0 0 0 0 0 0 0 0 0 0 0 0 0 0 0 0 0 0 0 0 0 0 0 0 0 0 0 0 0 0 0 0 0 0 0 0 0 0 0 0 0 0 0 0 0 0 0 0 0 0 0 0 0 0 0 0 0 0 0 0 0 0 0 0 0 0 0 0 0 0 0 0 0 0 0 0 0 0 0 0 0 0 0 0 0 0 0 0 0 0 0 0 0 0 0 0 0 0 0 0 0 0 0 0 0 0 0 0 0 0 0 0 0 0 0 0 0 0 0 0 0 0 0 0 0 0\n"
          ],
          "name": "stderr"
        },
        {
          "output_type": "stream",
          "text": [
            "INFO:tensorflow:label: 0 (id = 0)\n"
          ],
          "name": "stdout"
        },
        {
          "output_type": "stream",
          "text": [
            "INFO:tensorflow:label: 0 (id = 0)\n"
          ],
          "name": "stderr"
        },
        {
          "output_type": "stream",
          "text": [
            "INFO:tensorflow:*** Example ***\n"
          ],
          "name": "stdout"
        },
        {
          "output_type": "stream",
          "text": [
            "INFO:tensorflow:*** Example ***\n"
          ],
          "name": "stderr"
        },
        {
          "output_type": "stream",
          "text": [
            "INFO:tensorflow:guid: \n"
          ],
          "name": "stdout"
        },
        {
          "output_type": "stream",
          "text": [
            "INFO:tensorflow:guid: \n"
          ],
          "name": "stderr"
        },
        {
          "output_type": "stream",
          "text": [
            "INFO:tensorflow:tokens: [CLS] poison ! when i opened the packet there was a strong paint smell . when i scratched the rice scales of black paint came from the rice . shocking . please don ##t buy from this brand i brought more than 8 kg ##s from this brand . i am very much dissatisfied with flip ##kar ##t on having such brands . when you deliver food product you should check the quality . giving people poison in the name of food is an im ##moral and ir ##res ##pon ##sible act . as you can see in the pictures the paint layer comes off the rice surface when you scratch it . i have purchased many organic products from different sites and different brands and this is the first time i am encounter ##ing a fraud company . flag this review ##ir ##rel ##eva ##nt ##fa ##ke ##jun ##k thank you ! we appreciate your effort . [SEP]\n"
          ],
          "name": "stdout"
        },
        {
          "output_type": "stream",
          "text": [
            "INFO:tensorflow:tokens: [CLS] poison ! when i opened the packet there was a strong paint smell . when i scratched the rice scales of black paint came from the rice . shocking . please don ##t buy from this brand i brought more than 8 kg ##s from this brand . i am very much dissatisfied with flip ##kar ##t on having such brands . when you deliver food product you should check the quality . giving people poison in the name of food is an im ##moral and ir ##res ##pon ##sible act . as you can see in the pictures the paint layer comes off the rice surface when you scratch it . i have purchased many organic products from different sites and different brands and this is the first time i am encounter ##ing a fraud company . flag this review ##ir ##rel ##eva ##nt ##fa ##ke ##jun ##k thank you ! we appreciate your effort . [SEP]\n"
          ],
          "name": "stderr"
        },
        {
          "output_type": "stream",
          "text": [
            "INFO:tensorflow:input_ids: 101 9947 999 2043 1045 2441 1996 14771 2045 2001 1037 2844 6773 5437 1012 2043 1045 15047 1996 5785 9539 1997 2304 6773 2234 2013 1996 5785 1012 16880 1012 3531 2123 2102 4965 2013 2023 4435 1045 2716 2062 2084 1022 4705 2015 2013 2023 4435 1012 1045 2572 2200 2172 25956 2007 11238 6673 2102 2006 2383 2107 9639 1012 2043 2017 8116 2833 4031 2017 2323 4638 1996 3737 1012 3228 2111 9947 1999 1996 2171 1997 2833 2003 2019 10047 22049 1998 20868 6072 26029 19307 2552 1012 2004 2017 2064 2156 1999 1996 4620 1996 6773 6741 3310 2125 1996 5785 3302 2043 2017 11969 2009 1012 1045 2031 4156 2116 7554 3688 2013 2367 4573 1998 2367 9639 1998 2023 2003 1996 2034 2051 1045 2572 8087 2075 1037 9861 2194 1012 5210 2023 3319 4313 16570 13331 3372 7011 3489 19792 2243 4067 2017 999 2057 9120 2115 3947 1012 102 0 0 0 0 0 0 0 0 0 0 0 0 0 0 0 0 0 0 0 0 0 0 0 0 0 0 0 0 0 0 0 0 0 0 0 0 0 0 0 0 0\n"
          ],
          "name": "stdout"
        },
        {
          "output_type": "stream",
          "text": [
            "INFO:tensorflow:input_ids: 101 9947 999 2043 1045 2441 1996 14771 2045 2001 1037 2844 6773 5437 1012 2043 1045 15047 1996 5785 9539 1997 2304 6773 2234 2013 1996 5785 1012 16880 1012 3531 2123 2102 4965 2013 2023 4435 1045 2716 2062 2084 1022 4705 2015 2013 2023 4435 1012 1045 2572 2200 2172 25956 2007 11238 6673 2102 2006 2383 2107 9639 1012 2043 2017 8116 2833 4031 2017 2323 4638 1996 3737 1012 3228 2111 9947 1999 1996 2171 1997 2833 2003 2019 10047 22049 1998 20868 6072 26029 19307 2552 1012 2004 2017 2064 2156 1999 1996 4620 1996 6773 6741 3310 2125 1996 5785 3302 2043 2017 11969 2009 1012 1045 2031 4156 2116 7554 3688 2013 2367 4573 1998 2367 9639 1998 2023 2003 1996 2034 2051 1045 2572 8087 2075 1037 9861 2194 1012 5210 2023 3319 4313 16570 13331 3372 7011 3489 19792 2243 4067 2017 999 2057 9120 2115 3947 1012 102 0 0 0 0 0 0 0 0 0 0 0 0 0 0 0 0 0 0 0 0 0 0 0 0 0 0 0 0 0 0 0 0 0 0 0 0 0 0 0 0 0\n"
          ],
          "name": "stderr"
        },
        {
          "output_type": "stream",
          "text": [
            "INFO:tensorflow:input_mask: 1 1 1 1 1 1 1 1 1 1 1 1 1 1 1 1 1 1 1 1 1 1 1 1 1 1 1 1 1 1 1 1 1 1 1 1 1 1 1 1 1 1 1 1 1 1 1 1 1 1 1 1 1 1 1 1 1 1 1 1 1 1 1 1 1 1 1 1 1 1 1 1 1 1 1 1 1 1 1 1 1 1 1 1 1 1 1 1 1 1 1 1 1 1 1 1 1 1 1 1 1 1 1 1 1 1 1 1 1 1 1 1 1 1 1 1 1 1 1 1 1 1 1 1 1 1 1 1 1 1 1 1 1 1 1 1 1 1 1 1 1 1 1 1 1 1 1 1 1 1 1 1 1 1 1 1 1 1 1 0 0 0 0 0 0 0 0 0 0 0 0 0 0 0 0 0 0 0 0 0 0 0 0 0 0 0 0 0 0 0 0 0 0 0 0 0 0 0 0 0\n"
          ],
          "name": "stdout"
        },
        {
          "output_type": "stream",
          "text": [
            "INFO:tensorflow:input_mask: 1 1 1 1 1 1 1 1 1 1 1 1 1 1 1 1 1 1 1 1 1 1 1 1 1 1 1 1 1 1 1 1 1 1 1 1 1 1 1 1 1 1 1 1 1 1 1 1 1 1 1 1 1 1 1 1 1 1 1 1 1 1 1 1 1 1 1 1 1 1 1 1 1 1 1 1 1 1 1 1 1 1 1 1 1 1 1 1 1 1 1 1 1 1 1 1 1 1 1 1 1 1 1 1 1 1 1 1 1 1 1 1 1 1 1 1 1 1 1 1 1 1 1 1 1 1 1 1 1 1 1 1 1 1 1 1 1 1 1 1 1 1 1 1 1 1 1 1 1 1 1 1 1 1 1 1 1 1 1 0 0 0 0 0 0 0 0 0 0 0 0 0 0 0 0 0 0 0 0 0 0 0 0 0 0 0 0 0 0 0 0 0 0 0 0 0 0 0 0 0\n"
          ],
          "name": "stderr"
        },
        {
          "output_type": "stream",
          "text": [
            "INFO:tensorflow:segment_ids: 0 0 0 0 0 0 0 0 0 0 0 0 0 0 0 0 0 0 0 0 0 0 0 0 0 0 0 0 0 0 0 0 0 0 0 0 0 0 0 0 0 0 0 0 0 0 0 0 0 0 0 0 0 0 0 0 0 0 0 0 0 0 0 0 0 0 0 0 0 0 0 0 0 0 0 0 0 0 0 0 0 0 0 0 0 0 0 0 0 0 0 0 0 0 0 0 0 0 0 0 0 0 0 0 0 0 0 0 0 0 0 0 0 0 0 0 0 0 0 0 0 0 0 0 0 0 0 0 0 0 0 0 0 0 0 0 0 0 0 0 0 0 0 0 0 0 0 0 0 0 0 0 0 0 0 0 0 0 0 0 0 0 0 0 0 0 0 0 0 0 0 0 0 0 0 0 0 0 0 0 0 0 0 0 0 0 0 0 0 0 0 0 0 0 0 0 0 0 0 0\n"
          ],
          "name": "stdout"
        },
        {
          "output_type": "stream",
          "text": [
            "INFO:tensorflow:segment_ids: 0 0 0 0 0 0 0 0 0 0 0 0 0 0 0 0 0 0 0 0 0 0 0 0 0 0 0 0 0 0 0 0 0 0 0 0 0 0 0 0 0 0 0 0 0 0 0 0 0 0 0 0 0 0 0 0 0 0 0 0 0 0 0 0 0 0 0 0 0 0 0 0 0 0 0 0 0 0 0 0 0 0 0 0 0 0 0 0 0 0 0 0 0 0 0 0 0 0 0 0 0 0 0 0 0 0 0 0 0 0 0 0 0 0 0 0 0 0 0 0 0 0 0 0 0 0 0 0 0 0 0 0 0 0 0 0 0 0 0 0 0 0 0 0 0 0 0 0 0 0 0 0 0 0 0 0 0 0 0 0 0 0 0 0 0 0 0 0 0 0 0 0 0 0 0 0 0 0 0 0 0 0 0 0 0 0 0 0 0 0 0 0 0 0 0 0 0 0 0 0\n"
          ],
          "name": "stderr"
        },
        {
          "output_type": "stream",
          "text": [
            "INFO:tensorflow:label: 0 (id = 0)\n"
          ],
          "name": "stdout"
        },
        {
          "output_type": "stream",
          "text": [
            "INFO:tensorflow:label: 0 (id = 0)\n"
          ],
          "name": "stderr"
        },
        {
          "output_type": "stream",
          "text": [
            "INFO:tensorflow:*** Example ***\n"
          ],
          "name": "stdout"
        },
        {
          "output_type": "stream",
          "text": [
            "INFO:tensorflow:*** Example ***\n"
          ],
          "name": "stderr"
        },
        {
          "output_type": "stream",
          "text": [
            "INFO:tensorflow:guid: \n"
          ],
          "name": "stdout"
        },
        {
          "output_type": "stream",
          "text": [
            "INFO:tensorflow:guid: \n"
          ],
          "name": "stderr"
        },
        {
          "output_type": "stream",
          "text": [
            "INFO:tensorflow:tokens: [CLS] mostly you are on luck when you order from flip ##kar ##t . if you are ordering small product like pen ##drive , you may get support if you have received defective product but if it is an app ##lian ##ce washing machine or ac . your money is gone , the process is super complicated and you will quit half way that ' s what flip ##kar ##t wants . order - o ##d ##12 ##24 ##0 ##70 ##90 ##86 ##8 ##42 ##90 ##00 ##als ##o their support team disco ##nne ##cts the call or leave the chat half way if they know its a big app ##lian ##ce . always go for amazon or any other website , flip ##kar ##t is not trust ##worthy when you need support . flag this review ##ir ##rel ##eva ##nt ##fa ##ke ##jun ##k thank you ! we appreciate your effort . [SEP]\n"
          ],
          "name": "stdout"
        },
        {
          "output_type": "stream",
          "text": [
            "INFO:tensorflow:tokens: [CLS] mostly you are on luck when you order from flip ##kar ##t . if you are ordering small product like pen ##drive , you may get support if you have received defective product but if it is an app ##lian ##ce washing machine or ac . your money is gone , the process is super complicated and you will quit half way that ' s what flip ##kar ##t wants . order - o ##d ##12 ##24 ##0 ##70 ##90 ##86 ##8 ##42 ##90 ##00 ##als ##o their support team disco ##nne ##cts the call or leave the chat half way if they know its a big app ##lian ##ce . always go for amazon or any other website , flip ##kar ##t is not trust ##worthy when you need support . flag this review ##ir ##rel ##eva ##nt ##fa ##ke ##jun ##k thank you ! we appreciate your effort . [SEP]\n"
          ],
          "name": "stderr"
        },
        {
          "output_type": "stream",
          "text": [
            "INFO:tensorflow:input_ids: 101 3262 2017 2024 2006 6735 2043 2017 2344 2013 11238 6673 2102 1012 2065 2017 2024 13063 2235 4031 2066 7279 23663 1010 2017 2089 2131 2490 2065 2017 2031 2363 28829 4031 2021 2065 2009 2003 2019 10439 15204 3401 12699 3698 2030 9353 1012 2115 2769 2003 2908 1010 1996 2832 2003 3565 8552 1998 2017 2097 8046 2431 2126 2008 1005 1055 2054 11238 6673 2102 4122 1012 2344 1011 1051 2094 12521 18827 2692 19841 21057 20842 2620 20958 21057 8889 9777 2080 2037 2490 2136 12532 10087 16649 1996 2655 2030 2681 1996 11834 2431 2126 2065 2027 2113 2049 1037 2502 10439 15204 3401 1012 2467 2175 2005 9733 2030 2151 2060 4037 1010 11238 6673 2102 2003 2025 3404 13966 2043 2017 2342 2490 1012 5210 2023 3319 4313 16570 13331 3372 7011 3489 19792 2243 4067 2017 999 2057 9120 2115 3947 1012 102 0 0 0 0 0 0 0 0 0 0 0 0 0 0 0 0 0 0 0 0 0 0 0 0 0 0 0 0 0 0 0 0 0 0 0 0 0 0 0 0 0 0 0 0 0 0 0\n"
          ],
          "name": "stdout"
        },
        {
          "output_type": "stream",
          "text": [
            "INFO:tensorflow:input_ids: 101 3262 2017 2024 2006 6735 2043 2017 2344 2013 11238 6673 2102 1012 2065 2017 2024 13063 2235 4031 2066 7279 23663 1010 2017 2089 2131 2490 2065 2017 2031 2363 28829 4031 2021 2065 2009 2003 2019 10439 15204 3401 12699 3698 2030 9353 1012 2115 2769 2003 2908 1010 1996 2832 2003 3565 8552 1998 2017 2097 8046 2431 2126 2008 1005 1055 2054 11238 6673 2102 4122 1012 2344 1011 1051 2094 12521 18827 2692 19841 21057 20842 2620 20958 21057 8889 9777 2080 2037 2490 2136 12532 10087 16649 1996 2655 2030 2681 1996 11834 2431 2126 2065 2027 2113 2049 1037 2502 10439 15204 3401 1012 2467 2175 2005 9733 2030 2151 2060 4037 1010 11238 6673 2102 2003 2025 3404 13966 2043 2017 2342 2490 1012 5210 2023 3319 4313 16570 13331 3372 7011 3489 19792 2243 4067 2017 999 2057 9120 2115 3947 1012 102 0 0 0 0 0 0 0 0 0 0 0 0 0 0 0 0 0 0 0 0 0 0 0 0 0 0 0 0 0 0 0 0 0 0 0 0 0 0 0 0 0 0 0 0 0 0 0\n"
          ],
          "name": "stderr"
        },
        {
          "output_type": "stream",
          "text": [
            "INFO:tensorflow:input_mask: 1 1 1 1 1 1 1 1 1 1 1 1 1 1 1 1 1 1 1 1 1 1 1 1 1 1 1 1 1 1 1 1 1 1 1 1 1 1 1 1 1 1 1 1 1 1 1 1 1 1 1 1 1 1 1 1 1 1 1 1 1 1 1 1 1 1 1 1 1 1 1 1 1 1 1 1 1 1 1 1 1 1 1 1 1 1 1 1 1 1 1 1 1 1 1 1 1 1 1 1 1 1 1 1 1 1 1 1 1 1 1 1 1 1 1 1 1 1 1 1 1 1 1 1 1 1 1 1 1 1 1 1 1 1 1 1 1 1 1 1 1 1 1 1 1 1 1 1 1 1 1 1 1 0 0 0 0 0 0 0 0 0 0 0 0 0 0 0 0 0 0 0 0 0 0 0 0 0 0 0 0 0 0 0 0 0 0 0 0 0 0 0 0 0 0 0 0 0 0 0\n"
          ],
          "name": "stdout"
        },
        {
          "output_type": "stream",
          "text": [
            "INFO:tensorflow:input_mask: 1 1 1 1 1 1 1 1 1 1 1 1 1 1 1 1 1 1 1 1 1 1 1 1 1 1 1 1 1 1 1 1 1 1 1 1 1 1 1 1 1 1 1 1 1 1 1 1 1 1 1 1 1 1 1 1 1 1 1 1 1 1 1 1 1 1 1 1 1 1 1 1 1 1 1 1 1 1 1 1 1 1 1 1 1 1 1 1 1 1 1 1 1 1 1 1 1 1 1 1 1 1 1 1 1 1 1 1 1 1 1 1 1 1 1 1 1 1 1 1 1 1 1 1 1 1 1 1 1 1 1 1 1 1 1 1 1 1 1 1 1 1 1 1 1 1 1 1 1 1 1 1 1 0 0 0 0 0 0 0 0 0 0 0 0 0 0 0 0 0 0 0 0 0 0 0 0 0 0 0 0 0 0 0 0 0 0 0 0 0 0 0 0 0 0 0 0 0 0 0\n"
          ],
          "name": "stderr"
        },
        {
          "output_type": "stream",
          "text": [
            "INFO:tensorflow:segment_ids: 0 0 0 0 0 0 0 0 0 0 0 0 0 0 0 0 0 0 0 0 0 0 0 0 0 0 0 0 0 0 0 0 0 0 0 0 0 0 0 0 0 0 0 0 0 0 0 0 0 0 0 0 0 0 0 0 0 0 0 0 0 0 0 0 0 0 0 0 0 0 0 0 0 0 0 0 0 0 0 0 0 0 0 0 0 0 0 0 0 0 0 0 0 0 0 0 0 0 0 0 0 0 0 0 0 0 0 0 0 0 0 0 0 0 0 0 0 0 0 0 0 0 0 0 0 0 0 0 0 0 0 0 0 0 0 0 0 0 0 0 0 0 0 0 0 0 0 0 0 0 0 0 0 0 0 0 0 0 0 0 0 0 0 0 0 0 0 0 0 0 0 0 0 0 0 0 0 0 0 0 0 0 0 0 0 0 0 0 0 0 0 0 0 0 0 0 0 0 0 0\n"
          ],
          "name": "stdout"
        },
        {
          "output_type": "stream",
          "text": [
            "INFO:tensorflow:segment_ids: 0 0 0 0 0 0 0 0 0 0 0 0 0 0 0 0 0 0 0 0 0 0 0 0 0 0 0 0 0 0 0 0 0 0 0 0 0 0 0 0 0 0 0 0 0 0 0 0 0 0 0 0 0 0 0 0 0 0 0 0 0 0 0 0 0 0 0 0 0 0 0 0 0 0 0 0 0 0 0 0 0 0 0 0 0 0 0 0 0 0 0 0 0 0 0 0 0 0 0 0 0 0 0 0 0 0 0 0 0 0 0 0 0 0 0 0 0 0 0 0 0 0 0 0 0 0 0 0 0 0 0 0 0 0 0 0 0 0 0 0 0 0 0 0 0 0 0 0 0 0 0 0 0 0 0 0 0 0 0 0 0 0 0 0 0 0 0 0 0 0 0 0 0 0 0 0 0 0 0 0 0 0 0 0 0 0 0 0 0 0 0 0 0 0 0 0 0 0 0 0\n"
          ],
          "name": "stderr"
        },
        {
          "output_type": "stream",
          "text": [
            "INFO:tensorflow:label: 0 (id = 0)\n"
          ],
          "name": "stdout"
        },
        {
          "output_type": "stream",
          "text": [
            "INFO:tensorflow:label: 0 (id = 0)\n"
          ],
          "name": "stderr"
        },
        {
          "output_type": "stream",
          "text": [
            "INFO:tensorflow:*** Example ***\n"
          ],
          "name": "stdout"
        },
        {
          "output_type": "stream",
          "text": [
            "INFO:tensorflow:*** Example ***\n"
          ],
          "name": "stderr"
        },
        {
          "output_type": "stream",
          "text": [
            "INFO:tensorflow:guid: \n"
          ],
          "name": "stdout"
        },
        {
          "output_type": "stream",
          "text": [
            "INFO:tensorflow:guid: \n"
          ],
          "name": "stderr"
        },
        {
          "output_type": "stream",
          "text": [
            "INFO:tensorflow:tokens: [CLS] flip ##kar ##t failed to deliver my order twice and they cancelled it on their side with an email saying that the courier service was unable to reach me on my phone or address . that is an absolute lie . they never contacted me regarding this order . why do you wanna hide your failure by sending such emails to customer ? don ' t you even have the courtesy to reach out to the customer and let them know in case the order could not be delivered and don ' t you even try investigating with your partners and vendors . this is shame ! order id : o ##d ##12 ##24 ##0 ##8 ##35 ##7 ##66 ##32 ##27 ##00 ##0 ##in ##cide ##nt : in ##21 ##0 ##7 ##31 ##15 ##47 ##35 ##52 ##7 ##80 ##36 ##9 ##fl ##ag this review ##ir ##rel ##eva ##nt ##fa ##ke ##jun ##k thank you ! we appreciate your effort . [SEP]\n"
          ],
          "name": "stdout"
        },
        {
          "output_type": "stream",
          "text": [
            "INFO:tensorflow:tokens: [CLS] flip ##kar ##t failed to deliver my order twice and they cancelled it on their side with an email saying that the courier service was unable to reach me on my phone or address . that is an absolute lie . they never contacted me regarding this order . why do you wanna hide your failure by sending such emails to customer ? don ' t you even have the courtesy to reach out to the customer and let them know in case the order could not be delivered and don ' t you even try investigating with your partners and vendors . this is shame ! order id : o ##d ##12 ##24 ##0 ##8 ##35 ##7 ##66 ##32 ##27 ##00 ##0 ##in ##cide ##nt : in ##21 ##0 ##7 ##31 ##15 ##47 ##35 ##52 ##7 ##80 ##36 ##9 ##fl ##ag this review ##ir ##rel ##eva ##nt ##fa ##ke ##jun ##k thank you ! we appreciate your effort . [SEP]\n"
          ],
          "name": "stderr"
        },
        {
          "output_type": "stream",
          "text": [
            "INFO:tensorflow:input_ids: 101 11238 6673 2102 3478 2000 8116 2026 2344 3807 1998 2027 8014 2009 2006 2037 2217 2007 2019 10373 3038 2008 1996 18092 2326 2001 4039 2000 3362 2033 2006 2026 3042 2030 4769 1012 2008 2003 2019 7619 4682 1012 2027 2196 11925 2033 4953 2023 2344 1012 2339 2079 2017 10587 5342 2115 4945 2011 6016 2107 22028 2000 8013 1029 2123 1005 1056 2017 2130 2031 1996 14571 2000 3362 2041 2000 1996 8013 1998 2292 2068 2113 1999 2553 1996 2344 2071 2025 2022 5359 1998 2123 1005 1056 2017 2130 3046 11538 2007 2115 5826 1998 17088 1012 2023 2003 9467 999 2344 8909 1024 1051 2094 12521 18827 2692 2620 19481 2581 28756 16703 22907 8889 2692 2378 27082 3372 1024 1999 17465 2692 2581 21486 16068 22610 19481 25746 2581 17914 21619 2683 10258 8490 2023 3319 4313 16570 13331 3372 7011 3489 19792 2243 4067 2017 999 2057 9120 2115 3947 1012 102 0 0 0 0 0 0 0 0 0 0 0 0 0 0 0 0 0 0 0 0 0 0 0 0 0 0 0 0 0 0 0 0 0 0 0 0 0 0\n"
          ],
          "name": "stdout"
        },
        {
          "output_type": "stream",
          "text": [
            "INFO:tensorflow:input_ids: 101 11238 6673 2102 3478 2000 8116 2026 2344 3807 1998 2027 8014 2009 2006 2037 2217 2007 2019 10373 3038 2008 1996 18092 2326 2001 4039 2000 3362 2033 2006 2026 3042 2030 4769 1012 2008 2003 2019 7619 4682 1012 2027 2196 11925 2033 4953 2023 2344 1012 2339 2079 2017 10587 5342 2115 4945 2011 6016 2107 22028 2000 8013 1029 2123 1005 1056 2017 2130 2031 1996 14571 2000 3362 2041 2000 1996 8013 1998 2292 2068 2113 1999 2553 1996 2344 2071 2025 2022 5359 1998 2123 1005 1056 2017 2130 3046 11538 2007 2115 5826 1998 17088 1012 2023 2003 9467 999 2344 8909 1024 1051 2094 12521 18827 2692 2620 19481 2581 28756 16703 22907 8889 2692 2378 27082 3372 1024 1999 17465 2692 2581 21486 16068 22610 19481 25746 2581 17914 21619 2683 10258 8490 2023 3319 4313 16570 13331 3372 7011 3489 19792 2243 4067 2017 999 2057 9120 2115 3947 1012 102 0 0 0 0 0 0 0 0 0 0 0 0 0 0 0 0 0 0 0 0 0 0 0 0 0 0 0 0 0 0 0 0 0 0 0 0 0 0\n"
          ],
          "name": "stderr"
        },
        {
          "output_type": "stream",
          "text": [
            "INFO:tensorflow:input_mask: 1 1 1 1 1 1 1 1 1 1 1 1 1 1 1 1 1 1 1 1 1 1 1 1 1 1 1 1 1 1 1 1 1 1 1 1 1 1 1 1 1 1 1 1 1 1 1 1 1 1 1 1 1 1 1 1 1 1 1 1 1 1 1 1 1 1 1 1 1 1 1 1 1 1 1 1 1 1 1 1 1 1 1 1 1 1 1 1 1 1 1 1 1 1 1 1 1 1 1 1 1 1 1 1 1 1 1 1 1 1 1 1 1 1 1 1 1 1 1 1 1 1 1 1 1 1 1 1 1 1 1 1 1 1 1 1 1 1 1 1 1 1 1 1 1 1 1 1 1 1 1 1 1 1 1 1 1 1 1 1 1 1 0 0 0 0 0 0 0 0 0 0 0 0 0 0 0 0 0 0 0 0 0 0 0 0 0 0 0 0 0 0 0 0 0 0 0 0 0 0\n"
          ],
          "name": "stdout"
        },
        {
          "output_type": "stream",
          "text": [
            "INFO:tensorflow:input_mask: 1 1 1 1 1 1 1 1 1 1 1 1 1 1 1 1 1 1 1 1 1 1 1 1 1 1 1 1 1 1 1 1 1 1 1 1 1 1 1 1 1 1 1 1 1 1 1 1 1 1 1 1 1 1 1 1 1 1 1 1 1 1 1 1 1 1 1 1 1 1 1 1 1 1 1 1 1 1 1 1 1 1 1 1 1 1 1 1 1 1 1 1 1 1 1 1 1 1 1 1 1 1 1 1 1 1 1 1 1 1 1 1 1 1 1 1 1 1 1 1 1 1 1 1 1 1 1 1 1 1 1 1 1 1 1 1 1 1 1 1 1 1 1 1 1 1 1 1 1 1 1 1 1 1 1 1 1 1 1 1 1 1 0 0 0 0 0 0 0 0 0 0 0 0 0 0 0 0 0 0 0 0 0 0 0 0 0 0 0 0 0 0 0 0 0 0 0 0 0 0\n"
          ],
          "name": "stderr"
        },
        {
          "output_type": "stream",
          "text": [
            "INFO:tensorflow:segment_ids: 0 0 0 0 0 0 0 0 0 0 0 0 0 0 0 0 0 0 0 0 0 0 0 0 0 0 0 0 0 0 0 0 0 0 0 0 0 0 0 0 0 0 0 0 0 0 0 0 0 0 0 0 0 0 0 0 0 0 0 0 0 0 0 0 0 0 0 0 0 0 0 0 0 0 0 0 0 0 0 0 0 0 0 0 0 0 0 0 0 0 0 0 0 0 0 0 0 0 0 0 0 0 0 0 0 0 0 0 0 0 0 0 0 0 0 0 0 0 0 0 0 0 0 0 0 0 0 0 0 0 0 0 0 0 0 0 0 0 0 0 0 0 0 0 0 0 0 0 0 0 0 0 0 0 0 0 0 0 0 0 0 0 0 0 0 0 0 0 0 0 0 0 0 0 0 0 0 0 0 0 0 0 0 0 0 0 0 0 0 0 0 0 0 0 0 0 0 0 0 0\n"
          ],
          "name": "stdout"
        },
        {
          "output_type": "stream",
          "text": [
            "INFO:tensorflow:segment_ids: 0 0 0 0 0 0 0 0 0 0 0 0 0 0 0 0 0 0 0 0 0 0 0 0 0 0 0 0 0 0 0 0 0 0 0 0 0 0 0 0 0 0 0 0 0 0 0 0 0 0 0 0 0 0 0 0 0 0 0 0 0 0 0 0 0 0 0 0 0 0 0 0 0 0 0 0 0 0 0 0 0 0 0 0 0 0 0 0 0 0 0 0 0 0 0 0 0 0 0 0 0 0 0 0 0 0 0 0 0 0 0 0 0 0 0 0 0 0 0 0 0 0 0 0 0 0 0 0 0 0 0 0 0 0 0 0 0 0 0 0 0 0 0 0 0 0 0 0 0 0 0 0 0 0 0 0 0 0 0 0 0 0 0 0 0 0 0 0 0 0 0 0 0 0 0 0 0 0 0 0 0 0 0 0 0 0 0 0 0 0 0 0 0 0 0 0 0 0 0 0\n"
          ],
          "name": "stderr"
        },
        {
          "output_type": "stream",
          "text": [
            "INFO:tensorflow:label: 0 (id = 0)\n"
          ],
          "name": "stdout"
        },
        {
          "output_type": "stream",
          "text": [
            "INFO:tensorflow:label: 0 (id = 0)\n"
          ],
          "name": "stderr"
        },
        {
          "output_type": "stream",
          "text": [
            "INFO:tensorflow:Calling model_fn.\n"
          ],
          "name": "stdout"
        },
        {
          "output_type": "stream",
          "text": [
            "INFO:tensorflow:Calling model_fn.\n"
          ],
          "name": "stderr"
        },
        {
          "output_type": "stream",
          "text": [
            "INFO:tensorflow:Saver not created because there are no variables in the graph to restore\n"
          ],
          "name": "stdout"
        },
        {
          "output_type": "stream",
          "text": [
            "INFO:tensorflow:Saver not created because there are no variables in the graph to restore\n"
          ],
          "name": "stderr"
        },
        {
          "output_type": "stream",
          "text": [
            "INFO:tensorflow:Done calling model_fn.\n"
          ],
          "name": "stdout"
        },
        {
          "output_type": "stream",
          "text": [
            "INFO:tensorflow:Done calling model_fn.\n"
          ],
          "name": "stderr"
        },
        {
          "output_type": "stream",
          "text": [
            "INFO:tensorflow:Graph was finalized.\n"
          ],
          "name": "stdout"
        },
        {
          "output_type": "stream",
          "text": [
            "INFO:tensorflow:Graph was finalized.\n"
          ],
          "name": "stderr"
        },
        {
          "output_type": "stream",
          "text": [
            "INFO:tensorflow:Restoring parameters from /content/bert-multiclass-sentiment/model.ckpt-150\n"
          ],
          "name": "stdout"
        },
        {
          "output_type": "stream",
          "text": [
            "INFO:tensorflow:Restoring parameters from /content/bert-multiclass-sentiment/model.ckpt-150\n"
          ],
          "name": "stderr"
        },
        {
          "output_type": "stream",
          "text": [
            "INFO:tensorflow:Running local_init_op.\n"
          ],
          "name": "stdout"
        },
        {
          "output_type": "stream",
          "text": [
            "INFO:tensorflow:Running local_init_op.\n"
          ],
          "name": "stderr"
        },
        {
          "output_type": "stream",
          "text": [
            "INFO:tensorflow:Done running local_init_op.\n"
          ],
          "name": "stdout"
        },
        {
          "output_type": "stream",
          "text": [
            "INFO:tensorflow:Done running local_init_op.\n"
          ],
          "name": "stderr"
        }
      ]
    },
    {
      "cell_type": "code",
      "metadata": {
        "id": "CDMC7V3wDCXt",
        "colab": {
          "base_uri": "https://localhost:8080/"
        },
        "outputId": "9b0c04e2-e7e0-41e0-ea98-f19db3311db7"
      },
      "source": [
        "predictions"
      ],
      "execution_count": null,
      "outputs": [
        {
          "output_type": "execute_result",
          "data": {
            "text/plain": [
              "[(\"Flipkart not delivered thinks in even smoll town I orders thinks but they not takes my order. But flipkart provided good service in city's they gives good offers on iteam compare other online website. my suggestion if u live city's best buy electronic thinks in flipkart. they will gave service in village thats helps to poor people alsoFlag This ReviewIrrelevantFakeJunk   Thank You! We appreciate your effort.\",\n",
              "  array([-3.6314573, -1.1501199, -0.4201876], dtype=float32),\n",
              "  2,\n",
              "  'Positive'),\n",
              " ('Dear sirMy account not working please re-active  my account bearing mobile no 9856406258.ThankyouFlag This ReviewIrrelevantFakeJunk   Thank You! We appreciate your effort.',\n",
              "  array([-0.05989507, -2.9908078 , -4.842173  ], dtype=float32),\n",
              "  0,\n",
              "  'Negative'),\n",
              " ('POISON! When I opened the packet there was a strong paint smell.when I scratched the rice scales of black paint came from the rice.SHOCKING.please dont buy from this brand I brought more than 8 kgs from this brand. I am very much dissatisfied with flipkart on having such brands. When you deliver food product you should check the quality. Giving people poison in the name of food is an immoral and irresponsible act.As you can see in the pictures the paint layer comes off the rice surface when you scratch it. I have purchased many organic products from different sites and different brands and this is the first time I am encountering a fraud company.Flag This ReviewIrrelevantFakeJunk   Thank You! We appreciate your effort.',\n",
              "  array([-0.0432221, -3.351273 , -4.9251633], dtype=float32),\n",
              "  0,\n",
              "  'Negative'),\n",
              " (\"Mostly you are on luck when you order from Flipkart.If you are ordering small product like pendrive, you may get support if you have received defective product but if it is an appliance washing machine or AC.Your money is gone, the process is super complicated and you will quit half way that's what flipkart wants.order-OD122407090868429000Also their support team disconnects the call or leave the chat half way if they know its a big appliance.Always go for Amazon or any other website, Flipkart is not trustworthy when you need support.Flag This ReviewIrrelevantFakeJunk   Thank You! We appreciate your effort.\",\n",
              "  array([-0.04064387, -3.3405905 , -5.423208  ], dtype=float32),\n",
              "  0,\n",
              "  'Negative'),\n",
              " (\"Flipkart failed to deliver my order twice and they cancelled it on their side with an email saying that the courier service was unable to reach me on my phone or address. That is an absolute lie. They never contacted me regarding this order. Why do you wanna hide your failure by sending such emails to customer? Don't you even have the courtesy to reach out to the customer and let them know in case the order could not be delivered and don't you even try investigating with your partners and vendors. This is shame!Order ID: OD122408357663227000Incident: IN21073115473552780369Flag This ReviewIrrelevantFakeJunk   Thank You! We appreciate your effort.\",\n",
              "  array([-0.02169636, -4.002099  , -5.7491593 ], dtype=float32),\n",
              "  0,\n",
              "  'Negative'),\n",
              " (\"I am using a Flipkart In many years and recently only I know the Flipkart will provide the credit limit for KYC verified users and immediately I will activate the feature it's awesomeFlag This ReviewIrrelevantFakeJunk   Thank You! We appreciate your effort.\",\n",
              "  array([-2.8238978 , -0.73087984, -0.7783983 ], dtype=float32),\n",
              "  1,\n",
              "  'Neutral'),\n",
              " (\"Hi friends, I bought three sarees on Flipkart site.i received good quality and beautiful sarees but it's take some time to deliver but its okFlag This ReviewIrrelevantFakeJunk   Thank You! We appreciate your effort.\",\n",
              "  array([-2.6772535, -0.7001565, -0.8330056], dtype=float32),\n",
              "  1,\n",
              "  'Neutral'),\n",
              " ('Dont Buy any Gadget to get 10% 15% Discount on Flipkart They are selling refurbished products.I purchased Real me C20Order noâ\\x80\\x94OD222398123990002000No one ready to Resolve my problem just Playing on email/SMS/CalssHi All,Befor a week I have ordered Realme C20 phone from Flipkart in exchange offer worth 6999 and I have received on 27july. I opened the box and found the phone is Faulty with multiple problems.Below are mentioned issues:1.Display issue( Small white blinking spot)2.Hanging issue3.Speaker Issue ( Voice break while playing video)4.Restart automaticallyI called helpline explained everything about problem. Further they arranged technician visit which has been completed.Technician visited and PFB statement on above said issue.There is no spot on phone because its small and not visible in day time.The phone will definitely hang due to low quality processor.The Sound quality of speaker is low so that why you are facing sound issue.Phone reset He said phone is not Reset in front of me .He said Device is ok Issue Resolved. What the hell is this? In 5 to 10 minutes How could you say that the is OK? Then I talked to Technician manager and He said SOP is passed it means nothing wrong with the phone. If you still have problem then Talk to Flipkart. Technician went and I received message that Technician visit done and Return Request Has been Canceled.Again. I have submitted Return request and I received 2 calls from customer care. He/She both said once again We have scheduled technician visit for the resolution of this issue? What the hell is this. Do you think I am a fool or you are trying to make me fool.Listen I have paid full amount for new phone not faulty phone. So do the needful and provide me Brand new Handset as soon as possible. I am fed-up from all of you by calling and texting youIf you cannot give me Brand new replacement then GIVE MY HARD EARN MONEY BACK.DONT MAKE FUN OF ME.Today 4-8-2021 Again Technician visit has been done and My problem havenâ\\x80\\x99t resolved â\\x80\\x94â\\x80\\x94â\\x80\\x94â\\x80\\x94Flag This ReviewIrrelevantFakeJunk   Thank You! We appreciate your effort.',\n",
              "  array([-0.04271359, -3.3398128 , -5.0560546 ], dtype=float32),\n",
              "  0,\n",
              "  'Negative'),\n",
              " ('Well im very dissapointed with the  flipkarts services the thing is  i just bought the iphone 11 from flipkart which did not switch on at all i tried everything  charged it upto 3 hrs also tried different chargers but nothing so  logically i  requested for the refund but well of course got rejected, so my advice never buy electronics from flipkart .....Flag This ReviewIrrelevantFakeJunk   Thank You! We appreciate your effort.',\n",
              "  array([-0.03734493, -3.4308627 , -5.449797  ], dtype=float32),\n",
              "  0,\n",
              "  'Negative'),\n",
              " (\"I'm long time flipkart user&buyer but this is my 1st time experience I recive original seal broken and it try to cover loacal tape product box condition also poor. I think any one it purchase already from flipkart and there after product return also same product delivered to me. So it's mean it is 2nd hand product so why you people  are charged like a new products.Flag This ReviewIrrelevantFakeJunk   Thank You! We appreciate your effort.\",\n",
              "  array([-0.04297947, -3.2875078 , -5.3554783 ], dtype=float32),\n",
              "  0,\n",
              "  'Negative'),\n",
              " ('As many of the option I used on this platform. I never get disagree with their service they deliver our ordered on right time or before the time of expected delivery dates  sometimes. And I never faced  problems in returning the products with this platform . It is also one of the most popular platform for online shopping. I also used many times this platform for my many of the products. They sell the products also in valuable prices as expected . And this application runs softly to hang up I seen in it.Flag This ReviewIrrelevantFakeJunk   Thank You! We appreciate your effort.',\n",
              "  array([-3.079106 , -0.9564845, -0.5625431], dtype=float32),\n",
              "  2,\n",
              "  'Positive'),\n",
              " (\"I had booked a flight from New Delhi to Raleigh on 16th July 2021(PNR: 2HJR75). The flight was from Qatar airways and I booked the flight through Flipkart travel. The flight route was New Delhi -> Doha -> Boston -> Raleigh for 6th August 2021. On 18th July 2021, I received an email from Qatar airways that my flight from Boston to Raleigh has been canceled. I contacted Qatar airways and they told me that as the flight was booked through Flipkart, so according to airlines policy Flipkart is responsible for rescheduling the flight. Then I contacted Flipkart and requested a connecting flight from Boston to Raleigh.Customer service executive told me that as the flight is booked under the same PNR, they cant provide a connecting flight from Boston to Raleigh, but they will reschedule the entire flight and will book a new flight from New Delhi to Raleigh with Qatar airways for 6th August 2021 and there will be no charges for rescheduling. I agreed to this and asked them to send the ticket by email. I didn't receive any email on 18th July. The next day, one of the customer executives called me and told me that there is no flight available on 6th August 2021 and we can check flights for 7th and 8th august. Unwillingly, I agreed to this and asked them to send the options available. They sent one option for 8th August 2021 on 19th July 2021 and within 20 minutes I asked them to reschedule to this date. Two hours after my confirmation, I received another call from Flipkart that there are no seats available on that flight and they told me that we will revert with more options. After one hour they called again and told me that no flight is available on specified dates and they asked if I am ok with a flight on 9th August 2021. Reluctantly, I said yes and asked for an itinerary. I did not receive any mail from them after that.The next day morning they called me and told me that there are no flights available till 15th August 2021. After that I checked Flipkart's portal for flights from Delhi to Raleigh between 6th and 8th August 2021 operated by Qatar Airways, I could find 6 flights. When I asked the customer support executive to book one of these flights he started asking for rescheduling charges up to Rs.100000 as the flight prices have hiked in the last two days. Finally, when I asked for a refund they told me that there will be cancellation charges and they can't refund the entire amount. Flipkart is providing no support and is trying to loot money from their customers. If I try to book the same flight today, it will cost me around Rs.265000. They are harassing me for the past 13 days. It's been 13 days that this issue has been raised.Every time I call customer care they tell me that the backend team will contact me within the next 24-48 hours, but I haven't received any response for the past 8 days. I asked for talking with the supervisor and I was told that I will receive a call within the next 2 hours and that didn't happen as well. On asking customer care to send a mail specifying the deadline of the issue resolution, the customer care executive says that they don't have access to send the e-mail. I have been calling customer care 3-4 times a day for the past 13 days regarding this issue.Flag This ReviewIrrelevantFakeJunk   Thank You! We appreciate your effort.\",\n",
              "  array([-0.04030684, -3.4193957 , -4.9947987 ], dtype=float32),\n",
              "  0,\n",
              "  'Negative'),\n",
              " ('Flipkart Flipkart.comis one of the worst ecommerce I come across, This is Original Review reg Flipkart, I have ordered a bat and I had received a damaged product and Flipkart give me assurance that it will be replaced you will receive good product and better service next time. After 1 week it was replaced with another bat and that is also a damaged product and I spoke to customer care regarding the same after spoken with 15 executives team leader came you have to compromise with seller policy and a customer have to face the consequences there in seller policy. They will give much preference to seller not for the customer. And I have recored all the calls.Flag This ReviewIrrelevantFakeJunk   Thank You! We appreciate your effort.',\n",
              "  array([-0.03038202, -3.6563535 , -5.4971285 ], dtype=float32),\n",
              "  0,\n",
              "  'Negative'),\n",
              " ('I prefer flipkart to buy products.flipkart offers good services.the packing procedure of flipkart is most attractive.Flag This ReviewIrrelevantFakeJunk   Thank You! We appreciate your effort.',\n",
              "  array([-3.399098 , -0.7935821, -0.6648035], dtype=float32),\n",
              "  2,\n",
              "  'Positive'),\n",
              " ('This website is very good for shopping from India. I have ordered more than 100 products. Timely delivery and good customer service.Flag This ReviewIrrelevantFakeJunk   Thank You! We appreciate your effort.',\n",
              "  array([-3.9986305 , -1.3985435 , -0.30828914], dtype=float32),\n",
              "  2,\n",
              "  'Positive'),\n",
              " (\"I brought Monitor from Flipkart, but I received, worst, used and damaged product, requested for refund or exchange multiple time each day, but their customer service is worst and bound to seller, they don't even care about customer happiness, selling used and fraud products, don't buy from Flipkart, they said they are only marketing  the seller items, they are not responsible for the products customer receive, instead better buy from AmazonFlag This ReviewIrrelevantFakeJunk   Thank You! We appreciate your effort.\",\n",
              "  array([-0.03863041, -3.3838434 , -5.5272484 ], dtype=float32),\n",
              "  0,\n",
              "  'Negative'),\n",
              " ('They will cheat customers while doing a mobile exchange, they will show one price while purchasing and give an amount while exchanging-> return policy is too badFlag This ReviewIrrelevantFakeJunk   Thank You! We appreciate your effort.',\n",
              "  array([-0.03472292, -3.5296392 , -5.3367467 ], dtype=float32),\n",
              "  0,\n",
              "  'Negative'),\n",
              " ('I had purchased oppo Reno 5 pro 5g mobile on flipkart in jan 2021. It came with buyback offer of Rs 25, 200/- incase we exchange with some other mobile within 1 year. When I try  to exchange this phone with other brand phone it is not getting added on payment page during this ongoing sale. If I try to exchange with oppo Reno 6 pro it is getting selected . Terms and condition clearly state that new Phone should be of higher value, it does not mention any particular brand. It is a scam by Flipkart to sell products which benefit them orher than the customers.Flag This ReviewIrrelevantFakeJunk   Thank You! We appreciate your effort.',\n",
              "  array([-0.03036421, -3.6624787 , -5.4634037 ], dtype=float32),\n",
              "  0,\n",
              "  'Negative'),\n",
              " (\"My first ever service relation with Flipkart travel is a nightmare, booked a flight ticket for family on flipkart app on 02nd May for 04th May'21 journey, however, flight was canceled by Airindia. AirIndia website states the refund timeline is 21days max, however, flipkart would like to retain customers amount  freely for 120 days without a technical reason.I enquired with Airindia Hyderabad office and after 80 days also the refund process was not initiated by Flipkart, when Airlines are ready to refund in a weeks times why to retain customers amount for 120 days which is strictly not acceptable.Flag This ReviewIrrelevantFakeJunk   Thank You! We appreciate your effort.\",\n",
              "  array([-0.02997175, -3.6579716 , -5.5880513 ], dtype=float32),\n",
              "  0,\n",
              "  'Negative'),\n",
              " ('Its not good company, its very cheap. Not sending proper product and in replacement same product send again, I have complaint on Consumer court against FlipKart.Flag This ReviewIrrelevantFakeJunk   Thank You! We appreciate your effort.',\n",
              "  array([-0.03960872, -3.3979228 , -5.222848  ], dtype=float32),\n",
              "  0,\n",
              "  'Negative'),\n",
              " (\"Flipkart not delivered thinks in even smoll town I orders thinks but they not takes my order. But flipkart provided good service in city's they gives good offers on iteam compare other online website. my suggestion if u live city's best buy electronic thinks in flipkart. they will gave service in village thats helps to poor people alsoFlag This ReviewIrrelevantFakeJunk   Thank You! We appreciate your effort.\",\n",
              "  array([-3.7423067 , -1.0201502 , -0.48489815], dtype=float32),\n",
              "  2,\n",
              "  'Positive'),\n",
              " ('Dear sirMy account not working please re-active  my account bearing mobile no 9856406258.ThankyouFlag This ReviewIrrelevantFakeJunk   Thank You! We appreciate your effort.',\n",
              "  array([-0.04813028, -3.2187984 , -4.9636574 ], dtype=float32),\n",
              "  0,\n",
              "  'Negative'),\n",
              " ('POISON! When I opened the packet there was a strong paint smell.when I scratched the rice scales of black paint came from the rice.SHOCKING.please dont buy from this brand I brought more than 8 kgs from this brand. I am very much dissatisfied with flipkart on having such brands. When you deliver food product you should check the quality. Giving people poison in the name of food is an immoral and irresponsible act.As you can see in the pictures the paint layer comes off the rice surface when you scratch it. I have purchased many organic products from different sites and different brands and this is the first time I am encountering a fraud company.Flag This ReviewIrrelevantFakeJunk   Thank You! We appreciate your effort.',\n",
              "  array([-0.02951005, -3.714937  , -5.3555245 ], dtype=float32),\n",
              "  0,\n",
              "  'Negative'),\n",
              " (\"Mostly you are on luck when you order from Flipkart.If you are ordering small product like pendrive, you may get support if you have received defective product but if it is an appliance washing machine or AC.Your money is gone, the process is super complicated and you will quit half way that's what flipkart wants.order-OD122407090868429000Also their support team disconnects the call or leave the chat half way if they know its a big appliance.Always go for Amazon or any other website, Flipkart is not trustworthy when you need support.Flag This ReviewIrrelevantFakeJunk   Thank You! We appreciate your effort.\",\n",
              "  array([-0.03985194, -3.39856   , -5.176632  ], dtype=float32),\n",
              "  0,\n",
              "  'Negative'),\n",
              " (\"Flipkart failed to deliver my order twice and they cancelled it on their side with an email saying that the courier service was unable to reach me on my phone or address. That is an absolute lie. They never contacted me regarding this order. Why do you wanna hide your failure by sending such emails to customer? Don't you even have the courtesy to reach out to the customer and let them know in case the order could not be delivered and don't you even try investigating with your partners and vendors. This is shame!Order ID: OD122408357663227000Incident: IN21073115473552780369Flag This ReviewIrrelevantFakeJunk   Thank You! We appreciate your effort.\",\n",
              "  array([-0.03187477, -3.5902448 , -5.5778713 ], dtype=float32),\n",
              "  0,\n",
              "  'Negative'),\n",
              " (\"I am using a Flipkart In many years and recently only I know the Flipkart will provide the credit limit for KYC verified users and immediately I will activate the feature it's awesomeFlag This ReviewIrrelevantFakeJunk   Thank You! We appreciate your effort.\",\n",
              "  array([-2.842047  , -0.81843805, -0.69200045], dtype=float32),\n",
              "  2,\n",
              "  'Positive'),\n",
              " (\"Hi friends, I bought three sarees on Flipkart site.i received good quality and beautiful sarees but it's take some time to deliver but its okFlag This ReviewIrrelevantFakeJunk   Thank You! We appreciate your effort.\",\n",
              "  array([-2.3736649 , -0.8979283 , -0.69425094], dtype=float32),\n",
              "  2,\n",
              "  'Positive'),\n",
              " ('Dont Buy any Gadget to get 10% 15% Discount on Flipkart They are selling refurbished products.I purchased Real me C20Order noâ\\x80\\x94OD222398123990002000No one ready to Resolve my problem just Playing on email/SMS/CalssHi All,Befor a week I have ordered Realme C20 phone from Flipkart in exchange offer worth 6999 and I have received on 27july. I opened the box and found the phone is Faulty with multiple problems.Below are mentioned issues:1.Display issue( Small white blinking spot)2.Hanging issue3.Speaker Issue ( Voice break while playing video)4.Restart automaticallyI called helpline explained everything about problem. Further they arranged technician visit which has been completed.Technician visited and PFB statement on above said issue.There is no spot on phone because its small and not visible in day time.The phone will definitely hang due to low quality processor.The Sound quality of speaker is low so that why you are facing sound issue.Phone reset He said phone is not Reset in front of me .He said Device is ok Issue Resolved. What the hell is this? In 5 to 10 minutes How could you say that the is OK? Then I talked to Technician manager and He said SOP is passed it means nothing wrong with the phone. If you still have problem then Talk to Flipkart. Technician went and I received message that Technician visit done and Return Request Has been Canceled.Again. I have submitted Return request and I received 2 calls from customer care. He/She both said once again We have scheduled technician visit for the resolution of this issue? What the hell is this. Do you think I am a fool or you are trying to make me fool.Listen I have paid full amount for new phone not faulty phone. So do the needful and provide me Brand new Handset as soon as possible. I am fed-up from all of you by calling and texting youIf you cannot give me Brand new replacement then GIVE MY HARD EARN MONEY BACK.DONT MAKE FUN OF ME.Today 4-8-2021 Again Technician visit has been done and My problem havenâ\\x80\\x99t resolved â\\x80\\x94â\\x80\\x94â\\x80\\x94â\\x80\\x94Flag This ReviewIrrelevantFakeJunk   Thank You! We appreciate your effort.',\n",
              "  array([-0.03607848, -3.4964468 , -5.272559  ], dtype=float32),\n",
              "  0,\n",
              "  'Negative'),\n",
              " ('Well im very dissapointed with the  flipkarts services the thing is  i just bought the iphone 11 from flipkart which did not switch on at all i tried everything  charged it upto 3 hrs also tried different chargers but nothing so  logically i  requested for the refund but well of course got rejected, so my advice never buy electronics from flipkart .....Flag This ReviewIrrelevantFakeJunk   Thank You! We appreciate your effort.',\n",
              "  array([-0.02881338, -3.697711  , -5.6207204 ], dtype=float32),\n",
              "  0,\n",
              "  'Negative'),\n",
              " (\"I'm long time flipkart user&buyer but this is my 1st time experience I recive original seal broken and it try to cover loacal tape product box condition also poor. I think any one it purchase already from flipkart and there after product return also same product delivered to me. So it's mean it is 2nd hand product so why you people  are charged like a new products.Flag This ReviewIrrelevantFakeJunk   Thank You! We appreciate your effort.\",\n",
              "  array([-0.03539051, -3.5148962 , -5.294191  ], dtype=float32),\n",
              "  0,\n",
              "  'Negative'),\n",
              " ('As many of the option I used on this platform. I never get disagree with their service they deliver our ordered on right time or before the time of expected delivery dates  sometimes. And I never faced  problems in returning the products with this platform . It is also one of the most popular platform for online shopping. I also used many times this platform for my many of the products. They sell the products also in valuable prices as expected . And this application runs softly to hang up I seen in it.Flag This ReviewIrrelevantFakeJunk   Thank You! We appreciate your effort.',\n",
              "  array([-3.22177  , -0.8706808, -0.6135061], dtype=float32),\n",
              "  2,\n",
              "  'Positive'),\n",
              " (\"I had booked a flight from New Delhi to Raleigh on 16th July 2021(PNR: 2HJR75). The flight was from Qatar airways and I booked the flight through Flipkart travel. The flight route was New Delhi -> Doha -> Boston -> Raleigh for 6th August 2021. On 18th July 2021, I received an email from Qatar airways that my flight from Boston to Raleigh has been canceled. I contacted Qatar airways and they told me that as the flight was booked through Flipkart, so according to airlines policy Flipkart is responsible for rescheduling the flight. Then I contacted Flipkart and requested a connecting flight from Boston to Raleigh.Customer service executive told me that as the flight is booked under the same PNR, they cant provide a connecting flight from Boston to Raleigh, but they will reschedule the entire flight and will book a new flight from New Delhi to Raleigh with Qatar airways for 6th August 2021 and there will be no charges for rescheduling. I agreed to this and asked them to send the ticket by email. I didn't receive any email on 18th July. The next day, one of the customer executives called me and told me that there is no flight available on 6th August 2021 and we can check flights for 7th and 8th august. Unwillingly, I agreed to this and asked them to send the options available. They sent one option for 8th August 2021 on 19th July 2021 and within 20 minutes I asked them to reschedule to this date. Two hours after my confirmation, I received another call from Flipkart that there are no seats available on that flight and they told me that we will revert with more options. After one hour they called again and told me that no flight is available on specified dates and they asked if I am ok with a flight on 9th August 2021. Reluctantly, I said yes and asked for an itinerary. I did not receive any mail from them after that.The next day morning they called me and told me that there are no flights available till 15th August 2021. After that I checked Flipkart's portal for flights from Delhi to Raleigh between 6th and 8th August 2021 operated by Qatar Airways, I could find 6 flights. When I asked the customer support executive to book one of these flights he started asking for rescheduling charges up to Rs.100000 as the flight prices have hiked in the last two days. Finally, when I asked for a refund they told me that there will be cancellation charges and they can't refund the entire amount. Flipkart is providing no support and is trying to loot money from their customers. If I try to book the same flight today, it will cost me around Rs.265000. They are harassing me for the past 13 days. It's been 13 days that this issue has been raised.Every time I call customer care they tell me that the backend team will contact me within the next 24-48 hours, but I haven't received any response for the past 8 days. I asked for talking with the supervisor and I was told that I will receive a call within the next 2 hours and that didn't happen as well. On asking customer care to send a mail specifying the deadline of the issue resolution, the customer care executive says that they don't have access to send the e-mail. I have been calling customer care 3-4 times a day for the past 13 days regarding this issue.Flag This ReviewIrrelevantFakeJunk   Thank You! We appreciate your effort.\",\n",
              "  array([-0.02248286, -4.021391  , -5.448227  ], dtype=float32),\n",
              "  0,\n",
              "  'Negative'),\n",
              " ('Flipkart Flipkart.comis one of the worst ecommerce I come across, This is Original Review reg Flipkart, I have ordered a bat and I had received a damaged product and Flipkart give me assurance that it will be replaced you will receive good product and better service next time. After 1 week it was replaced with another bat and that is also a damaged product and I spoke to customer care regarding the same after spoken with 15 executives team leader came you have to compromise with seller policy and a customer have to face the consequences there in seller policy. They will give much preference to seller not for the customer. And I have recored all the calls.Flag This ReviewIrrelevantFakeJunk   Thank You! We appreciate your effort.',\n",
              "  array([-0.03077513, -3.6990082 , -5.192462  ], dtype=float32),\n",
              "  0,\n",
              "  'Negative'),\n",
              " ('I prefer flipkart to buy products.flipkart offers good services.the packing procedure of flipkart is most attractive.Flag This ReviewIrrelevantFakeJunk   Thank You! We appreciate your effort.',\n",
              "  array([-3.1879334 , -0.9849035 , -0.53568584], dtype=float32),\n",
              "  2,\n",
              "  'Positive'),\n",
              " ('This website is very good for shopping from India. I have ordered more than 100 products. Timely delivery and good customer service.Flag This ReviewIrrelevantFakeJunk   Thank You! We appreciate your effort.',\n",
              "  array([-3.9538631 , -1.3325232 , -0.33266723], dtype=float32),\n",
              "  2,\n",
              "  'Positive'),\n",
              " (\"I brought Monitor from Flipkart, but I received, worst, used and damaged product, requested for refund or exchange multiple time each day, but their customer service is worst and bound to seller, they don't even care about customer happiness, selling used and fraud products, don't buy from Flipkart, they said they are only marketing  the seller items, they are not responsible for the products customer receive, instead better buy from AmazonFlag This ReviewIrrelevantFakeJunk   Thank You! We appreciate your effort.\",\n",
              "  array([-0.04173787, -3.3622518 , -5.0797048 ], dtype=float32),\n",
              "  0,\n",
              "  'Negative'),\n",
              " ('They will cheat customers while doing a mobile exchange, they will show one price while purchasing and give an amount while exchanging-> return policy is too badFlag This ReviewIrrelevantFakeJunk   Thank You! We appreciate your effort.',\n",
              "  array([-0.04498762, -3.2515352 , -5.2446094 ], dtype=float32),\n",
              "  0,\n",
              "  'Negative'),\n",
              " ('I had purchased oppo Reno 5 pro 5g mobile on flipkart in jan 2021. It came with buyback offer of Rs 25, 200/- incase we exchange with some other mobile within 1 year. When I try  to exchange this phone with other brand phone it is not getting added on payment page during this ongoing sale. If I try to exchange with oppo Reno 6 pro it is getting selected . Terms and condition clearly state that new Phone should be of higher value, it does not mention any particular brand. It is a scam by Flipkart to sell products which benefit them orher than the customers.Flag This ReviewIrrelevantFakeJunk   Thank You! We appreciate your effort.',\n",
              "  array([-0.03220126, -3.617793  , -5.3294997 ], dtype=float32),\n",
              "  0,\n",
              "  'Negative'),\n",
              " (\"My first ever service relation with Flipkart travel is a nightmare, booked a flight ticket for family on flipkart app on 02nd May for 04th May'21 journey, however, flight was canceled by Airindia. AirIndia website states the refund timeline is 21days max, however, flipkart would like to retain customers amount  freely for 120 days without a technical reason.I enquired with Airindia Hyderabad office and after 80 days also the refund process was not initiated by Flipkart, when Airlines are ready to refund in a weeks times why to retain customers amount for 120 days which is strictly not acceptable.Flag This ReviewIrrelevantFakeJunk   Thank You! We appreciate your effort.\",\n",
              "  array([-0.03541169, -3.5046413 , -5.35289   ], dtype=float32),\n",
              "  0,\n",
              "  'Negative'),\n",
              " ('Its not good company, its very cheap. Not sending proper product and in replacement same product send again, I have complaint on Consumer court against FlipKart.Flag This ReviewIrrelevantFakeJunk   Thank You! We appreciate your effort.',\n",
              "  array([-0.02920039, -3.686424  , -5.5949078 ], dtype=float32),\n",
              "  0,\n",
              "  'Negative'),\n",
              " ('They are taking very much delay. They are not even to give contact details for the hub. Customer care also simply said will give you tomorrow. This continued for 1 week. Finally I cancelled the order. Very worst service from flipkart. They are losing our trustFlag This ReviewIrrelevantFakeJunk   Thank You! We appreciate your effort.',\n",
              "  array([-0.03913723, -3.4094055 , -5.2362175 ], dtype=float32),\n",
              "  0,\n",
              "  'Negative'),\n",
              " ('I am Not satisfied with your account manager service I recommencement to all of my Business friends for do not to take this service from Flipkart because Rs. 7080/- is 100% wastage if you take Paid Account Manager Service from FlipkartFlag This ReviewIrrelevantFakeJunk   Thank You! We appreciate your effort.',\n",
              "  array([-0.0379628, -3.4238389, -5.3678293], dtype=float32),\n",
              "  0,\n",
              "  'Negative'),\n",
              " (\"This product is very cheap and  the rate is so costlyFinally I'll not recommend to any oneIf u bye this product so u have to be careful and it maybe changes that u will not get the best products as u expectedFlag This ReviewIrrelevantFakeJunk   Thank You! We appreciate your effort.\",\n",
              "  array([-0.03163641, -3.6540358 , -5.248622  ], dtype=float32),\n",
              "  0,\n",
              "  'Negative'),\n",
              " ('It is a best site for purchasing products. I am using this site for 2years . Good services to provide and product items was also goodFlag This ReviewIrrelevantFakeJunk   Thank You! We appreciate your effort.',\n",
              "  array([-3.8057342 , -1.1382388 , -0.41950163], dtype=float32),\n",
              "  2,\n",
              "  'Positive'),\n",
              " ('It is best site for purchasing electronics item. It will provide lowest price of electronics item , it delivery process is very fast tgrough ekart . If you are in metropolitan city then it will deliver your product next day or day after tomorrow . I am sharing you my personal exprience. It also has plus member facility . If you are plus member it will give you more faster delivery and no cost on delivery. Sales start for plus member 1 day earlier. And during big billion day , it has lowest price of electronic appFlag This ReviewIrrelevantFakeJunk   Thank You! We appreciate your effort.',\n",
              "  array([-3.1362774, -0.8939768, -0.6023383], dtype=float32),\n",
              "  2,\n",
              "  'Positive'),\n",
              " ('We got a laptop from FlipKart, and the product given was faulty. The technician came and checked it and gave a faulty certificate and sealed the product. It has been more than 20 days and we have still not been given the money back. After calling FlipKart many times we have been given 10 more days to complete the process.This is ridiculous, and the process takes longer a time than expected.Flag This ReviewIrrelevantFakeJunk   Thank You! We appreciate your effort.',\n",
              "  array([-0.03358445, -3.5819175 , -5.2582455 ], dtype=float32),\n",
              "  0,\n",
              "  'Negative'),\n",
              " (\"Flipkart service is one of the bad packing service givingI have got damage product also very bad packing box it's look like 5 years back this packing box also broken items I got after information flipkart service company has not send me back my replacement they told by 17 you will gate product again they charge the date to 19 then finally they have cancelled my order now I spend rs 2999 money I'm very bad feeling about this flipkart service company I waited for my money returns backFlag This ReviewIrrelevantFakeJunk   Thank You! We appreciate your effort.\",\n",
              "  array([-0.04052871, -3.346993  , -5.397387  ], dtype=float32),\n",
              "  0,\n",
              "  'Negative'),\n",
              " ('I had ordered a bag from this site , in site it is shown that the quality is very good but when it delivered I saw its quality that it is very worst and bindings are very weak .Flag This ReviewIrrelevantFakeJunk   Thank You! We appreciate your effort.',\n",
              "  array([-0.03411537, -3.5400696 , -5.397323  ], dtype=float32),\n",
              "  0,\n",
              "  'Negative'),\n",
              " (\"Take my personal advice never order any electronic item from flipkart. If in case you doesn't like the product. They will not return the item. Costumer service is worse first they told we'll return your product then cancel mt return request. Don't ever buy anything from them.Flag This ReviewIrrelevantFakeJunk   Thank You! We appreciate your effort.\",\n",
              "  array([-0.03555424, -3.5147748 , -5.2639103 ], dtype=float32),\n",
              "  0,\n",
              "  'Negative'),\n",
              " (\"It's amazing and I love it ?? this onion shampoo is love I loved it for my hair would like to order again this amazing product thank u flipcartFlag This ReviewIrrelevantFakeJunk   Thank You! We appreciate your effort.\",\n",
              "  array([-3.7408588 , -1.2301952 , -0.37975237], dtype=float32),\n",
              "  2,\n",
              "  'Positive'),\n",
              " ('The prices displayed in the website is always very high in comparison to the MRP. Their delivery and return services are also very inconvinient. I had bought a treadmill and they did not take the return and harassed me for 6 months. I had also bought a pen drive and it was priced at 500rs when the MRP was 300rs. I had to return the product. They even send me some pirated copies of books. Please use other online shopping sites or do a detailed research on prices before ordering from this site.Flag This ReviewIrrelevantFakeJunk   Thank You! We appreciate your effort.',\n",
              "  array([-0.03312429, -3.6303551 , -5.1035967 ], dtype=float32),\n",
              "  0,\n",
              "  'Negative'),\n",
              " (\"I've done several purchase from this app. But it's so disappointing at this moment. I've purchased a celeing fan and recived a wrong product so I complained and ask them to replace it. The next delivery I got the same wrong product with new packing. They are doing the same mistake againand  again. So I decided to give back this product and refund my amount. Still now I don't receive any calls or response from there part. It's like a cheeting. And this is the worst experience for me from this app.  I think Amazon I'd better than this. ..Flag This ReviewIrrelevantFakeJunk   Thank You! We appreciate your effort.\",\n",
              "  array([-0.02775361, -3.7536683 , -5.5364523 ], dtype=float32),\n",
              "  0,\n",
              "  'Negative'),\n",
              " ('I purchased an oppo f17 pro on 5th July 2021 with order ID OD122234294585450000. The product was delivered on 6th July. After using two days, I realised my voice is not reaching to the other person on call. So I raised a complaint and asked for resolution. They arranged a technician visit who came and did nothing except saying your device is fine. I formatted the device as I was unable to make calls clearly and started using. It worked fine for 2 more days and third day when the issue started. When I complained, they arranged another visit by the same person and again he came and did nothing. He said your issue is random so ask Flipkart for replacement. Now Flipkart is asking me to visit service center and get a jobsheet. Which is not acceptable. I had raised the complaint within the 7 days policy and asking for a replacement. But they are not helping.Flag This ReviewIrrelevantFakeJunk   Thank You! We appreciate your effort.',\n",
              "  array([-0.0284677, -3.7449496, -5.4194713], dtype=float32),\n",
              "  0,\n",
              "  'Negative'),\n",
              " (\"I ordered the same product on July 11th and July 12th from the same seller and both times I got different sizes, I ordered the extra-large size and I got the bigger size. Order details mentioned below:Order Id: OD222280280617814000Order Id: OD222294836114738000Now I will share my experience which is based on the experience I got from your support team on chat and call.I've never seen a service like this from any company, worst experience#FlipkartFlag This ReviewIrrelevantFakeJunk   Thank You! We appreciate your effort.\",\n",
              "  array([-0.04351809, -3.3486848 , -4.898979  ], dtype=float32),\n",
              "  0,\n",
              "  'Negative'),\n",
              " (\"If you send a return request on flipkart, they accept it first and then after 2 days reject the return request.And if you talk to their customer executive then they will say that ma'am we check you and tell you, wait a few days and anyway you have applied for the request again.And if you talk to his customer executive, he will say that ma'am, we will check you and tell you, wait for a few days.After that he does not take any step, then on repeated calls, he says sorry ma'am, wait for a few days, you will get your return product.And when you threaten them on twitter and say that we can't put anyone else on your.When they threaten Twitter and say that we will not allow our friend to shop from flipkart, then they take any option and complain in their head quarter, after that the product is returned and refund is given.Flipkart takes at least 15 to 20 days to return and refund.That's why I find their return and refund policy very poor and useless as they do not do any work on time.I request the weaver that whenever you buy any ordinary item or thing by cutting the lip, then look carefully and buy only because if you want to get the return done in the return policy, then your lot of time will be wasted and it will not work on time. If you do and want to hesitate to take back the respect, then carefully buy any item from Flipkart.Flag This ReviewIrrelevantFakeJunk   Thank You! We appreciate your effort.\",\n",
              "  array([-0.04018524, -3.3507774 , -5.4418674 ], dtype=float32),\n",
              "  0,\n",
              "  'Negative'),\n",
              " ('Flipkart now a days is cheating on customers. They declare a product out of stock or cannot ship to the location, if they do not want that a customer buys the product, so that they can increase the price and sell it.This is pure black marketing. Please boycott flipkart and buy your stuffs from amazon. Amazon cares about their customers and that is why they are growing.I would rate flipkart as corrupt.Flag This ReviewIrrelevantFakeJunk   Thank You! We appreciate your effort.',\n",
              "  array([-0.03739166, -3.4764729 , -5.152478  ], dtype=float32),\n",
              "  0,\n",
              "  'Negative'),\n",
              " ('No care for customer time and delivery commitments . Unwanted delay in order delivery . Most importantly no channel to talk to a CCE to get an update on your orders. O made a mistake by choosing FLIPKART for my online purchase . Will not make this mistake agaimFlag This ReviewIrrelevantFakeJunk   Thank You! We appreciate your effort.',\n",
              "  array([-0.03638096, -3.4867256 , -5.2733803 ], dtype=float32),\n",
              "  0,\n",
              "  'Negative'),\n",
              " ('WORST Customer Service.Purchased one PocoM2 with One year complete mobile protection policy Number:CMFK030221001526 .now when my phone damaged in accident and trying to avail that insurance claim you guys are giving Poco Customer care number what a pathetic CS guys.call multiple times.still there is no positive response.no helpFlag This ReviewIrrelevantFakeJunk   Thank You! We appreciate your effort.',\n",
              "  array([-0.03514126, -3.5227675 , -5.2956586 ], dtype=float32),\n",
              "  0,\n",
              "  'Negative'),\n",
              " (\"I've been waiting for an installation of bed which I bought from Flipkart on June 24th.. still I am sleeping on floor.. no one still called for installation, ..infinite number of calls made to Flipkart..many times Flipkart drops the call..without installation return period is over..customer care is hell ...can't get connected.. even though connected inexperienced staff and don't expect a proper resolution..they are not even taking it back .now stuck with the product..Flag This ReviewIrrelevantFakeJunk   Thank You! We appreciate your effort.\",\n",
              "  array([-0.04531008, -3.256784  , -5.1521683 ], dtype=float32),\n",
              "  0,\n",
              "  'Negative'),\n",
              " (\"Worst delivery services and dubbed worst customer services they just acting like they trying to resolve the issue but practically they just play with customers pls don't pay in advance if do shopping pls choose COD option or don't choose FlipkartFlag This ReviewIrrelevantFakeJunk   Thank You! We appreciate your effort.\",\n",
              "  array([-0.03352232, -3.5373707 , -5.552692  ], dtype=float32),\n",
              "  0,\n",
              "  'Negative'),\n",
              " ('I have ordered Samsung F12 on Flipkart on 30 June 2021. It supposed to deliver by 2nd July. But still I have not received product. I have complaint on there grievance dept.  As well CEO Mr. Kalyan. But still no action taken. Customer care saying without 48 hrs will get back but today is 8 july but no proper revert from them. Very unprofessional behaviour.Flag This ReviewIrrelevantFakeJunk   Thank You! We appreciate your effort.',\n",
              "  array([-0.03322508, -3.5680635 , -5.4106417 ], dtype=float32),\n",
              "  0,\n",
              "  'Negative'),\n",
              " (\"Flipkart is not taking care of it's logistics. it promises a certain date of delivery and it always delivers much beyond that date. I ordered the phone from flipkart which was suppose to reach to me on 6th july 2021. I decided to buy that phone from flipkart completely on the assurance of that date. But they did not deliver it even on 7th of july and arbitrarily extended the date to 8th of july. Their tracking system does not provide accurate information and their mode of delivery is highly unreliable. Flipkart has become shameless over the years and even after so many consumer complaints and bad reviews it is not ready to improve its logistics. I am openly asking the consumer to stop buying from flipkart and move to amazon as they atleast deliver on the promised date. Shame on you flipkart as you are not even trying to improve the services. Pathetic you are.Flag This ReviewIrrelevantFakeJunk   Thank You! We appreciate your effort.\",\n",
              "  array([-0.02689048, -3.8019397 , -5.471556  ], dtype=float32),\n",
              "  0,\n",
              "  'Negative'),\n",
              " (\"I remember using flipkart since it was just a books platform. Bought my first book written by Varun Aggarwal and some more by Robin Sharma. Then it acquired Letsbuy.com which was an Electronic store and also used to buy old mobiles in exchange of cash... Not it's a One shop for almost everything.. ! Love the new flipkart assured products and flipkart plus model. Much better than amazon also I have found flipkart cs to be much better than amazon cs. I Always prefer flipkart over amazon.Flag This ReviewIrrelevantFakeJunk   Thank You! We appreciate your effort.\",\n",
              "  array([-3.199124 , -0.9797739, -0.5381863], dtype=float32),\n",
              "  2,\n",
              "  'Positive'),\n",
              " ('The best online shopping store it provides quality plus quantity in any products categories or electronic items it provides good products. One thing of this platform that I like very much that it gives return policy when the products is default or another product is dispatched to the customer this policy is awesome for any customer whoever shopped any product through this platform. It provides various items in any categories for customers comfort, according to quality and according to finance.Flag This ReviewIrrelevantFakeJunk   Thank You! We appreciate your effort.',\n",
              "  array([-3.9542637 , -1.3026046 , -0.34389365], dtype=float32),\n",
              "  2,\n",
              "  'Positive'),\n",
              " ('Hi,I got delivered Mobile phone worth 6500 in place of iphone 11 worth 45000. After they kept me waiting for 2 months they are now denying return. Please tell me how to file consumer complaint.Flag This ReviewIrrelevantFakeJunk   Thank You! We appreciate your effort.',\n",
              "  array([-0.03697932, -3.500326  , -5.096782  ], dtype=float32),\n",
              "  0,\n",
              "  'Negative'),\n",
              " ('I have odered birthday set of rupees 599 and they delivered me wrong product which cost of 150 rupees on the birthday date only, so we purchased new set nearby home.nd when asked for refund they are saying they wil replace it which is of no use now, coz there are no bdays now.it totally there mistake to send wrong product and made us tension at last moment and in hurry burry we had to buy from outside. Flipkart has to take care of all these, but flipkart custmercare is also worst, a girl kritika she is unfit in for support, nd gave improper resolution. Worst experience from wisdom decors, never buy here.its a fraud companyFlag This ReviewIrrelevantFakeJunk   Thank You! We appreciate your effort.',\n",
              "  array([-0.02508584, -3.8446388 , -5.689978  ], dtype=float32),\n",
              "  0,\n",
              "  'Negative'),\n",
              " (\"Had to change my mobile number as the number that is registered was lost. But they don't give you the option of changing number. Worst online shopping app as most of the products are not deliverable. And I am sure there is an AI setup where it automatically throws the message not deliverable when you don't buy products.Flag This ReviewIrrelevantFakeJunk   Thank You! We appreciate your effort.\",\n",
              "  array([-0.03036988, -3.658581  , -5.4860153 ], dtype=float32),\n",
              "  0,\n",
              "  'Negative'),\n",
              " (\"I had ordered the product from flipkart but when I received the product it was another one.I request them to make a call to discuss the issue but nobody called.Iam not happy with flipkart and I won't purchase anything in my futureFlag This ReviewIrrelevantFakeJunk   Thank You! We appreciate your effort.\",\n",
              "  array([-0.03638199, -3.436637  , -5.639273  ], dtype=float32),\n",
              "  0,\n",
              "  'Negative'),\n",
              " (\"I was trying to order new products, Suddenly my account got blocked. I called customer care they wait wait 3 months over now. I have received mail saying due to more number of return your account has been blocked. Till now I have ordered oly 3 products and have not made any return request. The developers doesn't know to fix the issue and the customer doesn't understand our concerns. Worst brand worst service.. SHAME ON YOU FLIPCART AND TO FOUNDER WHOEVER YOU ARE. IF YOU DON'T KNOW THE SOLUTION BETTER YOU SHUT DOWN YOUR SERVICE.Flag This ReviewIrrelevantFakeJunk   Thank You! We appreciate your effort.\",\n",
              "  array([-0.03212704, -3.59456   , -5.48617   ], dtype=float32),\n",
              "  0,\n",
              "  'Negative'),\n",
              " (\"Flipkart services is worst , I ordered 3 products bt all products are different than ordered products n delivery also not comes in time already I never like online shopping n my experience with Flipkart is so bad I suggest all people don't order any products from flipkartFlag This ReviewIrrelevantFakeJunk   Thank You! We appreciate your effort.\",\n",
              "  array([-0.0427024, -3.3040936, -5.2842364], dtype=float32),\n",
              "  0,\n",
              "  'Negative'),\n",
              " (\"I'ma regular customer of flipkart from few years. Primerly I was not interested with online shopping. I think it may poor quality. But after my 1st purchase I became a regular customer of flipkart, because of genuine product andgood delivery. I buy some electronic gadgets, books, food item, etc. Great products.Flag This ReviewIrrelevantFakeJunk   Thank You! We appreciate your effort.\",\n",
              "  array([-2.9081066 , -0.81402034, -0.6884625 ], dtype=float32),\n",
              "  2,\n",
              "  'Positive'),\n",
              " ('Flipkart shopping goes with luck. If you are lucky and the product is not defective, everything is fine. If you receive a defect product, then the return is impossible, We ordered a mobile phone for 15K. Big mistake. The product is defective and the technician who takes the return \"thinks\" that it is not and rejects it. When you call the customer care, they are rude as hell. They disconnect the call in the middle saying some gibberish. Just because they delivered a defective product, why should a customer handle all this unwanted drama? If Flipkart keeps on doing this, that is exactly how they lose their business.Flag This ReviewIrrelevantFakeJunk   Thank You! We appreciate your effort.',\n",
              "  array([-0.03201771, -3.6241617 , -5.33103   ], dtype=float32),\n",
              "  0,\n",
              "  'Negative'),\n",
              " (\"Dear Team,Order ID - OD121940893103576000I would like to share my bad experience with flipkart. I have ordered one product and it was not received at my  end but when I have contacted customer support, they declined to acknowledged my complain about the same and continuously forced me to agreed on false delivery. Also claimed they have my signature at the time on delivery but on my ask they were unable to share the signed receipt.Ordered product was amount of 400 rs only and I am not looking for any return for the same. But the concern of sharing this experience just to say they don't have any empathy for their customer.They are neither solving customer reported issues nor acknowledging the same. I have to say they are going to loose me as customer and soon more customer as same like me.Thanks and Regards,Jayant VermaOrder no- OD121940893103576000Flag This ReviewIrrelevantFakeJunk   Thank You! We appreciate your effort.\",\n",
              "  array([-0.03963473, -3.4012914 , -5.1976757 ], dtype=float32),\n",
              "  0,\n",
              "  'Negative'),\n",
              " (\"I'm using flipkart from previous 5 years. It never disappointed me in that way. Sometimes minimal problems occurred but customer service helped everytime and solved my issues.Flipkart website and application works very fine. Had faced some troubles at begining but it works very fine now.Customer service is excellent. Provides 24x7 days services. Easily solves problem within some time or days. Bank transfers will also completes within 5-7 days.Product delivery time and packaging is so good. Got genuine products each time. I had never faced experience of any broken or damaged products. Delivery time depends on availability of products. Sometime it takes 10 days, sometimes it takes only 24 hours. In average you will get with within 3 days.They also provides some coins as a shopping gift which can be used in your shopping or in gift cards.Vast availability of products attracts me everytime I use it. In a year I almost spent around 50k from flipkart.Thank you for reading my post. Hope it will help you to become a permanent customer of flipkart.Flag This ReviewIrrelevantFakeJunk   Thank You! We appreciate your effort.\",\n",
              "  array([-3.5615647 , -1.1745143 , -0.41152844], dtype=float32),\n",
              "  2,\n",
              "  'Positive'),\n",
              " (\"I bought poco m3 pro 5g mobile from flipkart. I didn't like the camera quality. I tried to return. They refused. They said their technician will visit. The technician came . He did nothing but forwarded that he has corrected my problem. Why should I buy such worse phone.Flag This ReviewIrrelevantFakeJunk   Thank You! We appreciate your effort.\",\n",
              "  array([-0.05044156, -3.1432593 , -5.1079307 ], dtype=float32),\n",
              "  0,\n",
              "  'Negative'),\n",
              " ('Placed an order on Flipkart. The website says they have delivered but I had not recieved it. I am unable to talk to customer care too.No support from the team after placing the order.Flag This ReviewIrrelevantFakeJunk   Thank You! We appreciate your effort.',\n",
              "  array([-0.02880284, -3.689806  , -5.679556  ], dtype=float32),\n",
              "  0,\n",
              "  'Negative'),\n",
              " ('I ordered pigeon hand chopper from Flirtkart as there is discount going on.  when I read the feature like easy to dismantle and clean. safe lid lock, sadness steel blades etc. I was very excited to buy. so I ordered big one. but my goodness when I received order I found there a lot of noise when I started to  blend. what I expected  to be infortunely  it is not up to the mark. the blender running on rubber which is not much durable. I recommend not buy this product.Flag This ReviewIrrelevantFakeJunk   Thank You! We appreciate your effort.',\n",
              "  array([-0.04347974, -3.3400187 , -4.946003  ], dtype=float32),\n",
              "  0,\n",
              "  'Negative'),\n",
              " (\"Hi, friends Today I am going to give my honest review on Flipkart E-commerce. My first order on Flipkart was Billion Powerbank 15000 mAh which is not so good but average performance given around 3 years gone when I had bought it. My second order was Philips Trimmer QT4011/15 running smoothly after 2 years and 6 months. My third order was Lois Caron watch which is also going great after 2 years. My fourth order was Sony ZX110A wired without mic Headphone which is also going very good after 10 months. My fifth order was Mi Rechargeable Led Lamp which is also going good after 20 days. So, these are the products I had bought from Flipkart 4 out of 5 are going great, the Powerbank one is little bit hit and miss I should have gone for some other. Delivery is also great on Flipkart in orders it indicates around 6 days order to come but, it comes within 4 days and Delivery Staffs are good. So, I recommend you to buy product from here but first do research on product then buy, don't buy blindly from someone's recommendation.Thank you. Do like, comment and share if you found my review useful.Flag This ReviewIrrelevantFakeJunk   Thank You! We appreciate your effort.\",\n",
              "  array([-2.971264  , -0.8660394 , -0.63837993], dtype=float32),\n",
              "  2,\n",
              "  'Positive'),\n",
              " ('I ordered a product which was supposed to be delivered today @25/06/2021, when couldnâ\\x80\\x99t deliver canceled without any reasonable explanation and when tried contacting CS they always put me on hold and disconnect the call. My suggestion is to the CS team of FLIPKART â\\x80\\x9c donot take orders when u cannot deliverâ\\x80\\x9d',\n",
              "  array([-0.0407233, -3.3596191, -5.267449 ], dtype=float32),\n",
              "  0,\n",
              "  'Negative'),\n",
              " ('Very bad experience, And ordered product what I not ordered and I have no any way to return because not ordered in my account. they looted my 899  rupees. product order no is 570697159_1. And when I call to delivery boy(+91804577xxxx) he does not pick up my phone.Flag This ReviewIrrelevantFakeJunk   Thank You! We appreciate your effort.',\n",
              "  array([-0.03459015, -3.4999423 , -5.5728674 ], dtype=float32),\n",
              "  0,\n",
              "  'Negative'),\n",
              " ('Flip cart company is worst company its complete fraud and cheating iam buying 3 products in cart and using a EMI option product one addidas shoews imitations and orient stand fan is defected piece recieved no solve the issue and customer support also bad experience totally bad bad badFlag This ReviewIrrelevantFakeJunk   Thank You! We appreciate your effort.',\n",
              "  array([-0.03300631, -3.595176  , -5.2959743 ], dtype=float32),\n",
              "  0,\n",
              "  'Negative'),\n",
              " ('Order ID - OD122050838310350000I ordered 1 ton marq ac.. first of all they almost took 8 days for delivery and before i placed order they showed me next day delivery but after i place order they send me order after 8 days, after delivery i almost 50 times called them for installation but they always did fake promised and still my ac is not install,Worst company worst delivery worst staff... Please dont go with Flipkart..Flag This ReviewIrrelevantFakeJunk   Thank You! We appreciate your effort.',\n",
              "  array([-0.03755483, -3.4425228 , -5.3237505 ], dtype=float32),\n",
              "  0,\n",
              "  'Negative'),\n",
              " (\"Order # OD122008426161730000I have purchased a 5 litre Dravida Organics Hand Sanitizer from Flipkart recently. Upon receiving the product, I realized that the product is fake. It doesn't have the alcohol content as advertised. It just looks like a colored water. If it is sprayed anywhere, it remains for hours, doesn't get evaporated as typical sanitizer does.When I claimed for refund, customer service team just bypassed the fact by saying that the product has no return policy. Now selling a fake product & then not accepting the return is clearly a day light fraud & I don't like to endorse that. I want to return the product & want my money back.Flag This ReviewIrrelevantFakeJunk   Thank You! We appreciate your effort.\",\n",
              "  array([-0.03648533, -3.4542594 , -5.468622  ], dtype=float32),\n",
              "  0,\n",
              "  'Negative'),\n",
              " (\"Order No.: OD122038363000386000Ordered a few grocery items which included 2 packets of refined flour. One of the packets received was in damaged condition so it was returned immediately to courier.However, the return was not received to Flipkart facility and hence they have no updates regarding the return(wonder if it got stolen by courier). Complain was raised on 19th June since there were no updates regarding the return, they processed a return but the verification process is stuck in same place since then. I've contacted customer service multiple times since then and they ask me to wait for 24 hours every time. Today they says that they have to contact seller regarding this which will again take time and refund cannot be completed now. This shows that they were not even paying attention to the matter every time I had contacted them earlier.Had similar experience with return on Flipkart earlier with a defective mobile phone, had stopped shopping from them since then. No matter the varieties of items they have in stock, if you receive a defective/duplicate item then you can't even get replacement without going through a hassle.Even Snapdeal have better customer service to this day!Flag This ReviewIrrelevantFakeJunk   Thank You! We appreciate your effort.\",\n",
              "  array([-0.04022153, -3.3830585 , -5.206675  ], dtype=float32),\n",
              "  0,\n",
              "  'Negative'),\n",
              " ('Provides the best products.But one tims I received defective order but replaced in some few days.Goid customer support services also wide range of products avilable from daily needs like groceries and other items.Flag This ReviewIrrelevantFakeJunk   Thank You! We appreciate your effort.',\n",
              "  array([-3.0467272 , -1.008353  , -0.53159565], dtype=float32),\n",
              "  2,\n",
              "  'Positive'),\n",
              " ('Quite happy with their groceries service and there is no issue with any product.Flag This ReviewIrrelevantFakeJunk   Thank You! We appreciate your effort.',\n",
              "  array([-3.802351  , -1.2342333 , -0.37596855], dtype=float32),\n",
              "  2,\n",
              "  'Positive'),\n",
              " ('Its has all most all trusted indian brands . Flipkart was providing a safe way of cashon delivery facilty which worked really good at Lockdown times . most of the times they provide a fast delivery which should be appreciatedFlag This ReviewIrrelevantFakeJunk   Thank You! We appreciate your effort.',\n",
              "  array([-3.7033513 , -1.3596162 , -0.33045056], dtype=float32),\n",
              "  2,\n",
              "  'Positive'),\n",
              " (\"Hello 'guys I am share my personal review with   you, flip kart is very good site  to purchase anything  I love this site  I am highly recommend to use thisFlag This ReviewIrrelevantFakeJunk   Thank You! We appreciate your effort.\",\n",
              "  array([-3.5288754, -1.0171685, -0.4958636], dtype=float32),\n",
              "  2,\n",
              "  'Positive'),\n",
              " (\"Hello guys, I'm here to share my personal review with you. Flipkart is a very good site to purchase anything. I love this site very much. I'm highly recommend to you use this site.I like this site for the following reasons:Anything products are very satisfied.In here too many fashionable clothes, shoes & much more.It's delivery time too soon.It delivered their items in 2 or 3 days, products quality are very good.It's customer care service are very grateFlag This ReviewIrrelevantFakeJunk   Thank You! We appreciate your effort.\",\n",
              "  array([-3.1449099 , -1.1228983 , -0.45950902], dtype=float32),\n",
              "  2,\n",
              "  'Positive'),\n",
              " ('When we go shopping on Flipkart and pick up any category, when we pick up a list that we like, we do not go up to the list we took. Instead, it redirects to another list. It often seems like a big problem.Flag This ReviewIrrelevantFakeJunk   Thank You! We appreciate your effort.',\n",
              "  array([-0.04271576, -3.2882147 , -5.4046025 ], dtype=float32),\n",
              "  0,\n",
              "  'Negative'),\n",
              " (\"Above is my order I'd . While booking a items it showing your location is service bull but now delivery agent call me and tell your location is not service bull and there will told you need come another location then only I will able to deliver your products other wise I can't able to deliver your products there told like that.I am asking Flipkart:-While booking protect why it showing delivery bull .I am facing this issue 2 time.I booked many protects in Amazon and so many apps there will deliver me with out any issues.Very bad experience I face 2 time's.Please provide proper solution on this.Flag This ReviewIrrelevantFakeJunk   Thank You! We appreciate your effort.\",\n",
              "  array([-0.04142019, -3.3333707 , -5.3182306 ], dtype=float32),\n",
              "  0,\n",
              "  'Negative'),\n",
              " ('Flipkart is a good site to purchase a anything in anywhere . It is a indian site it is very good site who provide everything to their customer in given time period. Its delivery procedure us very fast , it delivered their item in 2 or 3 days it give report where product send where product dispatch , I orderd lot of Mobile on this sites their is a all good quality , its customer care service is very great , it respond to every single complaint in very short period , this is my advise to everyone shop at it and get the most out of itFlag This ReviewIrrelevantFakeJunk   Thank You! We appreciate your effort.',\n",
              "  array([-3.7880876 , -1.2703062 , -0.36152163], dtype=float32),\n",
              "  2,\n",
              "  'Positive'),\n",
              " ('As we know flipkart is the good site for fashion. All type of clothes with good quality. But the delivery time is less and some product come with bad qualityFlag This ReviewIrrelevantFakeJunk   Thank You! We appreciate your effort.',\n",
              "  array([-2.8797762 , -0.77846044, -0.7241418 ], dtype=float32),\n",
              "  2,\n",
              "  'Positive'),\n",
              " ('Purchased office chair through flipkart, it is delivered ahead of schedule but there were challenges related to arrange technician to assemble it. Reached out to customer care for the early resolution of issue, Finally technician is arranged issue is resolved. Flipkart need tobe customer oriented and should not only focused on products selling but also customer satisfaction. Have to adhere to timelines.Flag This ReviewIrrelevantFakeJunk   Thank You! We appreciate your effort.',\n",
              "  array([-3.5680726 , -1.072869  , -0.46241024], dtype=float32),\n",
              "  2,\n",
              "  'Positive'),\n",
              " ('Please don\\'t ever book flight tickets through Flipkart. I booked my ticket from Singapore to chennai for 15th May and cancelled it due to pandemic. I confirmed with Air India and they confirmed the flight tickets have been cancelled much before the travel day. But Flipkart as of today (10/06/2021) still mainting in their travel portal the tickets \"are pending cancellation\". It is ridiculius. They are cheating the public and making money. We have to complain to the cobsuner court such irresponsible operators. Never buy tickets from themFlag This ReviewIrrelevantFakeJunk   Thank You! We appreciate your effort.',\n",
              "  array([-0.02483889, -3.871716  , -5.5966535 ], dtype=float32),\n",
              "  0,\n",
              "  'Negative'),\n",
              " (\"I have seen people's opinion, more people are saying that filpkart is scam, everyone has their thinking and experience, but I have been associated with filpkart for almost 2 years, in my opinion, filpkart is the best, no online shopping service can give you 100% .  There is always a shortage in someone, how can call him bad ?Flag This ReviewIrrelevantFakeJunk   Thank You! We appreciate your effort.\",\n",
              "  array([-3.1437063 , -0.9209785 , -0.58205664], dtype=float32),\n",
              "  2,\n",
              "  'Positive'),\n",
              " (\"I had booked a flight via Flipkart Travel from YYZ-BOM-YYZ(Toronto-Mumbai-Toronto) on 01/10/2020, for the scheduled travel on 23/12/2020.  Due to the breaking out of the second wave of COVID-19 in the United Kingdom, all flights were barred by many countries including India. Hence, British Airways cancelled the flight and informed me on 22/12/2020. Immediately said mail was sent to Flipkart for proceeding with the cancellation and initiation of refund. Even after rigorous follow-ups with them, Flipkart Travel always used to give assurance regarding the refund but till date, they have not refunded our money.Whenever I approached them, they used to insist to contact the airline and get the confirmation mail regarding flight cancellation. I have shared the same multiple times since 22/10/2020. However, they have not acted upon the cancellation. As per Flipkart's request, we even contacted British Airways also, but they mentioned that the flight has been booked with the travel agent(Flipkart), therefore I need to contact Flipkart only for resolution. Now, after more than 5 months on 09/06/2021, when I asked about the status, one of the Flipkart representatives mentioned that you are no show on the flight and hence only Airport taxes can be refunded which is a shock for me.When the British Airways flights were not operating from Toronto to India on 23/12/2020 and the airline also confirmed via mail, there was no relevance in mentioning no show on the flight. And this was been communicated to Flipkart and was rigorously followed up. However, as per my opinion, Flipkart has not timely acted from their end, and in turn, I'm the sufferer.This issue has disturbed me financially and mentally for the last 6 months.Flag This ReviewIrrelevantFakeJunk   Thank You! We appreciate your effort.\",\n",
              "  array([-0.02718183, -3.7809925 , -5.5175447 ], dtype=float32),\n",
              "  0,\n",
              "  'Negative'),\n",
              " ('What I experienced after using Flipkart and Amazon that Amazon is not just big by its name but Customer Service is also make them Big. I am not promoting Amazon here but definitely Flipkart\\'s sellers are not genuine like Amazon and company also cares about their customers, where Flipkart can only say sorry to you after fake product deliveries.I request you guys please see image attached to this review once.So that you will be aware about the frauds can be done by Flipkart to their users.My recent experience about Fraud Deliveries done by Flipkart.I ordered Redtape shoes with order ID OD12188232501395800, which is Redtape\\'s sports shoes in Black color. But Flipkart delivered formal shoes to me, see attached pic order 1 to check what I got. I requested for replacement but the seller was out of stock for the same product so Flipkart cancelled the replacement and refund the amount. Till here nothing was too serious about this issue. I raised this request to Flipkart and their executive call me, she assured me that if I place the order again when the product is available then we will make sure that you will get the same product this time, I just need to inform Flipkart once that I have placed the order for the same product once again.With the order ID OD121982078287069000 I again placed an order for the same product and informed that same executive and she told me that She passed the information to the seller and I am gonna get the right product this time. But Flipkart or I don\\'t know people who deliver the product who makes this fraud, that I got wrong shoes again. Same Brand Box, Same Brand Tags but different color, different style. See image \"Order 2\" to check what I got on the second order.Flag This ReviewIrrelevantFakeJunk   Thank You! We appreciate your effort.',\n",
              "  array([-0.02626248, -3.8291032 , -5.474669  ], dtype=float32),\n",
              "  0,\n",
              "  'Negative'),\n",
              " (\"Flipkart claims itself to be a brand partner of Apple. But this is a big lie.I bought an Apple airpods from Flipkart and found a weird sound coming from airpod case while opening and closing.This started after 4 days of delivery only. So I called flipkart support and asked for replacement as the product came with 7days replace/return policy.But they said reach to apple we are brand partners with them, they will take care of the issue in product.I reached apple they said first we are not partner with them. Second they said they will charge to fix this.After that I have exhausted all my patience while getting my issue resolved with flipkart and after a month I gave up. They are doing nothing, they are just changing their statement in each call. Every guy comes with its own copy of policy.I will advise don't buy expensive product from online platform as they are just a platform between seller and buyer (Flipkart mentioned this to me, i am not making this up), in most cases they can not do anything if somthing goes wrong and will start redirecting you to service center.At least when you buy from physical store they take some accountability.Flag This ReviewIrrelevantFakeJunk   Thank You! We appreciate your effort.\",\n",
              "  array([-0.03223693, -3.6208515 , -5.3057485 ], dtype=float32),\n",
              "  0,\n",
              "  'Negative'),\n",
              " ('One of the best app for shopping. While shopping from this app we are so much beneficiaries like discount and budget friendly products. They providing the fine product.  It is one of the best trading app in India.Flag This ReviewIrrelevantFakeJunk   Thank You! We appreciate your effort.',\n",
              "  array([-3.7663128 , -1.2617066 , -0.36572665], dtype=float32),\n",
              "  2,\n",
              "  'Positive'),\n",
              " ('Bought a double door refrigerator that was marked by Flipkart with country of origin as India. Flipkart shipped a Made in China product and refused to take it back!Flipkart also closed grievance on this summarily without action. Committing a fraud on India consumers. Avoid Flipkart for ALL products, buy from Amazon instead which does not mis-label products or cheat consumers.Flag This ReviewIrrelevantFakeJunk   Thank You! We appreciate your effort.',\n",
              "  array([-0.02635432, -3.7978811 , -5.6290917 ], dtype=float32),\n",
              "  0,\n",
              "  'Negative'),\n",
              " ('Hi, I just bought Bikano Panjeeri laddoo 500 gm(pack of 2) Box(2 x 500 g) via Flipkart from this seller named EPICUREAN. But the seller sent me only one box(500 gms) instead of two boxes(2x500gms). I contacted customer support, but they refused to refund me and sided with fraud seller stating that the product has no return policy.seriously!Flag This ReviewIrrelevantFakeJunk   Thank You! We appreciate your effort.',\n",
              "  array([-0.04893668, -3.150304  , -5.314556  ], dtype=float32),\n",
              "  0,\n",
              "  'Negative'),\n",
              " ('Flipkart is a fantastic e-commerce site where you can get a wide range of everyday items at reasonable prices, as well as ongoing discounts. On their goods, there are new fresh deals. In addition, the shipping service is prompt. Clothing, electrical gadgets, and home supplies are just a few of the things available. For the greatest pricing and rapid delivery, I always go with Flipkart.Flag This ReviewIrrelevantFakeJunk   Thank You! We appreciate your effort.',\n",
              "  array([-3.7925696 , -1.0553777 , -0.46298605], dtype=float32),\n",
              "  2,\n",
              "  'Positive'),\n",
              " ('When I received my order there is no mobile charger & data cable found in box box packing was good condition, but mobile not received when I spoke flipkart representative they give 700 rupees in my flipkart wallet but when I serch online there is price saw 1490 rupees so explain me how I manage & last four days I am suffering without mobile charge my son study online so please give me resolution as early as possibleFlag This ReviewIrrelevantFakeJunk   Thank You! We appreciate your effort.',\n",
              "  array([-0.0472766, -3.2153125, -5.110386 ], dtype=float32),\n",
              "  0,\n",
              "  'Negative'),\n",
              " (\"Most of the time specially in fashion & clothing category, we have seen unpredictable customer service. Firstly their customer support is really poor, they don't used to give prompt resolution and mostly say they will resolve the issue in 7 days which is really pathetic. Secondly, their terms condition used to vary according to seller for same kind of product or category. Flipkart even used to cancel order of even Flipkar Assured orders without even proper notification. Delivery date extensions are their regular behaviour. For making bigger brands happy flipkart even don't entertain exchange or product even though product has variation in terms of sizes. We used to purchase from different portals and flipkart as well but buying experience from flipkart platform is really worst among all leading online players.Flag This ReviewIrrelevantFakeJunk   Thank You! We appreciate your effort.\",\n",
              "  array([-0.02769564, -3.7455988 , -5.6010103 ], dtype=float32),\n",
              "  0,\n",
              "  'Negative'),\n",
              " ('Purchased HP 802 combo printer cartridges from Flipkart but upon installation both the cartridges were found damaged as intimated by the printer software. When lodged a complaint, Flipkart flatly refused to return money or replace the cartridge as it has no return policy. Rs 1750 goes down the drain just like that!!!It means Flipkart continues to sell damaged cartridges and will not refund money or replace the cartridge. What a wonderful business model.STAY AWAY FROM FLIPKART!!Flag This ReviewIrrelevantFakeJunk   Thank You! We appreciate your effort.',\n",
              "  array([-0.0433745, -3.2919044, -5.2467914], dtype=float32),\n",
              "  0,\n",
              "  'Negative'),\n",
              " ('It is a good online shopping app. I ordered a pack of masks a few days ago which was a pack of 10 pieces but there was only 4 mask in this pack.I thought  my money was gone But when I call to the customer care they assured me that my money would be returned and I got my money back in a few days.????Flag This ReviewIrrelevantFakeJunk   Thank You! We appreciate your effort.',\n",
              "  array([-3.4717143 , -0.93183446, -0.55320144], dtype=float32),\n",
              "  2,\n",
              "  'Positive'),\n",
              " ('I dont trust on flipkart quality its only deliver fake or cheap productcoustomer services is also very lowFlag This ReviewIrrelevantFakeJunk   Thank You! We appreciate your effort.',\n",
              "  array([-0.05405482, -3.1160355 , -4.793027  ], dtype=float32),\n",
              "  0,\n",
              "  'Negative'),\n",
              " (\"Yess.ut has every thing.you name it and they have it and even its affordable some time the price might ho higher but otherwise the app is nice the website is nice if you haven't tried it yet please go and atleast check clothing and anything you wantFlag This ReviewIrrelevantFakeJunk   Thank You! We appreciate your effort.\",\n",
              "  array([-2.717325  , -0.62776047, -0.91588354], dtype=float32),\n",
              "  1,\n",
              "  'Neutral'),\n",
              " ('I have purchased many products from flipkart like-apparel, grocery, accessories, make-up product etc. and by these all purchases, I was very impressed with flipkart.packaging of the product is always nice.I am very happy with flipkart services.Thankyou flipkart.flipkart is always tries to give better customer service to their buyers.Flag This ReviewIrrelevantFakeJunk   Thank You! We appreciate your effort.',\n",
              "  array([-4.020897  , -1.3788285 , -0.31445095], dtype=float32),\n",
              "  2,\n",
              "  'Positive'),\n",
              " ('Flipkart is my favourite shopping app.Best feature and simple website.Almost all products are available in this site.we can also buy flipkart assured products if we need more good products.Flag This ReviewIrrelevantFakeJunk   Thank You! We appreciate your effort.',\n",
              "  array([-3.6444325 , -1.1143985 , -0.43734112], dtype=float32),\n",
              "  2,\n",
              "  'Positive'),\n",
              " ('This is online shopping site in india .where u can get  variety of things like household thing to personal items.I love it .u can also sÃ\\x83Â¨e review of customer.Flag This ReviewIrrelevantFakeJunk   Thank You! We appreciate your effort.',\n",
              "  array([-3.2979782 , -0.89185685, -0.5921292 ], dtype=float32),\n",
              "  2,\n",
              "  'Positive'),\n",
              " (\"I have ordered an item and which was very urgent for me. even after paying their system was showing that the payment has not been updated.The courier service didn't delivery the item just by blaming flipkart system.flipkart representative are hopeless.They are just lodging formal complain and no action have been taken.Just passing the ball.they were saying that once the system gets updated it will be delivered.But even after very late system update they did not deliver the item for more than 72 hours whereas the logistic hub was just 30 km away from my location.many of my friends are also suffering by flipkart services.Highly not recommend.They are cheating in mostly cases now a days.Flag This ReviewIrrelevantFakeJunk   Thank You! We appreciate your effort.\",\n",
              "  array([-0.03421179, -3.5621355 , -5.2485523 ], dtype=float32),\n",
              "  0,\n",
              "  'Negative'),\n",
              " ('Worst online purchase site. They are faking people. There is no proper return procedure, delivery persons are irresponsible and unmannered. If there is any problem in items delivered customer care donot respond. They tell that there is no policy of lodging a complain. If you raise a request, then alos you will get anwer that there is no such procedure.Purchasing an item from flipkart means taking a risk and pudding your hard earned money into vain. Please avoid the site. They are cheating .Flag This ReviewIrrelevantFakeJunk   Thank You! We appreciate your effort.',\n",
              "  array([-0.04056592, -3.354157  , -5.3359504 ], dtype=float32),\n",
              "  0,\n",
              "  'Negative'),\n",
              " ('I purchased a laptop on the 14th of may 2021the company has not shipped the laptop as of 22nd of may 2021 which was the time of deliveryno dleivery has been made and no calls have been made by the company to meI have all sorts of evidence with methe company is harassing meI am uploading an image file with the proof of my caseFlag This ReviewIrrelevantFakeJunk   Thank You! We appreciate your effort.',\n",
              "  array([-0.03431132, -3.534183  , -5.3933315 ], dtype=float32),\n",
              "  0,\n",
              "  'Negative'),\n",
              " ('I order a whirpool ( Magicool ) ac on the flipkart and it was deliverd 1 day before then the date and after one day of delivering the men was sent to fit the ac and that men also was very nice and a sincere guy he talked to me very politely . And now nearly 3-4 months are over and the ac is working very nice , so this is the platform where you can trust .Flag This ReviewIrrelevantFakeJunk   Thank You! We appreciate your effort.',\n",
              "  array([-3.10527   , -1.10594   , -0.47114366], dtype=float32),\n",
              "  2,\n",
              "  'Positive'),\n",
              " (\"BriefFlipkart India's one of the biggest e-commerce company and it's service and Delivery is Also satisfying for its Consumers and mostly Deliverse on Time in Today's Review we Will take a of My Recent Experience From Flipkart.ReviewRecently I have ordered some study Material from Flipkart Like Table . The Offers they were providing is better then other Companies like Amazon and Other E-commerce WebsitesBut it take a Long period 8-12 days of time for Delivery which is not Acceptable but I don't have other choice I have to go for it cause my Budget range is Limited . After Receiving the product I feel so easy and Happy and the packaging is good but my experience of Flipkart is Not that Good so I recommend you to read the Conclusion part.ConclusionDelivery service is worst . You can shop from Flipkart if you have so much time or it only takes 2-3 for Delivery if not please don't shop from it use alternatives like Amazon and Etc.Stay safe Stay IndoorsPeace.Flag This ReviewIrrelevantFakeJunk   Thank You! We appreciate your effort.\",\n",
              "  array([-1.356859 , -0.8131718, -1.207036 ], dtype=float32),\n",
              "  1,\n",
              "  'Neutral'),\n",
              " ('Delivery was accurate and nice by ekart. Quality of the shirt looks good.Its cotton and size also fits perfect. Highly recommended to choose ONE SIZE LARGER than your actual size. Thank you flipkart.Flag This ReviewIrrelevantFakeJunk   Thank You! We appreciate your effort.',\n",
              "  array([-3.3416705, -1.0405424, -0.4920707], dtype=float32),\n",
              "  2,\n",
              "  'Positive'),\n",
              " ('Flipkart delivered me 3 star ac instead of 5 star ac, cheaper model & pasted stickers of 5 star ac, making customer fool, I had ordered whirlpool air conditioner on 20 april 2021 & did the payment of 29567 & installation  was done on 16th may 2021, issue here is the one which I ordered  & one which delivered is completely different product, l, I have captured videos & have all necessary evidence flipkart didnt helped me, I am attaching pictures of delivered product(please look) & order I placed, I called customer care but no solution provided by team, you will be disappointed, Flipkart neither cares about the customers nor tries to retain them by correcting their mistakesorder- OD121577461895605000contact -7004070325I WOULD NEVER RECOMMEND FLIPKART TO ANYONE.Flag This ReviewIrrelevantFakeJunk   Thank You! We appreciate your effort.',\n",
              "  array([-0.0296627, -3.6971438, -5.4187236], dtype=float32),\n",
              "  0,\n",
              "  'Negative'),\n",
              " ('No item in the delivery box, see when the item arrives bee conscious when taking an online parcel make a video during the parcel opening, open it, video important if the parcel is open, do not bring it back \"order ID - OD 121732703214821000\"Flag This ReviewIrrelevantFakeJunk   Thank You! We appreciate your effort.',\n",
              "  array([-0.04821037, -3.1871088 , -5.154108  ], dtype=float32),\n",
              "  0,\n",
              "  'Negative'),\n",
              " (\"Flipkart has good discounts and offers. It has wide variety of products available and at much cheaper price than markets. Although I really don't like the clothing and footwear section as most of them are of cheap quality so I prefer buying skin care, cosmetics and other essential items these things are always on discounts. I mostly shop only these type of products. No complaints about refund and return system of flipkart. I always got my products delivered before the expected date . I had a good experience with flipkart so far.Flag This ReviewIrrelevantFakeJunk   Thank You! We appreciate your effort.\",\n",
              "  array([-2.9397335 , -0.77643067, -0.7193371 ], dtype=float32),\n",
              "  2,\n",
              "  'Positive'),\n",
              " ('Cancelled my order without any reason,now asking me to pay higher price for same product.order ID: OD121682926082418000Flag This ReviewIrrelevantFakeJunk   Thank You! We appreciate your effort.',\n",
              "  array([-0.03108245, -3.6360881 , -5.461065  ], dtype=float32),\n",
              "  0,\n",
              "  'Negative'),\n",
              " ('Excellent product within time...keep it up in such pandemic situations...great product quality and good packagingFlag This ReviewIrrelevantFakeJunk   Thank You! We appreciate your effort.',\n",
              "  array([-3.9677188, -1.0840745, -0.4418146], dtype=float32),\n",
              "  2,\n",
              "  'Positive'),\n",
              " ('I have ordered many things like TV , Mobiles, Powerbank, Bluetooth, Clothes & many more. The product quality is good.& Good experience with its customer service, The return policy is very simple .Flag This ReviewIrrelevantFakeJunk   Thank You! We appreciate your effort.',\n",
              "  array([-3.5115283 , -1.3226807 , -0.35136253], dtype=float32),\n",
              "  2,\n",
              "  'Positive'),\n",
              " (\"Flipkart has been a trusted company since a very long time when the idea of online shopping website came to trend. This website comes in app and is a very Trustable one. Being a regular customer of online shoppers flipkart has best reviewed products with grt quality and original brands. There courier service is always on time. Flipkart makes sure to meet customer demands with the new trends , fashion nd style. Every necessary items to expensive goods are available here in list. There's no place for fraud. Yeah sometimes it does lack in there quality or dissatisfy by there delivery time but, there exchange nd refundable facility makes the mistakes to be in place. They provide genuine tracking ID there delivery boys are always well behaved atleast I came accross the polite delivery guys . Flipkart offers different modes of offers nd deals with different payment methods even cash on delivery is a nice facility provided by them. They keep updating abt the orders that r placed through emails nd txt msgs. And make sure to prevent any delivery or product related query troublesFlag This ReviewIrrelevantFakeJunk   Thank You! We appreciate your effort.\",\n",
              "  array([-3.2898567 , -1.3232112 , -0.36174217], dtype=float32),\n",
              "  2,\n",
              "  'Positive'),\n",
              " (\"I have purchased a product and product was buggy. So I have asked for refund they have close the refund with contacted me when I contacted her they are saying we tried to connect. Even they haven't any follow up system. When I have called then I have connected with ajay they have said after 24 hours refund option will get display. I waited but no luck. I contacted again this time siddharth contacted me. He refuses the request and ask to contacted on another support no. He put the called on hold and disconnected the call. This is happening again and again.My suggestion flipkart need to update the support system. Do not disconnect the call without assistant.Need to think about the refund policy and compare with comptitor they have bestbest.My Order ID - OD221676188580577000Flag This ReviewIrrelevantFakeJunk   Thank You! We appreciate your effort.\",\n",
              "  array([-0.03180098, -3.6421602 , -5.277539  ], dtype=float32),\n",
              "  0,\n",
              "  'Negative'),\n",
              " ('This company staff have no response and not take care of customers zero product quality fake products delivery and damage productsOD121498985139734000Flag This ReviewIrrelevantFakeJunk   Thank You! We appreciate your effort.',\n",
              "  array([-0.02935876, -3.698684  , -5.478404  ], dtype=float32),\n",
              "  0,\n",
              "  'Negative'),\n",
              " (\"Please don't use flipkart website, it's waste shopping platform, very poor customer support . don't trustFlag This ReviewIrrelevantFakeJunk   Thank You! We appreciate your effort.\",\n",
              "  array([-0.0321716, -3.6182764, -5.3327646], dtype=float32),\n",
              "  0,\n",
              "  'Negative'),\n",
              " ('Review is not about product. It is about seller \"Mobile Bazaar\" - A CHEATBEWARE of fraudulent seller \"Mobile Bazaar\"Horrible customer service experience by FlipkartSold By: Mobile Bazaar,Ship-from Address: NO. 42/1 & 43, KACHERAKANAHALLI VILLAGE, , JADIGENAHALLI HOBLI, HOSKOTE TALUK, , Bengaluru,Karnataka, INDIA - 560067, IN-KAGSTIN - 29AADHN2981A1ZAPAN: AADHN2981ARegd. office: Mobile Bazaar, 92, 93, Ground Floor, , S.P.Road, Behind sharda talkies, BANGALORE, KARNATAKA - 560002\"They have delivered the some other old damaged useless product\" How can they expect Redmi 9A as a return product when I have received totally different.Neither Flipkart nor Seller understood the problem of cheating\"Mobile Bazaar\" is a scamsterWatch the seller before you people place the order.Flag This ReviewIrrelevantFakeJunk   Thank You! We appreciate your effort.',\n",
              "  array([-0.0382584, -3.4500058, -5.151572 ], dtype=float32),\n",
              "  0,\n",
              "  'Negative'),\n",
              " ('Flipkart selling Iphone XR with accessories but they are not providing the same in the box, no earphone, no charging adaptor.Order ID - OD121751475052560000Flag This ReviewIrrelevantFakeJunk   Thank You! We appreciate your effort.',\n",
              "  array([-0.04641174, -3.219648  , -5.2246723 ], dtype=float32),\n",
              "  0,\n",
              "  'Negative'),\n",
              " ('Order ID OD221688882667510000, The product is picked up already(many days ago) Till now the refund is not made even when I try to contact customer support executive they do not help and even in one case one of the executive told me that \"you can just forget about getting the money back\". Wow. it seems like they are not recording their calls(else executive will never say such thing on recorded lines) or maybe actually its like this that they have looted my money. Guys please be aware order for only that amount that you can easily forget if they loot it from you.Flag This ReviewIrrelevantFakeJunk   Thank You! We appreciate your effort.',\n",
              "  array([-0.03813368, -3.4114356 , -5.421183  ], dtype=float32),\n",
              "  0,\n",
              "  'Negative'),\n",
              " (\"They don't have any money refund policy like other shopping sites. They don't have any delivery convenience. Delivery persons are very rude.Flag This ReviewIrrelevantFakeJunk   Thank You! We appreciate your effort.\",\n",
              "  array([-0.04022016, -3.4005299 , -5.10497   ], dtype=float32),\n",
              "  0,\n",
              "  'Negative'),\n",
              " ('What is this you approved refund and return of the product, then you you rejected the refund  and marked the issue resolved . Please see the attached screeÃ\\x83Â±shot. Now you are not even helping in escalating the issue.Flag This ReviewIrrelevantFakeJunk   Thank You! We appreciate your effort.',\n",
              "  array([-0.03794788, -3.4521277 , -5.1924014 ], dtype=float32),\n",
              "  0,\n",
              "  'Negative'),\n",
              " ('Flipkart is a very good online shopping aps, you can buy any product in this site and  save your money, very less amounts products availableFlag This ReviewIrrelevantFakeJunk   Thank You! We appreciate your effort.',\n",
              "  array([-4.0777745 , -1.1805327 , -0.39165127], dtype=float32),\n",
              "  2,\n",
              "  'Positive'),\n",
              " (\"I have already began to boycott flipkart. Every order I have placed I've had a worse issue than before. Their international customer service is the worst in the world. When they realise they have screwed up they just hang up on the customer. It's time for customers to become wise and boycott such websites.Flag This ReviewIrrelevantFakeJunk   Thank You! We appreciate your effort.\",\n",
              "  array([-0.02771361, -3.7934797 , -5.335799  ], dtype=float32),\n",
              "  0,\n",
              "  'Negative'),\n",
              " ('I strongly recommend you not to use flipkart anymore. All false updates, no proper customer service no escalation matrix when we ask for next level they will put call on hold for 20 mins and then disconnect the call.Worst service with flipkart in e-commerceFlag This ReviewIrrelevantFakeJunk   Thank You! We appreciate your effort.',\n",
              "  array([-0.03684973, -3.454235  , -5.3887625 ], dtype=float32),\n",
              "  0,\n",
              "  'Negative'),\n",
              " ('Flipkart is a online platform where you can buy anything.  Its product range is very huge starting from home appliances to mobile phone you can buy anything from this platform . Delivery is very quick.  And service  is very good . The employees are very good and their behavior is also amazing.  They treat you as their king. You can change your product and the exchange policy is also good. Thousands of brand growing their businesses by using this platform. So alternatives are also available there. You can choose between brands. Even the compare option is there. You can compare one brand to another. I recommend all of you use this while making your purchase decisions.Flag This ReviewIrrelevantFakeJunk   Thank You! We appreciate your effort.',\n",
              "  array([-3.6100903 , -1.1423365 , -0.42483458], dtype=float32),\n",
              "  2,\n",
              "  'Positive'),\n",
              " ('Will never order essential services from them .. horrible experience. I had ordered a whirlpool fridge of 300 liters..after checking other sites..no price difference, the delivery was most attractive in one day. 29th April.I believed that and fell into the trap. Got readyin these covid times to keep my new fridge but in vain . After a day ofanxious wait..I got a message product in delivery hub , but the delivery will happen on 5th May. I raised an issue..that attracted very sweet calling employees who kept apologizing and asking for feedback..the words are not of any use if the promises not fulfilled..I gave them a chance and decided to wait till 5th may. The message promptly came wait till 6th..gave them one more chance and I get the message wait this 7th may.I was left with no option but to cancel , and feel cheated. When I cancelled it said we will deliver by 9th May!! Are they playing the fool here..??My money is stuck with and wait to receive it now. if you are ok to wait endlessly with no value for money or time..only then buy from them.. Its never again for me. Just hope to receive my money backFlag This ReviewIrrelevantFakeJunk   Thank You! We appreciate your effort.',\n",
              "  array([-0.03112186, -3.6433048 , -5.408858  ], dtype=float32),\n",
              "  0,\n",
              "  'Negative'),\n",
              " (\"Flipkart has really horrible delivery service and response.I ordered a vaporizer and the original promise delivery was 6 days later. It was not delivered and they asked for a day's extension which is alright in COVID times.Since then the product was not delivered in the next 3 days and after raising the complaint nothing happened.The tracker shows that the product is moving from one facility to another within my city for 4 days.When I finally got fed-up with this issue and escalated it they asked me to cancel my order and place a new order.And I only have one question for flipkart: Who is accountable for this? What actions does flipkart takt against those responsible?Flag This ReviewIrrelevantFakeJunk   Thank You! We appreciate your effort.\",\n",
              "  array([-0.02768926, -3.7843902 , -5.3846145 ], dtype=float32),\n",
              "  0,\n",
              "  'Negative'),\n",
              " ('This is nice app & website this app you are shopping to you all groceries, home appliances, mobileAnd this app is 100% trusted appFlag This ReviewIrrelevantFakeJunk   Thank You! We appreciate your effort.',\n",
              "  array([-3.8722858, -1.0238242, -0.4780832], dtype=float32),\n",
              "  2,\n",
              "  'Positive'),\n",
              " ('I have recently ordered a book from flippkart , the delivery of product is fast and accurate home delivery while I am living in small town , and the book that I have perchased  is in the proper way that I have thought so yaa I am happy ??Flag This ReviewIrrelevantFakeJunk   Thank You! We appreciate your effort.',\n",
              "  array([-3.4921217, -1.1261972, -0.4380403], dtype=float32),\n",
              "  2,\n",
              "  'Positive'),\n",
              " ('I bought the pixel 4a and even after stating to them that i got a damaged product they are refusing me a replacement or refund. Do not buy from Flipkart ever.Flag This ReviewIrrelevantFakeJunk   Thank You! We appreciate your effort.',\n",
              "  array([-0.02638776, -3.8108346 , -5.543466  ], dtype=float32),\n",
              "  0,\n",
              "  'Negative'),\n",
              " (\"The staff at the Help Center at Flipkart are doing their job well.and Customer service is very good, in that Employees talk very well with customers .... that's all ....Flag This ReviewIrrelevantFakeJunk   Thank You! We appreciate your effort.\",\n",
              "  array([-3.7961082 , -1.6390172 , -0.24414866], dtype=float32),\n",
              "  2,\n",
              "  'Positive'),\n",
              " (\"I had ordered a book by Sydney Sheldon from flipkart.I was cheated of my money by sending a fake zerox book twice. I contacted customer care for two days and they're not ready to refund. They reply that seller is ready only for replacement and not refund. Twice xerox was sent and even after repeated requests nor refund was initiated nor I was allowed to speak to higher ups.Flag This ReviewIrrelevantFakeJunk   Thank You! We appreciate your effort.\",\n",
              "  array([-0.03174509, -3.6351025 , -5.3256483 ], dtype=float32),\n",
              "  0,\n",
              "  'Negative'),\n",
              " (\"In comparison with all other e-commerce site it is best, as the cost of products is reasonable and interface is really nice . delivery is also very fast and flipkart assured products are really amazing.and personally I like it's frequently deals, in electronic products it has always many amazing deals.Flag This ReviewIrrelevantFakeJunk   Thank You! We appreciate your effort.\",\n",
              "  array([-3.8765874, -1.4165726, -0.3055275], dtype=float32),\n",
              "  2,\n",
              "  'Positive'),\n",
              " ('A big level stylish beggar, fraud & chor company.cheater.i had ordered combo pack 9f wishcare aloevera gel & castor oil.but RCVD only castor oil.after receiving with in a 15 minutes, I had contacted with flipkart & also show all proves.but not positive response.Flag This ReviewIrrelevantFakeJunk   Thank You! We appreciate your effort.',\n",
              "  array([-0.04429207, -3.280285  , -5.1658998 ], dtype=float32),\n",
              "  0,\n",
              "  'Negative'),\n",
              " ('Nice team workAwesome featureFastest deliveryI am happy customer of flipkartBest product providerProper descriptionFlag This ReviewIrrelevantFakeJunk   Thank You! We appreciate your effort.',\n",
              "  array([-3.8769367 , -1.1382303 , -0.41718295], dtype=float32),\n",
              "  2,\n",
              "  'Positive'),\n",
              " (\"Using this app store for 8 years much user friendly than any other apps also I love the plus membership in flipkart and also low price for product's compared to any other apps loved and services are also good loved itFlag This ReviewIrrelevantFakeJunk   Thank You! We appreciate your effort.\",\n",
              "  array([-3.7100697 , -1.043755  , -0.47257614], dtype=float32),\n",
              "  2,\n",
              "  'Positive'),\n",
              " ('Flipkart boasts about their customer service. But they can\\'t deliver on it. I have couple of bad experiences with Flipkart I\\'ll share the most infuriating one.I ordered a laptop. It was to be delivered on Monday, but they had some trouble with my address and pincode. The pincode I gave was of my home, where even the international packages are delivered. And they told me that your pincode is not serviceable and put my order on hold. After talking with their so call \"specialist\" (bunch of Noobs) they told me to wait for a couple of days and assured me, nay, promised me that my order will be delivered. But guess whaat! They cancelled it. Mailed the details to me around 2 in the morning. I called and I chatted with the Noobs, but they couldn\\'t reply to my question . And the courier service didn\\'t even contacted me once! In short Flipkart is just a copy of the well known online shop. Well, they can\\'t copy their customer service and satisfaction!Flag This ReviewIrrelevantFakeJunk   Thank You! We appreciate your effort.',\n",
              "  array([-0.02485447, -3.85137   , -5.714587  ], dtype=float32),\n",
              "  0,\n",
              "  'Negative'),\n",
              " ('In flipkart membership, people are provided with free and fast delivery value.but in this, fast delivery is done , but delivery charge is taken in some products even after the membership.Flag This ReviewIrrelevantFakeJunk   Thank You! We appreciate your effort.',\n",
              "  array([-3.4133399 , -0.92243713, -0.5629614 ], dtype=float32),\n",
              "  2,\n",
              "  'Positive'),\n",
              " ('As per the Flipkart term and condition , customer do not need to pay delivery charges if your total value of products cross 500 , but here why It shows  delivery ccharges for each product I have kept in cart? Whereas my total product value is greater than 800. Need valid justification on that, why you are violating your own policy?Flag This ReviewIrrelevantFakeJunk   Thank You! We appreciate your effort.',\n",
              "  array([-0.03276188, -3.6189842 , -5.2174554 ], dtype=float32),\n",
              "  0,\n",
              "  'Negative'),\n",
              " ('They are cheaters...they blocked the flight money ?? refund last from 1 years as spicejet my airline company refund my money but flipkart is not refunding my money... I will sue you cheaters... Isurely go to consumer court.....I want my refundFlag This ReviewIrrelevantFakeJunk   Thank You! We appreciate your effort.',\n",
              "  array([-0.03471693, -3.5544822 , -5.1984553 ], dtype=float32),\n",
              "  0,\n",
              "  'Negative'),\n",
              " ('My trimmer was delivered today ( April 25 2021), it was completely closed and not working, it also had hair and the name on it was also erased. I also took a video while opening the box.One thing is that there is no money due to lockdown (covid-19 situation) and these Flipkart people cheated me by giving me a closed (defective) machine and said that they will pay the money on May 7, 2021.Flag This ReviewIrrelevantFakeJunk   Thank You! We appreciate your effort.',\n",
              "  array([-0.02949581, -3.6682189 , -5.6427493 ], dtype=float32),\n",
              "  0,\n",
              "  'Negative'),\n",
              " (\"We have ordered phone replacement, the seller sent the phone to flipkart hub but flipkart people are not delivering it, we are still waiting for the delivery its been 10 days such an awful service. Still we don't know when we will receive the item... even if we want ask anything about it, there are no contacts. Never again i will order anything from flipkart and suggest all my friends and family to not to trust or order anything from flipkart.Flag This ReviewIrrelevantFakeJunk   Thank You! We appreciate your effort.\",\n",
              "  array([-0.02754663, -3.7671936 , -5.5080934 ], dtype=float32),\n",
              "  0,\n",
              "  'Negative'),\n",
              " ('I keep being taken to electronics-more-store by the website where I see this message \"Something\\'s not right!Please try againRETRY\"If you didn\\'t have products there why the hell did you take me there?Seems like dear old flippy took money from Amazon to flip its cart.The number of glitches on the site is dismal for a company this size. Even when you found a good product here they just somehow succeed to destroy the experience.Flag This ReviewIrrelevantFakeJunk   Thank You! We appreciate your effort.',\n",
              "  array([-0.0367015, -3.4895613, -5.199036 ], dtype=float32),\n",
              "  0,\n",
              "  'Negative'),\n",
              " ('Guys I request to all dont buying forud flipkarf app seller and flipkart both is cheater this is my 1st time online buying experience so dont buying see never give me reaplasmentFlag This ReviewIrrelevantFakeJunk   Thank You! We appreciate your effort.',\n",
              "  array([-0.0443646, -3.3329937, -4.8653955], dtype=float32),\n",
              "  0,\n",
              "  'Negative'),\n",
              " (\"It was my biggest mistake I purchased it through flipkart for which I have to go through this pain. If have patience go through the below details.Simply wasted my money on Whirlpool 325 LIt's purchased on 31st MarchDelivered: on 2nd AprilInstalled: on 6th April (used only for 4 days)Stopped working on 10th AprilCall logged with SC on 10th AprilTechnician came on 13th April (here return policy lapsed with Flipkart) can't return through FlipkartContacted service center and requested for replacement. Got a call from nearby dealer to bring not working refrigerator and get the replacement from their branch. They can't deliver to my home because it's not purchased from branchAfter paying huge amount the refurbished product get delivered and why have to pay more for the product which not used.Not acceptable, its very bad experience with online purchase.Flag This ReviewIrrelevantFakeJunk   Thank You! We appreciate your effort.\",\n",
              "  array([-0.02995232, -3.668464  , -5.5233245 ], dtype=float32),\n",
              "  0,\n",
              "  'Negative'),\n",
              " (\"Hello friends Flipkart is the excellent online shopping platform me and my family was impressed by its fast service. I am very happy in shopping at first time Flipkart my family told me if you want to take the product even now, then take it from Flipkart. fast delivery I receive my consignment a day before the expected day and in very good condition.I thought Flipkart sale quality less product but I was wrong it is amazing to be honest it's very easy to order any product here I am recommended you without any doubt it is a trusted online shopping platformFlag This ReviewIrrelevantFakeJunk   Thank You! We appreciate your effort.\",\n",
              "  array([-3.359406  , -0.959225  , -0.54119146], dtype=float32),\n",
              "  2,\n",
              "  'Positive'),\n",
              " ('Easy returns, well packed delivery with good customer support. He was so patiently waiting to deliver as i was bit engaged with some other work and gave my parcel. Really appreciable. Value for money as i could see the difference between the market price and the price they charge in flipkart. Product is also valuable. As of now i have purchased many products , cloths , household things etc still i didnt get any defect even for one time of my product delivery.Flag This ReviewIrrelevantFakeJunk   Thank You! We appreciate your effort.',\n",
              "  array([-3.4888225 , -1.1166558 , -0.44302619], dtype=float32),\n",
              "  2,\n",
              "  'Positive'),\n",
              " ('I hear that Filpkart gives affiliate link to generate second income sitting at home. So, I apply for this. After completing the whole process, it says it is not for your country at now. If it not for Indian people then why open or add the affiliate link in menu bar. We will notify you when link open. Please help me to short out this problem. I here mouthshut, where you can put your issue directly to the company by mouthshut. I believed that this is not copied or stolen from any site.Flag This ReviewIrrelevantFakeJunk   Thank You! We appreciate your effort.',\n",
              "  array([-0.03767974, -3.4854684 , -5.0609884 ], dtype=float32),\n",
              "  0,\n",
              "  'Negative'),\n",
              " ('Pathetic support.they will waste your till till you give up and mark your issue as resolved.it took them 12 months to provide refund.It has taken them over 1 month to resolve another issue.They customer support will give you a call with absolutely no solution just to waste your time.Flag This ReviewIrrelevantFakeJunk   Thank You! We appreciate your effort.',\n",
              "  array([-0.03458555, -3.540373  , -5.29995   ], dtype=float32),\n",
              "  0,\n",
              "  'Negative'),\n",
              " (\"They lure you by offering penny discounts but in case of Flight cancelation you keep on running piller to post without any resultFlipkart customer care refer you to talk Airlines directly and Airlines don't entertain you saying it is agent booking.No responsibility, my Delhi to Mumbai whole booking amount gone waste even flight canceled by airline.Not even small help offered by Flipkart, their job is over once PNR issued, further any flight cancelation / refund not part of their scope.Don't get in to trap of these agents and always book from Airlines official website. They are all fraudster and lure you by offering 200 to 500 rs discount.Flag This ReviewIrrelevantFakeJunk   Thank You! We appreciate your effort.\",\n",
              "  array([-0.03256481, -3.5834558 , -5.4582934 ], dtype=float32),\n",
              "  0,\n",
              "  'Negative'),\n",
              " (\"Hey i have ordered iphone 11 from flipkart on 26 March. After a month it's still not delivered to me. Customer care is not responding even. They are neither giving me phone delivery nor my money back.Flag This ReviewIrrelevantFakeJunk   Thank You! We appreciate your effort.\",\n",
              "  array([-0.03880554, -3.4225953 , -5.2149663 ], dtype=float32),\n",
              "  0,\n",
              "  'Negative'),\n",
              " ('Orderâ\\x80\\x99s are cancelled by the Coriour Service provider without confirmation from the customers this was happens with me twice & surprised customer care support turn duff here despite of escalation.Flag This ReviewIrrelevantFakeJunk   Thank You! We appreciate your effort.',\n",
              "  array([-0.03975663, -3.373717  , -5.3570933 ], dtype=float32),\n",
              "  0,\n",
              "  'Negative'),\n",
              " ('This app is good for buy low price product but this app product was not good quality.Flipkart delivery system is not good.this app not helpfull for buy any product so i suggested don`t visit this app..Thanking youFlag This ReviewIrrelevantFakeJunk   Thank You! We appreciate your effort.',\n",
              "  array([-0.0476155, -3.198024 , -5.1748977], dtype=float32),\n",
              "  0,\n",
              "  'Negative'),\n",
              " ('I ordered  for \"Baby head protector\" from Aditya Home DÃ©cor( Order No. - OD121431700765944000).  Surprisingly twice I received the same wrong order with cheap quality from this esteem organization.Can not expected this poor service from Flipkart. So, request you to refund my amount in my account.Request you to refer the image attachment for your reference,Sorry for the inconvenience causedFlag This ReviewIrrelevantFakeJunk   Thank You! We appreciate your effort.',\n",
              "  array([-0.0276728, -3.7728431, -5.447546 ], dtype=float32),\n",
              "  0,\n",
              "  'Negative'),\n",
              " ('I had booked an item order ID OD221502103713802000on 12th April 2021 & on 13th April it show delivered on flipkart website but physically it is not delivered to me till now.After complaining to flipart, they say team is working  & there is no solution till now, no any action plan, no any update from customer/senoir executive .please try to avoid flipkart, far better is amazonSyed RazaFlag This ReviewIrrelevantFakeJunk   Thank You! We appreciate your effort.',\n",
              "  array([-0.02825067, -3.7119055 , -5.67684   ], dtype=float32),\n",
              "  0,\n",
              "  'Negative'),\n",
              " ('I had ordered real me c 12 which did not come on time so it is a completely nonsense service and very bad serviceFlag This ReviewIrrelevantFakeJunk   Thank You! We appreciate your effort.',\n",
              "  array([-0.03527256, -3.550407  , -5.1252403 ], dtype=float32),\n",
              "  0,\n",
              "  'Negative'),\n",
              " ('I had purchased some items from flipkart  good deals and fast delivery the product some products are high priced actual value is low in offline marketFlag This ReviewIrrelevantFakeJunk   Thank You! We appreciate your effort.',\n",
              "  array([-2.790154 , -0.7032058, -0.8128493], dtype=float32),\n",
              "  1,\n",
              "  'Neutral'),\n",
              " (\"My first experience with flipkart Grocery was that when I tried to place an order the app was continuously showing a prompt in the bottom that you have to make minimum purchase of INR 1000/- to get free delivery. I selected a few more items and paid the amount via UPI trusting what they were showing as prompt. After I received the products with the bill I checked the breakup and I was surprised to see that they had added INR 50/- as a delivery charge. In other words, they are defrauding people. Customer care is so poor that they don't care to attend responsibly and resolve the issue. They disconnected the call many times. They are not doing genuine business, they are 420.Flag This ReviewIrrelevantFakeJunk   Thank You! We appreciate your effort.\",\n",
              "  array([-0.04402665, -3.296211  , -5.107965  ], dtype=float32),\n",
              "  0,\n",
              "  'Negative'),\n",
              " ('I have ordered a pant for my kurti in green color and I received a red color pant instead of green.So I raised a return, the guy who came to pick up order said that it was not the product that was delivered. He said the product must be of green color. I said I have ordered green but I have received red thats why I am returning it. But he refused to take it back.After that I have contacted to customer care and explained them all the thing, they asked me to sent a photo. I have clicked the photo and sent them, after too much of formalities they again suggested me to raise a return.Again a delivery boy came and again refused to take it, after that I have shown him the whole chat of customer care and then he collected my product back.Not satisfied with the serviceFlag This ReviewIrrelevantFakeJunk   Thank You! We appreciate your effort.',\n",
              "  array([-0.03685214, -3.5122383 , -5.0590873 ], dtype=float32),\n",
              "  0,\n",
              "  'Negative'),\n",
              " (\"The only thing I not like in flipkart is customer support. They talk very rudely and didn't provide solution on time. Works very well. Good for surfing in comparison with amzon or myntra. Gives quality product delivery.Flag This ReviewIrrelevantFakeJunk   Thank You! We appreciate your effort.\",\n",
              "  array([-3.1490147, -0.8064798, -0.6720145], dtype=float32),\n",
              "  2,\n",
              "  'Positive'),\n",
              " ('My 1 jeans return is cancelled saying seller not accepting return and then i came to my account is blocked for high returns. In reality i have made only 3 clothing returns.The company has refused to return my jeans and is forcing me to buy the jeans by blocking my account.This activity of account blocking without telling how many returns are allowed to be made is illegal and fraud.Kindly stay away from flipkart its a scam customer support also is not calling me since 3 days i am complaining.Flag This ReviewIrrelevantFakeJunk   Thank You! We appreciate your effort.',\n",
              "  array([-0.03062611, -3.6556828 , -5.444942  ], dtype=float32),\n",
              "  0,\n",
              "  'Negative'),\n",
              " (\"Hello freandsExcellent online shopping platform.Me and my family was impressed by its fast service. I am very happy in shopping at 1 st time flipkart My family told me If you want to take the product even now, then take it from Flipkart. Fast delivery I received my consignment a day before the expected day and in very good conditionI thought Flipkart sell quality less products But I was wrong it is amazing tobe honestIt's very easy to order a aney product hereI am recommended you without any doubtIt is a trusted online shopping platformFlag This ReviewIrrelevantFakeJunk   Thank You! We appreciate your effort.\",\n",
              "  array([-3.3464477 , -0.99503034, -0.51906186], dtype=float32),\n",
              "  2,\n",
              "  'Positive'),\n",
              " (\"Don't purchase this phone from Flipkart as they are making Customer fullish , during buy its saying product can be returned with I'm 7 dayes & after delivery on neXT day saying that it's not possible to return, there is policy only replacement with geniue resonFlag This ReviewIrrelevantFakeJunk   Thank You! We appreciate your effort.\",\n",
              "  array([-0.04494727, -3.263236  , -5.1694446 ], dtype=float32),\n",
              "  0,\n",
              "  'Negative'),\n",
              " ('No doubt , flipkart is the greatest online marketing option in India . We can buy anything we want through this online marketing site . Recently it launched a new feature which provides us old accessories in reasonable cost . After all I like shop from this site very much .Flag This ReviewIrrelevantFakeJunk   Thank You! We appreciate your effort.',\n",
              "  array([-3.7460227 , -1.0927147 , -0.44459546], dtype=float32),\n",
              "  2,\n",
              "  'Positive'),\n",
              " (\"When I was placing the order on Flipkart, the description included that I can schedule the delivery at a later date. After I placed the order, the description changed to pre-assembled. The product was delivered today. It requires assembly. But now neither Flipkart nor the seller are reachable. The product cannot be returned too. Save your money and don't buy anything from this cheating ecommerce website.Flag This ReviewIrrelevantFakeJunk   Thank You! We appreciate your effort.\",\n",
              "  array([-0.04351421, -3.320151  , -5.046215  ], dtype=float32),\n",
              "  0,\n",
              "  'Negative'),\n",
              " ('They delivered toy table and chair instead of macbook air.customer care is not solving my problem saying that they have delivered the product. we had shown them photos and fir recording of delivery boy but this company is not helpingFlag This ReviewIrrelevantFakeJunk   Thank You! We appreciate your effort.',\n",
              "  array([-0.05504219, -3.0594618 , -5.0143566 ], dtype=float32),\n",
              "  0,\n",
              "  'Negative'),\n",
              " ('They are giving wrong product and they didnâ\\x80\\x99t refund the customer amount due to giving wrong product and doing fraud with customerFlag This ReviewIrrelevantFakeJunk   Thank You! We appreciate your effort.',\n",
              "  array([-0.0286621, -3.716873 , -5.5351844], dtype=float32),\n",
              "  0,\n",
              "  'Negative'),\n",
              " ('When it comes to online shopping like Apparels, Footwear we chose flipkart as our first priority, because of the Customer Service and Delivery.Flag This ReviewIrrelevantFakeJunk   Thank You! We appreciate your effort.',\n",
              "  array([-3.7756975, -1.1765594, -0.4023583], dtype=float32),\n",
              "  2,\n",
              "  'Positive'),\n",
              " ('Flipkart is an amazing shopping app to look for.We can get anything we want to buy.The product are really amazing and trust me the customer service is really amazingFlag This ReviewIrrelevantFakeJunk   Thank You! We appreciate your effort.',\n",
              "  array([-3.8110015, -1.1926455, -0.3938481], dtype=float32),\n",
              "  2,\n",
              "  'Positive'),\n",
              " (\"I refunded a product, as its seal was opened, but they didn't refund the money from last two months. When ever I make a call to the customer care service , they used to listen the problem first, n keep me in hold and after one or two minutes they use to disconnect the call.They are doing this repeatedly.\",\n",
              "  array([-0.03897902, -3.3954675 , -5.3592696 ], dtype=float32),\n",
              "  0,\n",
              "  'Negative'),\n",
              " ('They are unapologetically rude, their customer care service is so poor. They are not replacing or returning my product which has clear flaws, they just kept on post poning the date of its return and now they say contact the brand. Extremely unsatisfied. They misuse customers.Flag This ReviewIrrelevantFakeJunk   Thank You! We appreciate your effort.',\n",
              "  array([-0.03752463, -3.4339006 , -5.388578  ], dtype=float32),\n",
              "  0,\n",
              "  'Negative'),\n",
              " ('DonÃ¢â\\x82¬â\\x84¢t buy from flipkart, always used product delivery, poor quality, not match with online price, and also misuse of banking details.Flag This ReviewIrrelevantFakeJunk   Thank You! We appreciate your effort.',\n",
              "  array([-0.03727108, -3.4447563 , -5.366064  ], dtype=float32),\n",
              "  0,\n",
              "  'Negative'),\n",
              " ('I have a good experience with electronic stuff as I have bought all of my smartphone and other electronic goods, you can get it with low price in comparison to the offline store but other stuff like clothing are not up to the mark and sometime I face bad packaging issue if it is from some unknown seller. And lastly deliveryboy sometime it is good sometime very rude.Flag This ReviewIrrelevantFakeJunk   Thank You! We appreciate your effort.',\n",
              "  array([-3.5795567, -1.135951 , -0.4292527], dtype=float32),\n",
              "  2,\n",
              "  'Positive'),\n",
              " ('I ordered antiviral mask from flipkart and as soon I got the delivery I found out that the box in which my product was delivered was empty. There was no mask inside the box. I felt really bad as I did alot of search before purchasing it. Really pathetic.Flag This ReviewIrrelevantFakeJunk   Thank You! We appreciate your effort.',\n",
              "  array([-0.04893044, -3.2274113 , -4.81681   ], dtype=float32),\n",
              "  0,\n",
              "  'Negative'),\n",
              " (\"Don't buy from flipkart, always used product delivery, poor quality, not match with online price, and also misuse of banking detailsFlag This ReviewIrrelevantFakeJunk   Thank You! We appreciate your effort.\",\n",
              "  array([-0.03986042, -3.3898237 , -5.2284675 ], dtype=float32),\n",
              "  0,\n",
              "  'Negative'),\n",
              " (\"Flipkart support Froud groups, our purchase information leaked and froud call arrange by him, always cheated the customer, plz don't buyFlag This ReviewIrrelevantFakeJunk   Thank You! We appreciate your effort.\",\n",
              "  array([-0.03388423, -3.5306199 , -5.514021  ], dtype=float32),\n",
              "  0,\n",
              "  'Negative'),\n",
              " ('I like to purchase from flipkart because their customer service is awesome. I bought a new smartphone from flipkart recently and it is delivered before the due date. I got good quality products from flipkart at the cheapest rate so i prefer flipkart than any other online sites.Flag This ReviewIrrelevantFakeJunk   Thank You! We appreciate your effort.',\n",
              "  array([-3.2783566, -0.9979822, -0.5214025], dtype=float32),\n",
              "  2,\n",
              "  'Positive'),\n",
              " ('They will never care & Selling duplicate products in the name of brand like PUMA & Major brands, Bought PUMA shoes 3months ago now colour start fading, If you ask solution support team will never bother, Better go to myntra or Amazon if you want original products, Flipkart is selling completely  duplicate products.Flag This ReviewIrrelevantFakeJunk   Thank You! We appreciate your effort.',\n",
              "  array([-0.03647464, -3.4837756 , -5.273388  ], dtype=float32),\n",
              "  0,\n",
              "  'Negative'),\n",
              " ('I BOOKED FLIGHT DEL - YYZ . I WANT CHANGES TO MY FLIGHT BUT THEY DONT REPLY ABOUT DATE CHANGE CHARGES FROM 5 DAYS . IF THEY DONT GIVE ME REWARD I WILL SO  LEGAL CASE AGAINST FLIPKART. THERE IS TO MUCH LOSS DUE TO LATE REWARD.Flag This ReviewIrrelevantFakeJunk   Thank You! We appreciate your effort.',\n",
              "  array([-0.04161655, -3.35152   , -5.1617794 ], dtype=float32),\n",
              "  0,\n",
              "  'Negative'),\n",
              " (\"Never buy any product from Flipkart the don't have good customer support services. Go with Amazon much better then FlipkartFlag This ReviewIrrelevantFakeJunk   Thank You! We appreciate your effort.\",\n",
              "  array([-0.03046759, -3.6073008 , -5.848846  ], dtype=float32),\n",
              "  0,\n",
              "  'Negative'),\n",
              " (\"My flipkard A/c testpunjab@gmail.com.From feb I ordered many baby items..But I kept only 1 other all I returned.. Bcos the sent not same items like which they shown in its app. I ordered a wall clock with photofarmes for gift on 18/03/21 promise date was 23/3/21. The odered was not delevered on time I launched a complaint and again they gave 29/3/21 promise date. When I check status on 29. Its shows ordered canceled 27/3/21. They asked ur order was broken between shiping they did't even mail me and call me and text me...... Flag This ReviewIrrelevantFakeJunk   Thank You! We appreciate your effort.\",\n",
              "  array([-0.03737823, -3.4436896 , -5.3513646 ], dtype=float32),\n",
              "  0,\n",
              "  'Negative'),\n",
              " (\"Flipkart is cheap site..there is not good discount on any kind of products.delivery charges is too high.amazon is good according to flipkart..cerelac prize in Amazon 245 n flipkart prize is 264 plus delivery charges..I ordered 2 different type flavours for my baby..both flavours are saved in different cart (flipkart-grocery cart) and delivery charges amount got double..my second flavour is not available in Amazon that's why I ordered in flipkart.. worst site I must say.Flag This ReviewIrrelevantFakeJunk   Thank You! We appreciate your effort.\",\n",
              "  array([-0.04180189, -3.3279572 , -5.2836432 ], dtype=float32),\n",
              "  0,\n",
              "  'Negative'),\n",
              " ('I have ordered a small product in flipcart.  They have given me a delivery date but not delivered on that day. Extended to 5 more days. Did not delivered on that date also. Again extended for 5 days, still did not delivered. Finally they asked me to cancel. I have cancelled.  Again ordered a different product . Same thing again happened. Waste services bu flipcart. Never ever order anything on flipcart.Flag This ReviewIrrelevantFakeJunk   Thank You! We appreciate your effort.',\n",
              "  array([-0.04155708, -3.3318536 , -5.302602  ], dtype=float32),\n",
              "  0,\n",
              "  'Negative'),\n",
              " ('I have received voto brand mobile phone ..phone hanging and auto restart happening after operating 1hrs or 2hrs...tech visit done technician collected data from mobile but pblm happening same and mobile not returning yet ..mobile return policy about to end...but mobile not return to seller ... froud service from Flipkart...m really disappointed ..I will do police complaint and legal action against you..Flag This ReviewIrrelevantFakeJunk   Thank You! We appreciate your effort.',\n",
              "  array([-0.0446525, -3.2601576, -5.242331 ], dtype=float32),\n",
              "  0,\n",
              "  'Negative'),\n",
              " (\"3weeks back I have ordered new laptop for my new job , issue is keyboard is not working we complained to customer care he  replied keyboard got expired. again we given  replacement .working team was irresponsible, they don't have customer relationships, just killing customer time still I am waiting for my lappy it costs(55000).Flag This ReviewIrrelevantFakeJunk   Thank You! We appreciate your effort.\",\n",
              "  array([-0.03364715, -3.5616307 , -5.361298  ], dtype=float32),\n",
              "  0,\n",
              "  'Negative'),\n",
              " ('Flipkart has been slipping on its services. Their Category Manager for Mattresses made promises but never bothered to do anything to fill the promises. Two mattresses are going to be totally wasted because of pathetic service by Flipkart Category manager.Flag This ReviewIrrelevantFakeJunk   Thank You! We appreciate your effort.',\n",
              "  array([-0.0306105, -3.6878157, -5.274582 ], dtype=float32),\n",
              "  0,\n",
              "  'Negative'),\n",
              " (\"I bought a mobile phone POCO M3 which tracking ID is FMPP0715039391 ... They will promise that my product is deliver before 22 march 2021 ..... Today is 25 march 2021 and I'm still waiting my product.... Very horrible service of flipkartFlag This ReviewIrrelevantFakeJunk   Thank You! We appreciate your effort.\",\n",
              "  array([-0.04465501, -3.2410836 , -5.39237   ], dtype=float32),\n",
              "  0,\n",
              "  'Negative'),\n",
              " ('I bought A split ac of Voltas(Order ID - OD121292255548985000), while it was mentioned that installation is free, after purchase flipkart asking for installation charges plus gst.Flipkart never tells truth to its customers and cheating with customers.Flag This ReviewIrrelevantFakeJunk   Thank You! We appreciate your effort.',\n",
              "  array([-0.03388353, -3.5102818 , -5.675963  ], dtype=float32),\n",
              "  0,\n",
              "  'Negative'),\n",
              " ('Flipkart is a wrost app and its products are also wrost.bad quality .There is a single problem in every product ordered from Flipkart.i ordered a clog from Flipkart it is so cheap and and bad quality plastic product.flipkart do not checking there sellers.and there is a bad customer service and the delivery time is too long. #myopinionFlag This ReviewIrrelevantFakeJunk   Thank You! We appreciate your effort.',\n",
              "  array([-0.02856178, -3.72654   , -5.501237  ], dtype=float32),\n",
              "  0,\n",
              "  'Negative'),\n",
              " (\"Flipkart don't have changed price  Big saving day's   sale Baker bakwas saler don't purchase any product this Omni tech retailer cheap products but price very high don't buy any productFlag This ReviewIrrelevantFakeJunk   Thank You! We appreciate your effort.\",\n",
              "  array([-0.02967508, -3.6613808 , -5.6430373 ], dtype=float32),\n",
              "  0,\n",
              "  'Negative'),\n",
              " ('Adilaxmi E-commerce company and Flipkart both are worst and fraud company.I ordered a Smart phone of 30000rs Vivo v20pro 5g via Flipkart.And the seller was Adilaxmi E-commerce company.when I opened the box there was no smartphone in the box. There was soap and stones in the box.Now Flipkart is giving taarikh pe taarikh. Sab ke sab fraud h saaale.Flag This ReviewIrrelevantFakeJunk   Thank You! We appreciate your effort.',\n",
              "  array([-0.04819526, -3.1782355 , -5.22263   ], dtype=float32),\n",
              "  0,\n",
              "  'Negative'),\n",
              " ('I bought a mobile cover and it was 243 rs . With delivery charges . I payed 246 by cod. ?? Product was good. Delivery on time. But not ryt comitment for price.Flag This ReviewIrrelevantFakeJunk   Thank You! We appreciate your effort.',\n",
              "  array([-3.2293904, -0.895649 , -0.5940697], dtype=float32),\n",
              "  2,\n",
              "  'Positive'),\n",
              " ('I experienced a good service on flipkart.com. its customer  service is good. I think its a very good e-Commerce website.some priducts have a good qality.Flag This ReviewIrrelevantFakeJunk   Thank You! We appreciate your effort.',\n",
              "  array([-3.9502995 , -1.4248476 , -0.30082685], dtype=float32),\n",
              "  2,\n",
              "  'Positive'),\n",
              " ('I received an SMS on 17th that my product will be delivered today. Wen it was not delivered, I called flipkart on 18th & asked for the courier partner details. I was surprised to know that they were not having contact details of their logistic partner, who was expected to deliver my product. I was assured that this issue will be resolved by 24th, to which I insisted to resolve it on priority. And on 20th, I got a msg from flipkart that my order was cancelled and refund processed.Flipkart blamed their logistic partner for all this mess & their logistic partner whom I met by chance, blamed flipkart for cancellation of my order.Flag This ReviewIrrelevantFakeJunk   Thank You! We appreciate your effort.',\n",
              "  array([-0.0301499, -3.7010713, -5.2977376], dtype=float32),\n",
              "  0,\n",
              "  'Negative'),\n",
              " ('It a high time to raise the complaint here, flipkart customer service is the one of the worst service, I had requested call back serveral time, but after getting a call, there was no response and it happend multiple times.Contact number -8860304264I had ordered a redmin phone, there is an issue in invoice. so please resolve this matter soon.Flag This ReviewIrrelevantFakeJunk   Thank You! We appreciate your effort.',\n",
              "  array([-0.03694061, -3.5162096 , -5.027559  ], dtype=float32),\n",
              "  0,\n",
              "  'Negative'),\n",
              " (\"FLIPKART AND SHREYASH RETAIL PVT LTD ARE IN THIS TOGETHER IN DUPING PEOPLE OF THEIR HARD EARNED MONEY!Purchased the POCO C3 phone on 28th Feb 2021. The phone ceased to turn on after 3 days. After thorough scrutiny and grilling us with questions by Flipkart,   a replacement was given on 9th March 2021. This phone too ceased to turn on from 17th March 2021. Now Flipkart has washed their hands off this issue saying the return policy as expired on 16th March. Flipkart is too rigid and doesn't help in anyway at all. They just ask us to go through the invoice and contact the retailer who is not even in the Bangalore City. Moreover, the retailer doesn't have a phone number for customer support either. The retailer details are as follows:Regd. office: Shreyash Retail Private Limited, 2nd Floor, Plot No. 82, Okhla Industrial Estate, Phase-III New Delhi, South Delhi, NEW DELHI, DELHI - 110020Sold By: Shreyash Retail Private Limited,Ship-from Address: Marasandra and Madnahatti -Venkatapura Villages, Kasaba Hobli, Malur Taluk, Dist -Kolar, Malur,Bangalore, Karnataka, India - 563130.Sold By: Shreyash Retail Private Limited,Ship-from Address: NO. 42/1 & 43, KACHERAKANAHALLI VILLAGE, JADIGENAHALLI HOBLI, HOSKOTE TALUK, Bengaluru,Karnataka, INDIA - 560067, IN-KAAnd Flipkart is not ready to assist us with the phone numbers of this retailer or service centre.FLIPKART AND SHREYASH RETAIL PVT LTD ARE IN THIS TOGETHER IN DUPING PEOPLE OF THEIR HARD EARNED MONEY!Allen DsouzaFlag This ReviewIrrelevantFakeJunk   Thank You! We appreciate your effort.\",\n",
              "  array([-0.02440261, -3.8787434 , -5.6750364 ], dtype=float32),\n",
              "  0,\n",
              "  'Negative'),\n",
              " ('This is the wrost Ecommerce  app. I ordered some product which is dammaged more over i had to get four product but got only since 1 week , so i am daily getting calls but  my money is lost.I have given up trying to get refund .Flag This ReviewIrrelevantFakeJunk   Thank You! We appreciate your effort.',\n",
              "  array([-0.04052368, -3.3810432 , -5.1669936 ], dtype=float32),\n",
              "  0,\n",
              "  'Negative'),\n",
              " ('I got many things from Flipkart with 80% and I am very satisfied with it. All I did is bought items on special days like republic day, independence day, or on some other festivals. And there are super coins in it that we got when we buy products and we can use it as money. if anyone wants to know more about this like and contact me.Flag This ReviewIrrelevantFakeJunk   Thank You! We appreciate your effort.',\n",
              "  array([-3.4475942, -1.421582 , -0.3190407], dtype=float32),\n",
              "  2,\n",
              "  'Positive'),\n",
              " (\"Hii friends. I am customer of flipkart I have happy to say that what I experience from flipkart by shoppingThat it gives you best quality of product with excellent packing.And if  your buy product from flipkart make sure the seller ratings and reviews of others customers sometimes saler sales you deffrent products that not maintion in description but flipkart customers support help to solve the problem and get refund within 48 hours. If your buying product first check rating is 4 stars of above then you can buy other vice don't.Flag This ReviewIrrelevantFakeJunk   Thank You! We appreciate your effort.\",\n",
              "  array([-3.1970725 , -0.81699777, -0.6590117 ], dtype=float32),\n",
              "  2,\n",
              "  'Positive'),\n",
              " ('I bought Motorola 43inch 4K tv and due to serial number mismatch I returned that tv and complained to Flipkart grievance, they assured me it will not repeat again so by trusting them again I ordered Motorola 50inch 4K but this time also got same issue serial number mismatch and showing model as Flipkart tv.Flag This ReviewIrrelevantFakeJunk   Thank You! We appreciate your effort.',\n",
              "  array([-0.0377143, -3.4438202, -5.2845044], dtype=float32),\n",
              "  0,\n",
              "  'Negative'),\n",
              " ('Do not buy products from flipkart.I have very bad experience on this platform. Due to profits greedyness , company allowed road side seller to sell the product they do not have business ethics. This platform does not sell high quality of products only just advertisement. I always received low quality of products from seller.Customer support system is a puppet. They dont have IQ. Leadership is not at par.Flag This ReviewIrrelevantFakeJunk   Thank You! We appreciate your effort.',\n",
              "  array([-0.0335901, -3.5386472, -5.5265665], dtype=float32),\n",
              "  0,\n",
              "  'Negative'),\n",
              " ('Flipkart provides me duplicate headphones . After taking delivery when I get duplicate headphones then I want to refund my money but till now they are not come for return . Really I get very very cheap Services.  Very ridiculous behavior towards the Customer.Flag This ReviewIrrelevantFakeJunk   Thank You! We appreciate your effort.',\n",
              "  array([-0.03764725, -3.436275  , -5.346875  ], dtype=float32),\n",
              "  0,\n",
              "  'Negative'),\n",
              " ('Worst online purchase ever I made . Kettle started to rust inside in only 3 months of usage. I contacted Flipkart in the first place as there was one year warranty. They raised a ticket for the issue and somebody from Flipkart cald me . They gave me nearest Kent dealer contact and asked me to send the product to them for service . This happened in December 2020. Immediately the ticket was closed saying issue resolved. Nobody contacted me again checking if it was resolved . The Kent dealer said they canâ\\x80\\x99t do anything for the product and asked me to courier it Chennai Kent service center. As it was glass kettle they charged me rs.650 courier charges for it . The product was sent in early Jan 2021. After a month I contacted the nearest dealer asking for updated . He said they will replace the product but the glass one is not available and only stainless steel is there but it cost extra money and I had to pay 600 more to get it . I said I canâ\\x80\\x99t pay extra money , if you donâ\\x80\\x99t have the same product. You can give my money back . They said wil discus and let you know . This happened around Jan 15th 2021. Itâ\\x80\\x99s been more than 2 months , nobody picks my call . Then again I contacted Flipkart. A week before . In this week I received 10 calls from Flipkart, asking the same question again and again . They will say we have escalated the issue to higher authorities you will receive call from them in few hours but no one will call back. I have purchased so many products online never faced this type of issue . Kent is really waste product for money . You can get better and cheaper product. Donâ\\x80\\x99t fall for this brand name . Very poor service . Now let it go rs.1650 . Never will either purchase from Kent nor from Flipkart. Am a happy Amazon customer . Probably if I had purchased the same from Amazon . They would have given me better service . I had issues with product purchased from Amazon but the helped me right away. A big thanks and good bye to FlipkartFlag This ReviewIrrelevantFakeJunk   Thank You! We appreciate your effort.',\n",
              "  array([-0.03547589, -3.5064905 , -5.328377  ], dtype=float32),\n",
              "  0,\n",
              "  'Negative'),\n",
              " ('Have ordered multiple products like shoes, laptops, mobile, tablets.I have always received the products on time.:)Flag This ReviewIrrelevantFakeJunk   Thank You! We appreciate your effort.',\n",
              "  array([-3.5218203 , -1.0414996 , -0.48202878], dtype=float32),\n",
              "  2,\n",
              "  'Positive'),\n",
              " ('I recharged Rs79 pack on airtel using flipkart supercoins for which my 377 supercoins were deducted. Later flipkart is telling that 5 supercoins is equal to one rupee which is not openly mentioned at the time of recharge. Flipkart is deceiving their flipkart plus customers in colloboration with MOBIWIK. I would suggest not to use flipkart supercoins on their website and will be better to get redemption by visiting the nearby stores mentioned in the supercoin section.Flag This ReviewIrrelevantFakeJunk   Thank You! We appreciate your effort.',\n",
              "  array([-0.02562884, -3.830455  , -5.6258535 ], dtype=float32),\n",
              "  0,\n",
              "  'Negative'),\n",
              " (\"Really upset to order product 2 stools from flip kart, I received just a plastic handle.I dont think even customer care is not able to help here.As courier boy refused to take the return.This is really disappointing, such a trusted site and such fraud happening with customers.Really sorry to say but will never buy neither recommend anyone to buy products from flipkart.My order I'd was OD121183910935946000.Regards,Deepak Arora9999591492Flag This ReviewIrrelevantFakeJunk   Thank You! We appreciate your effort.\",\n",
              "  array([-0.03125312, -3.6455696 , -5.368041  ], dtype=float32),\n",
              "  0,\n",
              "  'Negative'),\n",
              " ('Poor return policy so think 100 times before purchase. They ll not accept return sometime that hurt.aFlag This ReviewIrrelevantFakeJunk   Thank You! We appreciate your effort.',\n",
              "  array([-0.0346733, -3.500339 , -5.54884  ], dtype=float32),\n",
              "  0,\n",
              "  'Negative'),\n",
              " ('Flipcart is such a fraud online site.....why do people do online shooping ...if there is no returning of item....even they are not exchanging tha size......how can i know the size n all before trying .....each brand has their different size.....i bought 2 swimsuit cost 2000rs...rovars brand....its such a Worst swimsuit...for my baby they sent only lower ...is swimsuit means only lower for 8year girls....really bad experience....never buy anything from flipcart.......myntra , amazon are best site to buy......how can i know size without trying......why they dont even change the size.....Flag This ReviewIrrelevantFakeJunk   Thank You! We appreciate your effort.',\n",
              "  array([-0.04386523, -3.2860804 , -5.1999454 ], dtype=float32),\n",
              "  0,\n",
              "  'Negative'),\n",
              " ('I had ordered a cushion, toner, vitamin C serum, charcoal mask and soap from Flipkart. In my experience that is a good comment. The product is all good but expensive but not as expensive as Amazon. The delivery boy is Friendly.Delivery to the main center is due to covid. The product is easy to return and within 7 days they come and collect the product and the product exchange is also available if you need a fund return.Flag This ReviewIrrelevantFakeJunk   Thank You! We appreciate your effort.',\n",
              "  array([-3.1970525 , -0.78988165, -0.6827634 ], dtype=float32),\n",
              "  2,\n",
              "  'Positive'),\n",
              " (\"I bought Samsung S10 -256GB from Flipkart in Nov-20. Within 2.5 months(in Feb-21) it has started giving display problem. Flipkart escalation team didn't support customer for return of the product to vendor or getting repaired from Samsung under warranty. Rather Flipkart team supported vendor's hypothetical reasoning. Flipkart escalation team(Abijeeth) behaved as if he is Flipkart's vendor employee. I think, he taking salary from Flipkart but earning a huge commission from vendors so he is not bothered about Flipkart customer satisfaction.So guys be careful before buying any costly product(>5000rs) from Flipkart.Flag This ReviewIrrelevantFakeJunk   Thank You! We appreciate your effort.\",\n",
              "  array([-0.04282644, -3.3360806 , -5.0598946 ], dtype=float32),\n",
              "  0,\n",
              "  'Negative'),\n",
              " ('I have ordered aome furniture from Flipkart last month. The expected delivery date is wirh in one week. But 10 days have been passed no update about the product. When I called to cusromrr care they did not respond properly so that was the experience what I had with flipkart. Later I got the product and the quality of the product is so poor I was look like second handFlag This ReviewIrrelevantFakeJunk   Thank You! We appreciate your effort.',\n",
              "  array([-0.02639217, -3.7917144 , -5.657814  ], dtype=float32),\n",
              "  0,\n",
              "  'Negative'),\n",
              " ('I ordered for Grey Backdrop photo shoot curtains 2pcs. Rs 400 each. As a single order.Day 1 - Received package, instead of Grey, color I received is Green, which is none of my use.Day 2- Replacement ordered/ AcceptedDay 3 - Now what I re-received is single piece replacement, not two as I purchased, so I gave one unit of Green cloth back to replacement wish-master[as they call their delivery guys] to collect the one he got me, and to my wonders that is ALSO GREEN!   This brings me to assure, deaf people are operating the business, who are still working call to hear basis, some where in the warehouse, one says GREY! other hears GREEN!  Anyway I had to make a return to that as well. as no replacement  is possible in this phase while once done already.Day 4 -  A call from their customer service associate assures me of all satisfaction in the world and sells to get for his delighted survey.DAY 5 - Return Wish master arrives, and declines to accept the article back, reason - No Brand name [American Sia] is on the product itself.  Its a huge green cloth with no markings at all on this. However as per their return protocols, brand/product name has to be on article, despite it was`nt ever delivered in such a format.Day 5 - MY Orders tab under my account, has no options left either for a replacement or return, Also contact customer care option is also exhausted maybe because I have talked to them once. Now appears I have to live with the Green only as they deliver what they have in stock, irrespective of their depiction on   website portal and what customer requires.If they cant understand what difference can colors make in a critical world of photography.This is having me to miss on my client`s work schedules. And a total harassment!Refund Cancelled Refund ID: 12102119856678127828Flag This ReviewIrrelevantFakeJunk   Thank You! We appreciate your effort.',\n",
              "  array([-0.04511981, -3.2646637 , -5.131561  ], dtype=float32),\n",
              "  0,\n",
              "  'Negative'),\n",
              " ('Have ordered multiple products like shoes, laptops, mobile, tablets.I have always received the products on time.:)Flag This ReviewIrrelevantFakeJunk   Thank You! We appreciate your effort.',\n",
              "  array([-3.2213876, -1.080572 , -0.476909 ], dtype=float32),\n",
              "  2,\n",
              "  'Positive'),\n",
              " ('Flipkart is a very good online shopping website. I am using Flipkart since 7 years and I have bought so many products. Recently, I have bought a smartphone worth rupees 4000 which I have found defective product. I have found this product defective because the smartphone which I got did not have fingerprint sensor. So this a point where Flipkart is not so good.Flag This ReviewIrrelevantFakeJunk   Thank You! We appreciate your effort.',\n",
              "  array([-3.3387344 , -1.1435416 , -0.43721932], dtype=float32),\n",
              "  2,\n",
              "  'Positive'),\n",
              " (\"Flipkart is a good website. Good number of products but it's less authentic if I compare to other website. Also you need to pay a good number of delivery charge for few product that's annoying.Flag This ReviewIrrelevantFakeJunk   Thank You! We appreciate your effort.\",\n",
              "  array([-3.356107  , -0.9876155 , -0.52312523], dtype=float32),\n",
              "  2,\n",
              "  'Positive'),\n",
              " ('On 19th February 2021 I have ordered mobile phone from Flipkart.comOrder Id OD121060655121004000The name of Mobile was Infinix 8 I 128 GBThe Price of Phone was Rs 15000When I Got My ordered delivered I was very happy. Just when I opened the Box I got stylish mobile with Screen Gaurd and Case and User Manual with Sim ijector Tool with no Charger to charge I was very Upset Imediately I made a return order as at that time return was accepted by merchant for 15 days. But at start my my return was accepted the delivery boy verified the mobile and asked reason for return when I told that it does not have charger he took the mobile with him now the mobile was reached to the merchant and he refused the return.Still now I not have product with me and not recieved any refund.Very Bad Service by the Flipkart support at the time of chatting with them they speak very good but didnt provide good service.Flag This ReviewIrrelevantFakeJunk   Thank You! We appreciate your effort.',\n",
              "  array([-0.03920486, -3.3725336 , -5.486174  ], dtype=float32),\n",
              "  0,\n",
              "  'Negative'),\n",
              " ('I really like Flipkart as it deliver product on time. In case of refund also they are very quick. I generally order grocery from Flipkart with nice discounts.Flag This ReviewIrrelevantFakeJunk   Thank You! We appreciate your effort.',\n",
              "  array([-3.7198377 , -1.2694273 , -0.36417496], dtype=float32),\n",
              "  2,\n",
              "  'Positive'),\n",
              " ('The only Advertisement Is Big As Compared To Make Promise In Reality When We Made Order By Thinking That Discount Will Meet As Per Advertisement Shown By The Company But At The Time Of Booking Products And  Making Payment They Always Increase The Price Of MRP And Gives Huge Discount Suppose A Specific Product Cost Is Rs. 100 Than They Will List MRP As Rs. 150 And Will Give Huge Discount Of 30% Than The Same Product Of Rs. We Will Buy At Rs. 105Flag This ReviewIrrelevantFakeJunk   Thank You! We appreciate your effort.',\n",
              "  array([-0.04784679, -3.234776  , -4.9129086 ], dtype=float32),\n",
              "  0,\n",
              "  'Negative'),\n",
              " ('I purchased many things from flipkart  as campare to other online sites/apps it has fast delivery that I like the most. the items  they deliver always packed very safely.  the details of items shown in flipkart app is also good, they provide every things from daily use,  fashionable clothes, brands items, etcFlag This ReviewIrrelevantFakeJunk   Thank You! We appreciate your effort.',\n",
              "  array([-3.5204117 , -1.3882132 , -0.32726592], dtype=float32),\n",
              "  2,\n",
              "  'Positive'),\n",
              " (\"I purchase a mattress in December 17th 2020 using zestmoney giftcard wait for the delivery flipkar extend dates for delivery but not delived they tell me to cancel that order and place again I place order again 28 January 2021 they not give the product and and dialy calling not solve the problem and today they cancelled product and and give back the giftcard only use that on flipkart can't use other ecommerce website zestmoney not take back and in flipkart products not arrive I wait for 73 dayFlag This ReviewIrrelevantFakeJunk   Thank You! We appreciate your effort.\",\n",
              "  array([-0.03912381, -3.3695831 , -5.5303793 ], dtype=float32),\n",
              "  0,\n",
              "  'Negative'),\n",
              " (\"I purchased a Motorola Washing machine from Flipkart as Motorola was a known brand and Flipkart claimed that the washing machine is MADE IN INDIA. After receiving the product I saw that it is actually a Chinese product. This is clear cheating by Flipkart. I would suggest not to go on the name of Motorola as these products are only made for and marketed by Flipkart under the brand name of Motorola. Motorola doesnÃ¢â\\x82¬â\\x84¢t even have support or warranty for these products and it all handled by Flipkart in-house warranty and support. There is no BEE rating as claimed by Motorola of having a 5-star rating.If you have purchased it with an exchange, then you will never get back your old washing machine if you return this Chinese product.Another thing I got to know is(informed by Flipkart agent on call), Flipkart will never post your negative review comments stating it's a violation of T&C.https://flipkart.com/motorola-10-5-6-kg-smart-wi-fi-enabled-inverter-technology-washer-dryer-in-built-heater-grey/p/itm85d71cc98e9f5?pid=WMNFSMEAZUFWXVY7&lid=LSTWMNFSMEAZUFWXVY7OUHF0BFlag This ReviewIrrelevantFakeJunk   Thank You! We appreciate your effort.\",\n",
              "  array([-0.04359365, -3.3372545 , -4.9444704 ], dtype=float32),\n",
              "  0,\n",
              "  'Negative'),\n",
              " (\"Hey friendsSince im using flipcart for over 3 years I'm going to share a honest opinion.i think that flipcart is better than amazon not because of just it is an indian app but because of the service they provide.i have bought so many products from Flipkart and I am completely satisfied with it.The best purchase I made so far is ( in case of money saving) is puma shoes which was worth of 3000 and I got it for only 1200.bang rs 1800 savings. Though I had to wait for 3 months for the offer but its worth it. I got it on diwali sale.i have also bought mobiles like realme x2 pro and redmi note 5 pro and other electronic stuff like pendrives and memory cards and im not disappointed. although if you want to buy anthing on flash sale you probably won't get it. Flipkart needs to work on it.and also flipcart needs to work on their customer services.its not bad but they need to improve it in regards to the refunding and that stuff.The good point is they provide wide range of products and covers almost every corner of country( I think that) . And its app version is better than website its easy to use and now they are adding many regional languages.for the product quality im completely satisfied. I got every product in perfect form. At least I got don't know about others. I would suggest you to buy products from popular companies for good quality and also check the review for the product before purchasing it.in case of delivery I won't say it is amazing like you get product within 2 or 3 days but it is satisfactory ( nowdays its may be late cause of covid 19) . You will get your product within 7 days. So thats it thanks flipcart.Flag This ReviewIrrelevantFakeJunk   Thank You! We appreciate your effort.\",\n",
              "  array([-3.3429995 , -0.80381274, -0.6596154 ], dtype=float32),\n",
              "  2,\n",
              "  'Positive'),\n",
              " (\"Its isn't safe buying things on Flipkart all the time this idiots aren't delivering the ordered items and not refunding the money since two months first they said it will be refunded in 7 days later they said you need to update email id after they have given a date its crossed and not yet received i called them many time they here to me n when they matter comes to refund they keep on hold and disconnect the call these idiots make money with false promises you suckkers, better to go to amazon as service and the quality is A grade.Flag This ReviewIrrelevantFakeJunk   Thank You! We appreciate your effort.\",\n",
              "  array([-0.0315015, -3.6183867, -5.476352 ], dtype=float32),\n",
              "  0,\n",
              "  'Negative'),\n",
              " ('I ordered Firefox mountain cycle on 18-02-2021 you deliver ed it on 22-02-2021 invoice No.#fab1ja2100055263.When l booked the product You assured me that the product is high quality and good as details youbut The productparts (tyre, break, gear, pedals and seat post)you delivered me poor and bad quality product. You are not keep your promise and cheated me by giving bad product.Flag This ReviewIrrelevantFakeJunk   Thank You! We appreciate your effort.',\n",
              "  array([-0.04335659, -3.295664  , -5.2238216 ], dtype=float32),\n",
              "  0,\n",
              "  'Negative'),\n",
              " (\"This is such a great place to get great dealsSo don't miss the chance .Grab the offers and enjoy.Flag This ReviewIrrelevantFakeJunk   Thank You! We appreciate your effort.\",\n",
              "  array([-3.894581 , -1.0372972, -0.4696247], dtype=float32),\n",
              "  2,\n",
              "  'Positive'),\n",
              " ('Dear  team,We order boxing kit on dated 13Feb 2020.and my order delivered by 17 Feb 2020 but order not come same date.i was calling many times for Flipkart customer care but not satisfied answer for me. he says my order delivered by Tommorow and order not come .and I will call same time he answered me order e on 28th Feb 2020 but order not come. Flipkart  services very very bad and pathatic .Flag This ReviewIrrelevantFakeJunk   Thank You! We appreciate your effort.',\n",
              "  array([-0.04672647, -3.2499313 , -4.979905  ], dtype=float32),\n",
              "  0,\n",
              "  'Negative'),\n",
              " ('Earlier I preferred Amazon over flipkart. But in the last one year flipkart has come to the first position. Goods search preferences are very easy and have lots of options for the customers. And supercoins is great initiative by flipkart. Huge variety of products. In fact I look for every single thing on flipkart which I use in my daily life. And I find it here without any hurdle. I recently purchased jockey socks. They just delivered my product within 3 days at a rural place where normal couriet takes more 7 or 10 days. In some cases I order for replacement or refund. They do it as smoothly as they deliver. So, I am totally satisfied with this platform.Flag This ReviewIrrelevantFakeJunk   Thank You! We appreciate your effort.',\n",
              "  array([-3.4518738 , -0.9483724 , -0.54310286], dtype=float32),\n",
              "  2,\n",
              "  'Positive'),\n",
              " ('I like flipkart, as many times I get the same out of stock items from different sites on this in cheaper rates.only problem is their product picture quality is not good if I compare it with Myntra.Flag This ReviewIrrelevantFakeJunk   Thank You! We appreciate your effort.',\n",
              "  array([-3.582124 , -1.2533094, -0.3759667], dtype=float32),\n",
              "  2,\n",
              "  'Positive'),\n",
              " ('Hello Everyone,I would like to bring forward my experience in front of everyone in my friend list, regarding FLIPKART behavior.I ordered a product, basically a \"Shoe\" from Flipkart dated 16th Feb and they delivered it on 18th Feb at 4.25 PM.On opening the box, it was totally different product with colour & shape all different. I filled a replacement request on same date around 5.30 PM. Post it, I have got an email from #Flipkart asking me to send them actual product pics and my PHOTO ID(PAN/AADHAR CARD) which I sent  within duration mentioned in the email.After sending all the details, I never got any reply from #flipkart and I did so many followups on customer care.They even blocked my account without any notice and now they are totally denying for return/replacement of the actual product. Now I am not able to give any review / ratings on the products.Also, they had rejected my replacement request on #FlipKart account without any reason.I raised a complaint regarding account suspension, they replied to me that I did so many return request history hence my account is blocked while I only raised a request one time for the product I bought on flip kart. I have all the written proof in email.Please stay away from #flipkart, they are number one cheater in India. Please stop using #Flipkart otherwise same issue can happen with anyone in near future.This is an information for everyoneÃ¢â\\x82¬â\\x84¢s sake.Flag This ReviewIrrelevantFakeJunk   Thank You! We appreciate your effort.',\n",
              "  array([-0.03742738, -3.4408188 , -5.3607745 ], dtype=float32),\n",
              "  0,\n",
              "  'Negative'),\n",
              " ('I bought Vu Cinema TV 65\" from flipkart. The product description mentions it has 100 Watt JBL speakers which was costing 10k additional from other model of Vu 65\". only difference was 100 Watt JBL speakers. When I receive the product - speakers were not JBL and the technician also confirms its not JBL speakers.They are cheating the customers with wrong information in the description.When I wrote the review they have not posting in the website even after many complaints raised regarding my review, I see only positive review more than 95%. Now I confirmed that the reviews are managed and Fake. please do not believe in the reviews posted.Flag This ReviewIrrelevantFakeJunk   Thank You! We appreciate your effort.',\n",
              "  array([-0.03154736, -3.602399  , -5.5736027 ], dtype=float32),\n",
              "  0,\n",
              "  'Negative'),\n",
              " (\"Website - Flipkart.comFlipkart is an online shopping company. It is an e-commerce company. At first, they only sold books. They sell all kinds of products now like lifestyle products, fashion products, groceries, etc.This website is good for the seller and buyer. If I compare Flipkart with other online shopping websites, the value of the product is cheaper than other websites.The interface of the website is very easy, searchable & has a beautiful so everyone is attracted.  Flipkart is a top e-commerce website in India so there is no trust issue about fraud. I am buying some of the things like laptops & iPad from this website.  Flipkart always provides me fast delivery. They send products within 5 days which is better than other websites. The discounts are very impressive on this website. Most of the time payment is a big issue for the customers. In Flipkart, anyone can buy easily because of the various payment methods, and also Flipkart has a COD option. And if you don't like the products or the product is damaged you can get a return or replace of your product. You can get always get support from their customer service.Flipkart also has an application for Android and iOS, so people found no trouble shopping online. And this app is very good and easy to use.Big billion day is a most attractive event on their website, on this day you can find or buy your product at the cheapest price. So you can completely rely on their website about shopping. And I trust this website very much.Thank you for reading this review.Please like this review.Flag This ReviewIrrelevantFakeJunk   Thank You! We appreciate your effort.\",\n",
              "  array([-3.4195602 , -1.240675  , -0.38848382], dtype=float32),\n",
              "  2,\n",
              "  'Positive'),\n",
              " ('Refund process very.... poor service and more then that, agents are mad mad to understand the issue, customer service agents are hopeless , cs is meant to reslove the issue but these increases our issue and frustrating level, it a harassmentFlag This ReviewIrrelevantFakeJunk   Thank You! We appreciate your effort.',\n",
              "  array([-0.03681377, -3.4350767 , -5.541299  ], dtype=float32),\n",
              "  0,\n",
              "  'Negative'),\n",
              " ('I taken loan in Flipkart cardless credit services. I paid all the dues but the Flipkart app still not updated. So many times I given complaint to the customer service persons but there is no response from their side. I am very unhappy with Flipkart service. So that is why I am reducing the products to buy in the Flipkart, I am going to the take products in the other websitesFlag This ReviewIrrelevantFakeJunk   Thank You! We appreciate your effort.',\n",
              "  array([-0.02992883, -3.693377  , -5.3822246 ], dtype=float32),\n",
              "  0,\n",
              "  'Negative'),\n",
              " ('I have booked a SpiceJet flight ticket from Bangalore to Vijayawada which was scheduled on 9-Feb-2021.But the flight has been cancelled by Airline on 9-Feb-2021 and the Airline has refund back the amount of INR 5552 rupees to Flipkart. But the Flipkart is refunding to me only INR 4567 rupees.I have also attached the photo of the refund amount that SpiceJet is refunding because of cancellation of flight by airline.Also attached the photo of the refund amount that flipkart is giving back to meSpiceJet refund to Flipkart= INR 5552Flipkart refund to me= INR 4567PNR No.: S6563LBooking ID: FF21012512365189So never and ever book the flight tickets from Flipkart website. Please do it either from the airline website or any other websites but not from FlipkartFlag This ReviewIrrelevantFakeJunk   Thank You! We appreciate your effort.',\n",
              "  array([-0.02729749, -3.7554746 , -5.6439433 ], dtype=float32),\n",
              "  0,\n",
              "  'Negative'),\n",
              " (\"It's completely fraud, you may need to forget your refund if your flight get cancelled. They will not respond to you and will never get any resolution or refundFlag This ReviewIrrelevantFakeJunk   Thank You! We appreciate your effort.\",\n",
              "  array([-0.02784497, -3.767295  , -5.438395  ], dtype=float32),\n",
              "  0,\n",
              "  'Negative'),\n",
              " (\"Flipkart is one of the Top E-commerce website in India. Flipkart has always provided me fastet delivery within 3 days, (I belong to rural region, 3 days delivery is also fast for my location)The differs Flipkart from Other E-commerce website is their Promocodes, offers high discounts. Probably 95% of all my Online shopping is done through Flipkart.!Most of the times on other sites Price is shown more than MRP, But on Flipkart it is Same or Less than that MRP. Moreover all the needed products are available on Flipkart at affordable price.!Flipkart also offers you an opportunity for earning through affiliate marketing.Most of the times Payment is also a big issue. Flipkart offers a wide variety of payment methods and also refund is done within the stated time.Flipkart cares for the customer much seriously, takes feedback each and every time and solves the issues. This impressed me alot. O had given a suggestion to Flipkart, thought they will just read it and leave. But they read and implemented that suggestion. Amazing.!This is another kind of happiness that we can't express. A Billion dollar company takes your opinion and implements it within weeks.!Flipkart has Super Coin system which is also very good, my friend orders alot high prices products and gets super coins in respective ratios. Those products if had purchased from market will had cost him nearly 20-30% higher than purchased from Flipkart at discounted price. Moreover he had got alot super coins. Simply Sone pe Suhaga.!Flag This ReviewIrrelevantFakeJunk   Thank You! We appreciate your effort.\",\n",
              "  array([-3.5601215, -1.0329286, -0.4851551], dtype=float32),\n",
              "  2,\n",
              "  'Positive'),\n",
              " ('I ordered a cooker in flipkart, I received today. It contains old cooker of somebody else. But the bill I got for what I ordered. Shame on this work for earning money on cheating customers.Before that I got a study lamp. After five days the lamp is not working. I received it without charger for the study lamp. All the time we are cheated by flipkart service. Whatever price is fixed by them they are getting from customers. Then why you want to cheat them. This is hurting emotionally to the customers.Flag This ReviewIrrelevantFakeJunk   Thank You! We appreciate your effort.',\n",
              "  array([-0.03469195, -3.5366442 , -5.3010674 ], dtype=float32),\n",
              "  0,\n",
              "  'Negative'),\n",
              " (\"They are doing fraud with customers, I didn't receive what I ordered, instead received some cheap quality expired products (Co). There are in total 4 different types of products in one and all are cheap quality expired ones. Didn't expect from flipkart . I highly recommend not to buy from here. They are cheaters. Order ID- OD120979334782269000Flag This ReviewIrrelevantFakeJunk   Thank You! We appreciate your effort.\",\n",
              "  array([-0.0333495, -3.5886436, -5.266089 ], dtype=float32),\n",
              "  0,\n",
              "  'Negative'),\n",
              " ('Flipkart was known as best selling website. But now it starts fraud with customer. It receives payment but doesnt deliver the item. I am facing it with flipkart. When i complaint they give just date of resolution but nothing happens. Even they dont response on mail. Helplessely, I have planned to file a case against flipkat and almost 90 percent work is completed in this regardFlag This ReviewIrrelevantFakeJunk   Thank You! We appreciate your effort.',\n",
              "  array([-0.03432825, -3.5600975 , -5.2382355 ], dtype=float32),\n",
              "  0,\n",
              "  'Negative'),\n",
              " (\"I am a regular customer of flipakart and have been using it for a very long time now. It's service is usually good and their product qualities are amazing but now a days ( since around December end) they have been delaying all my packages by weeks, I had to cancel an order and reorder the product because it was just taking way too long.Flag This ReviewIrrelevantFakeJunk   Thank You! We appreciate your effort.\",\n",
              "  array([-0.03450194, -3.5839052 , -5.091874  ], dtype=float32),\n",
              "  0,\n",
              "  'Negative'),\n",
              " (\"I was buy a product from flipkart it is warranty for two years, After 9 month product was not working so when I was trying to replace/ repair the product But I called customer care so many time but they have never given the solution Also when I am explain to cc team they are discounting the call so many time. money is don't matter. But I have never ever seen this worst companyFlag This ReviewIrrelevantFakeJunk   Thank You! We appreciate your effort.\",\n",
              "  array([-0.03150809, -3.635233  , -5.3732433 ], dtype=float32),\n",
              "  0,\n",
              "  'Negative'),\n",
              " ('Recently, I have bought fire tv stick worth of 2799 and hence, its working nice no problem in fire tv stick. All things are provided in the box.Flag This ReviewIrrelevantFakeJunk   Thank You! We appreciate your effort.',\n",
              "  array([-2.4638495, -0.8530552, -0.7158383], dtype=float32),\n",
              "  2,\n",
              "  'Positive'),\n",
              " ('I want to say that Flipkart is goidythan Amazon. Becouse its service, mannerisms, the type to show their content. Example: - If u go on Amazon to buying Headphones or any other thing which came guarantee or warranty, in Flipkart they clearly show that this product comes in one year or moths or no warranty and guarantee but in amazon its no shown. I also feel that customer service of Flipkart is better than AmazonFlag This ReviewIrrelevantFakeJunk   Thank You! We appreciate your effort.',\n",
              "  array([-3.0379496, -0.8625855, -0.6348829], dtype=float32),\n",
              "  2,\n",
              "  'Positive'),\n",
              " ('I am surprised to see that they have a rating of more than one star!!!! The reliability and customer experience is pathetic. After promising a delivery date they tend to have \"operational issues\" hence justifying a delay. To say that I won\\'t be using their services is an understatement. If u plan on getting a gift for someone please stay away from these guys as they couldn\\'t care less about your order or delivery reasons. It\\'s funny how the customer service team does not have any contact channels with the logistics team like seriously. Worst experience ever if ther was an option to rate them no stars or better still minus stars I would do that.Flag This ReviewIrrelevantFakeJunk   Thank You! We appreciate your effort.',\n",
              "  array([-0.03099162, -3.6174014 , -5.6092124 ], dtype=float32),\n",
              "  0,\n",
              "  'Negative'),\n",
              " (\"The worst support I have ever seen by the Flipkart executive Neha and Rohit. When you request for call support then you will get a call but in some time they will cut the call without providing the assistance. Flipkart support is useless.I want to contact them because in the order they have missed one item for that I have paid. But didn't get any assistance.Flag This ReviewIrrelevantFakeJunk   Thank You! We appreciate your effort.\",\n",
              "  array([-0.0340505, -3.5449955, -5.3798585], dtype=float32),\n",
              "  0,\n",
              "  'Negative'),\n",
              " ('I use this website. My experience and opinions, you use this website safe and trusted. I order any product this website and who that very come soon. Which every product branded and quality in smart. My experience too good .??????Flag This ReviewIrrelevantFakeJunk   Thank You! We appreciate your effort.',\n",
              "  array([-3.6154916, -1.4538059, -0.3018932], dtype=float32),\n",
              "  2,\n",
              "  'Positive'),\n",
              " (\"Okay you will get people around you insisting you to go for Amazon prime subscription because you will get good series , free shipment and lot more. But do you know you can get the same flipkart plus completely free! ? Yes you heard that right, play the flipkart games earn your supercoins and you can take subscriptions of flipkart,  youtube premium, zee5, sonyliv, lenskart, disney hotstar and lot more. Yeah yeah I know there are lot more benefits. But above all everytime I shop from flipkart there is a sense of pride I guess just because it is an Indian brand. I don't know but I hope this helps. Thank you ??Flag This ReviewIrrelevantFakeJunk   Thank You! We appreciate your effort.\",\n",
              "  array([-3.2808719, -0.8385253, -0.634771 ], dtype=float32),\n",
              "  2,\n",
              "  'Positive'),\n",
              " (\"Best Online Shopping Safe and secure....i am always buying This App This product is good....so niceb  Josh'sFlag This ReviewIrrelevantFakeJunk   Thank You! We appreciate your effort.\",\n",
              "  array([-3.9628577 , -1.2310612 , -0.37250128], dtype=float32),\n",
              "  2,\n",
              "  'Positive'),\n",
              " ('Flipkart is one of the best site for online delivery. I always got my order by time. I also found Every type of products from reasonable to expensive. For purchasing electronics and mobile phone its best site.Flag This ReviewIrrelevantFakeJunk   Thank You! We appreciate your effort.',\n",
              "  array([-3.8029392, -1.1510472, -0.4134123], dtype=float32),\n",
              "  2,\n",
              "  'Positive'),\n",
              " (\"I ordered a watch in flipkart and many more things like boxes and all around a month ago but i haven't received any of it.Still nowFlag This ReviewIrrelevantFakeJunk   Thank You! We appreciate your effort.\",\n",
              "  array([-0.03656831, -3.4809291 , -5.272851  ], dtype=float32),\n",
              "  0,\n",
              "  'Negative'),\n",
              " ('They doesn\\'t even know whether their products have reached their end customers or not. Such an irresponsible employees. Without even caring about the product being reached the destination, they just close the case and remain silent. It is we general public who have to go behind them and ask for the product which would be paid already(via digital payment). Moreover, upon asking them the status, their reply would be, \"Your time to report anything about our product is over, we can\\'t take your case.\" Rubbish Flipkart. Never ever take it\\'s service. Worst online shopping company in the world.Flag This ReviewIrrelevantFakeJunk   Thank You! We appreciate your effort.',\n",
              "  array([-0.03189671, -3.6209757 , -5.3737335 ], dtype=float32),\n",
              "  0,\n",
              "  'Negative'),\n",
              " (\"I have been using this application last 3 years and I am pretty much happy with their services. The packaging is also good. Their service is just an awesome it delivers the material within 5 to 6 days as per your order. Even they had started their big billion day offer which is just great services for everyone. It has started it's super coin sevices by which we can redeem it for several thing like while ordering something you can use it even you can use it too for your subscription of yourself in flipkart or in hotstar and more.In simple word I would depend on it apart from other app.Flag This ReviewIrrelevantFakeJunk   Thank You! We appreciate your effort.\",\n",
              "  array([-3.7985053 , -1.1722643 , -0.40357074], dtype=float32),\n",
              "  2,\n",
              "  'Positive'),\n",
              " ('I have been facing refund money issue since more than one year. Still there is no proper response from Flipkart Customer care team.I have booked 2 flight tickets in 29.09.2019.Airindia(Booking ID - FF1909291430910) and Emirates Airlines(Booking ID - FF1909291447264) through flipkart.Both the flight was canceled due to Covid19 Pandemic lockdown. From March to June 2020, I was continuously doing mailed to Flipkart and respective airlines and trying to contact those guys for my refund, but no response. Mid-June, I got contact with Air India and Emirates airlines. Both say that, please talk to Flipkart regarding refund, then again, I talked to Flipkart, they talked to air-lines for refund, from both sides, they were doing the same for 2 months. I was continuously contacted by both of them. the end of July, again I mailed to Flipkart regarding this issue, she replied me to cancel that ticket, but in the Flipkart app, they were not any option to cancel it, so from Flipkart team, they canceled one of my ticket and they said you have to wait 15 days for refund and 15 days for canceling the process. Then I called on 4th Nov 2020. From that day till now, I am still waiting for my refund. Now, One customer care said, \" the applicable refund, credit shell, free rescheduling, or any other guidelines shall be shared with you within 15 days, \". Another customer care said to me \"it will take up to 120 days\". May you please tell me, how you provide your services to your customers?Even then I didn\\'t get any update, any cancellation message from flipkart on this. After communicating with Air india & Emirates Airlines, its being confirmed that the amount has already been refunded to Flipkart. Since then I am continuously following up with flipkart team using calls, e-mails, but the response is pathetic. The customer care puts my calls on hold for a long-long time and commits that the issue will be taken care on priority and amount will come in 24 hrs. Today it\\'s been more than one Year, I still did not get my money back. I am completely frustrated with Flipkart and it\\'s disgusting process. The amount is huge and important for me. The payment medium was Credit card and the due date has already been reached. Bank is applying penalty and don\\'t know who is going to compensate it?Flag This ReviewIrrelevantFakeJunk   Thank You! We appreciate your effort.',\n",
              "  array([-0.03188724, -3.6083944 , -5.4517446 ], dtype=float32),\n",
              "  0,\n",
              "  'Negative'),\n",
              " ('I have never experienced such pathetic experience as I shared with Flipkart.. Flipkart tests patience of customer and Flipkart is definitely capable of giving anxiety attack to any customer.. My refund for one product was delaye for 10 month.. request for replacement for another product got rejected without any reason and my third product never delivered.. waiting since one and half month and they have no solution for it.. Any shop in a street provides better service than FlipkartFlag This ReviewIrrelevantFakeJunk   Thank You! We appreciate your effort.',\n",
              "  array([-0.03433033, -3.5569398 , -5.2549324 ], dtype=float32),\n",
              "  0,\n",
              "  'Negative'),\n",
              " (\"Whenever I cancel my product from Flipkart...why does it take so long to credit my refund...I always face this problems with Flipkart ...why refund takes 7 days ...can't Flipkart transfer money on the same cancellation dayFlag This ReviewIrrelevantFakeJunk   Thank You! We appreciate your effort.\",\n",
              "  array([-0.03278679, -3.560563  , -5.5642977 ], dtype=float32),\n",
              "  0,\n",
              "  'Negative'),\n",
              " (\"Flipkart is a good but not better, even many times it's make your mood off , I had purchased many items from this website but never satisfied ever .As we saw tha images and quality of items on the website totally lied , 'digging the mountain , and get tha rat ' most of the time we suffer this situation while we order something ,The most of the things are costly than its quality and quantity ,So I got many times wroste things and then I want to return back during this process I wasted times only.Flag This ReviewIrrelevantFakeJunk   Thank You! We appreciate your effort.\",\n",
              "  array([-0.03010467, -3.6505408 , -5.605115  ], dtype=float32),\n",
              "  0,\n",
              "  'Negative'),\n",
              " ('My First Experience with Flipkart totally ended with worst experience.I purchase dvd from flipkart.They send empty box.I contact their customer care.they are fooling customers.i ask them to take the defective product.they said to me asked  me  to submit id proof taken back faulty product.they are fooling customers with worst policies.I will never buy from fakecart. Cheaters. Any body please tell me how to delete flipkart account permanently?.Wasting my time and money.All Customers go to amazon india best service.Flipkart F.k Cart.Flag This ReviewIrrelevantFakeJunk   Thank You! We appreciate your effort.',\n",
              "  array([-0.04658299, -3.205327  , -5.3045206 ], dtype=float32),\n",
              "  0,\n",
              "  'Negative'),\n",
              " ('In my opinion Flipkart is one of the best sites to buy a product. Their prices are always less comparable to other sites and also good customer service and care. Earlier I used to purchase from amazon all the time but I found out there is a huge difference in cost on the same product on both the sites. Now I always use Flipkart. I ordered this phone from Flipkart and it got delivered before time and minimum delivery charges.Specifications:Model : Lava A1 joshManufactured: Nov 2019MRP: 1029/_Flag This ReviewIrrelevantFakeJunk   Thank You! We appreciate your effort.',\n",
              "  array([-3.1192925 , -0.86175245, -0.6285016 ], dtype=float32),\n",
              "  2,\n",
              "  'Positive'),\n",
              " ('I had ordered a cell phone on 24 jan 2021 on Flipkart. I got sms on 28 jan 2021 that the mobile will be delivered \"today\". I kept waiting all day but nothing arrived. Now on the morning of 29Th jan 2021, I again got message that the mobile will be delivered \"today\". lets see whether flipkart delivers today or notFlag This ReviewIrrelevantFakeJunk   Thank You! We appreciate your effort.',\n",
              "  array([-0.04535019, -3.2732167 , -5.0432377 ], dtype=float32),\n",
              "  0,\n",
              "  'Negative'),\n",
              " ('Last year I purchase Wheezal hekla lava toothpowder pack of two in rupees of 198. The delivery was too late and I also get one toothpowder. I called customer care and told about this, they said to me to use the product and they will return my money in one week. I used the product but after one week they refused to give me my money. After that I delete my flipkart account.Flag This ReviewIrrelevantFakeJunk   Thank You! We appreciate your effort.',\n",
              "  array([-0.04123146, -3.3610375 , -5.168384  ], dtype=float32),\n",
              "  0,\n",
              "  'Negative'),\n",
              " ('Product: iPhone 12Price: 75, 560Purchase date: 26 Dec 2020-28 Jan 2021: More than one month,The issue is still not resolvedFlipkart Shopping â\\x80\\x93 A HOAXâ\\x80¦ Beware of defective productsYour both time and money will go wasteâ\\x80¦â\\x80¦â\\x80¦.Once you receive a defective item, you only will be responsible for your product, even in the replacement period. Such rules and regulations will be imposed by them that the customer becomes frustrated and gives up.Flag This ReviewIrrelevantFakeJunk   Thank You! We appreciate your effort.',\n",
              "  array([-0.04342016, -3.297992  , -5.1969028 ], dtype=float32),\n",
              "  0,\n",
              "  'Negative'),\n",
              " ('1st feedback to mouthshut. U should not start with min 1 star. How do you know thay flipkart even deserve 1 star. They deserve not more than a BIG ZERO. thats right. Flipkart sucks. They are now china funded hence the quality of their product is also duplicate and defective.Their support service is worst in the industry line. Their return policy is worst on this planet and may be poorar than Mars.I wish on Mars they only give permission to companies like Amazon.Ban flipkatt5. Ban china. Ban chinese products and ban companies funded by China.I feel like just abusing them. I had my lifes worst experience with flipkart.1st of all they sell smuggled mobile where there is no IMEI number itself. 2nd on confirmation from their technician they still dont return or replace the mobile. The mobile is not detecting SIM from day 1 it arrived. No face recognition. Airplane mode by default showing half enabled half disabled. What kind of new devicr it was? And people whoever gives flipkart mote than 1star are all fake buyers and they r also imoorted from China.I am talking about Samsung Galaxy S20+. Please do not buy from Flipkart. Speciallu costly products as they first of all sell duplicate smuggled devices and on top of that if that doesnt work ur money is gone like i am stuck. Dont know which planet i am living.I have attached serial number of mobile so that if you get the same return it immediately.Flag This ReviewIrrelevantFakeJunk   Thank You! We appreciate your effort.',\n",
              "  array([-0.0307497, -3.6488295, -5.4584537], dtype=float32),\n",
              "  0,\n",
              "  'Negative'),\n",
              " ('Flipkart takes more time for the delivery of the product and charges more than amazon charges for delivery of the product. I use this online shopping very rare to buy any product from this.Flag This ReviewIrrelevantFakeJunk   Thank You! We appreciate your effort.',\n",
              "  array([-0.04185151, -3.3665855 , -5.0389557 ], dtype=float32),\n",
              "  0,\n",
              "  'Negative'),\n",
              " (\"Placed order on 19th of January and my expected delivery was 25th January and I am still waiting for the delivery. Their Logistics arm called E-Kart only shows repetitive time-stamps, dates, and places which makes absolutely no sense while tracking. If you don't believe my words, you guys can track and see yourselves.my tracking number FMPP0669280413.Flag This ReviewIrrelevantFakeJunk   Thank You! We appreciate your effort.\",\n",
              "  array([-0.03103334, -3.6595895 , -5.3362865 ], dtype=float32),\n",
              "  0,\n",
              "  'Negative'),\n",
              " (\"I had booked flight from flipkart,  it got canceled by the airlines due to bad weather..the airlines provided me full refund  but as the ticket was booked through flipkart ..they didn't refund me back ..n then after raising concerns for hundred times, they refunded me half the amount that too after one month...highly disappointed..pathetic service ..stupid customer care...please never use flipkart travel....it is a fraud.Flag This ReviewIrrelevantFakeJunk   Thank You! We appreciate your effort.\",\n",
              "  array([-0.0327088, -3.5650544, -5.550848 ], dtype=float32),\n",
              "  0,\n",
              "  'Negative'),\n",
              " (\"Such disgusting app with fake deals and no one is accountable to us. Delivery boys are cancelling orders on their own. They don't stick to their own deals and wordsFlag This ReviewIrrelevantFakeJunk   Thank You! We appreciate your effort.\",\n",
              "  array([-0.03493533, -3.5146484 , -5.3873897 ], dtype=float32),\n",
              "  0,\n",
              "  'Negative'),\n",
              " ('I always order my  things from flipkart just because of the simple fact that the product I order is always best and the thing which are shown in picture stays the same after gets delivered. delivery boy behaves always politely.Flag This ReviewIrrelevantFakeJunk   Thank You! We appreciate your effort.',\n",
              "  array([-2.954419  , -1.0213275 , -0.53141195], dtype=float32),\n",
              "  2,\n",
              "  'Positive'),\n",
              " (\"I've ordered  soo many thing on flipkart not only  colthing I have buy many thing and flikpkart will give u a qualtiy products and which shown in pic that only they will give and you also get so many discount on grocery and  today's busy life  you will get your products  on our doorsteps soo go for it and ordering you also get supercoin that you can use for  your next order??It is very trust worthFlag This ReviewIrrelevantFakeJunk   Thank You! We appreciate your effort.\",\n",
              "  array([-2.423273  , -0.88088757, -0.69925773], dtype=float32),\n",
              "  2,\n",
              "  'Positive'),\n",
              " (\"Hello guys!Flipkart is a very nice online shopping website.When you order something like mobiles, shoes, clothes and many things; they deliver them in just for 2-3 days.I loved this website.It also give with big discount on festivals.It's product quality are also nice.100 percent good and genuine website.A very awesome website I have ever seen before!Flag This ReviewIrrelevantFakeJunk   Thank You! We appreciate your effort.\",\n",
              "  array([-3.668355  , -1.1883776 , -0.40082633], dtype=float32),\n",
              "  2,\n",
              "  'Positive'),\n",
              " ('If you say that, you only do online shopping these days, everyone does not need to be told, everyone takes everything from home and gets paid for work from the market for money and at home for this reason, online shopping is done today.Flag This ReviewIrrelevantFakeJunk   Thank You! We appreciate your effort.',\n",
              "  array([-2.6681848 , -1.1620545 , -0.48162425], dtype=float32),\n",
              "  2,\n",
              "  'Positive'),\n",
              " ('This is the best shopping platform Flipkart 100% trasted awesome product selling fast delivery serviceFlag This ReviewIrrelevantFakeJunk   Thank You! We appreciate your effort.',\n",
              "  array([-3.5790339 , -1.0749211 , -0.46080965], dtype=float32),\n",
              "  2,\n",
              "  'Positive'),\n",
              " (\"I don't have good experience with this app. It is not that satisfying as it promises. I use two apps for shopping one is flipkart and Amazon. Amazon is great in every line of products as that charges good amount of money but flipkart promises to give high quality products with reasonable price it is not true. I am not that rich so I ordered a dress to wear that on my cousin's wedding but the dress I got was very different from the pic they shown. But I had no choice so I wore it. On that day I swear on myself will never order dresses online.Flag This ReviewIrrelevantFakeJunk   Thank You! We appreciate your effort.\",\n",
              "  array([-1.051951 , -1.1266153, -1.1189708], dtype=float32),\n",
              "  0,\n",
              "  'Negative'),\n",
              " ('Getting error from last 3 days please, resolve this ur so cold tech errors, even amazon is big plateform but never found tech errors, if u stopping customer due to surge in shoppers, than better stop ur flipkart due to selling vaste on thisFlag This ReviewIrrelevantFakeJunk   Thank You! We appreciate your effort.',\n",
              "  array([-0.03773783, -3.4244394 , -5.4110184 ], dtype=float32),\n",
              "  0,\n",
              "  'Negative'),\n",
              " ('We had ordered Cadbury Chokobakes cookies and Cadbury Chokobakes  cakes.Both were boxes were open and one from each box has been removed.We received the delivery today.Flag This ReviewIrrelevantFakeJunk   Thank You! We appreciate your effort.',\n",
              "  array([-0.05048678, -3.167784  , -4.9425077 ], dtype=float32),\n",
              "  0,\n",
              "  'Negative'),\n",
              " ('Last month I was purchase a leather jacket for me but it was totally different by real image and product was very bad it was my first and last shopping with flipcart.comFlag This ReviewIrrelevantFakeJunk   Thank You! We appreciate your effort.',\n",
              "  array([-0.04121189, -3.363091  , -5.159238  ], dtype=float32),\n",
              "  0,\n",
              "  'Negative'),\n",
              " ('I have purchased an voltas  a.c from flipkart..seller was omnitec retail.The product was different so that I have opt for return but it took 15 days for pickup..but afyer pickup its been the day three that has not been updated as picked up and the and god knows when I will get back my refund.Flag This ReviewIrrelevantFakeJunk   Thank You! We appreciate your effort.',\n",
              "  array([-0.03856286, -3.4077983 , -5.3570623 ], dtype=float32),\n",
              "  0,\n",
              "  'Negative'),\n",
              " ('Respected SirI order one sandwich maker philps hd 2394 for rs 1997/_ on 28th  dec 2020. in flipkart On 5th Jan 2021 I was given wrong goods of Philips 2393 I told to replace the goods but both time company gave false promise and took time message is given for referenceMessage dtd 7th for replacePacked: Your Philips HD2394/99 Sand... has been packed. Track here http://fkrt.it/QesW1SNNNNOn 8th again they cancel telling courier cant be delivered after daily mail and fight I was told these messageOrder Update: Sorry, your order for Philips... has been delayed and will be delivered by Thursday Jan 21, 2021. Track your orders here in no time: http://fkrt.it/vX8w17NNNN Thanks for your patience.So I Thought 21st januuary matter wil be cleared but  till evening neither good is replaced neither money is returnedCompany daily making try to foolIt is harrSeement given requesting to give justice.Dhiren trivedi9619413026Flag This ReviewIrrelevantFakeJunk   Thank You! We appreciate your effort.',\n",
              "  array([-0.04262815, -3.3192058 , -5.193817  ], dtype=float32),\n",
              "  0,\n",
              "  'Negative'),\n",
              " ('FLIPKART is the best e commerce site. There Return and refund policy is very good. Customer support is excellent. They  Resolve quarries very fast. They have attractive payment options. I am also a flipkart plus member. I shared 1 issue that was solved in a minute. Maine shocks 12 pieces of Addidas ka order kiya jiska return, exchange and refund nahi  tha per jab maine customer care m baat kari to pahle unhone exchange karaye next day order delivered ho gaya per vo bhi theek nahi tha phir customer support m chat box per chat hui phir unka phone suitable time per aaya unhone return accept kar liya. Next day pick up hote hi mera refund mere wallet m add ho  gaya. There services are excellent. M aapko ek aur aapbiti share karna chahungi. Maine june m lockdown tha jab Lux ke 5 vest liye jinka return, refund aur exchange nahi tha per unke seller n muzhe Rupa bhej diya aur size bhi different maine unke chatbox per jaaker baat ki vahan unhone call ka option diya fixed time per meri unse baat hui aur unhone exchange accept kar liya again same rupa, same size vest hi aa gai fir maine chatbox per kisi agent se baat kari unhone meri problem samazhi aur return and refund accept kar liya pick up hote hi mere paise mere wallet m add ho gaye mere pass aur bhi grocery ke bhi example h. I suggest you to purchase things from Flipkart. It is very good and true e- commerce siteFlag This ReviewIrrelevantFakeJunk   Thank You! We appreciate your effort.',\n",
              "  array([-3.20464  , -1.0807086, -0.4779204], dtype=float32),\n",
              "  2,\n",
              "  'Positive'),\n",
              " (\"Mai hamesha Amazon se hi order karti hun but 1st time Flipkart se order kiya our worst experience hua. Sab ne mana kiya tha flipkart se order karne ko but I tried and now regretting. Double bedsheet order kiya tha delivery me bhi jyada time lagaya aur pura different product deliver kiya. Single bedsheet with totally different colour. There is no option to review this product on flipkart. Can't trust flipkart.Flag This ReviewIrrelevantFakeJunk   Thank You! We appreciate your effort.\",\n",
              "  array([-0.05705623, -3.001352  , -5.160431  ], dtype=float32),\n",
              "  0,\n",
              "  'Negative'),\n",
              " ('The products which they sell is actually not of good qualities and it is shown very nice in the product page . But its not good at all when its delivered.Flag This ReviewIrrelevantFakeJunk   Thank You! We appreciate your effort.',\n",
              "  array([-0.09773999, -2.7212596 , -3.6000073 ], dtype=float32),\n",
              "  0,\n",
              "  'Negative'),\n",
              " (\"Been shopping on flipkart for many years now. Never had bad experiences. Returns are also hassle free. I would avoid buying electronic goods from flipkart though, they have no return policy, only exchange.But there is problem of delivering the item's little late as the date mentioned in theFlag This ReviewIrrelevantFakeJunk   Thank You! We appreciate your effort.\",\n",
              "  array([-0.04806791, -3.2054088 , -5.053224  ], dtype=float32),\n",
              "  0,\n",
              "  'Negative'),\n",
              " ('I am currently experiencing one of the worst Customer Service from Flipkart with their CS and Escalation teams showing no humanity or customer service traits to solve my problem which, I pray to God, no one should endure.It all started when I purchased Samsung 1.5 Ton 5 star rated inverter type model AC - 2 qty from the Flipkart website for both of our bedrooms. The product was delivered on October 21, 2020. Flipkart\\'s website shows that they would send a \"Brandâ\\x80\\x99s authorized service engineer to carry out the installation.\" A couple of people came and installed the AC and we also purchased from them stabilizers that would perfectly compliment the air conditioners.The air conditioners worked perfectly well until January 13, 2021. On that fateful day, one of the air conditioners(indoor part) fell off from the wall dragging the Stabilizer along with it. The machine was not even running at that time. Close to the wall was our bed. While the indoor unit fell on my 12-year-old son, the hefty stabilizer fell on me. The indoor unit also damaged the 5 feet X 6 feet canvas painting of my children hanging on the wall. It took a lot of time for me to come out of the shock.My initial move was to contact Samsung. To my surprise, I found that neither of my Samsung air conditioners was registered with them. They informed that the installation was not carried out by Samsung\\'s personnel. For this reason, they denied providing any sort of assistance since the problem was not with the machine but due to poor installation procedure carried out by the \"Brandâ\\x80\\x99s authorized service engineer\" sent by Flipkart.From then on, I am running from pillar to post to get this issue resolved but none of the Flipkart employees, be it regular customer service agents or the escalation team, care to resolve the issue. I have made and received many calls but none of the Flipkart personnel with whom I spoke had the intent to solve the issue.Leave alone showing intent to help me on this issue. When I called Flipkart initially and explained to them what had happened, they did not even were showing basic humanitarian concern to know about the safety of me and my kid. Kudos to Flipkart for letting me realize the divinity of customer service. After so many conversations with them, as of January 16, 2020, at 8:00 PM they are asking me to contact either Samsung or the \"Brandâ\\x80\\x99s authorized service engineer\" sent by Flipkart. I do not find any logic in calling either of them as the  \"Brandâ\\x80\\x99s authorized service engineer\" that was sent to mount the air conditioner was not my choice but Flipkart\\'s. And calling Samsung is out of the question because the issue itself is not about the product\\'s performance.I am attaching the pictures of the product showing the current scenario. If at all Flipkart wants to resolve this issue, I want some higher authority that can put himself/herself in my shoes and contact me with a solution. Surprisingly, it took them just a couple of seconds to remove the funds from my account but takes ages to find a resolution and I still wait for this multi-dollar company to help this simple man that had spent his hard-earned money.Flag This ReviewIrrelevantFakeJunk   Thank You! We appreciate your effort.',\n",
              "  array([-0.03856263, -3.4433372 , -5.137784  ], dtype=float32),\n",
              "  0,\n",
              "  'Negative'),\n",
              " ('I bought a smart TV with extended warranty from Flipkart.The authorized service representative Jeeves do the installation and service. After 2 years, when the television had a display problem, Jeeves said the mother board needs a replacement.After 3 months, they replaced with a second hand used mother board. When I complained, they apologized, made me wait for another 2 months and again replaced with another second hand used motherboard. Being a smart TV, I\\'m unable to  use any apps, personalize etc.3rd time I complain to Flipkart directly. After prolonging my case for more than 2 weeks, they mark my case as \"Issue resolved\". I again call them up and complain, case is reopened and again after 2 weeks, they mark as \"Issue resolved\"When I try to reopen the ticket, there are no options at all.Pathetic customer service, horrible after sales warranty support.Do not buy anything from Flipkart.Flag This ReviewIrrelevantFakeJunk   Thank You! We appreciate your effort.',\n",
              "  array([-0.03994301, -3.3655255 , -5.3791146 ], dtype=float32),\n",
              "  0,\n",
              "  'Negative'),\n",
              " (\"Worst travel portal . They cheat people and don't refund money .I have not received my refund for more then a month now ..spoken to almost 20 customer service representativeFlag This ReviewIrrelevantFakeJunk   Thank You! We appreciate your effort.\",\n",
              "  array([-0.03106188, -3.6550794 , -5.3549    ], dtype=float32),\n",
              "  0,\n",
              "  'Negative'),\n",
              " ('Poor service. The delivery agents from flipkart are very unprofessional. The customer service is totally helpless and drag the issue until you are fed up following up.Recently purchased Samsung TV from flipkart, the wishmaster from flipkart was in total hurry and picked the tv mount attached and also instead of TV remote he took the DTH remote. Literally no proper follow up from Flipkart Team. I had to incur a loss of around 1800.Flag This ReviewIrrelevantFakeJunk   Thank You! We appreciate your effort.',\n",
              "  array([-0.03063444, -3.6706102 , -5.3582697 ], dtype=float32),\n",
              "  0,\n",
              "  'Negative'),\n",
              " (\"Guys it's a humble request don't purchase anything from Flipkart. Its a pathetic website. They take decision on behalf of customer and doesn't even consult a customer once... it takes more than 10 days to deliver a product... highly disappointed... my first and last order from this third class website, also it CEO and founder don't respond on your email and Twitter so I request you all ( who is reading my reviews) please don't purchase anything from here rather switch to Amazon or Myntra( boycott flipkart)Flag This ReviewIrrelevantFakeJunk   Thank You! We appreciate your effort.\",\n",
              "  array([-0.03195709, -3.613511  , -5.4048142 ], dtype=float32),\n",
              "  0,\n",
              "  'Negative'),\n",
              " (\"#Deepanshu Sardana - 989973xxxx#Order I'd - OD220545569749466000#DO NOT CONTACT ON# REGISTERED MAIL ID OR CONTACT NUMBER AS ORDERED FOR ME BY SOMEONE.#.Guys it is my humble request from you to look into the matter as no one is bothered in #flipkart about their consumers and their hard earned money, wherein the company has already captured my money since 22nd Dec, 2020.As I have ordered a product on 22 Dec 2020 and I am sitting now on 11 Jan 2021 & I haven't received my product and not any kind of positive update from Flipkart people.Each time I am calling so called customer care people or senior desk or supervisors or even escalation team #digitalmarketingEveryone is just saying sorry and giving me a new timeline, all the time wait for another 24 to 48 hours.Finally on 3rd Jan 2021, #socialemedia team came into the pictures and committed me that your order will be packed and shipped on 06th Jan 2021 you will receive your product maximum by 9th of Jan 2021 but today on 11 Jan 2021, I am again sitting on the same situation.What is happening here guys have raised the issue on #socialemedia still no one is bothering, I seriously fail to understand the challenge you people are facing while resolving the issues.At Least provide some contact details wherein I can speak to some for any kinda update as there is no update on your customer care numbers.#AND FOR GOD SAKE PLEASE PROVIDE A SINGLE PERSON TO TALK TO. HOW MANY TIMES I NEED TO EXPLAIN EACH AND EVERY THING TO EACH ONE OF YOUR EXECUTIVES.SERIOUSLY VERY VERY BAD ATTITUDE AND CLIENT SERVICE.My paan wala provides better service than you guys, wake up people.I am working from home these days and I don't have a good phone to use and you people are making fun of my problems.I am unable to use my banking services, apps to make payments, considering the pandemic situations and to follow the safety measures I generally use phone pe and google pay but now just because of you guys I am forced to use cash and cards.Who will be responsible if I will come in contact with this Virus and my family is also connected with me and I have kids and seniors as well at home as I am staying in a combined family.I am facing a very bad mental trauma and harassment, is this the way you people treat your customers.# I do not want the refund, I just need my product as soon as possible so that I can work, I am unable to do my work as of now considering #WorkFromHome# in this pandemic situation.PLEASE DO SOMETHING ASAP AND AS OF NOW I NEED A SINGLE PERSON TO TALK WITH.Flag This ReviewIrrelevantFakeJunk   Thank You! We appreciate your effort.\",\n",
              "  array([-0.03803109, -3.4461129 , -5.2125554 ], dtype=float32),\n",
              "  0,\n",
              "  'Negative'),\n",
              " ('I have wrost experience with Flipkart as a seller . I want to start my business with Flipkart before starting they assured me pickup is available on Ur address but after I list my products n all when I receive order they denied pickup is not available because of that my money and time both wasted .I never prefer Flipkart in futureFlag This ReviewIrrelevantFakeJunk   Thank You! We appreciate your effort.',\n",
              "  array([-0.03366583, -3.5426137 , -5.480363  ], dtype=float32),\n",
              "  0,\n",
              "  'Negative'),\n",
              " ('Recently I ordered one jacket from flipKart  and 2 days later I found that the price of jacket drastically reduced( appx 60%) and when I tried to cancel the order, it showed one pop up that the discounted value will be applied to your ordered item and a gift coupon with that value will be sent to your flipkart account. After receiving the item, I was waited but they removed the pop up from my app and when spoke to customer care multiple times, they deny to gave refund and asked me to show the proof . Its a complete data tampering by FlipKart and never I ever trust these site. Please ensure to cross check your ordered items before ordering in this siteFlag This ReviewIrrelevantFakeJunk   Thank You! We appreciate your effort.',\n",
              "  array([-0.03924417, -3.3700914 , -5.4973474 ], dtype=float32),\n",
              "  0,\n",
              "  'Negative'),\n",
              " ('Today flipkart is a big name in online shoppin world am shopping on flipkart from a long time ago and I can say there service is goin pathetic day by day First of all if u are buying 2 products at same time they will charge delivery charges separately  for eg 40 for 1 and 40 for other even if u are ordering them together.second thing there delivery service no doubt they deliver on time but the delivery persons most of them are rude or unmannered, I dnt care type.the person who delivered me maked me wait for 40 minutes, worst thing that at the same place he delivered at the doorstep bt asked me to came at a specific place when I ask him to come at my home answered I cant enter in village.nw they deliver through ecom express whom services are worst of the worsest.Flag This ReviewIrrelevantFakeJunk   Thank You! We appreciate your effort.',\n",
              "  array([-0.03419463, -3.5465868 , -5.3404403 ], dtype=float32),\n",
              "  0,\n",
              "  'Negative'),\n",
              " ('Got my ticket cancelled on 5th December but till now not got refund n every then n now make excuses . Waste of time n money. People of India please be aware of FLIPKART TRAVEL they are bloody thieves n rotate customers money in their business.  We should raise our voice against such fraud companies.Flag This ReviewIrrelevantFakeJunk   Thank You! We appreciate your effort.',\n",
              "  array([-0.03213835, -3.5899606 , -5.514484  ], dtype=float32),\n",
              "  0,\n",
              "  'Negative'),\n",
              " ('I know Flipkart is big and famous  shopping  web site and app .But when I listened that Flipkart is good for shopping .then I ordered a earphone mrp is 399  when this product is delivered after 3 days I shaw that the earphone  cheaper than cheaper. when I use after 15 days right ear lead is off and finally the item is dead in 2 month.Money money is lost because cheap those .when you order they showing good  neat and clear. when delivered you got difference Just like a scamAfter this event I deleted the Flipkart app .At the present time I use amazonFlag This ReviewIrrelevantFakeJunk   Thank You! We appreciate your effort.',\n",
              "  array([-0.05174147, -3.1130204 , -5.1228185 ], dtype=float32),\n",
              "  0,\n",
              "  'Negative'),\n",
              " (\"Titan watche ordered but it's duplicate. Will get duplicate products. Don't trust. When I went to Titan showroom then they said it's duplicate.Flag This ReviewIrrelevantFakeJunk   Thank You! We appreciate your effort.\",\n",
              "  array([-0.04364637, -3.2813234 , -5.2728357 ], dtype=float32),\n",
              "  0,\n",
              "  'Negative'),\n",
              " ('Flipkart makes dellivery of products without making delay infact before the time .And the Item which is ordered is also dellivered in very good conditionFlag This ReviewIrrelevantFakeJunk   Thank You! We appreciate your effort.',\n",
              "  array([-3.0356388, -0.8939729, -0.6107775], dtype=float32),\n",
              "  2,\n",
              "  'Positive'),\n",
              " (\"I ordered a marukawa fusion bubble gum 60 pcs worth rupees 420 from this website called coffycart. They sent me some other product worth rupees 130 . It's really frustrating I tried contacting them many times through mails but they never responded. I tried contacting through a contact no. on website but it's switched off 24 hour's . I don't know what to do please help! I still have the product and the box and the bill as it is they have sent meFlag This ReviewIrrelevantFakeJunk   Thank You! We appreciate your effort.\",\n",
              "  array([-0.04436608, -3.2442129 , -5.4268293 ], dtype=float32),\n",
              "  0,\n",
              "  'Negative'),\n",
              " ('I had ordered a bed table which was damaged, it took me 6 attempts to request a return. The pick up guys created a scene infront of my neighbours even when the technical issue was from their end.Raised it to social media and got a refund along with an assurance that if the product is not picked up in 3 days you may dispose the same.After 9 days, the pickup guy is calling me up at night and saying in a rude tone \"main aapke ghar ke bahar hu jaldi se table de do\", and using phrases like \"to main kya karun fir?\".This is not the kind of treatment and management a consumer (someone\\'s who\\'s not at fault) would expect from both the parties (the shopping app and the delivery company). Would never ever recommend flipkart!Flag This ReviewIrrelevantFakeJunk   Thank You! We appreciate your effort.',\n",
              "  array([-0.03289823, -3.600612  , -5.287188  ], dtype=float32),\n",
              "  0,\n",
              "  'Negative'),\n",
              " (\"Respected flipkart,Order Id- OD12060257966765500I ordered the phone on 28.12.20 on Id -OD12060257966765500 and the date of delivered on 1.01.21  but it hasn't delivered  yet .What is the problem why are you not delivering our phone, While we have pay the payment of the phone completely, even after that, you are not delivering the phone, and even no any single flipkart person  telling and sending any message or reason why the phone is not delivered on 1.01.2020.Please tell me whether you want to deliver the phone or not, if you do not, please refund my payment, please contact me- 9643749056 (tell the reason about our phone , why is not delivered)and If you do not have to deliver the phone, please refund my payment .Next time I would never or nothing like to order from flipkart Because of this issue, you neither do send a message or you are delivering or will not, Next Time will never like to order from Flipkart.Flag This ReviewIrrelevantFakeJunk   Thank You! We appreciate your effort.\",\n",
              "  array([-0.0411134, -3.3586125, -5.203695 ], dtype=float32),\n",
              "  0,\n",
              "  'Negative'),\n",
              " ('I order iPhone Xr 128gbW on 6th Jan 20, but I received a broken old dummy phone instead, for which I olready prepaid 49999rs, Iâ\\x80\\x99m so much in shock and disbelief right now I feel like blacking out or exploding!i am now waiting for my response from Flipkart, cos itâ\\x80\\x99s really heart breaking!waiting for your response.Very dissapointing!Flag This ReviewIrrelevantFakeJunk   Thank You! We appreciate your effort.',\n",
              "  array([-0.0386022, -3.4456894, -5.1186805], dtype=float32),\n",
              "  0,\n",
              "  'Negative'),\n",
              " (\"At first I used Amazon for order anything than my friend suggested me flipkart and I order my frist product from flipkart I am very much impressed by their packaging and fast delivery from that I day order my all things frome flipkart and the main thing is those people who don't do online payments for them their are maximum product have cash on delivery I like this thing of flipkart very much and the price of product are also less from other online shopping apps and maximum of the time their are offersFlag This ReviewIrrelevantFakeJunk   Thank You! We appreciate your effort.\",\n",
              "  array([-3.1686554, -0.7238624, -0.7485244], dtype=float32),\n",
              "  1,\n",
              "  'Neutral'),\n",
              " ('Money not return nd exchange the product also not done  one month past not happy with flipkart no more  to trust on online payment  10time i called in customer service they only tell that i will receive but nothing dFlag This ReviewIrrelevantFakeJunk   Thank You! We appreciate your effort.',\n",
              "  array([-0.04691098, -3.184036  , -5.424001  ], dtype=float32),\n",
              "  0,\n",
              "  'Negative'),\n",
              " (\"I ordered a mixer grinder of Eveready from Flipkart. Seller was Omni tech retail.. I placed the order at 20th December.. they took 15 days to deliver.. at 2nd of January my order was out for delivery , I called delivery boy 23  times but he didn't pic my call. He cut my call every time.. after that seller cancelled the order.. and from 20th December.. I called Flipkart more than 100 times.. but they are not giving me refund.. nor any apologize.. Omni tech retail and Flipkart both are did frod with me.. I m very upset??Flag This ReviewIrrelevantFakeJunk   Thank You! We appreciate your effort.\",\n",
              "  array([-0.03099624, -3.605565  , -5.699192  ], dtype=float32),\n",
              "  0,\n",
              "  'Negative'),\n",
              " (\"Terrible service, Have you felt helplessness lately if not try your luck ordering electronic goods and if by chance you get a defective product, then trust me you are gone. There are many process loops and gaps, and once you are in it there is no returning back. You will be stuck with a defective product no matter what. Extra bonus: they are not customer centric rather they are seller friendly.Brand -> Seller -> Flipkart -> Jeeves -> local technicianSo lets say if you have bought a product and its a defective product, as soon as you initiate a return, there will be a technical visit from a third party, this third party will then send a confirmation about it. Even though the third party agrees on the defect, the flipkart technical team needs to agree upon if they don't you need to again initiate the process and the cycle continues. The brand will come into play post 10 days of delivery. No one can do nothing and you will be left with defective product.Flag This ReviewIrrelevantFakeJunk   Thank You! We appreciate your effort.\",\n",
              "  array([-0.0382981, -3.4376574, -5.215075 ], dtype=float32),\n",
              "  0,\n",
              "  'Negative'),\n",
              " ('My daughter purchased SamsungGalaxy S20FE all payment by gift vouchers and debit card Rs 5000/- balance for exchange mobile value but when delivery man come for delivery he ask more Rs 2700/- for defective mobile and he is pass only Rs 1200/- very fraud by flipkart delivery man please bewareâ\\x80\\x94â\\x80\\x94Flag This ReviewIrrelevantFakeJunk   Thank You! We appreciate your effort.',\n",
              "  array([-0.03353892, -3.5422275 , -5.513009  ], dtype=float32),\n",
              "  0,\n",
              "  'Negative'),\n",
              " (\"The thing is, one dam is bad and no one responds with Flipkart. Talk about changing in 7 days, but you haven't had any contact for 6 days and if that happens, let go of the company you have and change it. If you want to go to customer care and talk, where to go if you want to talk to this Flipkart, don't take anything from Flipkart now, just take it from Amazon.Flag This ReviewIrrelevantFakeJunk   Thank You! We appreciate your effort.\",\n",
              "  array([-0.03210499, -3.6066794 , -5.4141173 ], dtype=float32),\n",
              "  0,\n",
              "  'Negative'),\n",
              " ('I hve 3 yrs experiane in flip cart products.Products and services are very good .One suggestion: kindly provide direct customer care number to contact executives directly with out delaying time.Flag This ReviewIrrelevantFakeJunk   Thank You! We appreciate your effort.',\n",
              "  array([-3.4794178, -1.1238194, -0.4398412], dtype=float32),\n",
              "  2,\n",
              "  'Positive'),\n",
              " (\"I don't know coffycart is  connect with flipkart or not. but before 8days I have ordered bragg's apple cidar vinegar worth rs 510. but this fraud company has delivered chocolates of 100rs pack. I tried to reach them but site is not working & 9137628638 is also sometimes on sometimes off & they continuously ignore customer & wrongly behave. worst experience of online shopping. they used box of flipkart written over it.Guys! don't trust these kind of sites. coffycart worst & fraud site to gain money from customers.Flag This ReviewIrrelevantFakeJunk   Thank You! We appreciate your effort.\",\n",
              "  array([-0.0369182, -3.4638   , -5.311506 ], dtype=float32),\n",
              "  0,\n",
              "  'Negative'),\n",
              " ('Flipkart is fraud website. I have purchased 3 US Polo shirts and when I returned 2 of them they asked for KYC and personal information sharing consent. I denied to share such confidential information. Then they closed my account. I am unable to login now and they are not willing to take the return which is under return policy period.Flag This ReviewIrrelevantFakeJunk   Thank You! We appreciate your effort.',\n",
              "  array([-0.02898282, -3.7010272 , -5.5548444 ], dtype=float32),\n",
              "  0,\n",
              "  'Negative'),\n",
              " ('Hi, I am a Flipkart customer for long time.for eg: I bought an lenovo vibe k5 + on 2016.still nw its good and the delivery also fastFlag This ReviewIrrelevantFakeJunk   Thank You! We appreciate your effort.',\n",
              "  array([-3.4483047 , -0.89799345, -0.5783655 ], dtype=float32),\n",
              "  2,\n",
              "  'Positive'),\n",
              " (\"showing one product with assurance certificate and with out assurance certificate with cost difference. And for assurance product costs more including delivery charges. And in Raaq clutches purchase, I selected cream   but after order I saw black purse with white dots design in 'my orders'. Please send which one is shown, consider customers suggestions.Flag This ReviewIrrelevantFakeJunk   Thank You! We appreciate your effort.\",\n",
              "  array([-0.5974282, -1.2862298, -1.7517817], dtype=float32),\n",
              "  0,\n",
              "  'Negative'),\n",
              " ('I am fully satisfied with delivery system of flipkart.And price system of flipkart is good but some products price is more . Comparing others online shopping sites and apps.But delivery of products and refunding system of flipkart is appreciated.Product quality is good .time limited offers in flipkart give us a good chance to get things in less priceFlipkart site is easy to open weak network connection compared the other online shopping sites.Some time defective items dilevered but the sites provided us 7 days time period to replacement and refund the item.Overall filpkart is a good platform for online shopping .A trustable site .Thanks youFlag This ReviewIrrelevantFakeJunk   Thank You! We appreciate your effort.',\n",
              "  array([-3.4854488 , -0.9954803 , -0.51113564], dtype=float32),\n",
              "  2,\n",
              "  'Positive'),\n",
              " ('Flipkart is the true and best online platform to buy or sell products. I really lobed flipkart a lot. Iam so loved as even for time pass I scroll for shopping in flipkart. Such a genuine and true site the money trasfer delivery date delivery details timings ratings all afe just awesome. And the display of shopping its another level its categories divisions are super cool and makes so easy for your shopping u guys can easily and simply blind this platform. Hasle free connections or ordering selling or what not everything is awesome in this I really appreciate the efforts of the team behind flipkart go ahead with this platform best of luck for everyoneFlag This ReviewIrrelevantFakeJunk   Thank You! We appreciate your effort.',\n",
              "  array([-3.7555227 , -1.1147013 , -0.43294132], dtype=float32),\n",
              "  2,\n",
              "  'Positive'),\n",
              " ('I ordered a phone and today on 30 Dec was the delivery date .  I have already paid for itNow when I asked for delivery boy number on Flipkart website, answer I got that my issue will be resolved by 4 JanuaryFlag This ReviewIrrelevantFakeJunk   Thank You! We appreciate your effort.',\n",
              "  array([-2.9942045 , -0.7933169 , -0.69799554], dtype=float32),\n",
              "  2,\n",
              "  'Positive'),\n",
              " (\"Flipkart is one of the worst online shopping sites I have ever used . I ordered a smart watch for 999Rs and after I received the watch it works excellent for two days and the third day it's screen is not responcing in some parts and after that the band of the watch broke . I recommend not to buy anything from this site .Flag This ReviewIrrelevantFakeJunk   Thank You! We appreciate your effort.\",\n",
              "  array([-0.03339204, -3.5705109 , -5.360364  ], dtype=float32),\n",
              "  0,\n",
              "  'Negative'),\n",
              " ('I ordered a HP 15s laptop from Flipkart on 27th oct, 2020 . Due to covid, cod is unavailable, so I made a payment of 35k online. After 5 days I received the order from Flipkart. When I opened it there was only empty box and no laptop in it. I immediately contacted the customer support and they said they will review the matter and will revert back in 7 days. After 7 days they refused to replace the product or initiate the refund. My order id was OD120065164502905000. Plz dont make online payment while ordering.Flag This ReviewIrrelevantFakeJunk   Thank You! We appreciate your effort.',\n",
              "  array([-0.03631842, -3.4615784 , -5.4522424 ], dtype=float32),\n",
              "  0,\n",
              "  'Negative'),\n",
              " ('Some pruduct are very good and some products is very bad quuality I buyed watch under 300 rupees than I received this product that not best quality not same product on flipcart site but I buyed above 500 rupees watch are actually Good But order timely received this site flipcart services are getting worst day by day l place 2 orders in last two days both has damage and wrong item every time I orderd on flipcart.they never deliver products on sheduale time and there is always something missing in the deliverd packed.so he is good and bad appFlag This ReviewIrrelevantFakeJunk   Thank You! We appreciate your effort.',\n",
              "  array([-0.05716489, -3.1219776 , -4.4661245 ], dtype=float32),\n",
              "  0,\n",
              "  'Negative'),\n",
              " ('I love this online shopping platform.all products are genuine and customer care is also damn good, and responsive.Flag This ReviewIrrelevantFakeJunk   Thank You! We appreciate your effort.',\n",
              "  array([-3.8007112 , -1.423908  , -0.30533847], dtype=float32),\n",
              "  2,\n",
              "  'Positive'),\n",
              " ('Your exchange service is one of the worst services. My experience was very bad. I am not sure how you guys expect the mobile to have zero dents and scratches if it has been used for months/years. First, you accept the deal and then you reduce the price by looking at minor dents.Flag This ReviewIrrelevantFakeJunk   Thank You! We appreciate your effort.',\n",
              "  array([-0.03213315, -3.6285138 , -5.285055  ], dtype=float32),\n",
              "  0,\n",
              "  'Negative'),\n",
              " ('I ordered a havells intanio prime 25 litre from Flipkart during sale on 17th of December(price-7999), and get the delivery very late on 26th of December and when I open the parcel it was different product, it was havells instanio 10 litre and when I go on Flipkart website to exchange the product, there is only option to get refund not exchange. So when I call their executive they told me take refund of 7999, and order it again and the current price was 8499, means 500 was gone higher, so I want to say for their mistake why would I pay more, and one thing also the bill I get from them, I just checked their CIN on ministry of corporate affairs and that was wrong, so in my opinion Flipkart and their seller is doing fraud, they sell the product on less price during sale and then do fraud and force customers to pay higher amountFlag This ReviewIrrelevantFakeJunk   Thank You! We appreciate your effort.',\n",
              "  array([-0.04519695, -3.2510078 , -5.2111163 ], dtype=float32),\n",
              "  0,\n",
              "  'Negative'),\n",
              " (\"I have purchased number of things through Flipkart.The company is tested when you are in trouble.Especially in case of online selling portals consumer has to be taken care by these portals.But as compared to Amazon Flipkart is failing to do their duties to give justice to the consumer.Especially when consumer is in trouble because of the defective product.The company's performance is tested in these situations.Unfortunately Flipkart is miserably feeling in these duties.This should not be surprised if Flipkart closes down after few years!Flag This ReviewIrrelevantFakeJunk   Thank You! We appreciate your effort.\",\n",
              "  array([-0.03681457, -3.464551  , -5.3271074 ], dtype=float32),\n",
              "  0,\n",
              "  'Negative'),\n",
              " (\"Hey everyone my name is ved I am honne tell you about my flipkart experience so I ordered puma shoes from flipkart they worth around 4000 ruppes the delivery time they gave me was 3 days but the product reached me after 9 days they really don't care about customer serviceThat was not enough the shoes that I ordered was also damaged and they are looking like they were used so I replaced them and when the delivery boy came he said they are used and we will not take this shoes and I said when I opened the box they were already like this but he is not believeing me and he didn't take the shoes with him and didn't refund me so I again call to flipkart customer care and try to explain them what happened with me hopefully they understand and they refund my shoes then the same delivery boy came after around 14-15 days then he take my shoes and the money was credited on my bank account so the process of buying the shoes and refunding them take me around 1 month the customer service is really bad I am never gonna use flipkart again.Thanks for reading my reviewFlag This ReviewIrrelevantFakeJunk   Thank You! We appreciate your effort.\",\n",
              "  array([-0.02760345, -3.7784069 , -5.4337263 ], dtype=float32),\n",
              "  0,\n",
              "  'Negative'),\n",
              " ('Flipkart is the best site for shopping in India, I always use it for shopping, they give good products in less price the quality of the products are very good. They always see customers satisfaction, and also have very good customer care.Flag This ReviewIrrelevantFakeJunk   Thank You! We appreciate your effort.',\n",
              "  array([-3.8436706 , -1.2522991 , -0.36710295], dtype=float32),\n",
              "  2,\n",
              "  'Positive'),\n",
              " ('Buy products here is reliable and trustworthy, they taken back faulty product with instant return of cash to account.   .Flag This ReviewIrrelevantFakeJunk   Thank You! We appreciate your effort.',\n",
              "  array([-0.06450728, -2.9832387 , -4.4360924 ], dtype=float32),\n",
              "  0,\n",
              "  'Negative'),\n",
              " ('Furniture received after 6 months of purchase, after giving repeated consumer forum threats.  Ordered the product on 27th April 2018, received it after numerous calls and emails. Finally got the product delivered after threatening them about taking legal action against Flipkart. Even after receiving the product, the accessories were faulty which again took 10 days time for them to arrange,Flag This ReviewIrrelevantFakeJunk   Thank You! We appreciate your effort.',\n",
              "  array([-0.03109782, -3.6507025 , -5.371652  ], dtype=float32),\n",
              "  0,\n",
              "  'Negative'),\n",
              " ('New looting scheme they provide! Buy an electronic item that has 7 days replacement policy. If you encounter an issue, a technician is sent, who will do a factory reset and solve the issue for that time. Now tomorrow you face an issue again, raise a new request; and again a technician is sent. They keep doing this until the 7 days the replacement window is met. After that you face any issue, they will ask you to go to the brand center to get it fixed since the policy period is over But will not replace or refund the product; and will blame the seller. You contact the seller, the seller will blame Flipkart.Flag This ReviewIrrelevantFakeJunk   Thank You! We appreciate your effort.',\n",
              "  array([-0.03258004, -3.5780401 , -5.4907684 ], dtype=float32),\n",
              "  0,\n",
              "  'Negative'),\n",
              " ('In this ependemic the Flipkart is only a platform who provide cash on delivery offer to everyone.Thats great things about the company service.Flag This ReviewIrrelevantFakeJunk   Thank You! We appreciate your effort.',\n",
              "  array([-3.5096478, -1.0794637, -0.4615357], dtype=float32),\n",
              "  2,\n",
              "  'Positive'),\n",
              " ('Too much delay in essentials supplements delivery and still no help from customer service, simply no compensation. They dis not even consider it. Waste of time and energy ordering from Flipkart. Ordering from Amazon is so much better!Flag This ReviewIrrelevantFakeJunk   Thank You! We appreciate your effort.',\n",
              "  array([-0.0396581, -3.3935657, -5.241311 ], dtype=float32),\n",
              "  0,\n",
              "  'Negative'),\n",
              " (\"This is nice online shopping store.All the products that I have asked for so far were very good. Recently I ordered a pack of biscuits for my dog and it also was very good quality.But one time I ordered a product but it was defective and I put his return but nobody came to withdraw and I have lost my money.But this has happened to me only once.That's why I like this app.Flag This ReviewIrrelevantFakeJunk   Thank You! We appreciate your effort.\",\n",
              "  array([-2.819934  , -0.79796475, -0.71305263], dtype=float32),\n",
              "  2,\n",
              "  'Positive'),\n",
              " (\"Flipkart delivers products fastly as compared to others's . Really do shopping on Flipkart. They are customer friendly too.Flag This ReviewIrrelevantFakeJunk   Thank You! We appreciate your effort.\",\n",
              "  array([-3.8590288 , -0.98138607, -0.5039819 ], dtype=float32),\n",
              "  2,\n",
              "  'Positive'),\n",
              " ('Hi bought grovery items which goes good as I bought 3 items in 1rs deal, 3 items in 19rs deal and rest 4 items on heavy discounts. I just paid rs600 and got 10 products in less than a day.Flag This ReviewIrrelevantFakeJunk   Thank You! We appreciate your effort.',\n",
              "  array([-3.2431874, -0.8430365, -0.633824 ], dtype=float32),\n",
              "  2,\n",
              "  'Positive'),\n",
              " (\"There are unauthorized sellers on Flipkart which they have admitted over an email to me. Expensive products will not have the warranty promised on the Flipkart page. It could be as low as 0 months against the promised year or more. Flipkart will not be willing to help you in any way. Not worth to buy products more that whatever is the amount you are willing to just throw away in case a product doesn't work.Flag This ReviewIrrelevantFakeJunk   Thank You! We appreciate your effort.\",\n",
              "  array([-0.02827605, -3.7362008 , -5.51264   ], dtype=float32),\n",
              "  0,\n",
              "  'Negative'),\n",
              " ('I have ordered a nikon lense worth Rs. 24, 499 on 15th December 2020, I received the product on 16th December 2020 early morning. But they have given the coffee mug instead of original nikon lense.From last 3 days i am submitting the documents but they have rejected 3 times my refund request. But customer care guys are positive about my problems. They are helping to solve this. But I am fed up of filling up the form again and again. Any suggestions would be appreciated.Flag This ReviewIrrelevantFakeJunk   Thank You! We appreciate your effort.',\n",
              "  array([-0.04256337, -3.2935286 , -5.3931465 ], dtype=float32),\n",
              "  0,\n",
              "  'Negative'),\n",
              " (\"Well when I got the package there were only 3 books but I ordered 8 books. I want to return it and get the money back. Please get this ? package back. I have the package packed in the cover and now I really don't want it. I have added my Aadhar card back and front. Now I think that this is sufficient amount of ID. Now please get this back and please also don't reject it.Flag This ReviewIrrelevantFakeJunk   Thank You! We appreciate your effort.\",\n",
              "  array([-0.11658334, -2.4838078 , -3.6261253 ], dtype=float32),\n",
              "  0,\n",
              "  'Negative'),\n",
              " (\"Hey my dear my friends, today am sharing my review of the flipkart shopping website,really my friends it's a very easy way for shopping anything, mostly peoples are using this website for shopping,am always purchase everything on this website because it's a amazing website,easy to return and easy to purchase. best service for customer.i have never disappointed on this site, really my friend but one time, really you have never disappointed my promise.best service, best products, original products, fast delivery. everything is so amazing on this website.Flag This ReviewIrrelevantFakeJunk   Thank You! We appreciate your effort.\",\n",
              "  array([-3.8702917, -1.1186597, -0.427051 ], dtype=float32),\n",
              "  2,\n",
              "  'Positive'),\n",
              " (\"I generally never order from Flipkart, but this time I had to, because Pixel 4a is only available on Flipkart. All the reviews here are absolutely true. There's always a massive delay in delivery of any product. My order has reached the nearest hub and I live around the same area. I had requested Flipkart customer care to share the warehouse/hub address so I can go there myself and pick up the item. They blatantly refused each time and kept on saying it will be resolved by 16th December. The promised date was 13th December. It's now 15th, and I still haven't received any updates from their side, not from the courier service nor from Flipkart. Yesterday, they extended the resolution date to 17th December. Every review is true here. They are so irresponsible, I believe I'll just have to cancel the order eventually. I don't think they will be resolving anything. It's so frustrating. There's absolutely no way to connect with Ekart. All their phone numbers are whack, none work. Flipkart is really the worst ever.They won't even reply here at all. They are least bothered. I don't know the point of writing a comment here as they clearly don't care.Flag This ReviewIrrelevantFakeJunk   Thank You! We appreciate your effort.\",\n",
              "  array([-0.03123949, -3.6526446 , -5.332063  ], dtype=float32),\n",
              "  0,\n",
              "  'Negative'),\n",
              " ('Flipcart is best App For online  shopping All my online oder from flipcart is good at condition.  Its nice app to shop Dresses, cosmetics, And other clothing and no problem at delivery easy payment I recommend this App for online shopping lover.Flag This ReviewIrrelevantFakeJunk   Thank You! We appreciate your effort.',\n",
              "  array([-3.6900473, -1.3332968, -0.3404889], dtype=float32),\n",
              "  2,\n",
              "  'Positive'),\n",
              " ('Generally I use this app. dress quality is not very good.but  chepal&shoes are good product and quality also .and discount offers are good.Flag This ReviewIrrelevantFakeJunk   Thank You! We appreciate your effort.',\n",
              "  array([-3.9749599 , -1.3323793 , -0.33216178], dtype=float32),\n",
              "  2,\n",
              "  'Positive'),\n",
              " (\"Very bad experience about delivery always it's take 3 time date extended every time verybad experience about delivery Amazon delivery better than flipcart I am satisfied with Amazon deliveryFlag This ReviewIrrelevantFakeJunk   Thank You! We appreciate your effort.\",\n",
              "  array([-0.0545015, -3.107534 , -4.787673 ], dtype=float32),\n",
              "  0,\n",
              "  'Negative'),\n",
              " (\"Whenever I want purchase any product then I am always use Flipkart. Because it's very Best platform for purchase products from online that's why if you want buy any product so use flipkart because Flipkart's product quality is good always and shine full. If you are thinking purchase any product so use Flipkart and enjoy your Flipkat's product.Flag This ReviewIrrelevantFakeJunk   Thank You! We appreciate your effort.\",\n",
              "  array([-3.295978  , -1.0859559 , -0.46938094], dtype=float32),\n",
              "  2,\n",
              "  'Positive'),\n",
              " (\"Ordered product one and half month before. Everytime they extend the dates for resolving the issue. Need to call customer care everytime. They don't take any responsibility. They don't cancel the product and provide refund. Please be careful while orderingFlag This ReviewIrrelevantFakeJunk   Thank You! We appreciate your effort.\",\n",
              "  array([-0.03786673, -3.4226546 , -5.3963785 ], dtype=float32),\n",
              "  0,\n",
              "  'Negative'),\n",
              " ('I order for for Samsung product and they delivered a different version of the product which look like a fake product no user Manual. No Waranty Card nothing.And if I asked for replacement they are asking me to scan the document and send it which is very lengthy process and also they are taking more time when they respond. but for us reply back to the query they are putting a deadline to us.Worst Service Totally not happyFlag This ReviewIrrelevantFakeJunk   Thank You! We appreciate your effort.',\n",
              "  array([-0.042384 , -3.3336093, -5.144004 ], dtype=float32),\n",
              "  0,\n",
              "  'Negative'),\n",
              " ('The Flipkart has indulged in fraudulent behaviour in denying the legitimate Refund already approved by creating a new Refund request by their own support staff to make the return request timebarred which will be evident from the following case history. Don, t ever buy from FLIPKART they are worse than cheating local businesses.\"Please resolve the issue of pending REFUND APPD RETRUN REQUEST Dtd 06th dec 2020 urgently and initiate strong punitive action against the Customer Return Request manipulator Ms kaira /jubi as already intimated as Dear Customer Care Head, Subject: Fraudulaent Self Generation of Return Request on 6th dec by Flipkart Customer Support Person pending Refund against already approved Refund Rquest Lodged by me on 08th /11 dec 2020 with the sole intention to timebar the Refund.Reference: Refund ID: 12202204507607981338 dtd.13th dec 2020Order id OD120386338759745000This is to bring to your notice the fraudulent behaviour of Flipkart Customer Support person Ms. Kaira /Jubi in Self generating a Fresh Return Request with the ill-intention of treating my already Approved Refund Request Dtd 13th dec well within the policy timeline of 2 days but now being quoted on your site status to reject the request dtd.13th dec 2020 created by Flipkart itself with the ulterior motive of illegally rejecting the Refund already approved AND NOT . Since 6dec 2020 till date 2 times rejeceted my returns request and refund.. Many times complain but cheating with me please guys don\\'t buy filipkart this is local businesses I don\\'t get brand product.. For refund RETRUN request wanted my id proof I did send but till date not yet sloFlag This ReviewIrrelevantFakeJunk   Thank You! We appreciate your effort.',\n",
              "  array([-0.03498242, -3.5238957 , -5.319905  ], dtype=float32),\n",
              "  0,\n",
              "  'Negative'),\n",
              " ('Ordered a product and  delivered the damaged piece. Requested for replacement and contacted customer care and concerned no response at all. I will not do any online purchase thru this.Flag This ReviewIrrelevantFakeJunk   Thank You! We appreciate your effort.',\n",
              "  array([-0.04136323, -3.3115907 , -5.506266  ], dtype=float32),\n",
              "  0,\n",
              "  'Negative'),\n",
              " ('App as well as website is good and easy to use. But during big billion days or sale days, only discounted products are mostly visible unless you did not add the product in your wishlist previously.One suggestion, made in India should also include in the filters.Flag This ReviewIrrelevantFakeJunk   Thank You! We appreciate your effort.',\n",
              "  array([-3.2437687 , -0.99284756, -0.52684784], dtype=float32),\n",
              "  2,\n",
              "  'Positive'),\n",
              " ('This is the best shopping platform you can paly games and make super coine and you see their all things available And you pay money online and  cash payment and you recharge their alsoFlag This ReviewIrrelevantFakeJunk   Thank You! We appreciate your effort.',\n",
              "  array([-3.6332927 , -0.9477494 , -0.53450626], dtype=float32),\n",
              "  2,\n",
              "  'Positive'),\n",
              " (\"Unfortunately, I have to write this as a frustrated customer who order Kodak 43 inch LED TV from flipkart on 1st December, 2020.The delivery was promised on 4th December, 2020 and till date I have not received any product or information from them. I wrote concern on flipkart chat multiple times, however there was no response from any of the Flipkart associate, I was feeling as if I am asking for the payback of any loan. Yesterday, a gentleman replied and said a ticket has been raised and you will get resolution by 10th December, 2020. Today, I received another call from flipkart and they mentioned either cancel your product or wait for few more days to get this resolved. What's is this? Doesn't flipkart understand the importance of customers time and money? Or they feel they can do anything as they have already received good deal of money?Moreover, Omni tech retailer is sending used TVs and there is no control of flipkart on this. I ordered 2 TVs together. I received first as used product which I sent back. Second time also they sent but scratched product, still I accepted it.Now, same story with other brand TV, they again sent used TV and I sent it back and now they are not sending any product. Not even updating what happened to my order.Flipkart, Omni tech Retailer and Ekart is together fooling customers. Guys please think before buying such products from flipkart.Attaching the order screenshot to prove the same.RegardsVaibhav JainFlag This ReviewIrrelevantFakeJunk   Thank You! We appreciate your effort.\",\n",
              "  array([-0.03273488, -3.5785723 , -5.4516296 ], dtype=float32),\n",
              "  0,\n",
              "  'Negative'),\n",
              " ('The Flipkart has indulged in fraudulent behaviour in denying the legitimate Refund already approved by creating a new Refund request by their own support staff to make the return request timebarred which will be evident from the following case history. Don, t ever buy from FLIPKART they are worse than cheating local businesses.\"Please resolve the issue of pending REFUND   AGAINST APPD RETRUN REQUEST Dtd 07th Nov 2020 urgently and initiate strong punitive action against the Customer Return Request  manipulator Ms Puja as already intimated as Dear Customer Care Head,Subject: Fraudulaent Self Generation of Return Request on 24th Nov by Ms Pooja Flipkart Customer Support Person pending Refund against already approved Refund Rquest Lodged by me on 07th Nov 2020 with the sole intention to timebar the Refund.Reference:  Refund ID: 12202015750638654242 dtd.07th Nov 2020This is to bring to your  notice the fraudulent behaviour of Flipkart Customer Support person Ms. Pooja in Self generating a Fresh Return Request with the ill-intention of treating my  already Approved Refund Request Dtd 07th Nov well within the policy timeline of 15 days but now being quoted on your site  status to reject the request dtd.24th Nov 2020 created by Flipkart itself with the ulterior motive of illegally rejecting the Refund already approved AND NOT BY ME.I, cancelled the installation of the second wardrobe and requested for refund of Rs10422/-(Rupees Ten Thousand four Hundred twenty two only) on 07th Nov 2020. The Flipkart approved the return & created  Refund ID: 12202015750638654242 against this cancellation request sent by me on 07th Nov 2020. I have nothing to do with the Flipkart itself initiating a fresh Return Request and then illegally timebarring the approved  refund request pending with them which is well within the policy & approved on 07th Nov 2020 All the status screenshots are saved by me in this regard as I was apprehensive of fraudulent behaviour of Flipkart as known from many other customers in Refund case In this regard it may be noted that flipkart customer care agent Ms Pooja has falsely created a new request  on 24th Nov. My request is lodged on 7th Nov and approved by the Flipkart for refund on 7th Nov 2020 itself. I have the screen shots of all Flipkart activity  as on 07th Nov as well as on 12th Nov, 23rd Nov,  24th Nov. & 25th Nov as well. Creating a new request disregarding an already approved return request merely to deny the refund already approved  is not only  malpractice of Flipkart but a fraudulent behavour  not expected from an E-Commerce Company like Flipkartt. This fraudulent activity can very well be established  from Flipkart Status Screenshorts/ Call/chat/Email logs which will be required to be produced by the Flipkart  in the  court of law for this willful cheating of Customers by the Flipkart.In view of the foregoing, it is once again requested to ensure early refund not later than 07 days for the amount paid against the approved Return/Refund request lodged by me on 07th Nov 2020  failing which I shall be constrained to seek refund of amount and compensation for the undue harrasment  caused to me  due to the Fraudulent  behaviour of Flipkart in creating a new Return  Request dtd 24th Nov 2020 illegally merely to deny a LEGITIMATE REFUND.Pl acknowledge receipt of this communicationThanksSandeep SinghRefund ID: 12202015750638654242 dtd 07.11.202009.12.2020Flag This ReviewIrrelevantFakeJunk   Thank You! We appreciate your effort.',\n",
              "  array([-0.03234831, -3.6201775 , -5.2878137 ], dtype=float32),\n",
              "  0,\n",
              "  'Negative'),\n",
              " ('I loved the product it is execellent and the quality of the cover is good and delivered is taken upto7to8 days andplease buy the productFlag This ReviewIrrelevantFakeJunk   Thank You! We appreciate your effort.',\n",
              "  array([-3.6576295 , -0.8754453 , -0.58423907], dtype=float32),\n",
              "  2,\n",
              "  'Positive'),\n",
              " (\"Flipkart is India's biggest scam e-commerce portal, wherein end customers got cheated & after they ware not get their money back,Also after several follow-ups with Flipkart, you will not get proper support from them. they will block your account from Flipkart.Flag This ReviewIrrelevantFakeJunk   Thank You! We appreciate your effort.\",\n",
              "  array([-0.02870948, -3.711499  , -5.55698   ], dtype=float32),\n",
              "  0,\n",
              "  'Negative'),\n",
              " (\"Few years back I admit that Flipkart was a very good platform to order products. But now I will not recommended it to anyone. I ordered a jacket from Flipkart worth rupees 4500 and I received a sweater which I never ordered. I received someone else's product. This was very annoying and I was asked many questions when I returned the product. There is no respect for customers. Don't buy anything from Flipkart.Flag This ReviewIrrelevantFakeJunk   Thank You! We appreciate your effort.\",\n",
              "  array([-0.03016482, -3.702969  , -5.2855678 ], dtype=float32),\n",
              "  0,\n",
              "  'Negative'),\n",
              " ('I ordered 3 \"Toy Joy Stunt360\" through Order ID OD120205171768162000, amount to Rs. 1275/-. A package was delivered which had face masks instead of the 3 toys ordered. I reported \"Wrong item delivered\". An amazon delivery agent came back with the 3 toys but insisted to return 3 toys(already delivered according to him) and refused to take the face masks, and left without delivering. Now I get a notification on flipkart.com stating \"Return not possible by Seller as per Return Policy\". I have been a loyal flipkart customer since it\\'s inception and feel sorry to see their quality deteriorate to such an extent. I couldn\\'t even go past their call center executive to a senior person. Would flipkart except me to order again!Flag This ReviewIrrelevantFakeJunk   Thank You! We appreciate your effort.',\n",
              "  array([-0.03932314, -3.418683  , -5.149125  ], dtype=float32),\n",
              "  0,\n",
              "  'Negative'),\n",
              " (\"Such a poor and pathetic service, They are taking 10 days to delivering products, there are competing website who's delivering within 2-3 days. will never ever use for shopping. I will rather reckon other portal. i've placed a order on 30th Novermber 2020 I m posting this review on 07th November, I am yet to receive my order. poor and insane.Flag This ReviewIrrelevantFakeJunk   Thank You! We appreciate your effort.\",\n",
              "  array([-0.04163827, -3.3908963 , -4.9469757 ], dtype=float32),\n",
              "  0,\n",
              "  'Negative'),\n",
              " ('It is very sad to share my very bad experience of MI brand mobile  recently purchased one month back. with preventive 1 year extended service.Invoice no. #FAD3632100762601 delivered on  11/10/2020. Was so pleased to see the outer look and features of the product. Within 25 - 30 days of use mobile started giving problems such as call ringing not heard, alarm voice in snooze mode, auto dial etc.   Gradually after few days charging pin in mobile stopped operating, this really was worst as I was unable to take backup as that pin is not operational.Went to MI Gallery on 04/12 on SN no. 29080/EOWN07268 they checked it throughly in system and  noted my problems and shared that POCO pin is not available, will have to wait for 1 week. After request to take backup through email or wup  they agreed and suggested to come tomorrow after system update.Other day they formated my data completely with escuse they cannot keep warranty phone without updating.My concern customer is been treated as an IDIOT, he has no option, he has to follow all companys protocols.I dint had spare phone, I should purchase new phone to operate for a week, customers are completely ignored.MI being world wide noted brand doesn not provide spares to their service centres,Worst Pathetic experience examined will never suggest for MI any more.Flag This ReviewIrrelevantFakeJunk   Thank You! We appreciate your effort.',\n",
              "  array([-0.03585861, -3.4641361 , -5.540854  ], dtype=float32),\n",
              "  0,\n",
              "  'Negative'),\n",
              " ('I bought a pair of shoes from flipkart . Grey in colour , lace ups , 50% off , just 500rs. After booking the shoes came and I was soo angry . Because the product I saw looks very bad when came . The laces were torn the outer material had torn part it was not offer it was cheating . It was not a quality product but sponge shoes glooed together . I returened the product , took few days to return and said my concerns and I never shopped in flipkart . Such bad experience not only for me but also some of my friendsFlag This ReviewIrrelevantFakeJunk   Thank You! We appreciate your effort.',\n",
              "  array([-0.04113982, -3.3812292 , -5.0672865 ], dtype=float32),\n",
              "  0,\n",
              "  'Negative'),\n",
              " (\"Unprofessional behavior by the support staff. Zero support from the bot or actual human bots. They will keep on repeating like a parrot. Will not listen to your concern. Pathetic delivery service. My shipment reached Pune(nearest hub at 7:00 AM in the morning on 4th) and they promised to deliver by 7:00 PM on 5th. What a pleasure to work with such an efficient team.sent some misleading sms at 8:23 in the morning that the shipment will be delayed by 3 days. No contact point. No details. No Reason.Absolute waste company with zero professionalism.Further update, more interesting one: They could not deliver the phone on 5th, what was the best counter action they could take, they moved the estimated delivery date to 11th Dec.check the details @ FMPP0627619089https://ekartlogistics.com/track/FMPP0627619089/It's sheer funny and frustrating both at the same time. Flag This ReviewIrrelevantFakeJunk   Thank You! We appreciate your effort.\",\n",
              "  array([-0.02994549, -3.7113738 , -5.286869  ], dtype=float32),\n",
              "  0,\n",
              "  'Negative'),\n",
              " ('I am using flipkart more than 5 years long as and its very attractive price range product than compare to others portal heavy discount on mobile and other products in this site this site gives emi option and best cashback in credit card and debit card its also provide supercoin to use when order a product and discount will be applied, customer service is very nice call back facility and pick up call in few minutes they speak very well and easy to handle issue or complaint regarding to product, delivery is faster very fast in minimum 4 to 5 days product delivered in your place, the assured and geniune product will be give this site, its app is fast smooth and easy to use and very reliable experienced to it.Flag This ReviewIrrelevantFakeJunk   Thank You! We appreciate your effort.',\n",
              "  array([-3.8344522 , -1.2663274 , -0.36165607], dtype=float32),\n",
              "  2,\n",
              "  'Positive'),\n",
              " ('Hi All,I had purchased a Samsung  Earbuds by AKG for rupees 9990. However, post purchasing I understood that this product has a lot of bug.But, the product had reached my destination.Since, I got to know later, I called the Flipkart and informed them that I donâ\\x80\\x99t need this product and I didnâ\\x80\\x99t open the package.Close to 45 days, everyday talking to more than 30 customer agents and virtual chat all sing the same song of empathy and sympathy, but they are horrible and no solutions.Never buy anything from Flipkart, they are one worst services ever I have seen in my life.They have dirty strategy and I had raised the concern with Consumer court and the lawyer sent the notice to their Bangalore office, however the address what they have mentioned is also wrong.None of the people take ownership in Filpkart they know only sympathy and empathy statements, which they have been trained well. However, it doesnâ\\x80\\x99t make any sense.I would say the whole world never buy anything from Flipkart, they cant match the international standards.ITâ\\x80\\x99S A HORRIBLE SERVICE. HORRIBLE STRATEGY . THEY PROVIDE FAKE PRODUCTS. NOT BRANDED GOODS.WHOLE OF SYSTEM IS LIKE LOCAL MARKET SERVICE.Flag This ReviewIrrelevantFakeJunk   Thank You! We appreciate your effort.',\n",
              "  array([-0.02719715, -3.7819397 , -5.5085044 ], dtype=float32),\n",
              "  0,\n",
              "  'Negative'),\n",
              " ('Very bad customer service. Waiting since 10 November 2020 to get a tv set replaced. However they always postponed the pickup date.Flag This ReviewIrrelevantFakeJunk   Thank You! We appreciate your effort.',\n",
              "  array([-0.03778225, -3.417321  , -5.45444   ], dtype=float32),\n",
              "  0,\n",
              "  'Negative'),\n",
              " (\"Ordered Lot of products in Flipkart sale prompt delivery and good services.I would suggest Trust our desi brands rather than the international brands like amazon and don't get fooled.Flag This ReviewIrrelevantFakeJunk   Thank You! We appreciate your effort.\",\n",
              "  array([-3.7218053 , -0.93540555, -0.53891134], dtype=float32),\n",
              "  2,\n",
              "  'Positive'),\n",
              " ('The style of shopping is different from Flipkart. We can order from any corner of the country. Flipkart Big Billion Sale offers huge discounts.Flag This ReviewIrrelevantFakeJunk   Thank You! We appreciate your effort.',\n",
              "  array([-3.0162053 , -0.66268456, -0.83115137], dtype=float32),\n",
              "  1,\n",
              "  'Neutral'),\n",
              " (\"I am a premium member if Flipkart and till now I've ordered product worth 1lakh( aprox) .Flipkart products quality is very good when you become a premium memberBut if you are not a premium member then product quality is decent. I Highly recommend you to buy products from Flipkart because its give you best price for products and I've compared all online shopping site and Flipkart is best. Somebody say that amazon is good but you cant belive in Amazon delivery because sometimes they change the product and give something else.Flag This ReviewIrrelevantFakeJunk   Thank You! We appreciate your effort.\",\n",
              "  array([-3.1388292 , -0.9570904 , -0.55746675], dtype=float32),\n",
              "  2,\n",
              "  'Positive'),\n",
              " ('I had bought a pair of Bata sandals on flipkart which I returned it for exchange for different size but after picking up the return the exchange was cancelled by seller saying it is out of stock But flipkart instead of resolving my issue keeps spamming calls asking questions like is the product is picked or not when was it picked up has the seller called you etc It was like rubbing salt on injury. So be careful before buying on Flipkart instead go for Amazon which is very professional in serviceFlag This ReviewIrrelevantFakeJunk   Thank You! We appreciate your effort.',\n",
              "  array([-0.04166217, -3.3400798 , -5.2265234 ], dtype=float32),\n",
              "  0,\n",
              "  'Negative'),\n",
              " ('Hii friends I am suraj jat .i want to tell you about Flipkart online shopping app.it is a very popular app in india and other countries. Its a simple online shopping app. 4 months ago I am order a watch for me and it is delivered so fast just 3-4 days. but it had a bad thing that it mixes the products into other temperrely products while ordering a product. But other things and features of this app is so good. Flipcart sell the things to customers in very  lower price. So that it is a most popular app in west countries and in india.it has a big discount sale on every festival and presenting the games to win exciting prices. Overall its a good and popular website.Thank youFlag This ReviewIrrelevantFakeJunk   Thank You! We appreciate your effort.',\n",
              "  array([-3.3801165, -1.0091319, -0.5084598], dtype=float32),\n",
              "  2,\n",
              "  'Positive'),\n",
              " (\"If you buy something on flipkart and it turns out to be a poor quality product you can't even write an adverse review flipkart will not make it live saying it does not qualify their internal guidelines, so in short u can just rate a product or you can just give a good review. What a scam that is?Flag This ReviewIrrelevantFakeJunk   Thank You! We appreciate your effort.\",\n",
              "  array([-0.04005319, -3.41256   , -5.0664225 ], dtype=float32),\n",
              "  0,\n",
              "  'Negative'),\n",
              " ('I have done as much shopping till date. It has been a great experience. I took 4 5 clothes which were of very good quality. I also asked for 3 mobile phones which were found in very good quality. Try too.Flag This ReviewIrrelevantFakeJunk   Thank You! We appreciate your effort.',\n",
              "  array([-3.7731943 , -1.2078283 , -0.38834858], dtype=float32),\n",
              "  2,\n",
              "  'Positive'),\n",
              " ('The returned orders amount will not be refunded but on the screen it shows as refunded with date.Please check the bank transactions if anyone have raised refund request.This has happened to 3 of my ordersFlag This ReviewIrrelevantFakeJunk   Thank You! We appreciate your effort.',\n",
              "  array([-0.04092529, -3.341758  , -5.3550115 ], dtype=float32),\n",
              "  0,\n",
              "  'Negative'),\n",
              " ('Too baad delivery system by flipkartFake customer service... No one responding... Recent times worst pick up servicesFlag This ReviewIrrelevantFakeJunk   Thank You! We appreciate your effort.',\n",
              "  array([-0.03630463, -3.4722068 , -5.380604  ], dtype=float32),\n",
              "  0,\n",
              "  'Negative'),\n",
              " ('Cool smart phone a lot of people like it full enjoy its price3gb ram 64 internal storage.11990.It is also a good selling phone with a good marketFlag This ReviewIrrelevantFakeJunk   Thank You! We appreciate your effort.',\n",
              "  array([-3.3894486, -1.1961818, -0.4095841], dtype=float32),\n",
              "  2,\n",
              "  'Positive'),\n",
              " (\"I have ordered huggies wonder pant dippers, for my baby, payment was cleared by online, but after 2 months I have to cancelled the order for not receiving the item after 3 times complain in customer service also talk with senior about this matter. My personal experience is that all flipkart teams are zero, they don't have any single quality to work in any company. Chiiii thuuuuFlag This ReviewIrrelevantFakeJunk   Thank You! We appreciate your effort.\",\n",
              "  array([-0.0310338, -3.6354263, -5.4763646], dtype=float32),\n",
              "  0,\n",
              "  'Negative'),\n",
              " (\"I bought a Panasonic 40 inch Smart tv on 19/10/2020 and paid the same day. It was supposed to be delivered on 18/11/2020 but product never received. Flipkart customer care also doesn't know the whereabouts of the product. I requested for refund which has not been done yet. CHOR COMPANY. Keeping my money not giving interest also, could have kept in bank, atleast would have got some interest.Flag This ReviewIrrelevantFakeJunk   Thank You! We appreciate your effort.\",\n",
              "  array([-0.04834986, -3.172003  , -5.243812  ], dtype=float32),\n",
              "  0,\n",
              "  'Negative'),\n",
              " ('Flipcart products are good, not best. This site create an average performence. But flipkart provide somtime very good product in low price. But flipkart create a comfort zone for us. There product delivery is very fast. I also love flipkart because I bought so many things from here. There quality avarage but not bad.Flag This ReviewIrrelevantFakeJunk   Thank You! We appreciate your effort.',\n",
              "  array([-3.5942416 , -1.0520254 , -0.47274536], dtype=float32),\n",
              "  2,\n",
              "  'Positive'),\n",
              " ('If you are looking good fashion at an affordable rate with best deals on mobile phones supported with flipkart pay later the I will definitely recommend this app. Flipkart is considered amongst the top 2 widely used app for various daily use stuffs. It ranges from fashion to mobile to electronic appliances to glossary. I have been using this app for over 3-4 years till date I have no regrets considering it as one of the go to option in online shopping. Fully recommended form my side. ??????Flag This ReviewIrrelevantFakeJunk   Thank You! We appreciate your effort.',\n",
              "  array([-3.7577267, -0.9706333, -0.5144652], dtype=float32),\n",
              "  2,\n",
              "  'Positive'),\n",
              " ('So I have ordered a boat stone grande bluetooth speaker on 31st nov , & now its 19th of nov .Although it should be delivered on 7th .The delivery boy dont deliver the parcel on given address just to save his petrol !!!Shame flipkart !!!!!He ask me to come nd take the parcel .I refused as it should be delivered on given address ...I have called the customer care service on flipkart , they assure me for delivery but its totally fake ...Now on 19 th when I again call they have cancelled the order & now the price for the product has changed !!!!So its totally the fakeness of flipkart ...Shame flipkart , the company has stated taking steps back ...!!!!!Shame !!!!!Flag This ReviewIrrelevantFakeJunk   Thank You! We appreciate your effort.',\n",
              "  array([-0.035227 , -3.5180461, -5.307073 ], dtype=float32),\n",
              "  0,\n",
              "  'Negative'),\n",
              " ('This is a place where I can get any product. Flipkart gives discount on many products, so that I can purchase more number of products. I also like the way they packed things.Flag This ReviewIrrelevantFakeJunk   Thank You! We appreciate your effort.',\n",
              "  array([-3.6693873, -0.9855665, -0.5086943], dtype=float32),\n",
              "  2,\n",
              "  'Positive'),\n",
              " (\"DO NOT BUY FROM FLIPKART. USE AMAZON INSTEAD.Flipkart is a bunch of CHEATS & FRAUDSTERS. The biggest example of their unethical values and no integrity is the fake reviews the post on their website. If you place a good review on the website, they will allow it, but if you put a negative review, they will turn it down stating that it does not meet their review policies. I read their review policy very carefully and posted several reviews being compliant to the same, but all negative reviews were turned down.There are numerous examples but I will share a very recent one. First, they did not send the order for 18 days and then asked me to place a new order at a higer price committing that the balance amount will be refunded to my bank account and also asked for the Bank details for the same.Now I am being told by the escalation team that the amount will not be refunded and will be processed as Flipkart Credits, which I don't want or was promised.Flag This ReviewIrrelevantFakeJunk   Thank You! We appreciate your effort.\",\n",
              "  array([-0.02888241, -3.7103019 , -5.5216784 ], dtype=float32),\n",
              "  0,\n",
              "  'Negative'),\n",
              " ('I bought samsung washing machine in exchange of my old  from them, it was a damage piece. the system they use is outdated. its 7 dasy the machine is not picked up nor packed. and still they say more 5 days . itis horrible. and patheticFlag This ReviewIrrelevantFakeJunk   Thank You! We appreciate your effort.',\n",
              "  array([-0.03568676, -3.4858592 , -5.419352  ], dtype=float32),\n",
              "  0,\n",
              "  'Negative'),\n",
              " ('Flipkart cheat me sell complete mobile protection plan with mobile. And jevees not giving claim. It is so pathetic.never think to bought anything from flipkartFlag This ReviewIrrelevantFakeJunk   Thank You! We appreciate your effort.',\n",
              "  array([-0.03328435, -3.5724957 , -5.3707066 ], dtype=float32),\n",
              "  0,\n",
              "  'Negative'),\n",
              " ('Flipkart and omnni tech retail the delivery service is very very bad very poor service in India ye ek chor website h me me sabhi ko yhi slah dunga ki Flipkart se koi bhi saman na le kyonki yha lutere bethe h jo aapko lut lete hFlag This ReviewIrrelevantFakeJunk   Thank You! We appreciate your effort.',\n",
              "  array([-0.03789543, -3.4119198 , -5.470654  ], dtype=float32),\n",
              "  0,\n",
              "  'Negative'),\n",
              " ('We ordered \"Aarmr MEDEX-99 Healthcare/Medical Mask Safety Viso\" from flipkart.com. The order is supposed to have two items, but I received only one. The seller is irresponsible.I am not satisfied with their service.Also, I couldn\\'t write a review about this on flipkart.comFlag This ReviewIrrelevantFakeJunk   Thank You! We appreciate your effort.',\n",
              "  array([-0.05138845, -3.1394107 , -4.993478  ], dtype=float32),\n",
              "  0,\n",
              "  'Negative'),\n",
              " ('I ordered a dress from fk, it was my first purchase.it got delayed.then it showed unattempted delievery and another week of time to deliver. on the promise day of delivery, the order got cancelled.Flag This ReviewIrrelevantFakeJunk   Thank You! We appreciate your effort.',\n",
              "  array([-0.04059694, -3.351385  , -5.35002   ], dtype=float32),\n",
              "  0,\n",
              "  'Negative'),\n",
              " ('Very very horrible and bad experience through flipkart service. For round way trip, Instead of partial one way cancellation they cancelled full tickets and nobody is giving any proper solution after multiple follow up.Flag This ReviewIrrelevantFakeJunk   Thank You! We appreciate your effort.',\n",
              "  array([-0.03721262, -3.508689  , -5.0218153 ], dtype=float32),\n",
              "  0,\n",
              "  'Negative'),\n",
              " ('I am using Flipkart since 2016. In started they are best for books but now they are bestfor electronic appliances. They provide huge discounts on TV, Refrigerator, Mobiles.Their Delivery partner Ekart are also good.They deliver products on time.Flag This ReviewIrrelevantFakeJunk   Thank You! We appreciate your effort.',\n",
              "  array([-3.7937827, -1.0586698, -0.4611268], dtype=float32),\n",
              "  2,\n",
              "  'Positive'),\n",
              " (\"The Worst service, The ordered product was not delivered even after 15 days. Customer service is not good for anything. Don't know how to resolve client request.Flag This ReviewIrrelevantFakeJunk   Thank You! We appreciate your effort.\",\n",
              "  array([-0.03465879, -3.5296602 , -5.349563  ], dtype=float32),\n",
              "  0,\n",
              "  'Negative'),\n",
              " (\"This is the only one website where I visit first to buy something. 95% my purchasing are from Flipkart. This is very trusted site. I feel free to pay online and to receive products. All services related to flipkart are excellent. The products, delivery time, products return service and refund of money is excellent. Sometimes I get delivery in 2-3 days that's awesome. The payment mode are also great. If you want pay partially in online and cash it is also available in the delivery guy they carries PoS machine.Flag This ReviewIrrelevantFakeJunk   Thank You! We appreciate your effort.\",\n",
              "  array([-3.8557413 , -1.2611907 , -0.36308742], dtype=float32),\n",
              "  2,\n",
              "  'Positive'),\n",
              " (\"I bought an LG air conditioner online from Flipkart's Omni Tech retailer on October 26, 2020, which was delivered on November 10, 2020. The item was no warranty cards no payment slip and no Ms. Angel AC outdoor unit inside the box. No one came for the installation after delivery; no message was received after delivery. Then later I contacted the LG Company for the installation. He said that it would take 4 to 6 days. Still, I am waiting. The best of these is that the item was delivered on time after the complaint. Overall this is a bad experience for me.Flag This ReviewIrrelevantFakeJunk   Thank You! We appreciate your effort.\",\n",
              "  array([-0.03823637, -3.4292698 , -5.277741  ], dtype=float32),\n",
              "  0,\n",
              "  'Negative'),\n",
              " ('It my personal experience. The delivery system of Flipkart is very poor. There is no coordination between company and delivery partner.Flag This ReviewIrrelevantFakeJunk   Thank You! We appreciate your effort.',\n",
              "  array([-0.04608791, -3.3093603 , -4.7673917 ], dtype=float32),\n",
              "  0,\n",
              "  'Negative'),\n",
              " ('They sell worst mobiles and mint money They have the WORST CUSTOMER SERVICEEAMAZON is far better than themTHEY SELL ALL DEFECTIVE PRODUCTS TO CUSTOMERS GIVING OFFERSPLEASE DO NOT EVER EVER PURCHASE FROM FLIPKART .IT THE THE THE WORST WORST WORSTEST!0Flag This ReviewIrrelevantFakeJunk   Thank You! We appreciate your effort.',\n",
              "  array([-0.03215948, -3.5877018 , -5.5249577 ], dtype=float32),\n",
              "  0,\n",
              "  'Negative'),\n",
              " ('This application is good for online shopping clothes, shoes, and other things.And very simple and easy to use it.Flag This ReviewIrrelevantFakeJunk   Thank You! We appreciate your effort.',\n",
              "  array([-3.73979  , -1.4861777, -0.2876752], dtype=float32),\n",
              "  2,\n",
              "  'Positive'),\n",
              " ('To be honest, I am the regular customer of flipkart.i regularly order mamy itmes from flipkart.Being a middle class person. I have to check thouroughly the quality of product.Reveiws play the most important role in purchasing any product.In order to get the complete information of product we have to spend some time on reading some reveiws and honestly Most of the reviwes that I read about the products are good.the service of flipkart is very good.infact the reyurn policy is excellent.i have ordered many products but I return them back. and I got my complete payment that I spent on that product.Flag This ReviewIrrelevantFakeJunk   Thank You! We appreciate your effort.',\n",
              "  array([-3.9969506 , -1.0708735 , -0.44797695], dtype=float32),\n",
              "  2,\n",
              "  'Positive'),\n",
              " ('Flipkart is used most in India And the website of the flipkart is Really Good and the look of the site is good. You Can log Onto Website and save your favourite items to wishlist and you can biy it later . The delivery system of Flipkart is also good . it delivers the products on time and the quality of the products is good. The website Contains a lot of products and yiu can see all products and also you also get Reviews of the products nad then if you feel that the product is Good So you can go ahead and buy it. In My opinion Flipkart is the best e- Commerce site. And Flipkart is most reliable Site.Flag This ReviewIrrelevantFakeJunk   Thank You! We appreciate your effort.',\n",
              "  array([-3.8185318 , -1.2671652 , -0.36181515], dtype=float32),\n",
              "  2,\n",
              "  'Positive'),\n",
              " (\"YI had a better experience buying from flipkart recently.i had purchased a sandisk sd card from them on 2nd of october 2020. it was deliverd on 6 october. the item they delivered was not what I purchased. They deliverd a kingstone sd card. the worst part is that the invouce which came with the item was not for the profuct delivered. The item I bought had a lifetime warranty.So the invoice is a necessity. So because of this, I raised a return request on the day itself of deliver.and informed their customer also over the phone. I asked them for an exchange gor the item I ordered.Also although the item I received was not that I ordered, I told them I could use the item if I could get the right invoice. both these request were denied by the.I kept on calling them and mailing them for the next 2 weeks to know the status of the issue. But nothing materialized. Every time I call they ask me what the issue is and I had to explain the issue all over again.The answer was all the same.Someone will contact you in 2-3 days.initially, this somebody used to call, but never gave a. solution.And latet on , that also stopped very unprofessional way.As some other reviewers have mentioned, This is like a Government office where they keeping on postponing and never find a solution.One year ag, I had purchased a blue star air conditioner from them. You wouldn't believe what I recieved.Got a fully damaged unit like it was from a junkyard which was full of dents on the outdoor unit, oil had leaked  from the compresssor which means there was no gas, and the indoor unit had parts missing.Fortunately, I had called the blue star authorized technicians for installatikn.They gave me a written report that the mavhine was damaged one. with all these papers I threatened them with legal actionif the case was not resolved immediately.So they budged. in that transaction I lost some money also, paying the technician who came to uninstal the AC. there is no coustomer service for them.they will offer you a very attractive price for what they sell and will lure you intro buying from them, But what you get they will decide.I don't know whether the item I recieved is genuine, becuse I have not opened the sealof the item hoping for them to take it back. it is a month now since I bought it. In the hope that they would to take it back, I bought what I wanted from another site after waiting for a week for the Diwali sale.and becuase I did notwant to deal with them anymore.I went ahead and purchased the card from them.at the time because theirs was  the best price and it was urgent for me.It was better that I wanted for the diwali sale and purchased it ftom a reliable site.They are cheats.Especially in these difficult times, how can a suoposed to be a reliable Indian company like flipkart cheat the coustomers of their hard-earned money.Flag This ReviewIrrelevantFakeJunk   Thank You! We appreciate your effort.\",\n",
              "  array([-0.02941294, -3.7198853 , -5.3500504 ], dtype=float32),\n",
              "  0,\n",
              "  'Negative'),\n",
              " ('I got cheated online in name of ur company I have proof for it I called one of ur executive to say that he disconnected it was so rudeFlag This ReviewIrrelevantFakeJunk   Thank You! We appreciate your effort.',\n",
              "  array([-0.03129356, -3.6496813 , -5.3371444 ], dtype=float32),\n",
              "  0,\n",
              "  'Negative'),\n",
              " ('We see what you are doing here flipkart! You have smartly removed Refund option from the most of the products. Only \"return or replace\" is visible. What happens, if a customer us not satisfied with the product that has been received? How are we going to get our refund? We need our refund option back!!!Flag This ReviewIrrelevantFakeJunk   Thank You! We appreciate your effort.',\n",
              "  array([-0.17958449, -2.1497076 , -3.0393825 ], dtype=float32),\n",
              "  0,\n",
              "  'Negative'),\n",
              " ('Worst experience and the solution of problem not provided, just saying some tricks of trivial type for issue related with App by customer care executives.Flag This ReviewIrrelevantFakeJunk   Thank You! We appreciate your effort.',\n",
              "  array([-0.04058069, -3.3631341 , -5.270362  ], dtype=float32),\n",
              "  0,\n",
              "  'Negative'),\n",
              " ('I have bought many things from Flipkart like Mobile phones, charger, etc. I am satisfied with their customer service, They have delivered a good product and also delivers within the said days. If we want to Exchange that process is also done quickly. I always recommended Flipkart!Flag This ReviewIrrelevantFakeJunk   Thank You! We appreciate your effort.',\n",
              "  array([-3.9068007 , -1.1798633 , -0.39664233], dtype=float32),\n",
              "  2,\n",
              "  'Positive'),\n",
              " ('Your quality is very nice . Your product prize low. Perfect time to deliverytime line is very good .Flag This ReviewIrrelevantFakeJunk   Thank You! We appreciate your effort.',\n",
              "  array([-3.6060271 , -1.1483691 , -0.42207193], dtype=float32),\n",
              "  2,\n",
              "  'Positive'),\n",
              " ('My nephew ordered 2 laptops during flikkart big buillion days sale for 86, 000/- Rs  and opted for No COST EMI  option with SBI. On delivery he found one of the laptop is defective  and he returned the product and asked for Refund . He got refund for the returned products.  Realized that his EMI amount is calculated for the whole amount 86000/ ie 15, 000 for 6 months .  SBI said they will change the  Loan amount provided its a full refund and for partial refund  Merchent has to send new principle amount .  My nephew followed with  FLIPKART through various channels like twitter, customer care etc .  But not use . Tagged the issue to its CEO Kalyan krishnamurthy also and no use.  Because of no fault of us we end up paying EMI for whole amount rather than the  amount deducted after return .FLIPKART its a day time robbery and made fool of us by taking buying product from you and we have to run from you and banks to get  our issues heard.  This is not way to run the business and taking us for ride.  It may be case of few thousand rupee  but its question of your business ethics and what you care about customer .Flag This ReviewIrrelevantFakeJunk   Thank You! We appreciate your effort.',\n",
              "  array([-0.03307655, -3.5535722 , -5.5433745 ], dtype=float32),\n",
              "  0,\n",
              "  'Negative'),\n",
              " ('ORDER NOl OD120004470128021000I ordered two blankets. Garbage in a pillow was delivered. It was returned. Again under guise of blanket one more garbage pillow was delivered. This was also returned. Very very worst service and cheaters. Please do not believe flipkart any more. No refund is made. Will approach consumer forum shortly.PLEASE BEWARE OF FLIPKART. NO. 1 CHEATERS.Flag This ReviewIrrelevantFakeJunk   Thank You! We appreciate your effort.',\n",
              "  array([-0.03504756, -3.5279915 , -5.283104  ], dtype=float32),\n",
              "  0,\n",
              "  'Negative'),\n",
              " (\"Never ever book a ticket from Flipkart as they are the big cheaters in the market who is just willing to keep all your money. They never respond to the status, everytime I called the customer care for refund, they are just passing the time somehow. I didn't recieve my refund in last 6 month. I cancelled my air ticket on 13th June but until today 10/11/2020 they didn't gave my money back for refund however they have received the money from airlines long back. DO NOT BUY any product from Flipkart. AMAZON is class option to do any purchasing as they take accountability for their customers .AMAZON - One and Only option for any booking/shopping. Excellent experience I had with Amazon for Flight booking and other shopping.Flag This ReviewIrrelevantFakeJunk   Thank You! We appreciate your effort.\",\n",
              "  array([-0.02728613, -3.7481582 , -5.696984  ], dtype=float32),\n",
              "  0,\n",
              "  'Negative'),\n",
              " ('Flipkart is a very good website for shopping with original brand and with 3 days return policy.  It always gives orignal product but we sometimes have some confusion about products wich we see in photos it sometimes comes fake so I recomend to always read the description by scrolling down. I have many things ordered in flipkart like football, bed sheet, clothes, and so on.  So I fell so good there and with their products, I recommend everyone to use this website for shoppingFlag This ReviewIrrelevantFakeJunk   Thank You! We appreciate your effort.',\n",
              "  array([-3.3847346 , -1.1637622 , -0.42494714], dtype=float32),\n",
              "  2,\n",
              "  'Positive'),\n",
              " ('Order ID-OD219960869367379000Ashumene 15-10-2020 ko ek mi led tv order kiya jo 17-10-2020 ko deliver hua or usi din jeeves company ki taraf se installation ke liye tachnician (neeraj) aye or jab unhone box open kiya to box m se remote missing and model bhi change nikla jo without seriel number tha to tachnician ne mujeh kaha ki apka tv replace hoga mene usse se pucha ki mujeh to kuch nhi karna padega na ab usne kaha nhi m update kr dunga mene kaha thik h to replacemeng ki date ayi 23rd oct ki or jab delivery team replace ki liye ayi to unjone replace krne se mna kr diya kehte h ki ye sahi update nhi hua h mene kaha thik h to kya krna h ab unhone kaha ki custmer care pr baat kro appjab mene custmer care pr call kiya to unhone kaha ki apki ye call hme cancle krni padegi pehle phir dusri call reg. hogiphir ye baar mera resolved dikha dete lekin oroduct abhi mere paas ese ka esa hi pada ab m is service se pareshan ho gya jo itna dealy kr rhi habhi bhi baar baar meri reqeust calncle kar dete hna mere paaas koi tech visit ke liye aa rha h na koi sahi update mill paa rha happ esi service dena band kro plss....Flag This ReviewIrrelevantFakeJunk   Thank You! We appreciate your effort.',\n",
              "  array([-0.03818715, -3.4208822 , -5.342558  ], dtype=float32),\n",
              "  0,\n",
              "  'Negative'),\n",
              " ('Please do not buy anything from flipkart regardless of discounts or low price. we order one marq tv but this iteam was not placed in 4 days.Flag This ReviewIrrelevantFakeJunk   Thank You! We appreciate your effort.',\n",
              "  array([-0.03529754, -3.4865692 , -5.5026054 ], dtype=float32),\n",
              "  0,\n",
              "  'Negative'),\n",
              " ('Flipkart is an awesome app. I am using it from 2016 onwards. Firstly I ordered Samsung on nxt mobile from Flipkart when I received the phones, I was really nervous on unboxing it. Later on when I unboxed the smartphone it was sealed packed and also phone was maintain properly. I received a seal pack phone. I was really happy for their service. From 2016 onwards I am a regular customer of flipkart because of their service and discounts. They are offering free delivery for plus member. You guys must need to check the application their is a cool offer going on. Everything item is on a discount. According to me, this is the best shopping app as per my experience.Flag This ReviewIrrelevantFakeJunk   Thank You! We appreciate your effort.',\n",
              "  array([-3.9492733 , -1.0132375 , -0.48176932], dtype=float32),\n",
              "  2,\n",
              "  'Positive'),\n",
              " ('Stop purchasing from flipkart, I place an order on 16-10-2020 and I paid 28988, I cancel the order on 18-10-2020 suggestion given by flipkart executive. I have recevied only partial on 21-10-2020 and some partial amount on 26-10-2020 and the balance of 10620 was not paid till today. nobody is there to support me.my money is lost and these idiots are not responding to me.Flag This ReviewIrrelevantFakeJunk   Thank You! We appreciate your effort.',\n",
              "  array([-0.04963172, -3.1739576 , -5.023331  ], dtype=float32),\n",
              "  0,\n",
              "  'Negative'),\n",
              " ('This is nice purchase app i like it.It is a trusted app i am using it from 2 yearsNice app good customer serviceFlag This ReviewIrrelevantFakeJunk   Thank You! We appreciate your effort.',\n",
              "  array([-3.9986773 , -1.4872087 , -0.28016698], dtype=float32),\n",
              "  2,\n",
              "  'Positive'),\n",
              " (\"Flipkart and omni tech retail is the two side of the same coin. I am trying to buy pixel 4a since a month and every time I try to order it , it shows no seller ship to this pin code .many cities like delhi , mumbai facing the same issue. They launched it with introductory price of 29999 rs but now it's retail price is 31999. If I cant buy it for introductory price then what is the meaning of it. Flipkart a so called billion $ company cant ship product to major cities than they should introspect them self.so fed up with them .Flag This ReviewIrrelevantFakeJunk   Thank You! We appreciate your effort.\",\n",
              "  array([-0.04008846, -3.4843128 , -4.7535887 ], dtype=float32),\n",
              "  0,\n",
              "  'Negative'),\n",
              " (\"Please do not buy anything from flipkart regardless of discounts or low price.They do not have customer care/support.There is a AI based computer assistant which does not understand any question and asks you to write question in email. it says we will reply within 24Hours.but after you email you'll get a response saying we will get to you within 3 days(72 hours).You can not communicate with any representative of flipkart at all through out your transaction.Avoid flipkart all together. Amazon in that sense is many times better due to convenient return policies.delivery person from Ekart(which is a flipkart's own delivery service), indicated that installation expert will open the box, while after delivery I get message from Ekart indicating open box delivery has been perform.It is sad to expert such dishonest behavior from company which is based on consumer service.Flag This ReviewIrrelevantFakeJunk   Thank You! We appreciate your effort.\",\n",
              "  array([-0.0262158, -3.8062115, -5.6149573], dtype=float32),\n",
              "  0,\n",
              "  'Negative'),\n",
              " ('Flipkark make all custmer make fool sale alway defactive items in diwali big billion sale. I purchase tv from flipkart and they dilevered me defactive piceFlag This ReviewIrrelevantFakeJunk   Thank You! We appreciate your effort.',\n",
              "  array([-0.04236732, -3.2923138 , -5.4457555 ], dtype=float32),\n",
              "  0,\n",
              "  'Negative'),\n",
              " (\"Dear Flipkart support executive team, I have ordered Samsung Galaxy F41 of 18/10/2020 on Flipkart with the exchange of a one-year-old OPPO K3 handset in very good condition IMEI NO:868649041625935(IMEI-1) and order number generated as OD119987459941701000. The handset was delivered on 21/10/2020 by Flipkart Wish master Shri Manoj Kumar Mobile/Contact number:0752308xxxx at around 13:00 to 14:00 hrs afternoon time. He has checked  OPPO K3 handset  IMEI NO:868649041625935(IMEI-1) with all respect and cross-checked IMEI of the handset as mentioned in order invoice inclosed. He appraised the good condition of my  OPPO K3 handset and collected the original charger adaptor and data cable along with Handset Cover provided by OEM duly mentioning that all such accessories required while the exchange of the product. Though I was at the office at that time my spouse asked him that these accessories are not required by Flipkart except handset but he insisted to collect all such accessories. So my spouse confirmed me the same on a phone call and I asked her to hand over all such accessories as useless for us as we got a new handset. Afterward Shri Manoj Kumar the Flipkart Wish master has handed over  Samsung Galaxy F41 IMEI/Serial No: 350265511557139 to my spouse and has taken the old OPPO K3 handset IMEI NO:868649041625935(IMEI-1) along with all the above accessories.In the evening I got the SMS from Flipkart backend at 18:24 hours regarding pick-up rejected(product mismatched) of OPPO K3 handset  Tracking id FMPR0138822260 due to details mismatch(Screenshot of SMS received from Flipkart backend at 18:24 hours attached) 05 hours after delivery of Product and collection of the old handset. Afterward, I had a telephonic conversation with  Flipkart Wish master Shri Manoj Kumar Mobile/Contact number:0752308xxxx(call recording attached of 2.1 MB file no AUD-20201021-WA0002_ attached with this email) and while asking why product exchange pick-up rejected(product mismatched) of OPPO K3 handset he replied that he himself canceled the product and paid the exchange value of the  OPPO K3 handset of Rs6900/-as he required the handset because of handset good condition. When I asked him about his unethical/misconduct of product exchange cancellation he did not express any guilty feelings of his unethical misconduct. You requested to listen to the call recording carefully.After this conversation, I have checked the Flipkart app and the thing was confirmed that the pick-up OPPO K3 handset was canceled and the amount of Rs6800/- paid in cash as I did not pay anything in this transaction in cash towards rejection of the OPPO K3 handset hence I have realized that the pick-up  OPPO K3 handset had canceled purposefully by  Flipkart Wish master Shri Manoj Kumar Mobile/Contact number:0752308xxxx. Afterward, I had called back him again and asked him to return the handset to the company( call recording attached of 3.2 MB file no AUD-20201021-WA0003_with this email) then he apologizes and asked me to speak with his Supervisor and both apologized for Shri Manoj Kumar misconduct. You requested to listen to the call recording carefully.That's Why Flipkart Wish master insisted to collect accessories of the OPPO K3 handset to use the handset duly maintaining in his custody unethically as well illegally. In such a scenario of  Flipkart Wish master Shri Manoj Kumar Mobile/Contact number:0752308xxxx may misuse OPPO K3 handset 868649041625935(IMEI-1) duly making fraudulent/ransom calls. Hence I sincerely request you to kindly take appropriate action in this regard so that such instances will never have occurred in the future. You know very well that how serious the matter is and the reputation of Flipkart put on the burner because of such unethical & illegal act by your personnel duly misusing power/access provided by the company in such a scenario.So if  OPPO K3 handset IMEI NO:868649041625935(IMEI-1) is misused for making fraudulent/ransom calls in future then  Flipkart Wish master Shri Manoj Kumar Mobile/Contact number:0752308xxxx, EKART &Flipkart will be solely responsible as do not take any appropriate action even almost 04 days since my complaint raised on Flipkart as on 21/10/2020.To avoid such instances in the future to provide the strict provision of OTP customer mobile number to validate such transaction(cancellation of Pickup of Old appliances and payment of balance amount) if any if required. If any problem occurs while generating OTP or delivering OTP to customer mobile due to technical reason/network outage then the same may be created by Flipkart customer care and after duly authentication same may be advised to the customer for completing such transaction. if the required OTP is not provided by the customer then the whole transaction should be canceled and a refund should be initiated duly charging penal amount if applicable.At last, my humble request to take all such necessary action in this regard to return  OPPO K3  868649041625935(IMEI-1) to the seller and refund amount if any paid by Flipkart Wish master Shri Manoj Kumar Mobile/Contact number:0752308xxxx and confirm status as successfully picked up instead of existing; pickup canceled, and paid exchange amount in cash. I also requested to take consider fact that  Flipkart Wish master Shri Manoj Kumar is a very sincere & dedicated person. He delivers the products in my area for a long time with full dedication. But he committed a mistake without thinking about the consequences of such an unethical act in need of financial crisis post COVID19.So take only affirmative action to avoid such instances in the future instead of any action in vengeance.PS: Please go through all attached audio and .pdf files duly supporting my point of view in this incident of unethical cancellation of OPPO K3 Handset exchange by Flipkart Wish master without customer knowledge and unethical possession of handset with Flipkart wish to master.with regardsyours sincerelyMUDIT AGARWALMOB:700704xxxxFlag This ReviewIrrelevantFakeJunk   Thank You! We appreciate your effort.\",\n",
              "  array([-0.04461921, -3.307951  , -4.9550967 ], dtype=float32),\n",
              "  0,\n",
              "  'Negative'),\n",
              " (\"Flipkart is fake. Flipkart is fraud. Do not buy your valuable things from Flipkart. Very bad services. Our TV got stopped while it was ON and it's not getting switch on again. We bought extended warranty from Flipkart but they are not giving us service. Once our complaint is already closed saying issue is resolved but no technician visited at our place. They are doing fake closure of requests. It's Flipkart responsibility to provide us service as we bought extended warranty from Flipkart.  But when we call to Flipkart customer care they don't receive they call. And when we follow up with Jeeves customer care(company tie up with Flipkart for extended warranty) every time when we call they say technician will come in 48 hours. It's been a week now we are suffering from this issue. It's very frustrating and not acceptable. Flipkart is fake. Flipkart is fraud. They do scam by taking people's money and do not provide services when time comes. They are irresponsible. Horrible website. Never buy things from Flipkart because they are not trust worthy and then u will be scammed and you will regret for buying something from Flipkart.Flag This ReviewIrrelevantFakeJunk   Thank You! We appreciate your effort.\",\n",
              "  array([-0.03824257, -3.4206183 , -5.3332577 ], dtype=float32),\n",
              "  0,\n",
              "  'Negative'),\n",
              " ('Flipkart se kuch mat purchase karna order apne aap cancel ho jata hai aur customer service even worse......kabhi time par delivery nahi hoti hai.....Flag This ReviewIrrelevantFakeJunk   Thank You! We appreciate your effort.',\n",
              "  array([-0.0484732, -3.1952627, -5.0575223], dtype=float32),\n",
              "  0,\n",
              "  'Negative'),\n",
              " ('Bhai kabhi flipkart she order mat Karna warna paise dub jayegeDelivery and k bad direct cancel ho jati haiPir custmor care wale mana Kar dete haiFlag This ReviewIrrelevantFakeJunk   Thank You! We appreciate your effort.',\n",
              "  array([-0.03680848, -3.4667306 , -5.3143687 ], dtype=float32),\n",
              "  0,\n",
              "  'Negative'),\n",
              " ('ONE OF THE BEST SERVICE, FAST AND EASYGOOD MANNER DELIVARY BOY, VERY GOOD QUALITY PRODUCT, CHEAP AND BEST QUALITYFlag This ReviewIrrelevantFakeJunk   Thank You! We appreciate your effort.',\n",
              "  array([-3.734398 , -1.0988009, -0.4418563], dtype=float32),\n",
              "  2,\n",
              "  'Positive'),\n",
              " (\"Worstt apk to order something they didn't deliver on time always if your promise date is 1 they will be deliver it on 10 walmart should take action on thisFlag This ReviewIrrelevantFakeJunk   Thank You! We appreciate your effort.\",\n",
              "  array([-0.02544513, -3.875779  , -5.4293528 ], dtype=float32),\n",
              "  0,\n",
              "  'Negative'),\n",
              " ('Products are very good and the return policy is fantastic and easy. Offers are also fantastic and excitingFlag This ReviewIrrelevantFakeJunk   Thank You! We appreciate your effort.',\n",
              "  array([-3.5350518 , -1.447592  , -0.30692348], dtype=float32),\n",
              "  2,\n",
              "  'Positive'),\n",
              " ('I have been buying from Flipkart for last 10 years. When Walmart took over from Indian management, I expected the service will improve. But sorry to note there is constant deterioration of service under foreign management. I never remember Flipkart failed to deliver an ordered item in last 10 years of buying. But recently I had placed OD120055373675841000 for 5 liter hand sanitizer on 26th October 2020. Delivery time was mentioned by 4th November. But after waiting till 5th November, received a mail from Flipkart informing extension of delivery time till 11th November. But even on 6th November the item was not shipped. Contacting customer support could not get any confirmation to receive the item on time. Hence today I have cancelled the order and placed fresh order on Amazon. My place is located near Kolkata, but most of the advertised items in Flipkart shows un-deliverable in my area as if it is in North East or some remote locality. With such poor service once Jiomart start its operation in near future, nobody will buy from Flipkart.STAY AWAY FROM FLIPKART AND LET THEN SHUT THE SHOP.Flag This ReviewIrrelevantFakeJunk   Thank You! We appreciate your effort.',\n",
              "  array([-0.0332463, -3.5966392, -5.2430744], dtype=float32),\n",
              "  0,\n",
              "  'Negative'),\n",
              " ('For electronics also this pathetic website is not offering refund. They have sellers who does not offer refund.they just looting others money. stop buying form Flipkart. pathetic seller and product quality. They deserve minus point.one point is also very much high for them  .Flag This ReviewIrrelevantFakeJunk   Thank You! We appreciate your effort.',\n",
              "  array([-0.03439575, -3.5294943 , -5.405647  ], dtype=float32),\n",
              "  0,\n",
              "  'Negative'),\n",
              " ('Really, I liked the saree and it is good quality and iam sure everyone likes it happy customer from HyderabadFlag This ReviewIrrelevantFakeJunk   Thank You! We appreciate your effort.',\n",
              "  array([-3.7537239 , -1.2459087 , -0.37267327], dtype=float32),\n",
              "  2,\n",
              "  'Positive'),\n",
              " (\"This review I am writing after almost 10  similar incidents took place in my proximity and 2 personally, order Ids: OD220012577356351000 and OD220001552948404000.I ordered one tablet and one Jacket(Ordered almost 50 orders in a year) during the big billion-day sale, both orders kept on waiting for almost 25 days(I ordered on 20th and this is 5th of November now) and suddenly canceled citing that these products are out of stock.So my question is simple, is it normal for Flipkart to hype up big promises and discounts and then cancel the order when it comes to delivery?I might be biased but this has happened 2 times this year and 1-time last year with me and with 10s of my friends and relatives when we contacted their customer care they were like'what can we do?', amazing service and superb support.I request not to trust Flipkart's big billion and blah blah campaigns and stay mindful when order from this unethical site.Flag This ReviewIrrelevantFakeJunk   Thank You! We appreciate your effort.\",\n",
              "  array([-0.02418236, -3.9134212 , -5.5416102 ], dtype=float32),\n",
              "  0,\n",
              "  'Negative'),\n",
              " (\"Delivery is too slow, besides that ignorant delivery boy is the main problem. I have told him that, i can't receive the order after 5 pm. Because i have to leave my house at 5 pm everyday. But he still came to my doorstep 6:5 p.m. its the second day of my delivery. But because of delivery boy's ignorance now i am losing my interest in online shopping.. Pls do something about it, this is my order id. Order ID - OD120086764012603000. I hope this problem will be solved at once.Flag This ReviewIrrelevantFakeJunk   Thank You! We appreciate your effort.\",\n",
              "  array([-0.02889515, -3.7148721 , -5.491144  ], dtype=float32),\n",
              "  0,\n",
              "  'Negative'),\n",
              " ('Its very bad experience, there is no benefit as flipkart+ customer.There is no resposibilty of customer care service  and also there is  bad experience from seller attached with flipkartFlag This ReviewIrrelevantFakeJunk   Thank You! We appreciate your effort.',\n",
              "  array([-0.03472212, -3.5333605 , -5.314517  ], dtype=float32),\n",
              "  0,\n",
              "  'Negative'),\n",
              " ('I regret to be a user of Flipkart. Their big billion sale was a blunder. Everything they sold is defected & now it wonÃ¢â\\x82¬â\\x84¢t be replaced.Flag This ReviewIrrelevantFakeJunk   Thank You! We appreciate your effort.',\n",
              "  array([-0.02918742, -3.7596314 , -5.20787   ], dtype=float32),\n",
              "  0,\n",
              "  'Negative'),\n",
              " (\"Worst,Amazon is Far far fair and better compared to flipkart.I bought a mobile, got defective , I asked for replacement,  now past 20 days, every time I call, they ask the problem,  and say your request will be processed, after 2  - 3days I surprised to see that my request is cancelled. This repeated 3-4 times. No replacement, not even refund.I won't be again go for flipkart, and also I won't recommend flipkart.Flag This ReviewIrrelevantFakeJunk   Thank You! We appreciate your effort.\",\n",
              "  array([-0.02601151, -3.7833295 , -5.8330107 ], dtype=float32),\n",
              "  0,\n",
              "  'Negative'),\n",
              " ('They did not deliver my product on time nor did they keep me updated with msgs or email. My product was stuck for several days at Banglore. Customer care support was not that helpful. This was my first shooping eperience at flipkart and is was pathetic. In fact I am stilling waiting for my product which was to be delivered to me yesterday. Amazon is way better than Flipkart in terms of service, at least they keep you updated at every stage of the delivery.Flag This ReviewIrrelevantFakeJunk   Thank You! We appreciate your effort.',\n",
              "  array([-0.03900527, -3.45994   , -4.9874897 ], dtype=float32),\n",
              "  0,\n",
              "  'Negative'),\n",
              " ('I love that colour I have chosen thanku filpkart I like this product I love it and fast delivery services and also price rateFlag This ReviewIrrelevantFakeJunk   Thank You! We appreciate your effort.',\n",
              "  array([-3.9911988, -1.3900006, -0.3113639], dtype=float32),\n",
              "  2,\n",
              "  'Positive'),\n",
              " ('Dont buy any expensive item from flipkart, they will send you third grade damaged product and when you will try to return it, they will disable your return.Its a cheat and fake company who is definitely not bothered about its customer baseFlag This ReviewIrrelevantFakeJunk   Thank You! We appreciate your effort.',\n",
              "  array([-0.03332747, -3.5614338 , -5.43066   ], dtype=float32),\n",
              "  0,\n",
              "  'Negative'),\n",
              " ('I ordered a mixer from this seller on Flipkart. This seller delivered a defective product.  The product has 7 days of replacment policy. However, when I asked for a replacement, the seller rejected my replacement request.I once again tried for replacement the seller has once again rejected by replacement request.Flag This ReviewIrrelevantFakeJunk   Thank You! We appreciate your effort.',\n",
              "  array([-0.04308498, -3.2942114 , -5.283871  ], dtype=float32),\n",
              "  0,\n",
              "  'Negative'),\n",
              " (\"I ordered Panasonic LES SMART ANDROID 40INCH ON 27.10.20.FLIPKART' GIVEN DELIVERY DATE ON 01.11.20AND INSTALL ON 02.11.20 BUT LATEST STATUS NOW SELLER NOT PACKED ITEM AND NO ANY REPLY, SELLER NOT RESPONSE TO FLIPKART.FLIPKART WAS FAILED TO PROVIDING ITEM AND NO ANY ENSURE DATE. I FEEL THE MANY REVIEWS IN THIS SIDE AND EXPERIENCE FOUND THAT FLIPKART AND SELLER OMINI TECH MISSGUIDED TO COSTUMER AND MADE DOUGHT FULL ASSEMBLED ITEM PROVIDE DUE TO DELAY DELIVERY OF PRODUCT.Flag This ReviewIrrelevantFakeJunk   Thank You! We appreciate your effort.\",\n",
              "  array([-0.05101504, -3.1159403 , -5.2215824 ], dtype=float32),\n",
              "  0,\n",
              "  'Negative'),\n",
              " ('Flipkart is good site in the current market time the crowed is going on is very high in this situtaion delever time may be delay one day my brother book a phone it has to come on time I am stisfy with that serviceFlag This ReviewIrrelevantFakeJunk   Thank You! We appreciate your effort.',\n",
              "  array([-3.502109  , -1.0332754 , -0.48771685], dtype=float32),\n",
              "  2,\n",
              "  'Positive'),\n",
              " (\"Flipkart customer service is the worst and cheats with the customer. I ordered a headphones and But later I called Representative on Flipkart.A Flipkart representative later call back me and promised to change the color of the headphones. After the headphones are delivered, I request a replacement as per his instructions. But after today's delivery, today when I request a replacement for a color change, the flipkart representative picked up the phone two or three times. Now they are saying that the color will not change. Flipkart customer service fools us like this. Someone was holding the phone for 4 minutes and giving us such a bad service.Flag This ReviewIrrelevantFakeJunk   Thank You! We appreciate your effort.\",\n",
              "  array([-0.03309096, -3.5794976 , -5.3687882 ], dtype=float32),\n",
              "  0,\n",
              "  'Negative'),\n",
              " ('Flipkart is fraud company they are giving only ad but nothing, recently I bought a 32 inches realme  tv on flipkar but tv quality is low and picture quality is bad, colour gets fade automatically . I requested to refund but they refused it by saying this, there is no refund policy there is only replacement while there was mention that you can refund within 10 days. I asked for replacement there is no response yet.  Boycott flipkart they are fraudsterFlag This ReviewIrrelevantFakeJunk   Thank You! We appreciate your effort.',\n",
              "  array([-0.03302718, -3.5535645 , -5.555717  ], dtype=float32),\n",
              "  0,\n",
              "  'Negative'),\n",
              " ('I got defected refrigerator and I requested to return but seller didnâ\\x80\\x99t give me return or not replacement and flipcart also not helping me for this isse. Refrigerator door is not closing, their gasket is totally defected. After they try to convince me for repair under replacement.Very worse experience ever, donâ\\x80\\x99t buy anything from omnitechretail and also not from flipcart , they both making us foolish.??Flag This ReviewIrrelevantFakeJunk   Thank You! We appreciate your effort.',\n",
              "  array([-0.03826161, -3.4175396 , -5.350483  ], dtype=float32),\n",
              "  0,\n",
              "  'Negative'),\n",
              " ('Omnitech retail is a bigger fraud seller . I ordered tv in Flipkart in big billion day offer without any notification order is cancelled because of low price as shown in Flipkart iam feeling very bad about this retailer in FlipkartFlag This ReviewIrrelevantFakeJunk   Thank You! We appreciate your effort.',\n",
              "  array([-0.03312994, -3.559158  , -5.490855  ], dtype=float32),\n",
              "  0,\n",
              "  'Negative'),\n",
              " ('The worst shopping site . I ordered a Table which reached completely damaged . Asked for replacement and the customer care confirmed only refund possible. So when I saw product available I bought it again, and next day Im getting update that my return rejected. Calling customer care everyday since past 1 month,   only response I receive is wait for 24 hours I am stuck with 2 same product which not of a small amount and the size of product is also big . No update yet from Flipkart.Never choose flipkart for shoppingFlag This ReviewIrrelevantFakeJunk   Thank You! We appreciate your effort.',\n",
              "  array([-0.03567641, -3.508038  , -5.280116  ], dtype=float32),\n",
              "  0,\n",
              "  'Negative'),\n",
              " (\"I had ordered iphone 11, 64 gb on the sale and after 3 days I received it, delivery time was pretty good but when I unboxed it. There was a bubble space on iphone and it was very unprofessional. So from their got doubt there's something wrong. Then after switching on, I opened apple store. Instead of apple store it opens play store, so I came to know its clone and asked it to return.Flag This ReviewIrrelevantFakeJunk   Thank You! We appreciate your effort.\",\n",
              "  array([-0.0312136, -3.6484144, -5.3603754], dtype=float32),\n",
              "  0,\n",
              "  'Negative'),\n",
              " ('This is not the trustworthy shopping site, I am yet to get refund my money since last one year, many times I have tried to talk to the customer care, but they are well trained, while I am trying to convey my problem,  they are putting my call hold and later the call got disconnected,  they harrassed me, I am going to sue a complaint on consumer forum,Flag This ReviewIrrelevantFakeJunk   Thank You! We appreciate your effort.',\n",
              "  array([-0.03771234, -3.4282184 , -5.3892574 ], dtype=float32),\n",
              "  0,\n",
              "  'Negative'),\n",
              " (\"Flipkart customer service and delivery systems  both are failure to support customer, you can never trust them, customer service executive will say, there is nothing in our hand, it's totally depend to our courier partner, I have cancelled more than 5 orders because they keep delaying the delivery and they even don't have proper explanation for that, I have taken pledge not to shop with Flipkart, if you want peace of mind and good product go with any e-commerce site except Flipkart.Flag This ReviewIrrelevantFakeJunk   Thank You! We appreciate your effort.\",\n",
              "  array([-0.03302833, -3.5716584 , -5.4307704 ], dtype=float32),\n",
              "  0,\n",
              "  'Negative'),\n",
              " (\"Ekart is worst for delivery, I ordered phone 10 days before but yet it's not delivered. Also end date is pass. Product is better on Flipkart but specially Ekart is worst delivery service.Flag This ReviewIrrelevantFakeJunk   Thank You! We appreciate your effort.\",\n",
              "  array([-0.04017997, -3.3761876 , -5.2579594 ], dtype=float32),\n",
              "  0,\n",
              "  'Negative'),\n",
              " (\"Hi everyone,First of all , We shouldn't compare the brands or products. But I felt that  now flipkart is better than amazon. Most of you are thinking that flipkart is a FRAUD.  I have ordered thru flipkart around 7 times and I couldn't find any reason to blame the brand.But I have brought  products from amazon also and I could  see defects in 2 products that I have brought from amazon.Finally my opinion and request is DONT BUY ONLINE. And if you do then buy from flipkart because it is better.Flag This ReviewIrrelevantFakeJunk   Thank You! We appreciate your effort.\",\n",
              "  array([-0.1539518, -2.2715285, -3.2306373], dtype=float32),\n",
              "  0,\n",
              "  'Negative'),\n",
              " ('Purchased samsung monitor n still no suport after 2 month of use. Taken motorola tv recently, sendjng 3rd party agents to fix instead of replacement finally rejecting ticket without any support. These jeeves team comjng for visiting and closing the issue without any solution.Flipkart bacame big fraud now, without doing anythjny forcebly closed ticket n waste my my money.Flag This ReviewIrrelevantFakeJunk   Thank You! We appreciate your effort.',\n",
              "  array([-0.03411756, -3.5308864 , -5.457752  ], dtype=float32),\n",
              "  0,\n",
              "  'Negative'),\n",
              " (\"With refrence to order no.OD1199431066237282000I ordered one game  of Dart board  on 13 october 2020 and it has to delivered by 19 october 2020 for my son  and on 22 OCT 2020i called the customer care they told me due to big billion days are goin on thats why we are having problem in deleiver . And today its 28  oct I tried contact with customer care people first they tell me this problem get solved by 27 october2020 now today they are saying today it got solved but again message changed to 2 nov2020 and saying to cancel and reorder it.Is this the way to handle  the customer orderNow I dont have time to cancel it and reorder as his birthday is today.I think my order is not that much cost that's why you are doing this harassments to customer .Flag This ReviewIrrelevantFakeJunk   Thank You! We appreciate your effort.\",\n",
              "  array([-0.03995217, -3.3494053 , -5.5067186 ], dtype=float32),\n",
              "  0,\n",
              "  'Negative'),\n",
              " (\"I am  regular customer of flipkart but now I have changed my mind not to orderbany of it's products because of a very bad experience I had recently. I had ordered a travel bag as I was in emergency requirement of it. First they shipped it late after 5-6 days after taking my order. I wanted it badly so I started taking follow-up of courier 4 days before my final delivery date. On the delivery day I got message from Flipkart that parcel is getting two-three days late. It was 50km far from my city I was in such a need of that bag that I showed eagerness to collect that bag from that city. But their  delivery service did not contacted me. After taking this issue to flipakarts customer service they showed inability to interfere as they said we are not responsible and it is delivery services fault. Being a plus customer I did not expected  such a service from one of indias biggest online seller. It is very disappointing from flipkart. From now I have decided not to purchase anything from Flipkart and also I to anyone who is in emergency it's my friendly suggestion not to rely on flipkart.Flag This ReviewIrrelevantFakeJunk   Thank You! We appreciate your effort.\",\n",
              "  array([-0.03641797, -3.4716873 , -5.360578  ], dtype=float32),\n",
              "  0,\n",
              "  'Negative'),\n",
              " (\"Recently I(unfortunately) purchased a new Samsung washing machine( Samsung 6.2 kg ActivWash+ Fully Automatic Top Load Grey) and paid the amount online under exchange.The exchange price was Rs 1800/- for my old Samsung Top loading fully automatic machine.When the new machine arrived at my place, my old samsung washing machine was washing clothes and in use daily. So, the person waited as he saw it working.However later he called to someone and said there is rust on cover, so price is Rs 475/- and asked me to pay balance Rs 1325/-.  I tried contacting FK support and they informed me to place new order(i.e. cancel the order). I was astonished for this input.In good faith I paid cash Rs 1325 as new machine was as door step but protested strongly as it's cheating when old machine is working and washing clothes. But he did not care and it was like predecided from his interactions on phone to fail the machine(& not pass it). To me it was like cheating.I provided a pungent comment on the exchange document and shared with FK.Then next day, Samsung Service engineer visited and he said internally the machine is damaged. The photo of his findings on new machine were shared with FK. After sharing the visit details(fortunately I took job card photo), FK realised that visit is over but the service engineer did not punch those details in system. He called center and infront of him he asked me to go for cancellation/ refund in the FK application. With no choice left, have to apply for refund.So, FK said we will refund the machine amount & cash but Rs 475 will be FK coupons. I asked them give my old working machine back, but FK refused. Already paid Rs 100 for pickup.I am left with no washing machine as the new machine is damaged piece and my old working machine is taken back.So FK cheated me twice:cost of old working samsung machine was forced at Rs 475 when in local shop/market it typically fetches Rs 1000 - 1200Providing defective new washing machineApart from that, pain of contacting FK support, explaining the problem to FK support engineer again and again with no end as every time new person comes on callEven escalation mechanism did not help as they said why did you accept to pay the amount by cash, that means its your fault.Flag This ReviewIrrelevantFakeJunk   Thank You! We appreciate your effort.\",\n",
              "  array([-0.03154794, -3.5908852 , -5.660267  ], dtype=float32),\n",
              "  0,\n",
              "  'Negative'),\n",
              " ('I received samsung f41 with broken seal box without rapper. Denied to refund or replace and advised to use the product like giving it for free.. feels cheated ??Flag This ReviewIrrelevantFakeJunk   Thank You! We appreciate your effort.',\n",
              "  array([-0.05528981, -3.0488467 , -5.0552897 ], dtype=float32),\n",
              "  0,\n",
              "  'Negative'),\n",
              " (\"So the experience about me in this e commerce company for that it's a provide very easy and reasonable price on the selected date .. and currently I ordered realme c15 mobile and the selected date was 21 Oct. And as the time and date flipcard delivered my product .. so I'm totally agree with that and I highly recommend for order guys it's very helpful for a businesFlag This ReviewIrrelevantFakeJunk   Thank You! We appreciate your effort.\",\n",
              "  array([-3.466556  , -1.1186974 , -0.44305718], dtype=float32),\n",
              "  2,\n",
              "  'Positive'),\n",
              " ('The worst online shopping in India . U do not deserve any stars or good opinion . The worst online shopping everFlag This ReviewIrrelevantFakeJunk   Thank You! We appreciate your effort.',\n",
              "  array([-0.04732516, -3.2164874 , -5.0950294 ], dtype=float32),\n",
              "  0,\n",
              "  'Negative'),\n",
              " (\"I want to upgrade to Realme narzo 20 so  I ordered it from @Flipkart. Pick guy came and started crib about my old phone which I am using and is under Good condition. But pick up Guy said can't exchange. I asked that I am ready to pay in full amount but he said want in cash. Disgusting! This was the reason I did not made online payment while placing order. Our  Government is promoting online transactions but companies like @Flipkart.is not following. Flag This ReviewIrrelevantFakeJunk   Thank You! We appreciate your effort.\",\n",
              "  array([-0.04097942, -3.3357437 , -5.3897805 ], dtype=float32),\n",
              "  0,\n",
              "  'Negative'),\n",
              " (\"Flipkart is not trust worthy platform to buy any products they confound their customer. I have faced alot of issues which are as follows:1) one item was missing2) received wrong size shoes3) i ordered ONLY top but received vero moda top.4) and foremost they blocked customer ID because of above returnsShame on you flipkart! It's your fault not mine. I already asked their team to deliver the right items but seller denied to deliver. After that i put return request as their team suggested me to do the same.Flag This ReviewIrrelevantFakeJunk   Thank You! We appreciate your effort.\",\n",
              "  array([-0.0296605, -3.6524153, -5.71487  ], dtype=float32),\n",
              "  0,\n",
              "  'Negative'),\n",
              " (\"Never ever buy from Flipkart. I exchanged my old phone for which they offered me 2850/- subject to the condition of the phone. However, when the delivery person came, he tried to find faults in the phone and showed a scratch barely visible to naked eye and asked me to pay 1550/- extra. The same damage, even if you can call it one, made me eligible for a deduction of 2000/-. But all my requests fell on deaf ears and I had to pay extra. My complaints also have not been attended to. Before this also, I had purchased a mobile stand after making full payment of the same but the same was not delivered to me and they claim to have delivered the same. No action taken for that too. Flipkart doesn't care about buyers once they receive the payment for the product.Flag This ReviewIrrelevantFakeJunk   Thank You! We appreciate your effort.\",\n",
              "  array([-0.0450063, -3.295236 , -4.9691186], dtype=float32),\n",
              "  0,\n",
              "  'Negative'),\n",
              " ('If you want to buy defective items at the same prices as the actual good quality items and get mentally harassed and mentally tortured by Flipkart.Then only Buy from Flipkart. I faced this a lot.Flag This ReviewIrrelevantFakeJunk   Thank You! We appreciate your effort.',\n",
              "  array([-0.03408126, -3.5490155 , -5.348757  ], dtype=float32),\n",
              "  0,\n",
              "  'Negative'),\n",
              " ('I had ordered a pink teddy bear, but they sent white small pig instead, when asked for refund they took 3 months to solve it with so much Harrasment and pain caused to me.... Amazon is the best online appFlag This ReviewIrrelevantFakeJunk   Thank You! We appreciate your effort.',\n",
              "  array([-0.04560375, -3.268913  , -5.0310764 ], dtype=float32),\n",
              "  0,\n",
              "  'Negative'),\n",
              " ('I ordered Mobile phone on 19thOct 4:45 am , The promise date is given by the Flipkart is on 31stOct , I wondered by looking this But still I hoped product will come by 4 days , .When I see the tracking To shipping 2 days and after shipping no response from the tracking service daily 0.5cm is moving forward  and still now not reached that product , This was bad experience I ever had .I contacted customer service the response bis u should wait till 31st. Really bad experience it was , my patients was gone still now I hope it will come by 2 days .Flag This ReviewIrrelevantFakeJunk   Thank You! We appreciate your effort.',\n",
              "  array([-0.02808006, -3.7378378 , -5.5508995 ], dtype=float32),\n",
              "  0,\n",
              "  'Negative'),\n",
              " ('One of the worst companies to deal with. No one really cares about the customers here.Had ordered iPhone SE during the so called â\\x80\\x9cBig Billion Daysâ\\x80\\x9d sale by waking up around 1 am and got a very good deal. On the day of delivery the seller cancels the order and refunds the money. When called customer service they say that the phone is lost in the transit and please place a new order. R U kidding me? Being awake at 1 am to get the deal and now the phone is 10K + more than the deal price.Answer by the customer service and the manager is â\\x80\\x9cwe are sorry sirâ\\x80\\x9d. I understand your concern. No you really donâ\\x80\\x99t care. If you had a good customer service and could gain the confidence of a customer you would have asked the seller to send a replacement. You really donâ\\x80\\x99t care and please stop playing the B.S. games.People really need to start thinking about this fraud company which is making millions of dollars with no help to the customers.Flag This ReviewIrrelevantFakeJunk   Thank You! We appreciate your effort.',\n",
              "  array([-0.02500004, -3.8804255 , -5.5095153 ], dtype=float32),\n",
              "  0,\n",
              "  'Negative'),\n",
              " ('I tried to lenovo smart clock on flipkart but it simply showed that the product is unavailable in my area! amazon is soo much better.Flag This ReviewIrrelevantFakeJunk   Thank You! We appreciate your effort.',\n",
              "  array([-0.05105027, -3.1515322 , -4.9643373 ], dtype=float32),\n",
              "  0,\n",
              "  'Negative'),\n",
              " ('Happy to chosse a flipcart for my shoppinga.Products in the store good quality. Reasonable prices attracts the public towards the flipcart.they delivery the items proper time that already mentioned in the earlier.Flag This ReviewIrrelevantFakeJunk   Thank You! We appreciate your effort.',\n",
              "  array([-3.4751923, -1.0600305, -0.4738528], dtype=float32),\n",
              "  2,\n",
              "  'Positive'),\n",
              " (\"Are we trying to woo the customers by offering mobile exchange and extract more money at the time of delivery?Ordered a phone order I'd:  OD119971336945532000. Firstly the phone reached late and then the delivery boy asked money citing reduction in exchange value and when asked to share the reason of the same since phone had absolutely no defect, he refused to deliver and took the shipment back and totally unaccepted behavior.  Have been trying to call flipkart since then but the only thing I am being told is we will get back?  Since then the phone is showing under transit and everyday I get an email of further delay in the shipment.If this the customer service wherein there is no accountability??Flag This ReviewIrrelevantFakeJunk   Thank You! We appreciate your effort.\",\n",
              "  array([-0.03597936, -3.474485  , -5.43482   ], dtype=float32),\n",
              "  0,\n",
              "  'Negative'),\n",
              " ('I have ordered poco m2 pro on 15 October the expected delivery date is 19th October and it is not delivered so they postponed to 21st October and again they missed the delivery.Now there is no response from the Flipkart and customer service is very poor in FlipkartFlag This ReviewIrrelevantFakeJunk   Thank You! We appreciate your effort.',\n",
              "  array([-0.03675689, -3.4705038 , -5.3006687 ], dtype=float32),\n",
              "  0,\n",
              "  'Negative'),\n",
              " (\"Never buy products from this company as this is the worst site for online shopping as they don't help their customers. In fact, I bought a Samsung refrigerator for the first time, after two weeks it began to work loudly and I called and wrote to the store, but they do not answer, tell me what to do? I want to return the refrigerator or change it for another.Flag This ReviewIrrelevantFakeJunk   Thank You! We appreciate your effort.\",\n",
              "  array([-0.03490598, -3.5103858 , -5.42197   ], dtype=float32),\n",
              "  0,\n",
              "  'Negative'),\n",
              " (\"I brought boAtNirvana earphones from Flipkart and they delivered me the earphones which didn't even turned on!Last couple of week I ordered a dog belt and I received such an low quality broken belt!Are these the big billion days?Flag This ReviewIrrelevantFakeJunk   Thank You! We appreciate your effort.\",\n",
              "  array([-0.03490886, -3.5165257 , -5.3808064 ], dtype=float32),\n",
              "  0,\n",
              "  'Negative'),\n",
              " ('People have great time for shopping in minimum price, my wife has ordered many clothes at reasonable price and also I checked the quality of the product is very good.Flag This ReviewIrrelevantFakeJunk   Thank You! We appreciate your effort.',\n",
              "  array([-3.4362333, -1.4885943, -0.2982381], dtype=float32),\n",
              "  2,\n",
              "  'Positive'),\n",
              " ('Flipkart is Unprofessional service provider. Never deliversthe product on time and the tracking system show totallywrong and false location. The customer representatives aretotally clueless and do not have any idea about where yourproduct is. If you just want to spend your money and donot want the product delivered for a very very long time andsearching for someone who is extremely  anddo not have any idea about how to deliver the product, do notvalue the customer at all, delivers the product faster to nonplus members instead of plus members and how to track theproduct flipkart is the place to buy it fromFlag This ReviewIrrelevantFakeJunk   Thank You! We appreciate your effort.',\n",
              "  array([-0.02693064, -3.8116806 , -5.4125338 ], dtype=float32),\n",
              "  0,\n",
              "  'Negative'),\n",
              " (\"Flipkart is good application for doing online shopping it's give good options for users  but some limitations on this application overall is very good application. keep it upFlag This ReviewIrrelevantFakeJunk   Thank You! We appreciate your effort.\",\n",
              "  array([-3.6511626 , -0.9805143 , -0.51262563], dtype=float32),\n",
              "  2,\n",
              "  'Positive'),\n",
              " (\"Hi,I had purchased mobile phone order I'd of the same OD119964401970141000. In last three days the status is arriving today. I called several time to customer support executive all time the assure me the delivery will come today. Both days we waited but not received any delivery related call, message or notification. Also not giving delivery agent no.Also since last 30 min I called to one of executive he told I will transfer the call to senior executive but no response just ringtone ringing since last 30 min. Pathetic service and delivery I have ever seen.It's too irritating plz check the calls and request I have raised for the same order I'd.I want file a complaint regarding companies service.plz give me senior executive no.If I will not received any response I will file complaint in consumer forum.Reply ASAPExtreme level of pathetic serviceThanks,AkshayFlag This ReviewIrrelevantFakeJunk   Thank You! We appreciate your effort.\",\n",
              "  array([-0.03204449, -3.5978675 , -5.4835806 ], dtype=float32),\n",
              "  0,\n",
              "  'Negative'),\n",
              " (\"Ordered multiple items in BBD SALE. 3 items originate from the same warehouse, 1 item delivered on time, 1 with a 1 day delay the 3rd item (Tablet PC) is no where to be found. Missed the promised delivery date of 19th of October and flipkart won't even give a new delivery date or the explanation towards delay. The tablet has been sent to wrong city, then rerouted to Mumbai and now missing in action. If I ask customer care they give a robotic reply we are working on it. Since 3 days post promised delivery date they can't even contact their own logistics company ekart and get a simple status of the package.Flag This ReviewIrrelevantFakeJunk   Thank You! We appreciate your effort.\",\n",
              "  array([-0.02981035, -3.6636648 , -5.5908027 ], dtype=float32),\n",
              "  0,\n",
              "  'Negative'),\n",
              " ('Flipkart is trustworthy in my opinion.as I don\\'t purchase mobile, washing machine, and any big electronic or furniture thing, I don\\'t choose to purchase such important and long lasting things online. I only order handy things like clothes, earphones, jewellery, home decor, books( novels) , footwears, backpacks, perfume, cosmetics, I only order general things which we choose to use in day to day.Flipkart should add more qualitative product with detail of the product and actual product picture.( Because some of the pictures are really different and the product we receive are really different like if it\\'s \"cloth\" then theÂ\\xa0Â\\xa0material of the cloth is different in the picture they show and the product we receive has literally different quality of the material) .They should maintain their honesty.I like that they deliver product before delivery date and they do call make sure before visiting delivery address.We can easily cancel our product within 24 hours. I got amount back in my account as I have cancelled one of the product after 10 hours.\"It was good experience till now\".\"Thanks for reading\".Flag This ReviewIrrelevantFakeJunk   Thank You! We appreciate your effort.',\n",
              "  array([-0.05241579, -3.184314  , -4.6398506 ], dtype=float32),\n",
              "  0,\n",
              "  'Negative'),\n",
              " ('Flipcart products are good, not best. This site create an average performence. But flipkart provide somtime very good product in low price. But flipkart create a comfort zone for us. There product delivery is very fast. I also love flipkart because I bought so many things from here. There quality avarage but not bad.Flag This ReviewIrrelevantFakeJunk   Thank You! We appreciate your effort.',\n",
              "  array([-3.6139438 , -0.9566019 , -0.52956957], dtype=float32),\n",
              "  2,\n",
              "  'Positive'),\n",
              " ('I have experienced twice that Flipkart is selling faulty mobiles and they dont have proper quality control.Also their customer care service is becoming worst now.Flag This ReviewIrrelevantFakeJunk   Thank You! We appreciate your effort.',\n",
              "  array([-0.02652383, -3.815118  , -5.4870377 ], dtype=float32),\n",
              "  0,\n",
              "  'Negative'),\n",
              " (\"Flipkart customer service is not responding to me lot of time contact and send messages but no response, I don't want any purchase in Flipkart.Flag This ReviewIrrelevantFakeJunk   Thank You! We appreciate your effort.\",\n",
              "  array([-0.03844907, -3.4012878 , -5.4286475 ], dtype=float32),\n",
              "  0,\n",
              "  'Negative'),\n",
              " (\"I was trying to order LED TV with exchange of CRT TV as per advertisement of Flipkart. But while ordering they don't accept orders on going to payment page. I also tried calling customer care bt he told it's sellers decision. I want to know how Flipkart is claiming sumthing wen dey can't provide. Its truly cheating with customers and not forget seller is omni tech retail which Flipkart largest supplier in absence of WS retail.Flag This ReviewIrrelevantFakeJunk   Thank You! We appreciate your effort.\",\n",
              "  array([-0.03610136, -3.4805226 , -5.3673964 ], dtype=float32),\n",
              "  0,\n",
              "  'Negative'),\n",
              " ('I had ordered a product on 15th Oct which was promised delivery date on 17th oct. The Ekart logistics messed up the address and sent my package to other district and gave a new delivery date of 24th oct. The item is in Bangalore logistics from yesterday and being in bangalore I have to wait more than 2 days to get it delivered. It just moving from 1 Flipkart facility to other. The tracking system of E kart is pathetic. Thanks Flipkart, I am never ordering from you again.Flag This ReviewIrrelevantFakeJunk   Thank You! We appreciate your effort.',\n",
              "  array([-0.03006095, -3.689591  , -5.374878  ], dtype=float32),\n",
              "  0,\n",
              "  'Negative'),\n",
              " ('This is a online delivery website it is easy to purchase the products. The all varieties are available of any equipments, home appliances, dresses, fashion designers, clooths.Home deliverySaving of timeSome offersDiscountsEMI policeFlag This ReviewIrrelevantFakeJunk   Thank You! We appreciate your effort.',\n",
              "  array([-3.9427083 , -1.2208089 , -0.37744212], dtype=float32),\n",
              "  2,\n",
              "  'Positive'),\n",
              " ('They are doing frauds with customers, selling mobile without mentioning IMEI on mobile phones. Customer support is worst, no resolution.Flag This ReviewIrrelevantFakeJunk   Thank You! We appreciate your effort.',\n",
              "  array([-0.03478797, -3.4991348 , -5.529897  ], dtype=float32),\n",
              "  0,\n",
              "  'Negative'),\n",
              " (\"This boat rockerz 450 headphone is awesome for music lover is Bass is op level bass and of the body  premium and the colour is also premium the logo is also premium and you can buy it it is for value for money you can buy it now by the big billion sale from flipkart because fifty or sixty percent of is there I  give this 5-star to this headphone because it is too awesome that I don't have any words about it and it is in the premium black colour Matte finish it has branding on to their Cup the year questions are to nice that more pain on your ears are no pain ok this is about boat rockerz 250 you can buy it from Flipkart????Flag This ReviewIrrelevantFakeJunk   Thank You! We appreciate your effort.\",\n",
              "  array([-2.5628436 , -0.85226744, -0.7002365 ], dtype=float32),\n",
              "  2,\n",
              "  'Positive'),\n",
              " ('I bought a laptop from flipkart on 2nd September 2020 but the laptop has sound problem, I request flipkart for refund but they did a replacement but the replace laptop license was used. I had launch a complain to Microsoft and brand, both told that the licensed was used. Replaced laptop delivered on 18th September 2020 and till today  I am not getting proper update from flipkart.Filpkart do cheating with customer and sold used laptop.Flag This ReviewIrrelevantFakeJunk   Thank You! We appreciate your effort.',\n",
              "  array([-0.03549787, -3.5020275 , -5.3519382 ], dtype=float32),\n",
              "  0,\n",
              "  'Negative'),\n",
              " ('Flipkart has wide range of products available to shop. Secure payment options. One of the trusted site to shop online.Flag This ReviewIrrelevantFakeJunk   Thank You! We appreciate your effort.',\n",
              "  array([-3.4509003 , -1.1944193 , -0.40736222], dtype=float32),\n",
              "  2,\n",
              "  'Positive'),\n",
              " ('Had bought a toothpaste combo from flipkart. Out of 4 one box was empty. Response to this from flipkart was sorry but 10 days passed nothing can be doneWas a regular customer but not anymoreFlag This ReviewIrrelevantFakeJunk   Thank You! We appreciate your effort.',\n",
              "  array([-0.03800216, -3.400442  , -5.5389543 ], dtype=float32),\n",
              "  0,\n",
              "  'Negative'),\n",
              " ('Purchased a 1 Ton inverter A.C of MarQ brand from flipkart in October 2018. In November 2019 the remote of this unit stopped functioning. As the one year warranty was over, had searched in whole Mumbai for purchase of a compatible remote. But no remote available is compatible with this brand. After repeated correspondence from February 2020 with an unresponsive customer care of  MarQ flipkart, it was informed in October 2020 that the company does not produce any spare remote which can be purchased by the customer. As no remote in market or MI phone is compatible with this unique brand of A.C, i am unable to use this A.C since November 2019 and now only option is to discard this unusable junk of equipment purchased with a good amount of money.Flipkart needs to look into this matter. The customer care of flipkart has simply passed onto MarQ and this brand is irresponsible towards customer support.So if this is the condition with the remote, just imagine the condition if there is any issue with the electronic parts in the MarQ A.C.So be careful in investing money in this product. It is a total waste of money.Flag This ReviewIrrelevantFakeJunk   Thank You! We appreciate your effort.',\n",
              "  array([-0.03152207, -3.6334271 , -5.3806357 ], dtype=float32),\n",
              "  0,\n",
              "  'Negative'),\n",
              " ('Flipkart is one of the best online sites.  I brought many products from here there is no issue or no defect are on the all product. It wasgood to their on all products I brought all categoriesFlag This ReviewIrrelevantFakeJunk   Thank You! We appreciate your effort.',\n",
              "  array([-3.9961865, -1.2304684, -0.3718485], dtype=float32),\n",
              "  2,\n",
              "  'Positive'),\n",
              " ('We selected a Zebronics product for this Dussehra sale & added the item to the cart. Started checking for additional items to add, to the cart for 10% discount eligibility, on our card. While we were doing so, we were shocked to see the product cost increased by Rs.500. If this is the situation where the cost of the product increases on a hourly basis, then what is the purpose/big deal in announcing TheBig Billion Days Sale FLIPKART ?????Flag This ReviewIrrelevantFakeJunk   Thank You! We appreciate your effort.',\n",
              "  array([-0.04562619, -3.239768  , -5.216184  ], dtype=float32),\n",
              "  0,\n",
              "  'Negative'),\n",
              " ('Flipkart BBD 2020 sale is all fake. All the items are either spiked the price before the sale and lowered once the sale started. Or if any item is showing a low price, it will definitely be \"out of stock\" and the same item will be available at a higher price in a few mins.  Its all-time waste spending time on looking for items on Flipkart, it\\'s better to buy in an outlet directly.Flag This ReviewIrrelevantFakeJunk   Thank You! We appreciate your effort.',\n",
              "  array([-0.04139663, -3.3452272 , -5.240195  ], dtype=float32),\n",
              "  0,\n",
              "  'Negative'),\n",
              " ('Now very bad experience in these days,  they send me defective led after that no one is there to hear me.Always nd predefined reply.Flag This ReviewIrrelevantFakeJunk   Thank You! We appreciate your effort.',\n",
              "  array([-0.03304875, -3.5815897 , -5.3650694 ], dtype=float32),\n",
              "  0,\n",
              "  'Negative'),\n",
              " ('Had a worst experience with flipkart.. had ordered a laptop by paying 50000 due technical  side on flipkart amount got debuted but ordered was not placed.. flipkart is staying that seller had refunded the money but till date amount was not refunded flipkart is stating that amount will be refunded by 22 October.. this is very frustrating...Flag This ReviewIrrelevantFakeJunk   Thank You! We appreciate your effort.',\n",
              "  array([-0.03479926, -3.538313  , -5.27103   ], dtype=float32),\n",
              "  0,\n",
              "  'Negative'),\n",
              " ('Nice experience since the shopping started on it. Sometimesproducts are not up to the expectations. Super coin offer is gud Some small itemslike makeup, pens, household things, show pieces, watches, bags, skincare , hair care, clothing and so on could be added. It will definitelymake the shopping interesting for many women as they areinterested in buying such kind of things online.Flag This ReviewIrrelevantFakeJunk   Thank You! We appreciate your effort.',\n",
              "  array([-3.562144  , -1.0402188 , -0.48087087], dtype=float32),\n",
              "  2,\n",
              "  'Positive'),\n",
              " ('I had purchased 50 inch Vu TV from Flipkart and also bought extended warranty from flipkart(jeeves) for 4000/- valid till July 2021. I had filed claim for Tv not working on 29th Sept, (claim id CLJP01102000234) which has been attended once on 8th Oct but TV still not working. Jeeves support keeps saying \"we are looking into it\". But TV has not been repaired even after 15 days. Would advise all NOT TO BUY extended warranty from them as all you will get is headaches, if your appliance stops working and you have to file a claim with them.Flag This ReviewIrrelevantFakeJunk   Thank You! We appreciate your effort.',\n",
              "  array([-0.04831976, -3.17032   , -5.2628045 ], dtype=float32),\n",
              "  0,\n",
              "  'Negative'),\n",
              " ('I ordered \"Ubania Collection 144 TC Cotton Double King Printed Bedsheet (Pack of 2, Multicolor)\", Order ID: OD219778783902124000 on 29th September, 2020 and I received a damaged product. The Product is having a 7 days return policy and I created a return request on the same day. After creating a return request, I was given a date of 4th October, 2020 for pick up. No one came to pick up the product on 4th OCtober, 2020 and Flipkart is delaying return by saying a technical issue. Today is 13th October, 2020 and the product is not yet picked up. Initially, Flipkart gave me 4th October as a pick up date, then they gave 6th October, then 8th October, then 9th October, then 10th October, then 14th October. Today, I got a call saying that the return request is cancelled at the seller\\'s end. I just don\\'t understand why would a seller cancel a return request when a 7 days return policy is mentioned. Even though the seller doesn\\'t accept, I consider flipkart as responsible for this issue because the policies are not enforced properly on sellers. Please see the attached image of the damaged bedsheet and pillow. Please help with the return of this Product.Flag This ReviewIrrelevantFakeJunk   Thank You! We appreciate your effort.',\n",
              "  array([-0.03157023, -3.6012256 , -5.5762215 ], dtype=float32),\n",
              "  0,\n",
              "  'Negative'),\n",
              " ('Flipkart is one of the top India online shopping mall list everybody can buying and selling product in online though flipkart and this product is best high quality in all over india market if can buy online product then you can choice flipkartFlag This ReviewIrrelevantFakeJunk   Thank You! We appreciate your effort.',\n",
              "  array([-3.4409037 , -1.0160215 , -0.50098777], dtype=float32),\n",
              "  2,\n",
              "  'Positive'),\n",
              " ('One the best way for shopping in online with quality products and reasonable prices we can buy everything what ever we need this can provide you best deals with great discount I hope you will enjoy and happy with this one and well known as all in one store  and best online store in our country, thanks to filpkartFlag This ReviewIrrelevantFakeJunk   Thank You! We appreciate your effort.',\n",
              "  array([-3.8272288, -1.1900382, -0.3944948], dtype=float32),\n",
              "  2,\n",
              "  'Positive'),\n",
              " ('I received a Gionee F103PRO defective mobile piece, please help me to get a working mobile please provide me your genuine serviceFlag This ReviewIrrelevantFakeJunk   Thank You! We appreciate your effort.',\n",
              "  array([-0.05274887, -3.1375468 , -4.829225  ], dtype=float32),\n",
              "  0,\n",
              "  'Negative'),\n",
              " (\"Worst customer care ... Don't buy non return  category products...There is no option for missing productsFlag This ReviewIrrelevantFakeJunk   Thank You! We appreciate your effort.\",\n",
              "  array([-0.04410354, -3.2779112 , -5.214304  ], dtype=float32),\n",
              "  0,\n",
              "  'Negative'),\n",
              " ('I ordered brush set The product recieved was of small size and a brush was changed with an eyebrow maker but the quality was all good and delievry person kept calm even after misguiding of wrong address by me thank u ??Flag This ReviewIrrelevantFakeJunk   Thank You! We appreciate your effort.',\n",
              "  array([-2.6903007 , -0.92740154, -0.6225784 ], dtype=float32),\n",
              "  2,\n",
              "  'Positive'),\n",
              " ('Dear TeamI already raised a complaint regarding my order from flipkart a lot of time I dint get a proper response from the concern team and also the team the promises are fake and atleast a mail  please be carefulFlag This ReviewIrrelevantFakeJunk   Thank You! We appreciate your effort.',\n",
              "  array([-0.02774202, -3.7379987 , -5.6382785 ], dtype=float32),\n",
              "  0,\n",
              "  'Negative'),\n",
              " (\"It was really disappointing that I waited for such along time to get the product delivered and now it's been cancelled and have to buy the product for a greater amount.Flag This ReviewIrrelevantFakeJunk   Thank You! We appreciate your effort.\",\n",
              "  array([-0.03433044, -3.600718  , -5.0446377 ], dtype=float32),\n",
              "  0,\n",
              "  'Negative'),\n",
              " ('Bahut ganda experience h I ordered redme 9 worth of 11k, sound quality is very bed, but Flipkart k customer service representative me se kisi ne help nhi kiya. Flipkart ka products bhi bekar h or Flipkart bhi.Flag This ReviewIrrelevantFakeJunk   Thank You! We appreciate your effort.',\n",
              "  array([-0.06478408, -2.911182  , -4.7892327 ], dtype=float32),\n",
              "  0,\n",
              "  'Negative'),\n",
              " ('I had ordered 2 product via flipkart and made payment . But only one was delivered. I have been contacting them for 2 weeks but have very bad response.Itâ\\x80\\x99s like I have lost my money..I am attaching the photo the one they show as refund rejected is the one which was not deliveredDonâ\\x80\\x99t trust themFlag This ReviewIrrelevantFakeJunk   Thank You! We appreciate your effort.',\n",
              "  array([-0.03761625, -3.4217968 , -5.457568  ], dtype=float32),\n",
              "  0,\n",
              "  'Negative'),\n",
              " ('I have good experienced with Flipkart my first order boat 100 earphone it works properly and good after my second order poco x2 mobile I send return with some issues They respond quickly  and  they picked up the moblile after 1 hour I got my money back in bankFlag This ReviewIrrelevantFakeJunk   Thank You! We appreciate your effort.',\n",
              "  array([-3.5134716 , -1.1638817 , -0.41864917], dtype=float32),\n",
              "  2,\n",
              "  'Positive'),\n",
              " ('I recently purchased a flip cover for realmi c12 . Best quality as expected . Same colour as shown in pic. Really I love it.Flag This ReviewIrrelevantFakeJunk   Thank You! We appreciate your effort.',\n",
              "  array([-3.8089175, -0.9341197, -0.5363209], dtype=float32),\n",
              "  2,\n",
              "  'Positive'),\n",
              " (\"I had a worst experience with Flipkart. I placed the order for study table on 24th September'2020 and the delivery timeline was mentioned to us as 25th September'2020. I waited till 7st October and in the late evening I got the message that new delivery date is 5th, 6th, 7th Oct now. I waited till 7th Oct and just now i.e. late evening on 5th I got a message that new date is 7th Oct.I am very upset and decided that I will never do any shopping in my life in flipkart site.Flag This ReviewIrrelevantFakeJunk   Thank You! We appreciate your effort.\",\n",
              "  array([-0.04003132, -3.390771  , -5.1925116 ], dtype=float32),\n",
              "  0,\n",
              "  'Negative'),\n",
              " ('Best for online purchasing. Fast delivery. Best thing is that it has its own delivery team(Ekart). Trustable.Flag This ReviewIrrelevantFakeJunk   Thank You! We appreciate your effort.',\n",
              "  array([-4.0475016 , -1.1237082 , -0.41936842], dtype=float32),\n",
              "  2,\n",
              "  'Positive'),\n",
              " (\"This is regrading your Flipkart pathetic services as well their tie up company Jeeves. I purchased a ASUS mobile in sep'10.During that time opted for Complete Mobile protection CMP which costs Rs.699 during one year period which is provided by their Tie up company Jeeves. But mobile got suddenly Off without any accidental damage. When I raised for claim assistance Jeeves consumer services insisted me to to pay. 500 towards Processing fee. I believe why do we need to pay to avail these these  processing fees to avail the service instead I can get it from local service centre. Then jeeves returned my mobile without doing servicing when I denied to Pay the processing fees.I filed my grievance in Public grievance system portal Grievance Status for registration number: DARPG/E/2020/19062 seeking for action. then Director accepted my grievance I believe there  is Sense in  it. Then he reached  National Consumer Helpline to file a complaint on behalf of me.Grievance Number: 2241207.Still Jeeves is very rigid and insisted to pay. I have provided all my Order details to Jeeves and honorable helpline.After dropping couple of reminders Jeeves left from the picture and Flipkart said apologies and initiated 70% of Mobile cost which is Rs.6299 .and collected by bank details to transfer. to close the issue. Received acknowledged mail  on 28-Sep-2020 that refund amount will reflect in my account in24 to 48 hours as per their resolution date 01-Oct-2020.Still I believe atleast Flipkart will try to regain my confidence but then actual drama started.Its been one week where Flipkart Customer care executives calling me daily 2 times asking for what is the issue.?I believe its become now a daily activity for me to tell on the issue for which without doing getting till now.Bring this issue again to notice of National Consumer helpline again.Flag This ReviewIrrelevantFakeJunk   Thank You! We appreciate your effort.\",\n",
              "  array([-0.03078715, -3.6703997 , -5.3284025 ], dtype=float32),\n",
              "  0,\n",
              "  'Negative'),\n",
              " ('Flipkart all products very discount price available but Flipkart delivery boy not give deliver time to time I give 2 starFlag This ReviewIrrelevantFakeJunk   Thank You! We appreciate your effort.',\n",
              "  array([-3.7185035 , -1.2448006 , -0.37435693], dtype=float32),\n",
              "  2,\n",
              "  'Positive'),\n",
              " (\"I had ordered kapiva aloe vera juice using debit card on 20th August.But somehow I never got the product after waiting for a month and it got cancelled from the Flipkart.Furthermore I waited for 10 more days to get my refund.Then again in the month of September I ordered the same product and it's been 15 days still not received the product.They are just holding my money again.Flipkart is cheating it's customers by holding their money.My advice is never use online payment mode to order any product on Flipkart.You never know they might keep your money.Secondly their customer service is worst because you might hear them saying they can't do anything to help you out.One of their customer executive had Said that.Not deserve even one star.Flag This ReviewIrrelevantFakeJunk   Thank You! We appreciate your effort.\",\n",
              "  array([-0.04104372, -3.3610363 , -5.200548  ], dtype=float32),\n",
              "  0,\n",
              "  'Negative'),\n",
              " (\"Flipkart has proved that it's a fraud company. They have sent another used/second-hand product in the name of replacement so that they won't have to refund the amount. It's been almost a month and the issue is still not resolved. Flipkart doesn't care about customer's money. They care about their own. They keep sending used products.Flag This ReviewIrrelevantFakeJunk   Thank You! We appreciate your effort.\",\n",
              "  array([-0.04134699, -3.3643079 , -5.129763  ], dtype=float32),\n",
              "  0,\n",
              "  'Negative'),\n",
              " (\"I  ordered groceries and they have given delivered date on next day. After waiting there days they have cancelled my order without my concern and asking me to reorder. I request please don't buy from Flipkart better try with grofers or AmazonFlag This ReviewIrrelevantFakeJunk   Thank You! We appreciate your effort.\",\n",
              "  array([-0.044272 , -3.2870078, -5.125919 ], dtype=float32),\n",
              "  0,\n",
              "  'Negative'),\n",
              " ('Product delivered  as shown within good condition and on time , the product is worth of money  happyFlag This ReviewIrrelevantFakeJunk   Thank You! We appreciate your effort.',\n",
              "  array([-3.4381273, -1.2112725, -0.4003922], dtype=float32),\n",
              "  2,\n",
              "  'Positive'),\n",
              " (\"Worst customer service from #flipkart ordered a washing machine on 4th Sep and it was delivered on next day but in damaged condition, raised the replacement request on 6th Sep, it's been more than 3 weeks now and i am not getting any resolution, on top of that few days back #flipkart cancelled my replacement request without any resolution.Complaint ID: IN20091817102367990767Dear flipkart open your eyes learn from #amazonFlag This ReviewIrrelevantFakeJunk   Thank You! We appreciate your effort.\",\n",
              "  array([-0.03488307, -3.543222  , -5.2284694 ], dtype=float32),\n",
              "  0,\n",
              "  'Negative'),\n",
              " (\"I ordered a phone for my daughter's birthday and it was supposed to come on the 29th of sept. We waited the entire day and at 8pm we decided to enquire and they said it was going to come by the 6th of oct. Then we called again the next day and they said they would try to deliver by evening. Finally, it came and was part of an exchange offer on a perfectly functioning old phone. The phone was in top condition and they claimed that an engraved symbol on the phone was a scratch. They demanded 4k for a perfectly functioning phone. I refused the order. Why would I simply pay 4k extra? Horrible service. Amazon is way better than Flipkart. Poor customer service. The review doesn't even deserve one star. Buck up Flipkart.Flag This ReviewIrrelevantFakeJunk   Thank You! We appreciate your effort.\",\n",
              "  array([-0.03902213, -3.459125  , -4.9888787 ], dtype=float32),\n",
              "  0,\n",
              "  'Negative'),\n",
              " ('Totally fraud and thag platform is flipkartSold wrong mobile set. after no response any customer care. So I suggest u not buying any product on Flipkart . No care for customerThankuSunil -971762xxxxFlag This ReviewIrrelevantFakeJunk   Thank You! We appreciate your effort.',\n",
              "  array([-0.03290227, -3.5401678 , -5.6962886 ], dtype=float32),\n",
              "  0,\n",
              "  'Negative'),\n",
              " ('Its not good experience for a customer like me, where return option is removed and only replacement option is present now.Flag This ReviewIrrelevantFakeJunk   Thank You! We appreciate your effort.',\n",
              "  array([-0.04114657, -3.3843257 , -5.049724  ], dtype=float32),\n",
              "  0,\n",
              "  'Negative'),\n",
              " ('Worst customer care I have ever spoke, don\\'t know have basic knowledge of customer service, what they is only Letter \"SORRY\",if that is only word they Can utter pls replace with IVR which listen and says SORRY after every 2 Mins.Flag This ReviewIrrelevantFakeJunk   Thank You! We appreciate your effort.',\n",
              "  array([-0.04499023, -3.2452936 , -5.2911205 ], dtype=float32),\n",
              "  0,\n",
              "  'Negative'),\n",
              " ('Recently I have bought one mobile . What was showed in online is completetely different one. I contacted flipkart they simply denay it. Being a customer for last 9-10 years, if get a tretment like that anyone you can get this treatment. So I suggest dont go for flipkat rather amazon is far better than this cheater.Now a days all the the flipkart product become very poor. No quality product is avalable in flipkart.Flag This ReviewIrrelevantFakeJunk   Thank You! We appreciate your effort.',\n",
              "  array([-0.03286235, -3.6279874 , -5.157042  ], dtype=float32),\n",
              "  0,\n",
              "  'Negative'),\n",
              " ('Worst shopping app.after corona pandemic flipkart is looting people and making illegal money by raising prices, delay in delivery, everything to save money and get herself compensated from pandemic.Beware of its froudlent practices.Flag This ReviewIrrelevantFakeJunk   Thank You! We appreciate your effort.',\n",
              "  array([-0.04690859, -3.2418203 , -5.000766  ], dtype=float32),\n",
              "  0,\n",
              "  'Negative'),\n",
              " ('Read our review to get best information about this applicationThis app is very helpfull for online shoppingSerivice is very supportive and give us 100 days exchange on many productDelivery is also fast . It deliver the product in the time period about 1WeekIt also have many types of paymentOption like COD, gift card  and  online payment etc.Overall very helpfull website for online  shoppingFlag This ReviewIrrelevantFakeJunk   Thank You! We appreciate your effort.',\n",
              "  array([-3.9063475, -1.3116195, -0.3417825], dtype=float32),\n",
              "  2,\n",
              "  'Positive'),\n",
              " ('Flipkart taking order but not delivering iteams, they are asking to come to there place not delivering at home and that Ecart guy speaking rudly and rejected my products not only one there are multipleFlag This ReviewIrrelevantFakeJunk   Thank You! We appreciate your effort.',\n",
              "  array([-0.03330418, -3.572946  , -5.363885  ], dtype=float32),\n",
              "  0,\n",
              "  'Negative'),\n",
              " ('I ordered shoes nd when i received order but i received different colours of shoesThen I returned the shoes nd second time i received that shoes onlyIt was disgusting.Flag This ReviewIrrelevantFakeJunk   Thank You! We appreciate your effort.',\n",
              "  array([-0.03836131, -3.4261436 , -5.2740803 ], dtype=float32),\n",
              "  0,\n",
              "  'Negative'),\n",
              " (\"The worst experience you could possibly get from a online shopping platform. I am traveling abroad and I ordered 3 rain jackets and only received 1. I reported the problem 15 minutes after the delivery was done and the agent (who does not know how to do his job probably cause of the lack of proper training)put in the wrong request. I requested for a manager callback a guy who doesn't speak English called me so he said someone else will call me back. After a day someone who speaks English called me and he didn't want to take any responsibility. He first blamed the agent for putting in the wrong request and that he had to cancel the request and place a new request. After cancelling the request he stated that the merchandise is no longer available and ended up blaming the seller for their incompetence and Flipkart can't do anything about it since it is the sellers fault. I purchased through Flipkart and not the seller (but I wish I had purchased through the seller directly or a different website). I have nothing to do with the seller and I don't care who they are because I purchased the merchandise through Flipkart and paid Flipkart for it. He finally ended up saying the same thing over and over again blaming the seller and that Flipkart won't do anything but just request for a refund. I am leaving in three days and  I still don't have my merchandise or my refund.Flag This ReviewIrrelevantFakeJunk   Thank You! We appreciate your effort.\",\n",
              "  array([-0.02800623, -3.708706  , -5.773619  ], dtype=float32),\n",
              "  0,\n",
              "  'Negative'),\n",
              " (\"I ordered a bed from Omnitech Retails on 13th Sept was supposed to get it by 19th Sept I AVE STILL NOT RECEIVED THE PRODUCT & it's 23rd today. When I made a complaint Flipkart told me they will get back to me by 29th that means FLIPKART wishes me to keep paying for the installments BUT THEY WON't DELIVER THE PRODUCT. what they will do is they will JUST UPDATE ME ON OR BEFORE 29th September. Highly unprofessional & they are together in this cheat fraud with Omnitech. They are not even CANCELING the order as THEY CAN'T IGNORE THE POLICY but they can IGNORE THE DELIVERY TIME. Then they don't know any policy. Please don't ever PRE-PAY flipkart they are just here to LOOTO YOUR MONEY. They think we are NOT EARNING they think our money is just to be wasted on their fraud sellers & them.SHAME IN YOU FLIPKART!Flag This ReviewIrrelevantFakeJunk   Thank You! We appreciate your effort.\",\n",
              "  array([-0.03340945, -3.550831  , -5.483027  ], dtype=float32),\n",
              "  0,\n",
              "  'Negative'),\n",
              " (\"Flipcart and Omnitech Retail have an unholy alliance to cheat customers. Dear friends if you're ordering any home appliances from flip cart with exchange then be sure that Omnitech will not pick-up your exchange item. They will point out something to reject the exchange even if the old item is as good as new having no defects what so ever. They show value for exchange only to atract customer but never accept the exchange. Be careful. Avoid flipcart and especially this seller. It is fraud seller.Flag This ReviewIrrelevantFakeJunk   Thank You! We appreciate your effort.\",\n",
              "  array([-0.0352896, -3.4863455, -5.506173 ], dtype=float32),\n",
              "  0,\n",
              "  'Negative'),\n",
              " ('Personally I like this Flipkart service, all range of products are available, delivery to rural places, offers, etc.I ordered earphone which are urgently for me abd flipkart delivered it was too early than expected and there was no damages to the earphone. I got my product properly as expected. Very useful site for online shopping and its price are affordableFlag This ReviewIrrelevantFakeJunk   Thank You! We appreciate your effort.',\n",
              "  array([-3.380426  , -0.81960005, -0.64367306], dtype=float32),\n",
              "  2,\n",
              "  'Positive'),\n",
              " (\"Such a cheap service.. flipkart cheat with me first of all they refuse my return 5-6 times and block my I'd also.3rd class service and no one takes the proper responsibility.Flag This ReviewIrrelevantFakeJunk   Thank You! We appreciate your effort.\",\n",
              "  array([-0.04184922, -3.3702385 , -5.020049  ], dtype=float32),\n",
              "  0,\n",
              "  'Negative'),\n",
              " ('They lie. They cheat.Purchased an expensive speaker.Received without connecting wire.When asked to replace they blankly said no, because as per them, connecting wires are not part of standard accessories. NEVER EVER BUY FROM FLIPKART.Flag This ReviewIrrelevantFakeJunk   Thank You! We appreciate your effort.',\n",
              "  array([-0.04145061, -3.3823633 , -5.015232  ], dtype=float32),\n",
              "  0,\n",
              "  'Negative'),\n",
              " (\"Untill, I had an issue with the product I loved flipkart services. Recently I happened to order a laptop for my daughter's online classes, with low configuration for 20990 rupees. It turned out to be so terrible that it can't take load of online classes. My purpose wasn't solved.  Immediately on the next day, I requested for the return. Flipkart tricked it in such a way, by delaying the process and finally cancelled the return. On several complains, they raised a return request for next month. I am still waiting..for over a month with this trash to get my refund of 20990. On calling they say, it is a question of huge amount. Isn't the money that I paid for this trash, huge for you? Flipkart doesn't support return of expensive things, then do not promise the same, merely to attract customers.Flag This ReviewIrrelevantFakeJunk   Thank You! We appreciate your effort.\",\n",
              "  array([-0.02983546, -3.6858277 , -5.444891  ], dtype=float32),\n",
              "  0,\n",
              "  'Negative'),\n",
              " (\"Optimum nutrition gold standard why protein on flipkart is fake.Today I received my order and I checked there is multiple bubble in brandsticker and I have been worked for royal stag.A genuine company never comprises with his sticker.Flipkart selling fake product.It's not good for health.I am not going to use it.Seller :- Shreyash retail pvt LtdFlag This ReviewIrrelevantFakeJunk   Thank You! We appreciate your effort.\",\n",
              "  array([-0.04080811, -3.388411  , -5.0792737 ], dtype=float32),\n",
              "  0,\n",
              "  'Negative'),\n",
              " ('FLIPKARTÂ\\xa0a Big cheater. You will never get your product on time. They will charge heavy amount as shipping & make you pained with delayed delivery. If you have enough time to wait, go ahead with Flipkart. Would suggest, search for similar item on any other E Com, You will get cheaper rate & no delivery charges. If want peace of mind with online purchase, never trustÂ\\xa0FLIPKART Very Good.Flag This ReviewIrrelevantFakeJunk   Thank You! We appreciate your effort.',\n",
              "  array([-2.6040304 , -0.7632676 , -0.77678025], dtype=float32),\n",
              "  1,\n",
              "  'Neutral'),\n",
              " ('Cheaters, delivered wrong product and not ready to take back, uninstalling the app, last around 3000/_Flag This ReviewIrrelevantFakeJunk   Thank You! We appreciate your effort.',\n",
              "  array([-0.04088833, -3.3730853 , -5.1533513 ], dtype=float32),\n",
              "  0,\n",
              "  'Negative'),\n",
              " ('Purchased a new HUAMI VERGE LITE SMARTWATCH from Flipkart. Step Count was inaccurate and hence filed for Replacement or Refund. However the flipkart behaviour towards the customers is rude and inattentive. I feel cheated and the wishman to inspect is a ROGUE.#Flipkart #HuamiFlag This ReviewIrrelevantFakeJunk   Thank You! We appreciate your effort.',\n",
              "  array([-0.02859248, -3.723741  , -5.5105157 ], dtype=float32),\n",
              "  0,\n",
              "  'Negative'),\n",
              " ('Flipkart is an indian e-commerce company based in Bangalore. Such a good indian e-commerce website I thanks a lot to flipkart to deliverd such a good product to us. Now a days you are very helpful for online shopping. We all are happy to see your work and I appreciate. To see your working style. My all family use to do online shopping with flipkart. And they trust these website when ever they use to order any product. So please flipkart work as you are doing. And we all trust too much on your website. So please dont broke such a trust level.Thank you flipkart we all love youFlag This ReviewIrrelevantFakeJunk   Thank You! We appreciate your effort.',\n",
              "  array([-3.806096  , -1.2773687 , -0.35811132], dtype=float32),\n",
              "  2,\n",
              "  'Positive'),\n",
              " (\"Hi,Now a days fraud on flipkart is increasing. Be aware of it. It has happen to me. I've order a gloves of seebuy brand the product received was of a thrid class quality. And the story begin  from there when you ask for refund as per there policy they will just forecast the pickup and refund date in order to frustrate you so that you by yourself will not ask for refund.I would ask not to prefer flipkartFlag This ReviewIrrelevantFakeJunk   Thank You! We appreciate your effort.\",\n",
              "  array([-0.03185537, -3.6190875 , -5.39345   ], dtype=float32),\n",
              "  0,\n",
              "  'Negative'),\n",
              " ('Once I have ordered a product for personal use And it was broken . after that I was reported for refund than I will call  to customer care than I was talk with them about my problem. they are not talk in good way with me and also they are not listening my problemFlag This ReviewIrrelevantFakeJunk   Thank You! We appreciate your effort.',\n",
              "  array([-0.03390255, -3.561584  , -5.310287  ], dtype=float32),\n",
              "  0,\n",
              "  'Negative'),\n",
              " (\"My account blocked for purchasing any grocery items after buying around 6 thousands in September month.It's answeringYou have exided the maximum purchase limits.Is this site is for purchasing below this limit?Customer care don't have answers ??Asking for reset password reinstall the app.But it's the same issueFlag This ReviewIrrelevantFakeJunk   Thank You! We appreciate your effort.\",\n",
              "  array([-0.03991208, -3.3752437 , -5.315197  ], dtype=float32),\n",
              "  0,\n",
              "  'Negative'),\n",
              " ('I got wrong product .last 16 days following flipkat customer care not support for me .flipkart deliverd duplicate productFlipkart delivered some duplicate product@flipkartsupport i ordered Boat Rockerz 255f 255F on 30th August, but the received material is Fake product Boat Rockerz 255R. Even raised replacement for the request No response. Replacement is yet to be done. Order No OD119527006247761000. Worst response from flipkart Flag This ReviewIrrelevantFakeJunk   Thank You! We appreciate your effort.',\n",
              "  array([-0.04307756, -3.297678  , -5.2602654 ], dtype=float32),\n",
              "  0,\n",
              "  'Negative'),\n",
              " ('Today it\\'s observed that many items including the ones in my cart on FlipKart are showing not deliverable to my pin code.Suspect that it\\'s something related to my recent complaint registered with FlipKart customer care where an item was not delivered to me after getting an sms saying \"item delivered.\"And finally it reached me after raising the complaint and it was about four hours after the\\'Item Delivered\\' SMS.Let me conclude saying, the overall delivery experience with FlipKart is PATHETIC!Flag This ReviewIrrelevantFakeJunk   Thank You! We appreciate your effort.',\n",
              "  array([-0.02963238, -3.6851132 , -5.4959803 ], dtype=float32),\n",
              "  0,\n",
              "  'Negative'),\n",
              " (\"It's a old saying that everything is having a positive and negative impact. It totally depends on you what type of use you are maa making of it. If I'll share my experience with Flipkart so that was quite good. There You are provided with thousands of products and if you are a good selector then it is definitely a very good. If I'll talk about the time that going on nowadays. In this corona time many of us are really not able to go out of the House. If I'll talk about me I've not been to market since 6 months and these online shopping hs proven to be very good.!Thanks.! ??Flag This ReviewIrrelevantFakeJunk   Thank You! We appreciate your effort.\",\n",
              "  array([-2.8697333 , -0.8354018 , -0.67415714], dtype=float32),\n",
              "  2,\n",
              "  'Positive'),\n",
              " ('The tussle is still ongoing with FRAUDkart, to whom, I had sent the below mail, which is YET to be â\\x80\\x9cresolvedâ\\x80\\x9d after 50(FIFTY) days of negotiating, because of which I had to tell all my acquaintances to stay away from Flipkart:â\\x80\\x9cI had already explained the CHRONOLOGY to 32(THIRTY TWO) executives of your company who continued to DEMONSTRATE their complete INCAPABILITY to even COMPREHEND what I was telling them.30 July 2020, I ordered RACEMOS battery for Thinkpad08 August 2020, I received a packet, whose â\\x80\\x9couter coverâ\\x80\\x9d alone had â\\x80\\x9cRacemos.comâ\\x80\\x9d inscribed on it.I opened the packet, the battery kept inside did NOT have any inscription of â\\x80\\x9cracemosâ\\x80\\x9d on it.I tried installing,I tried charging,tried reinstalling, andtried recharging, andthen againâ\\x80¦but the DUPLICATE battery sent by FLIPKART that did NOT have any â\\x80\\x9cRACEMOSâ\\x80\\x9d inscription on it did NOT charge AT ALL(R) did NOT charge AT ALL, whereby establishing the fact beyond any reason for doubt that the supplier of the battery wants to DEFRAUD the clients of Flipkart.I tried returning itâ\\x80¦19 August 2020, an executive came to pick up the DUPLICATE battery.He looked at the battery and said, â\\x80\\x9cI canNOT take this because it is a DUPLICATE battery. Give me the ORIGINALâ\\x80\\x9d.How will I give an original RACEMOS battery that Flipkart did NOT deliver to me in the first place?I called the customer care fellowsâ\\x80¦. and lodged a â\\x80\\x9ccomplaintâ\\x80\\x9d26 August 2020, Santhosh J, from Flipkart called me and said, we do NOT have any other battery to give as replacement, so give me your bank account number and IFSC which I had sent IMMEDIATELY before disconnecting the call, and the same email was acknowledged by Santhosh J.But, no refund cameâ\\x80¦Another executive named Akash Mohanty called me and said we will send you a â\\x80\\x9cREPLACMENTâ\\x80\\x9d.I explained to him what happened during the FIRST REPLACEMENT episode, and told him I do not want a repetition of the same.Akash sent me an email mentioning clearly:â\\x80\\x9cAs the return request has been already initiated kindly wait till 7 Sep for the replacement and pickup to be done and as you mentioned the racemose brand name is not inscribed on the battery as per product page if the wish master denies to pickup kindly raise the concern so that team will help for pickup to be done successfully.â\\x80\\x9d06 September 2020 another executive came and he also said,â\\x80\\x9cI canNOT take this because it is a DUPLICATE battery. Give me the ORIGINALâ\\x80\\x9d.I showed him the e-mail written by Akash and he REFUSED to even look at it and went backâ\\x80¦.All these incidents that have been happening for over the past one month would convince ANY HUMAN BEING beyond any reason for doubt that the name of your companyMUST BEFRAUDkartand notFlipKartâ\\x80¦.Hope you understandâ\\x80¦.â\\x80\\x9dTamil SelvanFlag This ReviewIrrelevantFakeJunk   Thank You! We appreciate your effort.',\n",
              "  array([-0.02891715, -3.7254946 , -5.425712  ], dtype=float32),\n",
              "  0,\n",
              "  'Negative'),\n",
              " ('I ordered Ptron Bluetooth headphones from Flipkart and I found that it is a good product in cheap price and the quality of sound of this product was excellent. It was delivered to me before the delivery date and no defect or damage is found in the product . It is very safe to order things on Flipkart . I recommend you to buy products from this site only .Flag This ReviewIrrelevantFakeJunk   Thank You! We appreciate your effort.',\n",
              "  array([-3.100438  , -0.91593164, -0.5890991 ], dtype=float32),\n",
              "  2,\n",
              "  'Positive'),\n",
              " ('Flipkart provides average service sometime it provides the best products and sometime worst also. Please be careful while buying any digital accessories. As sometimes digital accessories like mobile phones, laptop are copy of branded product.And I would like to  tell all readers that online fraud is going on. One person will say that you have to pay 1000 rupees than I will order phone, laptop, tv. from flipkart  and you  have to pay me only half payment. And after that they will tell you stories that executive is not passing the order please pay half payment . And if you pay to them they will not pick up your call and not reply any your msg. SO please be aware from these kinds of frauds.ThankuFlag This ReviewIrrelevantFakeJunk   Thank You! We appreciate your effort.',\n",
              "  array([-3.0400717 , -0.79056567, -0.6959903 ], dtype=float32),\n",
              "  2,\n",
              "  'Positive'),\n",
              " ('Dear readers and users of flipkart this is to bring in your kind notice that never buy any damn thing from this pathetic online size cald flipkart. They are not at all cooperative to their customers and this flipkart is worst online site they dnt cooperate with their customer. The most pathetic and worst online site is flipkart. I ordered on matress for Rs 8500 but it was not the right size for my bed so i request to exchange with the right size of mattress but they refused to do exchange. I requested many times but they didnt bother to exchange my matress i was not asking for money back it was just request of exchange. So people please dnt waste your money on this pathetic flipkart. This was the first time i shopped from this flipkart.Thanku....Flag This ReviewIrrelevantFakeJunk   Thank You! We appreciate your effort.',\n",
              "  array([-0.0272091, -3.8111947, -5.3558435], dtype=float32),\n",
              "  0,\n",
              "  'Negative'),\n",
              " (\"Flipkart has been my first online shopping application and have been using for over 3 years. Firstly, it is very handy, secondly, it offers great deals for shopping, prices are affordable and their is wide variety of goods to choose from. I have bought electronic devices, clothes, decorative items, books, etc. and I rarely received any bad products.The service provided by them is great. Easy return policy and fast delivery services with no delivery fees(terms and conditions apply) are few features, which I admire a lot.The products I have ordered are delivered are very carefully packed and handled, except for very few products which had certain defects, but I was able to return it with an ease, even-though it didn't have the provision of returning.From clothing till home appliances, it has everything. But Flipkart may improved more and more by offering more variety of products to choose from.The application is far better than the website.Flag This ReviewIrrelevantFakeJunk   Thank You! We appreciate your effort.\",\n",
              "  array([-3.6690183 , -1.3020637 , -0.35306928], dtype=float32),\n",
              "  2,\n",
              "  'Positive'),\n",
              " ('Ordered for a HP 803 Black cartridge. Instead, Flipkart delivered a tri colour cartridge. I called Flipkart to replace the incorrect product with the correct product. They refused telling that this product does not have a replacement policy. It is like you order for a fridge, they deliver you a washing machine. When I call them and tell me that I need them to give me what I ordered, they refuse to replace or refund. What a joke....Please please please......do not order anything on Flipkart. They just suck.... pathetic customer service..... Amazon is 100 times better......#flipkart #flipkartsucks #phetheticcustomerservice #kalyankrishnamurthy #flipkartceo #lostmymoney #feelingcheated #saynotoflipkart #cheaters @_kalyan_k @flipkartsupport Flag This ReviewIrrelevantFakeJunk   Thank You! We appreciate your effort.',\n",
              "  array([-0.02978733, -3.6809022 , -5.485168  ], dtype=float32),\n",
              "  0,\n",
              "  'Negative'),\n",
              " ('Many of the people who have the interest to buy online are using this app but sometimes the buyer dosent gets the satisfaction with that product because it comes sometimes defective, exchanged product, used product etc and therefore the app needs to be improved for the better customers satisfactionFlag This ReviewIrrelevantFakeJunk   Thank You! We appreciate your effort.',\n",
              "  array([-2.2107048, -0.7751287, -0.8445932], dtype=float32),\n",
              "  1,\n",
              "  'Neutral'),\n",
              " ('If Flipkart does not control the products delivery time scam, then this company is going to be ruined soon.Due to the lapses in Flipkart management, many people are committing thefts and many people are going through the damage.Both disadvantages and advantages include three types of people, including Shopkeeper(online seller), Mini Branch Employee(with Deliver worker) and Customer.Sometimes a shopkeeper packs anything like original goods instead of original goods. And Sometimes the original goods of the customer are replaced by the move of Flipkart branch or its delivery staff. And also there are some greedy customers who receipt of the original goods and some old things are put in refunds, then they blame the seller or Flipkart.Flipkart is still the time to rein in these dishonest or else you will have to bear a huge loss.ThanksFlag This ReviewIrrelevantFakeJunk   Thank You! We appreciate your effort.',\n",
              "  array([-0.10288074, -2.614665  , -3.7061002 ], dtype=float32),\n",
              "  0,\n",
              "  'Negative'),\n",
              " ('Two products were never received from Flipkart.wrangler jeans(OD119385679229031000)and Glare GA-128 Steel Knife Set.I have been following up with Flipkart only to receive  template responses.When I raised missing item request, they created a bogus replacement which never dispatched and delivery date kept changing.  Flipkart stole money. They are just a scam company.  STay away from themFlag This ReviewIrrelevantFakeJunk   Thank You! We appreciate your effort.',\n",
              "  array([-0.03778937, -3.4630966 , -5.1582584 ], dtype=float32),\n",
              "  0,\n",
              "  'Negative'),\n",
              " ('Hello I order headphone boAt Rockerz 255F Bluetooth headset on 26 auguest .i got message they will deliver my place on 31st august but I didnâ\\x80\\x99t get than they said we send you on date 9th September but I didnâ\\x80\\x99t get on 9th also than they said on 12th September.I called many times but Flipkart customer care not giving me proper responses .my order ID:- OD119527712387410000, I have no word how I explain Flipkart serviceFlag This ReviewIrrelevantFakeJunk   Thank You! We appreciate your effort.',\n",
              "  array([-0.04222539, -3.3050883 , -5.370831  ], dtype=float32),\n",
              "  0,\n",
              "  'Negative'),\n",
              " (\"I ordered Gionee Max on 31st August. Delivery date was 10th September. But, still my product is under processing by the seller OmniTechRetail. This happen 2nd time with this seller.First was OmniTechRetail cancel my order instead of long delivery. Ok But they took order from us is if they can't delivery to our place than don't show stock or we can't delivery. But they took order from us and canceled and bank charged 250/-. who can pay this amount!! Very very bad experiences from Flipkart seller OmniTechRetail.Flag This ReviewIrrelevantFakeJunk   Thank You! We appreciate your effort.\",\n",
              "  array([-0.04212196, -3.2907305 , -5.5163574 ], dtype=float32),\n",
              "  0,\n",
              "  'Negative'),\n",
              " ('Basically flipkart is good option for shopping because it as good quality of items . And when customer buys any product he /she as option to return it basically products are of  good quality so customer always try new things on itFlag This ReviewIrrelevantFakeJunk   Thank You! We appreciate your effort.',\n",
              "  array([-3.4740577, -1.1703122, -0.417428 ], dtype=float32),\n",
              "  2,\n",
              "  'Positive'),\n",
              " ('Excellent dress I have got from flipkart and delivery was too fast. Quality is superb and color is fantastic. Perfect fit for me. Happy customer.Flag This ReviewIrrelevantFakeJunk   Thank You! We appreciate your effort.',\n",
              "  array([-3.7041407, -1.208533 , -0.3904628], dtype=float32),\n",
              "  2,\n",
              "  'Positive'),\n",
              " ('Flipkart is forcefully gathering personal identity details . They make it mandatory if we are returning the product purchased from them saying itâ\\x80\\x99s company policy. If itâ\\x80\\x99s a policy it should be done while creating the account or while purchasing product from them but they let us do the shopping and if we want to return some item they make id proof mandatory leaving no option for the customers except proving the id proof as our money is with themFlag This ReviewIrrelevantFakeJunk   Thank You! We appreciate your effort.',\n",
              "  array([-0.03871574, -3.4003434 , -5.378655  ], dtype=float32),\n",
              "  0,\n",
              "  'Negative'),\n",
              " ('I had ordered motorola fusion one plus mobile exchanging my older phone for rs 3350. I was aware that my older phone had issues and it was in bracket 1550 as per flipkart policy, but during placing the order there was no window to select the bracket or explain the issue.The delivery boy when he came to deliver , without even investigating properly he rejected the old phone and was not ready to deliver my new phone. We had to pay the entire amount because we had already paid online the new phone amount- old phone amount.This is fully a planned scam by flipkart. If you have your rules mentioned for exchanging products, follow it. Else just remove it. You are not worth for it.This a matter of ethics and manners more than money. To be honest , i have discussed this issue a lot many times with different customer support after my product was delivered, getting hopeless help or answers from you guys. The same i do not want again.I am not sure if you are even reading it properly, if yes , understand that flipkart cheats on the customer and it is no more recommended.Flag This ReviewIrrelevantFakeJunk   Thank You! We appreciate your effort.',\n",
              "  array([-0.04043518, -3.3386638 , -5.4860425 ], dtype=float32),\n",
              "  0,\n",
              "  'Negative'),\n",
              " (\"Dear Flipkart,I have an issue with product delivered on 8th Sep'2020Order id: OD219622773240746000While using it, I came to know it is a low graded producthas always bluetooth connectivity problem, while speaking the product iskeep disconnecting, finally I thought to give it return and get the refund.Shocked that there is no refund option, only product replacementoption is given.I gone through need help tools and got a call back from yourcustomer support team.the first executive has disconnected my call without giving any resolutionand the second time I placed a call back request andthe second executive was trying to tell me that won't you read the instctructionwhile placing the order.Well, I read the terms while placing,I don't even have any intention to return it, but it's a defective producthas lot of connectivity issue and I lost faith on that particular brand andI don't want to use it even replacing it, end of the day its all about satisfactionand I believe in Flipkart and booked, I have never seen a seller face and no customer wants to know who the seller is.We believe in Flipkart brand and it's a big ecommerce company and chosenfor the online shopping but this is never expected from Flipkart.after all the discussion with your executive, I came to know that flipkart issimply supporting sellers who want to sell their low grade products using flipkart platform,Honestly telling, never has such problem with amazon.comthey're always accountable may be the reason most of the peoplelove to do shopping on amazon.com so they are No.1 in ecommerceWhen a customer is not satisfied and lost faith in your brand(Flipkart)do you really think you survive in the long run, may be today I am the only customer who hates flipkart for such service but for lifetime I never suggest people flipkart nor encourage others to use flipkart in my circle.Today may be this a matter of only Rs.1000/- for me, not a really big amountI am ready to bear the loss, but see down the line may be this is question of millions and imagine your brand image and reputation, now think that Flipkart is really going to survive in future.?I am just leaving this up to your level of understanding because you guysare studied from reputed B-schools and India's best universities.Lol, I am not joking.!Sorry that my English not unto mark.Flag This ReviewIrrelevantFakeJunk   Thank You! We appreciate your effort.\",\n",
              "  array([-0.03637992, -3.4778414 , -5.328333  ], dtype=float32),\n",
              "  0,\n",
              "  'Negative'),\n",
              " ('Flipkart has become a place for cheats in the last few months of covid. I bought a wardrobe for rupees 9073 on 25/06/2020. order number OD118995285316003000.1) the product was not delivered, I was  assured by multiple customer care executives  that flipkart will NOT be able to deliver the product after a month of repeated calls post order, they have not given me any reasons for the same.2) I have not got my money back.3) after complaining for 2 months and lodging a complaint with \"consumer forum\" flipkart I have now been told I will get back the money when the furniture return to its source. even though I bought it from flipkart, and it is ryt now in flipkarts warehouse! I have not been given any time table.4) flipkart tracking shows the order seating in a warehouse in Tangra, Kolkata for last 1 month which is very near to the delivery address, flipkart is not allowing me to pick the order up from the warehouse either.5) its a sad state of affair for Indian law and order that flipkart can just steal a consumers money without any punishment orfines.Flag This ReviewIrrelevantFakeJunk   Thank You! We appreciate your effort.',\n",
              "  array([-0.03460098, -3.5232396 , -5.402443  ], dtype=float32),\n",
              "  0,\n",
              "  'Negative'),\n",
              " (\"Flipkart has such a worst service in delivering grocery. It's been almost ten days my order is getting delayed none from flip kart has Taking care of nor responding to me. As per schedule it should deliver on sep3 it has not yet been delivered till today i.e sep9 worst in service. Amazon is 100 percent better. Writing review from registered email idFlag This ReviewIrrelevantFakeJunk   Thank You! We appreciate your effort.\",\n",
              "  array([-0.02790399, -3.7479475 , -5.5334725 ], dtype=float32),\n",
              "  0,\n",
              "  'Negative'),\n",
              " ('I have ordered mobile phone with exchange from flipkart which was suppose to get delivered today.i was in office and my mother was at home .The delivery person said that the mobile which was in exchange has dent and asked for cash from my mother.I asked him to send image on my mobile which he didnt send and was forcing for cash from my family.When i called flipkart as usual the customer service agent dont know anything he took complaint and gave me date.These people dont understand the seriousness and the delivery person was unprofessional and trying to take money in cash.I will post this in all social media and mediaFlag This ReviewIrrelevantFakeJunk   Thank You! We appreciate your effort.',\n",
              "  array([-0.03053107, -3.6715333 , -5.3746967 ], dtype=float32),\n",
              "  0,\n",
              "  'Negative'),\n",
              " ('It is all about how Flipkart deals with Customers! I have ordered a study table on July 17, 2020 and paid full amount. The expected date of delivery was Aug 19, 2020. I have waited for this for a month. On Aug 11th, I got a update saying the item is packed and shipped by seller and will reach me intime. To my surprise, item was not delivered on Aug 19th. From there, every day I call the customer care, they say wait until 9 PM and it will be delivered. This happened for 7 days. There is no other way to escalate my case with Flipkart management and the customer care is taking a ride on me by telling new reasons everytime I call them. Finally I asked them on Aug 28th that if they cannot deliver it, then cancel and refund my money. You know, the customer case said that both are not possible and I have to wait infinitely and no other option.I have mailed my situation to Flipkart management(got their email through some friends) and no response to my 3 emails to them. Then I have to draft a formal complaint to their CEO and after 4 days someone from Flipkart called me and told that the issue got escalated and they will resolve it immmediately. They made me wait for another 3 days to tell that the item was not deliverable due to some issue with the seller and I have to cancel. WHen I agreed to the same, you know, they recorded that I have cancelled the item. And it took another one week to process the refund. Today I got back my money without any interest from Flipkart, after 54 days. The main points are customer care is not transperant and genuine with customers, management does not care customers, no standard operating mechanism left to customers for escalatons. This is totally unprofessional way of dealing with customers. I may not buy next time from Flipkart.Flag This ReviewIrrelevantFakeJunk   Thank You! We appreciate your effort.',\n",
              "  array([-0.0375631, -3.467064 , -5.1747255], dtype=float32),\n",
              "  0,\n",
              "  'Negative'),\n",
              " ('I have ordered two set of Yozika mobs but received only  one set, while it was showing 2 sets of mobs has been delivered in \"my order chart\". the delivery boy has no clue about the other one. When I asked him about the product he says what I was told I have delivered. I have called customer care number 18002089898 more than many times but no one has picked up the call. I have been the customer of Flipkart since last 5 years but this time I am utterly unsatisfied with the service,Even in 8 months back I have got the different shoe that what I had ordered, I requested to exchange and gave it to delivery boy he said we will keep it and you will get refunded but I haven\\'t got in amount in my account yet.please do not trust this company any more, I believe the service and loyalty of this company has gone extremly down. It is better to go with Amazon,Flag This ReviewIrrelevantFakeJunk   Thank You! We appreciate your effort.',\n",
              "  array([-0.03047465, -3.664671  , -5.4255896 ], dtype=float32),\n",
              "  0,\n",
              "  'Negative'),\n",
              " ('Very bad quality of dealers and very worst customer service, they not even cannot find customer purchased product.Flag This ReviewIrrelevantFakeJunk   Thank You! We appreciate your effort.',\n",
              "  array([-0.03814768, -3.4257243 , -5.317802  ], dtype=float32),\n",
              "  0,\n",
              "  'Negative'),\n",
              " ('I bought my first product from Flipkart and it kinda arrived late. After that I had my products deliverd really early sometimes it arrives like 4 or 5 days from the original date. But the amount of products are less compared to other online stores. Tge products are in good shape everytime ??Flag This ReviewIrrelevantFakeJunk   Thank You! We appreciate your effort.',\n",
              "  array([-1.9888122 , -0.7899127 , -0.89341027], dtype=float32),\n",
              "  1,\n",
              "  'Neutral'),\n",
              " ('Flipkart is really good And serves provide And fast dealivery Good producats I m also use Flipkart then I m purch Any producats good quallity nice colors And really producats in flipkart probide cod an pay online both optionFlag This ReviewIrrelevantFakeJunk   Thank You! We appreciate your effort.',\n",
              "  array([-3.6681151 , -1.2547662 , -0.37203085], dtype=float32),\n",
              "  2,\n",
              "  'Positive'),\n",
              " (\"Dear All this is to update for the online buyers, I had purchased iPhone 7 after receiving the product after 4 days the phone lock button was not working phone was getting hanged .I called up filpcart costumer care on this issue they report me to take a test report from the apple storeimmediately I took it and I have send the report the report mentioned  the product is defective  and the report was  shared with flipcartBilling date of the phone was 19th Aug 2020Phone received  to me was 23rd Aug 2020complaint was on 28th AugI do have all the reportsFlip cart they told me it will get replace within 1 Sep-2020I called them on 01-Sep 2020 they told me on 4-Sep-2020I called them on 04-Sep 2020 they told me this issue is not came to escalation team so now your complaint has raised will resolve it within 24 hrs and now flip cart says sorry sir we cant do the replacement we can help you to repair with the service center we will provide you the numberon their terms its mentioned within 7 days replacement its fakePlease don't  purchased any product specially phone don't purchase on flipcart, this is my experiencePlease try with amazon they will still respond youFlag This ReviewIrrelevantFakeJunk   Thank You! We appreciate your effort.\",\n",
              "  array([-0.03890518, -3.417457  , -5.2283573 ], dtype=float32),\n",
              "  0,\n",
              "  'Negative'),\n",
              " ('My experience of shopping from flipkart was really good. I had bot adavantages and disadvantages. I usually shop with cash on delivery mode. All things needed for our daily life, dress, jwelleries, electronics are vailable. We can return the product if it is damaged. The customer service is not bad.Flag This ReviewIrrelevantFakeJunk   Thank You! We appreciate your effort.',\n",
              "  array([-3.1935413, -1.0021713, -0.524431 ], dtype=float32),\n",
              "  2,\n",
              "  'Positive'),\n",
              " ('The packaging made from environmental material instead of plastic.Its a great initiative.I hope every online company will follow this.Happy to shop on flipkart.Plz continue such initiatives????Flag This ReviewIrrelevantFakeJunk   Thank You! We appreciate your effort.',\n",
              "  array([-3.687755  , -0.8558181 , -0.59777075], dtype=float32),\n",
              "  2,\n",
              "  'Positive'),\n",
              " ('I bought mobile iq003 on 9 mug 2020, but received in locked condition and raised return next day. After multiples request  they are not picking up mobile for return, both compnies flipkart and omni tech retail are big fraudster companies. Never ever buy from themFlag This ReviewIrrelevantFakeJunk   Thank You! We appreciate your effort.',\n",
              "  array([-0.03363724, -3.5463307 , -5.46142   ], dtype=float32),\n",
              "  0,\n",
              "  'Negative'),\n",
              " (\"Flipkart  is one most easy and usefull online shopping store india. I had lots  of expirence  with flipkart online shopping store, somtimes  this delivery system were timely reached as their given time. Sometime its taking too many times of delivering thier product, as a buyer await  their product prolong, get intrestless  from item, may be  it was't  their delying  for package to product, may be it  was cause of connectivity of rail-road to carry the product  their ordering places.As per my knowledge the flipkart is  vest for  smart city, like  delhi, mumbai, bangalore, chandhighar, punjab, hydrabad, kolkota and etc.  if buyer  suposse to order any items from flipkart  its may be taking only   few hour  to delivery the products  because the store of flipkart near and there that city which is maintion in up line. As compare to  my region and state like arunachal pradesh,  if I can  buy a  item  it taking   10-15 days  to reached delivery hubs  and  2 or 3 days taking also to delivery at home and office which  information given by me to  recieve. So  it was my oppinion about flipkart  thank youFlag This ReviewIrrelevantFakeJunk   Thank You! We appreciate your effort.\",\n",
              "  array([-0.28206486, -1.8697033 , -2.39026   ], dtype=float32),\n",
              "  0,\n",
              "  'Negative'),\n",
              " ('If you think that items bought from Flipkart can be returned without assigning any reason(as in the case of Amazon) you are mistaken. Flipkart does not have a policy of its own and it varies from seller to seller. Unless the product is received in a damaged condition or after the expiry date, one cannot return the product. If you think Flipkart too follows policies akin to Amazon(where a product can be returned without mentioning the reason), then you are mistaken.Think twice before placing an order, keep a screen shot of the order and copy of the invoice for taking up an issue with them. The customer service executives do not have ready access to invoice and ask for our support.  Also, they do not have any discretion to solve the issue and order for refund unlike in Amazon where one encounters a pleasant experience. Matters did not  improve even after the take over by Walmart.Flag This ReviewIrrelevantFakeJunk   Thank You! We appreciate your effort.',\n",
              "  array([-0.04338113, -3.2806034 , -5.329163  ], dtype=float32),\n",
              "  0,\n",
              "  'Negative'),\n",
              " ('During lockdown had bought 4 electronic products from Flipkat, and all 4 products were defective. So would request all not to buy any product from Flipkart.Flag This ReviewIrrelevantFakeJunk   Thank You! We appreciate your effort.',\n",
              "  array([-0.03741635, -3.4525433 , -5.2863817 ], dtype=float32),\n",
              "  0,\n",
              "  'Negative'),\n",
              " (\"The 2 together are indulging in fraud. I ordered a Bosch washing machine via. Flipkart with the seller being OmniTech retail. The seller does only replacements, which is fine for a high ticket item. The machine arrived within stipulated timeline along with the Bosch guys who came for installation. The machine, when the box was opened by Bosch people had some broken parts and the door wasn't locking. They gave me their paper saying this isn't installable and needs to be replaced. When I tried replacing on flipkart, the only option available is return and refund. The process was initiated and then converted into a replacement 4-5 days later. In the meantime, needing a washing machine and convinced the one I've is going back, I bought a new one. Now they say only replacement and no return - my question is why did you allow for a return only and not a replacement only option when I was returning it! First you deliver a broken products(happens), then you force me to return it and then convert it into a replacement 5 days later because the seller doesn't say so! The fault, I believe, squarely lies with the Flipkart team and their process design people - had the option for replacement been available, I'd have taken it up and none of this would be happening! Without second thoughts - Flipkart is the new scam like Snapdeal in the market and Amazon is the way to go.Flag This ReviewIrrelevantFakeJunk   Thank You! We appreciate your effort.\",\n",
              "  array([-0.04312609, -3.3471198 , -4.958435  ], dtype=float32),\n",
              "  0,\n",
              "  'Negative'),\n",
              " ('Damaged. Tv.... No return response .Return has been placed. But no response .Why the delivery is like. Shock to the customers .?.I can case on this. If response is not activatedFlag This ReviewIrrelevantFakeJunk   Thank You! We appreciate your effort.',\n",
              "  array([-0.0497608, -3.1863978, -4.9305468], dtype=float32),\n",
              "  0,\n",
              "  'Negative'),\n",
              " (\"Well, about a day I purchase a eyeshadow from flipkart. You can't believe that others cosmetics website sell that palette in â\\x82¹; 599, but I'm the lucky person who bought that palatte in â\\x82¹; 322 , without any delivery charge, and guess what after I submit my college I'd in flipakrt plus zone, they gave me the flipkart plus account for any kind of free delivery. I love that, I love flipkart. ??Flag This ReviewIrrelevantFakeJunk   Thank You! We appreciate your effort.\",\n",
              "  array([-0.05190786, -3.16775   , -4.7694154 ], dtype=float32),\n",
              "  0,\n",
              "  'Negative'),\n",
              " (\"@Flipkartsupport @FlipkartOrder number - OD119506193036888000Ordered on: 23rd augDelviery shows: 27th AugToday is 29th Aug.Do you think your customers are fools.Kindly have a courtesy to communicate the TAT and timelines to your customer. Just learn from Amazon, If you do not refund my money which you have kept. I am going to consumer court and claiming the compensation for all the frustration, mindshare and timeshare I have invested.Customer's Name: Mahera TasneemEmail: maheratasneem2016@gmail.com Flag This ReviewIrrelevantFakeJunk   Thank You! We appreciate your effort.\",\n",
              "  array([-0.03199335, -3.5848956 , -5.586683  ], dtype=float32),\n",
              "  0,\n",
              "  'Negative'),\n",
              " (\"Now a days flipcart is doing more fraud in all items and things everyone is now ordering things from Amazon and flipcart . I have ordered a mobile phone from flipcart name Asus and order had been camed to my home when I have opened the box not asus mobile but Samsung Guru mobile has been camed out of box I have lost my money .And I can't exchange it bcz a big fraud has done to me by flipcart I request to all pls check the box first and then gave money bcz u also can got fraud.Flipcart is now trustless so don't buy things from flipcart.Flag This ReviewIrrelevantFakeJunk   Thank You! We appreciate your effort.\",\n",
              "  array([-0.03930297, -3.4149878 , -5.1736565 ], dtype=float32),\n",
              "  0,\n",
              "  'Negative'),\n",
              " ('Hi,I have been following last 90days for the refund of canccelled ticketsFlipkart team was asking the details from AirIndia, which I got from  AI customer care, they confirmed the refund for the booking ID: FF2003166208347 has  credited back the full refund to third-party(which is Flipkart)  on June 29th, 2020.The transaction reference ID already provided by multiple mails  and also forwarded AI mail confirming the same to flipkart.There was no response from flipart, they keep telling its has been escalated to higher level, but till date no proper response why not refunded. They simply disconnect the calls when you ask more questions.those days are gone when they were ethicalThanksFlag This ReviewIrrelevantFakeJunk   Thank You! We appreciate your effort.',\n",
              "  array([-0.03356047, -3.5453937 , -5.485521  ], dtype=float32),\n",
              "  0,\n",
              "  'Negative'),\n",
              " ('I would rate zero.I purchased the laptop(â\\x80\\x9cDell Vostro Core i3 10th Genâ\\x80\\x9d from the Flipkart(35, 490IND) However, after using within a day the battery backup was staying only for 1.5 hours even after nominal browsing and there was overheating issue and next day after charging 100% the battery completely drained off. When I called the customer care of flipkart, they suggested the service provider will be calling me as I donâ\\x80\\x99t have any pop-up option to raise a complaint or return request. I waited for the call no one showed up as the return policy was within 7 days again, I called the customer service regarding the same they said no issue that should not be a problem as they have call record in their data base. They are extending the days till one month and customer care is calling and yelling at us and they close the ticket. Now I dont have product is fake my money is ghone.The flipkat also cheated me with warranty card and gave mmisleading information and extended the days amount worth of â\\x82¹1, 099. Mislead. What should I do?Flag This ReviewIrrelevantFakeJunk   Thank You! We appreciate your effort.',\n",
              "  array([-0.03071004, -3.674506  , -5.322321  ], dtype=float32),\n",
              "  0,\n",
              "  'Negative'),\n",
              " (\"No response after get machine nobody come to fix it also too bad customer respond and we shouldn't know what to do pls help me...we are fool after get machine??Flag This ReviewIrrelevantFakeJunk   Thank You! We appreciate your effort.\",\n",
              "  array([-0.04633457, -3.233314  , -5.1411605 ], dtype=float32),\n",
              "  0,\n",
              "  'Negative'),\n",
              " ('Worst customer care from Flipkart. Ordered laptop on offer. Delivery severely delayed beyond three weeks, Custcare calls me and asks to cancel order&place new order(w/o offer).Commits via email to refund price diff upon product delivery.As requested by Flipkart agent (Mr. Sujith B) on 18th August 2020 via both email and phone, I had cancelled my old order (order # OD119350046723288000) and placed a new order for the same product at a higher price. My new Order ID is OD119460316646420000, and it has been delivered to me. Intimated Flipkart immediately. After a week of no response, Now they bluntly REFUSE TO REFUND the price difference! Cheats to the core. STAY AWAY FROM FLIPKARTFlag This ReviewIrrelevantFakeJunk   Thank You! We appreciate your effort.',\n",
              "  array([-0.02994214, -3.6936498 , -5.377957  ], dtype=float32),\n",
              "  0,\n",
              "  'Negative'),\n",
              " (\"I bought a Redmi 8 phone with prepaid on 7th August from Flipkart(order Number OD119365432263405000) but they haven't delivered that phone till today(28th August 2020) even they have promised to deliver this product before 16th August. Every time I talked to customer care, they gave only one answer that you can cancel the order. Neither I nor the customer care can track that order,For this, they say that there is a technical issue. My order number on their own website showing invalid order number. I Very Frustrated from the flipkart can any body Please help me out to get my phone asap.Flag This ReviewIrrelevantFakeJunk   Thank You! We appreciate your effort.\",\n",
              "  array([-0.03438861, -3.5406709 , -5.3370247 ], dtype=float32),\n",
              "  0,\n",
              "  'Negative'),\n",
              " (\"I would like to share my disgusting experience with flipkart. Flipkart is now a days a pickpocket, and fraud company. I ordered one bluetoothheadset from this fraud site. I receiveda faulty piece which were not turning on. I contacted flipkart and asked for return or replacement, but instead of cooperating e regarding return they have blacklisted my account and said your account is blacklisted and you cannot initiate any return request.This is a common strategy of flipkart through which they send fake and duplicate / faulty products and after receivingthey blacklist the account. Various other buyers have also suffered with similar harassment. They are thieves. Don't buy anything from them. Amazon is good their customercare is really nice . I am attaching the response of those thieves . If anybody want to know more about this fraudulent company please contact me on 9826418962Flag This ReviewIrrelevantFakeJunk   Thank You! We appreciate your effort.\",\n",
              "  array([-0.03176449, -3.6127393 , -5.4520545 ], dtype=float32),\n",
              "  0,\n",
              "  'Negative'),\n",
              " (\"They are thief . They didn't refund my money . I called them so many time but my money is still not refund.... Hair band was very worth quality  and refund is not transfer....  Don't do online payment it's not save.....Flag This ReviewIrrelevantFakeJunk   Thank You! We appreciate your effort.\",\n",
              "  array([-0.04092689, -3.3368378 , -5.392289  ], dtype=float32),\n",
              "  0,\n",
              "  'Negative'),\n",
              " ('The team is of fraud and liars. They show something on the website and deny to comply with once ordered.  Worst customer support service I have seen. They are not following their own policy when it comes to returning.it does not worth of one-star also.Flag This ReviewIrrelevantFakeJunk   Thank You! We appreciate your effort.',\n",
              "  array([-0.04439197, -3.291266  , -5.080895  ], dtype=float32),\n",
              "  0,\n",
              "  'Negative'),\n",
              " ('Return process is worst...n whenever we call customer care there is no response..i have applied for return from 15 days but pickup hasnot done by them yet...Flag This ReviewIrrelevantFakeJunk   Thank You! We appreciate your effort.',\n",
              "  array([-0.04383465, -3.2661893 , -5.352502  ], dtype=float32),\n",
              "  0,\n",
              "  'Negative'),\n",
              " (\"Good experience...but it's about , plz change your flipkart faces#Alia bhatt# as we don't want to see them anymore ....take some new faces??Flag This ReviewIrrelevantFakeJunk   Thank You! We appreciate your effort.\",\n",
              "  array([-0.03469817, -3.5111601 , -5.4629946 ], dtype=float32),\n",
              "  0,\n",
              "  'Negative'),\n",
              " (\"It has been a week that we had ordered a laptop from Flipkart and yet they haven't delivered it that my dad had to cancel it. He had ordered it on 17th of August for me and had told it will arrive by 24th. they kept delaying the delivery date and at long last today a lady had wrung him up saying it will take a few more days cause it seems that LOCKDOWN was going on in the place the product was being shipped from. Wow, just wow. Lockdown had been going on in a place in India but there was no news of it on Google. I don't know if she was lying or she was told to but if was a lie then it was a pathetic one.Flag This ReviewIrrelevantFakeJunk   Thank You! We appreciate your effort.\",\n",
              "  array([-0.02847744, -3.7488515 , -5.396804  ], dtype=float32),\n",
              "  0,\n",
              "  'Negative'),\n",
              " ('Hi all, I have been using flipkart online shopping to buy groceries or any gift items since few months. The service is not good as before. Now a days they are taking time to deliver might be due to lockdown the stock is delayed. Hope they look into it and provide as per customer satisfaction. They do provide good offers as well sometime.Flag This ReviewIrrelevantFakeJunk   Thank You! We appreciate your effort.',\n",
              "  array([-1.0650871 , -0.94466937, -1.3224037 ], dtype=float32),\n",
              "  1,\n",
              "  'Neutral'),\n",
              " ('The worst service I have ever come across in my life. Every time I spoke with the customer service they said that they are unable to track my order and that they will resolve the issue as soon as possible. My order was suppose to be delivered by 23rd August and today is 26th and they still have no idea where is the parcel and when they will deliver. I will never buy anything from flipkart again. The only reason I did not cancel the order is because the product is out of stock from all the other vendors. May be flipkart is pretending to have the stock and taking money. Most pathetic service.And they are trying to compete with Amazon, MY DEAR ILLUSIONISTS Amazon delivers before expected delivery unlike you.Flag This ReviewIrrelevantFakeJunk   Thank You! We appreciate your effort.',\n",
              "  array([-0.03443353, -3.5284462 , -5.404358  ], dtype=float32),\n",
              "  0,\n",
              "  'Negative'),\n",
              " ('I am completely NOKIA tv unsatisfied with the product. I have been saying this from day 1.Your TV is really slow.There is a lag at every point of time while changing volume levels.Internet is disconnected every time I turn on the TV. So I have to reconnect every now and then.The picture is pixellated most of the times.I hate the services of Flipkart. This is my first and last product buying from your website. My worst experience ever.Overall hate the product.FLIPKART does not give you refund for 10 days product return policy. I simply hate this. While Flipkart are official sellers and promoters of NOKIA tv, their associate mention that the third party seller refuses to refund. This is simply exploitation of general public. I would request everyone to buy product from the store by checking from all angles and buy only when you are satisfied. Platforms like Flipkart only fool customers just to fulfil their sales of the product. Really unsatisfied.Flag This ReviewIrrelevantFakeJunk   Thank You! We appreciate your effort.',\n",
              "  array([-0.03169982, -3.6336956 , -5.3424115 ], dtype=float32),\n",
              "  0,\n",
              "  'Negative'),\n",
              " ('Flupkart dont care for their customer, they simply cancel the order without consulting the customer. You will never able to buy a product which is at discount, they will cancel and return it to seller.You never get supervisor call backs and no reply from kalyan@flipjart.com ceo@flipkart.com Flag This ReviewIrrelevantFakeJunk   Thank You! We appreciate your effort.',\n",
              "  array([-0.04709944, -3.2116735 , -5.16408   ], dtype=float32),\n",
              "  0,\n",
              "  'Negative'),\n",
              " (\"It's time when Flipkart should change their name to FAKEKAAT!The Errors in the TAT have now reached their ultimate limits, not 20%, neither 50%, not even 100%, in my case it has been around 200%. What kind of service are they running even after having their own delivery partner E-Kart? My Order for ASUS Gaming Laptop Order No. OD119486133679408000 placed on 21st-Aug-2020 was supposed to be delivered by 24th-Aug-2020. The tracking status was getting updated until the product reached from Farukhnagar Motherhub to Gurgaon. After 9:30 AM on 22nd-Aug-2020, the status stopped updating. I checked continuously till two days and on the day of delivery when I called the Customer Executive, they started manipulating by saying that the status might now have got updated due to technical issues or something and the order will get delivered by 7 PM, but just before 7 PM I received an update saying that the delivery has been delayed and the now the new expected date of delivery is 31st-Aug-2020. Now the customer executive with number +91 8045306500 called me when I requested but did not listen to me and cut the call. I think Flipkart and E-Kart should shut their E-Commerce and Logistics business and start pulling Rickshaw, at least that would reach the destination before Flipkart and E-Kart do.Flag This ReviewIrrelevantFakeJunk   Thank You! We appreciate your effort.\",\n",
              "  array([-0.03361788, -3.5671163 , -5.3345957 ], dtype=float32),\n",
              "  0,\n",
              "  'Negative'),\n",
              " ('The product was ordered on the 1st of June, 2020 and has not been delivered till date.  They keep delaying the delivery date every single time and the order was already paid for. And now Flipkart has claimed to have delivered the product but we have not received the product.Flag This ReviewIrrelevantFakeJunk   Thank You! We appreciate your effort.',\n",
              "  array([-0.02961699, -3.711463  , -5.351498  ], dtype=float32),\n",
              "  0,\n",
              "  'Negative'),\n",
              " ('Never buy costly things from flipkart they never ship the product and even after 15 days the order is not delivered and they have the audacity to ask me to wait for another week for an update (not even delivery) is this what an ecommerce site does.. Pathetic and cheap frauds stealing people of their hard earned money and leaving them hanging..Flag This ReviewIrrelevantFakeJunk   Thank You! We appreciate your effort.',\n",
              "  array([-0.02790051, -3.7541444 , -5.498152  ], dtype=float32),\n",
              "  0,\n",
              "  'Negative'),\n",
              " (\"Dear madam / sir,I AM REALLY SORRY FOR POSTING ON THIS SITE TRIED BY MANY WAYS TO REACH.It's a humble request please read this email carefully and calmingly before taking any immediate action please plan to visit to this Hub in a mystery client / delivery partner way.DID NOT RECEIVED MY(20 OUT OF 20) 100% DELIVERY DONE ON 24/06/20    RUNSHEETS ID [ 1246055664} TILL TODAY 24/08/20MAY BE LIKE ME OTHER WISHMASTER HAVE ALSO SUFFER UNDER THE SUPERVISION OF(Mr.PURNESH{F Qck}+Mr. SUJIT ANCHAN{ HI} AND HIS DEAR TEAM MEMBER Mr.KIRAN DEVADIGA BUT COULD NOT GET THE LINK TO BRING IN LIMELITE.Details about my employee ID code and cell number is given below.INSPITE OF REGULARLY REMINDING( Mr.PURNESH+ Mr. SUJIT ANCHAN & also the CASHIER Mr.NENESHHi I am(Albert John Britto) have worked with Fqck from 15/06/20 to 04/08/20 in Chembur East Hub under the supervision of HI(Mr.SUJIT ANCHAN) and the Fqck team head Mr.Purnesh but least bothered to the delivery boy's need early morning tea's COVID-19 Mask sanitizer+ NOBODY SPECIALLY  OUT OF WISHMASTER  TO CLEAN, SWEEP OR MOP THE HUB AFTER THE OFD DONE AND THE DELIVERY PARTNERS ARE GONE+ NO DELIVERY BAGS IN PROPER CONDITION IF ITS TORN THE HI  HIMSELF TOLD ME TO STICH THE BAG FROM LOCAL COBLER WHICH WILL HARDLY TAKE 10 TO 15 RUPEES ACCORDING TO HIM BUT ACTUALLY IT TAKES MORE THAN THAT AS ACCORDING TO THE LOADED BAGS SITTUATION THE COBLER DEMANDS AND SO THE WISHMASTER SUFFER THIS LOSS ALSO   nor the grooming of the person or any such related needs about payment or training to the delivery boy's in terms of use of speech in call bridge like greeting according to time with politeness nothing this sort of thing nor actually checking each delivery personal updated delivery license or details of the vehicles or PCC but these( PURNESH+ SUJIT A+ KIRAN D) dear friendS know is that let these( SORTER  AND WISHMASTER) people slog and run the Hub with less people so that their position is stable NO MATTER THE COMPANIES REPUTATION COMES UNDER BAD IMPRESSION  only give them a Jerk of little tension telling them saying I will not let you go quickly because they can find any fault and delay in getting you out from the hub very late maybe at last and if you'll don't help THEM in completing THEIR work(which work actually can be done after letting the delivery boy's leave because the people who are payable by Flipkart / Ekart are paid for the same work and a better payment compare to the delivery boy's run in sun, rain or any weather with fuel expenditure+ cell data+ own vehicle maintanance rather then the entire IN HOUSE HUB TEAM rest in shade / office and timings also ok.[good and easy parcel] means( small and p.p) are given to those only who help the IN HOUSE TEAM MEMBER in finishing their work no matter these delivery person who takes good and easy 80 TO 100 parcel ALONG WITH OVERLOAD BLUE EKART BAG WHITE POLYTHIN BAG ARE USED and this delivery person has above 95% that person gets MY GOD 10 good feedback who is REGULARLY / CONTINUALLY going more than ONLY 6 MONTHS IN THE SAME ROUTE which is countless in front of the newly joined person who is MY GOD 25 DAYS OLD to that ROUTE takes a merely 30 parcel of [COD+ PP+ BIG AND MEDIUM SIZE parcel ] WITH A TORN BAG gets only 2 feedback is not at all good according to the HI and his in office team members.As the delivery boy's are under vendor their payment hampers and the deliveries rate are also different.Already informed to my ultimate senior(Mr.Purnesh) of fquick also to Mr.Sujit Anchan HI since 29/06/20My details; -Name;                     ALBERT JOHN BRITTOVENDOR;                F QckEmployee ID;           438267Hero Handle No;     199010348Cell Number;            7304896694I humbly request you'll to look into itFlag This ReviewIrrelevantFakeJunk   Thank You! We appreciate your effort.\",\n",
              "  array([-0.04425809, -3.3019695 , -5.0386734 ], dtype=float32),\n",
              "  0,\n",
              "  'Negative'),\n",
              " ('I have never ever get any good product from Flipkart till date , several time I had order from flipkart I have had a bad Experience , first thing first when ever I ordered things from them alway I have got either wrong size of clothes n later their no return policy , I really felt flipkart is the best fooling shoping site , costumer service is very bad , if I asked the help desk people to help me the only responsed from them is will get back aftwr 24hour , Im sorry to say I genuinely hate flipkart , please its my request improve or just stopFlag This ReviewIrrelevantFakeJunk   Thank You! We appreciate your effort.',\n",
              "  array([-0.03344623, -3.5918822 , -5.23129   ], dtype=float32),\n",
              "  0,\n",
              "  'Negative'),\n",
              " (\"I bought a haier refrigerator 220L via flipkart and facing water leakage issue since purchasing.I got three time technician service for same issue but not resolved yet.Now company demand for chargeTher is no open space in freezer which not avail in any other refrigerator.So bustard serviceRequest to all don't purchase any product of haier company via flipkartFlag This ReviewIrrelevantFakeJunk   Thank You! We appreciate your effort.\",\n",
              "  array([-0.04113788, -3.347584  , -5.271866  ], dtype=float32),\n",
              "  0,\n",
              "  'Negative'),\n",
              " (\"@Flipkartsupport @Flipkart #tecnomobileTechnician visited today and he clearly  mentioned the customer not happy but still getting  continues cancellations of return, if one can't resolve it why giving unrealistic, procedure that does have any significant effect. Flag This ReviewIrrelevantFakeJunk   Thank You! We appreciate your effort.\",\n",
              "  array([-0.03251715, -3.6446733 , -5.1388936 ], dtype=float32),\n",
              "  0,\n",
              "  'Negative'),\n",
              " (\"I have ordered a new samsung phone and get it delivered very very late. After 1 day, I found that the product is defective because network and internet connectivity. I raised my complaint 5 times but these Fraud peoples didn't return my phone.Flag This ReviewIrrelevantFakeJunk   Thank You! We appreciate your effort.\",\n",
              "  array([-0.04406886, -3.2504673 , -5.4362397 ], dtype=float32),\n",
              "  0,\n",
              "  'Negative'),\n",
              " ('Really you guys are doing the best workNow the fast delivery problem has also been fixedAnd the flipcart is really trustworthyYou deliver the products safelyFlag This ReviewIrrelevantFakeJunk   Thank You! We appreciate your effort.',\n",
              "  array([-3.777347  , -0.81748223, -0.6244149 ], dtype=float32),\n",
              "  2,\n",
              "  'Positive'),\n",
              " (\"I hv an order a shirt on 6 of August 2020 it showed tht product ll be delivered on 15 th of August 2020 I was eagerly awaiting to receive my order. I got a message stating that due to some issues it has been postponed to 20th of August again on 20 th of August I hv awaited by the EOD I hv cld to customer support to enquire about my order again they hv said tht it will be rescheduled to 24 th of August 2020 literally its ridiculous it's been very bad experience by flipkart.so plz don't try to do shopping in flipkart its better to with Amazon and other portal.Even for courtesy from flipkart they dint cld to say apologize.Flag This ReviewIrrelevantFakeJunk   Thank You! We appreciate your effort.\",\n",
              "  array([-0.03255361, -3.5533304 , -5.6838865 ], dtype=float32),\n",
              "  0,\n",
              "  'Negative'),\n",
              " ('. DeliveryMost of the products not deliverable .. PriceSomewhat more than other similar sites.Flag This ReviewIrrelevantFakeJunk   Thank You! We appreciate your effort.',\n",
              "  array([-0.04970432, -3.158624  , -5.1151333 ], dtype=float32),\n",
              "  0,\n",
              "  'Negative'),\n",
              " ('I ordered headset from flipkart. good product. I was called two times, and not delivered. I was asked to come and collect. three days late delivery. flipkart should help customersFlag This ReviewIrrelevantFakeJunk   Thank You! We appreciate your effort.',\n",
              "  array([-1.804286  , -0.88066936, -0.86535376], dtype=float32),\n",
              "  2,\n",
              "  'Positive'),\n",
              " ('I have using flipkart for 3 years. My almost online purchasing is through flipkart .its a nice website. Also its android application is very easy to use such as entering shipping address and tracking the movements of our products. We can track day to day position of our products easily. The customer service is also very active .they give spontaneous reply to our queries. I really recommend flipkart to all my friends.Flag This ReviewIrrelevantFakeJunk   Thank You! We appreciate your effort.',\n",
              "  array([-3.631208  , -1.2811503 , -0.36269563], dtype=float32),\n",
              "  2,\n",
              "  'Positive'),\n",
              " (\"Flipkart...the worst shopping app I had ever seen.. ..they don't even know how to behave with the customer...and the quality is very bad...if I had to rate this app...just zero or below than that...totally waste of timeFlag This ReviewIrrelevantFakeJunk   Thank You! We appreciate your effort.\",\n",
              "  array([-0.04561537, -3.2686124 , -5.031126  ], dtype=float32),\n",
              "  0,\n",
              "  'Negative'),\n",
              " (\"I placed an order for Realme X2 pro for 28999. I was told to expect the delivery by 14 August. Wen I checked the statues it was nt even shipped till 14 and I chatted with flipkart care they said there's some issue with the seller/partner and will see wat they cn do.I again placed the same order on 16 August bt the price was 31999(without discount) and within few hours the product was shipped. The seller is same for both the orders.. To cut it short, I jus want to say that this is crap service.. Flipkart gives discount and thn don't deliver the product and wen the discount is over they ship it immediately.. Look into the matter.Flag This ReviewIrrelevantFakeJunk   Thank You! We appreciate your effort.\",\n",
              "  array([-0.02621626, -3.8897645 , -5.2166533 ], dtype=float32),\n",
              "  0,\n",
              "  'Negative'),\n",
              " ('\"Big Cheat in Delivery after taking hefty amount as shipping charges. Not professionally managed. The shipment usually will get delayed from their promised date. If you have patience to wait till eternity then go ahead with Flipkart or else search for similar item at competitive rate on other E Com & also you will get free delivery. Would suggest explore all other options before ordering on FLIPKART.\"Flag This ReviewIrrelevantFakeJunk   Thank You! We appreciate your effort.',\n",
              "  array([-0.05484123, -3.0991223 , -4.7944202 ], dtype=float32),\n",
              "  0,\n",
              "  'Negative'),\n",
              " ('@Flipkart Order ID - OD119377559253873000 This is my worst experience with Flipkart I would suggest all Indian not to buy any product from @Flipkart they are all fraudsters and looting your hard earned money. Flag This ReviewIrrelevantFakeJunk   Thank You! We appreciate your effort.',\n",
              "  array([-0.0420967, -3.3950477, -4.868626 ], dtype=float32),\n",
              "  0,\n",
              "  'Negative'),\n",
              " ('I had order payjama and tshirt and at last moment they had cancelled my orders...wasted my so many days.Flag This ReviewIrrelevantFakeJunk   Thank You! We appreciate your effort.',\n",
              "  array([-0.03214978, -3.6548824 , -5.1544065 ], dtype=float32),\n",
              "  0,\n",
              "  'Negative'),\n",
              " ('I ordered a gym combo product, that was damaged and i raise return request within return period. No one coming for pickup and they cancelled refund request without any msg. I posted my review regarding product on Flipkart but they hide my post.Flag This ReviewIrrelevantFakeJunk   Thank You! We appreciate your effort.',\n",
              "  array([-0.03219688, -3.6045785 , -5.4069843 ], dtype=float32),\n",
              "  0,\n",
              "  'Negative'),\n",
              " ('Its been 14 days  my product is not returned .I ordered  symphony cooler and the fan was not blowing properly .I called customer  care  to complaint where I was put on hold for 15  minutes and call was disconnected I again called  and requested  for return of this product  but till date  no return happened  after calling customer care several times  they sent technician but still my complaint  was not solved  almost summer  season is going to end.Not recommend others to buy  electronic  products  from FlipkartFlag This ReviewIrrelevantFakeJunk   Thank You! We appreciate your effort.',\n",
              "  array([-0.04719269, -3.2202582 , -5.091033  ], dtype=float32),\n",
              "  0,\n",
              "  'Negative'),\n",
              " ('I had my booking made during the pandemic and like everyone else was not able to travel   and since that last  4 days I am trying to reach out to both airline and flipkart travel to get the credit shell which they created utilized, flipkart travel even after repeated calls amd mails is not responding and the airline is not helping saying that they have transferred the shell amount to the agency, I suggest everyone donÃ¢â\\x82¬â\\x84¢t book  through  flipkart their customer service is very poor, and if you need any help after you book you will be left to gods mercyFlag This ReviewIrrelevantFakeJunk   Thank You! We appreciate your effort.',\n",
              "  array([-0.02989401, -3.6851165 , -5.435907  ], dtype=float32),\n",
              "  0,\n",
              "  'Negative'),\n",
              " (\"What's the purpose of ordering online, so that we get the same product as shown , but they deliver wrong items very confidently.I have requested for refund.Flag This ReviewIrrelevantFakeJunk   Thank You! We appreciate your effort.\",\n",
              "  array([-0.03802546, -3.4179742 , -5.3964133 ], dtype=float32),\n",
              "  0,\n",
              "  'Negative'),\n",
              " ('Why you are not returning this , Worst thing , disgusting Flipkart , you are becoming worst day by day , I m very angryNow I will never buy a product from Flipkart ??????????Flag This ReviewIrrelevantFakeJunk   Thank You! We appreciate your effort.',\n",
              "  array([-0.03979478, -3.3670123 , -5.3990583 ], dtype=float32),\n",
              "  0,\n",
              "  'Negative'),\n",
              " (\"Ordered boAt Aavante Bar 1550 120 W Bluetooth Soundbar  on 6th August.. Rest all is history.. want to see .. check belowYou've initiated a chat with usMon, Aug 10Message from FlipkartMon, Aug 10As per our conversation your issue is resolved.You've sent us a messageMon, Aug 10For the last two days.. i am recieving message from delivery team with OTP and without my knowledge and contacting me they are re-scheduling the delivery date.. what a pathetic way of dealing with customer. kindly send the contact number of the person handling delivery of my product.. It's urgent.. please Revert or callYou've initiated a chat with usMon, Aug 10Message from FlipkartMon, Aug 10As per our conversation your issue is resolvedYou've sent us a messageTue, Aug 11Another day same story.. product showing out for delivery but no one turned up..you guys need to learn something from AmazonYou've sent us a messageWed, Aug 12For the Three days.. i am recieving message from delivery team with OTP and without my knowledgeand contacting me they are re-scheduling the delivery date.. what a pathetic way of dealing with customer. kindly send the contact number of the person handling delivery of my product.. as per your assurance i waited till today (last day of delivery) but no update till now...please Revert or callYou've initiated a chat with usWed, Aug 12Message from FlipkartWed, Aug 12Hi Flipkart,In continuation to your last contact to know the status of your order with order id OD119350875044527000. We're sorry to let you know that there has been an unexpected delay in having your order delivered. We are working closely with the service providers to get this sorted and we will get back to you as soon as possible.We look forward to your continued trust and support.Thanks,FlipkartYou've sent us a messageThu, Aug 13Hi,Ordered on 6th august, now delivery date extended to 18. 12 days for delivering one small item, you really need to look at your service seems there is no parity between you and uour delivering partner. i need this to be expedited. if you still think you will not be able to deliver by promised time.. then please cancel and refund my amount. i wont mind paying some extra bucks. i have much better option available then you guys and that is AMAZON.Message from FlipkartToday, Aug 14Hi Flipkart,We're writing in continuation to your last contact to know the status of your order with order id OD119350875044527000.While we were tracking your order to make sure that it reaches you on time, we see that it has been cancelled.If you like, you may place a new order for the product, the seller will work with the courier service provider to ensure the product reaches you.Please use the survey below to tell us about your experience with usAt last i only have to say never buy anything from flipkart.. they are in here for good nothing service.. order on your own risk.. Strictly Avoid them when there is sale going on... Worst service provide.. my rating is 0/10..cheep people are in business... Boycot FlipkartFlag This ReviewIrrelevantFakeJunk   Thank You! We appreciate your effort.\",\n",
              "  array([-0.03980039, -3.3955684 , -5.2034936 ], dtype=float32),\n",
              "  0,\n",
              "  'Negative'),\n",
              " (\"Worst delivery service, Delivery expected to be 12th and now it's 14 August  but still there is no update on app. Also their customer care service is very bad and annoying they will reply your questions after your death.Flag This ReviewIrrelevantFakeJunk   Thank You! We appreciate your effort.\",\n",
              "  array([-0.03353165, -3.6029806 , -5.161471  ], dtype=float32),\n",
              "  0,\n",
              "  'Negative'),\n",
              " ('This site is very amazing. Its gives discount on the products. On this site payment also easy. Its gives many options for payment. Every product which I purchase were good quality. If by mistake ur product is defective u easy returns and get ur money on ur account as well as in ur wallet. The service of delivery is very good.on time ur product delivered.Flag This ReviewIrrelevantFakeJunk   Thank You! We appreciate your effort.',\n",
              "  array([-3.8230336 , -1.2476356 , -0.36967963], dtype=float32),\n",
              "  2,\n",
              "  'Positive'),\n",
              " (\"HP 15s Core i5 10th Gen - (8 GB/512 GB SSD/Windows 10 Home) 15s-du2078TU - paid 50k...which I ordered and received defect product. When i asked for return suggested to contact technician now am waiting for them but they are not available in critical situation when I called customer support they are following procedure again I asked them to send them today as I need laptop for office work now they are telling they will be available on or before 18th of aug as of today...when I asked them yesterday they told technician available on of before 17th of aug this is the way they are providing services.. it's really very bad service. Now am asking them for product return now they telling only exchange is available amt refund not possible.. am okay with this as well.. but am in critical situation asking them to send technician today only now they telling mam it's procedure we have to follow technician will be available as per the date mentioned...okay this is also fine I asked them to connect with senior management and they told ok made me wait for 2 or 1 min after that they are telling senior management is busy it happened thrice today..now I dnt knw what to do ..should I wait till aug 24th...I ordered bcz I got job after long time but received defect product ...am not getting any help from flipkart and customer support.They made me suffer a lot...we trusted them but they playing with our life by following useless procedure...the procedure which is not at all helping customers and making them suffer and wait for response...really very bad service providing by flipkart..we paid 50k for the laptop when we asked for amt not ready to refund instead we need to take another defect product ..these people are making money in this pandemic and we are suffering..I made a mistake by ordering product in flipkart by trusting flipkart now they are in hurry to make money in this pandemicFlag This ReviewIrrelevantFakeJunk   Thank You! We appreciate your effort.\",\n",
              "  array([-0.05518682, -3.0535934 , -5.035553  ], dtype=float32),\n",
              "  0,\n",
              "  'Negative'),\n",
              " (\"In cities it deliver every where and its very easy to shop but when I go my home town I was not able to shop because it show that the product can't deliver here try another address so it was a bit disappointing for me.Flag This ReviewIrrelevantFakeJunk   Thank You! We appreciate your effort.\",\n",
              "  array([-2.992404  , -0.7697681 , -0.72008085], dtype=float32),\n",
              "  2,\n",
              "  'Positive'),\n",
              " (\"Hi Team Flipkart,My name is Dinesh Jain from Bangalore and this is with reference to Order ID: OD119363440251152000.I ordered Boat Bluetooth Aavante Soundbar 2000 on 7th August and Order got delivered on 8th August by Flipkart.Post product delivery, I am having a very difficult time working with flipkart customer service team via chat and phone.I am awaiting for Installation of this product from Jeeves which was promised by flipkart to be done within 48 hours post delivery during order placement.However, it's been more than 48 hours of my product delivery and still there is no call or SMS from flipkart on when this product will be installed at my place along with Demo.I have the product still packed at my place and the package is not even opened yet.I called Jeeves today on 9972600036. However Jeeves informed me that they do not have any update from flipkart on my order yet. Once the order details from Flipkart to Jeeves is received, only then they can send the technician for installation and demo of the product.I have been chatting and calling flipkart multiple times from the time this product got delivered. Flipkart customer service only says that they will escalate this issue and nobody helps after this.Flipkart customer service agents over the phone only say that they can only escalate and cannot do much as they have very limited authority.I was also misguided that this product does not qualify for free installation. However, online on flipkart website, it states that the delivery and installation is free(Screenshot for reference).I am extremely frustrated talking to the flipkart customer service team as nobody is interested to support.Thanks and RegardsDinesh JainBangaloreFlag This ReviewIrrelevantFakeJunk   Thank You! We appreciate your effort.\",\n",
              "  array([-0.03662244, -3.43954   , -5.551786  ], dtype=float32),\n",
              "  0,\n",
              "  'Negative'),\n",
              " ('The delivery is not on the time on 11th 11th August it is not still at 11th August the delivery is not nice and everything is FlipkartFlag This ReviewIrrelevantFakeJunk   Thank You! We appreciate your effort.',\n",
              "  array([-0.04099372, -3.356061  , -5.241479  ], dtype=float32),\n",
              "  0,\n",
              "  'Negative'),\n",
              " (\"Recently in a sale I purchased a TV from flipkart which was also delivered to me on time. But my nightmare started when there was a defect found in the TV which was also highlighted by their own technician who came to fit the TV. On asking for a replacement (which is very well mentioned on their site) due to a malfunctioning product they asked me to take a refund (EMI for that product already charged by the bank to me during this time) as the product is out of stock. Somehow they don't mention this on the site while selling their item. And guess what the seller of the product is their very own  OmniTech Retail. They purposely kept buying time so that I not only loose on the introductory price but also on the initial extended warranty of the TV which was only for 6th to 10th Aug.I keep blaming myself on why I chose this sick site for purchasing a product which currently lies at my place which is of no use and also burnt so much of my time in dealing with their customer service which lacks knowledge skills.Moreover now they don't even let me share the reviews of the product on the site. I have snapshots to proove this and it gets submitted at my end yet never appears to all. Atleast by reading my review someone would aave their money and valuable time dealing with idiots.Moreover someone from Hisense calls me and tries to negotiate the ratings I have given on the product by offering me a repair on the problem (not replacement) . These goons think that they have done a favour to me by selling their TV but they kind of forgot that the Customer is God!Flag This ReviewIrrelevantFakeJunk   Thank You! We appreciate your effort.\",\n",
              "  array([-0.03018738, -3.6553152 , -5.551155  ], dtype=float32),\n",
              "  0,\n",
              "  'Negative'),\n",
              " (\"Worst app ever .... Purchased 4 product through filpkart but had badest experience ...!Out of 4 product one is missing from the package.....and all the3 product did not match description as well as the inferior stuff., ....I requested call form executive..the executive call me up...and said that u have to wait for some time...I waited...but they didn't solve my problem...now its been3week..Whoever reading my review ....don't buy anything from filpkart........Really want to gave negative rating to the filpkart co...Flag This ReviewIrrelevantFakeJunk   Thank You! We appreciate your effort.\",\n",
              "  array([-0.03011277, -3.6552331 , -5.57054   ], dtype=float32),\n",
              "  0,\n",
              "  'Negative'),\n",
              " (\"Worst experience ...  To the executive...they didn't solve my problem regarding pay later I call since more than 2 week..and no solution...is ...been done....Flag This ReviewIrrelevantFakeJunk   Thank You! We appreciate your effort.\",\n",
              "  array([-0.04011904, -3.39129   , -5.1743755 ], dtype=float32),\n",
              "  0,\n",
              "  'Negative'),\n",
              " ('Recently purchased 2 products through flipkart but had very bad experience with delivery and demo. Product is delivered 20 days back but demo/installation is noy yet happened and i dont think it will ever happen. The worst part is following up with flipkart support. They are illiterate people. They either dont read the problem or dont understand. After hard try, demo didnt happen and then they got to know that i am going to give bad feedback, they changed the order status to cancelled even though product is delivered.I have lost the hope and understanding the demo from youtube myself.I really want to give negative rating to this waste company called flipkart.Flag This ReviewIrrelevantFakeJunk   Thank You! We appreciate your effort.',\n",
              "  array([-0.04401353, -3.2671561 , -5.3095107 ], dtype=float32),\n",
              "  0,\n",
              "  'Negative'),\n",
              " (\"Doesn't recommend Flip kart Seller Hub Very poor claim policy, without any valid reason LIKE MS SHIPMENT  Buyers are returning the product after using it seller support teams are rejecting claims. Then who will bear this loss.KNDLY ALL SELLER DON SELL N FLPKART YOU WLL LOSS SO WE DE ACTIVATEFlag This ReviewIrrelevantFakeJunk   Thank You! We appreciate your effort.\",\n",
              "  array([-0.0539996, -3.0516248, -5.24278  ], dtype=float32),\n",
              "  0,\n",
              "  'Negative'),\n",
              " ('It is working very well, I have done this shopping on Flipkart many times and I have received good items every turn, their return policy is also very good delivery also comes on time. Delivery boy is very good.They are very helpful and kindFlag This ReviewIrrelevantFakeJunk   Thank You! We appreciate your effort.',\n",
              "  array([-3.362984  , -1.4669465 , -0.30823922], dtype=float32),\n",
              "  2,\n",
              "  'Positive'),\n",
              " ('I had requested Refund because the product did not match the description. The customer executive called me up and without even listening to the issue said that your refund can not be accepted and hung up. Minutes after that we I was looking to connect through the mobile app, they had already removed my request from the section and marked it as Refund Refused.Flag This ReviewIrrelevantFakeJunk   Thank You! We appreciate your effort.',\n",
              "  array([-0.02914794, -3.6933973 , -5.562316  ], dtype=float32),\n",
              "  0,\n",
              "  'Negative'),\n",
              " ('I have ordered quite a lot of stuffs from flipkart and for me its quite ok and satisfied with the products they offer.Flag This ReviewIrrelevantFakeJunk   Thank You! We appreciate your effort.',\n",
              "  array([-3.534053 , -0.9716266, -0.5236632], dtype=float32),\n",
              "  2,\n",
              "  'Positive'),\n",
              " ('I ordered a Boat Rockerz 600 HD sound Bluetooth headset from Flipkart & did not got my product after so many follow ups .Even I am not able to cancel my order so that I got my prepaid my money back .Customer care persons are only giving me new dates & not giving me useful feedback i.e. no transparency in system .Flag This ReviewIrrelevantFakeJunk   Thank You! We appreciate your effort.',\n",
              "  array([-0.03066796, -3.6433458 , -5.512032  ], dtype=float32),\n",
              "  0,\n",
              "  'Negative'),\n",
              " (\"Once I ordered 10 'inch' shoes on flipkart they took a long way to deliver the product as well as they sent me 7 'inch' shoes. It took nearly 11 days for deliver.Flag This ReviewIrrelevantFakeJunk   Thank You! We appreciate your effort.\",\n",
              "  array([-0.04485404, -3.3150845 , -4.888605  ], dtype=float32),\n",
              "  0,\n",
              "  'Negative'),\n",
              " (\"Do not buy furniture from flipkart.I made a mistake by buying furniture from flipkart. I bought a â\\x80\\x98Flipkart perfect homes Viola Engineered Wood Queen Hydraulic Bedâ\\x80\\x99, selling price of the product was Rs. 23890 without discount I got it for Rs 14090.After 8 months of use the head portion support went down. When I checked it, all of the fitting whuch was made has came out ( nut bolts ).Very same day I raised a complaint against the product since product was still under warranty.Flipkart took the request and arranged the authorized partner to visit and check the status. The visiting person agreed saying that the product had fitting issue. My reply was â\\x80\\x98they were your people who made the fitting' how would I know how fitting has to be done.The person called his boss and provided him images of bed. Then the dealer spoke to me and said â\\x80\\x98 Sir we can't do anything since the bed is brokenâ\\x80\\x99 then I answered him The product is still under warranty, why can't you do anything. Next thing what he said is sir you could informed after installation then I replied â\\x80\\x98problem has occurred after 8 months, why do you expect complaint from me after installation â\\x80\\x98 then he said sir I will provide my update to flipkart. You can talk to them.After 1 hour I received a message saying dealer has completed its visit to your place. Sorry seller is unable to provide return request.I called flipkart then agents tells me sir if there is any material issue with product we can't do anything then i asked them â\\x80\\x98why are providing warranty on product?â\\x80\\x99 How does it make sense? If product has some issue then there is no repair or refund on product and the next movement my request was closed.All I want to say do not get into trap of flipkart. Buy furniture from somewhere else who provides you valuable service for product if any issue occurs. Just forget that you will get any support from flipkart.You can also check the condition of bed in images.Flag This ReviewIrrelevantFakeJunk   Thank You! We appreciate your effort.\",\n",
              "  array([-0.03805851, -3.4179163 , -5.3898306 ], dtype=float32),\n",
              "  0,\n",
              "  'Negative'),\n",
              " ('This is the place I always go for my online shopping, very trusted website for many indians. I am using this from my collage time and getting good deals. in corona times you cant go outsite as normal so you may visit to flipkart website. you can use the services if you are ordering new launch phones or some new fashionable clothes. I would highly recommand you to use Flipkart for your online purchase.Flag This ReviewIrrelevantFakeJunk   Thank You! We appreciate your effort.',\n",
              "  array([-3.4997125 , -1.0215571 , -0.49468982], dtype=float32),\n",
              "  2,\n",
              "  'Positive'),\n",
              " ('Placed an order with Flipkart on 5th Aug. Assured by them delivery by 6th. Continually following up with them for same but no response or explanation regarding why delay occurred. Complain on Helpline, email, twitter but no response. Neither product delivered nor money back. #Flipkart now cheating & duping customer.Flag This ReviewIrrelevantFakeJunk   Thank You! We appreciate your effort.',\n",
              "  array([-0.04304661, -3.2983    , -5.261518  ], dtype=float32),\n",
              "  0,\n",
              "  'Negative'),\n",
              " (\"My below complaint case regarding N95 masks is just closed without any solution. they just marked it as SOLVED. This is really suicidal for Flipkart and only harm Flipkart. With such unprofessional attitude and unethical practices how flipkart will survive? Flipkart will always remain a local company without any business ethics that can never ever match the higher standard same as AMAZON. I also had one issue with Amazon but they solved it even before becoming an issue in only one chat. Why should we order on Flipkart henceforth? With my ongoing issue and after going through so many cases on this portal I am wondering why did I place even a single order to such a unprofessional company without any business ethics.Sorry Flipkart. BYE BYE. I am not so stupid that I will ever order anything on flipkart. Mark my words you will not survive with this attitude.My case is as below:'This is in public interest. I am wondering how well renowned company like Flipkart can indulge in fraudulent activities. Because It is very dangerous for society in this way they are promoting serious frauds.I ordered Venus V4400 N95 masks(NIOSH approved) on 2nd July. TheOrder ID is OD[protected]. They delivered fake KN95 maks(Not from any approved manufacturer with CE/FDA/ NIOSH). They are similar to KN95 not enus V4400 N95 respirators(NIOSH approved)'Flag This ReviewIrrelevantFakeJunk   Thank You! We appreciate your effort.\",\n",
              "  array([-0.03549315, -3.5241716 , -5.222379  ], dtype=float32),\n",
              "  0,\n",
              "  'Negative'),\n",
              " ('I have purchased mobile & Laptop from them but the laptop has not screw at CD drive.they will not listen your complaint.Flag This ReviewIrrelevantFakeJunk   Thank You! We appreciate your effort.',\n",
              "  array([-0.04131576, -3.3166018 , -5.473148  ], dtype=float32),\n",
              "  0,\n",
              "  'Negative'),\n",
              " ('I give 4 star rating to FlipkartOne Of the best After Amazon.comIn Region Of Pune its Very Help Full in Our areasSo Much Customer Cares are available In City Pune And Near 90 km area.time to time DeliveryService is very fast in Maharashtra .Flag This ReviewIrrelevantFakeJunk   Thank You! We appreciate your effort.',\n",
              "  array([-3.5873246 , -0.93243015, -0.54691637], dtype=float32),\n",
              "  2,\n",
              "  'Positive'),\n",
              " ('I am waiting for sale from last 2 months but.. All mine time was wasted there is no price drop on mobile and other products...Flag This ReviewIrrelevantFakeJunk   Thank You! We appreciate your effort.',\n",
              "  array([-0.02781309, -3.7651908 , -5.4569216 ], dtype=float32),\n",
              "  0,\n",
              "  'Negative'),\n",
              " ('I had purchased a Samsung Mobile Phone Model No A51 at INR. 28199.00.On 26th. July 2020. Device was received by me on 31st. July 2020.I requested on 03rd. Aug. 2020 for returning the said  devise which was duly approved vide Order ID.  119264570842686000.I have also several SMS confirming process. On 04th. Aug. 2020 I have come to know that my request has rejected without mentioning any reason.I am appealing for reconsider, and my prayer be approved.Regards,Pranab Banerjee.9830016310Flag This ReviewIrrelevantFakeJunk   Thank You! We appreciate your effort.',\n",
              "  array([-0.0450177, -3.2509089, -5.2437415], dtype=float32),\n",
              "  0,\n",
              "  'Negative'),\n",
              " (\"Flipkarts level of customer service has gone down. This product I got (Micromax bharat 2 mobile) for my parent was faulty. The screen has to be pressed really hard to make them work. The navigation on the phone does not work. It navigates to somewhere else.Flipkart simply refuse to return even if the product does not meet our expectation. They say they will troubleshoot it but I demand a return as I expect a new product to work, I don't want to troubleshoot. After many phone calls, hours of chatting, they refused to return. BEWARE OF BUYING FROM FLIPKART.Flag This ReviewIrrelevantFakeJunk   Thank You! We appreciate your effort.\",\n",
              "  array([-0.03019235, -3.6726794 , -5.44155   ], dtype=float32),\n",
              "  0,\n",
              "  'Negative'),\n",
              " ('The delivery is on 2 Aug then they change a status to 4th Aug again they change the status 6th and now delivery expected by 12th Aug.this very third-class services provide by Flip kart I suggest everyone to go with amazon services.Flag This ReviewIrrelevantFakeJunk   Thank You! We appreciate your effort.',\n",
              "  array([-0.04684955, -3.1861823 , -5.4171643 ], dtype=float32),\n",
              "  0,\n",
              "  'Negative'),\n",
              " ('I have made several purchases from this website since 2012. I have not met any bad incident till now. Thanks to flipkart for well maintained websiteFlag This ReviewIrrelevantFakeJunk   Thank You! We appreciate your effort.',\n",
              "  array([-3.2306666 , -0.94822013, -0.5568018 ], dtype=float32),\n",
              "  2,\n",
              "  'Positive'),\n",
              " ('This tym very disapointed.coz u delivery date confirm to 3 aug now not got it .nd now m checking again then till date expected 5aug , wt is this??? Itz very ghatiya sites nd ur curier ekart logistic very poor service after that m nt using this sites nd never looked flipkart always to bye bye sites.getlost flipkart.gali dene ka mann to kr raha h pr ye allow nhi kr raheFlag This ReviewIrrelevantFakeJunk   Thank You! We appreciate your effort.',\n",
              "  array([-0.04350908, -3.288066  , -5.2494884 ], dtype=float32),\n",
              "  0,\n",
              "  'Negative'),\n",
              " ('Chinese reseller for Xiaomi, realme and other ccp cheap prroductsCheap quality products and not good warranty.Flag This ReviewIrrelevantFakeJunk   Thank You! We appreciate your effort.',\n",
              "  array([-2.6504004 , -0.81716275, -0.7180669 ], dtype=float32),\n",
              "  2,\n",
              "  'Positive'),\n",
              " ('Fraud selling, i ordered a Pair of Nike air Max shoe of 5749/-, and got delivered a product of 499/- pair of shoes in a nicely packed box of Nike shoes.this is too much. 499/- product against a ordered product of 5749/-, how people can trust you, and you are so shameless cheap company that you dnt even damn give Attention towards customer satisfaction. I will not leave you people, most people probably give reviews about your bad services and leave it after some days, but I will take legal action against your company.Flag This ReviewIrrelevantFakeJunk   Thank You! We appreciate your effort.',\n",
              "  array([-0.03726821, -3.4518535 , -5.3194604 ], dtype=float32),\n",
              "  0,\n",
              "  'Negative'),\n",
              " (\"I started shopping in Flipkart atleast 6 years ago. I had to close it in 2019 because flipkart cheated on me. Two days ago I reopened another account to purchase 2 rakhi gifts(perfume bottles) for my sisters in Delhi.  Seller delivered only one and Flipkart refused to refund. Generally I shop in Amazon @ around 30 items in 6 months and Amazon's attitude is polite, helpful and extremely consumer-friendly. Chances of fraud are almost zero in Amazon while Flipkart has a bunch of sellers who will take you for a ride! Flag This ReviewIrrelevantFakeJunk   Thank You! We appreciate your effort.\",\n",
              "  array([-0.02386534, -3.9050183 , -5.671641  ], dtype=float32),\n",
              "  0,\n",
              "  'Negative'),\n",
              " ('Dear Sir / Madam,I am writing to you to raise an issue about: Computers and Consumer ElectronicsThe issue that I have experienced was:I ordered 1 piece of refrigerator amount of 11, 240 rupees on 5th May 2020, waited until 26th May 2020 for order to deliver but not happen, so I canceled the order, Flipkart replied in mail we initated the refund and will credit on 1st of June 2020 and from 26th May 2020 to still, haven\\'t received the refund amount.Spoke, chat, email with there executive, they are very unprofessional without providing resolution they closed my case as solved. I raised so many concern still no response aganist my refund.(Only the dialogue is \" Your refund already initiated and it will credit on 1st June 2020, but that still I am waiting)from there side even I spoke bank they said we have not received any amount.Kindly intervene as you are last hope to get my money back.Enclosed last chat with your customer care.It occurred on: 26/05/2020I need my refund with 3 months compensation as I went to bank almost 10 times and with them from last 3 months several time via call, email or chat.FYI, (Flipkart), I am filing a case against you and I need my compensation on last 3 months with my refundNehaz ulhoqueFlag This ReviewIrrelevantFakeJunk   Thank You! We appreciate your effort.',\n",
              "  array([-0.03723984, -3.4091752 , -5.6588387 ], dtype=float32),\n",
              "  0,\n",
              "  'Negative'),\n",
              " ('I shop everything I need online. I have used various playforms like Myntra, Amazon, Ajio, Club Factory, Nykaa, Just Herbs and Flipkart. And let me tell you Flipkart has been the worst.Firstly, the user interface is pathetic.Suppose you liked a top and you want to see colours of that top.For Myntra and Amazon you get to see colours of same product in single window.But in flipkart, there is a whole different entry for difeerent colours of the same product.This makes it so difficult and time consuming to shop there.Also the filters are very few to actually find what we need. Even if you filter out, the products will be mixed. There is no clear separation.Coming to the products, I had once ordered Puma sports shoes which out to be fake and when I complained about the same, they simply said you can exchange or return but that is real product. Point is not about exchanging but about flipkart sending fake products with Puma tagging.Now about exchange policy, that is fine just like any other platform.It is free and money is transferred back to you.But not all products can be returned.It depends on different sellers.Products can take anywhere between 3-15 days depending upon the seller and market demand.Customer support services are really bad. You have to call them atleast 10 times before they actually answer.Even after that it is not sure if they will solve your query.There are many sellers who also upload fake pictures and there is no mechanism to verify the genuineness.Overall, bad experience.Please choose Myntra or Amazon anyday over Flipkart.Flag This ReviewIrrelevantFakeJunk   Thank You! We appreciate your effort.',\n",
              "  array([-0.03588942, -3.522569  , -5.1621313 ], dtype=float32),\n",
              "  0,\n",
              "  'Negative'),\n",
              " ('Product is dent appears flipkart & seller say it is not replaceable & also not refundable it is my very worst experience with flipkart, inever adviced to anybody to purchase any electronic goods from flipkartFlag This ReviewIrrelevantFakeJunk   Thank You! We appreciate your effort.',\n",
              "  array([-0.0291748, -3.6949956, -5.545311 ], dtype=float32),\n",
              "  0,\n",
              "  'Negative'),\n",
              " ('They send me a product that is literally a sample and costs INR 9/-  as mentioned on the packet haha, and then the customer service person I was talking to said she cannot proceed with return/refund if I dont give her an alternate number(um, what?). What kind of a moronic rule is that? Not everyone has an alternative number!Then, she had the audacity to tell me that the product cannot be returned and refunded as it has no refund policy(a product that I never got). I mean how incredibly stupid and pathetic is their customer service? How on earth can you say, \"there is no return policy\" when you deliver a WRONG product?They don\\'t even issue a refund/replacement and ask you for all types of extra unnecessary details DESPITE sending them pictures of the invoice, packaging, and the product.If this was Amazon, this would have been resolved in minutes. Absolutely pathetic.I selected the flipkart paylater option for this, if they do not issue a refund, I will forego the paylater all together and I would like to see what these scammers do about it.Flag This ReviewIrrelevantFakeJunk   Thank You! We appreciate your effort.',\n",
              "  array([-0.02833642, -3.7751021 , -5.297529  ], dtype=float32),\n",
              "  0,\n",
              "  'Negative'),\n",
              " ('The worst online shopping site I have ever seen in my life. Poor delivery service and high shipping chargers. Without delivering the status of delivered on the site.I will not recommend to anyone.I was very disappointed.They have even charged 350 rs delivery charges on the purchase of 1500 and even not deliverd my product.Flag This ReviewIrrelevantFakeJunk   Thank You! We appreciate your effort.',\n",
              "  array([-0.03361465, -3.52106   , -5.6584544 ], dtype=float32),\n",
              "  0,\n",
              "  'Negative'),\n",
              " (\"I have been Using Flipkart for the last 4years and I can Say that I'm always Comfortable With the Flipkart fashion products, kitchen appliances... because of the Quality of products they Charted on app and the cash on delivery process..But I'm don't ever purchased electronic item from Flipkart last month my brother purchased Mi8 Mobileit was mentioned that in case of any defects the Mobil will be replaced within 10 days of delivery .Mobile was not working properly and we informed them but we don't get any response from them And We are cheated.....Most of the times my other friends too faced these types of issues from Flipkart ??Flag This ReviewIrrelevantFakeJunk   Thank You! We appreciate your effort.\",\n",
              "  array([-0.40453604, -1.4984589 , -2.2142134 ], dtype=float32),\n",
              "  0,\n",
              "  'Negative'),\n",
              " (\"I'm a Flipkart customer from 4years. It is one of the good app I have used. The product quality and customer service is fine. I have brought around 97 product from Flipkart including a smartphone. And all the products was fine for me. And I got many books for my competitive exam all books I got in better discount. And there are so much games in Flipkart which provide supercoins. And I think that's amazing.So in my experience Flipkart is one of the best shopping app in India.Flag This ReviewIrrelevantFakeJunk   Thank You! We appreciate your effort.\",\n",
              "  array([-3.9153593 , -1.0513446 , -0.46108508], dtype=float32),\n",
              "  2,\n",
              "  'Positive'),\n",
              " ('Hello Everyone,As we all know that the Flip kart  is a very famous app  for online shopping .   But truly saying before judging your services  Consumer check the apps reviews and  this app Crashes a lot of times .Some situations where app crash   .  during password reset .during log in after re installation .sometimes it takes a lot time to log in .most of the stocks are always out of stock  or  stock unavailable  . many people recommend to users to do not Purchase Electronic items  Such  as cell phones, laptop and TV etc .Here the topic was about app performance .   its a little information but it can help the userhope  my this review will be helpful for  consumers and ServiceProviders .thanksFlag This ReviewIrrelevantFakeJunk   Thank You! We appreciate your effort.',\n",
              "  array([-0.04417221, -3.3583055 , -4.7775364 ], dtype=float32),\n",
              "  0,\n",
              "  'Negative'),\n",
              " ('If the coustomer service and response there would have been a negative star, I would have given one.Totally pathetic, unprofessional and lazy service.They will snatch your hard earned money in the first chance they get.Flag This ReviewIrrelevantFakeJunk   Thank You! We appreciate your effort.',\n",
              "  array([-0.03680791, -3.478056  , -5.245468  ], dtype=float32),\n",
              "  0,\n",
              "  'Negative'),\n",
              " ('I was ordered iphone 7 plus 32gb on 24 july 2020 nd today I received 28 july 2020 but the phone switch is not onnn phone is in death condition. What i do now .Flag This ReviewIrrelevantFakeJunk   Thank You! We appreciate your effort.',\n",
              "  array([-0.0361247, -3.4445753, -5.6374974], dtype=float32),\n",
              "  0,\n",
              "  'Negative'),\n",
              " ('It is my personal experience on flipkart I had alot of negative thoughts on my mind about products quality and parcel cm on date or not etc.finally I thought I will buy it once on Flipkart so.not very app will b same I had order my little girl chair.den finally it came before the date and the chair quality was so gud and osm I didnot believe the price range also affordable and very thing was good and important point was the delivery man was using sanitizer with gloves it was so good to take tht product nw a days because of Corona virus we cant trust anybody but now I will always order my single tooo from Flipkart it is my favourite application I love ordering from Flipkart I dont have any negative thoughts about flipkart thank you so much to keep us safe n secure.Flag This ReviewIrrelevantFakeJunk   Thank You! We appreciate your effort.',\n",
              "  array([-3.105329  , -0.60875964, -0.88876075], dtype=float32),\n",
              "  1,\n",
              "  'Neutral'),\n",
              " ('I have ordered a phone on 22nd july and it last date of delivery is 28 but the did not deliver the product on time. tried a lot to reach costumer care but they are saying they are always busy still I am waiting for my product. Worst shopping everFlag This ReviewIrrelevantFakeJunk   Thank You! We appreciate your effort.',\n",
              "  array([-0.02779976, -3.7479198 , -5.5596447 ], dtype=float32),\n",
              "  0,\n",
              "  'Negative'),\n",
              " ('I ordered a product worth 2k.Product got delivered on 12th july 2020.The quality was very bad.I raised a return request on the same day. The return got approved and I received a text stating that the product will be picked up on 25 july 2020, and all of a sudden the seller cancelled the return on 17 July 2020 without any intimation.I called flipkart on 25 July to check that no one came to pick the product, then the flipkart agent informed me that the return is been cancelled by the seller without any reason. When I raised a complaint all the agents gave me wrong information stating that someone will call but no one ever called and also few agents hung up the call. Guys flipkart is scamming people. Do not get trapped.Flag This ReviewIrrelevantFakeJunk   Thank You! We appreciate your effort.',\n",
              "  array([-0.03048806, -3.646215  , -5.5369844 ], dtype=float32),\n",
              "  0,\n",
              "  'Negative'),\n",
              " ('I bought a Yu Yureka mobile through filipkart on 13th.June, but the product is defect in touch display and the sim 1 slot eject the sim card, i already send the return replacement request on 14th June, but still there no any proper improvement from the side of filipkart and also the seller omnitech retail.Flag This ReviewIrrelevantFakeJunk   Thank You! We appreciate your effort.',\n",
              "  array([-0.03753921, -3.430886  , -5.4069967 ], dtype=float32),\n",
              "  0,\n",
              "  'Negative'),\n",
              " ('Our family had ordered rakhi first time and that was the worst experience we had.They had delivered fake rakhis instead of ones we had chose.Thoroughly dissatisfied.I had decided I would never ever buy online from now from any online platform be it any online company.Flag This ReviewIrrelevantFakeJunk   Thank You! We appreciate your effort.',\n",
              "  array([-0.02430104, -3.881397  , -5.6880555 ], dtype=float32),\n",
              "  0,\n",
              "  'Negative'),\n",
              " ('Its FLOPKART. They have fake sellers who sell DEFECTIVE ELECTRONICS and once we accept delivery THEY REFUSE REPLACEMENT OF NON WORKING PRODUCT. I have wasted 7000 rs of purchasing IKALL mobile as it was not connecting to mobile data of any sim 2 time flopkart technician came checked phone CONFIRMED THERE WAS A DEFECT and yet the seller rejected the replacement and FLOPKART DID NOTHING ABOUT IT. All the teams are so unconcerned about the issue they just give FAKE APOLOGIES AND DO NOTHING ABOUT IT . Its just FINANCIAL LOSS AND MENTAL HARASSMENT.IM FILING POLICE COMPLAINT AGAINST THE SELLER ALFARADIOS DELHI AND FLOPKART FOR SELLING ME NON WORKING PRODUCTFlag This ReviewIrrelevantFakeJunk   Thank You! We appreciate your effort.',\n",
              "  array([-0.04423916, -3.259811  , -5.3227744 ], dtype=float32),\n",
              "  0,\n",
              "  'Negative'),\n",
              " (\"I'm suffering  4000 direct loss on 1 product  on flipkart , I bought 2 month back one item  on Flipkart but  some reason  I returned  it  n still  today I dint  got my refund ! I contacted  Flipkart so many time  regard this but useless  flipkart  everytime,  finally  I bored forget that moneyDear friends  u don't repeat  the mistake  buy buying  on fraud Flipkart in future! Otherwise  same thing could  happen  with u.Flag This ReviewIrrelevantFakeJunk   Thank You! We appreciate your effort.\",\n",
              "  array([-0.03021352, -3.6520112 , -5.5667944 ], dtype=float32),\n",
              "  0,\n",
              "  'Negative'),\n",
              " ('I bought HP, 23.8-inch monitor, from the Flipkart. When I receive a courier there was not any bezel of the monitor, even no wall mount kitt inside the box. Even received box also broken.Flag This ReviewIrrelevantFakeJunk   Thank You! We appreciate your effort.',\n",
              "  array([-0.06112242, -2.943088  , -5.022326  ], dtype=float32),\n",
              "  0,\n",
              "  'Negative'),\n",
              " ('Very bad service & poor response.never buy anything from flopakrt viz Flipkart.3rd class service & wrong commitment.Flag This ReviewIrrelevantFakeJunk   Thank You! We appreciate your effort.',\n",
              "  array([-0.02622183, -3.823545  , -5.5137835 ], dtype=float32),\n",
              "  0,\n",
              "  'Negative'),\n",
              " (\"My experience have always been awesome I appreciate flipkart for its great service reasonable price and good quality products easy return policy and best customer supportDelivery is very fast and the app is very friendly delivery charges is not too high and also having the facility of fast deliveryif you return the productthey refund your money on timeSafely deliver your product before expected timeIt's a easy to use online shopping appThey've so so many options available for paymentThey also offer Cod on almost every productGame section is also goodSo as per my experience it's a wonderful app for shopping different types of productsYou can easily compare productsSo as per my experience I love flipkart for its services and quality productsSo in short flipkart app is great for online shopping definitely go for itSome of the highlights of the appBEST ONLINE SHOPPING APPEASY RETURN POLICYGOOD CUSTOMER SERVICEREASONABLE DELIVERY CHARGESREASONABLE PRICES OF PRODUCTVARIETY OF PRODUCTS AVAILABLECASH ON DELIVERY SERVICE IS AVAILABLEFlag This ReviewIrrelevantFakeJunk   Thank You! We appreciate your effort.\",\n",
              "  array([-3.862369 , -1.1064277, -0.4334889], dtype=float32),\n",
              "  2,\n",
              "  'Positive'),\n",
              " ('Never buy costly items from Flipkart.I have purchased a Thomson UD9 124cm(50 inch) Ultra HD(4K) LED Smart TV (50TH1000) on 18th June 2020 which was delivered and installed on 21st June 2020.The said TV had a problem of auto power-off for which I have made a return request on 24th June 2020. The product is 10  day returnable and FLIPKARTASSURED. But there is no response from the Technician and Flipkart about the return of the TV and refund on INR 25999.whereas, when I have purchased few items worth of upto INR 2000 were returned and refunded. Its really a very bad experience from flipkart.I advise you to buy products from AMAZON or JIOMART but not on flipkart platformNow iam filing a complaint in consumer forum to resolve the matterFlag This ReviewIrrelevantFakeJunk   Thank You! We appreciate your effort.',\n",
              "  array([-0.03423034, -3.5485792 , -5.3214617 ], dtype=float32),\n",
              "  0,\n",
              "  'Negative'),\n",
              " ('Really Disappointed with my 2 orders. As I ordered rakhi for my brothers but the shown product and delivered are totally different.We ordered the product because we trust Flipkart. But what kind of support you guys are giving to your clients. How can you allow such fake sellers to sell their products and not taking any kind of strict action against them?Highly Disappointed with FlipkartFlag This ReviewIrrelevantFakeJunk   Thank You! We appreciate your effort.',\n",
              "  array([-0.03226429, -3.587142  , -5.503595  ], dtype=float32),\n",
              "  0,\n",
              "  'Negative'),\n",
              " ('My OrdersOD119044035419920000 Micromax Bharat 2 Plus(Black, 8 GB)Color: BlackI need to return this because my daughter is unable to take a zoom classe. But you are not responding. Kindly do the same.Flag This ReviewIrrelevantFakeJunk   Thank You! We appreciate your effort.',\n",
              "  array([-0.05377651, -3.065427  , -5.1634073 ], dtype=float32),\n",
              "  0,\n",
              "  'Negative'),\n",
              " (\"I ordered for a product from Flipkart 2 months back.the product was broken so it was returned back. the refund was to be made but unfortunately the bank account from which the payment was made had to be closed . I did not know that the product which I shall receive will be broken and the money will be sent back to the account or else I would have waited to shut the account.its been 2 months and I'm struggling to make the customer service understand with a proof that the bank was shut has been attached( the copy taken from the bank itself)These guys speak like parrots saying we are sorry for the inconvenience and don't make an effort to understand you problem and keep giving you mails that the issue has been resolved!I have attached the bank statement which clearly states the bank account is SHUT and the money refunded has been done after that. How can the money be deposited when the account is inactive? why don't they simply check with their supplier? Why are they not using their brains and closing this matter?Flag This ReviewIrrelevantFakeJunk   Thank You! We appreciate your effort.\",\n",
              "  array([-0.03189417, -3.6172378 , -5.396126  ], dtype=float32),\n",
              "  0,\n",
              "  'Negative'),\n",
              " ('@FlipkartOne of the product is missing..And the customer care is useless.they neither delivering the missing product nor refunding the money .it isreally pathetic to order anything fron flipkart. Flag This ReviewIrrelevantFakeJunk   Thank You! We appreciate your effort.',\n",
              "  array([-0.03575348, -3.4919376 , -5.3644543 ], dtype=float32),\n",
              "  0,\n",
              "  'Negative'),\n",
              " ('Pathetic customer service of flipkart, declining day by day. I got smaller size of the product than ordered. They are asking for id proof like pan card or adhaar, photos of the the product ( ok i am ready to give). When i have asked them that i cannot give adhaar or pan, they rejected my return. Seems very strange as a policy you cannot ask for such proofs when i have paid from my bank. I would  suggest people to see these things before buying from flipkart. Photo attached showing different sizes.Flag This ReviewIrrelevantFakeJunk   Thank You! We appreciate your effort.',\n",
              "  array([-0.05236816, -3.1071436 , -5.068474  ], dtype=float32),\n",
              "  0,\n",
              "  'Negative'),\n",
              " (\"I am a Restaurant manager in chennai, I had booked a ticket for my staff on 29th June 2020.From Chennai to Raipur.I was confirmed and my money got deducted from my account after some time I got a msg saying that the transaction was incomplete and we are not proceeding your request and they said your money will be credited in 9 to 12 working daysI wrote a mail they said they will get back.Now it's 25 days I am still waiting for my money and for their mail as well.This is 3rd bad experience I had will Cleartrip hence forth I will not book any ticket from this sightFlag This ReviewIrrelevantFakeJunk   Thank You! We appreciate your effort.\",\n",
              "  array([-0.03463218, -3.5137496 , -5.459805  ], dtype=float32),\n",
              "  0,\n",
              "  'Negative'),\n",
              " (\"Flipkart sales and offers are big Scams. I will suggest you to never relay on them and never try to purchase anything on Debit card emi option with them.Now a days they are getting bank offers on Debit card emi option with is a big trap.The emi amout they will promise won't be real. They will charge something else.The flipkart support is a biggest disappointment. I don't know why they even exist if they can't resolve the issue.If you will complaint to flipkart regarding difference in the emi amount then there best answer would be discuss it with your bank.During Flipkart sale, if you try to buy a product on a cheap price then either you will receive a damaged product or you will never receive it.FLIPKART IS A  BIG FRAUDSTERFlag This ReviewIrrelevantFakeJunk   Thank You! We appreciate your effort.\",\n",
              "  array([-0.03562004, -3.566589  , -4.9995346 ], dtype=float32),\n",
              "  0,\n",
              "  'Negative'),\n",
              " ('I ordered cookie cutter and receiveda mask .I never expected this.Horrible experience.would never buy anything from this site.Flag This ReviewIrrelevantFakeJunk   Thank You! We appreciate your effort.',\n",
              "  array([-0.04178828, -3.295487  , -5.5526376 ], dtype=float32),\n",
              "  0,\n",
              "  'Negative'),\n",
              " (\"I ordered this product on  8 June 2020 till the date Ian writing my review I didn't received my order. Ian totally shettered now. This is my prepaid order of rupee 1579 rs. Flipkart customer service continue making me Fool from 8 June but still not result. The Ekart logistics delivered that order in wrong pincode 110095 . My pincode is 110075. From 26june that order is in Ekart logistics mother hub jks14/5, Jhilmil Industrial Area, Jhilmil Colony Industrial Area, Jhilmil Colony, Delhi, 110095Please if any one can help me Ian waiting for my order please give me number of this Ekart logistics mother hub jks so, that I beg them to delivery my orderThanksFlag This ReviewIrrelevantFakeJunk   Thank You! We appreciate your effort.\",\n",
              "  array([-0.02820779, -3.6942086 , -5.82712   ], dtype=float32),\n",
              "  0,\n",
              "  'Negative'),\n",
              " ('This is pathatic service by Flipkart they delayed the product  Then the seller cancel it . I have booked realmi TV 32\" from flipkart.my dilevery date was 14 july. One day they delayed I acceped the they said on 16 they will deliver now it 18 july. Today morning seller has cancel shipment. This is my second time experience. I am decided if they will not  send my product I LL totally boycott this Flipkart . I will never buy any product from this website .Flag This ReviewIrrelevantFakeJunk   Thank You! We appreciate your effort.',\n",
              "  array([-0.03645211, -3.4493296 , -5.514268  ], dtype=float32),\n",
              "  0,\n",
              "  'Negative'),\n",
              " (\"Recently my friend order a earphone worth 2000/- and he received empty box. So he raise complaint against it that he received empty box and after one day they blocked his account and now telling that blocked due to high number of return, infact this was his first order on Flipkart and now saying that we can't do replacement or refundNever ever buy anything from Flipkart ??Flag This ReviewIrrelevantFakeJunk   Thank You! We appreciate your effort.\",\n",
              "  array([-0.03431639, -3.6009383 , -5.0458364 ], dtype=float32),\n",
              "  0,\n",
              "  'Negative'),\n",
              " (\"Hi,Writing about my recent experience for the electronic product purchased from Flipkart(Kodak TV), After 6 month it stopped working. Have raised  the complaint and strange to see no response even after completion of 56 days under warranty coverage no resolution provided from brand Kodak even after multiple followup over email as well as phone call.Despite of no response reached to team Flipkart and strange to see vendor keeps on fooling them as well.It seems flipkart don't have accurate vendor details or policy with them. Have filed complaint against Flipkart as well as Kodak in National consumer court.Would suggest not to buy any electronic products from Flipkart and waste hard earned money.Worst and Pathetic experience.Flag This ReviewIrrelevantFakeJunk   Thank You! We appreciate your effort.\",\n",
              "  array([-0.0348658, -3.5523767, -5.183478 ], dtype=float32),\n",
              "  0,\n",
              "  'Negative'),\n",
              " ('Issue ResolvedIssue ResolvedIssue ResolvedIssue ResolvedIssue ResolvedIssue ResolvedIssue ResolvedIssue ResolvedIssue ResolvedFlag This ReviewIrrelevantFakeJunk   Thank You! We appreciate your effort.',\n",
              "  array([-3.348078  , -1.0765654 , -0.47146997], dtype=float32),\n",
              "  2,\n",
              "  'Positive'),\n",
              " ('I have worst experience this time with Flipkart Service.I receive phone on 28th June, after using 2/3 day I noticed issue in network connectivity and  sound issue and heating issue faced.technician visit cancel automatically.after contacting Flipkart they are just answering that our team working on it.My complaint registered 1st July and no solution is made till 15th These is not expected from Flipkart.I received defective piece and they are not replacing it.Flag This ReviewIrrelevantFakeJunk   Thank You! We appreciate your effort.',\n",
              "  array([-0.0356052, -3.5277166, -5.1837583], dtype=float32),\n",
              "  0,\n",
              "  'Negative'),\n",
              " (\"Hi Everyone,It's been around 25 days now but I haven't received any reply on my below-mentioned email or call from the Flipkart CS. I have even added Mr Surojit Chatterjee.I am Atul Ajay a Flipkart Plus member. I am only using Flipkart since 22nd April 2014(more than 6 years). Unfortunately, I believe this is high time to say Good-Bye to you all. I had concerns earlier with your CS but I was always giving you a chance to enhance the customer experience but you FAILED every time.I opted for a Realme Buds Air Neo & today is the last day to opt for the return(Return Policy Valid till today, June 22) as per your website or in the mobile app. The product came is faulty/damaged/defect & one of the buds(Left Ear) doesn't work sometimes. Now, here comes the glitch & your developers need to fix them on most urgent basis.According to your website, the return policy is valid till today but as per Mr Sanjeev, the return policy was valid till 21st June 2020. How is that possible?I had a word with Mr Sanjeev on my registered mobile# 9810966271 at 6:41 PM today. He called me from 7313524000 number(the call duration was 28 minutes) & he was pretending to be the most useless person I even had a conversation with any Flipkart CS. When he was not able to help me, he kept stating bullshit & finally the verbiage & he hung up. I was so frustrated in the last minute that I used slang & I abused him because of his intentions & that's not accepted. I request you to listen to my call & I want you to provide me with the resolution ASAP.@Surojit Chatterjee: The team is not working well & they are not even afraid of the job-loss due to this pandemic. CSAT for me is 0%. I request you to look into this matter & resolve it. PFA for better clarification.Thanks & Regards,Atul Flag This ReviewIrrelevantFakeJunk   Thank You! We appreciate your effort.\",\n",
              "  array([-0.03061235, -3.6489203 , -5.489632  ], dtype=float32),\n",
              "  0,\n",
              "  'Negative'),\n",
              " ('I have a coupon for shopping grocery on Flipkart. While surfing through their website I found they are overpriced on all essential items. So at end I will be paying more after applying coupon. I request you kindly check before making purchase.Flag This ReviewIrrelevantFakeJunk   Thank You! We appreciate your effort.',\n",
              "  array([-0.04540418, -3.2525713 , -5.1647906 ], dtype=float32),\n",
              "  0,\n",
              "  'Negative'),\n",
              " (\"Omnitech retail is a vendor / supplier ofthe goods ordered to Flipkart. They are working in a syndicate. Omnitech supplies defective goods and doesn't bother to replace the defective piece which they have delivered to against my order to Flipkart on 01-July- 2020. It's speakers are not functioning to it's specifications. We informed them about this within the same week . Flipkart has also booked our order for replacement. Butthey both play tricks with the people by giving false promises and help each other by not abiding by their return policy. Please never buy goods from this syndicate operating in a nexus and fool the peopleFlag This ReviewIrrelevantFakeJunk   Thank You! We appreciate your effort.\",\n",
              "  array([-0.0253654, -3.8320994, -5.689194 ], dtype=float32),\n",
              "  0,\n",
              "  'Negative'),\n",
              " (\"I bought an iball cpu from Om computer solutions in Flipkart. Received a defective product (sound not working) so contacted the seller (seller provided ph no). At first seller told me to repair it from local shop. When I told him I'm returning the product he tried to fix the issue through remote access all the while indirectly questioning my claim asking me if my speakers and head phones are fine (I checked them with another computer). When he couldn't resolve the issue he said he'll send sound card. Initially I agreed but I realized he's delaying me so that the return period gets over. I raised the return request . Next day he called me multiple times and rudely told me to cancel the return request. He sent me message saying the same. I informed Flipkart about it and asked for refund. Flipkart completely ignored my request.Later that day I found that the product sent to me was returned by someone else(there was a return sticker on the box). I requested for a refund again as I lost trust on the seller, Flipkart ignored again.Meanwhile, Flipkart sent me a mail asking for a second payment for the returned good. I talked to a Flipkart agent who confirmed that I have to pay. It was the final straw. I told them I'll take legal action for consumer exploitation as they charged me twice for the same product, only then they retracted.I should have got compensation for this type of harrassment. I could let go of it all if the product I received was fully functional. Even the second product is defective.Hardware is cheap and flimsy, makes an ugly sound when turned on, sound is still defective (only one speaker plays), gets slow with handful of software.Windows is cracked version and needs reactivation in every 30 days.Conclusion: worst experience ever. I am done buying expensive products from Flipkart.Flag This ReviewIrrelevantFakeJunk   Thank You! We appreciate your effort.\",\n",
              "  array([-0.02593125, -3.8230586 , -5.589473  ], dtype=float32),\n",
              "  0,\n",
              "  'Negative'),\n",
              " ('I purchased a Micromax 42 inch LED TV and Extended Warranty 2 Year by Flipkart protect from Flipkart. Extended Warranty Policy Number is JPPOFFK222518. From last 2 month my TV has not been working and I raised a claim for the service to \"Jeeves Consumer Services\" dated Jun 02, 2020. Jeeves Case ID: 0F2EWHYSC01-2101450. It has been more than 35 days they are not responding and not providing the service. Even I raised a complaint to Flipkart customer care regarding the issue on Jun 19, 2020. But my issue has not been resolved till now. I called the Flipkart customer care more than 6 times. Every time they are telling that team is working on it. They are also provided wrong email id\\'cssupport@flipkart.com\\' which is not working. This is the Most disgraceful experience in my life with Flipkart. Flag This ReviewIrrelevantFakeJunk   Thank You! We appreciate your effort.',\n",
              "  array([-0.02984703, -3.6791687 , -5.4817257 ], dtype=float32),\n",
              "  0,\n",
              "  'Negative'),\n",
              " ('Hii,  I agree that Flipkart is good platform for buying the products. But nowadays flipkart is continuously cancel the mobiles. We are happily buy our desired product but flipkart cancel the order without execuse.. thats disappointing one. ????Flag This ReviewIrrelevantFakeJunk   Thank You! We appreciate your effort.',\n",
              "  array([-0.02450719, -3.9064162 , -5.4975276 ], dtype=float32),\n",
              "  0,\n",
              "  'Negative'),\n",
              " ('I have booked a Bluetooth speaker, today twenty days have passed but I have not received the courier yet, I am also unable to trace the product, There was no response even after complaint three times on FlipkartFlag This ReviewIrrelevantFakeJunk   Thank You! We appreciate your effort.',\n",
              "  array([-0.04032413, -3.343215  , -5.472975  ], dtype=float32),\n",
              "  0,\n",
              "  'Negative'),\n",
              " ('I ordered Bajaj Aircooler worth Rs.5200, but was completely shocked to receive a different brand(Snowcrest)aircooler and that too a defective one. I raised my issue and seeked replacement. They sent a mail asking for a scanned copy of my Aadhar/Pan card for authenticating me. I finally provided them my info with much reluctance.But then I received another mail stating that my replacement request was cancelled, because the seller has confirmed that my product was intact while being delivered.This is very disappointing for me and I wonder how you run customer service without having slightest trust on customers, despite me sending all the images that you asked for confirming that the product was indeed defective.Flag This ReviewIrrelevantFakeJunk   Thank You! We appreciate your effort.',\n",
              "  array([-0.03627979, -3.5110812 , -5.155944  ], dtype=float32),\n",
              "  0,\n",
              "  'Negative'),\n",
              " ('I bought this TV on May.30 and installation agent has not come on the promised date. I had to contact flipkart customer care multiple times to get a response and the installation agent came on June.10 stated, they have not got any kind of information from Flipkart about this delay.They just promised you that everything will be resolved in 24 hours. and do nothing.Flag This ReviewIrrelevantFakeJunk   Thank You! We appreciate your effort.',\n",
              "  array([-0.04596029, -3.2435596 , -5.133581  ], dtype=float32),\n",
              "  0,\n",
              "  'Negative'),\n",
              " ('I ordered wifi router of tp link then the flipkart delivered me an used and non authenticate product  tha package was so bad that i would believe they packing the product so carelesslyFlag This ReviewIrrelevantFakeJunk   Thank You! We appreciate your effort.',\n",
              "  array([-0.06203461, -2.9297116 , -5.000109  ], dtype=float32),\n",
              "  0,\n",
              "  'Negative'),\n",
              " (\"The seller is frud  I have received used mobile & till now no response IQOO3 5G Flipkart courier person r also doing manipulate. They said mobile screen supposed to appear as 5G written wallpaper but which I have received no such wallpaper available from starting itself. Hope it's not 5GFlag This ReviewIrrelevantFakeJunk   Thank You! We appreciate your effort.\",\n",
              "  array([-0.04234743, -3.3243794 , -5.208754  ], dtype=float32),\n",
              "  0,\n",
              "  'Negative'),\n",
              " (\"We have purchased Volta's 3 star inverter AC from FLIPCART.Order ID-OD119011621861835000.BUT they delivered mismatched indoor and outdoor units. It was ordered on 27 june2020 and delivered on 29 june2020 . Technician visited on 30 June for installation of the ACand adviced us for replacement due to mismatched unit. We requested for Replacement on 30 june2020. But till today no one has visited for replacement of the AC unit. We are very disappointed with flipkart and OMNI TECK RETAIL.We request again for replacement of AC immediately.Flag This ReviewIrrelevantFakeJunk   Thank You! We appreciate your effort.\",\n",
              "  array([-0.0381292, -3.430204 , -5.292118 ], dtype=float32),\n",
              "  0,\n",
              "  'Negative'),\n",
              " (\"Everytime I believed flipkart for my mobile purchase I was fooled 3 times(3mobiles). All three times I received defective product.at first I thought it's the company's fault but how it's possible all the time. And latest as I ordered galaxy m11 screen cover I was fooled again. They gave me another brand product and the glass is broken. Received todayFlag This ReviewIrrelevantFakeJunk   Thank You! We appreciate your effort.\",\n",
              "  array([-0.03443768, -3.5342982 , -5.3661056 ], dtype=float32),\n",
              "  0,\n",
              "  'Negative'),\n",
              " ('I have always been shopping from flipkart  it always have a problem... And I m also a member of flipkart plus..i hv recently ordered an item which I did not get it yet infact flipkart always keep on messaging me your order will be delivered by tomorrow????... M really very disappointed by the service of this time it crossed the limit .. I really hope this message is seen by the head authorities of flipkart and request you to kindly stop making other Wait for their orders. I would not even give one star....Flag This ReviewIrrelevantFakeJunk   Thank You! We appreciate your effort.',\n",
              "  array([-0.032486 , -3.5750458, -5.534067 ], dtype=float32),\n",
              "  0,\n",
              "  'Negative'),\n",
              " ('2months back I was registered in to the Flipkart for shopping easy and fairly.by the way I tried order my vivo u20 mobile so at the time it showed that it cant deliver to that pincode which I had entered their .but after one hour my brother opened it and placed order to same pincode .i was bummed till that time and shocked .and I thought I might not check in clearly but my brother said it shows like that .oh then I felt it is really fraud and the customer care or helping people wont respond you immediately .they waste our time to wait.but anyway I got my mobile finally .thank you allFlag This ReviewIrrelevantFakeJunk   Thank You! We appreciate your effort.',\n",
              "  array([-0.02995695, -3.6658628 , -5.538954  ], dtype=float32),\n",
              "  0,\n",
              "  'Negative'),\n",
              " (\"I wanted an item to be returned as per their policy. Flipkart deactivated my login and no more I was able to login to trace or even know what's the status. Hence the item is an unwanted thing still in my house bcz of Flipkart. The worst company and illigal processFlag This ReviewIrrelevantFakeJunk   Thank You! We appreciate your effort.\",\n",
              "  array([-0.03427469, -3.5670867 , -5.2110424 ], dtype=float32),\n",
              "  0,\n",
              "  'Negative'),\n",
              " ('Never buy any product from Flipkart. Customer service is pathetic. A month ago I bought VU TV from Flipkart and I had to chase them for installation and demo for 15 days. Very poor response for customer concerns. They will commit a date and time for resolution but they will never resolve that.Customer has to follow up with them every alternate day on the status of of the complaint raised by the customer.Flag This ReviewIrrelevantFakeJunk   Thank You! We appreciate your effort.',\n",
              "  array([-0.02850617, -3.7037156 , -5.6630583 ], dtype=float32),\n",
              "  0,\n",
              "  'Negative'),\n",
              " ('Never believe the discounted rates offered by Flipkart. We ordered and paid for 5 Ltr pack of Sasimo Sanitizer as per the discounted rate offered by Flip cartbut got only 500 ml pack. Wrong item delivered.Customer care refused to send item which was ordered. It is cheating of customers by luring the customer with false discounts. Never expected from Flipkart.Misrepresentation of price of products to customer is unfair trade practice. I will never believe Flipkart and take legal action if I am not sent the original ordered product of 5 Ltr along with compensation.Photos of ordered item and delivered are attachedPlease do the needful.Flag This ReviewIrrelevantFakeJunk   Thank You! We appreciate your effort.',\n",
              "  array([-0.03082853, -3.6187966 , -5.64268   ], dtype=float32),\n",
              "  0,\n",
              "  'Negative'),\n",
              " ('OrderNo.  OD119017743885041000. For Charmis Deep Nourishing Cold Cream VITAMIN A, C, E(4N x 58ml)(232 ml) which has been marked delivered to me in status, has  not been delivered to me till date. The concern raised with CC by chat(option to call, mail to Customer care has been removed by the Firm in the name of Covid Care response) since 3rd of this month has not yielded any result, in fact there is no response at all. The review  and rating I have raised in review section of Flipkart has been Flagged(does not fully conform to our internal guidelines). The Firm is only postponing the issue without any resolution. This Kind of behavior is not expected from the firm that too for old customer like me.Flag This ReviewIrrelevantFakeJunk   Thank You! We appreciate your effort.',\n",
              "  array([-0.04158682, -3.3550677 , -5.1452465 ], dtype=float32),\n",
              "  0,\n",
              "  'Negative'),\n",
              " ('This is the most fuckall experience of my life with flip kart andjeevas.i am facing the problem from the day one, and now my tv isnot working and both of them are not helping me.not taking calls no technician visitseriously horrible experiencei got replacement of the product after the network issueproblem now they sent me a defective TV again with BacklightColor Bleeding. i also shared the picture have a look.and they are taking so many days for the refund.seriously Never Trust Online Purchase.Flag This ReviewIrrelevantFakeJunk   Thank You! We appreciate your effort.',\n",
              "  array([-0.02923697, -3.735114  , -5.309745  ], dtype=float32),\n",
              "  0,\n",
              "  'Negative'),\n",
              " (\"I have ordered bose wireless headphones my Order ID: OD118981497429432000But I am getting a wrong product they're not responding my return and refund request...The worsted service I ever had from FlipkartFlag This ReviewIrrelevantFakeJunk   Thank You! We appreciate your effort.\",\n",
              "  array([-0.03269738, -3.5934432 , -5.367631  ], dtype=float32),\n",
              "  0,\n",
              "  'Negative'),\n",
              " ('FLIPKART SYSTEM IS A FRAUD SYSTEM\"I bought a LED TV from Flipkart on the 25th of June and when Flipkart people unable to come for the installation then I called my TV person to install that tv and when we switched on the tv it was Dead.That day and today I keep calling Flipkart to get a new date. Whenever I call Flipkart they always say the same and give me a new date.It\\'s been 11 days now no solution provided so far and today they said we can\\'t do anything and you have to contact Company directly. Now they are showing their real colors like you have to manage your self, they accused me that you have installed your own and it\\'s your mistake. Now team Flipkart what should I do.I bought this TV on Emi for my old parents and now they are watching everything on the mobile the whole day.I never had bad experience with Flipkart and now tell everyone not to buy anything from flipkart.Flag This ReviewIrrelevantFakeJunk   Thank You! We appreciate your effort.',\n",
              "  array([-0.03350179, -3.6213787 , -5.0830364 ], dtype=float32),\n",
              "  0,\n",
              "  'Negative'),\n",
              " ('My Recent experience with flipkart has been such that, that I am never buying anything from them. The customer care tells you they will call u back for the issue and after few days they will close the ticket saying customer was not reachable. I have spoken to atleast 30 cutomer care executives who say that we have taken your complaint and then never come back.My experience with other sites was so amazing, they were responsive and took care of the raised issues without me following up or reaching out. After seeing this drastic service experience when I also recently had to buy Iphone which was available on flipkart and not on other website, I made sure that I do not buy it on flipkart and waited to be available on other website.I am Glad that I took that call because my issues for other products are still not resolved with flipkart.Flag This ReviewIrrelevantFakeJunk   Thank You! We appreciate your effort.',\n",
              "  array([-0.03667679, -3.481452  , -5.2496047 ], dtype=float32),\n",
              "  0,\n",
              "  'Negative'),\n",
              " (\"My older OD119003127110678000BE AWARE WITH THE EXCHANGE OFFER !! BE  AWARE WITH THE EXCHANGE OFFER !! BE AWARE WITH THE EXCHANGE OFFERFLIPKART IS BIG CHOR COMPANY !!THEY WILL GO AT ANY CHEAP AND NONSENSE LEVEL TO SELL THEIR PRODUCT.EXCHANGE OFFER IS ONLY A LOLY POP TO FORCE YOU INDIRECTLY FOR BUYING THEIR PRODUCT.ITS ONLY A MARKETING TRICK.BUT IN ACTUAL WHEN THE TIME COMES TO EXCHANGE THE PRODUCT THEN THEY WILL SHOW YOU THE REAL DRAMA.ON THE DATE 26 JUNE 2020. I HAVE PURCHASED HP LAPTOP FRON FLIPKART. ON EXCHANGE BASES.IN WHICH THEY HAVE ASKED ME THE BRAND NAME AND PROCESSOR NAME TO EVALUATE THE EXHANGE VALUE WHICH COMES RS 3150.THEN I ALSO CROSS CHECK THEIR EXCHANGE POLICY BEFORE CONFIRM MY PURCHASE.THEY MENTION BELOW MAIN FEW PARAMETERSFOR GETTING EXCHANGE OF RS 3150 THEIR CONDTION ARETHEIR SHOULD SAME BRAND AND PROCESSOR AS MENTION2 . NO BREAKAGE OF SCREENNO DISCOLOUR OF SCREENNO BRAKAGE ON THE BODY.NOTE: I WAS HAPPY AS I HAVE HP LAPTOP WITH MINT CONDITION ALONG WITH DVD WRITER IN WORKING CONDITION.BUT ON THE DELIVERY DATE 6 JULY 2020AFTER 10 DAYSBANDA AAYA , BANDA DELIVERY MAN THA NOT TECHNICAL PERSON, JISE UN PERAMETER KO CHECK KERNE KI KNOWLEDGE NAHI THI.EK DUM BHAIYA JI !!MENE LAPTOP ON KERKE DIKHAYA CHALTA HUA, SOUND AND DISK AND BRAND , PROCESSOR CHECK KERWA RAHA THA.TO MENE DEKHA US BHAIYA KA DHYAN PERAMETERS PE NAHI THA.WO PHONE LAGAKE KISI KO POOCH RAHA THA HAAN BHAIYA KAISE CHECK KERTEY HAI ISE.HE DON'T KNOW EVEN HOW TO OPEN AND OPERATE LAPTOP .USSANE PHONE RUKHA AUR ACHANAK MERI BAAT PE DHYAN NA DETE HUE LAPTOP UTHAKE UPPER NICHE, DAYE BAYE, AAGE PICHE DEKHANE LAGA.FIR APANE MOBILE KI FLASH LIGHT ON KI FIR USSE JALAKER LAPTOP UTHAKER UPPER NICHE , DAYE BAYE, AAGE PICHE DEKHANE LAGA.THEN KAFI KOSHISH K BAAD . HE GOT ONE SMALL SCRATCH ON THE LAPTOP JO KI FLASH LIGHT ME DIKH RAHA THA .THEN HE SAID TO ME YE DEKHO YAHA SE TOOTA HAI AAPAKA LAPTOP.I WAS SHOCKED MENE MANN ME SOCHA KAISA JAAHIL AADAMI HAI SCRATCH KO TOOTA HUA KEH RAHA HAI AUR MAAN BHI NAHI RAHA.FIR EK JAHA THEEK KEYPAD K NICHE MEANS NOT THE CORNER.USE EK JAGAH SE MACHIS KI TILLI PE LAGE HUE MASALEY K JITANA AREA KA SKIN NIKALA HUA THA JO KI BACK SIDE SE NUT SCREW KERTE HUE NIKALA THA.TO USE DEKH K BHI KEHENE LAGA YE YAHAN SE BHI TOOTA HUA HAI.MENE KAHA BHAIYA YE NUT TIGHT KERTE HUE ZARA SA OVER SKIN NIKALA HAI.YE NAYA LAPTOP NAHI HAI YE PURANA HAI TABHI EXCHANGE KER RAHE HAI.AGAR NAYA HOTA TO KYU KERTE.THEN HE REPLY JI HUME PICHE SE ORDER YE TOOTA HUA HAI. HUMARE PASS COMPANY NE 2 OPTION DIYE HAI YES AUR NO MENE KAHA AAP DEKHO TOTO USANE KAHA . SIR ME MOBILE EXCHANGE DEKHTA HU AGAR AAPKO APANA LAPTOP TECHNICIAN KO DIKHANA HAI TO OFFICE ME JAO.MENE KAHA THEEK HAI ME OFFICE ME GAYA .MENE LAPTOP DIKHAYA TECHNICIAN KO BUT WO EK AUR BADA BHAIYA THA. USANE LAPTOP DEKHANE K BAJAYE USI LADAKE SE POOCHA KYA PROBLEM HAI.FIR BINA LAPTOP  EXCHANGEOFFER K PERAMETER  CHECK KIYEMUJHE CONVINCE KERNE LAGAAREY SIR YAHA KOI PADHA LIKHA NAHI HAI. AUR HUMAREY YAHAN TECHNICIAN BHI NAHI HAI.SIR AGAR HUM YE LAPTOP LENGE TO ISKE EXCHANGE WALEY PAISE COMPANY IS BHECHAREY KI SALARY SE KAAT LEGI.TO AAPPLEASE YE LAPTOP FULL PAYMENT ME LE LIJIYE AUR ME ISKE RS 500 DE DETA HU.YAME DEKH LETA HU AAPKA YE LAPTOP TO WAISE HI RS 4000 SE 5000  RATE ME KOI BHI LE LEGA.AAJ KAL LOG DOWN HAI TO STUDENT GHER SE STUDY KER RAHE HAI.TO AAP KI DELIVERY HUM KAL PER DAL DETE HAI.AAP KISI GAREEB GHER KE LADKE KO DUNDHLO OR USE YE SELL KERDO LAPTOP.MENE SOCHA YAAR AB YE DHOONDHANE KON NIKALEGA TO MENE EXCHANGE KI PAYMENT FULL KI AUR LAPTOP LE LIYA.SO ITS A REQUEST OF YOU WANT CHANGE IN INDIA AS AISI BAHOT SI COMPANY HAI INDIA ME KO CHAL RAHI HAI AISE HI ATTITUDE SE AUR HUME BEWAKOOF BANA KER APANA BUSINESS CHALA RAHI HAI.THANKS FOR GIVING YOUR  TIME??Flag This ReviewIrrelevantFakeJunk   Thank You! We appreciate your effort.\",\n",
              "  array([-0.04871087, -3.2085924 , -4.943428  ], dtype=float32),\n",
              "  0,\n",
              "  'Negative'),\n",
              " ('The main reason we shop on Flipkart(or Amazon, etc) is so that, if there\\'s a problem, we have an unbiased party that can mediate. After all, most sellers do have their own websites.Unfortunately, Flipkart is quite useless when it comes to resolving problems. Any idiot can sell; the quality of a vendor is revealed when there\\'s an issue with the sale, right?In my case, a 53K treadmill proved defective(and fraudulent); I highlighted the issue to Flipkart within 3 days, but Flipkart couldn\\'t/didn\\'t help; now, I am stuck with the product.Equally bad, or possibly worse, is the customer service on Flipkart that one has to navigate in such cases. I don\\'t think the reps are dumb. More likely, either management directives are confused, or software the reps are provided with is poor - one keeps getting repeated requests for information already provided. In my case, I have probably received over 25 emails, all quite meaningless(\"We realize the importance of the issue. blah, blah, blah.\" We would like to thank you for your patience. blah, blah, blah.\").Are they using BOTS?Calling on the telephone is even worse; I usually end up losing my temper with the idiocy that I encounter.I really wanted to encourage an Indian operation, but it must be worth encouraging. I\\'ve switched back to Amazon.Flag This ReviewIrrelevantFakeJunk   Thank You! We appreciate your effort.',\n",
              "  array([-0.04011767, -3.4245834 , -4.99661   ], dtype=float32),\n",
              "  0,\n",
              "  'Negative'),\n",
              " (\"Flipkart,I have purchased Marq AC from Flipkart.  They have delivered manufacturing defective product. After many complaints also they are not yet resolved my issue since 1 month.Guys,  1 request to you please don't purchase any electronic item from Flipkart.You will not get any service.Worst service from them. Better go for Amazon or shop.I am going to put 420 FIR and consumer case against Flipkart.PLEASE DONT WASTE YOUR MONEY by purchasing from Flipkart.Worst service and started cheating.Flipkart order number:OD118857993067237000Flag This ReviewIrrelevantFakeJunk   Thank You! We appreciate your effort.\",\n",
              "  array([-0.03127357, -3.633955  , -5.4311395 ], dtype=float32),\n",
              "  0,\n",
              "  'Negative'),\n",
              " (\"I ordered a phone which was supposed to have made in india as per their product page information which I have a screen shot, but what I received was a product made in china as per the box, and they also accept in the call that it's their mistake , worst thing all these customer care representative are just zombies and dumbos , they dose not know any information more than what it's available with us already , i dont know why they should exist.What flipkart has done is unethical, fraud, cheating and dealing with me without any humanity.For the last 23 days and with 55 repeated messages and with 10 phone calls , I have been fighting with flipkart for an issue for which till date no updates, no resolution or not even a courtesy call , but cheap attitude, they keep closing down the issue without any updates.So what happens , if you don't reopen the issue in 24 hrs they gets resolved and lost, so they have been cheating me like this by keep closing the issue without any resolution for more than 30 times in 20 days, so every time they close it I'll have to check randomly to see if my complaint is live , and as anticipated these frauds would mark by issue as resolved without resolving.Moreover every time you call , your resolution date will be extended by 3 more days..In short no resolution, no updates, no clarity, and response altogether.But this unethical and fraud acts of them are continuing big time and they haven't been banned yet.They are cheaters..Flag This ReviewIrrelevantFakeJunk   Thank You! We appreciate your effort.\",\n",
              "  array([-0.02346043, -3.9352193 , -5.6141095 ], dtype=float32),\n",
              "  0,\n",
              "  'Negative'),\n",
              " (\"Very sad thing with Flipkart these days, my orders will get cancelled almost when I am supposed to get the order after waiting for a week plus. Now, the orders are not delivered to me so I can't provide feedback abouts delays. I could see this is a major flaw in the Flipkart policy. A seller can cancel the order after taking several day/weeks. But, customer can't give feedback. So, it won't effect the seller/product rating. This kind of things happening now a days very frequently. So, don't get surprised when you are eagerly waiting and order get cancelled at the end. Instead you can order it from other multiple sources and probably cancel order after receiving your orde from first source.Flag This ReviewIrrelevantFakeJunk   Thank You! We appreciate your effort.\",\n",
              "  array([-0.02416374, -3.893615  , -5.654265  ], dtype=float32),\n",
              "  0,\n",
              "  'Negative'),\n",
              " ('Flipkart is wrost app I have ever used because they charge high and the quality of product is too cheap.i didnt by next time onword anythingFlag This ReviewIrrelevantFakeJunk   Thank You! We appreciate your effort.',\n",
              "  array([-0.03775333, -3.4442608 , -5.274357  ], dtype=float32),\n",
              "  0,\n",
              "  'Negative'),\n",
              " (\"I ordered adda sandalAnd they give me totally different productAnd 10 day's after no one contact meNo pickupNot refund my money...And see your productPacking also...Flag This ReviewIrrelevantFakeJunk   Thank You! We appreciate your effort.\",\n",
              "  array([-0.0537102, -3.078341 , -5.073942 ], dtype=float32),\n",
              "  0,\n",
              "  'Negative'),\n",
              " ('Never buy anything from flipkart specially SMARTBUY FLIPKART PRODUCTS THEY WILL NOT PROVIDE YOU REFUND NEVER NEITHER GIVE U ALTERNATIVE PRODUCT.THERE WARRANTY SERVICE IS A SCAM FIRST THEY WILL PICKUP UR PRODUCT AFTER THAT THEY Will give you excuses and not provide you refund.Flag This ReviewIrrelevantFakeJunk   Thank You! We appreciate your effort.',\n",
              "  array([-0.02722476, -3.7631948 , -5.613589  ], dtype=float32),\n",
              "  0,\n",
              "  'Negative'),\n",
              " ('I will take away that one star as well that I gave here. Itâ\\x80\\x99s the worst worst website to buy from. We made a mistake of buying from them. Made to wait for 20 days for product to come. On 21st day. We were told we have to made 10 more days and refund canâ\\x80\\x99t be processed. We are now taking them to consumer court. We were really harassed all this while, it was a gift. We had a plan to move out of town but here we are stuck because of them. No resolution at all. Save your self. Donâ\\x80\\x99t buy from flipkart. Use Amazon plz.Flag This ReviewIrrelevantFakeJunk   Thank You! We appreciate your effort.',\n",
              "  array([-0.03530629, -3.5698724 , -5.0312304 ], dtype=float32),\n",
              "  0,\n",
              "  'Negative'),\n",
              " (\"DEAR ??????Mouthshut.com?????? #Flipkart =fraudkart, BoycottFlipkart customer support team ????????????#Flipkart CEO :- SACHIN BANSALHigher Level Complaint(court)Flipkart team Did not want to take earlier but now can also get replacement Flipkart team was giving replacement but I was worried that it would not go wrong with me again, so I do not like replacement. And after that the flipkart team created a conspiracy with me that my flipkart account was closed, forced to replace.You can simply say that your account will not be unblocked. Okay and we don't need anything. I will not reply even after that. Not even this consumer portal but I will tell you what is the customer?Flipkart explained why it wasted so much time in us. If you were doing this to people, then you would have told us directly that my account will not be unblocked. Why wasted so much time and my money is stuck. We still had my money back. With that, I have compiled the consumer but on the 19th we have compiled the consumer.Technical visits will be done. What was all this between May 13 and 26?So far your technical visit master is coming. Looks like something went wrongWe do not want my mobile money, but want to see Flipkart being ruined.Flag This ReviewIrrelevantFakeJunk   Thank You! We appreciate your effort.\",\n",
              "  array([-0.0355448, -3.5418332, -5.122621 ], dtype=float32),\n",
              "  0,\n",
              "  'Negative'),\n",
              " ('Flipkart is unable to cater to its clients. Most of my orders are delayed inordinately and customer service keep giving you giving a standard routine response that they would update regarding my order within 48 hours or by a certain date. After this also they are unable to deliver and give a new resolution date. I have recently cancelled at least 5 orders with them as they are unable to deliver even a week after the scheduled delivery date.Flag This ReviewIrrelevantFakeJunk   Thank You! We appreciate your effort.',\n",
              "  array([-0.03694991, -3.4493618 , -5.401536  ], dtype=float32),\n",
              "  0,\n",
              "  'Negative'),\n",
              " (\"I Placed an order OD118934179722659000 for study table. Original Delivery date is Jun 30th while on June 30th it is revised to 5th July.  Next Revision is on July 4th and it is shifted to July 9th. When I call Customer care and asked for refund then they said sorry we cann't do it. When I asked them to transfer call to next escalation level they said we cann't connect with Senior.  On The other hand Amazon take every escalation seriously while filpkart is not bothered about customer experience and they simply take money and not provide resolution.Flag This ReviewIrrelevantFakeJunk   Thank You! We appreciate your effort.\",\n",
              "  array([-0.04677823, -3.2085416 , -5.2427955 ], dtype=float32),\n",
              "  0,\n",
              "  'Negative'),\n",
              " (\"One of the worst experience I have from flipkart is recently I ordered some furniture and dining table from flipkart, initially I received a damaged dining table then I requested them for replacement and the replaced product which I have received is onceagain damaged one, fully waste of time and money secondly I ordered a 3seater sofa which isalsodamaged so I returned and ordered another sofa from another seller and that one also damaged totallyall the 4 products I have received within a monthare damaged, so I suggest people not to buy anyfurniture from flipkart it's totally waste of ur time and money and lots of street in returning the productsFlag This ReviewIrrelevantFakeJunk   Thank You! We appreciate your effort.\",\n",
              "  array([-0.03017431, -3.6603851 , -5.5212126 ], dtype=float32),\n",
              "  0,\n",
              "  'Negative'),\n",
              " (\"Received a Cracked nokia TV and now they are not giving replacement Jeeves -> replacement guys come and say that it's sractch but it's crack which is clearly visible. DON'T BY ANYTHING FROM FLIPKART AMD FROM OMNITECHRETAIL SELLERFlag This ReviewIrrelevantFakeJunk   Thank You! We appreciate your effort.\",\n",
              "  array([-0.04527215, -3.2530453 , -5.1838546 ], dtype=float32),\n",
              "  0,\n",
              "  'Negative'),\n",
              " (\"I ordered a flip flop along with multiple items so I would avoid the delivery charge . But suddenly they cancelled my order even the product is available and is now at a higher price and even attracting delivery charge . The customer guy says that they cannot do anything as seller will be late in delivery so they cancelled . I would order from Amazon even if they sell at higher price as they don't behave like a thrid grade company like Flipkart . Please avoid Flipkart . Only if necessary and you don't have a alternate order from them . Flipkart assured item is a fake thing and even that was not delivered. I wish I could attach the call recording to explain how low grade working standards they have when compared to Amazon.Flag This ReviewIrrelevantFakeJunk   Thank You! We appreciate your effort.\",\n",
              "  array([-0.02943215, -3.6798675 , -5.578845  ], dtype=float32),\n",
              "  0,\n",
              "  'Negative'),\n",
              " ('I have been tracking refund for more than 2 weeks for an undelivered product(OD118812957867206000), marked as delivered by Flipkart Still no luck, even after providing SMS of order rejection as proof, the issue is being closed without informing me. I am stuck clueless now, didnt expect this from flipkart, I wonder what has changed in their policies, wasnt the case earlier.Flag This ReviewIrrelevantFakeJunk   Thank You! We appreciate your effort.',\n",
              "  array([-0.03824096, -3.4383278 , -5.221229  ], dtype=float32),\n",
              "  0,\n",
              "  'Negative'),\n",
              " (\"I ordered a 6.2 Kg Haier Washing  machine through OMNITECH SELLER  from FLIPKART. It had 10 days return policy. The washer worked well initially for 15 days and later on  it stopped working. The  customer executive of Haier blamed me that I must have overloaded it with clothes, whereas I'm the only one using it and I don't overload it. And further they refused to replace it. Also no refund provided. Now the washer is of no use and I've literally wasted my money by trusting this site.Flag This ReviewIrrelevantFakeJunk   Thank You! We appreciate your effort.\",\n",
              "  array([-0.03295302, -3.542177  , -5.6648135 ], dtype=float32),\n",
              "  0,\n",
              "  'Negative'),\n",
              " ('Customer support service very bad I oredered smart band but I received another band insude the box & another color , I applied for a refund 3 times and evertime flipkart rejeced my refund request. I contact with  customer support   but they said me concerned team will resolve your issue . but concerned team never contact with me . flipkart send me email like full images of products, proof of identity . I provided all the information and proof of identity also but flikart concerned team not resolve my issue . my suggesstion to everyone who read my review not any product for flipkart .Flag This ReviewIrrelevantFakeJunk   Thank You! We appreciate your effort.',\n",
              "  array([-0.04266562, -3.289002  , -5.4087744 ], dtype=float32),\n",
              "  0,\n",
              "  'Negative'),\n",
              " ('Very bad experience with flipkart... itz my first time shopping here and i am 100% sure it is my last also ... My name is Sandeep from Moga Punjab , i bought led tv near about 20 days ago , they promise me to deliver that on 24th june but today is 1 july 2020 , no one told me yet that when will they deliver my led , i already paid for led tvFlag This ReviewIrrelevantFakeJunk   Thank You! We appreciate your effort.',\n",
              "  array([-0.04260655, -3.2809196 , -5.4923778 ], dtype=float32),\n",
              "  0,\n",
              "  'Negative'),\n",
              " (\"What a person should do if flipkart delivers expired product which has no return policy? is this how they loot people? I am not at all happy with the service plus when I needed to talk to the customer care they don't have anyone who can help.Flag This ReviewIrrelevantFakeJunk   Thank You! We appreciate your effort.\",\n",
              "  array([-0.04142705, -3.4224408 , -4.8348246 ], dtype=float32),\n",
              "  0,\n",
              "  'Negative'),\n",
              " ('I received damaged parcel.Delivery person snatched money from my hand and forcefully insisted to receive daamged parcel .He returned my money after heated argument.I complain for same to flipkart .No enquiry and no action .Very poor service.Flag This ReviewIrrelevantFakeJunk   Thank You! We appreciate your effort.',\n",
              "  array([-0.04065829, -3.3418558 , -5.409999  ], dtype=float32),\n",
              "  0,\n",
              "  'Negative'),\n",
              " ('WORST CUSTOMER SERVICE...RECOMMEND DO NOT BOOK ANY ORDER FROM FLIPKART AT THIS POINT OF TIME...YOU WILL NOT GET DELIVERY ON TIME...CUSTOMER CARE NUMBER WONT CONNECT...THEY HAVE JUST GOT ONE EXCUSE THAT WE ARE WORKING FROM HOME..ONCE THE ORDER IS BOOKED THEY WONT BE ABLE.TO GIVE U EXACT LOCATION OF THE PRODUCT...THE IVR WILL NEVER LET U CONNECT CCR...PATHETIC CUSTOMER SERVICE...BETTER GO WITH AMAZON ATLEAST YOU WILL GET DELIVERY ON TIME....Flag This ReviewIrrelevantFakeJunk   Thank You! We appreciate your effort.',\n",
              "  array([-0.02735793, -3.741062  , -5.7265625 ], dtype=float32),\n",
              "  0,\n",
              "  'Negative'),\n",
              " ('My Order Id is OD118704806658004000. I had ordered a Cello 50L Air Cooler, which was delivered to me on May 25th 2020. I had raised a request for a return & refund on the same day.The refund request was accepted and was given a date of June 12th as the pick up. Considering the current situation, while the date was far off, I waited.There was no update on June 12th and I contacted customer care on 14th. I was told that by 19th it will be picked up. However nothing happened. From then on I have got dates of 21st June/24th June/29th June and 30th June. The customer care personnel tell me the issue is escalated and I will get a call back. No senior has even once called me back.They are marking the issue as resolved after a few days and I have been reopening it 3-4 times now. I have asked them to change the status of the order to refund accepted, which is also not happening. I want my money back!Today is 30th of June. Despite multiple follow ups and assurance by your customer care agents nothing has been done about the pickup or refund. In fact the issue is being resolved and I have reopened it at least 4 times till now.Flag This ReviewIrrelevantFakeJunk   Thank You! We appreciate your effort.',\n",
              "  array([-0.05339121, -3.088093  , -5.051126  ], dtype=float32),\n",
              "  0,\n",
              "  'Negative'),\n",
              " ('Flipkart is best platform for buying product online and shopping .We can buy products in whatever range we want. Reliability is good.Better communication with customers.Flag This ReviewIrrelevantFakeJunk   Thank You! We appreciate your effort.',\n",
              "  array([-3.9732075 , -1.3184519 , -0.33737957], dtype=float32),\n",
              "  2,\n",
              "  'Positive'),\n",
              " (\"I ordered Corsair Value Select DDR4 8GB RAM value Rs 5, 330 and instead I received a wifi extender worth Rs 400.When I try to return, the VRS keeps saying RAM is non-returnable. WHen did I get RAM in the first place?Talked to a Customer Rep, two weeks ago. Still waiting for the wifi extender to be picked up and the money refunded.I heard a lot of bad reviews abt Flipkart, but I tried one time. The reviews proved right.Still no action taken. They are big cheats. never buy anything from flipkart.The customer representative called again. She says RAM is non-returnable.What RAM is she talking about. Can't they read English also?THey have the cheek to call you even without reading and understanding you complaint.Flag This ReviewIrrelevantFakeJunk   Thank You! We appreciate your effort.\",\n",
              "  array([-0.031253 , -3.6198745, -5.5255523], dtype=float32),\n",
              "  0,\n",
              "  'Negative'),\n",
              " (\"Very bad experience very very bad, the deliveryman was very rude, was refusingdoorstep delivery was not on time very rude I will stop shopping from flipkart just because of today's experience with delivery boy.Flag This ReviewIrrelevantFakeJunk   Thank You! We appreciate your effort.\",\n",
              "  array([-0.0369074, -3.4449656, -5.44246  ], dtype=float32),\n",
              "  0,\n",
              "  'Negative'),\n",
              " ('They took one moth to take an order for a phone, no option to make online payment other than choosing COD, Logistic lied for delivery attempt, no one even called for delivery attempt. I kept asking where is my order, third day Delivery boy says he wont take cash. I wanted to speak to supervisor no one contacted me even a single time, no one gave me option to make payment and finally order was cancelled saying 3 times attempt was done. three days all my efforts, no one called me a single time. Flipkart support keep disconnecting my calls every time. useless support, pathetic company who has no value of customers.all efforts went in waste as I was the one who kept calling to send my parcel. still no help.Flag This ReviewIrrelevantFakeJunk   Thank You! We appreciate your effort.',\n",
              "  array([-0.03385484, -3.5379362 , -5.469114  ], dtype=float32),\n",
              "  0,\n",
              "  'Negative'),\n",
              " (\"Dear team,My ekart courier no is FMPP0486566950 and it's arrived 26 jun on my city. due to some emergency i am going out of station for 25 days so please delivered this order today order already arrived in same city so please delivered this order today. I am telephonic calling with store manager but he is showing rudely attitude and different types of fake information shown me sm time he said that product not recived here and  sm times he say product recived but deliver tomorrowFlag This ReviewIrrelevantFakeJunk   Thank You! We appreciate your effort.\",\n",
              "  array([-0.04053341, -3.3776214 , -5.18599   ], dtype=float32),\n",
              "  0,\n",
              "  'Negative'),\n",
              " (\"One of the worst online shopping cart, they response and delivery was awful. Don't buy anything in this.Flag This ReviewIrrelevantFakeJunk   Thank You! We appreciate your effort.\",\n",
              "  array([-0.04633457, -3.2161915 , -5.264878  ], dtype=float32),\n",
              "  0,\n",
              "  'Negative'),\n",
              " (\"Wrost services given by Flipkart team nothing response have received against my wardrobe yet... don't buy any furniture from Flipkart other wise you will regret......last 10 days i am wating to return  pick-up ......but no response from Flipkart...Flag This ReviewIrrelevantFakeJunk   Thank You! We appreciate your effort.\",\n",
              "  array([-0.04188969, -3.3143177 , -5.3675556 ], dtype=float32),\n",
              "  0,\n",
              "  'Negative'),\n",
              " ('If you are going to do online shopping please go on Flipkart.com because it gives bumper offer, return policy and COD , I really like it, and thanks Flipkart.Flag This ReviewIrrelevantFakeJunk   Thank You! We appreciate your effort.',\n",
              "  array([-3.6773424 , -1.1987193 , -0.39581728], dtype=float32),\n",
              "  2,\n",
              "  'Positive'),\n",
              " ('Flipkart is well known brand and its product avalilability is good, every product is listed here, my experience is about flipkart is very good they when I ordered something from here, they delivered it on time, never face any problem from it, I am flipkart plus member, I ordered lots of stuff from here, I never face any issue I gave you my Example I brought Mi Band From Flipkart which is damage product I raise request for Return, but this product is non returnable only replacable but due to my flipkart memeber ship flipkart Take return this product and refund my money thats big example of Flipkart is gennuine and best website in India.Also I have to say one more thing that I dont charge any delivery charges due to flipkart plus membership, so thats good service for me from flipkart, love you flipkart.Thanks.Flag This ReviewIrrelevantFakeJunk   Thank You! We appreciate your effort.',\n",
              "  array([-3.7283125 , -1.2705657 , -0.36342067], dtype=float32),\n",
              "  2,\n",
              "  'Positive'),\n",
              " ('This is in regards with the Order ID â\\x80\\x93 OD118922321862934000. I placed this order on 17th Junâ\\x80\\x9920 for two pairs of ADDA slippers and the seller wasTHEMARKETEERS however, I have received just one pair of ADDA slippers, when asked with the delivery boy, he told me to contact Flipkart for the same.I have raised the concern on the same time and to my surprise, I havereceived the text message saying â\\x80\\x9cReturn Update: Sorry, the seller isunable to fulfil your return request for Adda Slippers from your order IDOD118922321862934000â\\x80\\x9d This is really shocking and fraud with the customers who are purchasing the goods using Flipkart. You are charging for two pieces and delivering only one. Now when I am trying to contact Flipkart I am unable to get through on a call and getting an option to write an email. This is a clear fraud when I have highlightedthe issue in real time as soon as I opened the parcel. I am a regular loyalcustomer with Flipkart for more than 7 years and never faced such issues in the past. If this isgoing to happen, I will not be continuing with flipkart and will notrecommend Flipkart to anyone.I am afraid as Flipkart does not verify the credibility of the seller whileon boarding on the portal, how can a seller send such text for rejectingthe refund when it is none of my fault and highlighted the same on realtime.A person uses the online portal to save his time however, right now, I haveto waste my time in the follow up for the missing product and even theseller or EKart or Flipkart is not taking the responsibilityPlease help in getting the refund of the sameFlag This ReviewIrrelevantFakeJunk   Thank You! We appreciate your effort.',\n",
              "  array([-0.02328388, -3.9094415 , -5.8214836 ], dtype=float32),\n",
              "  0,\n",
              "  'Negative'),\n",
              " (\"I order nivea fruity shine strawberry  but u send nivea peach ....i complaint to customer toll free number and they said replace my order nivea fruity shine strawberry but they again send nivea peach ...don't order anyone in this app...I'm not satisfiedFlag This ReviewIrrelevantFakeJunk   Thank You! We appreciate your effort.\",\n",
              "  array([-0.0436256, -3.3033679, -5.127982 ], dtype=float32),\n",
              "  0,\n",
              "  'Negative'),\n",
              " (\"I had a bad experience in flipkart...... So I would suggest ppl don't go to flipkart nd they are not refunding ammt nd I have order but tat order dint come still now nd instead of tat I asked customer care to refund ammt nd still it's not happening nd they are not issuing problem...... So I had very bad experience nd worst pathetic flipkart............Flag This ReviewIrrelevantFakeJunk   Thank You! We appreciate your effort.\",\n",
              "  array([-0.03915706, -3.3669097 , -5.5456896 ], dtype=float32),\n",
              "  0,\n",
              "  'Negative'),\n",
              " (\"I bought 2 bottles of honey from the Flipkart supermart and found it open and leaking when I open the package.I've been trying to contact their customer service ever since but neither does the chat option work not does their toll free number.Supremely disappointed and feel cheatedFlag This ReviewIrrelevantFakeJunk   Thank You! We appreciate your effort.\",\n",
              "  array([-0.02576199, -3.8047018 , -5.7549343 ], dtype=float32),\n",
              "  0,\n",
              "  'Negative'),\n",
              " (\"I have order xiaomi poco x2 phone from Flipkart but I saw some issuesAnd also the and phone was delivered but on site it was shown that only not deliver it so I was not able to tu apply replace optionThen I try to contact them but  on their official site , there was only one way was available to contact them it was to text them what the problem I have plus I can send 2 imagesI have text them what problem I was facing . Now its 3th day but I don't get any response from them . Then I call Just dial and ask them number of customer care number of FlipkartI dial number but just said we are busy so we can't attend your call now please call letter , after 2nd they attend my callAnd replyed me that your dashboard will be update after 29 of June and till that time you can't replace your productIn short I am not satisfied with Flipkart serviceFlag This ReviewIrrelevantFakeJunk   Thank You! We appreciate your effort.\",\n",
              "  array([-0.03826242, -3.4124    , -5.3865757 ], dtype=float32),\n",
              "  0,\n",
              "  'Negative'),\n",
              " ('I have got the product in flipkart.. but it is not showing in the app that the product is delivered..Flag This ReviewIrrelevantFakeJunk   Thank You! We appreciate your effort.',\n",
              "  array([-0.11202452, -2.5099602 , -3.7007003 ], dtype=float32),\n",
              "  0,\n",
              "  'Negative'),\n",
              " (\"Am a regular  customer of flipkart because of their product quality and customer service... I buy trimmer (flipkart smart buy cordless USB trimmer for men) on last week.. the price was fine for me and the it's design is standard ??Flipkart provide the best price range for productsI got the booked product earlier than expected date.. it give more attractive to flipkart delivery service..cash on delivery is more good for meBecause most of teenager's don't have enough balance for online paymentSo cash on delivery is very use full..The packing of the product was nice..  the product is very safe in there packing box.... Flipkart will Make sure there products safety till the deliver time.. and also give a good customer service..The trimmer is good for me it's performance was awesome ??It's very smooth to trimm beard and hair.. it have a good long lasting battery and a USB cable for charging .. it have 4 extra clips and also it's oil and cleaning brush..In this Price range don't look for another one this is best trimmer for men...Flag This ReviewIrrelevantFakeJunk   Thank You! We appreciate your effort.\",\n",
              "  array([-3.6126132 , -1.2111576 , -0.39279604], dtype=float32),\n",
              "  2,\n",
              "  'Positive'),\n",
              " ('Hello, I am going to write a full review of my experience with my orders from Flipkart. I am a customer of Flipkart for a long time and have ordered multiple things from Flipkart. From slippers, shoes, routers, football, mixer grinder, toasters etcI would like it to divide the review based on the pros and consPros-Easy to use and well-arranged site.Good and decent product available.Good customer service.Fast delivery.Good offers are available for the customer.Cons-Sometimes received damaged goods.Wrong product received once.But a very good site.Flag This ReviewIrrelevantFakeJunk   Thank You! We appreciate your effort.',\n",
              "  array([-3.6513727, -1.3175789, -0.3477694], dtype=float32),\n",
              "  2,\n",
              "  'Positive'),\n",
              " ('Just last week I ordered for iqoo3 mobile cost of 34990 and I got defective mobile after that I created replacement but they did not  come for pickup my mobile there technician came for checking mobile but he did not check anything just he came and he took the signature on a form and they rejected my replacement then I called to customer care they said your issue has been resolved2 is same mobile they have got the payment through debit card and I got the msg form bank that your emi will be converted with in 2 days now what to doFlag This ReviewIrrelevantFakeJunk   Thank You! We appreciate your effort.',\n",
              "  array([-0.03891917, -3.4290493 , -5.1579003 ], dtype=float32),\n",
              "  0,\n",
              "  'Negative'),\n",
              " ('I love this site, because I bought watch in this site I like it. Good quality and cheapest rate. I ecomment to purchase this sites product. Verities products are there.Flag This ReviewIrrelevantFakeJunk   Thank You! We appreciate your effort.',\n",
              "  array([-3.6823053, -1.12492  , -0.430542 ], dtype=float32),\n",
              "  2,\n",
              "  'Positive'),\n",
              " ('Worst service.Bought https://flipkart.com/marshall-woburâ\\x80¦/p/itm822c7c347516eâ\\x80¦And this package was delivered with the WARRANTY SEAL VOIDED(Torn/nroken) on 23rd Jun 2020. the same day complaint was given to FLIPKART.I just get a message 25th that return rejected.This is a flipkart assured product which means it goes through 6 QUALITY CHECKS?Do you guys know what that means?Flipkart is cheating customers - provided electronics good which are either bogus or used and then not providing them with a return option.I was told someone from Flipkart will call me to help me - but no call - just a update on website saying product cannot be returned.Pathetic - not expected form a reputed company like Flipkart.Horrible!I am taking action with consumer forum for deficiency in service and cheating.Flag This ReviewIrrelevantFakeJunk   Thank You! We appreciate your effort.',\n",
              "  array([-0.0388381, -3.3818052, -5.4949346], dtype=float32),\n",
              "  0,\n",
              "  'Negative'),\n",
              " ('Bought 3 brushes & got 1 and they have taken full money, OD118883208931500000, I contacted customer service several times no helpFlag This ReviewIrrelevantFakeJunk   Thank You! We appreciate your effort.',\n",
              "  array([-0.05002527, -3.1431262 , -5.1766305 ], dtype=float32),\n",
              "  0,\n",
              "  'Negative'),\n",
              " (\"#Flipkart I Bought a #Milton dispenser used it for 15 days found out that it was a Duplicate one, Caled ur Customer Care Team to get it Changed but they are not able to assist as it has crossed it's Return Period, I Have been cheated by #Flipkart by Delivering a Duplicate productFlag This ReviewIrrelevantFakeJunk   Thank You! We appreciate your effort.\",\n",
              "  array([-0.03843015, -3.3960845 , -5.473427  ], dtype=float32),\n",
              "  0,\n",
              "  'Negative'),\n",
              " ('I have recived the duplicate item with this flipkart shopping and i am also conntact the flipkart help line number they will not helping properly with the coustemerI wanrlt to return the duplicate item there is not showing the return optionThe product deliverd to me and nxt way retun option is not showing in the appI am marked in the image delevered mark has not doneFlag This ReviewIrrelevantFakeJunk   Thank You! We appreciate your effort.',\n",
              "  array([-0.03652705, -3.4366193 , -5.6008697 ], dtype=float32),\n",
              "  0,\n",
              "  'Negative'),\n",
              " (\"Dear Team,Why you guys are doing froud with as I order a product you guys give me empty box you guys blocked my account as well I donâ\\x80\\x99t know what is happening you guys are not giving me proper reply not unlocking my account and till now there is no progress I want my product otherwise give my money back otherwise I will do police complaint and will go consumers court and I will post this complete issue in social media everything you guys are not taking my call no one is giving me solution there is anything who can help me out otherwise you all guys are froud and flipkart is a respected brand this is very bad I will post this think in also social media I want solution I donâ\\x80\\x99t know anything just unblock my account and give me refund a my product , as per your dissociation if you guys want any identification I am ready for that also I want my product thatâ\\x80\\x99s it do the need full.I am waiting for a long time what is the issue just unlock my account and give me product otherwise money back.My Order ID is OD118857318758806000Please don't buy anything from this company now they are not picking my calls not giving reply also.Flag This ReviewIrrelevantFakeJunk   Thank You! We appreciate your effort.\",\n",
              "  array([-0.02964962, -3.671869  , -5.5765686 ], dtype=float32),\n",
              "  0,\n",
              "  'Negative'),\n",
              " ('Sending damaged products to the customer and not responding and cheating the customerVery very very.Bad serviceFlag This ReviewIrrelevantFakeJunk   Thank You! We appreciate your effort.',\n",
              "  array([-0.03414152, -3.540604  , -5.3883505 ], dtype=float32),\n",
              "  0,\n",
              "  'Negative'),\n",
              " ('I order Three item but in that case there are order not placed and money was debited from my bank Ac but still not recieve refund money and then call to flip kart customer there is not a option for talking with customer executive so how can recieve refund so that flipkart is fraud company Please not purchase a singal product from this site because there is not any option for customer services .Very Bad Experience .Flag This ReviewIrrelevantFakeJunk   Thank You! We appreciate your effort.',\n",
              "  array([-0.04313784, -3.280561  , -5.378776  ], dtype=float32),\n",
              "  0,\n",
              "  'Negative'),\n",
              " ('I have ordered two items from flipkart and my money has been deducted but order not get placed.. And when I tried for support they are not ready to resolve query even calling option to customer care is also deleted.This is very pathetic service..I am waiting for my refund since 1 week.Tried to contact flipkart service by mail and message but didnt get any response even they closed my query by adding query resolve comment.Flag This ReviewIrrelevantFakeJunk   Thank You! We appreciate your effort.',\n",
              "  array([-0.03595613, -3.4908893 , -5.3300877 ], dtype=float32),\n",
              "  0,\n",
              "  'Negative'),\n",
              " ('One Flipkart Gift Voucher was expiring on 01st May, which Flipkart extended by sending a message that it is will expire on 31st May 2020 in line with their so called Customer First Philosophy. The lockdown was there through out May 2020 ans hence there was no way the Gift voucher could have been used and hence they should have extended the expiry post June 02nd after the lock down was lifted which was not done.I didnot imagine that Flipkart would stoop so low to earn some money by not allowing Gift Voucher which were expring during the lockdown period to be redeemed after the lockdown was lifted.Flag This ReviewIrrelevantFakeJunk   Thank You! We appreciate your effort.',\n",
              "  array([-0.03188713, -3.6367826 , -5.2889323 ], dtype=float32),\n",
              "  0,\n",
              "  'Negative'),\n",
              " ('I purchased Rotimaker and Atta dough maker from flipkart which is old and used before reached to me, I am trying to contact flipkart from all the way on call back also they are fooling around , I have been cheated , I request all please be careFlag This ReviewIrrelevantFakeJunk   Thank You! We appreciate your effort.',\n",
              "  array([-0.0264659, -3.805121 , -5.5564933], dtype=float32),\n",
              "  0,\n",
              "  'Negative'),\n",
              " ('3rd grade  service of FlipkartI purchased VU tv from flipkart and got received  on 11th June11th I called for installation and told that it will be done within 48 hoursAgain after 48 hours I called again and they answered it will take 72 hoursI waited until 17th  but din received  any call for installation after that I called 11 to 12 times on the toll free number and I demanded to talk with senior management but  no one transfer the callnow On 18th I got message that your installation person in appointed and will be done .But now my question is if I suffered  a lot for the installation itself then in future if any problem regarding any service issue then who will responsible to answer me â\\x80¦.I want to return this product  and want my money back. I will  take the TV from the local supplier at least he will answer me properly.Tushar Ghediya9227526380Flag This ReviewIrrelevantFakeJunk   Thank You! We appreciate your effort.',\n",
              "  array([-0.03727028, -3.446933  , -5.351482  ], dtype=float32),\n",
              "  0,\n",
              "  'Negative'),\n",
              " (\"I was ordered a lenovo laptop. And it was worst item i am putting a cancel request there is no response from flipkart and it was cancled 5 times it's enough time and I am very sad about it.please fix this problem as soon as possibleFlag This ReviewIrrelevantFakeJunk   Thank You! We appreciate your effort.\",\n",
              "  array([-0.02770828, -3.781879  , -5.393042  ], dtype=float32),\n",
              "  0,\n",
              "  'Negative'),\n",
              " (\"I've bought some products using flipkart. It is useful and has good quality products to offer. I'll use it more.Flag This ReviewIrrelevantFakeJunk   Thank You! We appreciate your effort.\",\n",
              "  array([-3.7449026 , -1.0251088 , -0.48190686], dtype=float32),\n",
              "  2,\n",
              "  'Positive'),\n",
              " ('I bought a bosch 347 ltr refrigerator on 5th june 2020....the product i recieved was damaged and dent could be seen inside the packaging...i asked for a return as replacement was not available....the technician visit was to occur on 15 th june for the same but flipkart has been extending the deadline first extended to 19th then to 20th and now no response from the team for the same and they say we dont know when it will be resolvedFlag This ReviewIrrelevantFakeJunk   Thank You! We appreciate your effort.',\n",
              "  array([-0.03084529, -3.624325  , -5.5974154 ], dtype=float32),\n",
              "  0,\n",
              "  'Negative'),\n",
              " ('I ordered IQOO3 smartphone worth INR 32k on 17-Jun...Flipkart committed the delivery in 48 hours as Iâ\\x80\\x99m a Flipkart Plus member...now after 4 days my order is not yet packed and shipped...Tried reaching Flipkart many times...but No luck...itâ\\x80\\x99s really frustrating and pathetic business ethics by Flipkart...Iâ\\x80\\x99ve Put it on twitter But no response...I paid through credit card...so I have no idea if I cancel the order what will happen...Iâ\\x80\\x99m helpless...Pl help...avoid purchasing items from following seller and Flipkart...Iâ\\x80\\x99m expecting Atleast a mail notification of order is delayed than expected time...but Flipkart doesnâ\\x80\\x99t have that courtesy...BoycottFlipkart...Fraud Seller Name- OmniTechRetailFlag This ReviewIrrelevantFakeJunk   Thank You! We appreciate your effort.',\n",
              "  array([-0.03572633, -3.4714348 , -5.515662  ], dtype=float32),\n",
              "  0,\n",
              "  'Negative'),\n",
              " ('Filpkart is one most good online shopping site, this site is genius and product collety is best, product delivery time is very fast and time to time delivery product, product is beutifull and nice look, Flipkart is best  this app is 2 year use me but not trouble this siteFlag This ReviewIrrelevantFakeJunk   Thank You! We appreciate your effort.',\n",
              "  array([-3.747331  , -1.2182531 , -0.38467318], dtype=float32),\n",
              "  2,\n",
              "  'Positive'),\n",
              " (\"Hi,Placed an order through Flipkart - Preethi Induction Cooker(Order OD118901528820809000).The order was placed on 15th June and was supposed to be delivered on 17th June and the order was untrackable on your website/app. The order was finally delivered on 18th June around 1.30PM. Upon opening the order I was shocked to see that the product inside was completely different, my original order was replaced with a broken multi-plug adapter. Had reported the issue as soon as I got the product delivered so that this could be traced back. The packing was torn from inside and a Replacement was ordered on 18th.I got a message on 20th June, that my replacement order(Replacement ID 12101893256625122777) was rejected by the seller. I am really shocked at this, I don't care if it is the seller or the delivery executive or the middleman in between handling the parcel who did this fraud, I simply need a replacement or refund of this product. Why will the seller or delivery executive accept that they did the fraud and have been replacing products for customers?The rejection of the replacement is a slap on my face and a message that I did a petty theft of a product worth Rs. 2599 and a question mark on myself on choosing Flipkart. Please don't ruin this relationship just because you don't have any control over your supply chain. Please don't become a fraud company that delivers empty promises to customers.I have been placing orders with Flipkart for the last 7years including some very costly products and this has never happened before. Please have a tighter control over your logistics and don't blame the customer for such issues. This is really not acceptable and I am currently having a very bad customer experience as no one has been able to help so far! You are causing me mental harassment.Kindly replace or refund the product asap.Regards,RDFlag This ReviewIrrelevantFakeJunk   Thank You! We appreciate your effort.\",\n",
              "  array([-0.04020745, -3.3959513 , -5.1325974 ], dtype=float32),\n",
              "  0,\n",
              "  'Negative'),\n",
              " ('Flipkartrt, @Jeeves, and Nokia have caused more mental agony than Coronavirus! Explaining my horrendous experience as follows. I recently purchased a Nokia 43-inch television TV through flipkart. I had very high hopes about this purchase as it a new launch from Nokia and the features looked good on paper.The agony started after I took the delivery. I found that the USB port was faulty hence raised a replacement request from Flipkart. Flipkart scheduled a tech visit to ascertain the issue which turned to be a nightmare. I have a kid at home and we are extremely cautious about strangers walking in during this time of Pandemic. The Guy from Jeeves was horrible, he did not know what needs to be done nor there was any solution despite spending almost 2 hours in the house. The very next day Jeeves arranged some other technician for inspection, this time I was hoping for a resolution as my 10-day replacement was coming to end. To my surprise, after the inspection, I received a message from Jeeves saying that the tech visit could not be completed due to some reason.As I am writing this review, my replacement period is over. The only takeaway from this are a) Ridiculous service and torture by Jeeves and their staff b) Flipkartâ\\x80\\x99s laggard approach for resolution sometimes feel that they are intentionally doing it to slow the replacement process c) Lesson not to trust a failed brand like NokiaI have been purchasing from Flipkart for more than 10 years and this one experience has caused enough damage hence I would refrain from purchasing anything from them and also would discourage my friends and family.#Nokia43IncTV #NokiaFailedbrand #Flipkart #FlipkartNolongerCredible #Jeeves Flag This ReviewIrrelevantFakeJunk   Thank You! We appreciate your effort.',\n",
              "  array([-0.05871781, -3.0339267 , -4.721593  ], dtype=float32),\n",
              "  0,\n",
              "  'Negative'),\n",
              " ('Hello everyone,Today going to review Flipkart online shopping site,Today date everyone facing problem from Flipkart, because of,Issue of delivery, refund and replacement,Product damage,I also face lots of problem,Customer service is pathetic of Flipkart they ask questions like we are telling lieIf customer have problem then he will call them we dont have to do timepass.I have ordered sony home theaterIt has usb problem usb port is damaged already, I have Placed return order they said our executive will come for pickup but nobody came, after I called them then said product is to heavy 4kg you have to courier it to our address, its so rubbish service,This is my worst experience of Flipkart service or call centerDo not buyThanksFlag This ReviewIrrelevantFakeJunk   Thank You! We appreciate your effort.',\n",
              "  array([-0.04281479, -3.2807548 , -5.446517  ], dtype=float32),\n",
              "  0,\n",
              "  'Negative'),\n",
              " ('Iam ordered 2020 Model the seller is send 2019 Model . and the packing is very poor and Like to see some one Opend . the custmercare are say sorry your problum solve say fist 2 day after 5days  and newly say 12 days.Friends Don`t buy OmniTech Retail products and Flipkart .Flag This ReviewIrrelevantFakeJunk   Thank You! We appreciate your effort.',\n",
              "  array([-0.0449385, -3.2470803, -5.2871547], dtype=float32),\n",
              "  0,\n",
              "  'Negative'),\n",
              " ('Worst service from the flipkart. The product received was damaged but when I wanted to replace the order, they made me run around. The order was taken in minutes, but replacement or refund will not be done by them. We have to go the the service center of the brand purchased to get the replacement. And the brand service center would take their time to get it replaced. This is the worst online shopping platform ever. I would suggest never ever use this app for any expensive products. There is no guarantee that you would get good stuff.Flag This ReviewIrrelevantFakeJunk   Thank You! We appreciate your effort.',\n",
              "  array([-0.03198989, -3.5955384 , -5.5120792 ], dtype=float32),\n",
              "  0,\n",
              "  'Negative'),\n",
              " (\"Horrible experience shopping with Flipkart. I ordered an iphone SE 3 days ago which was supposed to be delivered on 19th June 2020. In the morning I received the text from it's logistic partner that product delivery has been delayed. I spoke to customer care which is likely to be useless, these nincompoops don't even provide any solution regarding anything. Having the same script used that please wait. I do not understand why do I need to compromise why can't Flipkart compromise on it terms & conditions. Every time I called them they put me on hold for 30 mins and never provided me the solutions on my query. When you ask them to cancel the product they will refuse to do the same. There has to be strict rules and regulatory against this. Highly not recommended.Flag This ReviewIrrelevantFakeJunk   Thank You! We appreciate your effort.\",\n",
              "  array([-0.03549096, -3.5049    , -5.3352304 ], dtype=float32),\n",
              "  0,\n",
              "  'Negative'),\n",
              " ('I Orderd at 25 May 2020, today 18 June still I not get my ordered .  they are just playing game like dispatched - arrived - dispatched -arrived  .Shipment yet to be delivered. Ekart Logistics - FMPP0470893188Tue, 26th May8:46 amgurgaonYour order has been dispatched from the Flipkart facility.Tue, 26th May9:00 amgurgaonShipment in-scanned at MotherHub_BNLTue, 26th May9:00 amgurgaonYour order has arrived at our Flipkart facility.Wed, 27th May2:24 amNew DelhiYour order has been dispatched from the Flipkart facility.Wed, 27th May5:39 amNew DelhiYour order has arrived at our Flipkart facility.Wed, 27th May9:34 amNew DelhiYour order could not be delivered today and will be delivered in the next 3 days.Wed, 27th May9:34 amNew DelhiYour order has arrived at our Flipkart facility.Thu, 28th May4:58 amGurgaonYour order has been dispatched from the Flipkart facility.Thu, 28th May10:34 amGurgaonYour order has arrived at our Flipkart facility.Fri, 29th May3:52 amNew DelhiYour order has been dispatched from the Flipkart facility.Fri, 29th May2:24 pmNew DelhiYour order has arrived at our Flipkart facility.Fri, 29th May4:25 pmgurgaonYour order has been dispatched from the Flipkart facility.Fri, 29th May10:45 pmgurgaonYour order has arrived at our Flipkart facility.Sat, 30th May2:16 amNew DelhiYour order has been dispatched from the Flipkart facility.Sat, 30th May6:10 amNew DelhiYour order has arrived at our Flipkart facility.Sat, 30th May10:54 amNew DelhiYour order could not be delivered today and will be delivered in the next 3 days.Sat, 30th May10:57 amNew DelhiYour order has arrived at our Flipkart facility.Sun, 31st May5:37 amGurgaonYour order has been dispatched from the Flipkart facility.Sun, 31st May10:01 amGurgaonYour order has arrived at our Flipkart facility.Sun, 31st May4:12 pmgurgaonYour order has been dispatched from the Flipkart facility.Sun, 31st May8:44 pmgurgaonYour order has arrived at our Flipkart facility.Mon, 1st Jun2:24 amNew DelhiYour order has been dispatched from the Flipkart facility.Mon, 1st Jun5:59 amNew DelhiYour order has arrived at our Flipkart facility.Wed, 3rd Jun6:02 amGurgaonYour order has been dispatched from the Flipkart facility.Wed, 3rd Jun7:50 pmGurgaonYour order has arrived at our Flipkart facility.Thu, 4th Jun10:24 amgurgaonYour order has been dispatched from the Flipkart facility.Thu, 4th Jun3:31 pmgurgaonYour order has arrived at our Flipkart facility.Fri, 5th Jun2:08 amNew DelhiYour order has been dispatched from the Flipkart facility.Fri, 5th Jun6:55 amNew DelhiYour order has arrived at our Flipkart facility.Sat, 6th Jun5:58 amGurgaonYour order has been dispatched from the Flipkart facility.Sat, 6th Jun12:05 pmGurgaonYour order has arrived at our Flipkart facility.Tue, 9th Jun4:23 amgurgaonYour order has been dispatched from the Flipkart facility.Tue, 9th Jun8:21 amgurgaonYour order has arrived at our Flipkart facility.Wed, 10th Jun1:59 amNew DelhiYour order has been dispatched from the Flipkart facility.Wed, 10th Jun6:01 amNew DelhiYour order has arrived at our Flipkart facility.Thu, 11th Jun4:39 amGurgaonYour order has been dispatched from the Flipkart facility.Thu, 11th Jun12:41 pmGurgaonYour order has arrived at our Flipkart facility.Sat, 13th Jun8:18 amgurgaonYour order has been dispatched from the Flipkart facility.Sat, 13th Jun11:42 amgurgaonYour order has arrived at our Flipkart facility.Sun, 14th Jun2:18 amNew DelhiYour order has been dispatched from the Flipkart facility.Sun, 14th Jun6:08 amNew DelhiYour order has arrived at our Flipkart facility.Tue, 16th Jun4:11 amGurgaonYour order has been dispatched from the Flipkart facility.Tue, 16th Jun8:26 amGurgaonYour order has arrived at our Flipkart facility.Wed, 17th Jun2:37 amNew DelhiYour order has been dispatched from the Flipkart facility.Wed, 17th Jun5:46 amNew DelhiYour order has arrived at our Flipkart facility.Thu, 18th Jun5:09 amGurgaonYour order has been dispatched from the Flipkart facility.Thu, 18th Jun1:55 pmGurgaonYour order has arrived at our Flipkart facility.Less detailsDelivery expected between May 29 and Jun 04CANCEL ITEMFlag This ReviewIrrelevantFakeJunk   Thank You! We appreciate your effort.',\n",
              "  array([-0.03991723, -3.3724344 , -5.3339543 ], dtype=float32),\n",
              "  0,\n",
              "  'Negative'),\n",
              " ('I have ordered Baniyan 4 piece from Flipkart.Paid for order online through UPI.Order estimated delivery date was 12 June.I have received the order on 12 June.When I received the order there was only 2 piece.But as my order was of 4 piece means 2 piece missing.I contacted Flipkart about my missing items.But they were not helpful.They arranged the return of my whole order.My order was picked up on 13 June and refund was initiatedIn this order they can refund for 2 piece of Baniyan but they did not do that.They disturbed their customer by arranging return for whole order.I could recommend to Flipkart to change it policy as it disturb customer alot.Flag This ReviewIrrelevantFakeJunk   Thank You! We appreciate your effort.',\n",
              "  array([-0.03513021, -3.4794571 , -5.6004524 ], dtype=float32),\n",
              "  0,\n",
              "  'Negative'),\n",
              " ('Product not delivered even after a month .No clue when the product is expectedFake promises  madeNo senior called even after promises multiple timesFlag This ReviewIrrelevantFakeJunk   Thank You! We appreciate your effort.',\n",
              "  array([-0.06519997, -2.9010453 , -4.809239  ], dtype=float32),\n",
              "  0,\n",
              "  'Negative'),\n",
              " ('I bought redme note 8 pro but I recieved realmi  damage product .I was contact many time to return but froad omnitech froadFlag This ReviewIrrelevantFakeJunk   Thank You! We appreciate your effort.',\n",
              "  array([-0.04717631, -3.26049   , -4.865077  ], dtype=float32),\n",
              "  0,\n",
              "  'Negative'),\n",
              " (\"I ordered the refrigerator on 24th march 2020, due to covid-19 it's got cancelled by Flipkart only on 9th April 2020. okay fine understood the situation.Then again we ordered the same product on 24th may having delivery date of 28th may. but it's got delivered on 1st June with too many followups and enquiries.Listen here, how they delivered you know it's very sad to see my product because the base of the package is completely pealed off before entering into my home and I asked them to show any damages are happened. yes it's got with defective leg, due to the not ble to level the fridge at all and it's dancing.So I requested to return my product on the same day. but almost 18days there is no update from Flipkart. what's going? What's wrong with you? Day by day waiting with patience but no result till now. What's this?Mainly service happened to me this time. is really disappointed. not yet all expected. Due to Flipkart I purchased online, now saying reasons due to covid19, then how Amazon is delivering in such a super fast mode. In this one order time I have received orders in amazon and one return has successfully completed with in one day.Worst worst experience in my life ever.Flag This ReviewIrrelevantFakeJunk   Thank You! We appreciate your effort.\",\n",
              "  array([-0.02893464, -3.7346492 , -5.373369  ], dtype=float32),\n",
              "  0,\n",
              "  'Negative'),\n",
              " (\"I have ordered a Order Uberlyfe Two Seater Sofa Cum Bed - Perfect for Guests - Jute Fabric Washable Cover with 2 Cushions on 19th May. It was supposed to get deliver on 2nd June, But till today 17June even flipkart team also don't know where the product is pending with. From 2nd of June I am Chasing for the order detail but everytime their customer care team has assured me someone will call within 24-48 hours but trust me no one has called me up. Every they are not replying back from their mail I'd.I would like to tell you all not to order higher amount product from flipkart also don't pay in advance.Go for COD everytime.Flag This ReviewIrrelevantFakeJunk   Thank You! We appreciate your effort.\",\n",
              "  array([-0.03623105, -3.4541807 , -5.529148  ], dtype=float32),\n",
              "  0,\n",
              "  'Negative'),\n",
              " (\"Flipkart is the no.1 shopping app as I experienced from last 2 years.the quality of products in flipkart are also very very good. Even their delivery is also very nice compared to other shopping sites.Obe thing I appreciate flipkart is they will provide return and replacement policies for almost all products which is actually very good point. For clothes, shoes they will provide around 30 days return policy and for electronic accessories like mobiles and headphones etc they will provide 10 days replacement and return policy. But once they made a mistake.that is I ordered an arduino uno electronic circuit board with set of jumper wires. But at the delivery time I got only the jumper wires in the box but there was no arduino uno board in that box. We raised the complaints so many times but the issue was not at all resolved. So I kindly request flipkart team don't repeat the same thing. Another good point of flipkart is they will provide flipkart pay later option for the customers. By which the customer can by the product and pay the amount next month 10th. They have even provided flipkart pay later services for me of rupees 5500 but for some customers they will also provide 7000 rupees flipkart pay later option. Therefore I recommend everyone to use flipkart.comFlag This ReviewIrrelevantFakeJunk   Thank You! We appreciate your effort.\",\n",
              "  array([-3.4357667 , -1.2625179 , -0.37854284], dtype=float32),\n",
              "  2,\n",
              "  'Positive'),\n",
              " ('Donâ\\x80\\x99t buy flipkart products in cardless credit they are cheating by linking with vendor finance provider like indiabulls etc, I have experienced in this problem recent.I purchased â\\x80\\x98Realme 5 proâ\\x80\\x99 mobile on 13th feb 2020 from flipkart through cardless credit they linked to indiabulls finance for emi based. Order id â\\x80\\x9c0D117843417486082000â\\x80\\x9dProduct cost will be RS 12999/- For 6Months emi interest charged by bank RS 925/-Total emi cost for 6months will be RS 13924/-As a emi I need to pay per month Rs 2321 for 6 months @ 24% p.a. due date will be every month 15thBut last 3 months I paid RS 2347/- .Every month I paid exactly on date of 15th.This month they are asking to pay RS 2372.32/-I asked customer care why I am paying correctly. Why I need to pay extra they are not responding properly.Total Amount I need to pay RS 13924, Already I paid 3 months of Rs 7041, and remaining amount will be Rs 7041 for upcoming 3 months. But in my flipkart account and in cardless credit option its shows Rs 8760/- is remaining to clear.Regarding this I spoke with customer care they are telling to contact bank, problem in their flipkart account why I need to contact bank, Flag This ReviewIrrelevantFakeJunk   Thank You! We appreciate your effort.',\n",
              "  array([-0.03705503, -3.4290557 , -5.5316916 ], dtype=float32),\n",
              "  0,\n",
              "  'Negative'),\n",
              " ('Flipkart sucks! I always had a bad experience with flipkart. Many times item is missing from the package or sometimes if you request for return they will not send a person to take back your order so in that case you just have to keep that orderFlag This ReviewIrrelevantFakeJunk   Thank You! We appreciate your effort.',\n",
              "  array([-0.0410507, -3.3738291, -5.122452 ], dtype=float32),\n",
              "  0,\n",
              "  'Negative'),\n",
              " ('I bought Carrier AC on 21st may 2020 and at time of purchase the date of installation committed was 27th May but it was not fulfilled.I made a complaint to customer care on 27th regarding installation for which they gave me date as 6th July for issue resolution.Considering the long date given for the issue resolution I had to make alternate arrangements and made a return request on 29th May. A technician visit was scheduled on 30th May to check the product for return. It was surprising that technician visit was arranged next day but for installation they kept me waiting. Also technician had no idea that AC was not installed yet. Now Flipkart Is not taking responsibility of the service and claiming they are just a platform and denying the return. This unprofessional behavior is not acceptable and should be dealt strictly by concerned authorities.Flag This ReviewIrrelevantFakeJunk   Thank You! We appreciate your effort.',\n",
              "  array([-0.0422615, -3.3136952, -5.298434 ], dtype=float32),\n",
              "  0,\n",
              "  'Negative'),\n",
              " (\"I totaly love this application and satisfied with the products and is quality will never let you down and it has got perfect user interface and they provied new collection of every thing at very reasonable price and I am looking forward to purchase more through this application coz it's so user friendly and I can search and find my product easilyFlag This ReviewIrrelevantFakeJunk   Thank You! We appreciate your effort.\",\n",
              "  array([-3.9695237 , -1.123098  , -0.42182764], dtype=float32),\n",
              "  2,\n",
              "  'Positive'),\n",
              " ('Flipkart do not follow to any policies. I have purchase a new htc desire 620g but in the product face many problems.the product seal was broken before tha delivery. the customer service of tha flipkart is very poor. it is do not have any replacement /return policies of the product. It is really fake, fraud, cheater.please do not purchase any electronics item to flipkartFlag This ReviewIrrelevantFakeJunk   Thank You! We appreciate your effort.',\n",
              "  array([-0.03554365, -3.4904196 , -5.4190435 ], dtype=float32),\n",
              "  0,\n",
              "  'Negative'),\n",
              " ('I ordered cello jordan chair on 18th march 2020, so due to lockdown they did not deliver, but after lockdown was open, they are not willing to deliver nor cancel and refund the money.They want to harrass customer and keep our money .Its been more than 2 months,Order id OD118139637753040000Flag This ReviewIrrelevantFakeJunk   Thank You! We appreciate your effort.',\n",
              "  array([-0.03382603, -3.5881119 , -5.183223  ], dtype=float32),\n",
              "  0,\n",
              "  'Negative'),\n",
              " ('I purchased cubord from flipkart after long waiting I got defective  broken cuboard so I tryed to replace it but no option for replacement. As per them they will refund me but no one cunning for peakup last 2 Month.every day I talk flipkart they giving me new date or time but still iteam laying in my house.Flag This ReviewIrrelevantFakeJunk   Thank You! We appreciate your effort.',\n",
              "  array([-0.05394583, -3.0926986 , -4.942433  ], dtype=float32),\n",
              "  0,\n",
              "  'Negative'),\n",
              " ('Following for defective delivered laptop worth Rs. 42000 from 10 days issue unresolved and my job is at risk due to unavailability of same.Flag This ReviewIrrelevantFakeJunk   Thank You! We appreciate your effort.',\n",
              "  array([-0.04674558, -3.2030954 , -5.2916203 ], dtype=float32),\n",
              "  0,\n",
              "  'Negative'),\n",
              " ('Flipkart service is not good for getting any special offer products. In this they do fraud with customer. Like if you buy watch in special offer then you got dummy watch in your delivery box. Otherwise quality is too bad. Lots of issue with themFlag This ReviewIrrelevantFakeJunk   Thank You! We appreciate your effort.',\n",
              "  array([-0.04085697, -3.3455355 , -5.340748  ], dtype=float32),\n",
              "  0,\n",
              "  'Negative'),\n",
              " ('I have ordered a Sensodyne fresh mint toothpaste (Pack of two) but I have received only one instead of two. I have also sent a review on your flipkart portal the very next hour when I have opened the pack, this was the worst experience of mine.I am the regular customer of you online shopping website but I have experienced this for the first time.I kindly request you to send me the other pack of the sensodyne fresh mint toothpaste 150 gms.I hope this will get reverted.Thanks.Zartab.Flag This ReviewIrrelevantFakeJunk   Thank You! We appreciate your effort.',\n",
              "  array([-0.04144467, -3.3891606 , -4.981969  ], dtype=float32),\n",
              "  0,\n",
              "  'Negative'),\n",
              " ('I used to prefer flipkart over amazon thinking that products received from Flipkart generally have good reviews. Later on I realized that these guys are doing some censuring on negative reviews.Flag This ReviewIrrelevantFakeJunk   Thank You! We appreciate your effort.',\n",
              "  array([-0.02945889, -3.6877444 , -5.5212603 ], dtype=float32),\n",
              "  0,\n",
              "  'Negative'),\n",
              " ('Flipkart is one of the ruthless online shopping website which I have ever preferred in my lifetime.There delivery partners are very Unprofessional.Somtimes, they delivers wrong items other than what you have ordered.Products on flipkart are of poor quality, with not much variety in them.Flipkart charges high shipping charges when compared to other shopping website.Sometimes, Website of flipkart can be bit slower which causes inconvenience to you.It is very difficult to place an order on flipkart as it is a very complicated and comprehensive process.Sometimes, there delivery partners behaves very rudely and harshly with their customers.They always takes a longer time to deliver your products which can be bit annoying.Flag This ReviewIrrelevantFakeJunk   Thank You! We appreciate your effort.',\n",
              "  array([-0.03018379, -3.6872427 , -5.361923  ], dtype=float32),\n",
              "  0,\n",
              "  'Negative'),\n",
              " ('Now it has been  geniuine problem with flipkart.During sell after completion of order, they use to cancel my order and one more thing is they use to cancel the order even after paying  for that product. This is big glitch, It should be improve.Flag This ReviewIrrelevantFakeJunk   Thank You! We appreciate your effort.',\n",
              "  array([-0.03171587, -3.6144714 , -5.452152  ], dtype=float32),\n",
              "  0,\n",
              "  'Negative'),\n",
              " ('Thank you, Flipkart for amazing services. I have ordered Sony ZX110A Wired Headphone. Received the genuine product.Flag This ReviewIrrelevantFakeJunk   Thank You! We appreciate your effort.',\n",
              "  array([-3.4437423 , -1.0619624 , -0.47436762], dtype=float32),\n",
              "  2,\n",
              "  'Positive'),\n",
              " (\"Today was sale on Moto g8 power lite at 12pm.I have logged in at 12 sharp. It was showing that sale is on. but there was no any options for buy now. It was showing coming soon.And after 7 minutes product was out of stock..I think it's a scam for black market. They purchases all the stock and selling it to retailers. I'm sure it will available at retail shops after few days with 1000 to 1500 more than actual price. Sam thing has happened with me before some times. I was trying to buy phone which was only available online. And after few days I found it at retail shop with 1500 more than actual price.Flag This ReviewIrrelevantFakeJunk   Thank You! We appreciate your effort.\",\n",
              "  array([-0.03446082, -3.5067365 , -5.5521274 ], dtype=float32),\n",
              "  0,\n",
              "  'Negative'),\n",
              " ('O ordered a phone on flipkart it came within some days but when I used the product I was not satisfied with the quality of the product so I opyed for refund when my product was picked up the very next day I got the mail and as well as sms that the refund is processed by the seller but my refund did not came to the account it was 10 days when I returned the product but my refund was not credited to my account then I complaint in the National consumer helpline the complaint abou that the at the 15th day my refund came due to that complaintFlag This ReviewIrrelevantFakeJunk   Thank You! We appreciate your effort.',\n",
              "  array([-0.02722638, -3.770574  , -5.5674496 ], dtype=float32),\n",
              "  0,\n",
              "  'Negative'),\n",
              " ('I was living Flipkart on their good service. But I faced really bad experience from the team. This seems to be occured after change in ownership. I have raised a complaint on a received order, they are closing it without any action or communication. This has happened 3 times and my query is still unresolved without giving any details. Very pathetic service.Flag This ReviewIrrelevantFakeJunk   Thank You! We appreciate your effort.',\n",
              "  array([-0.03514712, -3.5082154 , -5.38469   ], dtype=float32),\n",
              "  0,\n",
              "  'Negative'),\n",
              " (\"I buy a pen today after 12 days it delivered to me but what I ordered and what I get is no match. Seller should open his eyes before send and flipkart should ban or punish these type of irresponsible sellers.They even don't know the feelings of customers. I feel very bad with this type of behaviour of seller and company.Flag This ReviewIrrelevantFakeJunk   Thank You! We appreciate your effort.\",\n",
              "  array([-0.03300261, -3.5407598 , -5.6628304 ], dtype=float32),\n",
              "  0,\n",
              "  'Negative'),\n",
              " (\"1 star: BadJun 9, 2020Led tv 50 inchThat's very bad experience purchased with flipkart I ll never forget in my life, I order led TV igo by onida 50 inch and I recive that order on march 17th 2020, order time they told me 10 days replacement guarantee, if you found any issue in this time but after 4 days of installation by authorities engineer then I touch the tv screen then I feel that very cheap quality and very loose simply that was old tv flipkart sell to me then I have requested 50 time about the return and I have continued in chat explaining my problem but no benefit. I waste 21000 rupees so guys plz don't buy any electronics item it's my own experience..Flag This ReviewIrrelevantFakeJunk   Thank You! We appreciate your effort.\",\n",
              "  array([-0.03438239, -3.5103977 , -5.5434375 ], dtype=float32),\n",
              "  0,\n",
              "  'Negative'),\n",
              " ('Amazing online shoping application I have ever seen in my life. I order many things from this application like shoes, ladies sandals, bag etc.  The products we order has good quality and nice quantity as well. The realiblity is also very nice. The delivery is also at time. It also delivers to small cities. I am using this application from last three years. It also sells groceries. It also provides discount which are amazing.Flag This ReviewIrrelevantFakeJunk   Thank You! We appreciate your effort.',\n",
              "  array([-3.6133823 , -1.2389113 , -0.38076276], dtype=float32),\n",
              "  2,\n",
              "  'Positive'),\n",
              " ('The delivery service is very bad. They are not delivering the items on the committed date and this is not just a single time it seems that this is their habit now.I think they are not worried about the concern of the customer. They just want to sell the product. They dont care about timeline and commitment.Really worst experience with the delivery.Flag This ReviewIrrelevantFakeJunk   Thank You! We appreciate your effort.',\n",
              "  array([-0.03312233, -3.569561  , -5.42354   ], dtype=float32),\n",
              "  0,\n",
              "  'Negative'),\n",
              " ('I try raise an issue customer care girl disconnected my call without listenting. I paid for yellow colour minimilist as per there website I received different black product. flipkart customer care not bother to answer I wrote multi time query and email NO RESPOND . ISSUE RESSOLVED HOW? I did not get a call nor actual product no refude. They simple DO NOT ANSWER.Do not buy product from this flipkart company who are not accountable to what seller sent. Customer care is rude and sleeping because they do answer or responde .They do not have elscalation team beacuse they are not responing query. I promise I diffinately take it to senior level of flipkart becauss I know how to reach them.Why they hire rubbish customer care who actually do not deserve work. Seller cannot send just anything you people are accoutable for my money. flipkart should assure what I order I should received otherwise shut your company.Flag This ReviewIrrelevantFakeJunk   Thank You! We appreciate your effort.',\n",
              "  array([-0.03546427, -3.4949565 , -5.4053097 ], dtype=float32),\n",
              "  0,\n",
              "  'Negative'),\n",
              " ('I ordered a microtech 630 VA UPS and after a few days they delivered a broken item. The packaging was also tampered. Worst packaging also. Never buy anything from Flipkart. They are cheaters.Flag This ReviewIrrelevantFakeJunk   Thank You! We appreciate your effort.',\n",
              "  array([-0.03714049, -3.4577732 , -5.3064656 ], dtype=float32),\n",
              "  0,\n",
              "  'Negative'),\n",
              " ('Dear Flipkart,Kindly let me know you provide the product free of cost. We pay you money for what we purchase and still listen bad words from your delivery boy.He arrived near by location and asked for exact address. When I explained him he yelled at me you are aware of your locality.Is it really a behaviour which your customer should expectNo RegardsAnas MohammadFlag This ReviewIrrelevantFakeJunk   Thank You! We appreciate your effort.',\n",
              "  array([-3.324414  , -0.7895767 , -0.67340446], dtype=float32),\n",
              "  2,\n",
              "  'Positive'),\n",
              " ('They send me wrong product and they make drama to take return the items, I request to all not to order anything from this site and i will never order anything.Flag This ReviewIrrelevantFakeJunk   Thank You! We appreciate your effort.',\n",
              "  array([-0.03835145, -3.440977  , -5.1864123 ], dtype=float32),\n",
              "  0,\n",
              "  'Negative'),\n",
              " ('I ordered sujata juicer mixer grinder on 30 may 2020. First they delivered me 3 days later of the delivery date second they delivered me only mixer grinder when I called on Flipkart they refund me bcoz they have benefit, here the fraud comesThe price of sujata juicer mixer grinder has increased from 5000 rs to 6000 rs.1000 rs price difference.So guys my personal experience do not buy from Flipkart go other trusted websitesName: Ricky989921xxxxLike AMAZON, TATA CLIQ etc.See the image how illiterate FLIPKART. They send only mixer grinder  and paste invoice where it mentions juicer mixer grinder.Flag This ReviewIrrelevantFakeJunk   Thank You! We appreciate your effort.',\n",
              "  array([-0.03596038, -3.501394  , -5.265609  ], dtype=float32),\n",
              "  0,\n",
              "  'Negative'),\n",
              " (\"This is regardingOrder ID - OD118664397352689000I was delivered with a defective laptop soI have placed a return request for a laptop on 26-5-20.it got delivered on 25-5-20. I haven't got any calls till now.its been 11 days since my request.so I checked with the customer service executive over a chat.she told me that my request is on hold because it is showing not delivered in Flipkart portal.she told me to check with courier service.so I went there and checked, they told me that it is updated in their system as delivered.So I communicated the same to the customer care executive then they came up with a different story.Still I'm waiting for their reply to solve this issueFlipkart is just looting our money and wasting our timethank you Flipkart for making my life miserable in this difficult time, salute for thatFlag This ReviewIrrelevantFakeJunk   Thank You! We appreciate your effort.\",\n",
              "  array([-0.03219434, -3.6028316 , -5.41819   ], dtype=float32),\n",
              "  0,\n",
              "  'Negative'),\n",
              " ('Yes Flipkart is second largest Indian website of E commerce but Flipkart have lots of local sellers involved or joined with them and many of them are selling fake products. Flipkart does not have any kind of filter systems to detect the the original or  genuine product so if you are not very good in verifying genuine things then you might get disappointed with FlipkartFlag This ReviewIrrelevantFakeJunk   Thank You! We appreciate your effort.',\n",
              "  array([-0.03123163, -3.645318  , -5.373944  ], dtype=float32),\n",
              "  0,\n",
              "  'Negative'),\n",
              " (\"I had made a booking with Flipkart travel on the 21st Oct for a ticket from Trivandrum to kochi for 2 passengers and the booking did not happen and the payment of 8179 got deducted from the account the transaction ID for the payment deducted is S81834409. I filed a complaint with Flipkart and they said the payment is stuck with payment gateway and plz ask ur bank to get the issue solved. So after that I spoke to the bank officials and the payment was refunded to Flipkart on 4th NOVâ\\x80\\x9919 from the payment gateway the transaction ID for that is 5641.When I spoke the Flipkart executive they said the payment will been refunded to you within 5-10 day it will reflect in ur account which till today has not happened till date.In the month of Decemer'19 when I spoke to Flipkart again they said to send my account details and statement to check whether the amount had come in or not .After that every three days since December I have been following up with you team once they say they have refunded they gave me the transaction ID to check with my bank and that is not even valid and an amount of 8179 has not been transferred into my account from Flipkart ever since. Since the past one month once in every three days I call this number 01246682170 your travel help number it says they line is busy officials are busy for like 30 mins and automatically the call gets disconnected.I have even mailed travel help and they keep saying they are working on the issue and will get back and till now nobody has replied.Flag This ReviewIrrelevantFakeJunk   Thank You! We appreciate your effort.\",\n",
              "  array([-0.02725388, -3.7998006 , -5.401322  ], dtype=float32),\n",
              "  0,\n",
              "  'Negative'),\n",
              " ('Guys flipkart is cheating everyone with there sale on mobiles phones, They had looted me and send me the faulty product and not return my money till now. So dont come under this scam and not buy from them.Flag This ReviewIrrelevantFakeJunk   Thank You! We appreciate your effort.',\n",
              "  array([-0.03658279, -3.4587088 , -5.4145384 ], dtype=float32),\n",
              "  0,\n",
              "  'Negative'),\n",
              " ('Its very bad experince with flipkart. Not giving my money back. I order no. OD118032823717612000 wahsing machine. But flipkart delivered damaged washing machine.i raised issue and apply for refund before 2 months, but till now i have not recieved my money back. I want my money back and also compensation for delay.Flag This ReviewIrrelevantFakeJunk   Thank You! We appreciate your effort.',\n",
              "  array([-0.04479921, -3.2729125 , -5.130331  ], dtype=float32),\n",
              "  0,\n",
              "  'Negative'),\n",
              " (\"Undoubtedly Flipkart is one of the leading online platforms but it's no longer serving the clients fairly. It has started to miss leading the customers and playing with their trust.You can find out the internet and blogging websites flooded with negatives reviews about Flipkart which tells unexpected and trust-breaking stories of customers. If you will talk about quality no one can count on it and claim it to be genuine. Flipkart is adding the dealers without having their proper background check and their outlet infection. It just wants to double its revenue by increasing the dealer's count.You never get the true information in your account regarding your order refund our delivery. You place the order and rest assure that you'll be getting the product on time as it's updated their but on the delivery date it's not delivered and you find yourself cheated.when you see the update in you account it remains the same even after your delivery date expires. When you call them then they simply say sorry and assure that will be delivered and give you some other date but no information changes in your account.After a couple of days before your delivery, you find your order is canceled. You never did it then who? You make a call in a hurry and get to know that the order is being canceled by the dealer and when you ask for the reason they have no clue.Refund policy: It' simply 1 to 15 days prior that forgets about it. Think you have already paid for your order. The things you have ordered in urgency as you needed them badly for meeting your daily needs but neither you have it nor the refund. You find yourself in a very miserable situation as you don't have what you wanted in time and also you have to purchase it again from somewhere else but where is the money if you have you purchase it from somewhere else and if not you wait for the refund and start an unending struggle with Flipkart.Please don't trust Flipkart and the quality of their products. Never trust and make orders just for saving some amount but getting mouth-watering discounts and other offers.Rather you should visit the nearest certified shops or dealers around you in search of products you want to have. The cost might vary but not the quality and service.Flag This ReviewIrrelevantFakeJunk   Thank You! We appreciate your effort.\",\n",
              "  array([-0.03431259, -3.5290108 , -5.4269156 ], dtype=float32),\n",
              "  0,\n",
              "  'Negative'),\n",
              " (\"Don't know why most of the companies conducts with flip-kart. Most of the time it shows unavailable. and it seems forever. amazon is comparably good.Flag This ReviewIrrelevantFakeJunk   Thank You! We appreciate your effort.\",\n",
              "  array([-0.03763061, -3.4188004 , -5.477519  ], dtype=float32),\n",
              "  0,\n",
              "  'Negative'),\n",
              " ('When they send heavy electronic products they never return the product. So be careful about when you buying electronic product from flipkart.Two incidents i had faced one of when i nought livepure pep plus plus purifier they send me faulty product when i talked to customer he told he is not responsible for that our engineer will resolve the fault. Your product will not return ( problem was heavy sound coming from purifier and tap was leakage, ) they change the tap but still i am facing the sound issue. This thing happen after installation 1 day.Second one i bought crompton celling fan after installing sound coming from motor they accept the returns but also flipkart doong big scam in return policy.After return my product is still not dispatched from warehouse only showing code like hmh ihm hnh example like this they are waiting for fan receive after that they resolve the issue in same fan from his engineer and same product they will dispatches.So before ordering any product be careful.One more scam is price they keeping high price on product and after some discount they showing original MRP price customers think that they are giving discount but they didnâ\\x80\\x99t. They are taking MRP.Thank You!When i giving 1 star mouth shut is restricting. Option is only you can give 3 or above star what the digital market all are same.Flag This ReviewIrrelevantFakeJunk   Thank You! We appreciate your effort.',\n",
              "  array([-0.0382693, -3.431011 , -5.2606206], dtype=float32),\n",
              "  0,\n",
              "  'Negative'),\n",
              " ('Customer executives are not aware about the services they are provide and also the were not able to proper resolution for a specific problem statement.Flag This ReviewIrrelevantFakeJunk   Thank You! We appreciate your effort.',\n",
              "  array([-0.03718563, -3.5077753 , -5.0299478 ], dtype=float32),\n",
              "  0,\n",
              "  'Negative'),\n",
              " ('As other user gave review about flipkart then I will also give 2  because company used to deal with very low level of sellers and selling bad quality products.Sometimes it worth but maximum time not goodFlag This ReviewIrrelevantFakeJunk   Thank You! We appreciate your effort.',\n",
              "  array([-0.04124656, -3.3859007 , -5.026701  ], dtype=float32),\n",
              "  0,\n",
              "  'Negative'),\n",
              " ('I had order Sugar free Natura - Sweet Drops 10ml on 30th April 2020 at the price of INR 365 and I received 100 Sachets box on 11th May 2020 which price is INR 125, on 12th May I had requested that cancel my order and refund it.   They had approved it and given date to pickup on 27th May, no one has came to pickup the product and on 28th Flipkart has canceled the refund request and told we canâ\\x80\\x99t refund its not in our policy.Flag This ReviewIrrelevantFakeJunk   Thank You! We appreciate your effort.',\n",
              "  array([-0.03899221, -3.4017007 , -5.313374  ], dtype=float32),\n",
              "  0,\n",
              "  'Negative'),\n",
              " ('I bought NOKIA 55 INCH TV Online on 16/03/20, then there was a display problem of TV on 13/05/20, then I registered a complaint on 14/05/20. . Service not provided till 30/05/20.Flag This ReviewIrrelevantFakeJunk   Thank You! We appreciate your effort.',\n",
              "  array([-0.0438383, -3.293184 , -5.157534 ], dtype=float32),\n",
              "  0,\n",
              "  'Negative'),\n",
              " ('I have ordered an iphone SE from flipkart on 20 may, the day it was launched on flipkart, with the dellivery date promised as 27 may. However, the product reached nearest hub by saturday ( 23 may) and since then its been lying there, instead of being delivered early, fail to understand this slow pace of executing orders. Second issue is nobody from your team called to ask that what time suits you for delivery ( this is the minimum one would expect from an ecommerce company, even small players can accomodate that) . And, when asked from customer care, the only reply is wait till maxium time 7 pm, apart from that we dont know anything, neither we can help you. I mean this behaviour is strange, ekart is your in-house logistics company and you are not able to contact them? There are no active contact numbers available for this logisctics company. I have asked the delivery at my office location and you want the person to just wait irrespective of his days schedule, you are incapable in giving the idea of time when it will be delivered. Pathetic service.They failed to deliver on 27th May and promised for 29th May as a revised date, but again they failed to deliver the product. Now they will again give new date, but not sure how they will act on it.Flipkart vouch for its service, faster delivery and other things, but seeing this response, it seems far from being true.Flipkart is now an walmart company and with such a huge name as parent, this service is a real issue. Your company wants to compete with players like Amazon, but Amazon is way better then this crap company.Final words - Stay away from this company and save your precious time. These are just useless players on Indian e-commerce platform.Flag This ReviewIrrelevantFakeJunk   Thank You! We appreciate your effort.',\n",
              "  array([-0.03691074, -3.4896314 , -5.162782  ], dtype=float32),\n",
              "  0,\n",
              "  'Negative'),\n",
              " ('Very poor customer service. The customer service representatives were eager to cancel the order rather than resolving itFlag This ReviewIrrelevantFakeJunk   Thank You! We appreciate your effort.',\n",
              "  array([-0.11630777, -2.335465  , -4.340241  ], dtype=float32),\n",
              "  0,\n",
              "  'Negative'),\n",
              " ('I am using flipkart app from very long time. Flipkart is online shopping  app where you find everything from shoes, clothes, accessories, bed sheets, TV, mobile phones, washing machines, grocery and lots more at a reasonable price.  Flipkart deliver your products within one or two days.  Flipkart provides lots of offers and deals almost on every product, so it is very pocket friendly . Everyone can buy any product under their budget. I like flipkart very much and recommend  everyone to buy product from flipkart.Flag This ReviewIrrelevantFakeJunk   Thank You! We appreciate your effort.',\n",
              "  array([-3.8600824 , -1.385964  , -0.31628576], dtype=float32),\n",
              "  2,\n",
              "  'Positive'),\n",
              " (\"Hi friends.I ordered a phone on bumbup discount of additional 4000 from flipkart on no cost emi(payment already doen during checkout). The order for delayed for 2 months due to covid lockdown.  After flipkart started taking exchange(exchange was not available due to covid regulations), the delivery was cancelled by flipkart without my consent. Flipkart support is for name sake. Then got an update from another reliable source that the product was cancelled because that offers donot exist now. Friend as I told I already paid for that prior 2 months.My experience forces me to beleive that the product they delivery over high exchange rates is of lower quality or defective. Otherwise flipkart couldn't cancelled the already paid order just because the offer doesn't exists. Just thought of sharing my experience.Flag This ReviewIrrelevantFakeJunk   Thank You! We appreciate your effort.\",\n",
              "  array([-0.04290273, -3.279797  , -5.4353695 ], dtype=float32),\n",
              "  0,\n",
              "  'Negative'),\n",
              " ('My husband brought 53999 RS smart TV, but it seems like dublicate one, hanging all the time, no smart functions are there no after sales services are thereFlag This ReviewIrrelevantFakeJunk   Thank You! We appreciate your effort.',\n",
              "  array([-0.03856584, -3.453437  , -5.084032  ], dtype=float32),\n",
              "  0,\n",
              "  'Negative'),\n",
              " (\"I have made several requests, reminders as per the direction of Marq by Flipkart regarding malfunctioning of the Marq AC bought in the month of August 2019.Pathetic after sales service by flipkart as the brand Marq is owned by Flipkart.First complaint was registered on 22nd May 2020 for the AC and immediately a technician visit was assigned for the very next day. But no visit was made, the technician mobile number was Switched Off.And the visit was rescheduled for the next day i.e. 24th May 2020, on this day also, the technician mobile number was switched off.I called the Marq Customer Care which is owned by Flipkart, and they assured me that the technician will visit tomorrow for sure i.e. 25th May 2020, on this day, technician Mobile was on and I called him for the visit and I was told by the technician, that he will visit today but he didn't his number was switched off and he didn't even informed.I again called the Marq Customer Care which is owned by Flipkart, to change the technician and the new technician was assigned for the next day i.e. 26th May 2020. The technician called me and understand the issue I am facing with the product and said that he will visit my place, but he didn't come, I again called the Marq Customer care for the technician complaint that he has not come and again  the appointment was rescheduled for the next day i.e. 27th may 2020 but the technician didn't visit.Another call was made to Marq Customer Care about the Technician non-visit, and again the visit was rescheduled for 28th May 2020, now as I am writing this review, I called the Marq Customer Care, they asked me to wait, I called the technician Number, he is not responding my calls as well as the marq customer care calls and I have been asked to wait for today againdo not buy this product, as it stopped functioning in the first year of purchase.Flag This ReviewIrrelevantFakeJunk   Thank You! We appreciate your effort.\",\n",
              "  array([-0.03841718, -3.4108498 , -5.365419  ], dtype=float32),\n",
              "  0,\n",
              "  'Negative'),\n",
              " (\"Hello friend, I am Asish. I will tell you about flipkart. Flipkart is a well-known, clear and clean online service. I think anyone can trust it because it is very simple and effective.Flipkart provide good shiping and packaging service all over the world. They deliver good product with fast without any obstacles as per their commitment.I think this is a very trusty and best e-commerce website. They charge very competitive and best price. They don't compromise the quality of the product. Specially in the case of mobile, the price is lower than the market. The packaging of the product delivered is good.  It seems they take proper care in delivering our product.I have purchased various electronics items as well as other gadgets. All the items are uncommon and prices are proper. Delivered in time. St that time I became a prime member of flipkart.I respect flipkart team's decision towards work in COVID-19 situation. Not for profit earning but to help peoples. Salute to flipkart.Flag This ReviewIrrelevantFakeJunk   Thank You! We appreciate your effort.\",\n",
              "  array([-3.523322 , -1.2629858, -0.3744166], dtype=float32),\n",
              "  2,\n",
              "  'Positive'),\n",
              " ('I ordered a smart band and a gift card on 13th May first the delivery date was resheduled from 16th may to 22nd may and iv stil not received the product today is 27th may , the product is just lying in the destination city ekart hub and is not delivered .Mine is a prepaid order and i really donno wen my order will be delivered .This is very irresponsible of flipkart and the delivery service.Flag This ReviewIrrelevantFakeJunk   Thank You! We appreciate your effort.',\n",
              "  array([-0.03098699, -3.600767  , -5.741762  ], dtype=float32),\n",
              "  0,\n",
              "  'Negative'),\n",
              " ('I ordered a laptop from flipkart on 16th may 2020, the order was paid in full the delivery was going to be on 20th may , then 22nd , then 27 now its 28. What kind of unprofessional behavior is this. There are difficulties beacuse of corona virus but still flipkart is so sloppy . Shame on themFlag This ReviewIrrelevantFakeJunk   Thank You! We appreciate your effort.',\n",
              "  array([-0.04770904, -3.2031565 , -5.1235166 ], dtype=float32),\n",
              "  0,\n",
              "  'Negative'),\n",
              " (\"Its seems nowadays flipkart started loot by an official way. My experience with flipkart was good around 1 year ago, but nowadays I have faced same issue again and again. Orders on Flipkart doesn't get delivered on time. This is my 3rd experience in last 1 year when the delivery of the Ordered product is late by more than a week. Last time I visited consumer forum for the same kind of issue and it got resolved after 3 months of continuous effort. And also I would like to mention that many a times money refunded by them for cancelled product takes more 2-3 months to be credited in my account/card. Thats why this time I am afraid of cancelling the order. I think I did a blunder by shopping here again.Flag This ReviewIrrelevantFakeJunk   Thank You! We appreciate your effort.\",\n",
              "  array([-0.04231772, -3.3261373 , -5.202415  ], dtype=float32),\n",
              "  0,\n",
              "  'Negative'),\n",
              " ('OD118085035732730000 in March month, order was cancelled from their end but refund not yet received, so many times raised complaint but not proper responce, Very BAD Flipkart,Flag This ReviewIrrelevantFakeJunk   Thank You! We appreciate your effort.',\n",
              "  array([-0.03838873, -3.40655   , -5.402388  ], dtype=float32),\n",
              "  0,\n",
              "  'Negative'),\n",
              " ('I wrote in title that only \"just Ok\" because the bad thing of this site is The delivery charges take much and also in State like Sikkim Singtam they didn\\'t delivered at home,we go about almost 9 km to received the product. I hope this things like policy, service should be better after lockdown. But I have this app. I relly appreciate with it\\'s best product and it suitable price. I really love this. I suggest all of you that if in your states has good facility to delivery. then you should  definitely use this app.Flag This ReviewIrrelevantFakeJunk   Thank You! We appreciate your effort.',\n",
              "  array([-3.1353412 , -0.97295225, -0.5472311 ], dtype=float32),\n",
              "  2,\n",
              "  'Positive'),\n",
              " ('This is a very good online shopping platform where quality of the goods is original and this gives products to their customers in less amount than the other shopping centers and this does not take much time to deliver products and they think about the taste of their customers.This is Very secure site in online payments their is very much things Which is essential in daily life and the fastest delivery of products not give the chance of deficiency in their homes like wheat, flour etc.Flag This ReviewIrrelevantFakeJunk   Thank You! We appreciate your effort.',\n",
              "  array([-4.045106  , -1.3298382 , -0.33132467], dtype=float32),\n",
              "  2,\n",
              "  'Positive'),\n",
              " ('Recently ordered an IPhone SE 2020 from Flipkart and delivery date was given next day of the order date.But even after 7 days of the order, product has not been delivered.Helpline gives stupid reason like due to COVID19 product will not be delivered and have to wait till product is delivered.During COVID9 flipkart takes order but they are unable to deliver the product.Flag This ReviewIrrelevantFakeJunk   Thank You! We appreciate your effort.',\n",
              "  array([-0.04021901, -3.366915  , -5.313412  ], dtype=float32),\n",
              "  0,\n",
              "  'Negative'),\n",
              " ('I purchased Panasonic 40inch TV from Flipkart with two year Extended warranty from Jeeves in 25th Jan 2018. But my TV was not working from 10th of April 2020, I contact with Jeeves for service, after 10 days Jeeves had no response, then I contact with Flipkart. After 2 days Flipkart give a false offer that as per our policy we will give you refund of 70% of the base price of the Product with in 48 hours. But one week is over the fraud company clock is stuck up in 48 hour . SO I AM REQUESTING ALL THE FLIPKART CUSTOMER ABOUT THE POOR AND FRAUD RESPONSETO THE CUSTOMER, IF YOU ASK FOR REFUND THE TREAT YOU LIKE BEGGAR.Flag This ReviewIrrelevantFakeJunk   Thank You! We appreciate your effort.',\n",
              "  array([-0.03803407, -3.463882  , -5.1140213 ], dtype=float32),\n",
              "  0,\n",
              "  'Negative'),\n",
              " ('You know iam very happy now,  because of I can buy anything from home in flipkart app, good delivery and the products not fake, good discount rates.Flag This ReviewIrrelevantFakeJunk   Thank You! We appreciate your effort.',\n",
              "  array([-3.7818093 , -1.1165504 , -0.43107322], dtype=float32),\n",
              "  2,\n",
              "  'Positive'),\n",
              " ('Hello friends I am sonu here I used Flipkart many time and every time I fall in love with app I think this is the best shopping website of India I never be cheated by Flipkart . Her product was same as shown by Flipkart manu and delivery was to good and return policy is also nice totally big fan of online shopping from FlipkartFlag This ReviewIrrelevantFakeJunk   Thank You! We appreciate your effort.',\n",
              "  array([-3.7182636, -0.9633077, -0.5207153], dtype=float32),\n",
              "  2,\n",
              "  'Positive'),\n",
              " (\"I ordered a dinner set from flipkart. When my parcel was out for delivery I had to walk about 1km from my house, how on earth is this home delivery? They also took extra Rs. 5 they did not have change. Also the delivery guy was rude don't have manners to speak with the buysers. Anyway I carried that heavy box from there to my house. When I got home and opened the box I was surprised. I did not receive the one shown in their pictures, the one I ordered, it was very different. I had to return it. Worst experience ever.Flag This ReviewIrrelevantFakeJunk   Thank You! We appreciate your effort.\",\n",
              "  array([-0.03232246, -3.625141  , -5.266765  ], dtype=float32),\n",
              "  0,\n",
              "  'Negative'),\n",
              " ('Hello, friendsI am shivamI have been using flipkart since two years and I am writing my personal and honest review about flipkart.1).product quality-The quality of product are impressive as shown in the site or application the product is exact same as we see on website2).Easy return policy-The return policies are very user friendly according to the rule of flipkart you will able to return any product within 7 days and your full payment amount is return back to your bank account replacement option is also available you want to return your product and want same product then this option is for you.3).Value for money-All products are available in cheap rate and some occasion like big billion days very extra discount is available for the buyers.4).Fast delivery-The speed of delivery is good it usually take 3 to 4 days to deliver a product to your home.In my opinion flipkart is very amazing e-commerce site.Thank you.Flag This ReviewIrrelevantFakeJunk   Thank You! We appreciate your effort.',\n",
              "  array([-3.532752  , -1.1851823 , -0.40784013], dtype=float32),\n",
              "  2,\n",
              "  'Positive'),\n",
              " ('Purchased a  Redmi  note 7 from Flipkart and received a dead phone on  12th May. Since then nobody has come to collect the dead phone and  no commitment is made by Flipkart when I will receive the replacement.  Pathetic service and no  customer satisfaction.Flag This ReviewIrrelevantFakeJunk   Thank You! We appreciate your effort.',\n",
              "  array([-0.04263135, -3.3618042 , -4.9529247 ], dtype=float32),\n",
              "  0,\n",
              "  'Negative'),\n",
              " (\"Received one piece mask instead of two as mentioned in quantity and title. Flipkart is cheating and duping customers of money. I tried to return/replace the item but they have no return policy on this. And the product is also of very poor quality. Doesn't work on viruses.Flag This ReviewIrrelevantFakeJunk   Thank You! We appreciate your effort.\",\n",
              "  array([-0.0315648, -3.6128857, -5.4972744], dtype=float32),\n",
              "  0,\n",
              "  'Negative'),\n",
              " ('VERYBADEXPERIENCEâ\\x80¦I have Purchased a Mobile in Flip Kartâ\\x80¦The promised date was 1 day after purchase..But after 2 days i have observed that it has reached my nearest hub..after 30 Mins i received a message, \" We were unable to deliver your product today. It will be delivered in 3 days.\".. I have immediately spoken to customer care and requested to provide me the nearest hub contact number where the delivery is lying. But they do not even have the contact number of their own ware house. that is main reason for my feedback sheres.Flag This ReviewIrrelevantFakeJunk   Thank You! We appreciate your effort.',\n",
              "  array([-0.03405995, -3.535961  , -5.4362874 ], dtype=float32),\n",
              "  0,\n",
              "  'Negative'),\n",
              " ('Delivered on time, product was good, and delivery boy behaviour so cool , I hava purchased in this item offer period , value of money.Flag This ReviewIrrelevantFakeJunk   Thank You! We appreciate your effort.',\n",
              "  array([-3.5827162, -1.199584 , -0.3991644], dtype=float32),\n",
              "  2,\n",
              "  'Positive'),\n",
              " ('Worst policy for cancellation and refund, only processing replacement for indefinite time. Customer call not reachable, call back has a default message.Flag This ReviewIrrelevantFakeJunk   Thank You! We appreciate your effort.',\n",
              "  array([-0.05529602, -3.0457625 , -5.0775833 ], dtype=float32),\n",
              "  0,\n",
              "  'Negative'),\n",
              " ('Hi I am anshul bansal. And I want to explain about this website for online shooping. Its amazing website for buying something special and in low prizes you can go this website and check new and more collection with an low prize then order and take delivery in 2-3 days. From mine side please try tgis website once then you already know that how amazing this websiteFlag This ReviewIrrelevantFakeJunk   Thank You! We appreciate your effort.',\n",
              "  array([-2.811112 , -1.0169867, -0.5478722], dtype=float32),\n",
              "  2,\n",
              "  'Positive'),\n",
              " ('I ordered 2 rice cookers on FLIPKART just before the Covid Lockdown. The Next day after paying by credit card, FLIPKART informed me that they are cancelling my order and repaying the amount by crediting my card.Well, they played a clever trick here, they refunded the cost of 1 rice cooker(Rs 1649) and did not refund cost of the second one(Rs 2785).After repeated complaints by mail, via the website, on twitter etc they say such-and-such is the refund number, and this has been refunded.I keep responding by explaining that that only 1 refund has been paid but they dont care.They now do not even bother to reply.On the Twitter site I discovered that this has been done to a LOT of customers, I guess because they are losing badly to Amazon, they are doing stunts like this.SO BE VERY CAREFUL, DONT ORDER FROM FLIPKARTFlag This ReviewIrrelevantFakeJunk   Thank You! We appreciate your effort.',\n",
              "  array([-0.03467744, -3.519062  , -5.4135523 ], dtype=float32),\n",
              "  0,\n",
              "  'Negative'),\n",
              " (\"So this is my genuine review for flipkart. So I've been using flipkart since 2017 and it never disappointed me whether in terms of their user interface. Or their delivery I like flipkart more than Amazon there are several reasons for this. But 1st reason is because of its user interface it looks more attractive ya I know I doesn't matter a lot but still I like how flipkart website looks. Talking about shipping of products so it's just fine both Amazon and flipkart are equal in my locality. And the thing I like the most in flipkart is that mostly all newly launched electronic gadgets are launched in flipkart which gives us a early access to the product. And last but not the least thing is their 24/7 customer care which is always there to help us out and their service to customers are really good. And ya I've noticed that flipkart provide more sale as compared to Amazon.I'm not here to point out any other brand that they are badI'm here just putting my personal review about flipkartLet me know what you think ?Flag This ReviewIrrelevantFakeJunk   Thank You! We appreciate your effort.\",\n",
              "  array([-3.5559182, -1.2226353, -0.3900963], dtype=float32),\n",
              "  2,\n",
              "  'Positive'),\n",
              " ('Flipkart the  biggest kart of india with quality genuiene products and with quick pickup.If you need mote offer and free supercoin then use the site for shopping with only 1 rupeeFlag This ReviewIrrelevantFakeJunk   Thank You! We appreciate your effort.',\n",
              "  array([-3.543286  , -0.78850263, -0.6605697 ], dtype=float32),\n",
              "  2,\n",
              "  'Positive'),\n",
              " (\"Flipkart doesn't take care of the quality of sellers on it's portal.Recently I bought a remote for my set top box. Very poor quality I got from them.It got defect ed in one day.I returned it and got another but it was having same quality.Packaging of shipment is also very poor.Flag This ReviewIrrelevantFakeJunk   Thank You! We appreciate your effort.\",\n",
              "  array([-0.0327598, -3.5736308, -5.478594 ], dtype=float32),\n",
              "  0,\n",
              "  'Negative'),\n",
              " ('Guys... Be careful when u do online shopping on flipkartThese days cod option is taken out and smartly being claimed \"corona\" And commitment not being honored after multiple delivery extension and automatic without any confirmation.. And sitting on consumer moneyEven if you cancel order after getting frustrated by their repeated extensions, they are not releasing money immediately and rather sitting kn it and rotating... So I request all u guysss out there be careful as cheaters have come up with smart ways of doing businessFlag This ReviewIrrelevantFakeJunk   Thank You! We appreciate your effort.',\n",
              "  array([-0.04031462, -3.3491974 , -5.426075  ], dtype=float32),\n",
              "  0,\n",
              "  'Negative'),\n",
              " ('Flipkart is one of the worthless online shopping website which I have ever used for shopping in my lifetime.Flipkart does not have much variety of products, It contains only similar type of products which nobody likes.Flipkart does not accepts cash on delivery for costly products.Sometimes it delivers wrong or defective products.At some rare cases it also deniyes to replace the damaged products, once I ordered an iphone from flipkart and they delivered me shoes.However, later they replaced them with iphone but due to this I sufferedd a lot.some of the limitations of flikart app are as follows.1) .Late delivery: Flipkart does not delivers products on time.They always takes a long period of time to get your order delivered.2) .High shipping charges: Flipkart charges high amount for dispatching your product and getting It  delivered.3) .Lack of availability in rural areas: Flipkart does not have its availability in rural areas like in villages and in small towns.4) .Fake reviews: Fake reviews are shown under every product on flipkart to attract customers for buying their product.5) .Product quality: Flipkart offers a very low quality of products to its customers with no specified warranty period.6) .High cost: Flipkart charges high cost for  each and every product, same product will be available in market at low price.FROM MY PERSONAL EXPERIENCE, I STRONGLE RECOMMEND NOT TO TRUST FLIPKART AND NEVER SHOP ON IT.Flag This ReviewIrrelevantFakeJunk   Thank You! We appreciate your effort.',\n",
              "  array([-0.03178793, -3.6250825 , -5.372798  ], dtype=float32),\n",
              "  0,\n",
              "  'Negative'),\n",
              " ('This site provides the order at the range of expected date and the service is too worstAnd product quality is also not badFlag This ReviewIrrelevantFakeJunk   Thank You! We appreciate your effort.',\n",
              "  array([-0.04170425, -3.3696053 , -5.0447016 ], dtype=float32),\n",
              "  0,\n",
              "  'Negative'),\n",
              " (\"Service merchant is good best quality product  customer service fast respon  delivery fast i'll recommende this site for online shoppingFlag This ReviewIrrelevantFakeJunk   Thank You! We appreciate your effort.\",\n",
              "  array([-3.8217382 , -1.16703   , -0.40523484], dtype=float32),\n",
              "  2,\n",
              "  'Positive'),\n",
              " ('Hello,Ftlipkart delivery system is very fast than any other online delivery system.product quality also very good and fare in price.it is a trustable app.yearly offer system also very good and affordable to all of us.everybody should have to use flpkrt app.Flag This ReviewIrrelevantFakeJunk   Thank You! We appreciate your effort.',\n",
              "  array([-3.8188403 , -1.2766403 , -0.35799906], dtype=float32),\n",
              "  2,\n",
              "  'Positive'),\n",
              " (\"I am a big fan of Flipkart. Flipkart is a very good online shopping platform. I am buying many products from Flipkart from last 9 years and I didn't find any issue regarding delivery or products till today. So go and buy many products without hesitation. Flipkart is very reliable.Flag This ReviewIrrelevantFakeJunk   Thank You! We appreciate your effort.\",\n",
              "  array([-3.576712  , -1.2017349 , -0.39844924], dtype=float32),\n",
              "  2,\n",
              "  'Positive'),\n",
              " (\"Due to lockdown ordered groceries with waiting time of 5days and surprisingly today since delivery day, I got message saying groceries delivered.On complaint to costomer care on non-delivery and non-recipt, they are unable to address issue and extended investigation time till 1st may20. Since I already paid the amount I don't have any option rather waiting for the delivery. I think some kind of fraud they are doing with their courier partners ekart.I strongly Suggest to avoid flipkart servicesFlag This ReviewIrrelevantFakeJunk   Thank You! We appreciate your effort.\",\n",
              "  array([-0.03649073, -3.4781747 , -5.3044853 ], dtype=float32),\n",
              "  0,\n",
              "  'Negative'),\n",
              " ('I ordered the 2 product from Flipkart during the lockdown, and feel cheated in both the products, I ordered the both product quantity 2 but received only 1 product each & on my Flipkart account showing both got delivered with quantity 2.Flag This ReviewIrrelevantFakeJunk   Thank You! We appreciate your effort.',\n",
              "  array([-0.03502167, -3.527216  , -5.292549  ], dtype=float32),\n",
              "  0,\n",
              "  'Negative'),\n",
              " ('I started using flipkart  before 6 years and purchased a lot from it. It has the best budget products with best quality. From top brands to low quality products are available. Their offers are awesome. They have many offers on some days. The main advantage is that customers service and products are delivered up to date.Flag This ReviewIrrelevantFakeJunk   Thank You! We appreciate your effort.',\n",
              "  array([-3.8219533 , -1.1732869 , -0.40232027], dtype=float32),\n",
              "  2,\n",
              "  'Positive'),\n",
              " (\"Usually I don't order any item in Flipkart due to their poor performance and delay in delivery but due to the ongoing lockdown I was made to order groceries from them which I paid in advance and waited for a week and the delivery boy called me and said he is right next street I waited for one hour and I received a message saying item is delivered how is this possible customer care people said will verify in 48 hrs still I am yet to receive and they won't refund the moneyFlag This ReviewIrrelevantFakeJunk   Thank You! We appreciate your effort.\",\n",
              "  array([-0.03881735, -3.3997731 , -5.3617287 ], dtype=float32),\n",
              "  0,\n",
              "  'Negative'),\n",
              " ('Flipkart is a indian company that provide online shopping services. Here user can purchase mobile, laptop, accessories, cloth footwear and much more. This company provide very good service in your locality. Here you can also return product which you have purchesed according to term and conditions.After returning your product company send your money in your account.Flag This ReviewIrrelevantFakeJunk   Thank You! We appreciate your effort.',\n",
              "  array([-3.5958827, -1.532205 , -0.2790464], dtype=float32),\n",
              "  2,\n",
              "  'Positive'),\n",
              " ('Hello friends, I want to share my experience with \"FLIPKART\" online shoping date on june 2017.It\\'s was amazing, it was my first order from flipkart.I start surfing on google for Watch  which must be avilbale for home delevery. I was flipkarr shopping sites.I logging with details and scroll the full category for watch and slipper. Finally I choose one watch amounting rs 599/- . I ordered it and received it within 4days. ( Inspite its clearly mentioned delivery will take 5-6 days) . But it\\'s fast and timely delivery. And flipkart keep up dating me through message and email about status n all. No delivery charges. Thank you superb services.Flag This ReviewIrrelevantFakeJunk   Thank You! We appreciate your effort.',\n",
              "  array([-2.960211  , -0.8172407 , -0.68014526], dtype=float32),\n",
              "  2,\n",
              "  'Positive'),\n",
              " ('I had been the user till somany years.The app is updating to the top.Now the mobiles section is too  good.Flag This ReviewIrrelevantFakeJunk   Thank You! We appreciate your effort.',\n",
              "  array([-2.9558089, -0.8274912, -0.6717403], dtype=float32),\n",
              "  2,\n",
              "  'Positive'),\n",
              " ('Hello friends  , I want to share my experience with \"flipkart \" online shopping date on July 2016.It\\'s was amazing , it was my first order from flipkart.I start surfing on Google for slipper and shoes which must be avilbale for home delivery.  I saw flipkart shopping sites.I logging with details and I scroll the full category for slipper.  Finally I choose one slipper amounting rs 399/- . I ordered it and received it within 3days.  ( inspite it\\'s clearly mentioned delivery will take 5-6days) .But it\\'s fast and timely delivery.  And flipkart keep up dating me through message and email about status n all.No delivery charges.  Thanks superb services.  I have Billing invoice with me that I sharing with you people.Flag This ReviewIrrelevantFakeJunk   Thank You! We appreciate your effort.',\n",
              "  array([-3.232942 , -0.7568505, -0.710462 ], dtype=float32),\n",
              "  2,\n",
              "  'Positive'),\n",
              " ('Flipkart is best online shopping app. In nine may 2018 Walmart buy flipkart in us$16 billion from that day india get many scheme like big billion days usually during diwali. In this great scheme all the things in flipkart became cheap many middle class family buy costly things. I brought a smart phone one plus. Flipkart sent and corner of india with in  between seven to eight days. We can buy things with cash on delivery & also with the help of any card. Sometimes its can get free delivery.You can also choose colors in maximum things. I personally buy many things in  flipkart. So can suggest better for. Flipkart is the best online shoping app.I WISH MY REVIEW CAN HELP YOU TO BUY THINGS YOU WISH ??????????Flag This ReviewIrrelevantFakeJunk   Thank You! We appreciate your effort.',\n",
              "  array([-2.9543998, -0.9705032, -0.5638788], dtype=float32),\n",
              "  2,\n",
              "  'Positive'),\n",
              " (\"In my opinion, Flipkart is a good platform because I haven't found a bad product in any of the products I've bought.So I can't say this is bad website. Many people think Flipkart is not good. I will not judge it. I have given my opinion.I got a lot of good services but I've seen in many videos that Flipkart may be deceiving people but this has never happened to me.I've gotten a lot of comments. good comments nobody has said good But this has not happened to me so why would I say bad things to FlipkartI don't know if anything like this will happen to me Then no good compliment will come from me.   Sometimes there is no cash on deliveryThank  youFlag This ReviewIrrelevantFakeJunk   Thank You! We appreciate your effort.\",\n",
              "  array([-1.7876439 , -0.86457825, -0.8881484 ], dtype=float32),\n",
              "  1,\n",
              "  'Neutral'),\n",
              " ('HEY!I like to share my reviews on most rated shopping site, as I have used almost all other shopping app like myntra, amazonand snapdeal, but I have faced main issue with delivery time.Flipkart is very prompt to their delivery time, you can easily get your parcel within three to four working days this is my personal experience.The quality of the product is very good enough than other online shopping sites.You can easily get your refund in case of wrong product or damaged product you recievedkindly comment if u like my reviews.Flag This ReviewIrrelevantFakeJunk   Thank You! We appreciate your effort.',\n",
              "  array([-3.9181166 , -1.0901554 , -0.44012296], dtype=float32),\n",
              "  2,\n",
              "  'Positive'),\n",
              " ('Flipkart is a a indian e-commerce platform most help platform in the world I like this site becouse I buyed some products in the site very quality products providing flipkart .very good customer service .do not added etxtra charges on our ordersQuality packing almost I like this platformFlag This ReviewIrrelevantFakeJunk   Thank You! We appreciate your effort.',\n",
              "  array([-4.1683917 , -1.4751501 , -0.28000692], dtype=float32),\n",
              "  2,\n",
              "  'Positive'),\n",
              " (\"The professionalism demonstrated by your personnel while handing over to us  items we had ordered was exemplary.Very happy with today's experience.Will give 10 out of 10 marks.Thank you..Vasant Nair6 h 706 PSW707359xxxxFlag This ReviewIrrelevantFakeJunk   Thank You! We appreciate your effort.\",\n",
              "  array([-3.4635384 , -1.1951399 , -0.40643612], dtype=float32),\n",
              "  2,\n",
              "  'Positive'),\n",
              " ('I am a  regular  user of flipkart and I am a plus member since last year. Flipkart provide great quality product at a reasonable price . In most of the festival season there is a huge price cut will be   available for the coustomers.By purchasing through flipkart  coustomers can collect supercoins and they can purchase whatever they want  including movie tickets in Book myshow, youtube premium, and lot of featuresThe product quality are superb and  coustomer have any problem regarding the product they can return it and the  amount will be  repaid to coustomer bank accountAlso the delivery will be very fast compared to other portal and buyer can get the product before the expected delivery dateSo overall it is the best online shopping portal with huge collection of productsFlag This ReviewIrrelevantFakeJunk   Thank You! We appreciate your effort.',\n",
              "  array([-4.1702356, -1.3643178, -0.3160864], dtype=float32),\n",
              "  2,\n",
              "  'Positive'),\n",
              " (\"I rely on this online shopping portal so much that I always order from here. You can place any order from it's app with ease and they deliver it before the time of delivery slot, this is the best thing I love about the company. They have a large variety of products in their list, I mean you can order anything which comes to your mind. They ensure proper packaging of the product, so that the product comes to you safely. You can connect to their customer care support anytime you feel for any assistance. I would recommend you this shopping portal if you are planning to buy anything online.Flag This ReviewIrrelevantFakeJunk   Thank You! We appreciate your effort.\",\n",
              "  array([-3.5481868 , -0.9408527 , -0.54312783], dtype=float32),\n",
              "  2,\n",
              "  'Positive'),\n",
              " (\"Flipkart is the largest online shopping website.I love to shop on flipkart because of he below reasons:Trusted website2.fast service3.quality products4.fast delivery5.availability of all productsOnce I ordered a mobile on flipkart at morning 9 am.The next day I received the product.I just shocked about it.I don't that this flipkart is this much fastfor all of the above reasons I love flipkart.Flag This ReviewIrrelevantFakeJunk   Thank You! We appreciate your effort.\",\n",
              "  array([-3.549978 , -1.0397824, -0.4816826], dtype=float32),\n",
              "  2,\n",
              "  'Positive'),\n",
              " (\"Flipkart is one of trending online shopping application and I have very good experience with this application, it helps you to connect with the products which you're looking for and also it has multiple sources of Bill payment, recharge which saves our precious time, and we can also get rewards.Me and my siblings, we're using Flipkart from far earlier, we do most of the personal and family shopping through Flipkart, i get the products which I want, and in reasonable price.I love to shop from FlipkartFlag This ReviewIrrelevantFakeJunk   Thank You! We appreciate your effort.\",\n",
              "  array([-4.0774426, -1.5219353, -0.2681929], dtype=float32),\n",
              "  2,\n",
              "  'Positive'),\n",
              " ('I wanted to give you some positive feedback on one of my sales associates at my Albany store.I used to be a national sales manager for a NZ based retail organization so I understand the many challenges of finding invested, motivated and team members.  I often find myself walking out of the shops to find that they are incredibly frustrated because of disgruntled employees who both try not to connect with the customer and, if they rarely do, serve by Livvi.  They will listen to leave your store tomorrow after leaving.  Pleasure.He greeted me within 10 seconds of entering the store, asked me how my morning had been, and to take advantage of this information to create a non-sales discussion and to make me feel at ease, he addressed my needs.  Set up, listened attentively, because I am going through the feet.  And knee rehabilitation.  Then Livvy explained what your in-store technology does and I had to run up-and-down the store in bare feet, setting up my price range ( $ 170-250) and what kind of sock ( thickness) I needed to be in the neutral trainer.  I run with my orthotic before putting in, repeating the recording process of running me and then transferring me to a light-backed shoe and recording what it is  Was happy Ndu that reflect how things video.Throughout the process, he kept the technical conversation at a level that I could easily understand and follow and also keep the pace of the original non-sales conversation rolling through the process.I simply cannot praise the level of service and knowledge that I have received today.  If I were an NSM, I would have devoted such talent, my life would have been very stressful.  Please see that this response reaches Livy ( and perhaps a bottle of wine) and is also the highest level within the company as both positive and negative feedback help organizations grow,Flag This ReviewIrrelevantFakeJunk   Thank You! We appreciate your effort.',\n",
              "  array([-0.22767468, -1.9413035 , -2.8117468 ], dtype=float32),\n",
              "  0,\n",
              "  'Negative'),\n",
              " ('My credit line is 7500/- on flipkart. I use it and bill pay next month of 10th day. I use smart coin as a voucher, subscription and deal to all, for example- youtube, book my show, oven story, gana plus, etc.Flag This ReviewIrrelevantFakeJunk   Thank You! We appreciate your effort.',\n",
              "  array([-3.6213968 , -1.173335  , -0.40959188], dtype=float32),\n",
              "  2,\n",
              "  'Positive'),\n",
              " ('I book flight from dxb to atq  due to corona virus my parents not allowed to go so I cancel the flight on  7/3/2020 on Flipkart  but when I open the air India express portal on 8/3/20 it shows  flight not cancel I cancel the booking from air India express portal that same time they send me the cancellation mail (air India) I call many times for refund but Flipkart refusing for refund till date didnâ\\x80\\x99t get the refund I say to every customer please be aware from these travel agencies one thing to say I they giving free tickets donâ\\x80\\x99t buy from them       My self Gagandeep singh pnr is EBVEPHFlag This ReviewIrrelevantFakeJunk   Thank You! We appreciate your effort.',\n",
              "  array([-0.03970599, -3.3751614 , -5.356909  ], dtype=float32),\n",
              "  0,\n",
              "  'Negative'),\n",
              " ('I have been shopping online on this website over the years. Very good customer support ad I definitely everyone in India shop atleast once in FlipkartFlag This ReviewIrrelevantFakeJunk   Thank You! We appreciate your effort.',\n",
              "  array([-3.7767434, -1.4019794, -0.3133507], dtype=float32),\n",
              "  2,\n",
              "  'Positive'),\n",
              " ('It is very good online shopping website and the quality of the products is also excellent. Few days ago I have ordered a headphone. The package was delivered to me just after 3 days from order date. The headphone has very awesome and crystal clear sound. If any costumer gets problem then he can directly contact to customer care service and they will solve customers problem .If we are near the flipkart office then we can get the delevery only in 1 day .if we dislike the buied item or the item is defective then we can return or replace the order without giving any type of money as return or replace charge . This application sent return money directly to our bank account provided to application.In my oppnion it is the best app to buy the products in low price . In this application we can buy second hand products also and we can sell second hand  products.',\n",
              "  array([-3.7168064 , -1.1128418 , -0.43530887], dtype=float32),\n",
              "  2,\n",
              "  'Positive'),\n",
              " ('I orderd a ordered a mobile phone and it was told taht it will be delivered in 8 days but it was delivered after 38 days. I called the coustumar  care daily but they  said it will be delivered tommorow. As I did onilne payment that why did not cancelled it.My opinion go to store and buy products.Flag This ReviewIrrelevantFakeJunk   Thank You! We appreciate your effort.',\n",
              "  array([-0.04651734, -3.214749  , -5.2425804 ], dtype=float32),\n",
              "  0,\n",
              "  'Negative'),\n",
              " (\"I am a flipkart user from 2 years and I can say that this is one of the best websites for online shopping as this website has a wide range of products. I have bought many products from flipkart such as mobile phones , mixer grinder , clothes etc. The quality of the products are very good and reach to you within the time period they will give. I found the delivery always in time , good quality of products and in a very satisfied price compared to market. Sometimes we see that a very high cost product has a discount of 60% but we thought that how a demandable product can be showing 60% off on flipkart and in suspicsion we don't buy it. But I recommend you to buy that product beacuse flipkart never do frauds with its customers. Sometimes due to mistakes the products can change but the customer service is very good and will help you if you are right. I have not faced this problem but yes I am sure the customer care will help you. Also in the world of fraudism it provided a safe and secure upi transactions, atm card purchases etc. This website has given many many products that fits in my budget with respect to market rate.Flag This ReviewIrrelevantFakeJunk   Thank You! We appreciate your effort.\",\n",
              "  array([-3.6556385 , -1.0667759 , -0.46197382], dtype=float32),\n",
              "  2,\n",
              "  'Positive'),\n",
              " ('I bought many products in Flipkart . It is very nice way for shopping at home delivery time to short electronic products quality is good and price point is absolutely not high . Flipkart is give exchange and refund facility is provid . And emi options is available, Flipkart provide old product exchange facility and delivery boy behaviour is good low cost provide good service your can earn rewards coins and add membership.Flag This ReviewIrrelevantFakeJunk   Thank You! We appreciate your effort.',\n",
              "  array([-3.7926223, -1.0341374, -0.4749267], dtype=float32),\n",
              "  2,\n",
              "  'Positive'),\n",
              " ('I purchased this david off women perfume from flipkart, the original price was around 3000 but I got it only in 1000 rupees, I was so  happy but after I received the perfume I realized it was a fake one and the smell would vanish after minutes of applying it, repeat applying the perfume was of no help tooFlag This ReviewIrrelevantFakeJunk   Thank You! We appreciate your effort.',\n",
              "  array([-0.03451381, -3.5935159 , -5.047774  ], dtype=float32),\n",
              "  0,\n",
              "  'Negative'),\n",
              " ('Flipkart is wrost online prodoct selling site in my opinion because I have ordered headphone, watch and others thing there was a scratch on that thing it looks like someone uesd this product before .  I will suggest everyone if you are buying anything from flipkart first check that product infront of delivery boy and do not let him go . Just returned this if you buying products by cashFlag This ReviewIrrelevantFakeJunk   Thank You! We appreciate your effort.',\n",
              "  array([-0.03210406, -3.6274917 , -5.2960467 ], dtype=float32),\n",
              "  0,\n",
              "  'Negative'),\n",
              " ('I am really fascinated by the service of Flipkart. Especially electronics item really we are getting\"umed se jyada\". Though service is good but price of other products are little bit high .I would request Flipkart to reduce the prices of essential commoditiesFlag This ReviewIrrelevantFakeJunk   Thank You! We appreciate your effort.',\n",
              "  array([-3.2704253, -1.1490734, -0.4383818], dtype=float32),\n",
              "  2,\n",
              "  'Positive'),\n",
              " ('Flipkart is the best shopping platform. I flipcard have been using for 4 year Flipkart continue to new offer all the time. Flipkart getting  super coins shopping. So you can do your shopping. When I first day shopping. So I got 10 super coins. And continue shopping and wining super queens. Flipkart also offer at festival. Where you can Shop at low cost. All kinds of similar seine are available on Flipkart. On Flipkart you can buy all kinds of Shimla. Flipkart is quite prevalent in India.You can use Flipkart unperturbed.ThanksFlag This ReviewIrrelevantFakeJunk   Thank You! We appreciate your effort.',\n",
              "  array([-3.5106726 , -1.0526526 , -0.47624314], dtype=float32),\n",
              "  2,\n",
              "  'Positive'),\n",
              " ('Nothing with the plus member, waste and cheating service. product also same as their service, all fake duplicate productsFlag This ReviewIrrelevantFakeJunk   Thank You! We appreciate your effort.',\n",
              "  array([-0.04320167, -3.306482  , -5.178437  ], dtype=float32),\n",
              "  0,\n",
              "  'Negative'),\n",
              " ('I ordered a jaagriti shoe rack from flipkart. I have ordered multiple products from flipkart including fridge, clothes, etc. But i never imagined that returning a product to flipkart will be a nightmare. The shoe rack had very good reviews which made me order the same but to my shock when it arrived it was half torn and the quality( even if it were not torn) was that of a dishrag!!! I instantly filed a return request. Now Flipkart has designed the return request form in a way that selecting a reason for return is mandatory from a drop down menu. I selected manufacturing defect and wrote in comments as additional poor quality. The return request was accepted and a pick up date of on or before 3days later was given. Surprisingly no one showed up on the given date and no notification(text/email) came. I logged into my account to see that the seller has rejected the request. I called the customer service and the guy told that the \"seller didn\\'t like the comments selected\". I was dumbstruck!!! And hence the seller rejected your request. The guy had nothing else to say. I was very angry but decided to re-raise the request. Similar to the previous one, i was given a date of by or before next 3 days. But yet again no one showed up. This time not even text saying \"out for pick up\". When i called customer service, may be 3 times. They told me to wait till 7pm. Post 7pm, i called again. This lady, a so called \"flipkart customer executive\" had no idea of her own organization\\'s business policies and told me that based on the selection of my comment from the drop down menu, the seller will decide whether to pick up the product or not. She told me that I am the one who is unclear why i want to return the product. She even told me that I may go ahead and complain to the consumer forum but there is nothing that can be done!It is my request not to purchase anything from flipkart. These are sheer looters and fraudsters. I am utterly disappointed and i will never buy anything from flipkart ever again.Flag This ReviewIrrelevantFakeJunk   Thank You! We appreciate your effort.',\n",
              "  array([-0.031649 , -3.6513321, -5.2597117], dtype=float32),\n",
              "  0,\n",
              "  'Negative'),\n",
              " ('Very good quality customer and delivery service. On flipkart, there is very fast delivery. My order is delivered to my address within 2 days. The quality of product that I buyed from flipkart is too good. This site is much better than amazon.Flag This ReviewIrrelevantFakeJunk   Thank You! We appreciate your effort.',\n",
              "  array([-3.8337355 , -1.1933148 , -0.39281029], dtype=float32),\n",
              "  2,\n",
              "  'Positive'),\n",
              " (\"Very poor in quality, showing one product and delivering another product and return request will be rejected and prolonged till the policy and time line overOnly Partial product is delivered, and not taking the return request, and prolonged the time to take return request till the policy is over. one of the fraud company, I am not going to order any product in future. and requesting everyone seriously consider the same. if I get a option to provide negative star I should have been given -100.it is bullish and Fking business don't orderFlag This ReviewIrrelevantFakeJunk   Thank You! We appreciate your effort.\",\n",
              "  array([-0.04129231, -3.3481681 , -5.23953   ], dtype=float32),\n",
              "  0,\n",
              "  'Negative'),\n",
              " (\"This is very fake and cheap site.they always provide wrong information..i advise to all that don't buy any product from flipkart..They understand only then can make fool to us...Very cheap..and fake site..i will never buy any product from flipkart..Flag This ReviewIrrelevantFakeJunk   Thank You! We appreciate your effort.\",\n",
              "  array([-0.0370811, -3.444235 , -5.4097505], dtype=float32),\n",
              "  0,\n",
              "  'Negative'),\n",
              " ('The logistics cancelled my order without informing me and there is direct loss of 3000 to me. Who bears this loss ?Flag This ReviewIrrelevantFakeJunk   Thank You! We appreciate your effort.',\n",
              "  array([-0.03758893, -3.4205048 , -5.473782  ], dtype=float32),\n",
              "  0,\n",
              "  'Negative'),\n",
              " ('I bought LG50 inches 4k UHD purched recently keeping my trust in LG and Flipkart and trusting the TV has got IPS panel and smart/magic remote.  But the actual product delivered is not with IPS panel and does not have magic remoteCalled up 6 times to flipkart to return the TV and requested them to refund the money that I have paid i.e., 41999, but instead of listening my voice and pain, they have disconnected the call and tried supporting the seller by name \"Omnitech\" since he is one of the subsidiary of flipkartWrote a message to Flipkart CEO and tweeted the same, but till no there is no positive feedback and revert from themAll they say is that the seller doesn\\'t have any return policy.  When the product does not meet my expectations, why should I use it, If the seller has not posted correct specifications on flipkart, whose fault it is and How would I bother about the policies and agreements made between flipkart and his seller those are not customer centric.The seller delivered duplicate product and hold back magic remote to sell it in black marketFlag This ReviewIrrelevantFakeJunk   Thank You! We appreciate your effort.',\n",
              "  array([-0.03364969, -3.5630867 , -5.352009  ], dtype=float32),\n",
              "  0,\n",
              "  'Negative'),\n",
              " ('I ve been using Flipkart many years ago.many customers said the products are delivering another. But I ve no experience like this.this online shoppe very reliable., .so plz choose flipkart.and cash back system is very fast.Flag This ReviewIrrelevantFakeJunk   Thank You! We appreciate your effort.',\n",
              "  array([-3.314975  , -1.0562831 , -0.48463967], dtype=float32),\n",
              "  2,\n",
              "  'Positive'),\n",
              " ('Flipkart is one one of the largest online market in the world . it provides us anything , what ever we want with  discount . it provides us mobiles with low price. It provides any type of product which we use in our day to day life. The main important thing about flipkart is , It provides us home delivery  with any product that we buy. It provides us fast delivery ever. It provides us a main function , that is cash on delivery . it is not only largest online market , it compeat with huge market ( amazon) .  It is realy amazing.Flag This ReviewIrrelevantFakeJunk   Thank You! We appreciate your effort.',\n",
              "  array([-3.4877973 , -0.8223485 , -0.63481534], dtype=float32),\n",
              "  2,\n",
              "  'Positive'),\n",
              " ('I ordered a watch of fastrack costing 2149 rupee, few days earlier. The watch I received from the delivery personnel was with a torn band and the package of fastrack was a normal pack wrapped with a paper on which fastrack was printed.After using a month the watch stopped working and now it has became a waste of no use. The customer service personnel behave too roughly and denied about the inconvenience. The site is totally rubbish to buy anything.Flag This ReviewIrrelevantFakeJunk   Thank You! We appreciate your effort.',\n",
              "  array([-0.03419094, -3.5218534 , -5.504527  ], dtype=float32),\n",
              "  0,\n",
              "  'Negative'),\n",
              " ('I was order the\"Fantasy Highlighter Bricks by Colors Queen Professional Makeup \".After waiting a long time when I received the product its totally damaged its not even from out side as well as from inside its already opened product as well as damaged its not have any highlighter Bricks its a  powder of bricks that I get I choose the four clours of the bricks but ill a one powder all over spread in my parsel. don\\'t buy the product from flipkart even don\\'t download the app.Flag This ReviewIrrelevantFakeJunk   Thank You! We appreciate your effort.',\n",
              "  array([-0.03726614, -3.4386356 , -5.4099402 ], dtype=float32),\n",
              "  0,\n",
              "  'Negative'),\n",
              " ('There has been numerous occasion where flipkart has started cheating customers. I have experienced thrice in two years.This time I ordered a paper shredder and in return I received a Screw-Driver. I was amazed to see a paper shredder of 7 liters was packed in a half liter packet when I received the parcel. It was after unboxing I found that flipkart has again attempted.Now when I called customer care they assured that everything will be resolved in 3 days and on 3rd day I got a message \"Your issue is resolved. Your return request is cancelled. Please see Seller\\'s return policy\".When I raised complaint after three day they again re-opened and gave me 3 days time. To my surprise on third day same thing happened. I again raised a complaint and I got 3 days and guess what - same thing continued.Now after 5th attempt I thought I should spread this message through Mouthshut to let others know what is happening while I still wait to get a resolution.I also came to know that nowadays flipkart is blocking account so that you can not return your product on time - though this has not happened to me till now.Best part is customer care telling every time \"I am Sorry to hear this, If I would have been in your position I would have felt the same\" and continuing the same thing again and again.I am planning to take this issue to legal authorities. I would also request people who have faced this kind of issue to join hand together and end this issue forever.Please write to me if you want to join hands in legal proceedings.Flag This ReviewIrrelevantFakeJunk   Thank You! We appreciate your effort.',\n",
              "  array([-0.0314769, -3.666163 , -5.2191014], dtype=float32),\n",
              "  0,\n",
              "  'Negative'),\n",
              " ('I Agree that Flipkart is very good company but I hava a low vision that Flipkart should improve, I want you to deliver the product to all the village.Flag This ReviewIrrelevantFakeJunk   Thank You! We appreciate your effort.',\n",
              "  array([-3.2287998 , -0.67074925, -0.8005772 ], dtype=float32),\n",
              "  1,\n",
              "  'Neutral'),\n",
              " (\"Recently I bought a pair of Lee Cooper shoes and on opening the box I found them to be a size smaller. I at once made a return request but return was denied because price tag was missing. Let me tell there was no price tag in the box or attached to the shoe when I opened the box! There was only a price and product info sticker on side of the box. I spoke to four employees of Flipkart but they made me feel like I was lying about the price tag not being there. How can I print/produce the price tag when there was none with the shoes?When I was invited to review the product and wrote my review, Flipkart did not publish it, can you believe it! They don't give a damn for the customer. Following is my review on Flipkart which they did not publish online.''Got the product on time but it was a size smaller, guess should have ordered a size bigger for this particular model!Put in a request for return, courier boy turned in and said he can't take the shoes back because the price tag is missing. I explained to him that the price tag was not there in the first place. It only had the brand tag and genuine leather logo in a plastic string on the shoe. He asked me to raise a complaint with Flipkart.I called Flipkart and told them I want to return my shoes. I was told the price tag has to be there and it was there in the box and checked by Packers before shipping. I replied I did not find any price tag in the box but there is a sticker with price, model, size and bar code on side of the shoe box. But the cs rep declined to return it and the matter was escalated to a team'.During the next few days got 3 calls from the team and they said the same thing.I understand the policy that price tag has to be there, but couldn't the seller have made a mistake and missed packing the price tag with the shoe? I got the feeling that Flipkart meant to say I am lying, that the price tag was there as stated by the seller! Ridiculous, probably the seller wants to clear inventory and comes up with such excuses to not return the product. Seller probably has a policy of once out never in! LolLooks like Flipkart has grown so big that it no longer cares for customer satisfaction. My money is down the drain and Flipkart lost a customer.Thank you for reading,Deepak''Flag This ReviewIrrelevantFakeJunk   Thank You! We appreciate your effort.\",\n",
              "  array([-0.04020825, -3.4098403 , -5.057061  ], dtype=float32),\n",
              "  0,\n",
              "  'Negative'),\n",
              " ('I bought a 64 gb memory card from flipkart which got corrupt in few months. Checked with sandisk and they informed me that the product is fake. I asked for replacement but flipkart is not providing the replacement.Flag This ReviewIrrelevantFakeJunk   Thank You! We appreciate your effort.',\n",
              "  array([-0.03617103, -3.4850104 , -5.3244143 ], dtype=float32),\n",
              "  0,\n",
              "  'Negative'),\n",
              " (\"I purchased a mobile Samsung S9 plus through fipkart ..and I send it to Australia..once they insert the SIM card it says..network locked sim card..I really disappointed with that..no where it's mentioned that only Indian SIM card to be inserted while ordering..This is my request to all customers that do not by any electronic items through Flipkart..Flag This ReviewIrrelevantFakeJunk   Thank You! We appreciate your effort.\",\n",
              "  array([-0.04029093, -3.3543062 , -5.391205  ], dtype=float32),\n",
              "  0,\n",
              "  'Negative'),\n",
              " (\"Hi - The seller retailnet is a fraud and cheating seller. I bought the product Samsung Fit e band for my son as birthday gift. I paid 2241 after 10% discount for the HSBC CC. The seller sent a package through Ekart ref # FMPP0452120897t on 3rd Mar 2020. However, when we opened the outer carton, we found that the inner package tamper seal was opened and the Samsung Fit e band was missing and only the charging cable and user manual only inside inner package.  We checked the outer courier carton and the outer package was fine. So, it's the seller who would have opened the tampered seal and removed the package and sent the product to cheat the buyer. We have raised the complaint with Flipkart immediately and they registered the complain as return request and immediately  in 10 mins closed  the complaint stating seller rejected the return request. I have again  raised the complaint on phone and I was told it will be investigated by concerned dept and will be addressed by 7th Mar 2020. I have not received any response till 7th March, and I contacted the Flipkart over phone and the customer care executive Mr Rohit was careless and simply told me that seller rejected the complaint and asked to send email complaint to csatflipkart.com and I got an email stating the cs email id is not in use.  Its unfortunate to note that the customer care executive mentioned that Flikart is not responsible to resolve these issue and it only facilitates buyers and sellers to deal with and they can not help buyer if seller cheats the buyer. I have been prime member and frequent buyer on Amazon for 5 years and I never faced such issue with any seller on Amazon and even if any product gets delivered with damage, Amazon customer care people resolve the problem and initiate replacement or refund. But Flipkart so pathetic and does not even want to resolve issue. This is clearcut fraud and cheating by seller through Flipkart facilitation. I would go for consumer protection but wanted to share my experience here so that other buyers will be more careful while dealing with Flipkart. My experience taught me to take video of unboxing the parcels received from these online sellers so that it would be a solid evidence when we fight in consumer court. I hope Flipkart would resolve my issue soon. Thank youFlag This ReviewIrrelevantFakeJunk   Thank You! We appreciate your effort.\",\n",
              "  array([-0.04152014, -3.3606658 , -5.1230373 ], dtype=float32),\n",
              "  0,\n",
              "  'Negative'),\n",
              " ('The worst experience i ever had with flipkart , this review regards my latest order , i have ordered for ROCOLD 25L STORAGE GEYSER, & IT IS DELIVERED CROMPTON 3L INSTUNT GEYSER , I did not get any refund r replacement for my order.Flag This ReviewIrrelevantFakeJunk   Thank You! We appreciate your effort.',\n",
              "  array([-0.03320075, -3.5508523 , -5.5326686 ], dtype=float32),\n",
              "  0,\n",
              "  'Negative'),\n",
              " ('I ordered bio oil 240 ml pack of 4 ...each bottle weighing 60 ml......but now i got 500 ml pack of 4 each weighing 125 ml......that too duplicate.....i want to return my produt but now flipkart is saying that this product is not returnable......This product is 100% duplicate.....and i want my money back......the bio oil supplied is not original whereas it is expected from a platform of repute like Flipkart must check authenticity of the listed entity supplying through its platform. This is purely a duplicate product and also of not specification/ quantity for which I ordered hence flipkart must return the money and take product  back n blacklist the entity which has supplied.Flag This ReviewIrrelevantFakeJunk   Thank You! We appreciate your effort.',\n",
              "  array([-0.02569507, -3.8632276 , -5.4335313 ], dtype=float32),\n",
              "  0,\n",
              "  'Negative'),\n",
              " ('Flipkart customer halpline number@I purchased only one product from club factory it was a bluetooth headset. After 1 month the day I purchased it stopped working so I conducted customer care they asked me to contact seller and they given me number and the number is not working. When again I contacted customer care they are told me that when the product send you it was in good condition actually it was a fake product. So guys please donâ\\x80\\x99t purchase anything from club factory it is fake app and cheating customers please donâ\\x80\\x99t waste your money and time. Flag This ReviewIrrelevantFakeJunk   Thank You! We appreciate your effort.',\n",
              "  array([-0.03963484, -3.4078147 , -5.1592236 ], dtype=float32),\n",
              "  0,\n",
              "  'Negative'),\n",
              " ('Flipkart is worst , will never order again anything not delivered all product money also not refunded customer care service also bad. Manufacturer date of products are wrong. Amazon is best.Flag This ReviewIrrelevantFakeJunk   Thank You! We appreciate your effort.',\n",
              "  array([-0.0498385, -3.1564188, -5.109528 ], dtype=float32),\n",
              "  0,\n",
              "  'Negative'),\n",
              " ('Their service has been on point in delivery every item that I had to make, and sometimes I got the earlier delivery date which brings joy to my heart. Although I would love to see more discount on such brands like Reebok, Woodland, etc.The app could have been more modern than old-fashioned. Love the addition of \"Super Coin\" functionality.Flag This ReviewIrrelevantFakeJunk   Thank You! We appreciate your effort.',\n",
              "  array([-3.532196  , -0.98200643, -0.5171782 ], dtype=float32),\n",
              "  2,\n",
              "  'Positive'),\n",
              " ('I orderd Iphone 11 black 64 gb from flipkart. I got fake phone with duplicate accessories.The worst problem is that I cannot return this product.Like a hell they are giving this kind of service to the customer.I am going to case with consumer court.Flag This ReviewIrrelevantFakeJunk   Thank You! We appreciate your effort.',\n",
              "  array([-0.03078692, -3.628324  , -5.5840898 ], dtype=float32),\n",
              "  0,\n",
              "  'Negative'),\n",
              " ('I am using Flipkart From 3 years, Experience with flipkart is not Good. I think Most Of Time Flipkart is Running Fake sales of mobile.I placed prepaid orders total 6 orders of poco x2 and Flipkart is canceling my every order.They are also not compensate for same.Also not resolve my issue. WE CANT Trust On Flipkart.Flag This ReviewIrrelevantFakeJunk   Thank You! We appreciate your effort.',\n",
              "  array([-0.03172915, -3.5906634 , -5.6127577 ], dtype=float32),\n",
              "  0,\n",
              "  'Negative'),\n",
              " (\"I haven't seen the wrost app like Flipkart. and the services provider is not satisfied to customer with their answer. They repeat those 3 message again and again which is I understand your concern. Bull sht. They cancel my order for what agent is not able to deliver order. Then why should you accept payment and address details.They can refund amount with interest. but not their services is not able to do that.Then What you able take money and cancel the order without asking customer. Chu\",\n",
              "  array([-0.03982479, -3.3864324 , -5.2565904 ], dtype=float32),\n",
              "  0,\n",
              "  'Negative'),\n",
              " (\"Pls don't buy any furniture or electronic item from Flipkart. In case of any issue with the product, you will end up wasting your money. I am doing follow-up since 26Jan 2020. They are not ready to refund the money. Extremely poor customer services and policies.Flag This ReviewIrrelevantFakeJunk   Thank You! We appreciate your effort.\",\n",
              "  array([-0.03315739, -3.573249  , -5.3927917 ], dtype=float32),\n",
              "  0,\n",
              "  'Negative'),\n",
              " ('Fraud flipkart Chor flipkart cheatkartPathetic service from flipkart worst customer care of flipkart and whirlpool both... Refrigerator not installed after 25 days of delivery... Never buy this product and never ever buy anything from flipkart.I have bought the product in exchange offer with my good working condition smaller size refrigerator but when they come to deliver the refrigerator they denied to exchange and demand for extra money, i refuse to pay them that time i called to customer care and they gave me assurance that it will get deliver in couple of days and do the exchange but again the courier partner denied to do the exchange i have ask him the reason for not exchanging the product he told me that the seller will not take the exchange and he asked me for extra money then i called to flipkart customer service they are also unable to give any specific reason for denying the exchange, they told me that they dont know the reason  for not exchanging but they can not do the exchange and they also asked me to pay more money for delivering the refrigerator then i pay them some extra money for the delivery of that refrigerator.After the delivery its almost 25 days past but nobody has come for the demo and installation of the refrigerator. I have called more than 15 times to flipkart and whirlpool for the installation every time they say that technician will visit in one or two days but nobody has visited us yet.I have tried to return the refrigerator on flipkart but they rejected my return request without any valid reason.I am still wating for the installation or reverse pick up whatever they do..Flag This ReviewIrrelevantFakeJunk   Thank You! We appreciate your effort.',\n",
              "  array([-0.03126005, -3.615848  , -5.551314  ], dtype=float32),\n",
              "  0,\n",
              "  'Negative'),\n",
              " (\"I'm flipkart plus member and shop a lot from flipkart.  I like flipkart coz its app is very user-friendly.  Customer service is good,  though probably not best. I check  reviews and ratings before buying  products,  especially recent  reviews.  I have  no problems so far. Happy with flipkart .Flag This ReviewIrrelevantFakeJunk   Thank You! We appreciate your effort.\",\n",
              "  array([-3.9459758 , -1.3074099 , -0.34228218], dtype=float32),\n",
              "  2,\n",
              "  'Positive'),\n",
              " (\"Don't ever purchase electronic items from flipkar. My brother purchased MI 8 mobile. It was mentioned that in case of any defect the mobile will be replaced within 10 days of delivery. Mobile was not working properly as motherboard had some problem as per MI service centre. He requested for replacement after 3-4 days. A person from flipkart came but refused to take back mobile. Complaint was made to flipkart, again person was sent but refused to take back the mobile, again same thing happened. Ultimately legal notice was sent. Thereafter they changed the mobile but in reply they stated they don't own any duty towards customers in view of certain clause. They are taking contradictory stand. On one hand they deal like agent of supplier, they themselves refused to take back the mobile, on the otherhand they say they are just middle man for supplying goods. Don't believe flipkart that they will support you in case of delivery of damaged goods. They try to cheat you by suppying cheap goods and then brushing aside their responsibility.Flag This ReviewIrrelevantFakeJunk   Thank You! We appreciate your effort.\",\n",
              "  array([-0.0468797, -3.2268598, -5.096862 ], dtype=float32),\n",
              "  0,\n",
              "  'Negative'),\n",
              " ('Headache plz recvest koi dusra app use kare flipkart nahi  bohot hi bekar app he sarvice k naam pe 0Flag This ReviewIrrelevantFakeJunk   Thank You! We appreciate your effort.',\n",
              "  array([-0.04059431, -3.3490715 , -5.367803  ], dtype=float32),\n",
              "  0,\n",
              "  'Negative'),\n",
              " (\"I have received a fake galaxy watch than immediately i contact to customer support than they say that don't worry, we will return the product and give your money back but now 4 to 5 days are gone but they don't even pickup the product, i have explained so many times to customer support team that i have recieved a fake product but they increase the pickup date every time and today one costumer executive even say that flipkart did not take money from you and flipkart will not give your money back, flipkart just forward your complain to seller and he will give refund, now i am very disappointed with flipkart services and customer support too, please give my money back flipkart ??????????Flag This ReviewIrrelevantFakeJunk   Thank You! We appreciate your effort.\",\n",
              "  array([-0.03320871, -3.5579174 , -5.480989  ], dtype=float32),\n",
              "  0,\n",
              "  'Negative'),\n",
              " ('Realme ear buds are worst product. but everybody trying to promote realme buds. I ordered and found that it is not comfortable and fit for ear and trying to return. they rejected.Flag This ReviewIrrelevantFakeJunk   Thank You! We appreciate your effort.',\n",
              "  array([-0.03612229, -3.5284872 , -5.094839  ], dtype=float32),\n",
              "  0,\n",
              "  'Negative'),\n",
              " ('I have purchased flip cart furnichure purfect home within the guaranty period full termite not usable they will not take back or return the amountFlag This ReviewIrrelevantFakeJunk   Thank You! We appreciate your effort.',\n",
              "  array([-0.05662624, -3.0051162 , -5.1994076 ], dtype=float32),\n",
              "  0,\n",
              "  'Negative'),\n",
              " ('Flipkart is selling refurbished phones in the name of original phones. If customer identifies and asks for refund they simply allot multiple visits of Technician from Jeeves who do nothing. However, you will not get any return.Their customer is hellFlag This ReviewIrrelevantFakeJunk   Thank You! We appreciate your effort.',\n",
              "  array([-0.05078574, -3.168618  , -4.8987355 ], dtype=float32),\n",
              "  0,\n",
              "  'Negative'),\n",
              " ('Flipkart is not returning the bad quality product, I have ordered boys jacket nd a kurti kurti I have received same brand with price tag but different design and boys blazer was same as per pic brand gini and jony but felt very poor fabric and duplicate product. When raised return Flipkart is messaging sorry we are unable to process your request and my return is cancelling again and again. Very worst customer support.Flag This ReviewIrrelevantFakeJunk   Thank You! We appreciate your effort.',\n",
              "  array([-0.04503354, -3.2393303 , -5.3299274 ], dtype=float32),\n",
              "  0,\n",
              "  'Negative'),\n",
              " (\"Product is exactly similar as shown in pic .satisfying shopping.no cheating . Average quality.For the given price it's OK. punchuality in delivery time .No waste of money.Personally I am happy with my shoppingFlag This ReviewIrrelevantFakeJunk   Thank You! We appreciate your effort.\",\n",
              "  array([-3.6487975, -1.10279  , -0.4431142], dtype=float32),\n",
              "  2,\n",
              "  'Positive'),\n",
              " ('A few business gatherings, including CAIT, were blamed for abusing outside speculation rules Web based business organizations dismiss charges, said - are working under principles Claims of giving in excess of 50 percent markdown on certain items Itemized During the merry season, Amazon and Walmart-possessed Flipkart have gone ahead the Legislature of India radar for selling items at enormous discounts.The government is researching whether the standards identified with remote venture are being disregarded because of overwhelming exclusion. An authority of the Service of Business gave this data The legislature presented new standards in February with the target of securing the interests of 13 crore individuals subject to little retailers by the alluring offers made on web based shopping. These standards constrained web based business organizations to change their business structure, despite the fact that the US condemned it. Simultaneously there was expanded pressure in the business relations among India and America.On this issue, Amazon and Flipkart were continually looking at agreeing to all the standards, while nearby business associations affirmed that the two organizations are charging colossal add up to give limits during the ebb and flow happy season. Now and again, in excess of 50 percent markdown has been given. As indicated by sources, Flipkart offers to forgo commissions to merchants offering limits on items now and again. Business Service authorities said the administration is examining the grievances and the proof gave by the Confederation of All India Dealers (CAIT), which had blamed Amazon and Flipkart for abusing outside speculation rules. CAIT speaks to 70 million retail brokers in the country.Sales of retail dealers diminished by 40 percent It is significant that last week, delegates of Amazon, Flipkart and CAIT met before the Business Service to examine this issue. CAIT general secretary Praveen Khandelwal stated, \"Because of substantial limits, clients are shopping on the web. Because of this, the offers of retailers have descended by 30 to 40 percent this month.Flipkart offered a rebate to dealers As indicated by two messages from Flipkart venders in September, the organization offered incomplete installment of limits only days before the bubbly season. As per an email, \"In the event that the dealer diminishes the cost of the item by 15%, at that point the organization will bear 9% trouble if there should be an occurrence of 3% or 30% discount.\"A source related with Flipkart said that all the impetuses are under Indian principles and are proposed to urge merchants to gain by lessening the commission they pay.Unfair advantages to certain sellers! The All India Online Merchants Affiliation said in an explanation that around 100 of its individuals have exploited Flipkart\\'s fractional discount, making undue preferred position a few venders. The association has 3, 500 individuals, a significant number of whom are related with Flipkart.Flag This ReviewIrrelevantFakeJunk   Thank You! We appreciate your effort.',\n",
              "  array([-0.14241739, -2.3974643 , -3.1750383 ], dtype=float32),\n",
              "  0,\n",
              "  'Negative'),\n",
              " ('Flipkart used to cheat individual customers. No service provided. No resolution. I have received a wrong product but no one cares. No solutions given by flipkart. They will feel sorry and blames only other department. Always a concern raise but no proper resolution provided to me. I just wanted to know how a wrong product packed by these reputated companies.? They used to make fool to the customers.Flag This ReviewIrrelevantFakeJunk   Thank You! We appreciate your effort.',\n",
              "  array([-0.03017407, -3.6620817 , -5.510436  ], dtype=float32),\n",
              "  0,\n",
              "  'Negative'),\n",
              " ('A refundable tickets worth 2000 you only get a cancellation of Rs 59. DONT BOOK WITH FLIPKART eVER.Flag This ReviewIrrelevantFakeJunk   Thank You! We appreciate your effort.',\n",
              "  array([-0.04414859, -3.2665093 , -5.288595  ], dtype=float32),\n",
              "  0,\n",
              "  'Negative'),\n",
              " ('I bought a jhoomar(Gojeeva Gojeeva Antique design 5 light) from flipkart and that was coming broken and also having very poor quality. So I raise a request for return. But flipkart automatically updating the status the issue has been resolved.Again I called to flipkart again raise a request but same thing happen 3 times. They people make me fool and asking after 3 days your package will return. This way they spend 10 days. Now the return policy has been expired and return option is also not there.This way Flipkart cheat with me.My Orders Id: OD117532560633513000Refund ID: 12101762657859775628Also attached snapshot.Flag This ReviewIrrelevantFakeJunk   Thank You! We appreciate your effort.',\n",
              "  array([-0.02817881, -3.7299845 , -5.5747848 ], dtype=float32),\n",
              "  0,\n",
              "  'Negative'),\n",
              " ('Their delivery option is available in small rural areas too. And it is having variety of products...Flag This ReviewIrrelevantFakeJunk   Thank You! We appreciate your effort.',\n",
              "  array([-3.3113153 , -0.9397562 , -0.55720335], dtype=float32),\n",
              "  2,\n",
              "  'Positive'),\n",
              " (\"The flipkart & omnitech  how are you sending the defect products you idiots don't you have minimum sense, i bought gyeser and fitted by an electrician, after fitting every thing directly water coming out of Gyeser. For fitting i gave 400 extra you idiotsFlag This ReviewIrrelevantFakeJunk   Thank You! We appreciate your effort.\",\n",
              "  array([-0.03707857, -3.4793026 , -5.190245  ], dtype=float32),\n",
              "  0,\n",
              "  'Negative'),\n",
              " (\"This online shopping site is very good, it's like whatever you want you will get over here, and it also takes care of your budget, there is plenty of options in one product which makes the choice to be the best, and specially the delivery is very fast.They provide the best products among all the other online sites, this site is also trust worty of the product they sell, and easy return make it more good.so shopping from this site is completely safe and probably the bestFlag This ReviewIrrelevantFakeJunk   Thank You! We appreciate your effort.\",\n",
              "  array([-3.608754  , -1.3108356 , -0.35194364], dtype=float32),\n",
              "  2,\n",
              "  'Positive'),\n",
              " (\"I purchased a 7 mukhi rudraksha on March 17, 2019 from this website. Eat come to me within 3 days after the purchase of rudraksha use it about a week after it comes to me. and a week later I noticed that the rudraksha is not 7 mukhi it is 9 mukhi rudraksha. Then I call these companies customer care but they don't want to believe it at first. But when I tell them I have a video about this product rudraksh unboxing. Then they believe it and told me from customer care that they old send someone and pick up up a product from me full stop but after two days no one come to pick up rudraksh from me. And then I call back to customer care again, then they send a a delivery boy to my house and pick up rudraksh, and I also have to to wait two weeks to get a refund for my product rudraksha.Flag This ReviewIrrelevantFakeJunk   Thank You! We appreciate your effort.\",\n",
              "  array([-0.04392387, -3.3027382 , -5.084679  ], dtype=float32),\n",
              "  0,\n",
              "  'Negative'),\n",
              " ('Flipkart is a vary good shopping apps. I have a good experience for shopping....they are always time by time delivered. You can try shopping with Flipkart.comFlag This ReviewIrrelevantFakeJunk   Thank You! We appreciate your effort.',\n",
              "  array([-3.818765  , -1.112766  , -0.43171194], dtype=float32),\n",
              "  2,\n",
              "  'Positive'),\n",
              " ('Flipkart is such a lousy company that it might not be possible to describe in words, do not buy anything from Flipkart If you love your money. Flipkart is robbing Its customers money. I bought a stuff that was worth Rs.2700. But this is the duplicate product means Flipkart deliver me duplicate product. I am trying to return the product more than 10 times but every time a company rejected my return and they not initiate my refund please if anyone see my review then help me and tell me what I do.....My Order ID OD117637972890979000Flag This ReviewIrrelevantFakeJunk   Thank You! We appreciate your effort.',\n",
              "  array([-0.03408956, -3.5201826 , -5.5413923 ], dtype=float32),\n",
              "  0,\n",
              "  'Negative'),\n",
              " ('Hi I had ordered Redmi mobile phone on 13.02.2020. As per the flipkart advertise, expected product delivery date was today(15.02.2020) however got \"shipping delay message\" for the same. Now as per the message it will take next 3 more days to deliver the product(21.02.2020). I am not happy with the service and the commitment given by the company. It seems the company have no value ofa. Customer Promiseb. Customer TimeC. Customer Service Here I would like to say that.I have done big mistake by ordering the mobile phone via flipkart. It seems Amazon is better than Flipkart. Never seen such a careless company. Request all my friends to double think before ordering the products from flipkart.Flag This ReviewIrrelevantFakeJunk   Thank You! We appreciate your effort.',\n",
              "  array([-0.04857166, -3.1561582 , -5.3345947 ], dtype=float32),\n",
              "  0,\n",
              "  'Negative'),\n",
              " ('Flipkart is one of the best online shoping app all types of goods are available here the quality of product is too good..I like it very muchFlag This ReviewIrrelevantFakeJunk   Thank You! We appreciate your effort.',\n",
              "  array([-3.521008  , -1.1757779 , -0.41271403], dtype=float32),\n",
              "  2,\n",
              "  'Positive'),\n",
              " ('Delivered wrong product and misbehaving.its a fraud platform, full of unexperienced morons.please never buy from Flipkart.Flag This ReviewIrrelevantFakeJunk   Thank You! We appreciate your effort.',\n",
              "  array([-0.04452812, -3.2713418 , -5.1857357 ], dtype=float32),\n",
              "  0,\n",
              "  'Negative'),\n",
              " (\"My order ID is OD110640390556704000.  I have purchased Vivo v7+ phone from Adilaxmi E-Commerce Pvt Ltd  through Flip kart which is not original. Adilaxmi E-Commerce Pvt Ltd   has fooling people by selling stolen phone. After the purchase I am receiving calls from crime branch and they are claiming that the phone purchased is stolen and they are asking to submit the phone for the investigation. When I visited to check  Crime branch Indore to verify that calls was real or just a fraud, then I got to know that they were really from crime branch & that was true.According to crime branch Indore there are many phones of vivo purchased by many customer from different different platforms are stolen. According to them around thousand phones are having fake one IME no ends with 009 which was sold to many customers.As per crime branch there are many sellers who has sold stolen phone with one ime no. Around 1000 mobiles are detected on the one Ime no(same ime no which is mentioned in my phone information ends with 009) .As per them they are submitting all the phones which are purchased by same Ime no for the investigation so that they can trace all the seller & then they will block all the phones with same Ime No.I even have different IME no., IME no. in my phone Information is different from the IME no. mentioned in the invoice.  IME No. mentioned in invoice is 866066038540757 & in Phone information IME no mentioned is 8654070100000009, both are completely different.Police is submitting all the phones for the investigation. I have purchased this phone from Adilaxmi E-Commerce Pvt Ltd through Flip kart by paying those 22000. Now police has taken my phone & they are saying all the phones with this duplicate IME no. will be blocked after the investigation as it is having Fake IME No.Where is the assurance which was given by flip kart for the security n authenticity of the product of Adilaxmi E-Commerce Pvt Ltd? Flip kart claims that they sold original products then how came this type of stolen phone they have sold from Adilaxmi E-Commerce Pvt Ltd . According to police there are many other phones which are sold by Adilaxmi E-Commerce Pvt Ltd and flip kart.I don't understand I have lost my 22000 Rs & Phone too as Flip kart has sold stolen phone to me with fake IME No.  What wrong I have done I have just purchased the phone from Adilaxmi E-Commerce Pvt Ltd  through Flip kart where I lost the phone also as police is taking that n lost the money also which I paid to Adilaxmi E-Commerce Pvt Ltd through Flip kart for the stolen phone.Now Adilaxmi E-Commerce Pvt Ltd  and flip kart is saying they don't take any guarantee of this kind of thing. They are not ready to answer for any of this; soon I have also filed complaint in Consumer Forum against  Adilaxmi E-Commerce Pvt Ltd and Flipkart also so that people can see that Adilaxmi E-Commerce Pvt Ltd and Flip kart canâ\\x80\\x99t be trusted for the originality of products. Please check IME no before purchasing from any platform & kindly donâ\\x80\\x99t trust flip kart because they donâ\\x80\\x99t take any guarantee after this kind of fraud, they are not ready to help in anyway.Flag This ReviewIrrelevantFakeJunk   Thank You! We appreciate your effort.\",\n",
              "  array([-0.02964557, -3.655482  , -5.6954    ], dtype=float32),\n",
              "  0,\n",
              "  'Negative'),\n",
              " (\"Where we able to make it possible even more to get there? IT's a real Indian company competing with Amazon and all their doubts anyway on so many levels I can't even describe. So what do we do here done totally and completely.Flag This ReviewIrrelevantFakeJunk   Thank You! We appreciate your effort.\",\n",
              "  array([-3.3947883, -1.0096741, -0.5073074], dtype=float32),\n",
              "  2,\n",
              "  'Positive'),\n",
              " ('Their process is slow and customer care people do not know any information about seller of product and they are NOT capable of providing any solutions. For delivering product they take 20 days and product was delivered with a missing part.To Take action for replaced or any more 30 days. Worst service from flipkart.Flag This ReviewIrrelevantFakeJunk   Thank You! We appreciate your effort.',\n",
              "  array([-0.02778213, -3.7665086 , -5.4568377 ], dtype=float32),\n",
              "  0,\n",
              "  'Negative'),\n",
              " (\"Hi friendsI am a Costamber & Employees in Flipkart company in Bangalore.But fast I am a Costamber.Than my experience I will be share allof you.Fast time I will be Oder a mobile ( mi note 7 pro)  AT 12: 30 PM and next day tha delivery boy delivered in 08: 45AM . Flipkart delivered in his product faster and shefty in time.The can't take damage product .Flag This ReviewIrrelevantFakeJunk   Thank You! We appreciate your effort.\",\n",
              "  array([-2.364249  , -0.6754332 , -0.92370766], dtype=float32),\n",
              "  1,\n",
              "  'Neutral'),\n",
              " ('Who says flipcart has service in pan India location. I had ordered something n the delivery executive asked to come to a near by location to pick my parcel as the product was big. When I have complaint to customer care, there was no proper.expected support. Big time disappointed. So much of  harassment to customer and worst deliver service ever seen.Flag This ReviewIrrelevantFakeJunk   Thank You! We appreciate your effort.',\n",
              "  array([-0.04130249, -3.3568377 , -5.18215   ], dtype=float32),\n",
              "  0,\n",
              "  'Negative'),\n",
              " ('Never order on Flipkart because if you try to return they will not pick up the product until the return window is elapsed after which they donâ\\x80\\x99t care !Flag This ReviewIrrelevantFakeJunk   Thank You! We appreciate your effort.',\n",
              "  array([-0.04082905, -3.3719056 , -5.1703467 ], dtype=float32),\n",
              "  0,\n",
              "  'Negative'),\n",
              " (\"My order ID is OD110640390556704000. I have purchased Vivo v7+ phone from Flip kart which is not original. Flip kart has fooling people by selling stolen phones. After the purchase, I am receiving calls from the crime branch and they are claiming that the phone purchased is stolen and they are asking to submit the phone for the investigation. When I visited to check the Crime branch Indore to verify that calls were real or just a fraud, then I got to know that they were really from the crime branch & that was true.According to the crime branch Indore there are many phones of Vivo purchased by many customers from different platforms are stolen. According to them, around a thousand phones are having fake one IME no ends with 009 which was sold to many customers.As per the crime branch, there are many sellers who has sold a stolen phone with one imei no. Around 1000 mobiles are detected on the one Ime no(same imei no which is mentioned in my phone information ends with 009). As per them, they are submitting all the phones which are purchased by same Imei no for the investigation so that they can trace all the seller & then they will block all the phones with same Imei No.I even have different IMEI no., IMEI no. in my phone Information is different from the IMEI no. mentioned in the invoice. IMEI No. mentioned in invoice is 866066038540757 & in Phone information IMEI no mentioned is 8654070100000009, both are completely different.Police are submitting all the phones for the investigation. I have purchased this phone from Flip kart by paying those 22000. Now police have taken my phone & they are saying all the phones with this duplicate IME no. will be blocked after the investigation as it is having Fake IME No.Where is the assurance which was given by flip kart for the security n authenticity of the product? Flip kart claims that they sold original products then how came this type of stolen phone they have sold. According to the police, there are many other phones which are sold by flip kart.I don't understand I have lost my 22000 Rs & Phone too as Flip kart has sold stolen phone to me with fake IME No. What wrong I have done I have just purchased the phone from Flip kart where I lost the phone also as police is taking that n lost the money also which I paid to Flip kart for the stolen phone. Now flip kart is saying they don't take any guarantee of this kind of thing. They are not ready to answer for any of this; soon I will upload FIR copy also so that people can see that Flip kart canâ\\x80\\x99t be trusted for the originality of products. Please check IME no before purchasing from any platform & kindly donâ\\x80\\x99t trust flip kart because they donâ\\x80\\x99t take any guarantee after this kind of fraud, they are not ready to help in anyways.Flag This ReviewIrrelevantFakeJunk   Thank You! We appreciate your effort.\",\n",
              "  array([-0.03894084, -3.4305937 , -5.145646  ], dtype=float32),\n",
              "  0,\n",
              "  'Negative'),\n",
              " (\"My order ID of Purchase is OD117655860091264000 .I bought a new phone from Flipkart on(22 Jan 2020) and as per their technician said I get refurnised phone in the name of their GREAT INDIA SALE. For me my new phone is not working. And after raising complaint for their defective phone. For 10-12 days they say wait we will solve your problem, tell their shitty trouble shooting steps for 2 days. When I tell problem is still same. Then said our technician will visit and check, after 2 time technician visit I still facing the touch issue in my phone but they say it's working fine as per our technician feedback. And the technician said I can't do anything you got solution from flipkart . And flipcart said if technician approve then we do something. They people want to put things on others head. Not want to do anything their own. and after 15 days(5. Feb. 2020) one executive call me and said Visit service center and if they provide DOA we will provide you replacement. If that was the solution then why don't this silly peoples tell me on the first day.  I waited for 12-13 days to hear this nonsense after paying them money to get a faulty phone. According to my experience, Flipkart is the cheapest company I know of who manipulates their customers. You people never care about your customers. Very poor customer care, they have no manners and are very rude. Always said that we are here to help you, but you just keep irritating and manipulate the customer. Does not routinely take the same corrective action.  I would suggest to all my known people to never buy a single thing from Flipkart as it is a very bad online fake service provider.Flag This ReviewIrrelevantFakeJunk   Thank You! We appreciate your effort.\",\n",
              "  array([-0.04562539, -3.2430127 , -5.1932306 ], dtype=float32),\n",
              "  0,\n",
              "  'Negative'),\n",
              " ('In digital\\'s age how an e commerce platform like flipkart can survive? Second time in last two weeks, suffered due to their messed up system and incompetent customer service. First time they delivered a different product and upon request to replace the product their customer care service logged the request as product accepted so had tough time returning it.Second time ordered a watch. Payment deducted from the bank but product is \"out of stock\" on order page. How the hell Flipkart can take to the payment page when the product is out of stock? And on top of it rather understanding the anxiety of a customer their customer care service is high-headed.If there was negative review, I would have given that. Never ever going to use Flipkart and will highly discourage people from using it.Flag This ReviewIrrelevantFakeJunk   Thank You! We appreciate your effort.',\n",
              "  array([-0.02955785, -3.6668131 , -5.635882  ], dtype=float32),\n",
              "  0,\n",
              "  'Negative'),\n",
              " (\"Flipkart delays the delivery of orders which you made during Flipkart mega sales and pressurise customer to cancel the order. It has happened to me I have ordered Realme x phone (Order ID OD117636433204523000). It was supposed to deliver on 23-2-2020 and still not delivered. Customer executive don't know the reason of non delivery and Flipkart facility number or nearest hub numberFlag This ReviewIrrelevantFakeJunk   Thank You! We appreciate your effort.\",\n",
              "  array([-0.02693748, -3.8225136 , -5.3591084 ], dtype=float32),\n",
              "  0,\n",
              "  'Negative'),\n",
              " ('VERY BAD EXPERIENCE.I have Purchased a Mobile in Flip Kart.The promised date was 1 day after purchase.But after 2 days I have observed that it has reached my nearest hub.after 30 Mins I received a message, \" We were unable to deliver your product today. It will be delivered in 3 days.\". I have immediately spoken to customer care and requested to provide me the nearest hub contact number where the delivery is lying. But they do not even have the contact number of their own ware house. Its been 2 days and still its not been delivered, nor update in the delivery status.Below is the log of the delivery. Observe the date and time of update, You will come to know the laziness of the delivery guys.Shipment yet to be delivered. Ekart Logistics - FMPC0707136772Sat, 1st Feb5:38 pmMumbaiYour order has been dispatched from the Flipkart facility.Sat, 1st Feb6:04 pmMumbaiShipment in-scanned at Bhiwandi Sort FacilitySat, 1st Feb6:04 pmMumbaiYour order has arrived at our Flipkart facility.Sat, 1st Feb6:17 pmMumbaiYour order has been dispatched from the Flipkart facility.Sat, 1st Feb7:30 pmMumbaiYour order has arrived at our Flipkart facility.Sat, 1st Feb11:16 pmBengaluruYour order has been dispatched from the Flipkart facility.Sun, 2nd Feb8:40 pmBengaluruYour order has arrived at our Flipkart facility.Mon, 3rd Feb4:00 amBengaluruYour order has been dispatched from the Flipkart facility.Mon, 3rd Feb5:58 amBengaluruYour order has arrived at our Flipkart facility.Mon, 3rd Feb11:11 amBengaluruYour order could not be delivered today and will be delivered in the next 3 days.Mon, 3rd Feb11:11 amBengaluruYour order has arrived at our Flipkart facility.Mon, 3rd Feb11:29 amBengaluruYour order has been dispatched from the Flipkart facility.Mon, 3rd Feb12:01 pmBengaluruYour order has been dispatched from the Flipkart facility.Flag This ReviewIrrelevantFakeJunk   Thank You! We appreciate your effort.',\n",
              "  array([-0.02946537, -3.6903918 , -5.5032954 ], dtype=float32),\n",
              "  0,\n",
              "  'Negative'),\n",
              " (\"Amazing Website Service Provider.FlipKart helps to peoples to Sale and Buy a product.It's Provide the welled services to the customer.Customer Statiffied by flipkart.as  MyPoint of ViewFlag This ReviewIrrelevantFakeJunk   Thank You! We appreciate your effort.\",\n",
              "  array([-3.3319142 , -0.77182174, -0.688946  ], dtype=float32),\n",
              "  2,\n",
              "  'Positive'),\n",
              " (\"This is most famous online shopping site which has changed a lot of things India.In this website all products have it's fixed rate we cannot bargain like our market.But rate is very very comfortable to normal people also.I bought lot of things from this shopping site.I think it is much gooder than amazonFlag This ReviewIrrelevantFakeJunk   Thank You! We appreciate your effort.\",\n",
              "  array([-3.8254893 , -1.1836939 , -0.39742783], dtype=float32),\n",
              "  2,\n",
              "  'Positive'),\n",
              " ('THIS IS VERY BEST FOR ONLINE SHOPPING BUT I SOMETIMES GIVES ANOTHER PRODUCT WHICH IS EMBRASSING AND DOESNT RETURN IT.SO IT NEEDS SOME IMPROVEMENTFlag This ReviewIrrelevantFakeJunk   Thank You! We appreciate your effort.',\n",
              "  array([-3.3201742 , -0.81776375, -0.64925325], dtype=float32),\n",
              "  2,\n",
              "  'Positive'),\n",
              " ('FLIPCART SERVICE IS VERY BAD.DONT USE. ITS DELIVERY PRODUCTS DELIVERY SERVICE IS VERY BAD.THE PRODUCTS DELIVERED IS VERY DIFFERENT THAN ACTUAL.SHOPOING ON FLIPCART IS VERY HARMFUL.ITS DELIVERY PERFORMANCE IS NOT GOOD. LOTS OF PROBLEMS ON SHOPPING WITH FLIPCART.Flag This ReviewIrrelevantFakeJunk   Thank You! We appreciate your effort.',\n",
              "  array([-0.03208848, -3.6109664 , -5.3918986 ], dtype=float32),\n",
              "  0,\n",
              "  'Negative'),\n",
              " ('Recently I ordered iPhone charger which is received on Janâ\\x80\\x9915 by duplicate product then, I approached to Flipkartâ\\x80\\x99s customer support but...They are not taking my complaints as affecting manners but itâ\\x80\\x99s not working properly todayâ\\x80\\x99s onwards (31stâ\\x80\\x99Jan).Pls, avoid order via Flipkart.Flag This ReviewIrrelevantFakeJunk   Thank You! We appreciate your effort.',\n",
              "  array([-0.03983419, -3.3960373 , -5.194778  ], dtype=float32),\n",
              "  0,\n",
              "  'Negative'),\n",
              " ('Its a good online market its products are too good.I bought 3 sarees from flipkart that things are goodFlag This ReviewIrrelevantFakeJunk   Thank You! We appreciate your effort.',\n",
              "  array([-3.2827296, -1.022721 , -0.5060715], dtype=float32),\n",
              "  2,\n",
              "  'Positive'),\n",
              " (\"Ordered furniture, Very bad quality and they resfuse to take the return, in fact the person who came to fix the product has damaged and did not fix it properly.Now I iordered one more product which I don't want to receive at all since I know it's worst quality but flipkart is forcing me to receive the product since they want to penalize seller or buyer.Worst market placeFlag This ReviewIrrelevantFakeJunk   Thank You! We appreciate your effort.\",\n",
              "  array([-0.03299569, -3.6047308 , -5.2471385 ], dtype=float32),\n",
              "  0,\n",
              "  'Negative'),\n",
              " (\"I order Pillows in flicart OD117637527074818000 delivery committed time 29th jan 2020 but till today I have not received and I got the message from Ecom service today you have refused the delivery. I have not received single call and no on e visited my home also how I refuse same when I called customer care I spoke one person Mr.pintu rajput this fellow don't have basic knowledge about product and also how don't no how to speak with customer giving robotic answer.compare to this we have see out side former are speaking very well  very very bad service.Flag This ReviewIrrelevantFakeJunk   Thank You! We appreciate your effort.\",\n",
              "  array([-0.04274626, -3.3134663 , -5.2110944 ], dtype=float32),\n",
              "  0,\n",
              "  'Negative'),\n",
              " ('Many of us think that online shopping means fake products. but as per my opinion and experience while buying from flipkart specially one should select fassured product, which are 100% returnable if any defects pursued. it is very rare that flipkart products mismatched because their delivery partner have many crosschecks to deliver you the right item. the delivery partners always undergoes several criteria before delivering it. and if after that also any body getting mismatched or defect product no issue company returns it and send your hard earned money within 24 hrs but it depends on your bank some time.Flag This ReviewIrrelevantFakeJunk   Thank You! We appreciate your effort.',\n",
              "  array([-0.5237936, -1.5456357, -1.6370443], dtype=float32),\n",
              "  0,\n",
              "  'Negative'),\n",
              " (\"Fraud services. ... I placed order on 8th January andreceived product on January 11th with defect product(Refurbished product) , I send photos of received product and send my all original proofs Aadhaar and pan card scanned copies but my return request rejected for 4 times and now return policy completed, when I ask them they simply raised issue and provide date and said to wait for timeline.Worst services and fraud services.Till now no resolution.OD117536157055513000 order I'd.Flag This ReviewIrrelevantFakeJunk   Thank You! We appreciate your effort.\",\n",
              "  array([-0.04286835, -3.2806892 , -5.435233  ], dtype=float32),\n",
              "  0,\n",
              "  'Negative'),\n",
              " ('I ordered Motorola Moto E6s handset from flipkart.com, on 19-Jan-20, which was delivered to me on 20-Jan-20. As the bottom part of the phone, the display has a grey patch of around 1.5 to 2 inches, I requested for a replacement of the same on 21-Jan-20.Accordingly, a technician\\'s visit was scheduled for 22-Jan-20. The technician Mr. Adarsh from jeeves.co.in did accept that the display was \"faulty\", however, he misinformed me regarding the procedure of return. As per him, he uploaded the pictures of the faulty display that he clicked on his phone to their portal and that I would get a status update from Flipkart within two hours of him uploading the pictures. This was the first time ever, that a technician visit was scheduled for a problem I faced. Moreover, flipkart.com had not given me any details regarding the procedure to be followed, rather the precautions to be taken while handing over the phone to the technician, hence, I believed in whatever information he provided to me.However, as soon as he stepped out of my house, notwithstanding what he told me regarding the faulty display, he cunningly and arbitrarily rejected my request for a replacement. As soon as I found out about it, I called Flipkart toll free customer care number 18008899898 and informed them about the issue at length. I also specifically complained about Mr. Adarsh, and asked their customer care executives to make a note of his name in my complaint, and take the strictest action against him for uploading fake details.Thereafter, another technician visit was scheduled which was to take place on or before 27-Jan-20. Accordingly, another technician Mr. Satish from jeeves.co.in called on 24-Jan-20 and asked to come the same day. As I was busy on that day, I asked him to come on 25-Jan-20, to which he agreed. Accordingly, I got an SMS from VKjeeves confirming that the appointment was rescheduled to 25-Jan-20 at 12:00 pm.As the technician did not visit my site till 12:00 pm on 25-Jan-20, I called back on the number +912271872225 from which he had called on 24-Jan-20. Ironically, this call was received not by Mr. Satish but by Mr. Adarsh against whom I had complained. Over the phone, he once again lied to me that my request for replacement was rejected because I had not backed up the data in my phone. If that was the case, then he should have informed me about it. I would have done a factory reset right in front of him. In my case, the phone display is faulty, in some other cases, the display could be broken or the back cover could be broken. In all these cases, is data backup a mandatory requirement? As I could no longer take his lies, I told him to send Mr. Satish for a site visit instead of him. He once again very rudely remarked that Mr. Satish is busy at the moment and will come if he gets time.On the same day i.e., on 25-Jan-20 at 17:01 hours, I got another call from +912271872225 from Mr. Pervez Ansari (not sure if it is spelled as Pervez or Parvez). According to him, Mr. Adarsh asked him to visit me instead of Mr. Satish. During our phone call, he divulged a VERY IMPORTANT & CONFIDENTIAL piece of information regarding their performance rating. As per the information provided by him, their performance is rated \"GOOD\", if they \"REJECT\" the customers\\' requests for replacement and vice versa. Further, he has also confessed that the genuineness or otherwise of the customers\\' complaints has no bearing on whether their request for replacement will be \"ACCEPTED\" or \"REJECTED\". It is purely on the basis of the \"REPORT\" provided by them.The second technician visit NEVER HAPPENED and on the morning of 26-Jan-20, I learned that my request for replacement has been rejected. During this period I spoke with several of their customer care executives. A few of them being Ashish (22-Jan-20), Vishnu (23-Jan-20), Neelam (25-Jan-20), Aditya (25-Jan-20), Sanjay (25-Jan-20), Abhishek (25-Jan-20), Paramjeet (26-Jan-20). All of them say only one thing: \"Aap nishchint rahiye. Aapki puri sahayta ki jaayegi\", without giving a damn about the customer\\'s problems. In my opinion, as a cost-saving measure, they should just program to repeat this every 30 seconds in their IVR, instead of hiring and paying for these employees.Also, after logging into my account, going to my orders page, and selecting the appropriate order, I have raised issues several times with this product. Miraculously, all of them get resolved, without any intimation to me!!!!On searching the internet regarding jeeves.co.in, I have found that many of the directors are associated with Flipkart.From all of the above, I infer the following:1) It is very likely that the products sold on Flipkart as \"NEW\" could be \"REFURBISHED\", and hence \"DEFECTIVE\".2) Flipkart and jeeves.co.in are associated companies3) Flipkart and jeeves.co.in through their technicians COLLUDE TO CHEAT CUSTOMERS BY REJECTING THEIR GENUINE REQUESTS FOR REPLACEMENT OF FAULTY PRODUCTS4) The technicians have powers more than judges of High Courts and Supreme Court to give the one-sided report, without requiring the customers\\' sign-off5) The only way to get your request for replacement approved by the technician is to give them a handsome BRIBE. That is the only thing that will make them go against their employers.I want the following:1) Return pick-up of the faulty product and a full refund of Rs. 6, 499/-.2) Return pick-up and refund of the accessories bought along with the product viz., scratch guards/tempered glasses (2 units of Rs. 99/- each)3) Strict action against all the three technicians viz., Mr. Adarsh, Mr. Satish, and Mr. Pervez Ansari with intimation to me.4) Strict action against all of your above customer care executives viz., Ashish, Vishnu, Neelam, Aditya, Sanjay, Abhishek, Paramjeet.Thanks,MandarFlag This ReviewIrrelevantFakeJunk   Thank You! We appreciate your effort.',\n",
              "  array([-0.03101981, -3.6587145 , -5.3437314 ], dtype=float32),\n",
              "  0,\n",
              "  'Negative'),\n",
              " ('I had issues with the delivery of the product. There was no out for delivery notification. Moreover,the slot I choosed for delivery was 12-4pm, I called flipkart to get an update to which they asked me to wait till 7pm, which is their maximum time for the delivery. I waited till 8pm and left, but the delivery guy shows up at 8.30pmHighly disappointed with the delivery of large appliances!!Flag This ReviewIrrelevantFakeJunk   Thank You! We appreciate your effort.',\n",
              "  array([-0.02849458, -3.7386038 , -5.447948  ], dtype=float32),\n",
              "  0,\n",
              "  'Negative'),\n",
              " (\"Hi friends, today i am hear to guide you on flipkart. i will share my true and worst experience of flipkart. recently i have purchased a combo of wrist watch. as we know that the pics of items they upload are clicked  professionally. this case also was same. but on pic the name of it's company was given which was lorem. but which i received on that no company name was given and it's quality was very low even it's glass was also broken i gave him 10 times more money as compare to it's quality. then i decided to return it and i requested for return which was approved but next day and after some days company called me and said if you want to return it you have to came in our office because pick up facility is not available. my house is at end of our city and it's office was at other end of city. so i request him to send any delivery boy but they didn't listened me at last i have to go their many kilometers far away and finally returned it. so i request you to be carefull while shopping from flipkart and please like share vote and follow me for more true reviews.good day..thank you...Flag This ReviewIrrelevantFakeJunk   Thank You! We appreciate your effort.\",\n",
              "  array([-0.04072548, -3.344237  , -5.3773117 ], dtype=float32),\n",
              "  0,\n",
              "  'Negative'),\n",
              " ('Flipkart is the very nice online shopping store .Its customer service is ver nice and delivery service are very good . And provide good quality of product .Ot is a believable shopping portal . It is renowned shopping store .It provides various discount offers for customers time to timeFlag This ReviewIrrelevantFakeJunk   Thank You! We appreciate your effort.',\n",
              "  array([-3.9106154 , -1.15733   , -0.40699506], dtype=float32),\n",
              "  2,\n",
              "  'Positive'),\n",
              " ('Flipkart network is very faithful and grate network. This network iscorrect time delivery the ordering things. The flipkart is big network.Flipkart customer number: 1800 208 9898.please contact this number in any problems in flipkart network.Flag This ReviewIrrelevantFakeJunk   Thank You! We appreciate your effort.',\n",
              "  array([-3.6372013 , -1.2163306 , -0.38955447], dtype=float32),\n",
              "  2,\n",
              "  'Positive'),\n",
              " ('Hi,Got a very annoying experience with Flipkart. I ordered a Realme Xt in exchange of my iphone 6s. But my phone has screen scratch on the extreme left down corner.They messaged me if you have any phone issues you can get the phone by paying an additional amount. The amount on exchange, I was getting was 4, 500 and the amount for screen repair is hardly 1500-2000.When I went to take the delivery, the guy asked me for 4500/-, I asked it only has scratch that to very less, to this he replied this is the rule. I got really angry as when I asked in store, they were giving me an exchange of 3500 for the screen scratch, Flipkart is blindly charging. If they are taking this exchange deal, they can repair the glass for 1500 or even less, can sell this as refurbished and can still make profit out of it.Pathetic experience.Flag This ReviewIrrelevantFakeJunk   Thank You! We appreciate your effort.',\n",
              "  array([-0.0281532, -3.7662375, -5.376999 ], dtype=float32),\n",
              "  0,\n",
              "  'Negative'),\n",
              " ('Ordered iphone 11 worth 64900 before 6 days and nothing delivered till today, delivery partner says customer rejected item and now my order has been cancelled by seller. What a pathetic service of flipkart.Flag This ReviewIrrelevantFakeJunk   Thank You! We appreciate your effort.',\n",
              "  array([-0.03028094, -3.654019  , -5.536537  ], dtype=float32),\n",
              "  0,\n",
              "  'Negative'),\n",
              " ('Flipkart I wanted a loan and usually it takes couple of days but with Indiabulls dhani I got it in my account within 4 hours!Love Dhani!Flag This ReviewIrrelevantFakeJunk   Thank You! We appreciate your effort.',\n",
              "  array([-0.05299254, -3.1226256 , -4.883368  ], dtype=float32),\n",
              "  0,\n",
              "  'Negative'),\n",
              " ('The flipkart is one of the best e commerce website. Very quick delivery and the customer service is too much quick and good. Even they have paylater facility which we can use for shopping and pay within 45 days.Flag This ReviewIrrelevantFakeJunk   Thank You! We appreciate your effort.',\n",
              "  array([-3.7131662 , -1.4348772 , -0.30454987], dtype=float32),\n",
              "  2,\n",
              "  'Positive'),\n",
              " (\"My mom gifted me  2000 rupees Flipkart gift card and I  added it in my Flipkart wallet. From 2000 rupees I have only redeemed 300 rupees. Now Flipkart blocked my account and not allowing me to redeem rest of the gift wallet amount. I have contacted customer service lot of times but they don't give any clear answer. They just send stupid mail with no relevant answer to my issue. I asked them to call me but they are not calling me to resolve this matter. Looks like Flipkart is going down and looting customers money before shutting down their business just like QUIKR did. People please be aware never to put money in the gift card wallet.Flag This ReviewIrrelevantFakeJunk   Thank You! We appreciate your effort.\",\n",
              "  array([-0.0310368, -3.6318433, -5.4985366], dtype=float32),\n",
              "  0,\n",
              "  'Negative'),\n",
              " (\"Most commonly I use flipkart more than any other e -commerce websites. Until now, among the products I've bought, are good. The quality seems to be worth the money. But, there are some negatives too that I want to share. I had bought a power bank for around 300 rupees and you would not believe that the delivery service took almost a month to reach me( 26 days approximately) . And, after receiving the product, it was not working on my second use. I was irritated and placed a return request and received the product by 3 days. So, totally it took one month to just deliver a power bank. And shoes at low cost are often exchanged by any other design and colour than the actually ordered one. If you can improve these little things, you are awesome. You give a variety of designs, products, discounts etc., and make our work easy. If there was 3.5 rating, that would be my option. But now, it's 3.Flag This ReviewIrrelevantFakeJunk   Thank You! We appreciate your effort.\",\n",
              "  array([-3.157742  , -0.8435519 , -0.63998854], dtype=float32),\n",
              "  2,\n",
              "  'Positive'),\n",
              " ('One of the cheapest company I ever know, They never care of their customers. I lost my washing machine due to their own profit policy.Flag This ReviewIrrelevantFakeJunk   Thank You! We appreciate your effort.',\n",
              "  array([-0.03849668, -3.4536655 , -5.0936494 ], dtype=float32),\n",
              "  0,\n",
              "  'Negative'),\n",
              " ('Flipkart Mobile Exchange Scheme is a fraud scheme.. They will show value of your old handset as Rs 5000.. And when they come to exchange it will say its only worth Rs 1000.They will ask you for extra amount... Flipkart is doing fraud and cheating customers saying old phone has scratches. As if they want us to give new phone in exchange.Do not buy mobiles online because their vendors sell Refurbished Mobiles.Flag This ReviewIrrelevantFakeJunk   Thank You! We appreciate your effort.',\n",
              "  array([-0.02878338, -3.7067714 , -5.568441  ], dtype=float32),\n",
              "  0,\n",
              "  'Negative'),\n",
              " ('Hello Everybody My name is Nawed Akhtar, i hope you guys doing well and enjoying my reviews.I am here to tell you that Is flipkart is safe for online shopping?Yes it is safe because I have been using for last 2 years and I am fully satisfied.When I used to buy product from flipkart on that I am totally confused that is there any scam on it also when I ordered my first shoes it was disappointing.After a month again I ordered Tripod  this time it was good after that I regularly checked offers on the product that is available on flipkart and bought awesome  product at cheap rate. Here I would like to mention points that why you should use flipkart.1.Good products are available at cheaper rate.2.If you want to know the product details it has already mentioned.3.Delivery happens very quickly(within 3-4days).4.You can exchange their product.5.You can delay your order for required  time.6.There is return or relplacement policy if you are not satisfied with products.7.You can track your orders.8.Packing is too good.So above what I write that is from my experience and I hope you guys like it. Thanks to allFlag This ReviewIrrelevantFakeJunk   Thank You! We appreciate your effort.',\n",
              "  array([-2.9767022, -1.0252732, -0.527055 ], dtype=float32),\n",
              "  2,\n",
              "  'Positive'),\n",
              " ('Flipkart is very genuine app for online shopping .main featurevis that they sold only good quality product with reasonable value. Im purchased many products in flipkart .so nice app I like it .Flag This ReviewIrrelevantFakeJunk   Thank You! We appreciate your effort.',\n",
              "  array([-3.3236856 , -1.3137912 , -0.36358297], dtype=float32),\n",
              "  2,\n",
              "  'Positive'),\n",
              " ('This company is full of thieves and cheaters. My experience is such a tragic one I would never forgive these basstards they stole my money and did not deliver my product. I asked for a refund and they are not even ready to offer me my money back. I ordered a laptop key board skin through flipkart and initially selected the payment mode as cash on delivery(COD) but as the product reached the destination delivery center they enabled the option of payment through the Debit / Credit card or any other payment system available. Now I made the payment of the product through the debit card on the day of delivery as I was short of exact change and it got debited successfully from my bank account. But after the payment was done the flipkart app started displaying me message saying that \"Payment was successful. But we are awaiting confirmation from our courier partner\". I don\\'t understand what the hell they have to confirm from the courier partner as I have made the payment using their mobile app and not their courier partners. The worst thing happened when their courier agent came to deliver the product I told that ashhole that I have already made the payment to Flipkart for the product and even showed him all the messages that I received from Bank and Flipkart instead he started demanding cash from me for the product when I denied paying him for the second time he started speaking to me very arrogantly and simply went back without handing me the product. Now, when I spoke to the Flipkart agent they started saying that the payment I made to them is successfully displayed in their system but we still need confirmation from the courier team and it\\'s almost more than a week now and still my problem is unresolved everyday I spend hours and hours talking to these ashholes yet they spit out the same story that I see in their mobile app. I humbly urge all indians who believe the trauma that I going through here and request everyone to  strictly ban such an unworthy company who steal peoples money and do not give them their products nor refund their money that the customer paid to purchase the product. My brother faced a similar such incident with Flipkart for Rs.2200 product that he purchased and it is 3 years now that he hadn\\'t received the refund from this company mine is still a cheaper amount when compared to my brother. I find AMAZON to be the best ecommerce company as I have never ever faced any such transaction related issues neither any misbehavior with the customer during my entire shopping experience of 10 years.Flag This ReviewIrrelevantFakeJunk   Thank You! We appreciate your effort.',\n",
              "  array([-0.03491346, -3.5248885 , -5.3275495 ], dtype=float32),\n",
              "  0,\n",
              "  'Negative'),\n",
              " ('I am a valuable customer of flipkart. But Flipkart is fraud channel Partner and Flipkart does not solve my issue before 11 days . Flipkart logistic partner will be not working properly and customer told that you can visit my address to pickup the product.But he was rejected the pickup request.flipkart Manager will not able to handle customer problem.Mr Ravi told you can wait 24-48 hours to your problem . Flipkart making the customer fool.Flag This ReviewIrrelevantFakeJunk   Thank You! We appreciate your effort.',\n",
              "  array([-0.03624922, -3.4623466 , -5.46225   ], dtype=float32),\n",
              "  0,\n",
              "  'Negative'),\n",
              " (\"Recently purchased a Lava Z92 brand Indian Phone through Flipkart as the near by show rooms didn't have the model that I was requesting. Customer Service, Product Quality, Delivery Timeliness were all great.Flag This ReviewIrrelevantFakeJunk   Thank You! We appreciate your effort.\",\n",
              "  array([-4.048249  , -1.2664828 , -0.35563838], dtype=float32),\n",
              "  2,\n",
              "  'Positive'),\n",
              " (\"I have used this shopping site many times for online shopping and I'm really very satisfied with each and every order.their customer service is good as I have called in it many times they used to talk with me in a friendly manner and for my each and every order I have got it in promised time and the quality of their product Is really appreciable and the delivery boy is also friendly, I will recommend all to buy product from this siteFlag This ReviewIrrelevantFakeJunk   Thank You! We appreciate your effort.\",\n",
              "  array([-4.1079288 , -1.5640376 , -0.25583607], dtype=float32),\n",
              "  2,\n",
              "  'Positive'),\n",
              " (\"Hi sir I order moupin botton camara I receive but it's defective &after I return back 2nd time also defective item received after I called customer care they are telling your amount refund and next day it's not refund what's I'd this Flipkart chitted to customer amount and they are not resolve the issue very bad service not yet refound not yet replace the item please do the need full my money it's not one or two rupees it's 600 hundred RSFlag This ReviewIrrelevantFakeJunk   Thank You! We appreciate your effort.\",\n",
              "  array([-0.03837198, -3.391638  , -5.5235457 ], dtype=float32),\n",
              "  0,\n",
              "  'Negative'),\n",
              " ('Flipkart is the best online shopping website.i like this online shopping website.i buy any product.iFlag This ReviewIrrelevantFakeJunk   Thank You! We appreciate your effort.',\n",
              "  array([-3.9405856, -1.4469581, -0.2939976], dtype=float32),\n",
              "  2,\n",
              "  'Positive'),\n",
              " ('My personal experience with Flipkart as Fraud company.  I have been cheated many times.  This company is not completing the order and never refunding the amount.  After complaint first they never except the transition completed and after you submit the all proof like bank statement they will agree and will ask you to wait for 10-20 working days time.  After expiry the days again when you followup they will give you another resolution date.  After many dates passed you never get the refund amount.  And if you followup they may ask you your personal bank statement, credit card statement means just they want to push back the complaint.  But at last I would like to say never you get refunded amount for order those was not completed.Flag This ReviewIrrelevantFakeJunk   Thank You! We appreciate your effort.',\n",
              "  array([-0.0318049, -3.604133 , -5.4983635], dtype=float32),\n",
              "  0,\n",
              "  'Negative'),\n",
              " (\"I recently ordered Realme 5s with a mobile exchange and had the worst experience imaginable.The mobile was a birthday gift for my grandmother and I wanted to surprise her with a new phone, everything was going as per plan.On the delivery day, the delivery boy(Ajay Kumar) said he won't be able to take the phone as it was not turning on and as per policy, he won't exchange it. My mother requested him by explaining that the battery might be dead and if he can w8 he can see that the phone is working fine. He left and said he'll return in 15mins.He came back and I was there seeing him scraping the phone for 15mins to find any scratch or cut and said if you want the mobile pay the total amount or it will be his loss as he has to take the phone back to the company because of the policy. The mobile was in good condition and bearing no cuts or scratches worth denying the exchange.He left, and even after complaining about the incident to the help center none of the issues were getting resolved. I shared the pictures of my phone with them and without any comment validating any problem with my device they just denied my request claiming it to be company policy.The phone was out of stock the next moment, but I was able to do a successful transaction after some time on the official realme website with the mobile exchange.I've done several online transactions on Amazon even the mobile exchange ones, sometimes the cost might be a little bit more when compared to Flipkart, but I never faced any bad service or unjust treatment from amazon.Flag This ReviewIrrelevantFakeJunk   Thank You! We appreciate your effort.\",\n",
              "  array([-0.03609435, -3.5249412 , -5.116471  ], dtype=float32),\n",
              "  0,\n",
              "  'Negative'),\n",
              " ('The products that buy from flipkart are so good. And the delivery time also lesser than other online shoppers .the packing of it also greatFlag This ReviewIrrelevantFakeJunk   Thank You! We appreciate your effort.',\n",
              "  array([-3.3716104 , -0.89845985, -0.5825555 ], dtype=float32),\n",
              "  2,\n",
              "  'Positive'),\n",
              " ('Flipkart delivery service awesome and they provided good quality product I am using flipkart around 3 4 years it is very good for online shoppingFlag This ReviewIrrelevantFakeJunk   Thank You! We appreciate your effort.',\n",
              "  array([-3.6061563 , -1.2136667 , -0.39194977], dtype=float32),\n",
              "  2,\n",
              "  'Positive'),\n",
              " ('THEY PROVIDE VERY BAD SEVICES EVEN THEY SHOW RETURN POLICY BUT THEY DONT RETURN ANYTHING .DONT BUY ANYTHING FROM FLIPKART I GOT DISAPPOINTED  MANY TIME.SO IF YOU WANT TO DO ONLINE SHOPPING THEN GO TO AMAZON.Flag This ReviewIrrelevantFakeJunk   Thank You! We appreciate your effort.',\n",
              "  array([-0.0347737, -3.5612705, -5.15451  ], dtype=float32),\n",
              "  0,\n",
              "  'Negative'),\n",
              " ('Quality and products delivered at right time nice packing good services overall cod or upon pay they bring by shipping right time for deliveryFlag This ReviewIrrelevantFakeJunk   Thank You! We appreciate your effort.',\n",
              "  array([-3.5114753, -1.3474668, -0.3421391], dtype=float32),\n",
              "  2,\n",
              "  'Positive'),\n",
              " ('It is the Indias largest online shopping market, it is a multinational company its products are really good and and the products delivered in timely.Flag This ReviewIrrelevantFakeJunk   Thank You! We appreciate your effort.',\n",
              "  array([-3.654871  , -1.1509724 , -0.41884506], dtype=float32),\n",
              "  2,\n",
              "  'Positive'),\n",
              " (\"I recently decided to book a flight from Flipkart(Don't ask why as I'm still wondering why). This flight got cancelled and I should be eligible for a full refund. Instead Flipkart gave me a partial refund and makes me do round trips with the airline customer service(our very own Air India) to get a proof that the flight was cancelled. Every customer support rep has been thoroughly trained to say sorry but not do anything to help the customer. On one hand, MakeMyTrip provided me with the complete refund within minutes of my initiating a cancellation, out flipkart continues to bestow more frustration upon me and I have finally given up on receiving the refund amount and took to mouth shut.Please don't go for flipkart flights as they are the most unreliable and lethargic customer service company that could exist.Flag This ReviewIrrelevantFakeJunk   Thank You! We appreciate your effort.\",\n",
              "  array([-0.03157219, -3.6312838 , -5.3823786 ], dtype=float32),\n",
              "  0,\n",
              "  'Negative'),\n",
              " ('Poor service or u can say the worst service they are offering.I ordered one product from Flipkart and they delivered a broken productFlag This ReviewIrrelevantFakeJunk   Thank You! We appreciate your effort.',\n",
              "  array([-0.03319279, -3.5760972 , -5.368041  ], dtype=float32),\n",
              "  0,\n",
              "  'Negative'),\n",
              " (\"Hi All. If you want to be harassed royally, you can continue to shop on Flipkart. Wrong product delivered not once but 4 times. Earlier they sent me wrong size twice. Now wrong color twice. 4 times return. Can you imagine the harassment. I am a Flipkart first customer and shopped items worth lakhs.During the third time return, I told the executive clearly to inform seller and ensure I do not get wrong product again, but then it happens again.And they say they have nothing to do with seller, its our fate. They say don't have any connection with them at all though they have margin in the sale, they do not want to take any responsibility. All they can do is a refund. As if they are doing a favour by returning our own money back. Pathetic and indifferent. Forget this shitty service and better shop on amazon.Flag This ReviewIrrelevantFakeJunk   Thank You! We appreciate your effort.\",\n",
              "  array([-0.03059998, -3.6410534 , -5.543731  ], dtype=float32),\n",
              "  0,\n",
              "  'Negative'),\n",
              " ('Dear all beware of buying anything from flipkart .Flipkart sent an accessory box without iphone 8 plus and its been 3 months for me chasing down the customer supprot team but everytime they said sorry .I provide everything to them but still they keep lying to me taht seller refused my replacement request .on the other hand according to seller flipkart never contacted them regarding my request.i provide them Fir and all my identity requests but still same reply that seller can not accept my request.Flag This ReviewIrrelevantFakeJunk   Thank You! We appreciate your effort.',\n",
              "  array([-0.03254115, -3.5493994 , -5.7212887 ], dtype=float32),\n",
              "  0,\n",
              "  'Negative'),\n",
              " (\"Dear Flipkart Team,Let me explain one recent another example of worst services provided this time again.In my laws family, One Havells 15L storage Water geyser(Adonia Digital White) was ordered on 28th Nov 2019 and it got delivered on 05th Dec. It was Prepaid by Credit card worth Rs. 11710/-. Order number is OD117173711085622000. This order was placed from 8521975695 and mail id is kumarasutosh2014@gmail.com. Since we found that it was defective product so we mark return policy on Flipkart on 12th Dec where we were intimated for return approval and it was supposed to be picked up before 25th Dec but without any prior intimation this return policy got cancelled. Again it has been marked for return but this time it has been mentioned 17th Jan 2020. Tell me what is guarantee that this time it won't be cancelled and who has authorized you guys to do whatever you wish without customer knowledge.When we do purchase anything we do get proper notification but while cancellation of anything why we don't receive any notification. This repeat incidents shows lethargic attitude of Flipkart towards their valuable customer. Really unable to understand what happened to Flipkart these days.Yesterday I had telecom communication with Customer care executive, in spite of presenting any solution always they do say SORRY. Now their or your SORRY can't resolve my issue and this time Rs. 11710/- is not a small amount and I believe this amount can be salary of your junior level employee, isn't it?This is high time that's why I have to write mail today. We are quite valuable customer for Flipkart since long time back. You can check our number's in your system if you have data such as 9065490396, 7549052127 etc. Being as Corporate company you can't do anything wrong with your any of customer.Now request you to revert me on mail when you guys are going to refund our payment? You do refund this amount and pick up your stuff whenever you want.Looking forward quick and positive response or else we can proceed further to Consumer forum for legal notice. Flag This ReviewIrrelevantFakeJunk   Thank You! We appreciate your effort.\",\n",
              "  array([-0.03744334, -3.4278634 , -5.4503555 ], dtype=float32),\n",
              "  0,\n",
              "  'Negative'),\n",
              " ('Ordered 2 items, received only 1 item. Customer care is pathetic. asking me to raise multiple tickets, and no response for 10 days. case closed as resolved. seller rejected refund. etc., etc., asked me to provide so much information including bank accounts. have to provide repeated information everytime. even when I called customer care call disconnected. worst shopping experience ever. never buy from flipkart.Flag This ReviewIrrelevantFakeJunk   Thank You! We appreciate your effort.',\n",
              "  array([-0.04099109, -3.3270762 , -5.4574485 ], dtype=float32),\n",
              "  0,\n",
              "  'Negative'),\n",
              " ('Very bad delivery and pick up by courier man the item is damaged not to trust Flipkart and sale man iam really fooled by this service.Flag This ReviewIrrelevantFakeJunk   Thank You! We appreciate your effort.',\n",
              "  array([-0.03772899, -3.4263349 , -5.3991733 ], dtype=float32),\n",
              "  0,\n",
              "  'Negative'),\n",
              " ('Today, instead of traditional shopping, people do digital or online shopping because it is very easy. Anyone can do online shopping anytime and from anywhere. If you want to do online shopping, Flipkart is the best choice. Flipkart includes all type of products likeKitchen productsSports accessoriesBooksClothesCosmeticselectronic gadgetsFurnitures, Etc.Just like offline store Flipkart put season sale which is the best part of it. In INDIA, it is the best online shopping site. Personally I  use only Flipkart because it has genuine products and best quality of products and the main thing is its shipping service which is reay best. So, use Flipkart.Flag This ReviewIrrelevantFakeJunk   Thank You! We appreciate your effort.',\n",
              "  array([-3.6413126 , -1.3663785 , -0.33023715], dtype=float32),\n",
              "  2,\n",
              "  'Positive'),\n",
              " (\"Flipkart is a superb online marketing site. I usually use it through the android app. The products that we buy from this sites are  shipped with in no time lapse. Home delivery is also available. It's so helpful for us to buy products. Products are almost keep good quality.Flag This ReviewIrrelevantFakeJunk   Thank You! We appreciate your effort.\",\n",
              "  array([-3.9484096 , -1.3399593 , -0.33009097], dtype=float32),\n",
              "  2,\n",
              "  'Positive'),\n",
              " ('I bought a 32 inch ledi was not satisfied with the picture quality so i request flipkart to upgrade my model into full hd or 4k i will pay the remaining amount. But they clearly refuse to upgrade or refund my product. Im completely very dissatisfied with the service andi wasted my hardly earned money Rs 15000 which was my whole months salaryI will never recommend my friend or family to shop next time with flipkartFlag This ReviewIrrelevantFakeJunk   Thank You! We appreciate your effort.',\n",
              "  array([-0.03838976, -3.4181902 , -5.3204575 ], dtype=float32),\n",
              "  0,\n",
              "  'Negative'),\n",
              " ('Flip kart is a good cash on delivery available. ans more exchange offers and returns.one of the best online shopping market on worldsFlag This ReviewIrrelevantFakeJunk   Thank You! We appreciate your effort.',\n",
              "  array([-3.8300245 , -1.1246356 , -0.42538193], dtype=float32),\n",
              "  2,\n",
              "  'Positive'),\n",
              " ('Flipkart is best app because of they giving genuine product also their delivery is very fast and also their products are good qualityFlag This ReviewIrrelevantFakeJunk   Thank You! We appreciate your effort.',\n",
              "  array([-3.8500617 , -1.164346  , -0.40557286], dtype=float32),\n",
              "  2,\n",
              "  'Positive'),\n",
              " ('I have been cheated by this flipkart and I was insulted by there agent by speeking very ruad on methey are making frauds very intelegently by not providing clear information for there productsFlag This ReviewIrrelevantFakeJunk   Thank You! We appreciate your effort.',\n",
              "  array([-0.04116488, -3.3002594 , -5.6677966 ], dtype=float32),\n",
              "  0,\n",
              "  'Negative'),\n",
              " ('Hi   Dear  frinds the FLIPCART  online product  save money and time ... and vary good product of this flipcart evary produt people are older this campany  as your like selected  items and more functions.. modan dress home products and etc....  dalivary oder time to 6 days onlyFlag This ReviewIrrelevantFakeJunk   Thank You! We appreciate your effort.',\n",
              "  array([-3.2838135, -0.9873407, -0.5277195], dtype=float32),\n",
              "  2,\n",
              "  'Positive'),\n",
              " (\"Hi All,I have ordered Honor 20i in Flipkart on December 23, 2019 the product was delivered on December 25, 2019.The inner package original product box found tampered(seal broken) and the quality checking sticker was pasted with cello tape.I have informed the Flipkart people clearly I want a replacement of the product from a different seller(if the cost is high also I will pay the balance money) if not from the different seller I need my money back.but Flipkart is sending me the product from the same seller.Don't use Flipkart so please purchase from the local vendors or showrooms like poorvika, sangeetha for mobile purchase.Flag This ReviewIrrelevantFakeJunk   Thank You! We appreciate your effort.\",\n",
              "  array([-0.03291691, -3.5565705 , -5.561117  ], dtype=float32),\n",
              "  0,\n",
              "  'Negative'),\n",
              " (\"Flipkart is Indian answer to global ecommerce giant Amazon. I have made several purchase on flipkart and I was always satisfied with overall process of purchase.I love the UI and UX of flipkart in my opinion flipkart's UI and UX on website and App is best in the world.They offer great discount time to time but you need to be careful as sometimes they change the price to offer discount. For example a product being sold for MRP 500Rs. will be sold for 490/- but they will show you MRP of the product as 700/- Rs. that way they play psychological game with you.I know most ecommerce use this strategy but user should be aware about this.Their shipping is very fast most of the time they deliver before expected delivery date.Overall you can trust FlipkartFlag This ReviewIrrelevantFakeJunk   Thank You! We appreciate your effort.\",\n",
              "  array([-3.1740456, -1.0455097, -0.4997977], dtype=float32),\n",
              "  2,\n",
              "  'Positive'),\n",
              " ('Flipcart is the best site for online shopping and buy things what we like and get products at our homeFlag This ReviewIrrelevantFakeJunk   Thank You! We appreciate your effort.',\n",
              "  array([-3.45546   , -1.084356  , -0.46154705], dtype=float32),\n",
              "  2,\n",
              "  'Positive'),\n",
              " (\"Worsed ever  online market place to purchase any item through online portal. Don't trust there fake words and promises and the mail reason behind they falling down in India. Market is due to lack of  information and knowledge about the product an dthere delivery timings  which no one ever knows.....and if in any case you go to the support team they will always have technical issue and they can never help you in solving you problem and by any chance if they understand your problem then also they will do nothing to solve it. Be aware of Flipkart and there team.Flag This ReviewIrrelevantFakeJunk   Thank You! We appreciate your effort.\",\n",
              "  array([-0.03402216, -3.5343132 , -5.4558697 ], dtype=float32),\n",
              "  0,\n",
              "  'Negative'),\n",
              " ('So unprofessional people no body know when the item will be delivered. Just fake promises on website.Flag This ReviewIrrelevantFakeJunk   Thank You! We appreciate your effort.',\n",
              "  array([-0.03810545, -3.4049373 , -5.4775386 ], dtype=float32),\n",
              "  0,\n",
              "  'Negative'),\n",
              " ('Ordered wardrobe for 2 times.no assurance is done before packing.all time damage product i recieved.really fed up of it.please dont buy furniture from flipkart.Flag This ReviewIrrelevantFakeJunk   Thank You! We appreciate your effort.',\n",
              "  array([-0.04112415, -3.3563445 , -5.2162714 ], dtype=float32),\n",
              "  0,\n",
              "  'Negative'),\n",
              " (\"I have purchase Redme 8 phone on Flipkart, But I have received only blank box, please don't buy on flipkart site, i will requested to all please don't buy, hate flipkart.Flag This ReviewIrrelevantFakeJunk   Thank You! We appreciate your effort.\",\n",
              "  array([-0.04535281, -3.233987  , -5.31046   ], dtype=float32),\n",
              "  0,\n",
              "  'Negative'),\n",
              " ('Delay is the second name of flipkartwhen you buy anything please be prepared to wait.My sob story and how Iâ\\x80\\x99ve been victimised by cheating website called flipkart. Iâ\\x80\\x99m exploring my legal options.Iâ\\x80\\x99ve placed an order for a mobile phone on this website for the first time and not yet received the product. It is a really bad idea to buy anything from it if you are planing to gift it to your loved once. Customer service is worst and the shipping service will not give you option to track the product.Order ID - OD117350740283374000now customer service wants me to wait until 26 th which is worst part.Flag This ReviewIrrelevantFakeJunk   Thank You! We appreciate your effort.',\n",
              "  array([-0.02637476, -3.7818754 , -5.72908   ], dtype=float32),\n",
              "  0,\n",
              "  'Negative'),\n",
              " ...]"
            ]
          },
          "metadata": {
            "tags": []
          },
          "execution_count": 36
        }
      ]
    },
    {
      "cell_type": "code",
      "metadata": {
        "id": "pQV2HeRBxWdP",
        "colab": {
          "base_uri": "https://localhost:8080/",
          "height": 423
        },
        "outputId": "9e33482d-b0ad-43ff-c0e2-a24fac833c37"
      },
      "source": [
        "reviewCls=[]\n",
        "for i in predictions:\n",
        "    reviewCls.append(i[3])\n",
        "  \t#print (i[3], end =\"\\n\")\n",
        "df['reviewCls']=reviewCls\n",
        "df.head(100)"
      ],
      "execution_count": null,
      "outputs": [
        {
          "output_type": "execute_result",
          "data": {
            "text/html": [
              "<div>\n",
              "<style scoped>\n",
              "    .dataframe tbody tr th:only-of-type {\n",
              "        vertical-align: middle;\n",
              "    }\n",
              "\n",
              "    .dataframe tbody tr th {\n",
              "        vertical-align: top;\n",
              "    }\n",
              "\n",
              "    .dataframe thead th {\n",
              "        text-align: right;\n",
              "    }\n",
              "</style>\n",
              "<table border=\"1\" class=\"dataframe\">\n",
              "  <thead>\n",
              "    <tr style=\"text-align: right;\">\n",
              "      <th></th>\n",
              "      <th>EcommerceSite</th>\n",
              "      <th>ReviewId</th>\n",
              "      <th>title_text</th>\n",
              "      <th>Review</th>\n",
              "      <th>Label</th>\n",
              "      <th>reviewCls</th>\n",
              "    </tr>\n",
              "  </thead>\n",
              "  <tbody>\n",
              "    <tr>\n",
              "      <th>0</th>\n",
              "      <td>Flipkart.com</td>\n",
              "      <td>925076148</td>\n",
              "      <td>Flipkart not provide service</td>\n",
              "      <td>Flipkart not delivered thinks in even smoll to...</td>\n",
              "      <td>1</td>\n",
              "      <td>Positive</td>\n",
              "    </tr>\n",
              "    <tr>\n",
              "      <th>1</th>\n",
              "      <td>Flipkart.com</td>\n",
              "      <td>925076148</td>\n",
              "      <td>Account has not working</td>\n",
              "      <td>Dear sirMy account not working please re-activ...</td>\n",
              "      <td>1</td>\n",
              "      <td>Negative</td>\n",
              "    </tr>\n",
              "    <tr>\n",
              "      <th>2</th>\n",
              "      <td>Flipkart.com</td>\n",
              "      <td>925076148</td>\n",
              "      <td>Painted black rice</td>\n",
              "      <td>POISON! When I opened the packet there was a s...</td>\n",
              "      <td>0</td>\n",
              "      <td>Negative</td>\n",
              "    </tr>\n",
              "    <tr>\n",
              "      <th>3</th>\n",
              "      <td>Flipkart.com</td>\n",
              "      <td>925076148</td>\n",
              "      <td>Its a Flopkart</td>\n",
              "      <td>Mostly you are on luck when you order from Fli...</td>\n",
              "      <td>0</td>\n",
              "      <td>Negative</td>\n",
              "    </tr>\n",
              "    <tr>\n",
              "      <th>4</th>\n",
              "      <td>Flipkart.com</td>\n",
              "      <td>925076148</td>\n",
              "      <td>Flipkart failed to deliver my order</td>\n",
              "      <td>Flipkart failed to deliver my order twice and ...</td>\n",
              "      <td>0</td>\n",
              "      <td>Negative</td>\n",
              "    </tr>\n",
              "    <tr>\n",
              "      <th>...</th>\n",
              "      <td>...</td>\n",
              "      <td>...</td>\n",
              "      <td>...</td>\n",
              "      <td>...</td>\n",
              "      <td>...</td>\n",
              "      <td>...</td>\n",
              "    </tr>\n",
              "    <tr>\n",
              "      <th>95</th>\n",
              "      <td>Flipkart.com</td>\n",
              "      <td>925076148</td>\n",
              "      <td>Not bad at all times</td>\n",
              "      <td>I have seen people's opinion, more people are ...</td>\n",
              "      <td>1</td>\n",
              "      <td>Positive</td>\n",
              "    </tr>\n",
              "    <tr>\n",
              "      <th>96</th>\n",
              "      <td>Flipkart.com</td>\n",
              "      <td>925076148</td>\n",
              "      <td>Flipkart Travel is a scam !</td>\n",
              "      <td>I had booked a flight via Flipkart Travel from...</td>\n",
              "      <td>0</td>\n",
              "      <td>Negative</td>\n",
              "    </tr>\n",
              "    <tr>\n",
              "      <th>97</th>\n",
              "      <td>Flipkart.com</td>\n",
              "      <td>925076148</td>\n",
              "      <td>Delivered wrong products 2 consecutive times</td>\n",
              "      <td>What I experienced after using Flipkart and Am...</td>\n",
              "      <td>0</td>\n",
              "      <td>Negative</td>\n",
              "    </tr>\n",
              "    <tr>\n",
              "      <th>98</th>\n",
              "      <td>Flipkart.com</td>\n",
              "      <td>925076148</td>\n",
              "      <td>Think before buying Apple products from Flipkart</td>\n",
              "      <td>Flipkart claims itself to be a brand partner o...</td>\n",
              "      <td>0</td>\n",
              "      <td>Negative</td>\n",
              "    </tr>\n",
              "    <tr>\n",
              "      <th>99</th>\n",
              "      <td>Flipkart.com</td>\n",
              "      <td>925076148</td>\n",
              "      <td>Best in products</td>\n",
              "      <td>One of the best app for shopping. While shoppi...</td>\n",
              "      <td>1</td>\n",
              "      <td>Positive</td>\n",
              "    </tr>\n",
              "  </tbody>\n",
              "</table>\n",
              "<p>100 rows × 6 columns</p>\n",
              "</div>"
            ],
            "text/plain": [
              "   EcommerceSite   ReviewId  ... Label reviewCls\n",
              "0   Flipkart.com  925076148  ...     1  Positive\n",
              "1   Flipkart.com  925076148  ...     1  Negative\n",
              "2   Flipkart.com  925076148  ...     0  Negative\n",
              "3   Flipkart.com  925076148  ...     0  Negative\n",
              "4   Flipkart.com  925076148  ...     0  Negative\n",
              "..           ...        ...  ...   ...       ...\n",
              "95  Flipkart.com  925076148  ...     1  Positive\n",
              "96  Flipkart.com  925076148  ...     0  Negative\n",
              "97  Flipkart.com  925076148  ...     0  Negative\n",
              "98  Flipkart.com  925076148  ...     0  Negative\n",
              "99  Flipkart.com  925076148  ...     1  Positive\n",
              "\n",
              "[100 rows x 6 columns]"
            ]
          },
          "metadata": {
            "tags": []
          },
          "execution_count": 37
        }
      ]
    },
    {
      "cell_type": "code",
      "metadata": {
        "id": "jTr23O_739Nk",
        "colab": {
          "base_uri": "https://localhost:8080/",
          "height": 393
        },
        "outputId": "ee242743-57e8-40d5-b51b-17dcfa6a7e59"
      },
      "source": [
        "options = ['Positive', 'Negative'] \n",
        "df_overall = df[df['reviewCls'].isin(options)] \n",
        "df_overall.drop(['Label'], axis = 1, inplace = True)\n",
        "#Label as 0-Negative, 1-Neutral, 2-Positive\n",
        "df_overall['reviewCls'] = df_overall['reviewCls'].apply(lambda x: 0 if x=='Negative' else 1)\n",
        "df_overall['title_text']=df_overall['title_text'].str.lower()\n",
        "df_delivery=df_overall[df_overall['title_text'].str.contains('delivery')]\n",
        "df_quality=df_overall[df_overall['title_text'].str.contains('quality')]\n",
        "df_support=df_overall[df_overall['title_text'].str.contains('support')]\n",
        "df_pricing=df_overall[(df_overall['title_text'].str.contains('pricing')) | (df_overall['title_text'].str.contains('price')) | (df_overall['title_text'].str.contains('cost'))]\n",
        "site_ids=[]\n",
        "site_overallRatings=[]\n",
        "site_overallRatingStar=[]\n",
        "site_qualityRatings=[]\n",
        "site_deliveryRatings=[]\n",
        "site_supportRatings=[]\n",
        "site_pricingRatings=[]\n",
        "site_ids.append(df_overall['EcommerceSite'].iloc[0].lower())\n",
        "overallRateCalc=round(float(df_overall['reviewCls'].sum()/df_overall['reviewCls'].count()) * 5,0)\n",
        "site_overallRatingStar.append(overallRateCalc)\n",
        "site_overallRatings.append('Overall Rating '+(str(overallRateCalc) + ' based on '+str(df_overall['reviewCls'].count()) +' review comments.').replace('nan','0'))\n",
        "site_deliveryRatings.append((str(round(float(df_delivery['reviewCls'].sum()/df_delivery['reviewCls'].count()) * 100,1)) + '% Out of '+str(df_delivery['reviewCls'].count()) +' reviews').replace('nan','0'))\n",
        "site_qualityRatings.append((str(round(float(df_quality['reviewCls'].sum()/df_quality['reviewCls'].count()) * 100,1)) + '% Out of '+str(df_quality['reviewCls'].count()) +' reviews').replace('nan','0'))\n",
        "site_supportRatings.append((str(round(float(df_support['reviewCls'].sum()/df_support['reviewCls'].count()) * 100,1)) + '% Out of '+str(df_support['reviewCls'].count()) +' reviews').replace('nan','0'))\n",
        "site_pricingRatings.append((str(round(float(df_pricing['reviewCls'].sum()/df_pricing['reviewCls'].count()) * 100,1)) + '% Out of '+str(df_pricing['reviewCls'].count()) +' reviews').replace('nan','0'))\n",
        "\n",
        "final_df=pd.DataFrame(site_ids, columns=['site_id'])\n",
        "final_df['overallRating']=site_overallRatings\n",
        "final_df['site_overallRatingStar']=site_overallRatingStar\n",
        "final_df['deliveryRating']=site_deliveryRatings\n",
        "final_df['supportRating']=site_supportRatings\n",
        "final_df['pricingRating']=site_pricingRatings\n",
        "final_df['qualityRating']=site_qualityRatings\n",
        "\n",
        "final_df.head(200)\n",
        "#print(float(df_quality['reviewCls'].sum()/df_quality['reviewCls'].count()))"
      ],
      "execution_count": null,
      "outputs": [
        {
          "output_type": "stream",
          "text": [
            "/usr/local/lib/python3.7/dist-packages/pandas/core/frame.py:4174: SettingWithCopyWarning: \n",
            "A value is trying to be set on a copy of a slice from a DataFrame\n",
            "\n",
            "See the caveats in the documentation: https://pandas.pydata.org/pandas-docs/stable/user_guide/indexing.html#returning-a-view-versus-a-copy\n",
            "  errors=errors,\n",
            "/usr/local/lib/python3.7/dist-packages/ipykernel_launcher.py:5: SettingWithCopyWarning: \n",
            "A value is trying to be set on a copy of a slice from a DataFrame.\n",
            "Try using .loc[row_indexer,col_indexer] = value instead\n",
            "\n",
            "See the caveats in the documentation: https://pandas.pydata.org/pandas-docs/stable/user_guide/indexing.html#returning-a-view-versus-a-copy\n",
            "  \"\"\"\n",
            "/usr/local/lib/python3.7/dist-packages/ipykernel_launcher.py:6: SettingWithCopyWarning: \n",
            "A value is trying to be set on a copy of a slice from a DataFrame.\n",
            "Try using .loc[row_indexer,col_indexer] = value instead\n",
            "\n",
            "See the caveats in the documentation: https://pandas.pydata.org/pandas-docs/stable/user_guide/indexing.html#returning-a-view-versus-a-copy\n",
            "  \n"
          ],
          "name": "stderr"
        },
        {
          "output_type": "execute_result",
          "data": {
            "text/html": [
              "<div>\n",
              "<style scoped>\n",
              "    .dataframe tbody tr th:only-of-type {\n",
              "        vertical-align: middle;\n",
              "    }\n",
              "\n",
              "    .dataframe tbody tr th {\n",
              "        vertical-align: top;\n",
              "    }\n",
              "\n",
              "    .dataframe thead th {\n",
              "        text-align: right;\n",
              "    }\n",
              "</style>\n",
              "<table border=\"1\" class=\"dataframe\">\n",
              "  <thead>\n",
              "    <tr style=\"text-align: right;\">\n",
              "      <th></th>\n",
              "      <th>site_id</th>\n",
              "      <th>overallRating</th>\n",
              "      <th>site_overallRatingStar</th>\n",
              "      <th>deliveryRating</th>\n",
              "      <th>supportRating</th>\n",
              "      <th>pricingRating</th>\n",
              "      <th>qualityRating</th>\n",
              "    </tr>\n",
              "  </thead>\n",
              "  <tbody>\n",
              "    <tr>\n",
              "      <th>0</th>\n",
              "      <td>flipkart.com</td>\n",
              "      <td>Overall Rating 1.0 based on 1577 review comments.</td>\n",
              "      <td>1.0</td>\n",
              "      <td>20.2% Out of 119 reviews</td>\n",
              "      <td>12.9% Out of 31 reviews</td>\n",
              "      <td>33.3% Out of 15 reviews</td>\n",
              "      <td>20.0% Out of 20 reviews</td>\n",
              "    </tr>\n",
              "  </tbody>\n",
              "</table>\n",
              "</div>"
            ],
            "text/plain": [
              "        site_id  ...            qualityRating\n",
              "0  flipkart.com  ...  20.0% Out of 20 reviews\n",
              "\n",
              "[1 rows x 7 columns]"
            ]
          },
          "metadata": {
            "tags": []
          },
          "execution_count": 45
        }
      ]
    },
    {
      "cell_type": "code",
      "metadata": {
        "id": "iZvTN5Yrukw3",
        "colab": {
          "base_uri": "https://localhost:8080/",
          "height": 17
        },
        "outputId": "529b90af-594a-40c3-b4b5-500ae05269c8"
      },
      "source": [
        "final_df.to_csv('final_df.csv', index = False)\n",
        "files.download(\"final_df.csv\")\n",
        "df.to_csv('df_modified.csv', index = False)\n",
        "files.download(\"df_modified.csv\")\n",
        "\n"
      ],
      "execution_count": null,
      "outputs": [
        {
          "output_type": "display_data",
          "data": {
            "application/javascript": [
              "\n",
              "    async function download(id, filename, size) {\n",
              "      if (!google.colab.kernel.accessAllowed) {\n",
              "        return;\n",
              "      }\n",
              "      const div = document.createElement('div');\n",
              "      const label = document.createElement('label');\n",
              "      label.textContent = `Downloading \"${filename}\": `;\n",
              "      div.appendChild(label);\n",
              "      const progress = document.createElement('progress');\n",
              "      progress.max = size;\n",
              "      div.appendChild(progress);\n",
              "      document.body.appendChild(div);\n",
              "\n",
              "      const buffers = [];\n",
              "      let downloaded = 0;\n",
              "\n",
              "      const channel = await google.colab.kernel.comms.open(id);\n",
              "      // Send a message to notify the kernel that we're ready.\n",
              "      channel.send({})\n",
              "\n",
              "      for await (const message of channel.messages) {\n",
              "        // Send a message to notify the kernel that we're ready.\n",
              "        channel.send({})\n",
              "        if (message.buffers) {\n",
              "          for (const buffer of message.buffers) {\n",
              "            buffers.push(buffer);\n",
              "            downloaded += buffer.byteLength;\n",
              "            progress.value = downloaded;\n",
              "          }\n",
              "        }\n",
              "      }\n",
              "      const blob = new Blob(buffers, {type: 'application/binary'});\n",
              "      const a = document.createElement('a');\n",
              "      a.href = window.URL.createObjectURL(blob);\n",
              "      a.download = filename;\n",
              "      div.appendChild(a);\n",
              "      a.click();\n",
              "      div.remove();\n",
              "    }\n",
              "  "
            ],
            "text/plain": [
              "<IPython.core.display.Javascript object>"
            ]
          },
          "metadata": {
            "tags": []
          }
        },
        {
          "output_type": "display_data",
          "data": {
            "application/javascript": [
              "download(\"download_91f2ed42-e55c-4b9e-a386-79466b957071\", \"final_df.csv\", 266)"
            ],
            "text/plain": [
              "<IPython.core.display.Javascript object>"
            ]
          },
          "metadata": {
            "tags": []
          }
        },
        {
          "output_type": "display_data",
          "data": {
            "application/javascript": [
              "\n",
              "    async function download(id, filename, size) {\n",
              "      if (!google.colab.kernel.accessAllowed) {\n",
              "        return;\n",
              "      }\n",
              "      const div = document.createElement('div');\n",
              "      const label = document.createElement('label');\n",
              "      label.textContent = `Downloading \"${filename}\": `;\n",
              "      div.appendChild(label);\n",
              "      const progress = document.createElement('progress');\n",
              "      progress.max = size;\n",
              "      div.appendChild(progress);\n",
              "      document.body.appendChild(div);\n",
              "\n",
              "      const buffers = [];\n",
              "      let downloaded = 0;\n",
              "\n",
              "      const channel = await google.colab.kernel.comms.open(id);\n",
              "      // Send a message to notify the kernel that we're ready.\n",
              "      channel.send({})\n",
              "\n",
              "      for await (const message of channel.messages) {\n",
              "        // Send a message to notify the kernel that we're ready.\n",
              "        channel.send({})\n",
              "        if (message.buffers) {\n",
              "          for (const buffer of message.buffers) {\n",
              "            buffers.push(buffer);\n",
              "            downloaded += buffer.byteLength;\n",
              "            progress.value = downloaded;\n",
              "          }\n",
              "        }\n",
              "      }\n",
              "      const blob = new Blob(buffers, {type: 'application/binary'});\n",
              "      const a = document.createElement('a');\n",
              "      a.href = window.URL.createObjectURL(blob);\n",
              "      a.download = filename;\n",
              "      div.appendChild(a);\n",
              "      a.click();\n",
              "      div.remove();\n",
              "    }\n",
              "  "
            ],
            "text/plain": [
              "<IPython.core.display.Javascript object>"
            ]
          },
          "metadata": {
            "tags": []
          }
        },
        {
          "output_type": "display_data",
          "data": {
            "application/javascript": [
              "download(\"download_8fba7b6f-1653-4c2d-8677-c840b7f11dbd\", \"df_modified.csv\", 1072612)"
            ],
            "text/plain": [
              "<IPython.core.display.Javascript object>"
            ]
          },
          "metadata": {
            "tags": []
          }
        }
      ]
    }
  ]
}