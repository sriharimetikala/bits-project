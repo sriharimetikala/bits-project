{
  "nbformat": 4,
  "nbformat_minor": 0,
  "metadata": {
    "colab": {
      "name": "webScrap.ipynb",
      "provenance": [],
      "collapsed_sections": []
    },
    "kernelspec": {
      "name": "python3",
      "display_name": "Python 3"
    },
    "language_info": {
      "name": "python"
    }
  },
  "cells": [
    {
      "cell_type": "markdown",
      "metadata": {
        "id": "m-AWpFmzSb2v"
      },
      "source": [
        "#**Import the libraries**\n"
      ]
    },
    {
      "cell_type": "code",
      "metadata": {
        "id": "1_dtjsia8Sdq"
      },
      "source": [
        "from bs4 import BeautifulSoup\n",
        "import requests\n",
        "import pandas as pd\n",
        "!pip install -U -q PyDrive\n",
        "from pydrive.auth import GoogleAuth\n",
        "from pydrive.drive import GoogleDrive\n",
        "from google.colab import auth\n",
        "from google.colab import files\n",
        "from oauth2client.client import GoogleCredentials\n",
        "from google.colab import files\n",
        "\n",
        "auth.authenticate_user()\n",
        "gauth = GoogleAuth()\n",
        "gauth.credentials = GoogleCredentials.get_application_default()\n",
        "drive = GoogleDrive(gauth)"
      ],
      "execution_count": null,
      "outputs": []
    },
    {
      "cell_type": "code",
      "metadata": {
        "id": "ThdDOkdI8pQT"
      },
      "source": [
        "A=[]\n",
        "B=[]\n",
        "C=[]\n",
        "D=[]\n",
        "E=[]\n",
        "F=[]"
      ],
      "execution_count": null,
      "outputs": []
    },
    {
      "cell_type": "markdown",
      "metadata": {
        "id": "M0Epexmf80Ef"
      },
      "source": [
        "#**Create empty lists for holding the intermediate results. List A will hold Restaurant name, B will hold area name, C- city name, D-rating, E-Recommendations, F- # of Reviews, G-cost for two**"
      ]
    },
    {
      "cell_type": "markdown",
      "metadata": {
        "id": "C5trlwLL9WBq"
      },
      "source": [
        "#**The scraper is going to store each web page's URL in a list url list. Then our scraper will visit each URL and load the source code of the page into right_table (this is known as web crawling) then from the source code, the scraper will scrape the data.**"
      ]
    },
    {
      "cell_type": "code",
      "metadata": {
        "id": "Xupqi_zsDu1e"
      },
      "source": [
        "#url_list=['http://www.mouthshut.com/restaurants']\n",
        "url_list=['https://www.mouthshut.com/Online-Shopping-ProID-925153']\n",
        "for url in url_list:\n",
        "    r=requests.get(url)\n",
        "    data=r.text\n",
        "\n",
        "    soup = BeautifulSoup(data, \"lxml\")\n",
        "    links=soup.find_all('li',class_='page-item next')\n",
        "    for link in links:\n",
        "        cells = link.findAll('a',class_='page-link')\n",
        "        url_list.append('http://www.mouthshut.com' +cells[0].get('href'))\n",
        "    right_table=soup.find_all('div',class_='card-deck')\n",
        "    for table in right_table:\n",
        "        tbl1 = table.findAll('div',class_='listing-prod-card card list-view')\n",
        "        for row in tbl1:\n",
        "                cells = row.findAll('img',class_='image-object-fit-contain product-img b-lazy')\n",
        "                string_ans=cells[0].get('title')\n",
        "                A.append(string_ans.strip())\n",
        "                tb12 = row.findAll('span',class_ = 'rating-no')\n",
        "                if len(tb12)!=0:\n",
        "                     B.append (tb12[0].find(text=True))\n",
        "                tbl3 = row.findAll('span',class_='recommended-no')\n",
        "                if len(tbl3)!=0:\n",
        "                     C.append (tbl3[0].find(text=True))\n",
        "                tbl4 = row.findAll('a',class_='review-no')\n",
        "                if len(tbl4)!=0:\n",
        "                     D.append (tbl4[0].find(text=True))\n",
        "                tb15 = row.findAll('a',class_='product-img')\n",
        "                reviewIds=tb15[0].get('href')\n",
        "                E.append(reviewIds[reviewIds.rindex(\"-\")+1:len(reviewIds)])"
      ],
      "execution_count": null,
      "outputs": []
    },
    {
      "cell_type": "markdown",
      "metadata": {
        "id": "pml3SlJg-e9j"
      },
      "source": [
        "#**Paring the HTML source code using HTML tags and appending the data into the**\n",
        "\n",
        "*   List item\n",
        "*   List item\n",
        "\n",
        "pre-defined lists"
      ]
    },
    {
      "cell_type": "code",
      "metadata": {
        "id": "eV_VURXN-fVi"
      },
      "source": [
        "df=pd.DataFrame(A, columns=['EcommerceSite'])\n",
        "df['Rating']=B\n",
        "df['Recommends']=C\n",
        "df['Reviews']=D\n",
        "df['ReviewId']=E         "
      ],
      "execution_count": null,
      "outputs": []
    },
    {
      "cell_type": "code",
      "metadata": {
        "id": "qkRaBrd5CjFw",
        "colab": {
          "base_uri": "https://localhost:8080/",
          "height": 423
        },
        "outputId": "61ab708f-4bb2-4f55-8f2c-cdd83fd55580"
      },
      "source": [
        "df.head(100)"
      ],
      "execution_count": null,
      "outputs": [
        {
          "output_type": "execute_result",
          "data": {
            "text/html": [
              "<div>\n",
              "<style scoped>\n",
              "    .dataframe tbody tr th:only-of-type {\n",
              "        vertical-align: middle;\n",
              "    }\n",
              "\n",
              "    .dataframe tbody tr th {\n",
              "        vertical-align: top;\n",
              "    }\n",
              "\n",
              "    .dataframe thead th {\n",
              "        text-align: right;\n",
              "    }\n",
              "</style>\n",
              "<table border=\"1\" class=\"dataframe\">\n",
              "  <thead>\n",
              "    <tr style=\"text-align: right;\">\n",
              "      <th></th>\n",
              "      <th>EcommerceSite</th>\n",
              "      <th>Rating</th>\n",
              "      <th>Recommends</th>\n",
              "      <th>Reviews</th>\n",
              "      <th>ReviewId</th>\n",
              "    </tr>\n",
              "  </thead>\n",
              "  <tbody>\n",
              "    <tr>\n",
              "      <th>0</th>\n",
              "      <td>Kwabey.com</td>\n",
              "      <td>1</td>\n",
              "      <td>1%</td>\n",
              "      <td>(166 Votes)</td>\n",
              "      <td>926052043</td>\n",
              "    </tr>\n",
              "    <tr>\n",
              "      <th>1</th>\n",
              "      <td>Tkameez.com</td>\n",
              "      <td>1</td>\n",
              "      <td>1%</td>\n",
              "      <td>(3 Votes)</td>\n",
              "      <td>926033828</td>\n",
              "    </tr>\n",
              "    <tr>\n",
              "      <th>2</th>\n",
              "      <td>Ulykshop.in</td>\n",
              "      <td>0</td>\n",
              "      <td>0%</td>\n",
              "      <td>(0 Votes)</td>\n",
              "      <td>926086405</td>\n",
              "    </tr>\n",
              "    <tr>\n",
              "      <th>3</th>\n",
              "      <td>Kaya Care Ayurveda</td>\n",
              "      <td>1</td>\n",
              "      <td>1%</td>\n",
              "      <td>(1 Vote)</td>\n",
              "      <td>926049281</td>\n",
              "    </tr>\n",
              "    <tr>\n",
              "      <th>4</th>\n",
              "      <td>Peachmode.com</td>\n",
              "      <td>1.12</td>\n",
              "      <td>3%</td>\n",
              "      <td>(2,045 Votes)</td>\n",
              "      <td>925738545</td>\n",
              "    </tr>\n",
              "    <tr>\n",
              "      <th>...</th>\n",
              "      <td>...</td>\n",
              "      <td>...</td>\n",
              "      <td>...</td>\n",
              "      <td>...</td>\n",
              "      <td>...</td>\n",
              "    </tr>\n",
              "    <tr>\n",
              "      <th>95</th>\n",
              "      <td>Tharakansdutypaid.com</td>\n",
              "      <td>0</td>\n",
              "      <td>0%</td>\n",
              "      <td>(0 Votes)</td>\n",
              "      <td>926091308</td>\n",
              "    </tr>\n",
              "    <tr>\n",
              "      <th>96</th>\n",
              "      <td>Rustictown.com</td>\n",
              "      <td>0</td>\n",
              "      <td>0%</td>\n",
              "      <td>(0 Votes)</td>\n",
              "      <td>926091095</td>\n",
              "    </tr>\n",
              "    <tr>\n",
              "      <th>97</th>\n",
              "      <td>Afcfurniture.in</td>\n",
              "      <td>0</td>\n",
              "      <td>0%</td>\n",
              "      <td>(0 Votes)</td>\n",
              "      <td>926090220</td>\n",
              "    </tr>\n",
              "    <tr>\n",
              "      <th>98</th>\n",
              "      <td>Culttrendy.com</td>\n",
              "      <td>5</td>\n",
              "      <td>100%</td>\n",
              "      <td>(1 Vote)</td>\n",
              "      <td>926090219</td>\n",
              "    </tr>\n",
              "    <tr>\n",
              "      <th>99</th>\n",
              "      <td>Mtechtoner.com</td>\n",
              "      <td>3</td>\n",
              "      <td>100%</td>\n",
              "      <td>(1 Vote)</td>\n",
              "      <td>926090218</td>\n",
              "    </tr>\n",
              "  </tbody>\n",
              "</table>\n",
              "<p>100 rows × 5 columns</p>\n",
              "</div>"
            ],
            "text/plain": [
              "            EcommerceSite Rating Recommends        Reviews   ReviewId\n",
              "0              Kwabey.com      1         1%    (166 Votes)  926052043\n",
              "1             Tkameez.com      1         1%      (3 Votes)  926033828\n",
              "2             Ulykshop.in      0         0%      (0 Votes)  926086405\n",
              "3      Kaya Care Ayurveda      1         1%       (1 Vote)  926049281\n",
              "4           Peachmode.com   1.12         3%  (2,045 Votes)  925738545\n",
              "..                    ...    ...        ...            ...        ...\n",
              "95  Tharakansdutypaid.com      0         0%      (0 Votes)  926091308\n",
              "96         Rustictown.com      0         0%      (0 Votes)  926091095\n",
              "97        Afcfurniture.in      0         0%      (0 Votes)  926090220\n",
              "98         Culttrendy.com      5       100%       (1 Vote)  926090219\n",
              "99         Mtechtoner.com      3       100%       (1 Vote)  926090218\n",
              "\n",
              "[100 rows x 5 columns]"
            ]
          },
          "metadata": {
            "tags": []
          },
          "execution_count": 56
        }
      ]
    },
    {
      "cell_type": "code",
      "metadata": {
        "id": "rD0VlAb-rjzJ"
      },
      "source": [
        "def getReview(cname,cid,df):\n",
        "      A1=[]\n",
        "      B1=[]\n",
        "      C1=[]\n",
        "      D1=[]\n",
        "      E1=[]\n",
        "      F1=[]\n",
        "      G1=[]\n",
        "      for x in range(0, 80):\n",
        "              if x == 1:\n",
        "                  URL = \"https://www.mouthshut.com/Review/rar_reviews.aspx?cname=\"+cname+\"&cid=\"+cid\n",
        "              else:\n",
        "                  URL = \"https://www.mouthshut.com/Review/rar_reviews.aspx?cname=\"+cname+\"&cid=\"+cid+\"&page={}\".format(x)\n",
        "                  #URL = \"https://www.mouthshut.com/Review/rar_reviews.aspx?\"+cname+\"-reviews-\"+cid+\"-page-{}\".format(x)\n",
        "              r = requests.get(URL)\n",
        "              soup = BeautifulSoup(r.content, 'html.parser')\n",
        "              reviews = []  # a list to store reviews\n",
        "\n",
        "              # i'm not going to use CSS selectors\n",
        "              review_divs = soup.find_all('div', class_='row review-article')\n",
        "              for review_div1 in review_divs :\n",
        "                  review_div=review_div1.find('div', class_='col-10 review')\n",
        "                  title_anchor = review_div.find('a')\n",
        "                  if len(title_anchor)!=0:\n",
        "                      title_text = title_anchor.find(text=True)\n",
        "                      title_url = title_anchor['href']\n",
        "                      rating_div = review_div.find('div', class_='rating')\n",
        "                      rating_stars = len(rating_div.find_all('i', class_='icon-rating rated-star'))\n",
        "                      views = rating_div.find('span', class_='total-views').find('span', class_='views').text\n",
        "                      date = review_div.find('div', class_='rating').find_all('span')[1].text.strip()\n",
        "                      review_text = review_div.find('div', class_='more reviewdata').text.strip()\n",
        "                      review_text = review_text.replace('\\n', ' ')\n",
        "                      A1.append(title_text)\n",
        "                      B1.append(title_url)\n",
        "                      C1.append(rating_stars)\n",
        "                      D1.append(date)\n",
        "                      E1.append(views)\n",
        "                      F1.append(review_text)\n",
        "                      G1.append(cid)\n",
        "      df_reviews=pd.DataFrame(A1, columns=['title_text'])\n",
        "      df_reviews['title_url']=B1\n",
        "      df_reviews['rating']=C1\n",
        "      df_reviews['date']=D1\n",
        "      df_reviews['views']=E1\n",
        "      df_reviews['review_text']=F1\n",
        "      df_reviews['reviewId']=G1\n",
        "      df=pd.concat([df, df_reviews], axis=0)\n",
        "      return df;"
      ],
      "execution_count": null,
      "outputs": []
    },
    {
      "cell_type": "code",
      "metadata": {
        "colab": {
          "base_uri": "https://localhost:8080/",
          "height": 597
        },
        "id": "EfLUV12dlXUh",
        "outputId": "0ba2e1d0-e5c0-4889-e086-3f190062d77d"
      },
      "source": [
        "reviews_df = pd.DataFrame(columns=['title_text','title_url','rating','date','views','review_text','reviewId'])\n",
        "for ind in df.index:\n",
        "     reviews_df=getReview(str(df['EcommerceSite'][ind]).replace('.','-'),df['ReviewId'][ind],reviews_df)\n",
        "#reviews_df=getReview('Flipkart-com','925076148',reviews_df)\n",
        "reviews_df.head(200)     "
      ],
      "execution_count": null,
      "outputs": [
        {
          "output_type": "execute_result",
          "data": {
            "text/html": [
              "<div>\n",
              "<style scoped>\n",
              "    .dataframe tbody tr th:only-of-type {\n",
              "        vertical-align: middle;\n",
              "    }\n",
              "\n",
              "    .dataframe tbody tr th {\n",
              "        vertical-align: top;\n",
              "    }\n",
              "\n",
              "    .dataframe thead th {\n",
              "        text-align: right;\n",
              "    }\n",
              "</style>\n",
              "<table border=\"1\" class=\"dataframe\">\n",
              "  <thead>\n",
              "    <tr style=\"text-align: right;\">\n",
              "      <th></th>\n",
              "      <th>title_text</th>\n",
              "      <th>title_url</th>\n",
              "      <th>rating</th>\n",
              "      <th>date</th>\n",
              "      <th>views</th>\n",
              "      <th>review_text</th>\n",
              "      <th>reviewId</th>\n",
              "    </tr>\n",
              "  </thead>\n",
              "  <tbody>\n",
              "    <tr>\n",
              "      <th>0</th>\n",
              "      <td>Flipkart not provide service</td>\n",
              "      <td>https://www.mouthshut.com/review/Flipkart-com-...</td>\n",
              "      <td>3</td>\n",
              "      <td>10 hrs 58 mins  ago</td>\n",
              "      <td>131 Views</td>\n",
              "      <td>Flipkart not delivered thinks in even smoll to...</td>\n",
              "      <td>925076148</td>\n",
              "    </tr>\n",
              "    <tr>\n",
              "      <th>1</th>\n",
              "      <td>Account has not working</td>\n",
              "      <td>https://www.mouthshut.com/review/Flipkart-com-...</td>\n",
              "      <td>3</td>\n",
              "      <td>1 day ago</td>\n",
              "      <td>149 Views</td>\n",
              "      <td>Dear sirMy account not working please re-activ...</td>\n",
              "      <td>925076148</td>\n",
              "    </tr>\n",
              "    <tr>\n",
              "      <th>2</th>\n",
              "      <td>Painted black rice</td>\n",
              "      <td>https://www.mouthshut.com/review/Flipkart-com-...</td>\n",
              "      <td>1</td>\n",
              "      <td>2 days ago</td>\n",
              "      <td>245 Views</td>\n",
              "      <td>POISON! When I opened the packet there was a s...</td>\n",
              "      <td>925076148</td>\n",
              "    </tr>\n",
              "    <tr>\n",
              "      <th>3</th>\n",
              "      <td>Its a Flopkart</td>\n",
              "      <td>https://www.mouthshut.com/review/Flipkart-com-...</td>\n",
              "      <td>1</td>\n",
              "      <td>2 days ago</td>\n",
              "      <td>220 Views</td>\n",
              "      <td>Mostly you are on luck when you order from Fli...</td>\n",
              "      <td>925076148</td>\n",
              "    </tr>\n",
              "    <tr>\n",
              "      <th>4</th>\n",
              "      <td>Flipkart failed to deliver my order</td>\n",
              "      <td>https://www.mouthshut.com/review/Flipkart-com-...</td>\n",
              "      <td>1</td>\n",
              "      <td>3 days ago</td>\n",
              "      <td>217 Views</td>\n",
              "      <td>Flipkart failed to deliver my order twice and ...</td>\n",
              "      <td>925076148</td>\n",
              "    </tr>\n",
              "    <tr>\n",
              "      <th>...</th>\n",
              "      <td>...</td>\n",
              "      <td>...</td>\n",
              "      <td>...</td>\n",
              "      <td>...</td>\n",
              "      <td>...</td>\n",
              "      <td>...</td>\n",
              "      <td>...</td>\n",
              "    </tr>\n",
              "    <tr>\n",
              "      <th>195</th>\n",
              "      <td>Froud from FLIPKART</td>\n",
              "      <td>https://www.mouthshut.com/review/Flipkart-com-...</td>\n",
              "      <td>1</td>\n",
              "      <td>Mar 27, 2021 09:47 PM</td>\n",
              "      <td>742 Views</td>\n",
              "      <td>I have received voto brand mobile phone ..phon...</td>\n",
              "      <td>925076148</td>\n",
              "    </tr>\n",
              "    <tr>\n",
              "      <th>196</th>\n",
              "      <td>Worst experience in flipkart</td>\n",
              "      <td>https://www.mouthshut.com/review/Flipkart-com-...</td>\n",
              "      <td>1</td>\n",
              "      <td>Mar 26, 2021 07:39 AM</td>\n",
              "      <td>685 Views</td>\n",
              "      <td>3weeks back I have ordered new laptop for my n...</td>\n",
              "      <td>925076148</td>\n",
              "    </tr>\n",
              "    <tr>\n",
              "      <th>197</th>\n",
              "      <td>Flipkart services have gone south</td>\n",
              "      <td>https://www.mouthshut.com/review/Flipkart-com-...</td>\n",
              "      <td>1</td>\n",
              "      <td>Mar 25, 2021 07:41 PM</td>\n",
              "      <td>792 Views</td>\n",
              "      <td>Flipkart has been slipping on its services. Th...</td>\n",
              "      <td>925076148</td>\n",
              "    </tr>\n",
              "    <tr>\n",
              "      <th>198</th>\n",
              "      <td>Very poor service of flipkart Currier partner ...</td>\n",
              "      <td>https://www.mouthshut.com/review/Flipkart-com-...</td>\n",
              "      <td>1</td>\n",
              "      <td>Mar 25, 2021 01:43 PM</td>\n",
              "      <td>682 Views</td>\n",
              "      <td>I bought a mobile phone POCO M3 which tracking...</td>\n",
              "      <td>925076148</td>\n",
              "    </tr>\n",
              "    <tr>\n",
              "      <th>199</th>\n",
              "      <td>Do Not Trust Flipkart</td>\n",
              "      <td>https://www.mouthshut.com/review/Flipkart-com-...</td>\n",
              "      <td>1</td>\n",
              "      <td>Mar 23, 2021 11:24 AM</td>\n",
              "      <td>827 Views</td>\n",
              "      <td>I bought A split ac of Voltas(Order ID - OD121...</td>\n",
              "      <td>925076148</td>\n",
              "    </tr>\n",
              "  </tbody>\n",
              "</table>\n",
              "<p>200 rows × 7 columns</p>\n",
              "</div>"
            ],
            "text/plain": [
              "                                            title_text  ...   reviewId\n",
              "0                         Flipkart not provide service  ...  925076148\n",
              "1                              Account has not working  ...  925076148\n",
              "2                                   Painted black rice  ...  925076148\n",
              "3                                       Its a Flopkart  ...  925076148\n",
              "4                  Flipkart failed to deliver my order  ...  925076148\n",
              "..                                                 ...  ...        ...\n",
              "195                                Froud from FLIPKART  ...  925076148\n",
              "196                       Worst experience in flipkart  ...  925076148\n",
              "197                  Flipkart services have gone south  ...  925076148\n",
              "198  Very poor service of flipkart Currier partner ...  ...  925076148\n",
              "199                              Do Not Trust Flipkart  ...  925076148\n",
              "\n",
              "[200 rows x 7 columns]"
            ]
          },
          "metadata": {
            "tags": []
          },
          "execution_count": 96
        }
      ]
    },
    {
      "cell_type": "code",
      "metadata": {
        "id": "gSIrQ7-8gfm8",
        "colab": {
          "base_uri": "https://localhost:8080/",
          "height": 52
        },
        "outputId": "cd464987-085f-496d-cb88-9c01dc1064f5"
      },
      "source": [
        "reviews_df.to_csv('df_reviews.csv', index = False)\n",
        "df.to_csv('df_site_reviews.csv', index = False)\n",
        "files.download(\"df_reviews.csv\")\n",
        "files.download(\"df_site_reviews.csv\")"
      ],
      "execution_count": null,
      "outputs": [
        {
          "output_type": "display_data",
          "data": {
            "application/javascript": [
              "\n",
              "    async function download(id, filename, size) {\n",
              "      if (!google.colab.kernel.accessAllowed) {\n",
              "        return;\n",
              "      }\n",
              "      const div = document.createElement('div');\n",
              "      const label = document.createElement('label');\n",
              "      label.textContent = `Downloading \"${filename}\": `;\n",
              "      div.appendChild(label);\n",
              "      const progress = document.createElement('progress');\n",
              "      progress.max = size;\n",
              "      div.appendChild(progress);\n",
              "      document.body.appendChild(div);\n",
              "\n",
              "      const buffers = [];\n",
              "      let downloaded = 0;\n",
              "\n",
              "      const channel = await google.colab.kernel.comms.open(id);\n",
              "      // Send a message to notify the kernel that we're ready.\n",
              "      channel.send({})\n",
              "\n",
              "      for await (const message of channel.messages) {\n",
              "        // Send a message to notify the kernel that we're ready.\n",
              "        channel.send({})\n",
              "        if (message.buffers) {\n",
              "          for (const buffer of message.buffers) {\n",
              "            buffers.push(buffer);\n",
              "            downloaded += buffer.byteLength;\n",
              "            progress.value = downloaded;\n",
              "          }\n",
              "        }\n",
              "      }\n",
              "      const blob = new Blob(buffers, {type: 'application/binary'});\n",
              "      const a = document.createElement('a');\n",
              "      a.href = window.URL.createObjectURL(blob);\n",
              "      a.download = filename;\n",
              "      div.appendChild(a);\n",
              "      a.click();\n",
              "      div.remove();\n",
              "    }\n",
              "  "
            ],
            "text/plain": [
              "<IPython.core.display.Javascript object>"
            ]
          },
          "metadata": {
            "tags": []
          }
        },
        {
          "output_type": "display_data",
          "data": {
            "application/javascript": [
              "download(\"download_d1291ebc-ac24-4433-b5b2-909bb9bbfa23\", \"df_reviews.csv\", 1194377)"
            ],
            "text/plain": [
              "<IPython.core.display.Javascript object>"
            ]
          },
          "metadata": {
            "tags": []
          }
        },
        {
          "output_type": "display_data",
          "data": {
            "application/javascript": [
              "\n",
              "    async function download(id, filename, size) {\n",
              "      if (!google.colab.kernel.accessAllowed) {\n",
              "        return;\n",
              "      }\n",
              "      const div = document.createElement('div');\n",
              "      const label = document.createElement('label');\n",
              "      label.textContent = `Downloading \"${filename}\": `;\n",
              "      div.appendChild(label);\n",
              "      const progress = document.createElement('progress');\n",
              "      progress.max = size;\n",
              "      div.appendChild(progress);\n",
              "      document.body.appendChild(div);\n",
              "\n",
              "      const buffers = [];\n",
              "      let downloaded = 0;\n",
              "\n",
              "      const channel = await google.colab.kernel.comms.open(id);\n",
              "      // Send a message to notify the kernel that we're ready.\n",
              "      channel.send({})\n",
              "\n",
              "      for await (const message of channel.messages) {\n",
              "        // Send a message to notify the kernel that we're ready.\n",
              "        channel.send({})\n",
              "        if (message.buffers) {\n",
              "          for (const buffer of message.buffers) {\n",
              "            buffers.push(buffer);\n",
              "            downloaded += buffer.byteLength;\n",
              "            progress.value = downloaded;\n",
              "          }\n",
              "        }\n",
              "      }\n",
              "      const blob = new Blob(buffers, {type: 'application/binary'});\n",
              "      const a = document.createElement('a');\n",
              "      a.href = window.URL.createObjectURL(blob);\n",
              "      a.download = filename;\n",
              "      div.appendChild(a);\n",
              "      a.click();\n",
              "      div.remove();\n",
              "    }\n",
              "  "
            ],
            "text/plain": [
              "<IPython.core.display.Javascript object>"
            ]
          },
          "metadata": {
            "tags": []
          }
        },
        {
          "output_type": "display_data",
          "data": {
            "application/javascript": [
              "download(\"download_192fa148-a677-4574-8df9-ed9bdd3e650e\", \"df_site_reviews.csv\", 131196)"
            ],
            "text/plain": [
              "<IPython.core.display.Javascript object>"
            ]
          },
          "metadata": {
            "tags": []
          }
        }
      ]
    }
  ]
}