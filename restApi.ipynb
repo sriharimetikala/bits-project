{
  "nbformat": 4,
  "nbformat_minor": 0,
  "metadata": {
    "colab": {
      "name": "restApi.ipynb",
      "provenance": [],
      "collapsed_sections": []
    },
    "kernelspec": {
      "display_name": "Python 3",
      "name": "python3"
    },
    "language_info": {
      "name": "python"
    }
  },
  "cells": [
    {
      "cell_type": "code",
      "metadata": {
        "colab": {
          "base_uri": "https://localhost:8080/"
        },
        "id": "zE5Ccj-SePTj",
        "outputId": "91a40ef7-9793-4451-beb0-095d6415022c"
      },
      "source": [
        "!pip install flask-restful \n",
        "!pip install flask\n",
        "!pip install flask-ngrok\n",
        "#!pip install -U -q PyDrive\n",
        "#from pydrive.auth import GoogleAuth\n",
        "#from pydrive.drive import GoogleDrive\n",
        "#from google.colab import auth\n",
        "#from google.colab import files\n",
        "#from oauth2client.client import GoogleCredentials\n",
        "#from google.colab import files#\n",
        "#auth.authenticate_user()\n",
        "#gauth = GoogleAuth()\n",
        "#gauth.credentials = GoogleCredentials.get_application_default()\n",
        "#drive = GoogleDrive(gauth)\n",
        "#fileDownloaded = drive.CreateFile({'id':'1SSgb-wC724oTOJrPzSj98GHxFAndCLJK'})\n",
        "#fileDownloaded.GetContentFile('final_df.csv')\n",
        "\n",
        "!wget -O final_df.csv 'https://github.com/sriharimetikala/bits-project/blob/main/final_df.csv'"
      ],
      "execution_count": 21,
      "outputs": [
        {
          "output_type": "stream",
          "name": "stdout",
          "text": [
            "Requirement already satisfied: flask-restful in /usr/local/lib/python3.7/dist-packages (0.3.9)\n",
            "Requirement already satisfied: Flask>=0.8 in /usr/local/lib/python3.7/dist-packages (from flask-restful) (2.0.1)\n",
            "Requirement already satisfied: pytz in /usr/local/lib/python3.7/dist-packages (from flask-restful) (2018.9)\n",
            "Requirement already satisfied: six>=1.3.0 in /usr/local/lib/python3.7/dist-packages (from flask-restful) (1.15.0)\n",
            "Requirement already satisfied: aniso8601>=0.82 in /usr/local/lib/python3.7/dist-packages (from flask-restful) (9.0.1)\n",
            "Requirement already satisfied: itsdangerous>=2.0 in /usr/local/lib/python3.7/dist-packages (from Flask>=0.8->flask-restful) (2.0.1)\n",
            "Requirement already satisfied: Jinja2>=3.0 in /usr/local/lib/python3.7/dist-packages (from Flask>=0.8->flask-restful) (3.0.1)\n",
            "Requirement already satisfied: Werkzeug>=2.0 in /usr/local/lib/python3.7/dist-packages (from Flask>=0.8->flask-restful) (2.0.1)\n",
            "Requirement already satisfied: click>=7.1.2 in /usr/local/lib/python3.7/dist-packages (from Flask>=0.8->flask-restful) (7.1.2)\n",
            "Requirement already satisfied: MarkupSafe>=2.0 in /usr/local/lib/python3.7/dist-packages (from Jinja2>=3.0->Flask>=0.8->flask-restful) (2.0.1)\n",
            "Requirement already satisfied: flask in /usr/local/lib/python3.7/dist-packages (2.0.1)\n",
            "Requirement already satisfied: Jinja2>=3.0 in /usr/local/lib/python3.7/dist-packages (from flask) (3.0.1)\n",
            "Requirement already satisfied: itsdangerous>=2.0 in /usr/local/lib/python3.7/dist-packages (from flask) (2.0.1)\n",
            "Requirement already satisfied: click>=7.1.2 in /usr/local/lib/python3.7/dist-packages (from flask) (7.1.2)\n",
            "Requirement already satisfied: Werkzeug>=2.0 in /usr/local/lib/python3.7/dist-packages (from flask) (2.0.1)\n",
            "Requirement already satisfied: MarkupSafe>=2.0 in /usr/local/lib/python3.7/dist-packages (from Jinja2>=3.0->flask) (2.0.1)\n",
            "Requirement already satisfied: flask-ngrok in /usr/local/lib/python3.7/dist-packages (0.0.25)\n",
            "Requirement already satisfied: Flask>=0.8 in /usr/local/lib/python3.7/dist-packages (from flask-ngrok) (2.0.1)\n",
            "Requirement already satisfied: requests in /usr/local/lib/python3.7/dist-packages (from flask-ngrok) (2.23.0)\n",
            "Requirement already satisfied: itsdangerous>=2.0 in /usr/local/lib/python3.7/dist-packages (from Flask>=0.8->flask-ngrok) (2.0.1)\n",
            "Requirement already satisfied: click>=7.1.2 in /usr/local/lib/python3.7/dist-packages (from Flask>=0.8->flask-ngrok) (7.1.2)\n",
            "Requirement already satisfied: Jinja2>=3.0 in /usr/local/lib/python3.7/dist-packages (from Flask>=0.8->flask-ngrok) (3.0.1)\n",
            "Requirement already satisfied: Werkzeug>=2.0 in /usr/local/lib/python3.7/dist-packages (from Flask>=0.8->flask-ngrok) (2.0.1)\n",
            "Requirement already satisfied: MarkupSafe>=2.0 in /usr/local/lib/python3.7/dist-packages (from Jinja2>=3.0->Flask>=0.8->flask-ngrok) (2.0.1)\n",
            "Requirement already satisfied: idna<3,>=2.5 in /usr/local/lib/python3.7/dist-packages (from requests->flask-ngrok) (2.10)\n",
            "Requirement already satisfied: urllib3!=1.25.0,!=1.25.1,<1.26,>=1.21.1 in /usr/local/lib/python3.7/dist-packages (from requests->flask-ngrok) (1.24.3)\n",
            "Requirement already satisfied: certifi>=2017.4.17 in /usr/local/lib/python3.7/dist-packages (from requests->flask-ngrok) (2021.5.30)\n",
            "Requirement already satisfied: chardet<4,>=3.0.2 in /usr/local/lib/python3.7/dist-packages (from requests->flask-ngrok) (3.0.4)\n",
            "--2021-08-31 06:40:11--  https://github.com/sriharimetikala/bits-project/blob/main/final_df.csv\n",
            "Resolving github.com (github.com)... 13.114.40.48\n",
            "Connecting to github.com (github.com)|13.114.40.48|:443... connected.\n",
            "HTTP request sent, awaiting response... 200 OK\n",
            "Length: unspecified [text/html]\n",
            "Saving to: ‘final_df.csv’\n",
            "\n",
            "final_df.csv            [ <=>                ] 128.66K  --.-KB/s    in 0.1s    \n",
            "\n",
            "2021-08-31 06:40:11 (1.07 MB/s) - ‘final_df.csv’ saved [131744]\n",
            "\n"
          ]
        }
      ]
    },
    {
      "cell_type": "code",
      "metadata": {
        "colab": {
          "base_uri": "https://localhost:8080/"
        },
        "id": "7k1rZeOnezmD",
        "outputId": "acf8ee04-d14c-414e-871b-965343402d1a"
      },
      "source": [
        "!pip install Flask==2.0.1 torchvision==0.10.0"
      ],
      "execution_count": 22,
      "outputs": [
        {
          "output_type": "stream",
          "name": "stdout",
          "text": [
            "Requirement already satisfied: Flask==2.0.1 in /usr/local/lib/python3.7/dist-packages (2.0.1)\n",
            "Requirement already satisfied: torchvision==0.10.0 in /usr/local/lib/python3.7/dist-packages (0.10.0+cu102)\n",
            "Requirement already satisfied: click>=7.1.2 in /usr/local/lib/python3.7/dist-packages (from Flask==2.0.1) (7.1.2)\n",
            "Requirement already satisfied: itsdangerous>=2.0 in /usr/local/lib/python3.7/dist-packages (from Flask==2.0.1) (2.0.1)\n",
            "Requirement already satisfied: Jinja2>=3.0 in /usr/local/lib/python3.7/dist-packages (from Flask==2.0.1) (3.0.1)\n",
            "Requirement already satisfied: Werkzeug>=2.0 in /usr/local/lib/python3.7/dist-packages (from Flask==2.0.1) (2.0.1)\n",
            "Requirement already satisfied: numpy in /usr/local/lib/python3.7/dist-packages (from torchvision==0.10.0) (1.19.5)\n",
            "Requirement already satisfied: pillow>=5.3.0 in /usr/local/lib/python3.7/dist-packages (from torchvision==0.10.0) (7.1.2)\n",
            "Requirement already satisfied: torch==1.9.0 in /usr/local/lib/python3.7/dist-packages (from torchvision==0.10.0) (1.9.0+cu102)\n",
            "Requirement already satisfied: typing-extensions in /usr/local/lib/python3.7/dist-packages (from torch==1.9.0->torchvision==0.10.0) (3.7.4.3)\n",
            "Requirement already satisfied: MarkupSafe>=2.0 in /usr/local/lib/python3.7/dist-packages (from Jinja2>=3.0->Flask==2.0.1) (2.0.1)\n"
          ]
        }
      ]
    },
    {
      "cell_type": "code",
      "metadata": {
        "colab": {
          "base_uri": "https://localhost:8080/"
        },
        "id": "V8VeSsSLe2MO",
        "outputId": "6b79fd94-9ee7-4f3a-d669-11dde63395a4"
      },
      "source": [
        "from flask import *\n",
        "from flask_ngrok import run_with_ngrok\n",
        "import pandas as pd\n",
        "app = Flask(__name__)\n",
        "#app.config[\"DEBUG\"] = True\n",
        "df = pd.read_csv('final_df.csv',index_col= False, encoding = \"UTF-8\", error_bad_lines=False)\n",
        "@app.route('/review', methods=['GET'])\n",
        "def api_id():\n",
        "    # Check if an ID was provided as part of the URL.\n",
        "    # If ID is provided, assign it to a variable.\n",
        "    # If no ID is provided, display an error in the browser.\n",
        "    if 'id' in request.args:\n",
        "        id = str(request.args['id'])\n",
        "    else:\n",
        "        return \"Error: No id field provided. Please specify an id.\"\n",
        "    df_reviews = df[df['site_id']==id] \n",
        "    return df_reviews.to_json(orient='records')\n",
        "run_with_ngrok(app)\n",
        "app.run()"
      ],
      "execution_count": null,
      "outputs": [
        {
          "output_type": "stream",
          "name": "stdout",
          "text": [
            " * Serving Flask app '__main__' (lazy loading)\n",
            " * Environment: production\n",
            "\u001b[31m   WARNING: This is a development server. Do not use it in a production deployment.\u001b[0m\n",
            "\u001b[2m   Use a production WSGI server instead.\u001b[0m\n",
            " * Debug mode: off\n"
          ]
        },
        {
          "output_type": "stream",
          "name": "stderr",
          "text": [
            "b'Skipping line 100: expected 1 fields, saw 2\\nSkipping line 119: expected 1 fields, saw 344\\nSkipping line 120: expected 1 fields, saw 2\\nSkipping line 186: expected 1 fields, saw 3\\nSkipping line 198: expected 1 fields, saw 6\\nSkipping line 231: expected 1 fields, saw 4\\nSkipping line 235: expected 1 fields, saw 2\\nSkipping line 252: expected 1 fields, saw 2\\nSkipping line 253: expected 1 fields, saw 2\\nSkipping line 259: expected 1 fields, saw 2\\nSkipping line 262: expected 1 fields, saw 2\\nSkipping line 270: expected 1 fields, saw 4\\nSkipping line 276: expected 1 fields, saw 2\\nSkipping line 281: expected 1 fields, saw 2\\nSkipping line 282: expected 1 fields, saw 2\\nSkipping line 283: expected 1 fields, saw 2\\nSkipping line 284: expected 1 fields, saw 2\\nSkipping line 285: expected 1 fields, saw 2\\nSkipping line 291: expected 1 fields, saw 2\\nSkipping line 292: expected 1 fields, saw 2\\nSkipping line 293: expected 1 fields, saw 2\\nSkipping line 294: expected 1 fields, saw 2\\nSkipping line 301: expected 1 fields, saw 2\\nSkipping line 309: expected 1 fields, saw 4\\nSkipping line 314: expected 1 fields, saw 2\\nSkipping line 317: expected 1 fields, saw 2\\nSkipping line 318: expected 1 fields, saw 2\\nSkipping line 322: expected 1 fields, saw 2\\nSkipping line 343: expected 1 fields, saw 2\\nSkipping line 518: expected 1 fields, saw 6\\nSkipping line 519: expected 1 fields, saw 3\\nSkipping line 526: expected 1 fields, saw 6\\nSkipping line 527: expected 1 fields, saw 6\\nSkipping line 614: expected 1 fields, saw 6\\nSkipping line 623: expected 1 fields, saw 6\\nSkipping line 638: expected 1 fields, saw 6\\nSkipping line 663: expected 1 fields, saw 3\\nSkipping line 674: expected 1 fields, saw 3\\nSkipping line 685: expected 1 fields, saw 3\\nSkipping line 696: expected 1 fields, saw 3\\nSkipping line 707: expected 1 fields, saw 3\\nSkipping line 718: expected 1 fields, saw 3\\nSkipping line 729: expected 1 fields, saw 3\\nSkipping line 740: expected 1 fields, saw 3\\nSkipping line 996: expected 1 fields, saw 7\\nSkipping line 1059: expected 1 fields, saw 2\\nSkipping line 1153: expected 1 fields, saw 2\\nSkipping line 1156: expected 1 fields, saw 2\\nSkipping line 1188: expected 1 fields, saw 2\\nSkipping line 1190: expected 1 fields, saw 2\\nSkipping line 1289: expected 1 fields, saw 2\\nSkipping line 1290: expected 1 fields, saw 6\\nSkipping line 1291: expected 1 fields, saw 6\\nSkipping line 1292: expected 1 fields, saw 6\\nSkipping line 1293: expected 1 fields, saw 6\\nSkipping line 1294: expected 1 fields, saw 3\\nSkipping line 1303: expected 1 fields, saw 6\\nSkipping line 1304: expected 1 fields, saw 6\\nSkipping line 1305: expected 1 fields, saw 6\\nSkipping line 1306: expected 1 fields, saw 6\\nSkipping line 1307: expected 1 fields, saw 6\\nSkipping line 1308: expected 1 fields, saw 3\\n'\n",
            " * Running on http://127.0.0.1:5000/ (Press CTRL+C to quit)\n"
          ]
        },
        {
          "output_type": "stream",
          "name": "stdout",
          "text": [
            " * Running on http://1fa8-34-80-71-148.ngrok.io\n",
            " * Traffic stats available on http://127.0.0.1:4040\n"
          ]
        }
      ]
    }
  ]
}